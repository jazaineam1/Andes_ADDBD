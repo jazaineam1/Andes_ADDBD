{
  "cells": [
    {
      "cell_type": "markdown",
      "metadata": {
        "id": "mPcIAg6bNEWA"
      },
      "source": [
        "# ***Análisis de Datos y Big data***\n",
        "\n",
        "## ***Universidad de los Andes***\n",
        ">## **Dirección de Educación Continua.**\n",
        ">>## **Formación de habilidades escenciales.**\n",
        "\n",
        "![Imágen1](https://github.com/jazaineam1/Andes_ADDBD/blob/main/Imagenes/Presentaci%C3%B3n-removebg-preview.png?raw=true)\n",
        "\n",
        "**Ver la presentación  [acá](https://github.com/jazaineam1/Andes_ADDBD/raw/main/Sesion13/Clase13-Métricas_de_desmpeño_y_selección_de_modelos.pdf)**\n",
        "# **Regresión logística - Clasificación binaria**\n"
      ]
    },
    {
      "cell_type": "markdown",
      "metadata": {
        "id": "oXK_dsv5v7ni"
      },
      "source": [
        "\n",
        "Contamos con una [base de datos](https://www.kaggle.com/datasets/manishkumar7432698/airline-passangers-booking-data?resource=download) con **información de reservaciones de vuelos**. Algunas reservaciones son completadas efectivamente, y otras no.\n",
        "\n",
        "Para mejorar la experiencia de usuario, la aerolínea desea ofrecer una **promoción especial** a las reservas que usualmente solicitan alimentación durante el vuelo.\n",
        "\n",
        "Para esto, la idea es que antes de que un usuario indique querer alimentación durante el vuelo, la aerolínea le ofrezca unas entradas gratis. Esto debería mejorar las calificaciones de experiencia de reservación, mitigando los costos (no ofreciéndole comida gratis a todo el mundo).\n",
        "\n",
        "Para esto **queremos entrentar una máquina que prediga** qué reservaciones van a solicitar alimentación, a partir de otras características insertadas."
      ]
    },
    {
      "cell_type": "markdown",
      "metadata": {
        "id": "k2H22Rl4NUYE"
      },
      "source": [
        "## Carga y exploración inicial"
      ]
    },
    {
      "cell_type": "code",
      "execution_count": 1,
      "metadata": {
        "id": "u0TDau2KM4r-"
      },
      "outputs": [],
      "source": [
        "import pandas as pd\n",
        "import numpy as np\n",
        "from sklearn.linear_model import LogisticRegression\n",
        "from sklearn.linear_model import LinearRegression\n",
        "import matplotlib.pyplot as plt\n",
        "import seaborn as sns"
      ]
    },
    {
      "cell_type": "code",
      "execution_count": 2,
      "metadata": {
        "id": "G9lH6ClCeZEw"
      },
      "outputs": [],
      "source": [
        "booking = pd.read_csv(\"Passanger_booking_data.csv\")"
      ]
    },
    {
      "cell_type": "code",
      "execution_count": 3,
      "metadata": {
        "colab": {
          "base_uri": "https://localhost:8080/"
        },
        "id": "dFxH93Ufehjb",
        "outputId": "8b049210-9d7f-467b-b4cc-e39c649f8e2c"
      },
      "outputs": [
        {
          "name": "stdout",
          "output_type": "stream",
          "text": [
            "<class 'pandas.core.frame.DataFrame'>\n",
            "RangeIndex: 50002 entries, 0 to 50001\n",
            "Data columns (total 14 columns):\n",
            " #   Column                 Non-Null Count  Dtype  \n",
            "---  ------                 --------------  -----  \n",
            " 0   num_passengers         50002 non-null  int64  \n",
            " 1   sales_channel          50002 non-null  object \n",
            " 2   trip_type              50002 non-null  object \n",
            " 3   purchase_lead          50002 non-null  int64  \n",
            " 4   length_of_stay         50002 non-null  int64  \n",
            " 5   flight_hour            50002 non-null  int64  \n",
            " 6   flight_day             50002 non-null  object \n",
            " 7   route                  50002 non-null  object \n",
            " 8   booking_origin         50002 non-null  object \n",
            " 9   wants_extra_baggage    50002 non-null  int64  \n",
            " 10  wants_preferred_seat   50002 non-null  int64  \n",
            " 11  wants_in_flight_meals  50002 non-null  int64  \n",
            " 12  flight_duration        50002 non-null  float64\n",
            " 13  booking_complete       50002 non-null  int64  \n",
            "dtypes: float64(1), int64(8), object(5)\n",
            "memory usage: 5.3+ MB\n"
          ]
        }
      ],
      "source": [
        "booking.info()"
      ]
    },
    {
      "cell_type": "code",
      "execution_count": 4,
      "metadata": {
        "colab": {
          "base_uri": "https://localhost:8080/",
          "height": 226
        },
        "id": "uJnI5ikYekm7",
        "outputId": "cc44bd11-55f5-4965-feed-089e0973ccb4"
      },
      "outputs": [
        {
          "data": {
            "text/html": [
              "<div>\n",
              "<style scoped>\n",
              "    .dataframe tbody tr th:only-of-type {\n",
              "        vertical-align: middle;\n",
              "    }\n",
              "\n",
              "    .dataframe tbody tr th {\n",
              "        vertical-align: top;\n",
              "    }\n",
              "\n",
              "    .dataframe thead th {\n",
              "        text-align: right;\n",
              "    }\n",
              "</style>\n",
              "<table border=\"1\" class=\"dataframe\">\n",
              "  <thead>\n",
              "    <tr style=\"text-align: right;\">\n",
              "      <th></th>\n",
              "      <th>num_passengers</th>\n",
              "      <th>sales_channel</th>\n",
              "      <th>trip_type</th>\n",
              "      <th>purchase_lead</th>\n",
              "      <th>length_of_stay</th>\n",
              "      <th>flight_hour</th>\n",
              "      <th>flight_day</th>\n",
              "      <th>route</th>\n",
              "      <th>booking_origin</th>\n",
              "      <th>wants_extra_baggage</th>\n",
              "      <th>wants_preferred_seat</th>\n",
              "      <th>wants_in_flight_meals</th>\n",
              "      <th>flight_duration</th>\n",
              "      <th>booking_complete</th>\n",
              "    </tr>\n",
              "  </thead>\n",
              "  <tbody>\n",
              "    <tr>\n",
              "      <th>0</th>\n",
              "      <td>1</td>\n",
              "      <td>Internet</td>\n",
              "      <td>RoundTrip</td>\n",
              "      <td>21</td>\n",
              "      <td>12</td>\n",
              "      <td>6</td>\n",
              "      <td>Tue</td>\n",
              "      <td>AKLHGH</td>\n",
              "      <td>Australia</td>\n",
              "      <td>0</td>\n",
              "      <td>0</td>\n",
              "      <td>0</td>\n",
              "      <td>7.21</td>\n",
              "      <td>1</td>\n",
              "    </tr>\n",
              "    <tr>\n",
              "      <th>1</th>\n",
              "      <td>2</td>\n",
              "      <td>Internet</td>\n",
              "      <td>RoundTrip</td>\n",
              "      <td>262</td>\n",
              "      <td>19</td>\n",
              "      <td>7</td>\n",
              "      <td>Sat</td>\n",
              "      <td>AKLDEL</td>\n",
              "      <td>New Zealand</td>\n",
              "      <td>1</td>\n",
              "      <td>0</td>\n",
              "      <td>0</td>\n",
              "      <td>5.52</td>\n",
              "      <td>0</td>\n",
              "    </tr>\n",
              "    <tr>\n",
              "      <th>2</th>\n",
              "      <td>1</td>\n",
              "      <td>Internet</td>\n",
              "      <td>RoundTrip</td>\n",
              "      <td>112</td>\n",
              "      <td>20</td>\n",
              "      <td>3</td>\n",
              "      <td>Sat</td>\n",
              "      <td>AKLDEL</td>\n",
              "      <td>New Zealand</td>\n",
              "      <td>0</td>\n",
              "      <td>0</td>\n",
              "      <td>0</td>\n",
              "      <td>5.52</td>\n",
              "      <td>0</td>\n",
              "    </tr>\n",
              "    <tr>\n",
              "      <th>3</th>\n",
              "      <td>2</td>\n",
              "      <td>Internet</td>\n",
              "      <td>RoundTrip</td>\n",
              "      <td>243</td>\n",
              "      <td>22</td>\n",
              "      <td>17</td>\n",
              "      <td>Wed</td>\n",
              "      <td>AKLDEL</td>\n",
              "      <td>India</td>\n",
              "      <td>1</td>\n",
              "      <td>1</td>\n",
              "      <td>0</td>\n",
              "      <td>5.52</td>\n",
              "      <td>0</td>\n",
              "    </tr>\n",
              "    <tr>\n",
              "      <th>4</th>\n",
              "      <td>1</td>\n",
              "      <td>Internet</td>\n",
              "      <td>RoundTrip</td>\n",
              "      <td>96</td>\n",
              "      <td>31</td>\n",
              "      <td>4</td>\n",
              "      <td>Sat</td>\n",
              "      <td>AKLDEL</td>\n",
              "      <td>New Zealand</td>\n",
              "      <td>0</td>\n",
              "      <td>0</td>\n",
              "      <td>1</td>\n",
              "      <td>5.52</td>\n",
              "      <td>0</td>\n",
              "    </tr>\n",
              "  </tbody>\n",
              "</table>\n",
              "</div>"
            ],
            "text/plain": [
              "   num_passengers sales_channel  trip_type  purchase_lead  length_of_stay  \\\n",
              "0               1      Internet  RoundTrip             21              12   \n",
              "1               2      Internet  RoundTrip            262              19   \n",
              "2               1      Internet  RoundTrip            112              20   \n",
              "3               2      Internet  RoundTrip            243              22   \n",
              "4               1      Internet  RoundTrip             96              31   \n",
              "\n",
              "   flight_hour flight_day   route booking_origin  wants_extra_baggage  \\\n",
              "0            6        Tue  AKLHGH      Australia                    0   \n",
              "1            7        Sat  AKLDEL    New Zealand                    1   \n",
              "2            3        Sat  AKLDEL    New Zealand                    0   \n",
              "3           17        Wed  AKLDEL          India                    1   \n",
              "4            4        Sat  AKLDEL    New Zealand                    0   \n",
              "\n",
              "   wants_preferred_seat  wants_in_flight_meals  flight_duration  \\\n",
              "0                     0                      0             7.21   \n",
              "1                     0                      0             5.52   \n",
              "2                     0                      0             5.52   \n",
              "3                     1                      0             5.52   \n",
              "4                     0                      1             5.52   \n",
              "\n",
              "   booking_complete  \n",
              "0                 1  \n",
              "1                 0  \n",
              "2                 0  \n",
              "3                 0  \n",
              "4                 0  "
            ]
          },
          "execution_count": 4,
          "metadata": {},
          "output_type": "execute_result"
        }
      ],
      "source": [
        "booking.head()"
      ]
    },
    {
      "cell_type": "code",
      "execution_count": 5,
      "metadata": {
        "colab": {
          "base_uri": "https://localhost:8080/"
        },
        "id": "TBZYu0-GewFd",
        "outputId": "5268d97e-a3e9-4b31-db44-6f928e55ccdf"
      },
      "outputs": [
        {
          "data": {
            "text/plain": [
              "booking_complete\n",
              "0    42523\n",
              "1     7479\n",
              "Name: count, dtype: int64"
            ]
          },
          "execution_count": 5,
          "metadata": {},
          "output_type": "execute_result"
        }
      ],
      "source": [
        "booking['booking_complete'].value_counts()"
      ]
    },
    {
      "cell_type": "code",
      "execution_count": 6,
      "metadata": {
        "colab": {
          "base_uri": "https://localhost:8080/"
        },
        "id": "PYUtwdUse_qO",
        "outputId": "8a2f602b-97f8-4274-9799-16fb125cbe8c"
      },
      "outputs": [
        {
          "data": {
            "text/plain": [
              "sales_channel\n",
              "Internet    44383\n",
              "Mobile       5619\n",
              "Name: count, dtype: int64"
            ]
          },
          "execution_count": 6,
          "metadata": {},
          "output_type": "execute_result"
        }
      ],
      "source": [
        "booking['sales_channel'].value_counts()"
      ]
    },
    {
      "cell_type": "code",
      "execution_count": 7,
      "metadata": {
        "colab": {
          "base_uri": "https://localhost:8080/"
        },
        "id": "eexyHSkbfp0P",
        "outputId": "7f4903c0-41ff-4611-84c2-56dd83ca86de"
      },
      "outputs": [
        {
          "data": {
            "text/plain": [
              "trip_type\n",
              "RoundTrip     49498\n",
              "OneWay          387\n",
              "CircleTrip      117\n",
              "Name: count, dtype: int64"
            ]
          },
          "execution_count": 7,
          "metadata": {},
          "output_type": "execute_result"
        }
      ],
      "source": [
        "booking['trip_type'].value_counts()"
      ]
    },
    {
      "cell_type": "markdown",
      "metadata": {
        "id": "1TBeW9ItfKQy"
      },
      "source": [
        "## Predicción\n",
        "Vamos a utilizar un modelo lineal y uno logístico para predecir:\n",
        "\n",
        "* Si una reserva prefiere comidas en el vuelo\n",
        "\n",
        "A partir de las características de la reserva:\n",
        "\n",
        "* Si indica silla preferida\n",
        "* Si desea equipaje extra\n",
        "* Longitud de la estadía"
      ]
    },
    {
      "cell_type": "code",
      "execution_count": 8,
      "metadata": {
        "colab": {
          "base_uri": "https://localhost:8080/",
          "height": 591
        },
        "id": "uK2nw2dif_6X",
        "outputId": "463fda57-5993-471a-842c-e0afad28dcdf"
      },
      "outputs": [
        {
          "data": {
            "text/plain": [
              "<Axes: >"
            ]
          },
          "execution_count": 8,
          "metadata": {},
          "output_type": "execute_result"
        },
        {
          "data": {
            "image/png": "[encoded data removed]",
            "text/plain": [
              "<Figure size 640x480 with 2 Axes>"
            ]
          },
          "metadata": {},
          "output_type": "display_data"
        }
      ],
      "source": [
        "sns.heatmap(booking[[\"booking_complete\",\"flight_duration\",'wants_preferred_seat', 'wants_extra_baggage', 'length_of_stay']].corr())"
      ]
    },
    {
      "cell_type": "code",
      "execution_count": 9,
      "metadata": {
        "id": "83CnQZbrhjqR"
      },
      "outputs": [],
      "source": [
        "X = booking[['wants_preferred_seat', 'wants_extra_baggage', 'length_of_stay']]\n",
        "y = booking['wants_in_flight_meals']"
      ]
    },
    {
      "cell_type": "code",
      "execution_count": 10,
      "metadata": {
        "colab": {
          "base_uri": "https://localhost:8080/",
          "height": 206
        },
        "id": "5TKmS3C-imaX",
        "outputId": "5d6114d9-fb4c-4aeb-bf44-a1a4bf79b099"
      },
      "outputs": [
        {
          "data": {
            "text/html": [
              "<div>\n",
              "<style scoped>\n",
              "    .dataframe tbody tr th:only-of-type {\n",
              "        vertical-align: middle;\n",
              "    }\n",
              "\n",
              "    .dataframe tbody tr th {\n",
              "        vertical-align: top;\n",
              "    }\n",
              "\n",
              "    .dataframe thead th {\n",
              "        text-align: right;\n",
              "    }\n",
              "</style>\n",
              "<table border=\"1\" class=\"dataframe\">\n",
              "  <thead>\n",
              "    <tr style=\"text-align: right;\">\n",
              "      <th></th>\n",
              "      <th>wants_preferred_seat</th>\n",
              "      <th>wants_extra_baggage</th>\n",
              "      <th>length_of_stay</th>\n",
              "    </tr>\n",
              "  </thead>\n",
              "  <tbody>\n",
              "    <tr>\n",
              "      <th>0</th>\n",
              "      <td>0</td>\n",
              "      <td>0</td>\n",
              "      <td>12</td>\n",
              "    </tr>\n",
              "    <tr>\n",
              "      <th>1</th>\n",
              "      <td>0</td>\n",
              "      <td>1</td>\n",
              "      <td>19</td>\n",
              "    </tr>\n",
              "    <tr>\n",
              "      <th>2</th>\n",
              "      <td>0</td>\n",
              "      <td>0</td>\n",
              "      <td>20</td>\n",
              "    </tr>\n",
              "    <tr>\n",
              "      <th>3</th>\n",
              "      <td>1</td>\n",
              "      <td>1</td>\n",
              "      <td>22</td>\n",
              "    </tr>\n",
              "    <tr>\n",
              "      <th>4</th>\n",
              "      <td>0</td>\n",
              "      <td>0</td>\n",
              "      <td>31</td>\n",
              "    </tr>\n",
              "  </tbody>\n",
              "</table>\n",
              "</div>"
            ],
            "text/plain": [
              "   wants_preferred_seat  wants_extra_baggage  length_of_stay\n",
              "0                     0                    0              12\n",
              "1                     0                    1              19\n",
              "2                     0                    0              20\n",
              "3                     1                    1              22\n",
              "4                     0                    0              31"
            ]
          },
          "execution_count": 10,
          "metadata": {},
          "output_type": "execute_result"
        }
      ],
      "source": [
        "# Nuestras predictoras (dos variables dummy y una numérica continua)\n",
        "X.head()"
      ]
    },
    {
      "cell_type": "code",
      "execution_count": 11,
      "metadata": {
        "colab": {
          "base_uri": "https://localhost:8080/"
        },
        "id": "TgC4-23TioKn",
        "outputId": "3337b460-75cf-4697-d68b-60b1b377dc5b"
      },
      "outputs": [
        {
          "data": {
            "text/plain": [
              "0    0\n",
              "1    0\n",
              "2    0\n",
              "3    0\n",
              "4    1\n",
              "Name: wants_in_flight_meals, dtype: int64"
            ]
          },
          "execution_count": 11,
          "metadata": {},
          "output_type": "execute_result"
        }
      ],
      "source": [
        "# Nuestra variable a predecir (si en la reservación solicitan alimentos en el vuelo)\n",
        "y.head()"
      ]
    },
    {
      "cell_type": "markdown",
      "metadata": {
        "id": "QxlXi3E0myUZ"
      },
      "source": [
        "## Separación de datos\n",
        "\n",
        "Vamos a hablar más en detalle más adelante sobre esto pero:\n",
        "\n",
        "Siempre que queremos hacer predictiva queremos **no usar la base de datos completa** para calibrar el modelo.\n",
        "\n",
        "* Queremos usar una parte (70%) para estimar a partir de los datos.\n",
        "* Queremos usar una parte (30%) para evaluar con datos que el modelo nunca ha visto."
      ]
    },
    {
      "cell_type": "code",
      "execution_count": 12,
      "metadata": {
        "id": "3TCUpGiBjN2M"
      },
      "outputs": [],
      "source": [
        "from sklearn.model_selection import train_test_split"
      ]
    },
    {
      "cell_type": "code",
      "execution_count": 13,
      "metadata": {
        "id": "Vz0wEW1lrwVM"
      },
      "outputs": [],
      "source": [
        "X_train, X_test, y_train, y_test = train_test_split(X, y, test_size=0.3, random_state=16)"
      ]
    },
    {
      "cell_type": "markdown",
      "metadata": {
        "id": "nOloHCqUhgQ8"
      },
      "source": [
        "## Modelo lineal"
      ]
    },
    {
      "cell_type": "code",
      "execution_count": 14,
      "metadata": {
        "id": "X6sc6AxsmjN2"
      },
      "outputs": [],
      "source": [
        "modeloLin = LinearRegression()\n",
        "\n",
        "# Ajustamos el modelo con los datos de entrenamiento (70%)\n",
        "modeloLin.fit(X_train, y_train)\n",
        "\n",
        "y_pobabilidades_lin = modeloLin.predict(X_test)"
      ]
    },
    {
      "cell_type": "code",
      "execution_count": 15,
      "metadata": {
        "colab": {
          "base_uri": "https://localhost:8080/",
          "height": 489
        },
        "id": "Gs-8FGRVno0a",
        "outputId": "dae4c1c9-081e-4e44-c0e2-14cdb64782f2"
      },
      "outputs": [
        {
          "data": {
            "text/plain": [
              "Text(0.5, 0, 'Longitud de la estadía')"
            ]
          },
          "execution_count": 15,
          "metadata": {},
          "output_type": "execute_result"
        },
        {
          "data": {
            "image/png": "[encoded data removed]",
            "text/plain": [
              "<Figure size 640x480 with 1 Axes>"
            ]
          },
          "metadata": {},
          "output_type": "display_data"
        }
      ],
      "source": [
        "# Las filas que tienen datos completos\n",
        "X_test_completos = X_test[~X_test.isnull().any(axis=1)]\n",
        "sns.scatterplot(y=y_pobabilidades_lin, x=X_test_completos['length_of_stay'])\n",
        "plt.title('Predicciones en base de prueba (Lin)')\n",
        "plt.ylabel('Probabilidad de solicitar comida')\n",
        "plt.xlabel('Longitud de la estadía')"
      ]
    },
    {
      "cell_type": "markdown",
      "metadata": {
        "id": "VX2bZJDYqX6N"
      },
      "source": [
        "**Observamos que:**\n",
        "\n",
        "* Hay cuatro grupos de predicciones (eso corresponde a que los valores esperados dependen de las otras variables dummy: equipaje y preferencia de silla.\n",
        "\n",
        "**Ejercicio**: incluir en la dispersión el parámetro:\n",
        "<pre>\n",
        "hue=X_test_completos['wants_preferred_seat']\n",
        "</pre>\n",
        "\n",
        "Esto permite ver los grupos esperados según otras variables predictoras.\n",
        "\n",
        "* **Pero más aún:** ¡Algunas probabilidades son mayores a 1!"
      ]
    },
    {
      "cell_type": "markdown",
      "metadata": {
        "id": "NM-gvz9ThiBu"
      },
      "source": [
        "## Modelo Logístico"
      ]
    },
    {
      "cell_type": "code",
      "execution_count": 16,
      "metadata": {
        "id": "miIuQatthjRw"
      },
      "outputs": [],
      "source": [
        "modeloLog  = LogisticRegression(random_state=16)\n",
        "\n",
        "# Ajustamos el modelo con los datos de entrenamiento (70%)\n",
        "modeloLog.fit(X_train, y_train)\n",
        "\n",
        "probabilidades = modeloLog.predict_proba(X_test)[:,1]"
      ]
    },
    {
      "cell_type": "code",
      "execution_count": 17,
      "metadata": {
        "colab": {
          "base_uri": "https://localhost:8080/",
          "height": 489
        },
        "id": "lZPLxOHKr4ZH",
        "outputId": "c3b016dc-0cf0-4409-a049-5a0b754726ee"
      },
      "outputs": [
        {
          "data": {
            "text/plain": [
              "Text(0.5, 0, 'Longitud de la estadía')"
            ]
          },
          "execution_count": 17,
          "metadata": {},
          "output_type": "execute_result"
        },
        {
          "data": {
            "image/png": "[encoded data removed]",
            "text/plain": [
              "<Figure size 640x480 with 1 Axes>"
            ]
          },
          "metadata": {},
          "output_type": "display_data"
        }
      ],
      "source": [
        "# Las filas que tienen datos completos\n",
        "X_test_completos = X_test[~X_test.isnull().any(axis=1)]\n",
        "sns.scatterplot(y=probabilidades, x=X_test_completos['length_of_stay'])\n",
        "plt.title('Predicciones en base de prueba (Log)')\n",
        "plt.ylabel('Probabilidad de solicitar comida')\n",
        "plt.xlabel('Longitud de la estadía')"
      ]
    },
    {
      "cell_type": "markdown",
      "metadata": {
        "id": "_exTC1KTsld8"
      },
      "source": [
        "**Vemos que:**\n",
        "\n",
        "* Las predicciones de la probabilidad ahora son curvas, no lineales.\n",
        "* No hay probabilidades por encima de 1 o por debajo de cero."
      ]
    },
    {
      "cell_type": "markdown",
      "metadata": {
        "id": "CAt4e1pMtHh1"
      },
      "source": [
        "## Clasificación a partir de las probabilidades"
      ]
    },
    {
      "cell_type": "markdown",
      "metadata": {
        "id": "EUPnKXA9tKID"
      },
      "source": [
        "**Para clasificar** predecimos las filas con probabilid superior a 0.5, como cierta categoría, y las demás como la contraria."
      ]
    },
    {
      "cell_type": "markdown",
      "metadata": {
        "id": "wxso85RitXYt"
      },
      "source": [
        "### Lineal"
      ]
    },
    {
      "cell_type": "code",
      "execution_count": 18,
      "metadata": {
        "id": "iqROOtTmtY4y"
      },
      "outputs": [
        {
          "name": "stderr",
          "output_type": "stream",
          "text": [
            "C:\\Users\\nib1l\\AppData\\Local\\Temp\\ipykernel_9684\\2500810183.py:4: FutureWarning: Downcasting behavior in `replace` is deprecated and will be removed in a future version. To retain the old behavior, explicitly call `result.infer_objects(copy=False)`. To opt-in to the future behavior, set `pd.set_option('future.no_silent_downcasting', True)`\n",
            "  pred_lineales.replace({\"Predicción\": di}, inplace=True)\n"
          ]
        }
      ],
      "source": [
        "pred_lineales = y_pobabilidades_lin>0.5\n",
        "pred_lineales = pd.DataFrame({'Predicción':pred_lineales})\n",
        "di = {True: 1, False: 0}\n",
        "pred_lineales.replace({\"Predicción\": di}, inplace=True)"
      ]
    },
    {
      "cell_type": "code",
      "execution_count": 19,
      "metadata": {
        "colab": {
          "base_uri": "https://localhost:8080/"
        },
        "id": "MJLStogwvX4L",
        "outputId": "e89a77b3-0ce0-4696-db2b-eb1eaaf9db4b"
      },
      "outputs": [
        {
          "data": {
            "text/plain": [
              "Predicción\n",
              "0             10404\n",
              "1              4597\n",
              "Name: count, dtype: int64"
            ]
          },
          "execution_count": 19,
          "metadata": {},
          "output_type": "execute_result"
        }
      ],
      "source": [
        "pred_lineales.value_counts()"
      ]
    },
    {
      "cell_type": "markdown",
      "metadata": {
        "id": "tRf7hB4bvdHA"
      },
      "source": [
        "### Logístico"
      ]
    },
    {
      "cell_type": "code",
      "execution_count": 20,
      "metadata": {
        "id": "-C2iah3fvkX2"
      },
      "outputs": [],
      "source": [
        "y_pred_log = modeloLog.predict(X_test)"
      ]
    },
    {
      "cell_type": "code",
      "execution_count": 21,
      "metadata": {
        "colab": {
          "base_uri": "https://localhost:8080/"
        },
        "id": "PA94uCiWvn_l",
        "outputId": "1c6fbb28-6775-4bcb-ccae-1a755ee9b881"
      },
      "outputs": [
        {
          "data": {
            "text/plain": [
              "0\n",
              "0    10389\n",
              "1     4612\n",
              "Name: count, dtype: int64"
            ]
          },
          "execution_count": 21,
          "metadata": {},
          "output_type": "execute_result"
        }
      ],
      "source": [
        "pd.DataFrame(y_pred_log).value_counts()"
      ]
    },
    {
      "cell_type": "markdown",
      "metadata": {
        "id": "d7ohdxMOWYRB"
      },
      "source": [
        "## Matrices de confusión"
      ]
    },
    {
      "cell_type": "code",
      "execution_count": 22,
      "metadata": {
        "colab": {
          "base_uri": "https://localhost:8080/",
          "height": 143
        },
        "id": "iiUVOQd7WW05",
        "outputId": "d174a793-21ca-4e9c-f16a-a56d12f79465"
      },
      "outputs": [
        {
          "data": {
            "text/html": [
              "<div>\n",
              "<style scoped>\n",
              "    .dataframe tbody tr th:only-of-type {\n",
              "        vertical-align: middle;\n",
              "    }\n",
              "\n",
              "    .dataframe tbody tr th {\n",
              "        vertical-align: top;\n",
              "    }\n",
              "\n",
              "    .dataframe thead th {\n",
              "        text-align: right;\n",
              "    }\n",
              "</style>\n",
              "<table border=\"1\" class=\"dataframe\">\n",
              "  <thead>\n",
              "    <tr style=\"text-align: right;\">\n",
              "      <th>col_0</th>\n",
              "      <th>0</th>\n",
              "      <th>1</th>\n",
              "    </tr>\n",
              "    <tr>\n",
              "      <th>wants_in_flight_meals</th>\n",
              "      <th></th>\n",
              "      <th></th>\n",
              "    </tr>\n",
              "  </thead>\n",
              "  <tbody>\n",
              "    <tr>\n",
              "      <th>0</th>\n",
              "      <td>6970</td>\n",
              "      <td>1563</td>\n",
              "    </tr>\n",
              "    <tr>\n",
              "      <th>1</th>\n",
              "      <td>3419</td>\n",
              "      <td>3049</td>\n",
              "    </tr>\n",
              "  </tbody>\n",
              "</table>\n",
              "</div>"
            ],
            "text/plain": [
              "col_0                     0     1\n",
              "wants_in_flight_meals            \n",
              "0                      6970  1563\n",
              "1                      3419  3049"
            ]
          },
          "execution_count": 22,
          "metadata": {},
          "output_type": "execute_result"
        }
      ],
      "source": [
        "matriz_log = pd.crosstab(y_test, y_pred_log)\n",
        "matriz_log"
      ]
    },
    {
      "cell_type": "code",
      "execution_count": 23,
      "metadata": {
        "colab": {
          "base_uri": "https://localhost:8080/",
          "height": 489
        },
        "id": "Zh07Y4AuX8QI",
        "outputId": "966d20b0-dfb6-47c4-e0df-f5604c763bf6"
      },
      "outputs": [
        {
          "data": {
            "text/plain": [
              "[Text(0.5, 1.0, 'Matriz de confusión modelo Logit')]"
            ]
          },
          "execution_count": 23,
          "metadata": {},
          "output_type": "execute_result"
        },
        {
          "data": {
            "image/png": "[encoded data removed]",
            "text/plain": [
              "<Figure size 640x480 with 2 Axes>"
            ]
          },
          "metadata": {},
          "output_type": "display_data"
        }
      ],
      "source": [
        "ax = sns.heatmap(matriz_log, annot=True, fmt='.0f')\n",
        "ax.set(ylabel=\"Observados\", xlabel=\"Predichos\")\n",
        "ax.set(title=\"Matriz de confusión modelo Logit\")"
      ]
    },
    {
      "cell_type": "code",
      "execution_count": 24,
      "metadata": {
        "colab": {
          "base_uri": "https://localhost:8080/",
          "height": 143
        },
        "id": "uUrV02krZhho",
        "outputId": "bae60220-ccab-47eb-d227-b9229d825364"
      },
      "outputs": [
        {
          "data": {
            "text/html": [
              "<div>\n",
              "<style scoped>\n",
              "    .dataframe tbody tr th:only-of-type {\n",
              "        vertical-align: middle;\n",
              "    }\n",
              "\n",
              "    .dataframe tbody tr th {\n",
              "        vertical-align: top;\n",
              "    }\n",
              "\n",
              "    .dataframe thead th {\n",
              "        text-align: right;\n",
              "    }\n",
              "</style>\n",
              "<table border=\"1\" class=\"dataframe\">\n",
              "  <thead>\n",
              "    <tr style=\"text-align: right;\">\n",
              "      <th>Predicción</th>\n",
              "      <th>0</th>\n",
              "      <th>1</th>\n",
              "    </tr>\n",
              "    <tr>\n",
              "      <th>wants_in_flight_meals</th>\n",
              "      <th></th>\n",
              "      <th></th>\n",
              "    </tr>\n",
              "  </thead>\n",
              "  <tbody>\n",
              "    <tr>\n",
              "      <th>0</th>\n",
              "      <td>1498</td>\n",
              "      <td>665</td>\n",
              "    </tr>\n",
              "    <tr>\n",
              "      <th>1</th>\n",
              "      <td>1619</td>\n",
              "      <td>673</td>\n",
              "    </tr>\n",
              "  </tbody>\n",
              "</table>\n",
              "</div>"
            ],
            "text/plain": [
              "Predicción                0    1\n",
              "wants_in_flight_meals           \n",
              "0                      1498  665\n",
              "1                      1619  673"
            ]
          },
          "execution_count": 24,
          "metadata": {},
          "output_type": "execute_result"
        }
      ],
      "source": [
        "matriz_lin = pd.crosstab(y_test, pred_lineales['Predicción'])\n",
        "matriz_lin"
      ]
    },
    {
      "cell_type": "code",
      "execution_count": 25,
      "metadata": {
        "colab": {
          "base_uri": "https://localhost:8080/",
          "height": 489
        },
        "id": "gQLHwevpZh7L",
        "outputId": "a24a2388-9052-4ded-c348-a2c5c7d7b66e"
      },
      "outputs": [
        {
          "data": {
            "text/plain": [
              "[Text(0.5, 1.0, 'Matriz de confusión modelo Lineal')]"
            ]
          },
          "execution_count": 25,
          "metadata": {},
          "output_type": "execute_result"
        },
        {
          "data": {
            "image/png": "[encoded data removed]",
            "text/plain": [
              "<Figure size 640x480 with 2 Axes>"
            ]
          },
          "metadata": {},
          "output_type": "display_data"
        }
      ],
      "source": [
        "ax = sns.heatmap(matriz_lin, annot=True, fmt='.0f')\n",
        "ax.set(ylabel=\"Observados\", xlabel=\"Predichos\")\n",
        "ax.set(title=\"Matriz de confusión modelo Lineal\")"
      ]
    },
    {
      "cell_type": "markdown",
      "metadata": {
        "id": "8KAHA2HkxuM4"
      },
      "source": [
        "## Métricas\n",
        "Calculemos el Accuracy, Precision y Recall.\n",
        "* Accuracy: ¿del total de predicciones cuántas hizo bien?\n",
        "* Precision: ¿de los que dijo que eran positivos, en cuántos atinó?\n",
        "* Recall: ¿de todos los que eran positivos, cuántos logró atrapar?"
      ]
    },
    {
      "cell_type": "code",
      "execution_count": null,
      "metadata": {
        "id": "Ku2yRW9Lyzwy"
      },
      "outputs": [],
      "source": []
    }
  ],
  "metadata": {
    "colab": {
      "provenance": []
    },
    "kernelspec": {
      "display_name": "Python 3",
      "name": "python3"
    },
    "language_info": {
      "codemirror_mode": {
        "name": "ipython",
        "version": 3
      },
      "file_extension": ".py",
      "mimetype": "text/x-python",
      "name": "python",
      "nbconvert_exporter": "python",
      "pygments_lexer": "ipython3",
      "version": "3.11.9"
    }
  },
  "nbformat": 4,
  "nbformat_minor": 0
}
