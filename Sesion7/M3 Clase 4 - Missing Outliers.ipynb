{
 "cells": [
  {
   "cell_type": "markdown",
   "metadata": {
    "id": "XJd0xANyM_t6"
   },
   "source": [
    "# ***Análisis de Datos y Big data***\n",
    "\n",
    "## ***Universidad de los Andes***\n",
    ">## **Dirección de Educación Continua.**\n",
    ">>## **Formación de habilidades escenciales.**\n",
    "\n",
    "![Imágen1](https://github.com/jazaineam1/Andes_ADDBD/blob/main/Imagenes/Presentaci%C3%B3n-removebg-preview.png?raw=true)\n",
    "### Clase 4 - Práctica Missing & Outliers\n",
    "\n",
    "**Ver la presentación a continuación [acá](https://github.com/jazaineam1/Andes_ADDBD/raw/main/Sesion7/2024%2003%2020%20Clase%208%20-%20Calidad%20de%20los%20datos.pdf)**"
   ]
  },
  {
   "cell_type": "markdown",
   "metadata": {
    "id": "OZxyxC7ZM_t-"
   },
   "source": [
    "Objetivo: Aprender técnicas para el tratamiento de outliers y missing en una base de datos."
   ]
  },
  {
   "cell_type": "markdown",
   "metadata": {
    "id": "HkhpzJkWM_t-"
   },
   "source": [
    "**Librerias**"
   ]
  },
  {
   "cell_type": "code",
   "execution_count": 2,
   "metadata": {},
   "outputs": [],
   "source": [
    "%%capture\n",
    "#pip install missingno"
   ]
  },
  {
   "cell_type": "code",
   "execution_count": 3,
   "metadata": {
    "id": "OuXwMLGzM_t_"
   },
   "outputs": [],
   "source": [
    "import pandas as pd\n",
    "import matplotlib.pyplot as plt\n",
    "import seaborn as sns\n",
    "import numpy as np\n",
    "import missingno as msno # Nueva librería para nuestros análisis de missing."
   ]
  },
  {
   "cell_type": "markdown",
   "metadata": {
    "id": "WAYJywiVM_uB"
   },
   "source": [
    "## Visualización y Análisis de Datos atípicos"
   ]
  },
  {
   "cell_type": "markdown",
   "metadata": {
    "id": "IbxkODZ4M_uB"
   },
   "source": [
    "Trabajaremos con una base de datos de calificaciones de Kaggle. Exploremos las variables disponibles:\n",
    "\n",
    "https://www.kaggle.com/datasets/desalegngeb/students-exam-scores"
   ]
  },
  {
   "cell_type": "code",
   "execution_count": 4,
   "metadata": {
    "id": "8JsVKXXWM_uB"
   },
   "outputs": [],
   "source": [
    "# Cargue de la base de datos\n",
    "df = pd.read_csv(r'https://raw.githubusercontent.com/jazaineam1/Andes_ADDBD/main/Sesion7/Original_data_with_more_rows.csv')"
   ]
  },
  {
   "cell_type": "code",
   "execution_count": 5,
   "metadata": {
    "colab": {
     "base_uri": "https://localhost:8080/",
     "height": 374
    },
    "id": "LDhBHvPcM_uC",
    "outputId": "0adb2ef2-9af4-4dc6-977c-2eb2f0f6c3bc",
    "scrolled": true
   },
   "outputs": [
    {
     "data": {
      "text/html": [
       "<div>\n",
       "<style scoped>\n",
       "    .dataframe tbody tr th:only-of-type {\n",
       "        vertical-align: middle;\n",
       "    }\n",
       "\n",
       "    .dataframe tbody tr th {\n",
       "        vertical-align: top;\n",
       "    }\n",
       "\n",
       "    .dataframe thead th {\n",
       "        text-align: right;\n",
       "    }\n",
       "</style>\n",
       "<table border=\"1\" class=\"dataframe\">\n",
       "  <thead>\n",
       "    <tr style=\"text-align: right;\">\n",
       "      <th></th>\n",
       "      <th>Unnamed: 0</th>\n",
       "      <th>Gender</th>\n",
       "      <th>EthnicGroup</th>\n",
       "      <th>ParentEduc</th>\n",
       "      <th>LunchType</th>\n",
       "      <th>TestPrep</th>\n",
       "      <th>MathScore</th>\n",
       "      <th>ReadingScore</th>\n",
       "      <th>WritingScore</th>\n",
       "    </tr>\n",
       "  </thead>\n",
       "  <tbody>\n",
       "    <tr>\n",
       "      <th>0</th>\n",
       "      <td>0</td>\n",
       "      <td>female</td>\n",
       "      <td>group B</td>\n",
       "      <td>bachelor's degree</td>\n",
       "      <td>standard</td>\n",
       "      <td>none</td>\n",
       "      <td>72</td>\n",
       "      <td>72</td>\n",
       "      <td>74</td>\n",
       "    </tr>\n",
       "    <tr>\n",
       "      <th>1</th>\n",
       "      <td>1</td>\n",
       "      <td>female</td>\n",
       "      <td>group C</td>\n",
       "      <td>some college</td>\n",
       "      <td>standard</td>\n",
       "      <td>completed</td>\n",
       "      <td>69</td>\n",
       "      <td>90</td>\n",
       "      <td>88</td>\n",
       "    </tr>\n",
       "    <tr>\n",
       "      <th>2</th>\n",
       "      <td>2</td>\n",
       "      <td>female</td>\n",
       "      <td>group B</td>\n",
       "      <td>master's degree</td>\n",
       "      <td>standard</td>\n",
       "      <td>none</td>\n",
       "      <td>90</td>\n",
       "      <td>95</td>\n",
       "      <td>93</td>\n",
       "    </tr>\n",
       "    <tr>\n",
       "      <th>3</th>\n",
       "      <td>3</td>\n",
       "      <td>male</td>\n",
       "      <td>group A</td>\n",
       "      <td>associate's degree</td>\n",
       "      <td>free/reduced</td>\n",
       "      <td>none</td>\n",
       "      <td>47</td>\n",
       "      <td>57</td>\n",
       "      <td>44</td>\n",
       "    </tr>\n",
       "    <tr>\n",
       "      <th>4</th>\n",
       "      <td>4</td>\n",
       "      <td>male</td>\n",
       "      <td>group C</td>\n",
       "      <td>some college</td>\n",
       "      <td>standard</td>\n",
       "      <td>none</td>\n",
       "      <td>76</td>\n",
       "      <td>78</td>\n",
       "      <td>75</td>\n",
       "    </tr>\n",
       "  </tbody>\n",
       "</table>\n",
       "</div>"
      ],
      "text/plain": [
       "   Unnamed: 0  Gender EthnicGroup          ParentEduc     LunchType  \\\n",
       "0           0  female     group B   bachelor's degree      standard   \n",
       "1           1  female     group C        some college      standard   \n",
       "2           2  female     group B     master's degree      standard   \n",
       "3           3    male     group A  associate's degree  free/reduced   \n",
       "4           4    male     group C        some college      standard   \n",
       "\n",
       "    TestPrep  MathScore  ReadingScore  WritingScore  \n",
       "0       none         72            72            74  \n",
       "1  completed         69            90            88  \n",
       "2       none         90            95            93  \n",
       "3       none         47            57            44  \n",
       "4       none         76            78            75  "
      ]
     },
     "execution_count": 5,
     "metadata": {},
     "output_type": "execute_result"
    }
   ],
   "source": [
    "# Visualizamos los 5 primeros registros\n",
    "df.head()"
   ]
  },
  {
   "cell_type": "code",
   "execution_count": 6,
   "metadata": {
    "id": "rplLrqpvM_uD"
   },
   "outputs": [],
   "source": [
    "# ¿Cuál es la dimensión de la base de datos? Tip: .shape\n"
   ]
  },
  {
   "cell_type": "markdown",
   "metadata": {
    "id": "yTADnCK3M_uD"
   },
   "source": [
    "**Con las medidas de tendencia central podemos identificar si existen datos atípicos:**"
   ]
  },
  {
   "cell_type": "code",
   "execution_count": 7,
   "metadata": {
    "colab": {
     "base_uri": "https://localhost:8080/",
     "height": 300
    },
    "id": "uvJnEDLWM_uE",
    "outputId": "df92e25f-26b6-4576-b80e-b41d9311509c",
    "scrolled": true
   },
   "outputs": [
    {
     "data": {
      "text/html": [
       "<div>\n",
       "<style scoped>\n",
       "    .dataframe tbody tr th:only-of-type {\n",
       "        vertical-align: middle;\n",
       "    }\n",
       "\n",
       "    .dataframe tbody tr th {\n",
       "        vertical-align: top;\n",
       "    }\n",
       "\n",
       "    .dataframe thead th {\n",
       "        text-align: right;\n",
       "    }\n",
       "</style>\n",
       "<table border=\"1\" class=\"dataframe\">\n",
       "  <thead>\n",
       "    <tr style=\"text-align: right;\">\n",
       "      <th></th>\n",
       "      <th>Unnamed: 0</th>\n",
       "      <th>MathScore</th>\n",
       "      <th>ReadingScore</th>\n",
       "      <th>WritingScore</th>\n",
       "    </tr>\n",
       "  </thead>\n",
       "  <tbody>\n",
       "    <tr>\n",
       "      <th>count</th>\n",
       "      <td>30641.000000</td>\n",
       "      <td>30641.000000</td>\n",
       "      <td>30641.000000</td>\n",
       "      <td>30641.000000</td>\n",
       "    </tr>\n",
       "    <tr>\n",
       "      <th>mean</th>\n",
       "      <td>499.556607</td>\n",
       "      <td>66.777651</td>\n",
       "      <td>69.624980</td>\n",
       "      <td>68.468327</td>\n",
       "    </tr>\n",
       "    <tr>\n",
       "      <th>std</th>\n",
       "      <td>288.747894</td>\n",
       "      <td>16.117647</td>\n",
       "      <td>14.671572</td>\n",
       "      <td>15.307814</td>\n",
       "    </tr>\n",
       "    <tr>\n",
       "      <th>min</th>\n",
       "      <td>0.000000</td>\n",
       "      <td>-5.000000</td>\n",
       "      <td>10.000000</td>\n",
       "      <td>5.000000</td>\n",
       "    </tr>\n",
       "    <tr>\n",
       "      <th>25%</th>\n",
       "      <td>249.000000</td>\n",
       "      <td>56.000000</td>\n",
       "      <td>60.000000</td>\n",
       "      <td>58.000000</td>\n",
       "    </tr>\n",
       "    <tr>\n",
       "      <th>50%</th>\n",
       "      <td>500.000000</td>\n",
       "      <td>67.000000</td>\n",
       "      <td>70.000000</td>\n",
       "      <td>69.000000</td>\n",
       "    </tr>\n",
       "    <tr>\n",
       "      <th>75%</th>\n",
       "      <td>750.000000</td>\n",
       "      <td>78.000000</td>\n",
       "      <td>80.000000</td>\n",
       "      <td>79.000000</td>\n",
       "    </tr>\n",
       "    <tr>\n",
       "      <th>max</th>\n",
       "      <td>999.000000</td>\n",
       "      <td>1000.000000</td>\n",
       "      <td>100.000000</td>\n",
       "      <td>100.000000</td>\n",
       "    </tr>\n",
       "  </tbody>\n",
       "</table>\n",
       "</div>"
      ],
      "text/plain": [
       "         Unnamed: 0     MathScore  ReadingScore  WritingScore\n",
       "count  30641.000000  30641.000000  30641.000000  30641.000000\n",
       "mean     499.556607     66.777651     69.624980     68.468327\n",
       "std      288.747894     16.117647     14.671572     15.307814\n",
       "min        0.000000     -5.000000     10.000000      5.000000\n",
       "25%      249.000000     56.000000     60.000000     58.000000\n",
       "50%      500.000000     67.000000     70.000000     69.000000\n",
       "75%      750.000000     78.000000     80.000000     79.000000\n",
       "max      999.000000   1000.000000    100.000000    100.000000"
      ]
     },
     "execution_count": 7,
     "metadata": {},
     "output_type": "execute_result"
    }
   ],
   "source": [
    "df.describe()"
   ]
  },
  {
   "cell_type": "markdown",
   "metadata": {
    "id": "IfJAAkTpM_uE"
   },
   "source": [
    "**Preguntas**\n",
    "\n",
    "- ¿En cuál variable existe una diferencia significativa del promedio con relación a la mediana?\n",
    "- ¿Qué nos dice la desviación estándar?"
   ]
  },
  {
   "cell_type": "markdown",
   "metadata": {
    "id": "RPA3JWDkM_uE"
   },
   "source": [
    "**También, podemos identificar datos atípicos mediante visualizaciones:**"
   ]
  },
  {
   "cell_type": "code",
   "execution_count": 8,
   "metadata": {
    "colab": {
     "base_uri": "https://localhost:8080/",
     "height": 469
    },
    "id": "hb8kc7WFM_uE",
    "outputId": "236c937b-062d-4105-e3a8-b6d81f4d7d69"
   },
   "outputs": [
    {
     "data": {
      "text/plain": [
       "Text(0.5, 1.0, 'Puntuación de Matematicas vs Puntuación de Escritura')"
      ]
     },
     "execution_count": 8,
     "metadata": {},
     "output_type": "execute_result"
    },
    {
     "data": {
      "image/png": "[encoded data removed]",
      "text/plain": [
       "<Figure size 640x480 with 1 Axes>"
      ]
     },
     "metadata": {},
     "output_type": "display_data"
    }
   ],
   "source": [
    "fig, ax = plt.subplots()\n",
    "ax.scatter(df['MathScore'], df['ReadingScore'], marker = \"*\")\n",
    "plt.title('Puntuación de Matematicas vs Puntuación de Escritura')"
   ]
  },
  {
   "cell_type": "code",
   "execution_count": 9,
   "metadata": {
    "colab": {
     "base_uri": "https://localhost:8080/",
     "height": 470
    },
    "id": "GX0eZSYZM_uE",
    "outputId": "38527b75-4f49-4ded-db19-58c3432ebd59"
   },
   "outputs": [
    {
     "data": {
      "text/plain": [
       "Text(0.5, 1.0, 'Histograma - Puntuación de Matemáticas')"
      ]
     },
     "execution_count": 9,
     "metadata": {},
     "output_type": "execute_result"
    },
    {
     "data": {
      "image/png": "[encoded data removed]",
      "text/plain": [
       "<Figure size 640x480 with 1 Axes>"
      ]
     },
     "metadata": {},
     "output_type": "display_data"
    }
   ],
   "source": [
    "plt.hist(x=df['MathScore'],  color='#F2AB6D', rwidth=0.95)\n",
    "plt.title('Histograma - Puntuación de Matemáticas')"
   ]
  },
  {
   "cell_type": "markdown",
   "metadata": {
    "id": "wYVQAXfjM_uF"
   },
   "source": [
    "**¿Existen calificaciones de 1000 en matemáticas? No es lógico. Para seguir una regla \"de negocio\", vamos a excluir el o los datos superiores a 100 y veamos cómo cambia el gráfico.**\n",
    "\n",
    "Es importante considerar que no estamos eliminando los datos atípicos, es necesario entender su naturaleza. Determinar si son errores o no. Eliminarlos es una decisión que requiere mayor análisis, evidencia o referencia en alguna regla de negocio."
   ]
  },
  {
   "cell_type": "code",
   "execution_count": 10,
   "metadata": {
    "id": "pXFL3YNeM_uF"
   },
   "outputs": [],
   "source": [
    "df2 = df[df['MathScore']<=100]"
   ]
  },
  {
   "cell_type": "code",
   "execution_count": 11,
   "metadata": {
    "colab": {
     "base_uri": "https://localhost:8080/",
     "height": 469
    },
    "id": "SlL7iZrTM_uF",
    "outputId": "ae5a7e12-789a-4bf2-f858-7c85301085d0",
    "scrolled": true
   },
   "outputs": [
    {
     "data": {
      "text/plain": [
       "Text(0.5, 1.0, 'Puntuación de Matemáticas vs Puntuación de Escritura')"
      ]
     },
     "execution_count": 11,
     "metadata": {},
     "output_type": "execute_result"
    },
    {
     "data": {
      "image/png": "[encoded data removed]",
      "text/plain": [
       "<Figure size 640x480 with 1 Axes>"
      ]
     },
     "metadata": {},
     "output_type": "display_data"
    }
   ],
   "source": [
    "fig, ax = plt.subplots()\n",
    "ax.scatter(df2['MathScore'], df2['ReadingScore'], marker = \"*\")\n",
    "plt.title('Puntuación de Matemáticas vs Puntuación de Escritura')"
   ]
  },
  {
   "cell_type": "code",
   "execution_count": 12,
   "metadata": {
    "colab": {
     "base_uri": "https://localhost:8080/",
     "height": 470
    },
    "id": "vABfzIjrM_uF",
    "outputId": "036957b9-376f-4001-889a-4b733f1f4afb"
   },
   "outputs": [
    {
     "data": {
      "text/plain": [
       "Text(0.5, 1.0, 'Histograma - Puntuación de Matemáticas')"
      ]
     },
     "execution_count": 12,
     "metadata": {},
     "output_type": "execute_result"
    },
    {
     "data": {
      "image/png": "[encoded data removed]",
      "text/plain": [
       "<Figure size 640x480 with 1 Axes>"
      ]
     },
     "metadata": {},
     "output_type": "display_data"
    }
   ],
   "source": [
    "plt.hist(x=df2['MathScore'],  color='#F2AB6D', rwidth=0.95)\n",
    "plt.title('Histograma - Puntuación de Matemáticas')"
   ]
  },
  {
   "cell_type": "markdown",
   "metadata": {
    "id": "-UYsl7NmM_uF"
   },
   "source": [
    "**Además, existe un dato negativo. En el contexto de una calificación final la nota minima es 0. Por lo que, procederemos a excluir datos negativos**"
   ]
  },
  {
   "cell_type": "code",
   "execution_count": 13,
   "metadata": {
    "id": "NF466U8pM_uG"
   },
   "outputs": [],
   "source": [
    "df2 = df2[df2['MathScore']>=0]"
   ]
  },
  {
   "cell_type": "code",
   "execution_count": 14,
   "metadata": {
    "colab": {
     "base_uri": "https://localhost:8080/",
     "height": 469
    },
    "id": "7C3O298iM_uG",
    "outputId": "3effeb32-d32c-487d-c303-b0cbd0ec528d"
   },
   "outputs": [
    {
     "data": {
      "text/plain": [
       "Text(0.5, 1.0, 'Puntuación de Matematicas vs Puntuación de Escritura')"
      ]
     },
     "execution_count": 14,
     "metadata": {},
     "output_type": "execute_result"
    },
    {
     "data": {
      "image/png": "[encoded data removed]",
      "text/plain": [
       "<Figure size 640x480 with 1 Axes>"
      ]
     },
     "metadata": {},
     "output_type": "display_data"
    }
   ],
   "source": [
    "fig, ax = plt.subplots()\n",
    "ax.scatter(df2['MathScore'], df2['ReadingScore'], marker = \"*\")\n",
    "plt.title('Puntuación de Matematicas vs Puntuación de Escritura')"
   ]
  },
  {
   "cell_type": "markdown",
   "metadata": {
    "id": "GlrfYo0wM_uG"
   },
   "source": [
    "**Ahora, ¿usted visualiza más datos atípicos? Un estudiante con 0 en mátematicas y casi 20 en escritura, ¿lo considera atípico?**"
   ]
  },
  {
   "cell_type": "markdown",
   "metadata": {
    "id": "5kdq1691M_uG"
   },
   "source": [
    "**- Veámoslo, con gráficos de boxplot (Metodología de Tukey) y con la base inicial.**"
   ]
  },
  {
   "cell_type": "code",
   "execution_count": 15,
   "metadata": {
    "colab": {
     "base_uri": "https://localhost:8080/",
     "height": 428
    },
    "id": "YHDK3qRdM_uG",
    "outputId": "53fc7e1c-604b-4f98-d5a9-df42a243d4b9",
    "scrolled": true
   },
   "outputs": [
    {
     "name": "stderr",
     "output_type": "stream",
     "text": [
      "c:\\Users\\julzai\\Anaconda3\\envs\\GCP\\lib\\site-packages\\seaborn\\_oldcore.py:1498: FutureWarning: is_categorical_dtype is deprecated and will be removed in a future version. Use isinstance(dtype, CategoricalDtype) instead\n",
      "  if pd.api.types.is_categorical_dtype(vector):\n"
     ]
    },
    {
     "data": {
      "text/plain": [
       "<Axes: ylabel='MathScore'>"
      ]
     },
     "execution_count": 15,
     "metadata": {},
     "output_type": "execute_result"
    },
    {
     "data": {
      "image/png": "[encoded data removed]",
      "text/plain": [
       "<Figure size 640x480 with 1 Axes>"
      ]
     },
     "metadata": {},
     "output_type": "display_data"
    }
   ],
   "source": [
    "sns.boxplot(y = \"MathScore\", data = df, color = \"green\")"
   ]
  },
  {
   "cell_type": "markdown",
   "metadata": {
    "id": "NrVCl2d3M_uH"
   },
   "source": [
    "**Excluyamos los datos atípicos de la variable Puntuación de Matemáticas, con esta metodología:**"
   ]
  },
  {
   "cell_type": "code",
   "execution_count": 16,
   "metadata": {
    "colab": {
     "base_uri": "https://localhost:8080/"
    },
    "id": "6Z8TLXXJM_uH",
    "outputId": "92938074-b696-4b6e-d5e9-702bd3e7eece"
   },
   "outputs": [
    {
     "data": {
      "text/plain": [
       "(30566, 9)"
      ]
     },
     "execution_count": 16,
     "metadata": {},
     "output_type": "execute_result"
    }
   ],
   "source": [
    "# Encontramos el Q1, Q3, y el rango intercuartílico para cada columna\n",
    "Q1 = df['MathScore'].quantile(q=.25)\n",
    "Q3 = df['MathScore'].quantile(q=.75)\n",
    "IQR = Q3 - Q1 # Es lo mismo que Q3 - Q1\n",
    "# Solo mantenemos filas que esten dentro de 1.5*IQR de Q1 y Q3\n",
    "df_sin_outliers = df[~((df['MathScore'] < (Q1-1.5*IQR)) | (df['MathScore'] > (Q3+1.5*IQR)))]\n",
    "# ¿Cuál es la dimensión de nuestra base final?\n",
    "df_sin_outliers.shape"
   ]
  },
  {
   "cell_type": "markdown",
   "metadata": {
    "id": "BHGoinGlM_uH"
   },
   "source": [
    "**Así, nos quedó la distribución de la variable:**"
   ]
  },
  {
   "cell_type": "code",
   "execution_count": 17,
   "metadata": {
    "colab": {
     "base_uri": "https://localhost:8080/",
     "height": 451
    },
    "id": "HoPOAsX6M_uH",
    "outputId": "ec9b2619-c435-4fbe-ae70-8a95200a1a1b",
    "scrolled": true
   },
   "outputs": [
    {
     "name": "stderr",
     "output_type": "stream",
     "text": [
      "c:\\Users\\julzai\\Anaconda3\\envs\\GCP\\lib\\site-packages\\seaborn\\_oldcore.py:1498: FutureWarning: is_categorical_dtype is deprecated and will be removed in a future version. Use isinstance(dtype, CategoricalDtype) instead\n",
      "  if pd.api.types.is_categorical_dtype(vector):\n"
     ]
    },
    {
     "data": {
      "text/plain": [
       "Text(0.5, 1.0, 'Boxplot - Puntuación de Matemáticas')"
      ]
     },
     "execution_count": 17,
     "metadata": {},
     "output_type": "execute_result"
    },
    {
     "data": {
      "image/png": "[encoded data removed]",
      "text/plain": [
       "<Figure size 640x480 with 1 Axes>"
      ]
     },
     "metadata": {},
     "output_type": "display_data"
    }
   ],
   "source": [
    "sns.boxplot(y = \"MathScore\", data = df_sin_outliers, color = \"green\")\n",
    "plt.title('Boxplot - Puntuación de Matemáticas')"
   ]
  },
  {
   "cell_type": "code",
   "execution_count": 18,
   "metadata": {
    "colab": {
     "base_uri": "https://localhost:8080/",
     "height": 470
    },
    "id": "QiFzVYiVM_uH",
    "outputId": "eefa1081-fe51-4af5-868f-0d594c5440c7"
   },
   "outputs": [
    {
     "data": {
      "text/plain": [
       "Text(0.5, 1.0, 'Histograma - Puntuación de Matemáticas')"
      ]
     },
     "execution_count": 18,
     "metadata": {},
     "output_type": "execute_result"
    },
    {
     "data": {
      "image/png": "[encoded data removed]",
      "text/plain": [
       "<Figure size 640x480 with 1 Axes>"
      ]
     },
     "metadata": {},
     "output_type": "display_data"
    }
   ],
   "source": [
    "plt.hist(x=df_sin_outliers['MathScore'],  color='#F2AB6D', rwidth=0.95)\n",
    "plt.title('Histograma - Puntuación de Matemáticas')"
   ]
  },
  {
   "cell_type": "markdown",
   "metadata": {
    "id": "5usZbTJ1M_uI"
   },
   "source": [
    "**Con este código, podríamos hacerlo para toda la base de datos. Pueden explorarlo y ver que resultado obtienen.**\n",
    "\n",
    "```\n",
    "# Encontramos el Q1, Q3, y el rango intercuartílico para cada columna\n",
    "Q1 = df.quantile(q=.25)\n",
    "Q3 = df.quantile(q=.75)\n",
    "IQR = Q3 - Q1 # Es lo mismo que Q3 - Q1\n",
    "# Solo mantenemos filas que esten dentro de 1.5*IQR de Q1 y Q3\n",
    "df_sin_outliers = df[~((df < (Q1-1.5*IQR)) | (df > (Q3+1.5*IQR))).any(axis=1)]\n",
    "# ¿Cuál es la dimensión de nuestra base final?\n",
    "df_sin_outliers.shape\n",
    "```"
   ]
  },
  {
   "cell_type": "markdown",
   "metadata": {
    "id": "9cegDTELM_uI"
   },
   "source": [
    "**Para resumir:**\n",
    "\n",
    "1.  ¿Por qué observamos estos datos?​\n",
    "    ¿Es un tema de limitación en la medición? ​\n",
    "        (El sensor de medición se vuelve loco cuando llueve)​\n",
    "2. ¿Es un tema de de una observación válida pero sistemáticamente diferente a las demás? ​\n",
    "        (Este punto está muy cerca de un punto de actividad volcánica)​\n",
    "3. ¿Se trata de un patrón sistemático presente en otros estudios?\n",
    "        (El valor de los ingresos del percentil superior de la población)\n",
    "        \n",
    "**En el ejemplo, identificamos como datos atípicos notas superiores a 100 e inferiores a 0. A estos valores, tambien podemos decidir asignarles un nuevo valor con las metodologías que abordaremos en el cuaderno para el tratamiento de missing.**\n",
    "\n",
    "**Es posible que el valor no sea un atípico, como es el caso de la nota 0, pero puede que este teniendo un impacto significativo en el análisis. Podemos observar cómo se comportan los datos sin esta observación, para tener claro cómo cambia la distribución y si la conclusión que damos como respuesta a la pregunta de negocio se afecta**\n",
    "\n",
    "**Es posible que nuestro interés de análisis sea, justamente, el comportamiento de un subconjunto de datos que no siguen una regla de negocio. ¿Por qué no siguen la regla? ¿Siguen algún patrón en particular?**"
   ]
  },
  {
   "cell_type": "markdown",
   "metadata": {
    "id": "shIJ5BUnM_uI"
   },
   "source": [
    "## Visualización de Missing y Tratamientos\n",
    "\n",
    "Ahora vamos a utilizar una tabla de datos que contienen, las mismas calificaciones, pero con características familiares de los estudiantes, para explorar datos faltantes."
   ]
  },
  {
   "cell_type": "code",
   "execution_count": 20,
   "metadata": {
    "id": "UmQfOa_OM_uI"
   },
   "outputs": [],
   "source": [
    "# Cargue de la base de datos\n",
    "# Al cargar la base de datos, tenga en cuenta el separador. En este caso es ; y si lo hacemos por default no funciona.\n",
    "df_missing = pd.read_csv(r'https://raw.githubusercontent.com/jazaineam1/Andes_ADDBD/main/Sesion7/Expanded_data_with_more_features.csv', sep = ';')"
   ]
  },
  {
   "cell_type": "code",
   "execution_count": 21,
   "metadata": {
    "colab": {
     "base_uri": "https://localhost:8080/",
     "height": 339
    },
    "id": "SsJXMGsUM_uI",
    "outputId": "fc5b4c35-3361-42e7-dcb0-fee42e22fd23"
   },
   "outputs": [
    {
     "data": {
      "text/html": [
       "<div>\n",
       "<style scoped>\n",
       "    .dataframe tbody tr th:only-of-type {\n",
       "        vertical-align: middle;\n",
       "    }\n",
       "\n",
       "    .dataframe tbody tr th {\n",
       "        vertical-align: top;\n",
       "    }\n",
       "\n",
       "    .dataframe thead th {\n",
       "        text-align: right;\n",
       "    }\n",
       "</style>\n",
       "<table border=\"1\" class=\"dataframe\">\n",
       "  <thead>\n",
       "    <tr style=\"text-align: right;\">\n",
       "      <th></th>\n",
       "      <th>Unnamed: 0</th>\n",
       "      <th>Gender</th>\n",
       "      <th>EthnicGroup</th>\n",
       "      <th>ParentEduc</th>\n",
       "      <th>LunchType</th>\n",
       "      <th>TestPrep</th>\n",
       "      <th>ParentMaritalStatus</th>\n",
       "      <th>PracticeSport</th>\n",
       "      <th>IsFirstChild</th>\n",
       "      <th>NrSiblings</th>\n",
       "      <th>TransportMeans</th>\n",
       "      <th>WklyStudyHours</th>\n",
       "      <th>MathScore</th>\n",
       "      <th>ReadingScore</th>\n",
       "      <th>WritingScore</th>\n",
       "    </tr>\n",
       "  </thead>\n",
       "  <tbody>\n",
       "    <tr>\n",
       "      <th>30636</th>\n",
       "      <td>999</td>\n",
       "      <td>female</td>\n",
       "      <td>group A</td>\n",
       "      <td>high school</td>\n",
       "      <td>standard</td>\n",
       "      <td>none</td>\n",
       "      <td>married</td>\n",
       "      <td>sometimes</td>\n",
       "      <td>no</td>\n",
       "      <td>4.0</td>\n",
       "      <td>school_bus</td>\n",
       "      <td>5 - 10</td>\n",
       "      <td>43.0</td>\n",
       "      <td>47</td>\n",
       "      <td>39</td>\n",
       "    </tr>\n",
       "    <tr>\n",
       "      <th>30637</th>\n",
       "      <td>999</td>\n",
       "      <td>male</td>\n",
       "      <td>group C</td>\n",
       "      <td>bachelor's degree</td>\n",
       "      <td>standard</td>\n",
       "      <td>completed</td>\n",
       "      <td>married</td>\n",
       "      <td>sometimes</td>\n",
       "      <td>no</td>\n",
       "      <td>5.0</td>\n",
       "      <td>private</td>\n",
       "      <td>&lt; 5</td>\n",
       "      <td>81.0</td>\n",
       "      <td>76</td>\n",
       "      <td>80</td>\n",
       "    </tr>\n",
       "    <tr>\n",
       "      <th>30638</th>\n",
       "      <td>999</td>\n",
       "      <td>female</td>\n",
       "      <td>group B</td>\n",
       "      <td>associate's degree</td>\n",
       "      <td>standard</td>\n",
       "      <td>NaN</td>\n",
       "      <td>single</td>\n",
       "      <td>never</td>\n",
       "      <td>yes</td>\n",
       "      <td>5.0</td>\n",
       "      <td>private</td>\n",
       "      <td>5 - 10</td>\n",
       "      <td>77.0</td>\n",
       "      <td>85</td>\n",
       "      <td>86</td>\n",
       "    </tr>\n",
       "    <tr>\n",
       "      <th>30639</th>\n",
       "      <td>999</td>\n",
       "      <td>male</td>\n",
       "      <td>NaN</td>\n",
       "      <td>some high school</td>\n",
       "      <td>free/reduced</td>\n",
       "      <td>completed</td>\n",
       "      <td>married</td>\n",
       "      <td>regularly</td>\n",
       "      <td>yes</td>\n",
       "      <td>5.0</td>\n",
       "      <td>school_bus</td>\n",
       "      <td>5 - 10</td>\n",
       "      <td>79.0</td>\n",
       "      <td>79</td>\n",
       "      <td>79</td>\n",
       "    </tr>\n",
       "    <tr>\n",
       "      <th>30640</th>\n",
       "      <td>999</td>\n",
       "      <td>male</td>\n",
       "      <td>group C</td>\n",
       "      <td>high school</td>\n",
       "      <td>standard</td>\n",
       "      <td>none</td>\n",
       "      <td>married</td>\n",
       "      <td>regularly</td>\n",
       "      <td>yes</td>\n",
       "      <td>NaN</td>\n",
       "      <td>school_bus</td>\n",
       "      <td>&lt; 5</td>\n",
       "      <td>66.0</td>\n",
       "      <td>63</td>\n",
       "      <td>57</td>\n",
       "    </tr>\n",
       "  </tbody>\n",
       "</table>\n",
       "</div>"
      ],
      "text/plain": [
       "       Unnamed: 0  Gender EthnicGroup          ParentEduc     LunchType  \\\n",
       "30636         999  female     group A         high school      standard   \n",
       "30637         999    male     group C   bachelor's degree      standard   \n",
       "30638         999  female     group B  associate's degree      standard   \n",
       "30639         999    male         NaN    some high school  free/reduced   \n",
       "30640         999    male     group C         high school      standard   \n",
       "\n",
       "        TestPrep ParentMaritalStatus PracticeSport IsFirstChild  NrSiblings  \\\n",
       "30636       none             married     sometimes           no         4.0   \n",
       "30637  completed             married     sometimes           no         5.0   \n",
       "30638        NaN              single         never          yes         5.0   \n",
       "30639  completed             married     regularly          yes         5.0   \n",
       "30640       none             married     regularly          yes         NaN   \n",
       "\n",
       "      TransportMeans WklyStudyHours  MathScore  ReadingScore  WritingScore  \n",
       "30636     school_bus         5 - 10       43.0            47            39  \n",
       "30637        private            < 5       81.0            76            80  \n",
       "30638        private         5 - 10       77.0            85            86  \n",
       "30639     school_bus         5 - 10       79.0            79            79  \n",
       "30640     school_bus            < 5       66.0            63            57  "
      ]
     },
     "execution_count": 21,
     "metadata": {},
     "output_type": "execute_result"
    }
   ],
   "source": [
    "# Visualización de los últimos 5 registros\n",
    "df_missing.tail()"
   ]
  },
  {
   "cell_type": "markdown",
   "metadata": {
    "id": "WUpIoknLM_uJ"
   },
   "source": [
    "**¿Cuántos datos nulos tenemos y en cuáles variables?**"
   ]
  },
  {
   "cell_type": "code",
   "execution_count": 22,
   "metadata": {
    "colab": {
     "base_uri": "https://localhost:8080/"
    },
    "id": "CJHd20JBM_uJ",
    "outputId": "26aef941-4642-41c1-f714-8a5c62f85fcb",
    "scrolled": true
   },
   "outputs": [
    {
     "data": {
      "text/plain": [
       "Unnamed: 0                0\n",
       "Gender                    0\n",
       "EthnicGroup            1840\n",
       "ParentEduc             1845\n",
       "LunchType                 0\n",
       "TestPrep               1830\n",
       "ParentMaritalStatus    1190\n",
       "PracticeSport           631\n",
       "IsFirstChild            904\n",
       "NrSiblings             1572\n",
       "TransportMeans         3134\n",
       "WklyStudyHours          955\n",
       "MathScore              4194\n",
       "ReadingScore              0\n",
       "WritingScore              0\n",
       "dtype: int64"
      ]
     },
     "execution_count": 22,
     "metadata": {},
     "output_type": "execute_result"
    }
   ],
   "source": [
    "df_missing.isnull().sum()"
   ]
  },
  {
   "cell_type": "markdown",
   "metadata": {
    "id": "pyKmBC1HM_uJ"
   },
   "source": [
    "**Visualización de missing**"
   ]
  },
  {
   "cell_type": "code",
   "execution_count": 23,
   "metadata": {
    "colab": {
     "base_uri": "https://localhost:8080/",
     "height": 592
    },
    "id": "JDYG4l2kM_uJ",
    "outputId": "fc6cf488-a734-4b63-834a-0048e2ea6549"
   },
   "outputs": [
    {
     "data": {
      "text/plain": [
       "Text(0.5, 1.0, 'Missing de la base de datos')"
      ]
     },
     "execution_count": 23,
     "metadata": {},
     "output_type": "execute_result"
    },
    {
     "data": {
      "image/png": "[encoded data removed]",
      "text/plain": [
       "<Figure size 640x480 with 1 Axes>"
      ]
     },
     "metadata": {},
     "output_type": "display_data"
    }
   ],
   "source": [
    "#Aquí estamos usando dos librerías de visualización simultaneamente\n",
    "sns.heatmap(df_missing.isnull(), cbar=False)\n",
    "plt.title(\"Missing de la base de datos\")\n",
    "# El eje Y es el índice y en el eje X se encuentran las variables."
   ]
  },
  {
   "cell_type": "markdown",
   "metadata": {
    "id": "WEUfTnUYM_uN"
   },
   "source": [
    "**Otras formas de visualizarlos (Para explorar...)**\n",
    "\n",
    "```\n",
    "    msno.matrix(df_missing)\n",
    "    plt.title('Matriz de missing')\n",
    "\n",
    "    msno.bar(df_missing)\n",
    "    plt.title('Datos completos')\n",
    "```"
   ]
  },
  {
   "cell_type": "markdown",
   "metadata": {
    "id": "W-TZFHN7M_uO"
   },
   "source": [
    "### Tratamientos"
   ]
  },
  {
   "cell_type": "markdown",
   "metadata": {
    "id": "_L-cKRXQM_uO"
   },
   "source": [
    "**1. Usar datos que tienen las filas completas.**\n",
    "\n",
    "    Esto sólo es apropiado cuando tenemos valores faltantes completamente aleatorios. De lo contrario podemos introducir sesgos.\n",
    "    \n",
    "    Otra desventaja: cuando eliminamos una fila entera porque le falta un dato en una columna, desechamos información valiosa en otras columnas."
   ]
  },
  {
   "cell_type": "code",
   "execution_count": 24,
   "metadata": {
    "colab": {
     "base_uri": "https://localhost:8080/"
    },
    "id": "dCoooEonM_uO",
    "outputId": "041d0c9d-2e37-46d4-f92e-0395a3ca8941",
    "scrolled": true
   },
   "outputs": [
    {
     "name": "stdout",
     "output_type": "stream",
     "text": [
      "valores faltantes en la puntuación de matemáticas: 0\n",
      "valores faltantes en el grupo etnico: 0\n"
     ]
    }
   ],
   "source": [
    "# Eliminamos las filas con missing\n",
    "df1_miss= df_missing.dropna(subset=['MathScore', 'EthnicGroup'])\n",
    "\n",
    "print(\"valores faltantes en la puntuación de matemáticas: \" +\n",
    "      str(df1_miss['MathScore'].isnull().sum()))\n",
    "print(\"valores faltantes en el grupo etnico: \" +\n",
    "      str(df1_miss['EthnicGroup'].isnull().sum()))"
   ]
  },
  {
   "cell_type": "code",
   "execution_count": 25,
   "metadata": {
    "colab": {
     "base_uri": "https://localhost:8080/"
    },
    "id": "AMClv4PZM_uO",
    "outputId": "34e85b81-5a01-46e4-9932-f71fda579d66"
   },
   "outputs": [
    {
     "data": {
      "text/plain": [
       "((30641, 15), (25193, 15))"
      ]
     },
     "execution_count": 25,
     "metadata": {},
     "output_type": "execute_result"
    }
   ],
   "source": [
    "# Comparemos las dimensiones de las bases de datos\n",
    "df_missing.shape,df1_miss.shape"
   ]
  },
  {
   "cell_type": "markdown",
   "metadata": {
    "id": "Xkk0pTjHM_uO"
   },
   "source": [
    "**2. Rellenamos los valores faltantes con el promedio de los datos para esa columna para variables númericas. Variables categóricas utilizamos la moda.**\n",
    "\n",
    "    También, sólo es apropiado cuando tenemos valores faltantes completamente aleatorios. De lo contrario podemos introducir sesgos.\n",
    "\n",
    "    No estamos incorporando incertidumbre de no observar los datos en las observaciones. Sólamente ponemos el (único valor) promedio de la columna."
   ]
  },
  {
   "cell_type": "code",
   "execution_count": 26,
   "metadata": {
    "colab": {
     "base_uri": "https://localhost:8080/"
    },
    "id": "gNQcmg4oM_uP",
    "outputId": "6d59232c-66ab-4544-f653-7e8eba76d669"
   },
   "outputs": [
    {
     "data": {
      "text/plain": [
       "4194"
      ]
     },
     "execution_count": 26,
     "metadata": {},
     "output_type": "execute_result"
    }
   ],
   "source": [
    "# Datos nulos\n",
    "df_missing['MathScore'].isnull().sum()"
   ]
  },
  {
   "cell_type": "code",
   "execution_count": 27,
   "metadata": {
    "colab": {
     "base_uri": "https://localhost:8080/"
    },
    "id": "Hw3X0RFvM_uP",
    "outputId": "9f9b7473-2a4a-417d-fc46-f430d65f4023"
   },
   "outputs": [
    {
     "name": "stdout",
     "output_type": "stream",
     "text": [
      "valores faltantes en la puntuación de matemáticas: 0\n"
     ]
    }
   ],
   "source": [
    "# Hacemos una copia de la base de datos\n",
    "df2_miss = df_missing.copy()\n",
    "# Imputamos los datos con la media\n",
    "df2_miss['MathScore'] = df2_miss['MathScore'].fillna(round(df2_miss['MathScore'].mean()))\n",
    "print(\"valores faltantes en la puntuación de matemáticas: \" + str(df2_miss['MathScore'].isnull().sum()))"
   ]
  },
  {
   "cell_type": "markdown",
   "metadata": {
    "id": "IgRoLzVFM_uP"
   },
   "source": [
    "¿Porqué redondeamos el puntaje?"
   ]
  },
  {
   "cell_type": "code",
   "execution_count": 28,
   "metadata": {
    "colab": {
     "base_uri": "https://localhost:8080/"
    },
    "id": "1MI89tLRM_uP",
    "outputId": "e3981933-30c6-4dfb-e8da-e665ac173662"
   },
   "outputs": [
    {
     "name": "stdout",
     "output_type": "stream",
     "text": [
      "valores perdidos en el grupo étnico: 0\n"
     ]
    }
   ],
   "source": [
    "# Imputamos la variable grupo étnico con la moda\n",
    "df2_miss['EthnicGroup'].fillna((df2_miss['EthnicGroup'].mode()[0]), inplace = True)\n",
    "print(\"valores perdidos en el grupo étnico: \" + str(df2_miss['EthnicGroup'].isnull().sum()))"
   ]
  },
  {
   "cell_type": "markdown",
   "metadata": {
    "id": "wyBnShvAM_uP"
   },
   "source": [
    "¿Porqúe utilizamos [0] este parámetro despues de la moda?"
   ]
  },
  {
   "cell_type": "code",
   "execution_count": 29,
   "metadata": {
    "colab": {
     "base_uri": "https://localhost:8080/"
    },
    "id": "3I7fa0jBM_uP",
    "outputId": "33e66f8f-120f-4ebf-8b45-f80e17015b06"
   },
   "outputs": [
    {
     "data": {
      "text/plain": [
       "((30641, 15), (30641, 15))"
      ]
     },
     "execution_count": 29,
     "metadata": {},
     "output_type": "execute_result"
    }
   ],
   "source": [
    "# Comparemos las dimensiones de las bases de datos\n",
    "df_missing.shape,df2_miss.shape"
   ]
  },
  {
   "cell_type": "code",
   "execution_count": 30,
   "metadata": {
    "colab": {
     "base_uri": "https://localhost:8080/",
     "height": 300
    },
    "id": "F7Yc5Pce-4dl",
    "outputId": "f8cb6fb3-2b9c-4bb7-dd1f-9eb5c9784baa"
   },
   "outputs": [
    {
     "data": {
      "text/html": [
       "<div>\n",
       "<style scoped>\n",
       "    .dataframe tbody tr th:only-of-type {\n",
       "        vertical-align: middle;\n",
       "    }\n",
       "\n",
       "    .dataframe tbody tr th {\n",
       "        vertical-align: top;\n",
       "    }\n",
       "\n",
       "    .dataframe thead th {\n",
       "        text-align: right;\n",
       "    }\n",
       "</style>\n",
       "<table border=\"1\" class=\"dataframe\">\n",
       "  <thead>\n",
       "    <tr style=\"text-align: right;\">\n",
       "      <th></th>\n",
       "      <th>Unnamed: 0</th>\n",
       "      <th>NrSiblings</th>\n",
       "      <th>MathScore</th>\n",
       "      <th>ReadingScore</th>\n",
       "      <th>WritingScore</th>\n",
       "    </tr>\n",
       "  </thead>\n",
       "  <tbody>\n",
       "    <tr>\n",
       "      <th>count</th>\n",
       "      <td>30641.000000</td>\n",
       "      <td>29069.000000</td>\n",
       "      <td>26447.000000</td>\n",
       "      <td>30641.000000</td>\n",
       "      <td>30641.000000</td>\n",
       "    </tr>\n",
       "    <tr>\n",
       "      <th>mean</th>\n",
       "      <td>499.556607</td>\n",
       "      <td>2.145894</td>\n",
       "      <td>66.527092</td>\n",
       "      <td>69.377533</td>\n",
       "      <td>68.418622</td>\n",
       "    </tr>\n",
       "    <tr>\n",
       "      <th>std</th>\n",
       "      <td>288.747894</td>\n",
       "      <td>1.458242</td>\n",
       "      <td>15.392749</td>\n",
       "      <td>14.758952</td>\n",
       "      <td>15.443525</td>\n",
       "    </tr>\n",
       "    <tr>\n",
       "      <th>min</th>\n",
       "      <td>0.000000</td>\n",
       "      <td>0.000000</td>\n",
       "      <td>0.000000</td>\n",
       "      <td>10.000000</td>\n",
       "      <td>4.000000</td>\n",
       "    </tr>\n",
       "    <tr>\n",
       "      <th>25%</th>\n",
       "      <td>249.000000</td>\n",
       "      <td>1.000000</td>\n",
       "      <td>56.000000</td>\n",
       "      <td>59.000000</td>\n",
       "      <td>58.000000</td>\n",
       "    </tr>\n",
       "    <tr>\n",
       "      <th>50%</th>\n",
       "      <td>500.000000</td>\n",
       "      <td>2.000000</td>\n",
       "      <td>67.000000</td>\n",
       "      <td>70.000000</td>\n",
       "      <td>69.000000</td>\n",
       "    </tr>\n",
       "    <tr>\n",
       "      <th>75%</th>\n",
       "      <td>750.000000</td>\n",
       "      <td>3.000000</td>\n",
       "      <td>78.000000</td>\n",
       "      <td>80.000000</td>\n",
       "      <td>79.000000</td>\n",
       "    </tr>\n",
       "    <tr>\n",
       "      <th>max</th>\n",
       "      <td>999.000000</td>\n",
       "      <td>7.000000</td>\n",
       "      <td>100.000000</td>\n",
       "      <td>100.000000</td>\n",
       "      <td>100.000000</td>\n",
       "    </tr>\n",
       "  </tbody>\n",
       "</table>\n",
       "</div>"
      ],
      "text/plain": [
       "         Unnamed: 0    NrSiblings     MathScore  ReadingScore  WritingScore\n",
       "count  30641.000000  29069.000000  26447.000000  30641.000000  30641.000000\n",
       "mean     499.556607      2.145894     66.527092     69.377533     68.418622\n",
       "std      288.747894      1.458242     15.392749     14.758952     15.443525\n",
       "min        0.000000      0.000000      0.000000     10.000000      4.000000\n",
       "25%      249.000000      1.000000     56.000000     59.000000     58.000000\n",
       "50%      500.000000      2.000000     67.000000     70.000000     69.000000\n",
       "75%      750.000000      3.000000     78.000000     80.000000     79.000000\n",
       "max      999.000000      7.000000    100.000000    100.000000    100.000000"
      ]
     },
     "execution_count": 30,
     "metadata": {},
     "output_type": "execute_result"
    }
   ],
   "source": [
    "df_missing.describe()"
   ]
  },
  {
   "cell_type": "code",
   "execution_count": 31,
   "metadata": {
    "colab": {
     "base_uri": "https://localhost:8080/",
     "height": 300
    },
    "id": "Su3T9GaP-4cX",
    "outputId": "d1f0fbfd-3f50-43af-a302-9d5c6405607f"
   },
   "outputs": [
    {
     "data": {
      "text/html": [
       "<div>\n",
       "<style scoped>\n",
       "    .dataframe tbody tr th:only-of-type {\n",
       "        vertical-align: middle;\n",
       "    }\n",
       "\n",
       "    .dataframe tbody tr th {\n",
       "        vertical-align: top;\n",
       "    }\n",
       "\n",
       "    .dataframe thead th {\n",
       "        text-align: right;\n",
       "    }\n",
       "</style>\n",
       "<table border=\"1\" class=\"dataframe\">\n",
       "  <thead>\n",
       "    <tr style=\"text-align: right;\">\n",
       "      <th></th>\n",
       "      <th>Unnamed: 0</th>\n",
       "      <th>NrSiblings</th>\n",
       "      <th>MathScore</th>\n",
       "      <th>ReadingScore</th>\n",
       "      <th>WritingScore</th>\n",
       "    </tr>\n",
       "  </thead>\n",
       "  <tbody>\n",
       "    <tr>\n",
       "      <th>count</th>\n",
       "      <td>30641.000000</td>\n",
       "      <td>29069.000000</td>\n",
       "      <td>30641.000000</td>\n",
       "      <td>30641.000000</td>\n",
       "      <td>30641.000000</td>\n",
       "    </tr>\n",
       "    <tr>\n",
       "      <th>mean</th>\n",
       "      <td>499.556607</td>\n",
       "      <td>2.145894</td>\n",
       "      <td>66.591821</td>\n",
       "      <td>69.377533</td>\n",
       "      <td>68.418622</td>\n",
       "    </tr>\n",
       "    <tr>\n",
       "      <th>std</th>\n",
       "      <td>288.747894</td>\n",
       "      <td>1.458242</td>\n",
       "      <td>14.301443</td>\n",
       "      <td>14.758952</td>\n",
       "      <td>15.443525</td>\n",
       "    </tr>\n",
       "    <tr>\n",
       "      <th>min</th>\n",
       "      <td>0.000000</td>\n",
       "      <td>0.000000</td>\n",
       "      <td>0.000000</td>\n",
       "      <td>10.000000</td>\n",
       "      <td>4.000000</td>\n",
       "    </tr>\n",
       "    <tr>\n",
       "      <th>25%</th>\n",
       "      <td>249.000000</td>\n",
       "      <td>1.000000</td>\n",
       "      <td>58.000000</td>\n",
       "      <td>59.000000</td>\n",
       "      <td>58.000000</td>\n",
       "    </tr>\n",
       "    <tr>\n",
       "      <th>50%</th>\n",
       "      <td>500.000000</td>\n",
       "      <td>2.000000</td>\n",
       "      <td>67.000000</td>\n",
       "      <td>70.000000</td>\n",
       "      <td>69.000000</td>\n",
       "    </tr>\n",
       "    <tr>\n",
       "      <th>75%</th>\n",
       "      <td>750.000000</td>\n",
       "      <td>3.000000</td>\n",
       "      <td>76.000000</td>\n",
       "      <td>80.000000</td>\n",
       "      <td>79.000000</td>\n",
       "    </tr>\n",
       "    <tr>\n",
       "      <th>max</th>\n",
       "      <td>999.000000</td>\n",
       "      <td>7.000000</td>\n",
       "      <td>100.000000</td>\n",
       "      <td>100.000000</td>\n",
       "      <td>100.000000</td>\n",
       "    </tr>\n",
       "  </tbody>\n",
       "</table>\n",
       "</div>"
      ],
      "text/plain": [
       "         Unnamed: 0    NrSiblings     MathScore  ReadingScore  WritingScore\n",
       "count  30641.000000  29069.000000  30641.000000  30641.000000  30641.000000\n",
       "mean     499.556607      2.145894     66.591821     69.377533     68.418622\n",
       "std      288.747894      1.458242     14.301443     14.758952     15.443525\n",
       "min        0.000000      0.000000      0.000000     10.000000      4.000000\n",
       "25%      249.000000      1.000000     58.000000     59.000000     58.000000\n",
       "50%      500.000000      2.000000     67.000000     70.000000     69.000000\n",
       "75%      750.000000      3.000000     76.000000     80.000000     79.000000\n",
       "max      999.000000      7.000000    100.000000    100.000000    100.000000"
      ]
     },
     "execution_count": 31,
     "metadata": {},
     "output_type": "execute_result"
    }
   ],
   "source": [
    "df2_miss.describe()"
   ]
  },
  {
   "cell_type": "markdown",
   "metadata": {
    "id": "GUu3BTLi_vSU"
   },
   "source": [
    "Observemos el cambio que existe en la desviación estándar entre ambas versiones."
   ]
  },
  {
   "cell_type": "markdown",
   "metadata": {
    "id": "uZ23s4sFM_uQ"
   },
   "source": [
    "Así es, la dimensión de la base no cambio porque imputamos los datos."
   ]
  },
  {
   "cell_type": "markdown",
   "metadata": {
    "id": "RG_OJOOQM_uQ"
   },
   "source": [
    "**3. Uso de modelos predictivos para estimar missing**\n",
    "\n",
    "Para esto vamos a utilizar la librería sklearn: https://scikit-learn.org/stable/modules/generated/sklearn.impute.KNNImputer.html"
   ]
  },
  {
   "cell_type": "markdown",
   "metadata": {
    "id": "4Kq2jP7-M_uQ"
   },
   "source": [
    "El KNNImputer predice el valor de un valor faltante al observar tendencias en columnas relacionadas. A continuación, elige el valor de mejor ajuste basado en el algoritmo k-vecinos más cercanos."
   ]
  },
  {
   "cell_type": "code",
   "execution_count": 32,
   "metadata": {
    "id": "ODQuC7c4NhY0"
   },
   "outputs": [],
   "source": [
    "from IPython import display  # Cargue de las imagenes"
   ]
  },
  {
   "cell_type": "markdown",
   "metadata": {},
   "source": [
    "![Imágen1](https://raw.githubusercontent.com/jazaineam1/Andes_ADDBD/main/Sesion7/Imputaci%C3%B3n.png)"
   ]
  },
  {
   "cell_type": "code",
   "execution_count": 34,
   "metadata": {
    "id": "CR1jtSQpM_uQ"
   },
   "outputs": [],
   "source": [
    "# Cargamos la librería\n",
    "from sklearn.impute import KNNImputer # Nueva librería para imputar datos\n",
    "\n",
    "# Construcción del modelo (Que será estudiado con detalle en el módulo 4 de este curso)\n",
    "imputacion = KNNImputer(n_neighbors=5)\n"
   ]
  },
  {
   "cell_type": "code",
   "execution_count": 35,
   "metadata": {
    "colab": {
     "base_uri": "https://localhost:8080/",
     "height": 74
    },
    "id": "nKvTIMnqM_uQ",
    "outputId": "3560eb7b-66de-4d5c-b17c-a8cd194ddf8c"
   },
   "outputs": [
    {
     "data": {
      "text/html": [
       "<style>#sk-container-id-1 {color: black;}#sk-container-id-1 pre{padding: 0;}#sk-container-id-1 div.sk-toggleable {background-color: white;}#sk-container-id-1 label.sk-toggleable__label {cursor: pointer;display: block;width: 100%;margin-bottom: 0;padding: 0.3em;box-sizing: border-box;text-align: center;}#sk-container-id-1 label.sk-toggleable__label-arrow:before {content: \"▸\";float: left;margin-right: 0.25em;color: #696969;}#sk-container-id-1 label.sk-toggleable__label-arrow:hover:before {color: black;}#sk-container-id-1 div.sk-estimator:hover label.sk-toggleable__label-arrow:before {color: black;}#sk-container-id-1 div.sk-toggleable__content {max-height: 0;max-width: 0;overflow: hidden;text-align: left;background-color: #f0f8ff;}#sk-container-id-1 div.sk-toggleable__content pre {margin: 0.2em;color: black;border-radius: 0.25em;background-color: #f0f8ff;}#sk-container-id-1 input.sk-toggleable__control:checked~div.sk-toggleable__content {max-height: 200px;max-width: 100%;overflow: auto;}#sk-container-id-1 input.sk-toggleable__control:checked~label.sk-toggleable__label-arrow:before {content: \"▾\";}#sk-container-id-1 div.sk-estimator input.sk-toggleable__control:checked~label.sk-toggleable__label {background-color: #d4ebff;}#sk-container-id-1 div.sk-label input.sk-toggleable__control:checked~label.sk-toggleable__label {background-color: #d4ebff;}#sk-container-id-1 input.sk-hidden--visually {border: 0;clip: rect(1px 1px 1px 1px);clip: rect(1px, 1px, 1px, 1px);height: 1px;margin: -1px;overflow: hidden;padding: 0;position: absolute;width: 1px;}#sk-container-id-1 div.sk-estimator {font-family: monospace;background-color: #f0f8ff;border: 1px dotted black;border-radius: 0.25em;box-sizing: border-box;margin-bottom: 0.5em;}#sk-container-id-1 div.sk-estimator:hover {background-color: #d4ebff;}#sk-container-id-1 div.sk-parallel-item::after {content: \"\";width: 100%;border-bottom: 1px solid gray;flex-grow: 1;}#sk-container-id-1 div.sk-label:hover label.sk-toggleable__label {background-color: #d4ebff;}#sk-container-id-1 div.sk-serial::before {content: \"\";position: absolute;border-left: 1px solid gray;box-sizing: border-box;top: 0;bottom: 0;left: 50%;z-index: 0;}#sk-container-id-1 div.sk-serial {display: flex;flex-direction: column;align-items: center;background-color: white;padding-right: 0.2em;padding-left: 0.2em;position: relative;}#sk-container-id-1 div.sk-item {position: relative;z-index: 1;}#sk-container-id-1 div.sk-parallel {display: flex;align-items: stretch;justify-content: center;background-color: white;position: relative;}#sk-container-id-1 div.sk-item::before, #sk-container-id-1 div.sk-parallel-item::before {content: \"\";position: absolute;border-left: 1px solid gray;box-sizing: border-box;top: 0;bottom: 0;left: 50%;z-index: -1;}#sk-container-id-1 div.sk-parallel-item {display: flex;flex-direction: column;z-index: 1;position: relative;background-color: white;}#sk-container-id-1 div.sk-parallel-item:first-child::after {align-self: flex-end;width: 50%;}#sk-container-id-1 div.sk-parallel-item:last-child::after {align-self: flex-start;width: 50%;}#sk-container-id-1 div.sk-parallel-item:only-child::after {width: 0;}#sk-container-id-1 div.sk-dashed-wrapped {border: 1px dashed gray;margin: 0 0.4em 0.5em 0.4em;box-sizing: border-box;padding-bottom: 0.4em;background-color: white;}#sk-container-id-1 div.sk-label label {font-family: monospace;font-weight: bold;display: inline-block;line-height: 1.2em;}#sk-container-id-1 div.sk-label-container {text-align: center;}#sk-container-id-1 div.sk-container {/* jupyter's `normalize.less` sets `[hidden] { display: none; }` but bootstrap.min.css set `[hidden] { display: none !important; }` so we also need the `!important` here to be able to override the default hidden behavior on the sphinx rendered scikit-learn.org. See: https://github.com/scikit-learn/scikit-learn/issues/21755 */display: inline-block !important;position: relative;}#sk-container-id-1 div.sk-text-repr-fallback {display: none;}</style><div id=\"sk-container-id-1\" class=\"sk-top-container\"><div class=\"sk-text-repr-fallback\"><pre>KNNImputer()</pre><b>In a Jupyter environment, please rerun this cell to show the HTML representation or trust the notebook. <br />On GitHub, the HTML representation is unable to render, please try loading this page with nbviewer.org.</b></div><div class=\"sk-container\" hidden><div class=\"sk-item\"><div class=\"sk-estimator sk-toggleable\"><input class=\"sk-toggleable__control sk-hidden--visually\" id=\"sk-estimator-id-1\" type=\"checkbox\" checked><label for=\"sk-estimator-id-1\" class=\"sk-toggleable__label sk-toggleable__label-arrow\">KNNImputer</label><div class=\"sk-toggleable__content\"><pre>KNNImputer()</pre></div></div></div></div></div>"
      ],
      "text/plain": [
       "KNNImputer()"
      ]
     },
     "execution_count": 35,
     "metadata": {},
     "output_type": "execute_result"
    }
   ],
   "source": [
    "# Copia a nuestra base de datos\n",
    "df_missing3 = df_missing.copy()\n",
    "# Imputación de los missing a partir de las variables\n",
    "imputacion.fit(df_missing3[[\"MathScore\"]])"
   ]
  },
  {
   "cell_type": "code",
   "execution_count": 36,
   "metadata": {
    "id": "jOgtcYi6M_uR"
   },
   "outputs": [],
   "source": [
    "# Reemplazamos la variable con los valores imputados\n",
    "df_missing3[\"MathScore\"] = np.round((imputacion.transform(df_missing3[[\"MathScore\"]]).ravel()))"
   ]
  },
  {
   "cell_type": "code",
   "execution_count": 37,
   "metadata": {
    "colab": {
     "base_uri": "https://localhost:8080/"
    },
    "id": "k1CCNvejM_uR",
    "outputId": "96837873-1b98-46f8-d31f-f702c88b310e",
    "scrolled": true
   },
   "outputs": [
    {
     "name": "stdout",
     "output_type": "stream",
     "text": [
      "Valores perdidos en la puntuación de matemáticas: 0\n"
     ]
    }
   ],
   "source": [
    "print(\"Valores perdidos en la puntuación de matemáticas: \" +\n",
    "      str(df_missing3['MathScore'].isnull().sum()))"
   ]
  },
  {
   "cell_type": "markdown",
   "metadata": {
    "id": "QBR4gtHoM_uR"
   },
   "source": [
    "--"
   ]
  },
  {
   "cell_type": "markdown",
   "metadata": {
    "id": "dO73eewOM_uT"
   },
   "source": [
    "**Comparemos, los dos métodos de imputación utilizados**"
   ]
  },
  {
   "cell_type": "markdown",
   "metadata": {
    "id": "vt-15VtuM_uT"
   },
   "source": [
    "1. Identifiquemos los registros nulos en la base de datos inicial."
   ]
  },
  {
   "cell_type": "code",
   "execution_count": 38,
   "metadata": {
    "colab": {
     "base_uri": "https://localhost:8080/"
    },
    "id": "3f6bCf6FM_uT",
    "outputId": "63785c20-2b60-4fc2-d8cd-7053c2350570"
   },
   "outputs": [
    {
     "data": {
      "text/plain": [
       "Index([   13,    31,    35,    39,    44,    47,    52,    53,    72,    90,\n",
       "       ...\n",
       "       30538, 30564, 30568, 30578, 30579, 30600, 30609, 30613, 30622, 30625],\n",
       "      dtype='int64', length=4194)"
      ]
     },
     "execution_count": 38,
     "metadata": {},
     "output_type": "execute_result"
    }
   ],
   "source": [
    "df_missing[df_missing['MathScore'].isna()].index"
   ]
  },
  {
   "cell_type": "markdown",
   "metadata": {
    "id": "p7xhyU7HM_uU"
   },
   "source": [
    "2. El código anterior, nos muestra los índices con missing. Ahora podremos filtrar por índices."
   ]
  },
  {
   "cell_type": "code",
   "execution_count": 39,
   "metadata": {
    "colab": {
     "base_uri": "https://localhost:8080/"
    },
    "id": "aUlESVvJM_uU",
    "outputId": "12c3bfae-7a66-4ff4-c63a-00b859145782"
   },
   "outputs": [
    {
     "data": {
      "text/plain": [
       "(74.0, 74.0, 74.0)"
      ]
     },
     "execution_count": 39,
     "metadata": {},
     "output_type": "execute_result"
    }
   ],
   "source": [
    "#Filtro por el índice 0 para probar:\n",
    "\n",
    "df_missing.loc[0]['MathScore'], df2_miss.loc[0]['MathScore'], df_missing3.loc[0]['MathScore']"
   ]
  },
  {
   "cell_type": "code",
   "execution_count": 40,
   "metadata": {
    "colab": {
     "base_uri": "https://localhost:8080/"
    },
    "id": "Ino6-NhPM_uU",
    "outputId": "3dd2c14d-0912-4c83-9f29-7bb784ab73df"
   },
   "outputs": [
    {
     "data": {
      "text/plain": [
       "(nan, 67.0, 67.0)"
      ]
     },
     "execution_count": 40,
     "metadata": {},
     "output_type": "execute_result"
    }
   ],
   "source": [
    "#Filtro por el índice 13 para validar:\n",
    "\n",
    "df_missing.loc[13]['MathScore'], df2_miss.loc[13]['MathScore'], df_missing3.loc[13]['MathScore']"
   ]
  },
  {
   "cell_type": "code",
   "execution_count": 43,
   "metadata": {
    "colab": {
     "base_uri": "https://localhost:8080/"
    },
    "id": "YVYnIc7vM_uU",
    "outputId": "0a1a1e11-4d8c-4c2b-c3ee-32325f010cc6"
   },
   "outputs": [
    {
     "data": {
      "text/plain": [
       "(nan, 67.0, 67.0)"
      ]
     },
     "execution_count": 43,
     "metadata": {},
     "output_type": "execute_result"
    }
   ],
   "source": [
    "#Filtro por el índice 72 para validar:\n",
    "\n",
    "df_missing.loc[72]['MathScore'], df2_miss.loc[72]['MathScore'], df_missing3.loc[72]['MathScore']"
   ]
  },
  {
   "cell_type": "code",
   "execution_count": 44,
   "metadata": {
    "colab": {
     "base_uri": "https://localhost:8080/"
    },
    "id": "Ij5QgyKjM_uU",
    "outputId": "e64ce371-83fe-4d02-ab44-d7693e700dfe"
   },
   "outputs": [
    {
     "data": {
      "text/plain": [
       "(nan, 67.0, 67.0)"
      ]
     },
     "execution_count": 44,
     "metadata": {},
     "output_type": "execute_result"
    }
   ],
   "source": [
    "#Filtro por el índice 30613 para validar:\n",
    "\n",
    "df_missing.loc[30613]['MathScore'], df2_miss.loc[30613]['MathScore'], df_missing3.loc[30613]['MathScore']"
   ]
  },
  {
   "cell_type": "markdown",
   "metadata": {
    "id": "6MjAmxprOh2L"
   },
   "source": [
    "**Para practicar....**\n",
    "\n",
    "- Busque una base en Kaggle con datos faltantes, analicela y aplique en ella la técnica que considere pertinente."
   ]
  }
 ],
 "metadata": {
  "colab": {
   "provenance": []
  },
  "kernelspec": {
   "display_name": "Python 3 (ipykernel)",
   "language": "python",
   "name": "python3"
  },
  "language_info": {
   "codemirror_mode": {
    "name": "ipython",
    "version": 3
   },
   "file_extension": ".py",
   "mimetype": "text/x-python",
   "name": "python",
   "nbconvert_exporter": "python",
   "pygments_lexer": "ipython3",
   "version": "3.10.12"
  }
 },
 "nbformat": 4,
 "nbformat_minor": 4
}
