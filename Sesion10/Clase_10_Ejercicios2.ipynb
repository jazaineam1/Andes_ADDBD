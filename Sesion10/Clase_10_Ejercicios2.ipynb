{
  "nbformat": 4,
  "nbformat_minor": 0,
  "metadata": {
    "colab": {
      "provenance": [],
      "include_colab_link": true
    },
    "kernelspec": {
      "name": "python3",
      "display_name": "Python 3"
    },
    "language_info": {
      "name": "python"
    }
  },
  "cells": [
    {
      "cell_type": "markdown",
      "metadata": {
        "id": "view-in-github",
        "colab_type": "text"
      },
      "source": [
        "<a href=\"https://colab.research.google.com/github/jazaineam1/Andes_ADDBD/blob/main/Sesion10/Clase_10_Ejercicios2.ipynb\" target=\"_parent\"><img src=\"https://colab.research.google.com/assets/colab-badge.svg\" alt=\"Open In Colab\"/></a>"
      ]
    },
    {
      "cell_type": "markdown",
      "source": [
        "# ***Análisis de Datos y Big data***\n",
        "\n",
        "## ***Universidad de los Andes***\n",
        ">## **Dirección de Educación Continua.**\n",
        ">>## **Formación de habilidades escenciales.**\n",
        "\n",
        "![Imágen1](https://github.com/jazaineam1/Andes_ADDBD/blob/main/Imagenes/Presentaci%C3%B3n-removebg-preview.png?raw=true)\n",
        "\n",
        "# Taller de análisis exploratorio\n",
        "\n",
        "En este taller el objetivo es que usted utilice las herramientas de análisis exploratorio que hemos adquirido para trabajar con\n",
        "\n",
        "Al final de este taller la idea es que usted se encuentre en la capacidad de:\n",
        "* Cargar una base de datos\n",
        "* Familiarizarnos con la unidad de observación\n",
        "* Desarrollar un breve proceso de limpieza de datos\n",
        "* Dirigir un proceso de análisis exploratorio orientado a una pregunta de negocio\n",
        "\n",
        "<sub>* Ejercicio de simulación pedagógica diseñado para el entrenamiento de competencias de análisis descriptivo de datos.</sub>"
      ],
      "metadata": {
        "id": "vpGt5ym6Giu9"
      }
    },
    {
      "cell_type": "markdown",
      "source": [
        "## Cámara de Comercio de Bogotá\n",
        "Para este caso problema usted está analizando información sobre las **entidades en CCB** del registro de información financiera y general para el tercer trimestre de 2022 en la Cámara de Comercio de Bogotá.\n",
        "\n",
        "La Cámara de Comercio se dispone a lanzar un **programa de entrenamiento** para fortalecer **las ventas las empresas**, y desea identificar en qué tipo de entidades debe focalizar los recursos. Para esto:\n",
        "\n",
        "- La CCB cuenta con **registros detallados** de cada entidad registrada\n",
        "- La idea es identificar si es mejor focalizar la convocatoria **por tamaño de empresa** o por **tipo de sociedad**.\n",
        "- La matrícula mercantil aquí puesta es ficticia, como un id anónimo.\n",
        "\n",
        "Antes de correr los análisis usted debe **explorar y limpiar** las bases de datos y posteriormente implementar visualizaciones que le permitan aproximarse a la pregunta:\n",
        "\n",
        "¿Sobre qué tipo de empresas deberían prioriarse los entrenamientos para mejorar las ventas?"
      ],
      "metadata": {
        "id": "R6hPKcVILmgH"
      }
    },
    {
      "cell_type": "markdown",
      "source": [
        "![Edificio de la Cámara de Comercio de Bogotá en la calle 26](https://upload.wikimedia.org/wikipedia/commons/1/1d/C%C3%A1mara_4_Comercio_Bogot%C3%A1_Cund%2C_Col.jpg)"
      ],
      "metadata": {
        "id": "NcH5Jsen1BRw"
      }
    },
    {
      "cell_type": "markdown",
      "source": [
        "### Cargar y observar los datos\n",
        "\n",
        "### Cargar y observar los datos\n",
        "\n",
        "El conjunto de datos se encuentra en el [enlace](https://github.com/jazaineam1/Andes_ADDBD/raw/main/Sesion10/2022-3_ccb_registros.xlsx)"
      ],
      "metadata": {
        "id": "9OXCQPsmPHw9"
      }
    },
    {
      "cell_type": "code",
      "source": [
        "# Importar pandas\n",
        "import pandas as pd\n",
        "from matplotlib import pyplot as plt\n",
        "import numpy as np\n",
        "import seaborn as sns\n",
        "import cv2"
      ],
      "metadata": {
        "id": "s12MGeaJqnCF"
      },
      "execution_count": null,
      "outputs": []
    },
    {
      "cell_type": "code",
      "source": [
        "# Cargar datos\n",
        "camara = pd.ExcelFile(r'2022-3_ccb_registros.xlsx')\n",
        "camara.sheet_names"
      ],
      "metadata": {
        "id": "Dyn6LfJ1NV10"
      },
      "execution_count": null,
      "outputs": []
    },
    {
      "cell_type": "markdown",
      "source": [
        "#### Ejercicio 1"
      ],
      "metadata": {
        "id": "UAWY8PLW2ALr"
      }
    },
    {
      "cell_type": "code",
      "source": [
        "# Cargar en dos dataframes distintos cada pestaña modificando el atributo correspondiente\n",
        "camara_gral =\n",
        "camara_financiera ="
      ],
      "metadata": {
        "id": "kRH8uZuCNyNa"
      },
      "execution_count": null,
      "outputs": []
    },
    {
      "cell_type": "markdown",
      "source": [
        "**Explorar:** revisemos información sobre las columnas de cada tabla. Utilice las funciones info y head de Pandas para cada una de las 2 tablas."
      ],
      "metadata": {
        "id": "aIrupTUNrVhS"
      }
    },
    {
      "cell_type": "code",
      "source": [],
      "metadata": {
        "id": "Gfj618ysOhYu"
      },
      "execution_count": null,
      "outputs": []
    },
    {
      "cell_type": "code",
      "source": [],
      "metadata": {
        "id": "3m75Is6COv7p"
      },
      "execution_count": null,
      "outputs": []
    },
    {
      "cell_type": "code",
      "source": [],
      "metadata": {
        "id": "59Pb2TPMOkMo"
      },
      "execution_count": null,
      "outputs": []
    },
    {
      "cell_type": "code",
      "source": [],
      "metadata": {
        "id": "_c1hBNP7O2Cf"
      },
      "execution_count": null,
      "outputs": []
    },
    {
      "cell_type": "markdown",
      "source": [
        "#### Ejercicio 2\n",
        "\n",
        "Describa brevemente qué tipo de información tiene cada data frame:\n",
        "\n"
      ],
      "metadata": {
        "id": "RjQiuizXrr3N"
      }
    },
    {
      "cell_type": "markdown",
      "source": [
        "### Limpieza"
      ],
      "metadata": {
        "id": "-Xvjzj1OO8WU"
      }
    },
    {
      "cell_type": "markdown",
      "source": [
        "#### Ejercicio 3"
      ],
      "metadata": {
        "id": "nb_wpogU2WNF"
      }
    },
    {
      "cell_type": "markdown",
      "source": [
        "**Ejercicio**: Note que una de las columnas (Total Valor Ventas Netas) parece tener sólamente valores cero. Detalle esta columna para revisar qué tipos de valores tiene. Puede utilizar la función describe para obtener los cuartiles.\n",
        "\n",
        "\n",
        "\n"
      ],
      "metadata": {
        "id": "kk-GgIr2POS4"
      }
    },
    {
      "cell_type": "code",
      "source": [],
      "metadata": {
        "id": "dzyiyO4sPSPj"
      },
      "execution_count": null,
      "outputs": []
    },
    {
      "cell_type": "markdown",
      "source": [
        "El valor mínimo es negativo, y tenemos que ¡al menos el 75% de los datos es cero!"
      ],
      "metadata": {
        "id": "rIxKlQEbPk6-"
      }
    },
    {
      "cell_type": "code",
      "source": [
        "# Vamos a quedarnos sólamente con las filas que tienen ventas mayores a cero.\n",
        "# Es decir, hacemos elegibles sólamente a las empresas que han vendido algo en\n",
        "# este periodo.\n",
        "no_utilizar = camara_financiera['Total Valor Ventas Netas'] <= 0\n",
        "no_utilizar"
      ],
      "metadata": {
        "id": "OHaV_baYPuyt"
      },
      "execution_count": null,
      "outputs": []
    },
    {
      "cell_type": "code",
      "source": [
        "# Usamos loc siempre que queremos reemplazar valores utilizando condiciones lógicas\n",
        "camara_financiera.loc[no_utilizar, 'Total Valor Ventas Netas'] = np.nan"
      ],
      "metadata": {
        "id": "jBfvtDpUQQd9"
      },
      "execution_count": null,
      "outputs": []
    },
    {
      "cell_type": "code",
      "source": [
        "# Así, tenemos:\n",
        "camara_financiera['Total Valor Ventas Netas'].describe()"
      ],
      "metadata": {
        "id": "I9780hecQcm6"
      },
      "execution_count": null,
      "outputs": []
    },
    {
      "cell_type": "markdown",
      "source": [
        "### Unión"
      ],
      "metadata": {
        "id": "0tWaQ0VORxBi"
      }
    },
    {
      "cell_type": "markdown",
      "source": [
        "#### Ejercicio 4"
      ],
      "metadata": {
        "id": "onGOWY_q2jxu"
      }
    },
    {
      "cell_type": "markdown",
      "source": [
        "**Ejercicio**: Considere qué tipo de unión es adecuada entre las dos tablas para poder relacionar ventas con el tipo de sociedad/entidad. Impleméntela a continuación. En caso de ser una unión horizontal considere todas las filas."
      ],
      "metadata": {
        "id": "QXf9XQnpRzuk"
      }
    },
    {
      "cell_type": "code",
      "source": [
        "entidades_camara ="
      ],
      "metadata": {
        "id": "z5vdrgEtRzPI"
      },
      "execution_count": null,
      "outputs": []
    },
    {
      "cell_type": "code",
      "source": [
        "entidades_camara.head(3)"
      ],
      "metadata": {
        "id": "qhNQF5skS6yQ"
      },
      "execution_count": null,
      "outputs": []
    },
    {
      "cell_type": "code",
      "source": [
        "entidades_camara['_merge'].value_counts()"
      ],
      "metadata": {
        "id": "9JqleNKOTMGm"
      },
      "execution_count": null,
      "outputs": []
    },
    {
      "cell_type": "markdown",
      "source": [
        "Tenga en cuaneta si la cantidad de filas que pegaron tiene sentido."
      ],
      "metadata": {
        "id": "9Fxc0pLrThsE"
      }
    },
    {
      "cell_type": "markdown",
      "source": [
        "### Gráficos\n",
        "\n",
        "Para elaborar el análisis gráfico, se le sugiere un procedimiento tipo *drill down*.\n",
        "\n",
        "Esto es:</br>\n",
        "1) Formalizamos estadísticamente la pregunta de negocio</br>\n",
        "2) Hacemos visualizaciones univariadas</br>\n",
        "3) Hacemos visualizaciones cruzadas"
      ],
      "metadata": {
        "id": "HLYO2sf_Rncg"
      }
    },
    {
      "cell_type": "markdown",
      "source": [
        "Primero hagamos un par de procedimientos de referencia. Primero, veamos la distribución de las ventas netas por tipo de organización jurídica. Eso nos da una idea de qué magnitud tienen los valores."
      ],
      "metadata": {
        "id": "tdlapsVNRwLb"
      }
    },
    {
      "cell_type": "code",
      "source": [
        "# Este estilo de gráfica queremos lograr (recuerden poner los archivos de imágen en la carpeta sample_data)\n",
        "g1 = cv2.imread('g1.png',1)\n",
        "plt.imshow(g1)\n",
        "plt.axis(\"off\")\n",
        "plt.show()"
      ],
      "metadata": {
        "id": "2Ubig7hZ5-P9"
      },
      "execution_count": null,
      "outputs": []
    },
    {
      "cell_type": "code",
      "source": [
        "sns.boxplot(x=\"Organización Jurídica\", y=\"Total Valor Ventas Netas\", data=entidades_camara)\n",
        "plt.xticks(rotation=90)"
      ],
      "metadata": {
        "id": "unC8plUQRqe_"
      },
      "execution_count": null,
      "outputs": []
    },
    {
      "cell_type": "markdown",
      "source": [
        "**Como tenemos unos datos muy altos, parecen muy atípicos. Lo mejor es filtrar por tamaño de empresa. Y podemos no considerar valores atípicos.**"
      ],
      "metadata": {
        "id": "zVnBFAkiUKzp"
      }
    },
    {
      "cell_type": "markdown",
      "source": [
        "#### Ejercicio 5\n",
        "Lea y modifique el siguiente código para observar empresas grandes en el gráfico."
      ],
      "metadata": {
        "id": "poXudu508lJ0"
      }
    },
    {
      "cell_type": "code",
      "source": [
        "# Le podemos cambiar el tamaño al que queramos\n",
        "tamanio1 = entidades_camara['Tamaño'] == 'Microempresas'\n",
        "tamanio2 = entidades_camara['Tamaño'] == 'Pequeñas'\n",
        "tamanio3 = entidades_camara['Tamaño'] == 'Medianas'\n",
        "tamanio4 = entidades_camara['Tamaño'] == 'Grandes'\n",
        "\n",
        "micro = sns.boxplot(x=\"Organización Jurídica\", y=\"Total Valor Ventas Netas\", data=entidades_camara[tamanio1], showfliers=False)\n",
        "plt.xticks(rotation=90)\n",
        "plt.title('Distribución de ventas de Microempresas por tipo de persona jurídica')"
      ],
      "metadata": {
        "id": "gw5cOY22UlkH"
      },
      "execution_count": null,
      "outputs": []
    },
    {
      "cell_type": "markdown",
      "source": [
        "### Drill down\n"
      ],
      "metadata": {
        "id": "AqIv7rEjAE2P"
      }
    },
    {
      "cell_type": "markdown",
      "source": [
        "Vamos a jugar principalmente con:\n",
        "\n",
        "* Tamaño de empreas\n",
        "* Tipo de organización jurídica\n",
        "* Total de ventas\n",
        "\n",
        "Primero identificamos cuántas empresas se encuentran en cada categoría de las vairables categóricas:"
      ],
      "metadata": {
        "id": "lTaYHhusAPRs"
      }
    },
    {
      "cell_type": "code",
      "source": [
        "# Número de empresas en cada tamaño\n",
        "entidades_camara['Tamaño'].value_counts()"
      ],
      "metadata": {
        "id": "HvIuKHl8WLI9"
      },
      "execution_count": null,
      "outputs": []
    },
    {
      "cell_type": "code",
      "source": [
        "# EJERCICIO OPCIONAL: Calcule el número de empresas en cada categoría de organización jurídica inspirándose en la celda anterior\n"
      ],
      "metadata": {
        "id": "7KHnsifOAnZu"
      },
      "execution_count": null,
      "outputs": []
    },
    {
      "cell_type": "markdown",
      "source": [
        "Ahora calculamos el total de las ventas netas de todas las empresas, para tener una magnitud superior contra la cual comparar los valores."
      ],
      "metadata": {
        "id": "33Er5AJWtBgy"
      }
    },
    {
      "cell_type": "code",
      "source": [
        "# Total de referencia de ventas netas\n",
        "camara_financiera['Total Valor Ventas Netas'].sum()"
      ],
      "metadata": {
        "id": "k3glcszig-D0"
      },
      "execution_count": null,
      "outputs": []
    },
    {
      "cell_type": "markdown",
      "source": [
        "### Gráficos por grupos\n",
        "Ahora comencemos a elaborar un par de gráficos de ventas netas por cada variable categórica:"
      ],
      "metadata": {
        "id": "EJVXDE5LBNR4"
      }
    },
    {
      "cell_type": "code",
      "source": [
        "# Este estilo de gráfica queremos lograr (recuerden poner los archivos de imágen en la carpeta sample_data)\n",
        "g1 = cv2.imread('sample_data/g3.png',1)\n",
        "plt.imshow(g1)\n",
        "plt.axis(\"off\")\n",
        "plt.show()"
      ],
      "metadata": {
        "id": "S4bvlb2EBMLg"
      },
      "execution_count": null,
      "outputs": []
    },
    {
      "cell_type": "code",
      "source": [
        "# Agrupamos por Tamaño univariadamente para lograr esta gráfica, y calculamos la suma de ventas netas, y la cuenta de empresas en cada grupo\n",
        "entidades_camara_T = entidades_camara.groupby('Tamaño').agg({'Total Valor Ventas Netas': 'sum','Matrícula':'count'}).reset_index()\n",
        "entidades_camara_T = entidades_camara_T.rename(columns={'Matrícula': 'Empresas'})\n",
        "entidades_camara_T = entidades_camara_T.sort_values('Total Valor Ventas Netas',ascending=False)"
      ],
      "metadata": {
        "id": "ONjTbp4QhTvQ"
      },
      "execution_count": null,
      "outputs": []
    },
    {
      "cell_type": "code",
      "source": [
        "entidades_camara_T.head()"
      ],
      "metadata": {
        "id": "ceWZ3cNal67N"
      },
      "execution_count": null,
      "outputs": []
    },
    {
      "cell_type": "code",
      "source": [
        "sns.barplot(y='Tamaño',x='Total Valor Ventas Netas',data=entidades_camara_T).set(title = \"Composición de las ventas por tipo de empresa\")"
      ],
      "metadata": {
        "id": "KnHMe9Uolhr6"
      },
      "execution_count": null,
      "outputs": []
    },
    {
      "cell_type": "markdown",
      "source": [
        "#### Ejercicio 6\n",
        "Elabore el siguiente gráfico para continuar el análisis.\n",
        "Puede inspirarse en el algoritmo del anterior."
      ],
      "metadata": {
        "id": "_dNwK_OTh7mi"
      }
    },
    {
      "cell_type": "code",
      "source": [
        "# Este estilo de gráfica queremos lograr (recuerden poner los archivos de imágen en la carpeta sample_data)\n",
        "g1 = cv2.imread('g2.png',1)\n",
        "plt.imshow(g1)\n",
        "plt.axis(\"off\")\n",
        "plt.show()"
      ],
      "metadata": {
        "id": "Ibu9tyqKC4vx"
      },
      "execution_count": null,
      "outputs": []
    },
    {
      "cell_type": "code",
      "source": [
        "# Grupos univariados por organización jurídica EJERCICIO\n"
      ],
      "metadata": {
        "id": "GdIG5lbvn5o9"
      },
      "execution_count": null,
      "outputs": []
    },
    {
      "cell_type": "code",
      "source": [
        "# EJERCICIO: gráfico\n"
      ],
      "metadata": {
        "id": "4iz31TvwoSMm"
      },
      "execution_count": null,
      "outputs": []
    },
    {
      "cell_type": "markdown",
      "source": [
        "#### Ejercicio 7\n",
        "Finalmente combinamos los grupos para lograr una gráfica como la siguiente:"
      ],
      "metadata": {
        "id": "yIo2wFd2DZZZ"
      }
    },
    {
      "cell_type": "code",
      "source": [
        "# Este estilo de gráfica queremos lograr (recuerden poner los archivos de imágen en la carpeta sample_data)\n",
        "g1 = cv2.imread('g4.png',1)\n",
        "plt.imshow(g1)\n",
        "plt.axis(\"off\")\n",
        "plt.show()"
      ],
      "metadata": {
        "id": "N5lKh8a1DgAB"
      },
      "execution_count": null,
      "outputs": []
    },
    {
      "cell_type": "code",
      "source": [
        "# Y ahora las combinamos, tenga en cuenta que ahora al groupby le proporcionamos una lista de dos columnas\n",
        "\n"
      ],
      "metadata": {
        "id": "ETNK2OeIoemX"
      },
      "execution_count": null,
      "outputs": []
    },
    {
      "cell_type": "markdown",
      "source": [
        "## Recomendaciones\n",
        "*(Recuerde la pregunta de negocio original y formule sus recomendaciones a continuación)*"
      ],
      "metadata": {
        "id": "8pipxjN637YK"
      }
    },
    {
      "cell_type": "markdown",
      "source": [],
      "metadata": {
        "id": "_hWkJ3UV39Cw"
      }
    }
  ]
}