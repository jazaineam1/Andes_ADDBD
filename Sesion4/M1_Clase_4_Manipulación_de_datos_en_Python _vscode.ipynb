{
  "cells": [
    {
      "cell_type": "markdown",
      "metadata": {
        "colab_type": "text",
        "id": "view-in-github"
      },
      "source": [
        "<a href=\"https://colab.research.google.com/github/jazaineam1/Andes_ADDBD/blob/main/Sesion4/M1_Clase_4_Manipulaci%C3%B3n_de_datos_en_Python.ipynb\" target=\"_parent\"><img src=\"https://colab.research.google.com/assets/colab-badge.svg\" alt=\"Open In Colab\"/></a>"
      ]
    },
    {
      "cell_type": "markdown",
      "metadata": {
        "id": "aoeI8ED_Pa6C"
      },
      "source": [
        "# ***Análisis de Datos y Big data***\n",
        "\n",
        "## ***Universidad de los Andes***\n",
        ">## **Dirección de Educación Continua.**\n",
        ">>## **Formación de habilidades escenciales.**\n",
        "\n",
        "![Imágen1](https://github.com/jazaineam1/Andes_ADDBD/blob/main/Imagenes/Presentaci%C3%B3n-removebg-preview.png?raw=true)\n",
        "\n",
        "## **Manipulación de datos en Python v2**\n",
        "## **Módulo 1**"
      ]
    },
    {
      "cell_type": "markdown",
      "metadata": {
        "id": "suwlnkj10BWr"
      },
      "source": [
        "## ¿Existe relación alguna entre el total de minutos usados con la compañía y el ingreso total de los clientes?\n",
        "En el desarrollo de este caso introduciremos las librerías pandas, numpy y matplotlib para el preprocesamiento, visualización de un conjunto de datos y el desarrollo de algunas medidas estadísticas descriptivas.\n",
        "\n",
        "\n",
        "\n",
        "##  Introducción\n",
        "\n",
        "La revisión del comportamiento de los clientes en cualquier empresa es de vital importancia para el desarrollo de estrategias  tanto de mejoramiento de productos como de publicidad y toma de decisiones. Evaluaremos la información obtenida de un conjunto de registro obtenidos de una empresa de telecomunicaciones que cuenta con la revisión de las siguientes variables:\n",
        "\n",
        "1. totrev: Ingresos del cliente\n",
        "2. totmou: Total de minutos usados por el cliente\n",
        "3. area: Área geográfica\n",
        "4. creditcd: Indicador de tarjeta de crédito\n",
        "5. eqpdays: Número de días (antigüedad) del equipo actual\n",
        "\n",
        "Es importante mencionar que la empresa contiene una gran cantidad de clientes y hacer el análisis uno a uno no es lo  óptimo. Con ayuda de la programación y el análisis de datos, se logrará llegar a conclusiones rápidas y acertadas para encontrar relaciones que a simple vista no son tenidas en cuenta.\n",
        "\n",
        "### ¿Qué se quiere identificar? Teniendo en cuenta la información de la base de datos se quiere identificar si hay una relación entre el total de minutos usados por el cliente con la compañía y el ingreso total de los clientes, es decir, Será posible afirmar que cuando una persona\n",
        "tiene un mayor ingreso mayor entonces es mayor la utilización de minutos o todo lo contrario?\n",
        "\n",
        "\n",
        "####  Insumos para tratar este problema\n",
        "\n",
        "\n",
        "Teniendo en cuenta que la compañía tenia estándares para la entrega de la información, se dispone de un  conjunto de tablas en formato CSV ordenado de la siguiente manera:\n",
        "La información de este conjunto de datos puede encontrase en [aquí](https://www.kaggle.com/abhinav89/telecom-customer?select=Telecom_customer+churn.csv)\n",
        "\n",
        "### Objetivos\n",
        "\n",
        "En este caso usted tendrá que cargar varias bases de datos, hará una exploración básica sobre la información y fusionará las distintas bases para tener una visión general del problema. La idea es que desarrolle las siguientes habilidades:\n",
        "\n",
        "1. Manejo de la librería pandas de Python para cargar y leer datos;\n",
        "2. Ideas elementales para una útil transformación de los datos;\n",
        "3. Construcción y presentación de argumentos válidos que le brindarán una solución para la pregunta expresada más arriba y llegar a una conclusión.\n",
        "4. Visualización de gráficas elementales que le permitirá entender mejor la información contenida en los datos.\n",
        "\n",
        "#### Importación de paquetes\n",
        "\n",
        "\n",
        "Una de las mejores opciones para trabajar con datos tabulares en Python es usar el módulo pandas. La librería `pandas` provee estructuras de datos, genera gráficos de alta calidad con `matplotlib` y se integra de buena forma con otras librerías que usan arrays de `numpy`.\n",
        "\n",
        "Debemos revisar si la librería se encuentra en nuestro sistema usando el comando\n",
        "\n",
        "```python\n",
        "!pip show librería\n",
        "```"
      ]
    },
    {
      "cell_type": "code",
      "execution_count": 87,
      "metadata": {
        "colab": {
          "base_uri": "https://localhost:8080/"
        },
        "id": "U04sU_VS0BWx",
        "outputId": "9df37ee8-c823-48c8-e1e0-e69701afdb67"
      },
      "outputs": [
        {
          "name": "stdout",
          "output_type": "stream",
          "text": [
            "Name: pandas\n",
            "Version: 1.5.3\n",
            "Summary: Powerful data structures for data analysis, time series, and statistics\n",
            "Home-page: https://pandas.pydata.org\n",
            "Author: The Pandas Development Team\n",
            "Author-email: pandas-dev@python.org\n",
            "License: BSD-3-Clause\n",
            "Location: c:\\users\\nib1l\\anaconda3\\lib\\site-packages\n",
            "Requires: numpy, python-dateutil, pytz\n",
            "Required-by: xarray, visions, streamlit, statsmodels, shap, seaborn, pmdarima, pingouin, pandasai, pandas-flavor, pandarallel, mvn, mlxtend, lazypredict, hvplot, holoviews, datashader, dataprep, altair\n",
            "Note: you may need to restart the kernel to use updated packages.\n"
          ]
        },
        {
          "name": "stderr",
          "output_type": "stream",
          "text": [
            "WARNING: Ignoring invalid distribution -rotobuf (c:\\users\\nib1l\\anaconda3\\lib\\site-packages)\n",
            "WARNING: Ignoring invalid distribution -illow (c:\\users\\nib1l\\anaconda3\\lib\\site-packages)\n"
          ]
        }
      ],
      "source": [
        "pip show pandas"
      ]
    },
    {
      "cell_type": "markdown",
      "metadata": {
        "id": "6-PDAteh0BW0"
      },
      "source": [
        "En el caso de que la librería no se encuentre instalada ejecutamos el comando\n",
        "\n",
        "```python\n",
        "!pip install librería\n",
        "```"
      ]
    },
    {
      "cell_type": "markdown",
      "metadata": {
        "id": "Rz91yow20BW1"
      },
      "source": [
        "Para importar las librerías usamos el comando\n",
        "```python\n",
        "import librería as alias\n",
        "```"
      ]
    },
    {
      "cell_type": "code",
      "execution_count": 88,
      "metadata": {
        "id": "Z7qHEdGV0BW1"
      },
      "outputs": [],
      "source": [
        "import pandas as pd\n",
        "import numpy as np\n",
        "import matplotlib.pyplot as plt\n",
        "import os"
      ]
    },
    {
      "cell_type": "markdown",
      "metadata": {
        "id": "WFQNbX4g0BW2"
      },
      "source": [
        "Luego de que tener los paquetes activados dentro de nuestro ambiente de python podremos usar las fucnciones que se encuentren en la librería."
      ]
    },
    {
      "cell_type": "markdown",
      "metadata": {
        "id": "F1Yj6y4H0BW2"
      },
      "source": [
        "### Introducción a pandas\n",
        "\n",
        "Poner información sobre pandas e indicar la diferencia entre series y dataframe\n",
        "\n",
        "![](https://www.cdn.geeksforgeeks.org/wp-content/uploads/creating_dataframe1.png)"
      ]
    },
    {
      "cell_type": "markdown",
      "metadata": {
        "id": "Lus3SGCC0BW3"
      },
      "source": [
        "A continuación, mostramos el código a ejecutar para crear una ` Serie`"
      ]
    },
    {
      "cell_type": "code",
      "execution_count": 89,
      "metadata": {
        "colab": {
          "base_uri": "https://localhost:8080/",
          "height": 241
        },
        "id": "ckxJtRlu0BW3",
        "outputId": "11716ef8-6871-4b7e-b888-f875b4dd3151",
        "scrolled": false
      },
      "outputs": [
        {
          "data": {
            "text/plain": [
              "0    A\n",
              "1    B\n",
              "2    C\n",
              "3    D\n",
              "4    E\n",
              "Name: Variable1, dtype: object"
            ]
          },
          "execution_count": 89,
          "metadata": {},
          "output_type": "execute_result"
        }
      ],
      "source": [
        "Serie1 = pd.Series(\n",
        "index=[0, 1, 2, 3, 4], name=\"Variable1\", data=[\"A\",\"B\",\"C\",\"D\",\"E\"]\n",
        ")\n",
        "Serie1"
      ]
    },
    {
      "cell_type": "code",
      "execution_count": 90,
      "metadata": {
        "colab": {
          "base_uri": "https://localhost:8080/",
          "height": 206
        },
        "id": "eCo7MSPV0BW4",
        "outputId": "d64fc819-3505-4c2f-8e41-046904073164",
        "scrolled": false
      },
      "outputs": [
        {
          "data": {
            "text/html": [
              "<div>\n",
              "<style scoped>\n",
              "    .dataframe tbody tr th:only-of-type {\n",
              "        vertical-align: middle;\n",
              "    }\n",
              "\n",
              "    .dataframe tbody tr th {\n",
              "        vertical-align: top;\n",
              "    }\n",
              "\n",
              "    .dataframe thead th {\n",
              "        text-align: right;\n",
              "    }\n",
              "</style>\n",
              "<table border=\"1\" class=\"dataframe\">\n",
              "  <thead>\n",
              "    <tr style=\"text-align: right;\">\n",
              "      <th></th>\n",
              "      <th>Variable2</th>\n",
              "      <th>Variable3</th>\n",
              "    </tr>\n",
              "  </thead>\n",
              "  <tbody>\n",
              "    <tr>\n",
              "      <th>0</th>\n",
              "      <td>1</td>\n",
              "      <td>1</td>\n",
              "    </tr>\n",
              "    <tr>\n",
              "      <th>1</th>\n",
              "      <td>2</td>\n",
              "      <td>2</td>\n",
              "    </tr>\n",
              "    <tr>\n",
              "      <th>2</th>\n",
              "      <td>3</td>\n",
              "      <td>3</td>\n",
              "    </tr>\n",
              "    <tr>\n",
              "      <th>3</th>\n",
              "      <td>4</td>\n",
              "      <td>4</td>\n",
              "    </tr>\n",
              "    <tr>\n",
              "      <th>4</th>\n",
              "      <td>5</td>\n",
              "      <td>5</td>\n",
              "    </tr>\n",
              "  </tbody>\n",
              "</table>\n",
              "</div>"
            ],
            "text/plain": [
              "  Variable2  Variable3\n",
              "0         1          1\n",
              "1         2          2\n",
              "2         3          3\n",
              "3         4          4\n",
              "4         5          5"
            ]
          },
          "execution_count": 90,
          "metadata": {},
          "output_type": "execute_result"
        }
      ],
      "source": [
        "Data_Frame = pd.DataFrame(\n",
        "index=[0, 1, 2, 3, 4], columns=[\"Variable2\",\"Variable3\"], data=[[1, 1], [\"2\", 2],[3,3],[4,4],[5,5]]\n",
        ")\n",
        "Data_Frame"
      ]
    },
    {
      "cell_type": "markdown",
      "metadata": {
        "id": "LHe8v6P20BW4"
      },
      "source": [
        "Para revisar el tipo de objeto que contiene nuestro DataFrame podemos ejecutar"
      ]
    },
    {
      "cell_type": "code",
      "execution_count": 91,
      "metadata": {
        "colab": {
          "base_uri": "https://localhost:8080/",
          "height": 147
        },
        "id": "5w7mX5Ai0BW5",
        "outputId": "deac95d1-deea-47e3-a53f-ee4c784a3557"
      },
      "outputs": [
        {
          "data": {
            "text/plain": [
              "Variable2    object\n",
              "Variable3     int64\n",
              "dtype: object"
            ]
          },
          "execution_count": 91,
          "metadata": {},
          "output_type": "execute_result"
        }
      ],
      "source": [
        "Data_Frame.dtypes\n",
        "#Serie1.dtypes"
      ]
    },
    {
      "cell_type": "markdown",
      "metadata": {
        "id": "rzhPT7mz0BW5"
      },
      "source": [
        "### Carga de información en `pandas`\n",
        "\n",
        "Para nuestro  ejercicio usaremos los siguientes conjuntos de datos alojado [acá](https://github.com/jazaineam1/Andes_ADDBD/blob/main/Sesion4/), por favor descarguelo y deje sus datos en el archivo colab:\n",
        "\n",
        "1. NEW ENGLAND AREA.csv\n",
        "2. ATLANTIC SOUTH AREA.csv\n",
        "3. NEW YORK CITY AREA.csv\n",
        "4. CHICAGO AREA.csv\n",
        "5. NORTH FLORIDA AREA.csv\n",
        "6. DC-MARYLAND-VIRGINIA AREA.csv\n",
        "7. GREAT LAKES AREA.csv\n",
        "8. NORTHWEST-ROCKY MOUNTAIN AREA.csv\n",
        "9. MIDWEST AREA.csv\n",
        "10. SOUTHWEST AREA.csv\n",
        "11. LOS ANGELES AREA.csv\n",
        "12. HOUSTON AREA.csv\n",
        "13. CALIFORNIA NORTH AREA.csv\n",
        "14. CENTRAL-SOUTH TEXAS AREA.csv\n",
        "15. DALLAS AREA.csv\n",
        "16. PHILADELPHIA AREA.csv\n",
        "17. TENNESSEE AREA.csv\n",
        "18. OHIO AREA.csv\n",
        "19. SOUTH FLORIDA AREA.csv\n",
        "\n",
        "Cada uno de estos conjuntos de datos contiene la información de:\n",
        "\n",
        "1. *mou_Mean:* Número medio de minutos de uso mensuales\n",
        "2. *custcare_Mean:* Número medio de llamadas de atención al cliente\n",
        "3. *area:*  Área geografica\n",
        "4. *creditcd:* Indicador de tarjeta de crédito\n",
        "5. *eqpdays:* Número de días (antigüedad) del equipo actual\n",
        "\n",
        "Además, se incluye _Credito_dias.csv_ con la información de 2 variables adicionales para los registros las cuales son:\n",
        "\n",
        "1. _creditcd:_ Indicador de tarjeta de crédito\n",
        "2. _eqpdays:_ Número de días (antigüedad) del equipo actual\n",
        "\n",
        "Revisaremos inicialmente los datos contenidos en _Credito_dias.csv_ para revisar algunas funciones interesantes de `pandas`, usaremos el comando\n",
        "```python\n",
        "pd.read_csv(\"archivo.csv\")\n",
        "```\n",
        "Podemos definir el número de registros a imprimir usando\n",
        "```python\n",
        "pd.options.display.min_rows=10\n",
        "````"
      ]
    },
    {
      "cell_type": "code",
      "execution_count": 92,
      "metadata": {
        "id": "erACxNPyZPJb"
      },
      "outputs": [
        {
          "name": "stderr",
          "output_type": "stream",
          "text": [
            "Ya existe el subdirectorio o el archivo Bases.\n"
          ]
        }
      ],
      "source": [
        "!mkdir Bases"
      ]
    },
    {
      "cell_type": "markdown",
      "metadata": {},
      "source": [
        "Para ver en donde se creó la carpeta sebe ejeciutarse el siguiente comando"
      ]
    },
    {
      "cell_type": "code",
      "execution_count": 93,
      "metadata": {},
      "outputs": [
        {
          "data": {
            "text/plain": [
              "'c:\\\\Users\\\\nib1l\\\\Documents\\\\Andes_ADDBD\\\\Sesion4'"
            ]
          },
          "execution_count": 93,
          "metadata": {},
          "output_type": "execute_result"
        }
      ],
      "source": [
        "import os\n",
        "os.getcwd()"
      ]
    },
    {
      "cell_type": "code",
      "execution_count": 94,
      "metadata": {
        "colab": {
          "base_uri": "https://localhost:8080/"
        },
        "id": "gKHz5kIXfED9",
        "outputId": "b27b2b77-9b33-4a0a-b029-74e421544af1"
      },
      "outputs": [
        {
          "name": "stderr",
          "output_type": "stream",
          "text": [
            "  % Total    % Received % Xferd  Average Speed   Time    Time     Time  Current\n",
            "                                 Dload  Upload   Total   Spent    Left  Speed\n",
            "\n",
            "  0     0    0     0    0     0      0      0 --:--:-- --:--:-- --:--:--     0\n",
            "100  276k  100  276k    0     0   531k      0 --:--:-- --:--:-- --:--:--  533k\n"
          ]
        }
      ],
      "source": [
        "!curl -o Bases/Credito_dias.csv https://raw.githubusercontent.com/jazaineam1/Andes_ADDBD/main/Sesion4/Bases/Credito_dias.csv"
      ]
    },
    {
      "cell_type": "code",
      "execution_count": 121,
      "metadata": {
        "colab": {
          "base_uri": "https://localhost:8080/"
        },
        "id": "WP8w4ryMaKwE",
        "outputId": "7675f472-248d-4757-f3d5-e8b2c3d96e10"
      },
      "outputs": [
        {
          "name": "stderr",
          "output_type": "stream",
          "text": [
            "  % Total    % Received % Xferd  Average Speed   Time    Time     Time  Current\n",
            "                                 Dload  Upload   Total   Spent    Left  Speed\n",
            "\n",
            "  0     0    0     0    0     0      0      0 --:--:-- --:--:-- --:--:--     0\n",
            "100 25960  100 25960    0     0  98754      0 --:--:-- --:--:-- --:--:-- 99083\n",
            "  % Total    % Received % Xferd  Average Speed   Time    Time     Time  Current\n",
            "                                 Dload  Upload   Total   Spent    Left  Speed\n",
            "\n",
            "  0     0    0     0    0     0      0      0 --:--:-- --:--:-- --:--:--     0\n",
            "  0     0    0     0    0     0      0      0 --:--:-- --:--:-- --:--:--     0\n",
            "100 27154  100 27154    0     0   119k      0 --:--:-- --:--:-- --:--:--  118k\n",
            "  % Total    % Received % Xferd  Average Speed   Time    Time     Time  Current\n",
            "                                 Dload  Upload   Total   Spent    Left  Speed\n",
            "\n",
            "  0     0    0     0    0     0      0      0 --:--:-- --:--:-- --:--:--     0\n",
            "100 19784  100 19784    0     0  97516      0 --:--:-- --:--:-- --:--:-- 97940\n",
            "  % Total    % Received % Xferd  Average Speed   Time    Time     Time  Current\n",
            "                                 Dload  Upload   Total   Spent    Left  Speed\n",
            "\n",
            "  0     0    0     0    0     0      0      0 --:--:-- --:--:-- --:--:--     0\n",
            "100 17950  100 17950    0     0  50275      0 --:--:-- --:--:-- --:--:-- 50421\n",
            "  % Total    % Received % Xferd  Average Speed   Time    Time     Time  Current\n",
            "                                 Dload  Upload   Total   Spent    Left  Speed\n",
            "\n",
            "  0     0    0     0    0     0      0      0 --:--:-- --:--:-- --:--:--     0\n",
            "  0 18249    0     0    0     0      0      0 --:--:-- --:--:-- --:--:--     0\n",
            "100 18249  100 18249    0     0  96294      0 --:--:-- --:--:-- --:--:-- 96555\n",
            "  % Total    % Received % Xferd  Average Speed   Time    Time     Time  Current\n",
            "                                 Dload  Upload   Total   Spent    Left  Speed\n",
            "\n",
            "  0     0    0     0    0     0      0      0 --:--:-- --:--:-- --:--:--     0\n",
            "100 31787  100 31787    0     0   134k      0 --:--:-- --:--:-- --:--:--  135k\n",
            "  % Total    % Received % Xferd  Average Speed   Time    Time     Time  Current\n",
            "                                 Dload  Upload   Total   Spent    Left  Speed\n",
            "\n",
            "  0     0    0     0    0     0      0      0 --:--:-- --:--:-- --:--:--     0\n",
            "100 19685  100 19685    0     0  80213      0 --:--:-- --:--:-- --:--:-- 80676\n",
            "  % Total    % Received % Xferd  Average Speed   Time    Time     Time  Current\n",
            "                                 Dload  Upload   Total   Spent    Left  Speed\n",
            "\n",
            "  0     0    0     0    0     0      0      0 --:--:-- --:--:-- --:--:--     0\n",
            "100 16863  100 16863    0     0  68651      0 --:--:-- --:--:-- --:--:-- 68828\n",
            "  % Total    % Received % Xferd  Average Speed   Time    Time     Time  Current\n",
            "                                 Dload  Upload   Total   Spent    Left  Speed\n",
            "\n",
            "  0     0    0     0    0     0      0      0 --:--:-- --:--:-- --:--:--     0\n",
            "100 27343  100 27343    0     0   155k      0 --:--:-- --:--:-- --:--:--  156k\n",
            "  % Total    % Received % Xferd  Average Speed   Time    Time     Time  Current\n",
            "                                 Dload  Upload   Total   Spent    Left  Speed\n",
            "\n",
            "  0     0    0     0    0     0      0      0 --:--:-- --:--:-- --:--:--     0\n",
            "100 24693  100 24693    0     0   104k      0 --:--:-- --:--:-- --:--:--  105k\n",
            "  % Total    % Received % Xferd  Average Speed   Time    Time     Time  Current\n",
            "                                 Dload  Upload   Total   Spent    Left  Speed\n",
            "\n",
            "  0     0    0     0    0     0      0      0 --:--:-- --:--:-- --:--:--     0\n",
            "100 21122  100 21122    0     0  93722      0 --:--:-- --:--:-- --:--:-- 94294\n",
            "  % Total    % Received % Xferd  Average Speed   Time    Time     Time  Current\n",
            "                                 Dload  Upload   Total   Spent    Left  Speed\n",
            "\n",
            "  0     0    0     0    0     0      0      0 --:--:-- --:--:-- --:--:--     0\n",
            "  0 48909    0     0    0     0      0      0 --:--:-- --:--:-- --:--:--     0\n",
            "100 48909  100 48909    0     0   162k      0 --:--:-- --:--:-- --:--:--  162k\n",
            "  % Total    % Received % Xferd  Average Speed   Time    Time     Time  Current\n",
            "                                 Dload  Upload   Total   Spent    Left  Speed\n",
            "\n",
            "  0     0    0     0    0     0      0      0 --:--:-- --:--:-- --:--:--     0\n",
            "100 18758  100 18758    0     0    97k      0 --:--:-- --:--:-- --:--:--   98k\n",
            "  % Total    % Received % Xferd  Average Speed   Time    Time     Time  Current\n",
            "                                 Dload  Upload   Total   Spent    Left  Speed\n",
            "\n",
            "  0     0    0     0    0     0      0      0 --:--:-- --:--:-- --:--:--     0\n",
            "100 22776  100 22776    0     0   115k      0 --:--:-- --:--:-- --:--:--  115k\n",
            "  % Total    % Received % Xferd  Average Speed   Time    Time     Time  Current\n",
            "                                 Dload  Upload   Total   Spent    Left  Speed\n",
            "\n",
            "  0     0    0     0    0     0      0      0 --:--:-- --:--:-- --:--:--     0\n",
            "100 14565  100 14565    0     0  77435      0 --:--:-- --:--:-- --:--:-- 77887\n",
            "  % Total    % Received % Xferd  Average Speed   Time    Time     Time  Current\n",
            "                                 Dload  Upload   Total   Spent    Left  Speed\n",
            "\n",
            "  0     0    0     0    0     0      0      0 --:--:-- --:--:-- --:--:--     0\n",
            "100 10160  100 10160    0     0  39340      0 --:--:-- --:--:-- --:--:-- 39533\n",
            "  % Total    % Received % Xferd  Average Speed   Time    Time     Time  Current\n",
            "                                 Dload  Upload   Total   Spent    Left  Speed\n",
            "\n",
            "  0     0    0     0    0     0      0      0 --:--:-- --:--:-- --:--:--     0\n",
            "100 15530  100 15530    0     0  78205      0 --:--:-- --:--:-- --:--:-- 78434\n",
            "  % Total    % Received % Xferd  Average Speed   Time    Time     Time  Current\n",
            "                                 Dload  Upload   Total   Spent    Left  Speed\n",
            "\n",
            "  0     0    0     0    0     0      0      0 --:--:-- --:--:-- --:--:--     0\n",
            "100 22158  100 22158    0     0   124k      0 --:--:-- --:--:-- --:--:--  125k\n",
            "  % Total    % Received % Xferd  Average Speed   Time    Time     Time  Current\n",
            "                                 Dload  Upload   Total   Spent    Left  Speed\n",
            "\n",
            "  0     0    0     0    0     0      0      0 --:--:-- --:--:-- --:--:--     0\n",
            "100 10247  100 10247    0     0  55087      0 --:--:-- --:--:-- --:--:-- 55389\n"
          ]
        }
      ],
      "source": [
        "!curl -o Bases/ATLANTIC_SOUTH_AREA.csv https://raw.githubusercontent.com/jazaineam1/Andes_ADDBD/main/Sesion4/Bases/ATLANTIC_SOUTH_AREA.csv\n",
        "!curl -o Bases/CALIFORNIA_NORTH_AREA.csv https://raw.githubusercontent.com/jazaineam1/Andes_ADDBD/main/Sesion4/Bases/CALIFORNIA_NORTH_AREA.csv\n",
        "!curl -o Bases/CENTRAL-SOUTH_TEXAS_AREA.csv https://raw.githubusercontent.com/jazaineam1/Andes_ADDBD/main/Sesion4/Bases/CENTRAL-SOUTH_TEXAS_AREA.csv\n",
        "!curl -o Bases/CHICAGO_AREA.csv https://raw.githubusercontent.com/jazaineam1/Andes_ADDBD/main/Sesion4/Bases/CHICAGO_AREA.csv\n",
        "!curl -o Bases/DALLAS_AREA.csv https://raw.githubusercontent.com/jazaineam1/Andes_ADDBD/main/Sesion4/Bases/DALLAS_AREA.csv\n",
        "!curl -o Bases/DC-MARYLAND-VIRGINIA_AREA.csv https://raw.githubusercontent.com/jazaineam1/Andes_ADDBD/main/Sesion4/Bases/DC-MARYLAND-VIRGINIA_AREA.csv\n",
        "!curl -o Bases/GREAT_LAKES_AREA.csv https://raw.githubusercontent.com/jazaineam1/Andes_ADDBD/main/Sesion4/Bases/GREAT_LAKES_AREA.csv\n",
        "!curl -o Bases/HOUSTON_AREA.csv https://raw.githubusercontent.com/jazaineam1/Andes_ADDBD/main/Sesion4/Bases/HOUSTON_AREA.csv\n",
        "!curl -o Bases/LOS_ANGELES_AREA.csv https://raw.githubusercontent.com/jazaineam1/Andes_ADDBD/main/Sesion4/Bases/LOS_ANGELES_AREA.csv\n",
        "!curl -o Bases/MIDWEST_AREA.csv https://raw.githubusercontent.com/jazaineam1/Andes_ADDBD/main/Sesion4/Bases/MIDWEST_AREA.csv\n",
        "!curl -o Bases/NEW_ENGLAND_AREA.csv https://raw.githubusercontent.com/jazaineam1/Andes_ADDBD/main/Sesion4/Bases/NEW_ENGLAND_AREA.csv\n",
        "!curl -o Bases/NEW_YORK_CITY_AREA.csv https://raw.githubusercontent.com/jazaineam1/Andes_ADDBD/main/Sesion4/Bases/NEW_YORK_CITY_AREA.csv\n",
        "!curl -o Bases/NORTH_FLORIDA_AREA.csv https://raw.githubusercontent.com/jazaineam1/Andes_ADDBD/main/Sesion4/Bases/NORTH_FLORIDA_AREA.csv\n",
        "!curl -o Bases/NORTHWEST-ROCKY_MOUNTAIN_AREA.csv https://raw.githubusercontent.com/jazaineam1/Andes_ADDBD/main/Sesion4/Bases/NORTHWEST-ROCKY_MOUNTAIN_AREA.csv\n",
        "!curl -o Bases/OHIO_AREA.csv https://raw.githubusercontent.com/jazaineam1/Andes_ADDBD/main/Sesion4/Bases/OHIO_AREA.csv\n",
        "!curl -o Bases/PHILADELPHIA_AREA.csv https://raw.githubusercontent.com/jazaineam1/Andes_ADDBD/main/Sesion4/Bases/PHILADELPHIA_AREA.csv\n",
        "!curl -o Bases/SOUTH_FLORIDA_AREA.csv https://raw.githubusercontent.com/jazaineam1/Andes_ADDBD/main/Sesion4/Bases/SOUTH_FLORIDA_AREA.csv\n",
        "!curl -o Bases/SOUTHWEST_AREA.csv https://raw.githubusercontent.com/jazaineam1/Andes_ADDBD/main/Sesion4/Bases/SOUTHWEST_AREA.csv\n",
        "!curl -o Bases/TENNESSEE_AREA.csv https://raw.githubusercontent.com/jazaineam1/Andes_ADDBD/main/Sesion4/Bases/TENNESSEE_AREA.csv\n"
      ]
    },
    {
      "cell_type": "code",
      "execution_count": 96,
      "metadata": {
        "colab": {
          "base_uri": "https://localhost:8080/",
          "height": 301
        },
        "id": "sJyI6AC40BW5",
        "outputId": "20b89f3b-62a9-4ef0-cbcb-9bdd03474346",
        "scrolled": false
      },
      "outputs": [
        {
          "data": {
            "text/html": [
              "<div>\n",
              "<style scoped>\n",
              "    .dataframe tbody tr th:only-of-type {\n",
              "        vertical-align: middle;\n",
              "    }\n",
              "\n",
              "    .dataframe tbody tr th {\n",
              "        vertical-align: top;\n",
              "    }\n",
              "\n",
              "    .dataframe thead th {\n",
              "        text-align: right;\n",
              "    }\n",
              "</style>\n",
              "<table border=\"1\" class=\"dataframe\">\n",
              "  <thead>\n",
              "    <tr style=\"text-align: right;\">\n",
              "      <th></th>\n",
              "      <th>totmou</th>\n",
              "      <th>totrev</th>\n",
              "      <th>creditcd</th>\n",
              "      <th>eqpdays</th>\n",
              "    </tr>\n",
              "    <tr>\n",
              "      <th>Customer_ID</th>\n",
              "      <th></th>\n",
              "      <th></th>\n",
              "      <th></th>\n",
              "      <th></th>\n",
              "    </tr>\n",
              "  </thead>\n",
              "  <tbody>\n",
              "    <tr>\n",
              "      <th>1082423</th>\n",
              "      <td>7269.0</td>\n",
              "      <td>906.58</td>\n",
              "      <td>Y</td>\n",
              "      <td>371</td>\n",
              "    </tr>\n",
              "    <tr>\n",
              "      <th>1069232</th>\n",
              "      <td>13552.0</td>\n",
              "      <td>1172.25</td>\n",
              "      <td>N</td>\n",
              "      <td>83</td>\n",
              "    </tr>\n",
              "    <tr>\n",
              "      <th>1031705</th>\n",
              "      <td>4152.0</td>\n",
              "      <td>577.39</td>\n",
              "      <td>Y</td>\n",
              "      <td>675</td>\n",
              "    </tr>\n",
              "    <tr>\n",
              "      <th>1089806</th>\n",
              "      <td>1863.0</td>\n",
              "      <td>294.26</td>\n",
              "      <td>Y</td>\n",
              "      <td>218</td>\n",
              "    </tr>\n",
              "    <tr>\n",
              "      <th>1076695</th>\n",
              "      <td>4155.0</td>\n",
              "      <td>433.16</td>\n",
              "      <td>N</td>\n",
              "      <td>222</td>\n",
              "    </tr>\n",
              "    <tr>\n",
              "      <th>1091652</th>\n",
              "      <td>5441.0</td>\n",
              "      <td>578.80</td>\n",
              "      <td>Y</td>\n",
              "      <td>68</td>\n",
              "    </tr>\n",
              "    <tr>\n",
              "      <th>1043846</th>\n",
              "      <td>7294.0</td>\n",
              "      <td>1495.18</td>\n",
              "      <td>Y</td>\n",
              "      <td>460</td>\n",
              "    </tr>\n",
              "  </tbody>\n",
              "</table>\n",
              "</div>"
            ],
            "text/plain": [
              "              totmou   totrev creditcd  eqpdays\n",
              "Customer_ID                                    \n",
              "1082423       7269.0   906.58        Y      371\n",
              "1069232      13552.0  1172.25        N       83\n",
              "1031705       4152.0   577.39        Y      675\n",
              "1089806       1863.0   294.26        Y      218\n",
              "1076695       4155.0   433.16        N      222\n",
              "1091652       5441.0   578.80        Y       68\n",
              "1043846       7294.0  1495.18        Y      460"
            ]
          },
          "execution_count": 96,
          "metadata": {},
          "output_type": "execute_result"
        }
      ],
      "source": [
        "df=pd.read_csv(\"Bases/Credito_dias.csv\", sep=\",\",index_col=\"Customer_ID\")\n",
        "df.head(7)"
      ]
    },
    {
      "cell_type": "code",
      "execution_count": 97,
      "metadata": {
        "colab": {
          "base_uri": "https://localhost:8080/"
        },
        "id": "njtwXwrplzV8",
        "outputId": "f18217d6-7a72-4a11-eb88-65bd534c28c7"
      },
      "outputs": [
        {
          "name": "stdout",
          "output_type": "stream",
          "text": [
            "Help on function read_csv in module pandas.io.parsers.readers:\n",
            "\n",
            "read_csv(filepath_or_buffer: 'FilePath | ReadCsvBuffer[bytes] | ReadCsvBuffer[str]', *, sep: 'str | None | lib.NoDefault' = <no_default>, delimiter: 'str | None | lib.NoDefault' = None, header: \"int | Sequence[int] | None | Literal['infer']\" = 'infer', names: 'Sequence[Hashable] | None | lib.NoDefault' = <no_default>, index_col: 'IndexLabel | Literal[False] | None' = None, usecols=None, squeeze: 'bool | None' = None, prefix: 'str | lib.NoDefault' = <no_default>, mangle_dupe_cols: 'bool' = True, dtype: 'DtypeArg | None' = None, engine: 'CSVEngine | None' = None, converters=None, true_values=None, false_values=None, skipinitialspace: 'bool' = False, skiprows=None, skipfooter: 'int' = 0, nrows: 'int | None' = None, na_values=None, keep_default_na: 'bool' = True, na_filter: 'bool' = True, verbose: 'bool' = False, skip_blank_lines: 'bool' = True, parse_dates=None, infer_datetime_format: 'bool' = False, keep_date_col: 'bool' = False, date_parser=None, dayfirst: 'bool' = False, cache_dates: 'bool' = True, iterator: 'bool' = False, chunksize: 'int | None' = None, compression: 'CompressionOptions' = 'infer', thousands: 'str | None' = None, decimal: 'str' = '.', lineterminator: 'str | None' = None, quotechar: 'str' = '\"', quoting: 'int' = 0, doublequote: 'bool' = True, escapechar: 'str | None' = None, comment: 'str | None' = None, encoding: 'str | None' = None, encoding_errors: 'str | None' = 'strict', dialect: 'str | csv.Dialect | None' = None, error_bad_lines: 'bool | None' = None, warn_bad_lines: 'bool | None' = None, on_bad_lines=None, delim_whitespace: 'bool' = False, low_memory=True, memory_map: 'bool' = False, float_precision: \"Literal['high', 'legacy'] | None\" = None, storage_options: 'StorageOptions' = None) -> 'DataFrame | TextFileReader'\n",
            "    Read a comma-separated values (csv) file into DataFrame.\n",
            "    \n",
            "    Also supports optionally iterating or breaking of the file\n",
            "    into chunks.\n",
            "    \n",
            "    Additional help can be found in the online docs for\n",
            "    `IO Tools <https://pandas.pydata.org/pandas-docs/stable/user_guide/io.html>`_.\n",
            "    \n",
            "    Parameters\n",
            "    ----------\n",
            "    filepath_or_buffer : str, path object or file-like object\n",
            "        Any valid string path is acceptable. The string could be a URL. Valid\n",
            "        URL schemes include http, ftp, s3, gs, and file. For file URLs, a host is\n",
            "        expected. A local file could be: file://localhost/path/to/table.csv.\n",
            "    \n",
            "        If you want to pass in a path object, pandas accepts any ``os.PathLike``.\n",
            "    \n",
            "        By file-like object, we refer to objects with a ``read()`` method, such as\n",
            "        a file handle (e.g. via builtin ``open`` function) or ``StringIO``.\n",
            "    sep : str, default ','\n",
            "        Delimiter to use. If sep is None, the C engine cannot automatically detect\n",
            "        the separator, but the Python parsing engine can, meaning the latter will\n",
            "        be used and automatically detect the separator by Python's builtin sniffer\n",
            "        tool, ``csv.Sniffer``. In addition, separators longer than 1 character and\n",
            "        different from ``'\\s+'`` will be interpreted as regular expressions and\n",
            "        will also force the use of the Python parsing engine. Note that regex\n",
            "        delimiters are prone to ignoring quoted data. Regex example: ``'\\r\\t'``.\n",
            "    delimiter : str, default ``None``\n",
            "        Alias for sep.\n",
            "    header : int, list of int, None, default 'infer'\n",
            "        Row number(s) to use as the column names, and the start of the\n",
            "        data.  Default behavior is to infer the column names: if no names\n",
            "        are passed the behavior is identical to ``header=0`` and column\n",
            "        names are inferred from the first line of the file, if column\n",
            "        names are passed explicitly then the behavior is identical to\n",
            "        ``header=None``. Explicitly pass ``header=0`` to be able to\n",
            "        replace existing names. The header can be a list of integers that\n",
            "        specify row locations for a multi-index on the columns\n",
            "        e.g. [0,1,3]. Intervening rows that are not specified will be\n",
            "        skipped (e.g. 2 in this example is skipped). Note that this\n",
            "        parameter ignores commented lines and empty lines if\n",
            "        ``skip_blank_lines=True``, so ``header=0`` denotes the first line of\n",
            "        data rather than the first line of the file.\n",
            "    names : array-like, optional\n",
            "        List of column names to use. If the file contains a header row,\n",
            "        then you should explicitly pass ``header=0`` to override the column names.\n",
            "        Duplicates in this list are not allowed.\n",
            "    index_col : int, str, sequence of int / str, or False, optional, default ``None``\n",
            "      Column(s) to use as the row labels of the ``DataFrame``, either given as\n",
            "      string name or column index. If a sequence of int / str is given, a\n",
            "      MultiIndex is used.\n",
            "    \n",
            "      Note: ``index_col=False`` can be used to force pandas to *not* use the first\n",
            "      column as the index, e.g. when you have a malformed file with delimiters at\n",
            "      the end of each line.\n",
            "    usecols : list-like or callable, optional\n",
            "        Return a subset of the columns. If list-like, all elements must either\n",
            "        be positional (i.e. integer indices into the document columns) or strings\n",
            "        that correspond to column names provided either by the user in `names` or\n",
            "        inferred from the document header row(s). If ``names`` are given, the document\n",
            "        header row(s) are not taken into account. For example, a valid list-like\n",
            "        `usecols` parameter would be ``[0, 1, 2]`` or ``['foo', 'bar', 'baz']``.\n",
            "        Element order is ignored, so ``usecols=[0, 1]`` is the same as ``[1, 0]``.\n",
            "        To instantiate a DataFrame from ``data`` with element order preserved use\n",
            "        ``pd.read_csv(data, usecols=['foo', 'bar'])[['foo', 'bar']]`` for columns\n",
            "        in ``['foo', 'bar']`` order or\n",
            "        ``pd.read_csv(data, usecols=['foo', 'bar'])[['bar', 'foo']]``\n",
            "        for ``['bar', 'foo']`` order.\n",
            "    \n",
            "        If callable, the callable function will be evaluated against the column\n",
            "        names, returning names where the callable function evaluates to True. An\n",
            "        example of a valid callable argument would be ``lambda x: x.upper() in\n",
            "        ['AAA', 'BBB', 'DDD']``. Using this parameter results in much faster\n",
            "        parsing time and lower memory usage.\n",
            "    squeeze : bool, default False\n",
            "        If the parsed data only contains one column then return a Series.\n",
            "    \n",
            "        .. deprecated:: 1.4.0\n",
            "            Append ``.squeeze(\"columns\")`` to the call to ``read_csv`` to squeeze\n",
            "            the data.\n",
            "    prefix : str, optional\n",
            "        Prefix to add to column numbers when no header, e.g. 'X' for X0, X1, ...\n",
            "    \n",
            "        .. deprecated:: 1.4.0\n",
            "           Use a list comprehension on the DataFrame's columns after calling ``read_csv``.\n",
            "    mangle_dupe_cols : bool, default True\n",
            "        Duplicate columns will be specified as 'X', 'X.1', ...'X.N', rather than\n",
            "        'X'...'X'. Passing in False will cause data to be overwritten if there\n",
            "        are duplicate names in the columns.\n",
            "    \n",
            "        .. deprecated:: 1.5.0\n",
            "            Not implemented, and a new argument to specify the pattern for the\n",
            "            names of duplicated columns will be added instead\n",
            "    dtype : Type name or dict of column -> type, optional\n",
            "        Data type for data or columns. E.g. {'a': np.float64, 'b': np.int32,\n",
            "        'c': 'Int64'}\n",
            "        Use `str` or `object` together with suitable `na_values` settings\n",
            "        to preserve and not interpret dtype.\n",
            "        If converters are specified, they will be applied INSTEAD\n",
            "        of dtype conversion.\n",
            "    \n",
            "        .. versionadded:: 1.5.0\n",
            "    \n",
            "            Support for defaultdict was added. Specify a defaultdict as input where\n",
            "            the default determines the dtype of the columns which are not explicitly\n",
            "            listed.\n",
            "    engine : {'c', 'python', 'pyarrow'}, optional\n",
            "        Parser engine to use. The C and pyarrow engines are faster, while the python engine\n",
            "        is currently more feature-complete. Multithreading is currently only supported by\n",
            "        the pyarrow engine.\n",
            "    \n",
            "        .. versionadded:: 1.4.0\n",
            "    \n",
            "            The \"pyarrow\" engine was added as an *experimental* engine, and some features\n",
            "            are unsupported, or may not work correctly, with this engine.\n",
            "    converters : dict, optional\n",
            "        Dict of functions for converting values in certain columns. Keys can either\n",
            "        be integers or column labels.\n",
            "    true_values : list, optional\n",
            "        Values to consider as True.\n",
            "    false_values : list, optional\n",
            "        Values to consider as False.\n",
            "    skipinitialspace : bool, default False\n",
            "        Skip spaces after delimiter.\n",
            "    skiprows : list-like, int or callable, optional\n",
            "        Line numbers to skip (0-indexed) or number of lines to skip (int)\n",
            "        at the start of the file.\n",
            "    \n",
            "        If callable, the callable function will be evaluated against the row\n",
            "        indices, returning True if the row should be skipped and False otherwise.\n",
            "        An example of a valid callable argument would be ``lambda x: x in [0, 2]``.\n",
            "    skipfooter : int, default 0\n",
            "        Number of lines at bottom of file to skip (Unsupported with engine='c').\n",
            "    nrows : int, optional\n",
            "        Number of rows of file to read. Useful for reading pieces of large files.\n",
            "    na_values : scalar, str, list-like, or dict, optional\n",
            "        Additional strings to recognize as NA/NaN. If dict passed, specific\n",
            "        per-column NA values.  By default the following values are interpreted as\n",
            "        NaN: '', '#N/A', '#N/A N/A', '#NA', '-1.#IND', '-1.#QNAN', '-NaN', '-nan',\n",
            "        '1.#IND', '1.#QNAN', '<NA>', 'N/A', 'NA', 'NULL', 'NaN', 'n/a',\n",
            "        'nan', 'null'.\n",
            "    keep_default_na : bool, default True\n",
            "        Whether or not to include the default NaN values when parsing the data.\n",
            "        Depending on whether `na_values` is passed in, the behavior is as follows:\n",
            "    \n",
            "        * If `keep_default_na` is True, and `na_values` are specified, `na_values`\n",
            "          is appended to the default NaN values used for parsing.\n",
            "        * If `keep_default_na` is True, and `na_values` are not specified, only\n",
            "          the default NaN values are used for parsing.\n",
            "        * If `keep_default_na` is False, and `na_values` are specified, only\n",
            "          the NaN values specified `na_values` are used for parsing.\n",
            "        * If `keep_default_na` is False, and `na_values` are not specified, no\n",
            "          strings will be parsed as NaN.\n",
            "    \n",
            "        Note that if `na_filter` is passed in as False, the `keep_default_na` and\n",
            "        `na_values` parameters will be ignored.\n",
            "    na_filter : bool, default True\n",
            "        Detect missing value markers (empty strings and the value of na_values). In\n",
            "        data without any NAs, passing na_filter=False can improve the performance\n",
            "        of reading a large file.\n",
            "    verbose : bool, default False\n",
            "        Indicate number of NA values placed in non-numeric columns.\n",
            "    skip_blank_lines : bool, default True\n",
            "        If True, skip over blank lines rather than interpreting as NaN values.\n",
            "    parse_dates : bool or list of int or names or list of lists or dict, default False\n",
            "        The behavior is as follows:\n",
            "    \n",
            "        * boolean. If True -> try parsing the index.\n",
            "        * list of int or names. e.g. If [1, 2, 3] -> try parsing columns 1, 2, 3\n",
            "          each as a separate date column.\n",
            "        * list of lists. e.g.  If [[1, 3]] -> combine columns 1 and 3 and parse as\n",
            "          a single date column.\n",
            "        * dict, e.g. {'foo' : [1, 3]} -> parse columns 1, 3 as date and call\n",
            "          result 'foo'\n",
            "    \n",
            "        If a column or index cannot be represented as an array of datetimes,\n",
            "        say because of an unparsable value or a mixture of timezones, the column\n",
            "        or index will be returned unaltered as an object data type. For\n",
            "        non-standard datetime parsing, use ``pd.to_datetime`` after\n",
            "        ``pd.read_csv``. To parse an index or column with a mixture of timezones,\n",
            "        specify ``date_parser`` to be a partially-applied\n",
            "        :func:`pandas.to_datetime` with ``utc=True``. See\n",
            "        :ref:`io.csv.mixed_timezones` for more.\n",
            "    \n",
            "        Note: A fast-path exists for iso8601-formatted dates.\n",
            "    infer_datetime_format : bool, default False\n",
            "        If True and `parse_dates` is enabled, pandas will attempt to infer the\n",
            "        format of the datetime strings in the columns, and if it can be inferred,\n",
            "        switch to a faster method of parsing them. In some cases this can increase\n",
            "        the parsing speed by 5-10x.\n",
            "    keep_date_col : bool, default False\n",
            "        If True and `parse_dates` specifies combining multiple columns then\n",
            "        keep the original columns.\n",
            "    date_parser : function, optional\n",
            "        Function to use for converting a sequence of string columns to an array of\n",
            "        datetime instances. The default uses ``dateutil.parser.parser`` to do the\n",
            "        conversion. Pandas will try to call `date_parser` in three different ways,\n",
            "        advancing to the next if an exception occurs: 1) Pass one or more arrays\n",
            "        (as defined by `parse_dates`) as arguments; 2) concatenate (row-wise) the\n",
            "        string values from the columns defined by `parse_dates` into a single array\n",
            "        and pass that; and 3) call `date_parser` once for each row using one or\n",
            "        more strings (corresponding to the columns defined by `parse_dates`) as\n",
            "        arguments.\n",
            "    dayfirst : bool, default False\n",
            "        DD/MM format dates, international and European format.\n",
            "    cache_dates : bool, default True\n",
            "        If True, use a cache of unique, converted dates to apply the datetime\n",
            "        conversion. May produce significant speed-up when parsing duplicate\n",
            "        date strings, especially ones with timezone offsets.\n",
            "    \n",
            "        .. versionadded:: 0.25.0\n",
            "    iterator : bool, default False\n",
            "        Return TextFileReader object for iteration or getting chunks with\n",
            "        ``get_chunk()``.\n",
            "    \n",
            "        .. versionchanged:: 1.2\n",
            "    \n",
            "           ``TextFileReader`` is a context manager.\n",
            "    chunksize : int, optional\n",
            "        Return TextFileReader object for iteration.\n",
            "        See the `IO Tools docs\n",
            "        <https://pandas.pydata.org/pandas-docs/stable/io.html#io-chunking>`_\n",
            "        for more information on ``iterator`` and ``chunksize``.\n",
            "    \n",
            "        .. versionchanged:: 1.2\n",
            "    \n",
            "           ``TextFileReader`` is a context manager.\n",
            "    compression : str or dict, default 'infer'\n",
            "        For on-the-fly decompression of on-disk data. If 'infer' and 'filepath_or_buffer' is\n",
            "        path-like, then detect compression from the following extensions: '.gz',\n",
            "        '.bz2', '.zip', '.xz', '.zst', '.tar', '.tar.gz', '.tar.xz' or '.tar.bz2'\n",
            "        (otherwise no compression).\n",
            "        If using 'zip' or 'tar', the ZIP file must contain only one data file to be read in.\n",
            "        Set to ``None`` for no decompression.\n",
            "        Can also be a dict with key ``'method'`` set\n",
            "        to one of {``'zip'``, ``'gzip'``, ``'bz2'``, ``'zstd'``, ``'tar'``} and other\n",
            "        key-value pairs are forwarded to\n",
            "        ``zipfile.ZipFile``, ``gzip.GzipFile``,\n",
            "        ``bz2.BZ2File``, ``zstandard.ZstdDecompressor`` or\n",
            "        ``tarfile.TarFile``, respectively.\n",
            "        As an example, the following could be passed for Zstandard decompression using a\n",
            "        custom compression dictionary:\n",
            "        ``compression={'method': 'zstd', 'dict_data': my_compression_dict}``.\n",
            "    \n",
            "            .. versionadded:: 1.5.0\n",
            "                Added support for `.tar` files.\n",
            "    \n",
            "        .. versionchanged:: 1.4.0 Zstandard support.\n",
            "    \n",
            "    thousands : str, optional\n",
            "        Thousands separator.\n",
            "    decimal : str, default '.'\n",
            "        Character to recognize as decimal point (e.g. use ',' for European data).\n",
            "    lineterminator : str (length 1), optional\n",
            "        Character to break file into lines. Only valid with C parser.\n",
            "    quotechar : str (length 1), optional\n",
            "        The character used to denote the start and end of a quoted item. Quoted\n",
            "        items can include the delimiter and it will be ignored.\n",
            "    quoting : int or csv.QUOTE_* instance, default 0\n",
            "        Control field quoting behavior per ``csv.QUOTE_*`` constants. Use one of\n",
            "        QUOTE_MINIMAL (0), QUOTE_ALL (1), QUOTE_NONNUMERIC (2) or QUOTE_NONE (3).\n",
            "    doublequote : bool, default ``True``\n",
            "       When quotechar is specified and quoting is not ``QUOTE_NONE``, indicate\n",
            "       whether or not to interpret two consecutive quotechar elements INSIDE a\n",
            "       field as a single ``quotechar`` element.\n",
            "    escapechar : str (length 1), optional\n",
            "        One-character string used to escape other characters.\n",
            "    comment : str, optional\n",
            "        Indicates remainder of line should not be parsed. If found at the beginning\n",
            "        of a line, the line will be ignored altogether. This parameter must be a\n",
            "        single character. Like empty lines (as long as ``skip_blank_lines=True``),\n",
            "        fully commented lines are ignored by the parameter `header` but not by\n",
            "        `skiprows`. For example, if ``comment='#'``, parsing\n",
            "        ``#empty\\na,b,c\\n1,2,3`` with ``header=0`` will result in 'a,b,c' being\n",
            "        treated as the header.\n",
            "    encoding : str, optional\n",
            "        Encoding to use for UTF when reading/writing (ex. 'utf-8'). `List of Python\n",
            "        standard encodings\n",
            "        <https://docs.python.org/3/library/codecs.html#standard-encodings>`_ .\n",
            "    \n",
            "        .. versionchanged:: 1.2\n",
            "    \n",
            "           When ``encoding`` is ``None``, ``errors=\"replace\"`` is passed to\n",
            "           ``open()``. Otherwise, ``errors=\"strict\"`` is passed to ``open()``.\n",
            "           This behavior was previously only the case for ``engine=\"python\"``.\n",
            "    \n",
            "        .. versionchanged:: 1.3.0\n",
            "    \n",
            "           ``encoding_errors`` is a new argument. ``encoding`` has no longer an\n",
            "           influence on how encoding errors are handled.\n",
            "    \n",
            "    encoding_errors : str, optional, default \"strict\"\n",
            "        How encoding errors are treated. `List of possible values\n",
            "        <https://docs.python.org/3/library/codecs.html#error-handlers>`_ .\n",
            "    \n",
            "        .. versionadded:: 1.3.0\n",
            "    \n",
            "    dialect : str or csv.Dialect, optional\n",
            "        If provided, this parameter will override values (default or not) for the\n",
            "        following parameters: `delimiter`, `doublequote`, `escapechar`,\n",
            "        `skipinitialspace`, `quotechar`, and `quoting`. If it is necessary to\n",
            "        override values, a ParserWarning will be issued. See csv.Dialect\n",
            "        documentation for more details.\n",
            "    error_bad_lines : bool, optional, default ``None``\n",
            "        Lines with too many fields (e.g. a csv line with too many commas) will by\n",
            "        default cause an exception to be raised, and no DataFrame will be returned.\n",
            "        If False, then these \"bad lines\" will be dropped from the DataFrame that is\n",
            "        returned.\n",
            "    \n",
            "        .. deprecated:: 1.3.0\n",
            "           The ``on_bad_lines`` parameter should be used instead to specify behavior upon\n",
            "           encountering a bad line instead.\n",
            "    warn_bad_lines : bool, optional, default ``None``\n",
            "        If error_bad_lines is False, and warn_bad_lines is True, a warning for each\n",
            "        \"bad line\" will be output.\n",
            "    \n",
            "        .. deprecated:: 1.3.0\n",
            "           The ``on_bad_lines`` parameter should be used instead to specify behavior upon\n",
            "           encountering a bad line instead.\n",
            "    on_bad_lines : {'error', 'warn', 'skip'} or callable, default 'error'\n",
            "        Specifies what to do upon encountering a bad line (a line with too many fields).\n",
            "        Allowed values are :\n",
            "    \n",
            "            - 'error', raise an Exception when a bad line is encountered.\n",
            "            - 'warn', raise a warning when a bad line is encountered and skip that line.\n",
            "            - 'skip', skip bad lines without raising or warning when they are encountered.\n",
            "    \n",
            "        .. versionadded:: 1.3.0\n",
            "    \n",
            "        .. versionadded:: 1.4.0\n",
            "    \n",
            "            - callable, function with signature\n",
            "              ``(bad_line: list[str]) -> list[str] | None`` that will process a single\n",
            "              bad line. ``bad_line`` is a list of strings split by the ``sep``.\n",
            "              If the function returns ``None``, the bad line will be ignored.\n",
            "              If the function returns a new list of strings with more elements than\n",
            "              expected, a ``ParserWarning`` will be emitted while dropping extra elements.\n",
            "              Only supported when ``engine=\"python\"``\n",
            "    \n",
            "    delim_whitespace : bool, default False\n",
            "        Specifies whether or not whitespace (e.g. ``' '`` or ``'    '``) will be\n",
            "        used as the sep. Equivalent to setting ``sep='\\s+'``. If this option\n",
            "        is set to True, nothing should be passed in for the ``delimiter``\n",
            "        parameter.\n",
            "    low_memory : bool, default True\n",
            "        Internally process the file in chunks, resulting in lower memory use\n",
            "        while parsing, but possibly mixed type inference.  To ensure no mixed\n",
            "        types either set False, or specify the type with the `dtype` parameter.\n",
            "        Note that the entire file is read into a single DataFrame regardless,\n",
            "        use the `chunksize` or `iterator` parameter to return the data in chunks.\n",
            "        (Only valid with C parser).\n",
            "    memory_map : bool, default False\n",
            "        If a filepath is provided for `filepath_or_buffer`, map the file object\n",
            "        directly onto memory and access the data directly from there. Using this\n",
            "        option can improve performance because there is no longer any I/O overhead.\n",
            "    float_precision : str, optional\n",
            "        Specifies which converter the C engine should use for floating-point\n",
            "        values. The options are ``None`` or 'high' for the ordinary converter,\n",
            "        'legacy' for the original lower precision pandas converter, and\n",
            "        'round_trip' for the round-trip converter.\n",
            "    \n",
            "        .. versionchanged:: 1.2\n",
            "    \n",
            "    storage_options : dict, optional\n",
            "        Extra options that make sense for a particular storage connection, e.g.\n",
            "        host, port, username, password, etc. For HTTP(S) URLs the key-value pairs\n",
            "        are forwarded to ``urllib.request.Request`` as header options. For other\n",
            "        URLs (e.g. starting with \"s3://\", and \"gcs://\") the key-value pairs are\n",
            "        forwarded to ``fsspec.open``. Please see ``fsspec`` and ``urllib`` for more\n",
            "        details, and for more examples on storage options refer `here\n",
            "        <https://pandas.pydata.org/docs/user_guide/io.html?\n",
            "        highlight=storage_options#reading-writing-remote-files>`_.\n",
            "    \n",
            "        .. versionadded:: 1.2\n",
            "    \n",
            "    Returns\n",
            "    -------\n",
            "    DataFrame or TextParser\n",
            "        A comma-separated values (csv) file is returned as two-dimensional\n",
            "        data structure with labeled axes.\n",
            "    \n",
            "    See Also\n",
            "    --------\n",
            "    DataFrame.to_csv : Write DataFrame to a comma-separated values (csv) file.\n",
            "    read_csv : Read a comma-separated values (csv) file into DataFrame.\n",
            "    read_fwf : Read a table of fixed-width formatted lines into DataFrame.\n",
            "    \n",
            "    Examples\n",
            "    --------\n",
            "    >>> pd.read_csv('data.csv')  # doctest: +SKIP\n",
            "\n"
          ]
        }
      ],
      "source": [
        "help(pd.read_csv)"
      ]
    },
    {
      "cell_type": "markdown",
      "metadata": {
        "id": "UUAFiNFy0BW6"
      },
      "source": [
        "El conjunto de datos se encuentra en el `DataFrame` `df`\n",
        "\n",
        "sobre el objeto creado podemos usar  algunas funciones  para darnos una idea del comportamiento de la información:\n",
        "```python\n",
        "df.head(n)  # imprime los primeros n registros del DataFrame\n",
        "df.tail(n)  # imprime los primeros n registros del DataFrame\n",
        "df.shape    # imprime el numero de columnas y filas del DataFrame\n",
        "df.columns  # imprime el nombre de las columnas del DataFrame\n",
        "df.index    # imprime el indice de los registros del DataFrame\n",
        "df.dtypes   # inpreme el tipo de cada una de las columnnas del DataFrame\n",
        "df.sample(n)# imprime una muestra aleatoria de n registros en el DataFrame\n",
        "```"
      ]
    },
    {
      "cell_type": "code",
      "execution_count": 98,
      "metadata": {
        "colab": {
          "base_uri": "https://localhost:8080/",
          "height": 913
        },
        "id": "Hyrdd0-Z0BW6",
        "outputId": "8ce12486-df22-4914-df2f-e0f6dd7b79f8"
      },
      "outputs": [
        {
          "data": {
            "text/plain": [
              "'primeros 3 registros'"
            ]
          },
          "metadata": {},
          "output_type": "display_data"
        },
        {
          "data": {
            "text/html": [
              "<div>\n",
              "<style scoped>\n",
              "    .dataframe tbody tr th:only-of-type {\n",
              "        vertical-align: middle;\n",
              "    }\n",
              "\n",
              "    .dataframe tbody tr th {\n",
              "        vertical-align: top;\n",
              "    }\n",
              "\n",
              "    .dataframe thead th {\n",
              "        text-align: right;\n",
              "    }\n",
              "</style>\n",
              "<table border=\"1\" class=\"dataframe\">\n",
              "  <thead>\n",
              "    <tr style=\"text-align: right;\">\n",
              "      <th></th>\n",
              "      <th>totmou</th>\n",
              "      <th>totrev</th>\n",
              "      <th>creditcd</th>\n",
              "      <th>eqpdays</th>\n",
              "    </tr>\n",
              "    <tr>\n",
              "      <th>Customer_ID</th>\n",
              "      <th></th>\n",
              "      <th></th>\n",
              "      <th></th>\n",
              "      <th></th>\n",
              "    </tr>\n",
              "  </thead>\n",
              "  <tbody>\n",
              "    <tr>\n",
              "      <th>1082423</th>\n",
              "      <td>7269.0</td>\n",
              "      <td>906.58</td>\n",
              "      <td>Y</td>\n",
              "      <td>371</td>\n",
              "    </tr>\n",
              "    <tr>\n",
              "      <th>1069232</th>\n",
              "      <td>13552.0</td>\n",
              "      <td>1172.25</td>\n",
              "      <td>N</td>\n",
              "      <td>83</td>\n",
              "    </tr>\n",
              "    <tr>\n",
              "      <th>1031705</th>\n",
              "      <td>4152.0</td>\n",
              "      <td>577.39</td>\n",
              "      <td>Y</td>\n",
              "      <td>675</td>\n",
              "    </tr>\n",
              "  </tbody>\n",
              "</table>\n",
              "</div>"
            ],
            "text/plain": [
              "              totmou   totrev creditcd  eqpdays\n",
              "Customer_ID                                    \n",
              "1082423       7269.0   906.58        Y      371\n",
              "1069232      13552.0  1172.25        N       83\n",
              "1031705       4152.0   577.39        Y      675"
            ]
          },
          "metadata": {},
          "output_type": "display_data"
        },
        {
          "data": {
            "text/plain": [
              "'últimos registros'"
            ]
          },
          "metadata": {},
          "output_type": "display_data"
        },
        {
          "data": {
            "text/html": [
              "<div>\n",
              "<style scoped>\n",
              "    .dataframe tbody tr th:only-of-type {\n",
              "        vertical-align: middle;\n",
              "    }\n",
              "\n",
              "    .dataframe tbody tr th {\n",
              "        vertical-align: top;\n",
              "    }\n",
              "\n",
              "    .dataframe thead th {\n",
              "        text-align: right;\n",
              "    }\n",
              "</style>\n",
              "<table border=\"1\" class=\"dataframe\">\n",
              "  <thead>\n",
              "    <tr style=\"text-align: right;\">\n",
              "      <th></th>\n",
              "      <th>totmou</th>\n",
              "      <th>totrev</th>\n",
              "      <th>creditcd</th>\n",
              "      <th>eqpdays</th>\n",
              "    </tr>\n",
              "    <tr>\n",
              "      <th>Customer_ID</th>\n",
              "      <th></th>\n",
              "      <th></th>\n",
              "      <th></th>\n",
              "      <th></th>\n",
              "    </tr>\n",
              "  </thead>\n",
              "  <tbody>\n",
              "    <tr>\n",
              "      <th>1096497</th>\n",
              "      <td>3690.0</td>\n",
              "      <td>294.29</td>\n",
              "      <td>Y</td>\n",
              "      <td>212</td>\n",
              "    </tr>\n",
              "    <tr>\n",
              "      <th>1087248</th>\n",
              "      <td>3333.0</td>\n",
              "      <td>233.08</td>\n",
              "      <td>Y</td>\n",
              "      <td>290</td>\n",
              "    </tr>\n",
              "    <tr>\n",
              "      <th>1099003</th>\n",
              "      <td>5025.0</td>\n",
              "      <td>1436.49</td>\n",
              "      <td>Y</td>\n",
              "      <td>1029</td>\n",
              "    </tr>\n",
              "  </tbody>\n",
              "</table>\n",
              "</div>"
            ],
            "text/plain": [
              "             totmou   totrev creditcd  eqpdays\n",
              "Customer_ID                                   \n",
              "1096497      3690.0   294.29        Y      212\n",
              "1087248      3333.0   233.08        Y      290\n",
              "1099003      5025.0  1436.49        Y     1029"
            ]
          },
          "metadata": {},
          "output_type": "display_data"
        },
        {
          "data": {
            "text/plain": [
              "Index(['totmou', 'totrev', 'creditcd', 'eqpdays'], dtype='object')"
            ]
          },
          "metadata": {},
          "output_type": "display_data"
        },
        {
          "data": {
            "text/plain": [
              "Int64Index([1082423, 1069232, 1031705, 1089806, 1076695, 1091652, 1043846,\n",
              "            1088967, 1045239, 1046584,\n",
              "            ...\n",
              "            1087145, 1002540, 1044082, 1083458, 1093976, 1027614, 1098422,\n",
              "            1096497, 1087248, 1099003],\n",
              "           dtype='int64', name='Customer_ID', length=10000)"
            ]
          },
          "metadata": {},
          "output_type": "display_data"
        },
        {
          "data": {
            "text/plain": [
              "'Tipos de registros en el DataFrame'"
            ]
          },
          "metadata": {},
          "output_type": "display_data"
        },
        {
          "data": {
            "text/plain": [
              "totmou      float64\n",
              "totrev      float64\n",
              "creditcd     object\n",
              "eqpdays       int64\n",
              "dtype: object"
            ]
          },
          "metadata": {},
          "output_type": "display_data"
        },
        {
          "data": {
            "text/plain": [
              "'Muestra akleatoria de 3 registros'"
            ]
          },
          "metadata": {},
          "output_type": "display_data"
        },
        {
          "data": {
            "text/html": [
              "<div>\n",
              "<style scoped>\n",
              "    .dataframe tbody tr th:only-of-type {\n",
              "        vertical-align: middle;\n",
              "    }\n",
              "\n",
              "    .dataframe tbody tr th {\n",
              "        vertical-align: top;\n",
              "    }\n",
              "\n",
              "    .dataframe thead th {\n",
              "        text-align: right;\n",
              "    }\n",
              "</style>\n",
              "<table border=\"1\" class=\"dataframe\">\n",
              "  <thead>\n",
              "    <tr style=\"text-align: right;\">\n",
              "      <th></th>\n",
              "      <th>totmou</th>\n",
              "      <th>totrev</th>\n",
              "      <th>creditcd</th>\n",
              "      <th>eqpdays</th>\n",
              "    </tr>\n",
              "    <tr>\n",
              "      <th>Customer_ID</th>\n",
              "      <th></th>\n",
              "      <th></th>\n",
              "      <th></th>\n",
              "      <th></th>\n",
              "    </tr>\n",
              "  </thead>\n",
              "  <tbody>\n",
              "    <tr>\n",
              "      <th>1072512</th>\n",
              "      <td>2624.0</td>\n",
              "      <td>302.58</td>\n",
              "      <td>N</td>\n",
              "      <td>242</td>\n",
              "    </tr>\n",
              "    <tr>\n",
              "      <th>1041887</th>\n",
              "      <td>8729.0</td>\n",
              "      <td>802.32</td>\n",
              "      <td>Y</td>\n",
              "      <td>530</td>\n",
              "    </tr>\n",
              "    <tr>\n",
              "      <th>1077222</th>\n",
              "      <td>7181.0</td>\n",
              "      <td>706.71</td>\n",
              "      <td>Y</td>\n",
              "      <td>121</td>\n",
              "    </tr>\n",
              "  </tbody>\n",
              "</table>\n",
              "</div>"
            ],
            "text/plain": [
              "             totmou  totrev creditcd  eqpdays\n",
              "Customer_ID                                  \n",
              "1072512      2624.0  302.58        N      242\n",
              "1041887      8729.0  802.32        Y      530\n",
              "1077222      7181.0  706.71        Y      121"
            ]
          },
          "metadata": {},
          "output_type": "display_data"
        },
        {
          "data": {
            "text/plain": [
              "'dimensión'"
            ]
          },
          "metadata": {},
          "output_type": "display_data"
        },
        {
          "data": {
            "text/plain": [
              "(10000, 4)"
            ]
          },
          "metadata": {},
          "output_type": "display_data"
        }
      ],
      "source": [
        "display(\"primeros 3 registros\",df.head(3))\n",
        "display(\"últimos registros\",df.tail(3))\n",
        "display(df.columns)\n",
        "display(df.index)\n",
        "display(\"Tipos de registros en el DataFrame\",df.dtypes)\n",
        "display(\"Muestra akleatoria de 3 registros\",df.sample(3))\n",
        "display(\"dimensión\",df.shape)"
      ]
    },
    {
      "cell_type": "code",
      "execution_count": 99,
      "metadata": {
        "colab": {
          "base_uri": "https://localhost:8080/",
          "height": 81
        },
        "id": "mQJ0WI1JsV5L",
        "outputId": "6f346d3a-cd50-4ff1-e773-ad110ca2c2fc"
      },
      "outputs": [
        {
          "data": {
            "text/html": [
              "<div>\n",
              "<style scoped>\n",
              "    .dataframe tbody tr th:only-of-type {\n",
              "        vertical-align: middle;\n",
              "    }\n",
              "\n",
              "    .dataframe tbody tr th {\n",
              "        vertical-align: top;\n",
              "    }\n",
              "\n",
              "    .dataframe thead th {\n",
              "        text-align: right;\n",
              "    }\n",
              "</style>\n",
              "<table border=\"1\" class=\"dataframe\">\n",
              "  <thead>\n",
              "    <tr style=\"text-align: right;\">\n",
              "      <th></th>\n",
              "      <th>totmou</th>\n",
              "      <th>totrev</th>\n",
              "      <th>creditcd</th>\n",
              "      <th>eqpdays</th>\n",
              "    </tr>\n",
              "    <tr>\n",
              "      <th>Customer_ID</th>\n",
              "      <th></th>\n",
              "      <th></th>\n",
              "      <th></th>\n",
              "      <th></th>\n",
              "    </tr>\n",
              "  </thead>\n",
              "  <tbody>\n",
              "  </tbody>\n",
              "</table>\n",
              "</div>"
            ],
            "text/plain": [
              "Empty DataFrame\n",
              "Columns: [totmou, totrev, creditcd, eqpdays]\n",
              "Index: []"
            ]
          },
          "execution_count": 99,
          "metadata": {},
          "output_type": "execute_result"
        }
      ],
      "source": [
        "df[df[\"totrev\"]<5]"
      ]
    },
    {
      "cell_type": "markdown",
      "metadata": {
        "id": "KQqf6Egk0BW6"
      },
      "source": [
        "Este conjunto de datos corresponde a 10000 registros y 2 variables\n",
        "\n",
        "### Manejo de datos duplicados\n",
        "\n",
        "os dataframes tienen la posibilidad de detectar las filas duplicadas con la función:\n",
        "```\n",
        "df.duplicated({columns})\n",
        "```\n",
        "Si no especifica {columns}, se busacarán duplicados teniendo en cuenta todas las columnas. Una vez detectados el dtaframe tiene un función para eliminar filas duplicadas, haciendo:\n",
        "\n",
        "```\n",
        "df = df.drop_duplicates()\n",
        "```\n",
        "También es posible eliminar filas que duplican solo algunos campos. Con el fin de dejar solo una ocurrencia.\n",
        "\n",
        "```\n",
        "df.drop_duplicates(['nombre', 'apellido', 'cédula'], keep='last')\n",
        "```\n",
        "En este caso, como no todas las colomnas son iguales se conserva solo la última ocurrencia.\n",
        "\n",
        "### Manejo de datos perdidos o esperados\n",
        "Son aquellos datos flatantes en la tabla que por alguna razón o error no se encuentran, o parecen con algún valor o etiqueta de no válido.\n",
        "Para manipular datos perdidos use la explicación dada el siguiente enlace: [DATOS PERDIDOS](http://ligdigonzalez.com/manipulando-datos-perdidos-en-python/)\n",
        "recuerde que para reemplazar datos perdidos en un dataframe $df$ se usa la función:\n",
        "```python\n",
        "promedio = df['totrev'].mean()\n",
        "df['nota'].replace(np.nan, promedio)\n",
        "```\n",
        "en donde la opción 'promedio' busca el valor promedio de la columna (datos numéricos) o la moda (datos categóricos) para reemplazar el valor no válido."
      ]
    },
    {
      "cell_type": "code",
      "execution_count": 100,
      "metadata": {
        "colab": {
          "base_uri": "https://localhost:8080/",
          "height": 210
        },
        "id": "38oK5l5n0BW7",
        "outputId": "eba3af53-684b-410e-84b2-c9304efe6a33"
      },
      "outputs": [
        {
          "data": {
            "text/plain": [
              "totmou      False\n",
              "totrev      False\n",
              "creditcd     True\n",
              "eqpdays     False\n",
              "dtype: bool"
            ]
          },
          "execution_count": 100,
          "metadata": {},
          "output_type": "execute_result"
        }
      ],
      "source": [
        "df.isnull().any(axis=0)"
      ]
    },
    {
      "cell_type": "code",
      "execution_count": 101,
      "metadata": {
        "colab": {
          "base_uri": "https://localhost:8080/",
          "height": 490
        },
        "id": "uvbgp6L_0BW7",
        "outputId": "418a7357-19ff-4776-f910-3220eaf763be",
        "scrolled": true
      },
      "outputs": [
        {
          "data": {
            "text/plain": [
              "Customer_ID\n",
              "1082423    False\n",
              "1069232    False\n",
              "1031705    False\n",
              "1089806    False\n",
              "1076695    False\n",
              "           ...  \n",
              "1027614    False\n",
              "1098422    False\n",
              "1096497    False\n",
              "1087248    False\n",
              "1099003    False\n",
              "Length: 10000, dtype: bool"
            ]
          },
          "execution_count": 101,
          "metadata": {},
          "output_type": "execute_result"
        }
      ],
      "source": [
        "df.isnull().any(axis=1)"
      ]
    },
    {
      "cell_type": "code",
      "execution_count": 102,
      "metadata": {
        "colab": {
          "base_uri": "https://localhost:8080/",
          "height": 490
        },
        "id": "Kh9IxNeX0BW7",
        "outputId": "429fdecf-7bae-4a01-8626-1d3b60c96e47"
      },
      "outputs": [
        {
          "data": {
            "text/plain": [
              "Customer_ID\n",
              "1082423    False\n",
              "1069232    False\n",
              "1031705    False\n",
              "1089806    False\n",
              "1076695    False\n",
              "           ...  \n",
              "1027614    False\n",
              "1098422    False\n",
              "1096497    False\n",
              "1087248    False\n",
              "1099003    False\n",
              "Name: creditcd, Length: 10000, dtype: bool"
            ]
          },
          "execution_count": 102,
          "metadata": {},
          "output_type": "execute_result"
        }
      ],
      "source": [
        "df[\"creditcd\"].isnull()"
      ]
    },
    {
      "cell_type": "code",
      "execution_count": 103,
      "metadata": {
        "colab": {
          "base_uri": "https://localhost:8080/",
          "height": 455
        },
        "id": "D2mOuDny0BW8",
        "outputId": "00c6af69-134a-45cb-cd12-d46f9fd6d0da"
      },
      "outputs": [
        {
          "data": {
            "text/html": [
              "<div>\n",
              "<style scoped>\n",
              "    .dataframe tbody tr th:only-of-type {\n",
              "        vertical-align: middle;\n",
              "    }\n",
              "\n",
              "    .dataframe tbody tr th {\n",
              "        vertical-align: top;\n",
              "    }\n",
              "\n",
              "    .dataframe thead th {\n",
              "        text-align: right;\n",
              "    }\n",
              "</style>\n",
              "<table border=\"1\" class=\"dataframe\">\n",
              "  <thead>\n",
              "    <tr style=\"text-align: right;\">\n",
              "      <th></th>\n",
              "      <th>totmou</th>\n",
              "      <th>totrev</th>\n",
              "      <th>creditcd</th>\n",
              "      <th>eqpdays</th>\n",
              "    </tr>\n",
              "    <tr>\n",
              "      <th>Customer_ID</th>\n",
              "      <th></th>\n",
              "      <th></th>\n",
              "      <th></th>\n",
              "      <th></th>\n",
              "    </tr>\n",
              "  </thead>\n",
              "  <tbody>\n",
              "    <tr>\n",
              "      <th>1072218</th>\n",
              "      <td>5684.0</td>\n",
              "      <td>857.65</td>\n",
              "      <td>NaN</td>\n",
              "      <td>244</td>\n",
              "    </tr>\n",
              "    <tr>\n",
              "      <th>1066597</th>\n",
              "      <td>925.0</td>\n",
              "      <td>373.12</td>\n",
              "      <td>NaN</td>\n",
              "      <td>344</td>\n",
              "    </tr>\n",
              "    <tr>\n",
              "      <th>1023352</th>\n",
              "      <td>14466.0</td>\n",
              "      <td>2243.76</td>\n",
              "      <td>NaN</td>\n",
              "      <td>387</td>\n",
              "    </tr>\n",
              "    <tr>\n",
              "      <th>1045521</th>\n",
              "      <td>2504.0</td>\n",
              "      <td>756.79</td>\n",
              "      <td>NaN</td>\n",
              "      <td>495</td>\n",
              "    </tr>\n",
              "    <tr>\n",
              "      <th>1001813</th>\n",
              "      <td>76260.0</td>\n",
              "      <td>5526.11</td>\n",
              "      <td>NaN</td>\n",
              "      <td>361</td>\n",
              "    </tr>\n",
              "    <tr>\n",
              "      <th>...</th>\n",
              "      <td>...</td>\n",
              "      <td>...</td>\n",
              "      <td>...</td>\n",
              "      <td>...</td>\n",
              "    </tr>\n",
              "    <tr>\n",
              "      <th>1050795</th>\n",
              "      <td>15591.0</td>\n",
              "      <td>1330.71</td>\n",
              "      <td>NaN</td>\n",
              "      <td>447</td>\n",
              "    </tr>\n",
              "    <tr>\n",
              "      <th>1096985</th>\n",
              "      <td>3011.0</td>\n",
              "      <td>522.14</td>\n",
              "      <td>NaN</td>\n",
              "      <td>74</td>\n",
              "    </tr>\n",
              "    <tr>\n",
              "      <th>1025203</th>\n",
              "      <td>853.0</td>\n",
              "      <td>650.34</td>\n",
              "      <td>NaN</td>\n",
              "      <td>780</td>\n",
              "    </tr>\n",
              "    <tr>\n",
              "      <th>1099258</th>\n",
              "      <td>33660.0</td>\n",
              "      <td>4247.85</td>\n",
              "      <td>NaN</td>\n",
              "      <td>206</td>\n",
              "    </tr>\n",
              "    <tr>\n",
              "      <th>1026149</th>\n",
              "      <td>1955.0</td>\n",
              "      <td>606.08</td>\n",
              "      <td>NaN</td>\n",
              "      <td>770</td>\n",
              "    </tr>\n",
              "  </tbody>\n",
              "</table>\n",
              "<p>152 rows × 4 columns</p>\n",
              "</div>"
            ],
            "text/plain": [
              "              totmou   totrev creditcd  eqpdays\n",
              "Customer_ID                                    \n",
              "1072218       5684.0   857.65      NaN      244\n",
              "1066597        925.0   373.12      NaN      344\n",
              "1023352      14466.0  2243.76      NaN      387\n",
              "1045521       2504.0   756.79      NaN      495\n",
              "1001813      76260.0  5526.11      NaN      361\n",
              "...              ...      ...      ...      ...\n",
              "1050795      15591.0  1330.71      NaN      447\n",
              "1096985       3011.0   522.14      NaN       74\n",
              "1025203        853.0   650.34      NaN      780\n",
              "1099258      33660.0  4247.85      NaN      206\n",
              "1026149       1955.0   606.08      NaN      770\n",
              "\n",
              "[152 rows x 4 columns]"
            ]
          },
          "execution_count": 103,
          "metadata": {},
          "output_type": "execute_result"
        }
      ],
      "source": [
        "perdidos = df[(df['creditcd'].isnull()) ]\n",
        "perdidos"
      ]
    },
    {
      "cell_type": "code",
      "execution_count": 104,
      "metadata": {
        "colab": {
          "base_uri": "https://localhost:8080/",
          "height": 490
        },
        "id": "h76WLZN_0BW8",
        "outputId": "5b2922ce-6883-480a-b2fc-c897a55530b6",
        "scrolled": true
      },
      "outputs": [
        {
          "data": {
            "text/plain": [
              "Customer_ID\n",
              "1082423     906.58\n",
              "1069232    1172.25\n",
              "1031705     577.39\n",
              "1089806     294.26\n",
              "1076695     433.16\n",
              "            ...   \n",
              "1027614     484.31\n",
              "1098422     583.36\n",
              "1096497     294.29\n",
              "1087248     233.08\n",
              "1099003    1436.49\n",
              "Name: totrev, Length: 10000, dtype: float64"
            ]
          },
          "execution_count": 104,
          "metadata": {},
          "output_type": "execute_result"
        }
      ],
      "source": [
        "promedio = df['totrev'].mean()\n",
        "df['totrev'].replace(np.nan, promedio)"
      ]
    },
    {
      "cell_type": "markdown",
      "metadata": {
        "id": "Y25CLs_P0BW8"
      },
      "source": [
        "También es recomendado usar la funcion `fillna()`"
      ]
    },
    {
      "cell_type": "code",
      "execution_count": 105,
      "metadata": {
        "id": "DJfZXO980BW9",
        "scrolled": true
      },
      "outputs": [],
      "source": [
        "df['creditcd'].fillna(\"Y\",inplace=True)"
      ]
    },
    {
      "cell_type": "code",
      "execution_count": 106,
      "metadata": {
        "colab": {
          "base_uri": "https://localhost:8080/",
          "height": 210
        },
        "id": "qQLmwz0Q0BW9",
        "outputId": "4e34f24d-5e94-496e-a8cd-9e5453b292bc"
      },
      "outputs": [
        {
          "data": {
            "text/plain": [
              "totmou      False\n",
              "totrev      False\n",
              "creditcd    False\n",
              "eqpdays     False\n",
              "dtype: bool"
            ]
          },
          "execution_count": 106,
          "metadata": {},
          "output_type": "execute_result"
        }
      ],
      "source": [
        "df.isnull().any(axis=0)"
      ]
    },
    {
      "cell_type": "code",
      "execution_count": 107,
      "metadata": {
        "colab": {
          "base_uri": "https://localhost:8080/",
          "height": 455
        },
        "id": "Ka7RVIpT0BW9",
        "outputId": "0025320a-8c2a-421e-9e7e-9e4de3e59e8e",
        "scrolled": true
      },
      "outputs": [
        {
          "data": {
            "text/html": [
              "<div>\n",
              "<style scoped>\n",
              "    .dataframe tbody tr th:only-of-type {\n",
              "        vertical-align: middle;\n",
              "    }\n",
              "\n",
              "    .dataframe tbody tr th {\n",
              "        vertical-align: top;\n",
              "    }\n",
              "\n",
              "    .dataframe thead th {\n",
              "        text-align: right;\n",
              "    }\n",
              "</style>\n",
              "<table border=\"1\" class=\"dataframe\">\n",
              "  <thead>\n",
              "    <tr style=\"text-align: right;\">\n",
              "      <th></th>\n",
              "      <th>totmou</th>\n",
              "      <th>totrev</th>\n",
              "      <th>creditcd</th>\n",
              "      <th>eqpdays</th>\n",
              "    </tr>\n",
              "    <tr>\n",
              "      <th>Customer_ID</th>\n",
              "      <th></th>\n",
              "      <th></th>\n",
              "      <th></th>\n",
              "      <th></th>\n",
              "    </tr>\n",
              "  </thead>\n",
              "  <tbody>\n",
              "    <tr>\n",
              "      <th>1082423</th>\n",
              "      <td>7269.0</td>\n",
              "      <td>906.58</td>\n",
              "      <td>Y</td>\n",
              "      <td>371</td>\n",
              "    </tr>\n",
              "    <tr>\n",
              "      <th>1069232</th>\n",
              "      <td>13552.0</td>\n",
              "      <td>1172.25</td>\n",
              "      <td>N</td>\n",
              "      <td>83</td>\n",
              "    </tr>\n",
              "    <tr>\n",
              "      <th>1031705</th>\n",
              "      <td>4152.0</td>\n",
              "      <td>577.39</td>\n",
              "      <td>Y</td>\n",
              "      <td>675</td>\n",
              "    </tr>\n",
              "    <tr>\n",
              "      <th>1089806</th>\n",
              "      <td>1863.0</td>\n",
              "      <td>294.26</td>\n",
              "      <td>Y</td>\n",
              "      <td>218</td>\n",
              "    </tr>\n",
              "    <tr>\n",
              "      <th>1076695</th>\n",
              "      <td>4155.0</td>\n",
              "      <td>433.16</td>\n",
              "      <td>N</td>\n",
              "      <td>222</td>\n",
              "    </tr>\n",
              "    <tr>\n",
              "      <th>...</th>\n",
              "      <td>...</td>\n",
              "      <td>...</td>\n",
              "      <td>...</td>\n",
              "      <td>...</td>\n",
              "    </tr>\n",
              "    <tr>\n",
              "      <th>1027614</th>\n",
              "      <td>2570.0</td>\n",
              "      <td>484.31</td>\n",
              "      <td>Y</td>\n",
              "      <td>611</td>\n",
              "    </tr>\n",
              "    <tr>\n",
              "      <th>1098422</th>\n",
              "      <td>2105.0</td>\n",
              "      <td>583.36</td>\n",
              "      <td>Y</td>\n",
              "      <td>1243</td>\n",
              "    </tr>\n",
              "    <tr>\n",
              "      <th>1096497</th>\n",
              "      <td>3690.0</td>\n",
              "      <td>294.29</td>\n",
              "      <td>Y</td>\n",
              "      <td>212</td>\n",
              "    </tr>\n",
              "    <tr>\n",
              "      <th>1087248</th>\n",
              "      <td>3333.0</td>\n",
              "      <td>233.08</td>\n",
              "      <td>Y</td>\n",
              "      <td>290</td>\n",
              "    </tr>\n",
              "    <tr>\n",
              "      <th>1099003</th>\n",
              "      <td>5025.0</td>\n",
              "      <td>1436.49</td>\n",
              "      <td>Y</td>\n",
              "      <td>1029</td>\n",
              "    </tr>\n",
              "  </tbody>\n",
              "</table>\n",
              "<p>10000 rows × 4 columns</p>\n",
              "</div>"
            ],
            "text/plain": [
              "              totmou   totrev creditcd  eqpdays\n",
              "Customer_ID                                    \n",
              "1082423       7269.0   906.58        Y      371\n",
              "1069232      13552.0  1172.25        N       83\n",
              "1031705       4152.0   577.39        Y      675\n",
              "1089806       1863.0   294.26        Y      218\n",
              "1076695       4155.0   433.16        N      222\n",
              "...              ...      ...      ...      ...\n",
              "1027614       2570.0   484.31        Y      611\n",
              "1098422       2105.0   583.36        Y     1243\n",
              "1096497       3690.0   294.29        Y      212\n",
              "1087248       3333.0   233.08        Y      290\n",
              "1099003       5025.0  1436.49        Y     1029\n",
              "\n",
              "[10000 rows x 4 columns]"
            ]
          },
          "execution_count": 107,
          "metadata": {},
          "output_type": "execute_result"
        }
      ],
      "source": [
        "df"
      ]
    },
    {
      "cell_type": "markdown",
      "metadata": {
        "id": "OklQowF00BW9"
      },
      "source": [
        "\n",
        "\n",
        "### Cálculo de estadísticas resumen\n",
        "\n",
        "Las medidas estadísticas resumen son de gran ayuda para comprender como es el comportamiento de la distribución de los datos, los objetos `DataFrame` ofrecen facilidades para hacer el cálculo de algunas estadísticas sobre cada una de las variables.\n",
        "\n",
        "```python\n",
        "df[\"var\"].value_counts() # Encuentra la frecuencia de las categorias de una columna (la columna debe ser cualitativa)\n",
        "df[\"var\"].min()          # Encuentra el mínimo de una variable cuantitativa\n",
        "df[\"var\"].median()       # Encuentra el mínimo de una variable cuantitativa\n",
        "df[\"var\"].mean()         # Encuentra el promedio de una variable cuantitativa\n",
        "df[\"var\"].max()          # Encuentra el máximo de una variable cuantitativa\n",
        "df[\"var\"].quantile()     # Encuentra los cuantiles de una variable cuantitativa\n",
        "```\n"
      ]
    },
    {
      "cell_type": "code",
      "execution_count": 108,
      "metadata": {
        "colab": {
          "base_uri": "https://localhost:8080/",
          "height": 178
        },
        "id": "k-cy0kk10BW9",
        "outputId": "3b2533fe-ef51-4f6e-dce8-6fe3c4c1d27c"
      },
      "outputs": [
        {
          "data": {
            "text/plain": [
              "Y    6948\n",
              "N    3052\n",
              "Name: creditcd, dtype: int64"
            ]
          },
          "execution_count": 108,
          "metadata": {},
          "output_type": "execute_result"
        }
      ],
      "source": [
        "df[\"creditcd\"].value_counts()"
      ]
    },
    {
      "cell_type": "code",
      "execution_count": 109,
      "metadata": {
        "colab": {
          "base_uri": "https://localhost:8080/"
        },
        "id": "1ePdF2TA0BW-",
        "outputId": "04f78a6b-beee-4032-97a4-a846ecdeb53b"
      },
      "outputs": [
        {
          "data": {
            "text/plain": [
              "10000"
            ]
          },
          "execution_count": 109,
          "metadata": {},
          "output_type": "execute_result"
        }
      ],
      "source": [
        "df[\"creditcd\"].count()"
      ]
    },
    {
      "cell_type": "code",
      "execution_count": 110,
      "metadata": {
        "colab": {
          "base_uri": "https://localhost:8080/"
        },
        "id": "ttRWH3Lg0BW-",
        "outputId": "b1b9708a-3c8d-462a-bba0-771bdda0c541",
        "scrolled": true
      },
      "outputs": [
        {
          "data": {
            "text/plain": [
              "-5"
            ]
          },
          "execution_count": 110,
          "metadata": {},
          "output_type": "execute_result"
        }
      ],
      "source": [
        "df[\"eqpdays\"].min()"
      ]
    },
    {
      "cell_type": "markdown",
      "metadata": {
        "id": "mcPsgpR60BW-"
      },
      "source": [
        "La exploración del anterior resultado puede mostrar inconsistencias  en los registros y nos ayudará a tomar decisiones sobre algunos registros, el valor mínimo de la variable `eqpdays` (Número de días (antigüedad) del equipo actual) debería ser estrictamente positivo y estos pueden ser errores de ingreso."
      ]
    },
    {
      "cell_type": "code",
      "execution_count": 111,
      "metadata": {
        "colab": {
          "base_uri": "https://localhost:8080/"
        },
        "id": "rVdWy3b10BW-",
        "outputId": "02427da3-a0e1-4b2e-a2eb-cc2ed1c9930a"
      },
      "outputs": [
        {
          "data": {
            "text/plain": [
              "1823"
            ]
          },
          "execution_count": 111,
          "metadata": {},
          "output_type": "execute_result"
        }
      ],
      "source": [
        "df[\"eqpdays\"].max()"
      ]
    },
    {
      "cell_type": "code",
      "execution_count": 112,
      "metadata": {
        "colab": {
          "base_uri": "https://localhost:8080/"
        },
        "id": "mBLCLtDQ0BW_",
        "outputId": "b2b59286-55c8-4e65-e2ba-ab8192267c7c"
      },
      "outputs": [
        {
          "data": {
            "text/plain": [
              "338.0"
            ]
          },
          "execution_count": 112,
          "metadata": {},
          "output_type": "execute_result"
        }
      ],
      "source": [
        "df[\"eqpdays\"].median()"
      ]
    },
    {
      "cell_type": "code",
      "execution_count": 113,
      "metadata": {
        "colab": {
          "base_uri": "https://localhost:8080/"
        },
        "id": "d8Qonro-0BW_",
        "outputId": "3d7e45c0-453d-4522-92b7-7577b3c3d081",
        "scrolled": true
      },
      "outputs": [
        {
          "data": {
            "text/plain": [
              "386.7945"
            ]
          },
          "execution_count": 113,
          "metadata": {},
          "output_type": "execute_result"
        }
      ],
      "source": [
        "df[\"eqpdays\"].mean()"
      ]
    },
    {
      "cell_type": "code",
      "execution_count": 114,
      "metadata": {
        "colab": {
          "base_uri": "https://localhost:8080/"
        },
        "id": "Ew0X1pLA0BW_",
        "outputId": "a8037f43-61bc-4231-c9fe-acab94708762",
        "scrolled": true
      },
      "outputs": [
        {
          "data": {
            "text/plain": [
              "210.0"
            ]
          },
          "execution_count": 114,
          "metadata": {},
          "output_type": "execute_result"
        }
      ],
      "source": [
        "df[\"eqpdays\"].quantile(0.25)"
      ]
    },
    {
      "cell_type": "code",
      "execution_count": 115,
      "metadata": {
        "colab": {
          "base_uri": "https://localhost:8080/"
        },
        "id": "6EaFozGV0BW_",
        "outputId": "f2ca03ee-32d9-49db-fa2b-9aafbb262e75"
      },
      "outputs": [
        {
          "data": {
            "text/plain": [
              "522.0"
            ]
          },
          "execution_count": 115,
          "metadata": {},
          "output_type": "execute_result"
        }
      ],
      "source": [
        "df[\"eqpdays\"].quantile(0.75)"
      ]
    },
    {
      "cell_type": "markdown",
      "metadata": {
        "id": "VfxunQuG0BXA"
      },
      "source": [
        "Estas estadísticas pueden ser resumidas con el comando:\n",
        "```python\n",
        "df[\"var\"].describe()  # Estadísticas resumen principales\n",
        "```"
      ]
    },
    {
      "cell_type": "code",
      "execution_count": 116,
      "metadata": {
        "colab": {
          "base_uri": "https://localhost:8080/",
          "height": 335
        },
        "id": "ds5iUQ5x0BXA",
        "outputId": "f0d8d8f2-f757-4236-ef3d-6aff288b0728",
        "scrolled": true
      },
      "outputs": [
        {
          "data": {
            "text/plain": [
              "count    10000.000000\n",
              "mean       386.794500\n",
              "std        252.720196\n",
              "min         -5.000000\n",
              "25%        210.000000\n",
              "50%        338.000000\n",
              "75%        522.000000\n",
              "max       1823.000000\n",
              "Name: eqpdays, dtype: float64"
            ]
          },
          "execution_count": 116,
          "metadata": {},
          "output_type": "execute_result"
        }
      ],
      "source": [
        "df[\"eqpdays\"].describe()"
      ]
    },
    {
      "cell_type": "code",
      "execution_count": 117,
      "metadata": {
        "colab": {
          "base_uri": "https://localhost:8080/"
        },
        "id": "ZDdnFTNY0BXF",
        "outputId": "aee7c2f6-b524-439e-f468-91a3efde73a9"
      },
      "outputs": [
        {
          "data": {
            "text/plain": [
              "Index(['totmou', 'totrev', 'creditcd', 'eqpdays'], dtype='object')"
            ]
          },
          "execution_count": 117,
          "metadata": {},
          "output_type": "execute_result"
        }
      ],
      "source": [
        "df.columns\n"
      ]
    },
    {
      "cell_type": "code",
      "execution_count": 118,
      "metadata": {
        "colab": {
          "base_uri": "https://localhost:8080/",
          "height": 210
        },
        "id": "ojTKlxv42X6p",
        "outputId": "9f107d98-b1ee-4659-beef-b167326d1aea"
      },
      "outputs": [
        {
          "data": {
            "text/plain": [
              "totmou      float64\n",
              "totrev      float64\n",
              "creditcd     object\n",
              "eqpdays       int64\n",
              "dtype: object"
            ]
          },
          "execution_count": 118,
          "metadata": {},
          "output_type": "execute_result"
        }
      ],
      "source": [
        "df.dtypes"
      ]
    },
    {
      "cell_type": "markdown",
      "metadata": {},
      "source": [
        "### Realizar filtros\n",
        "\n",
        "\n",
        "| Filtro                      | `df[df[]]`                               | `query()`                                 | Recomendación                                                                                           |\n",
        "|-----------------------------|------------------------------------------|-------------------------------------------|---------------------------------------------------------------------------------------------------------|\n",
        "| Igualdad simple             | `df[df['var'] == value]`                 | `df.query(\"var == value\")`                | Ambos métodos funcionan igual de bien.                                                                  |\n",
        "| Condiciones múltiples (AND) | `df[(cond1) & (cond2)]`                 | `df.query(\"cond1 and cond2\")`             | `query()` tiene una sintaxis más limpia para múltiples condiciones.                                     |\n",
        "| Condiciones múltiples (OR)  | `df[(cond1) \\| (cond2)]`                 | `df.query(\"cond1 or cond2\")`              | `query()` es más legible para múltiples condiciones.                                                    |\n",
        "| Valores en lista (IN)       | `df[df['var'].isin(list)]`              | `df.query(\"var in list\")`                 | `query()` es más conciso y fácil de leer.                                                               |\n",
        "| Comparación numérica        | `df[df['var'] > value]`                 | `df.query(\"var > value\")`                 | Ambos métodos son igual de útiles.                                                                      |\n",
        "| Expresión de texto          | `df[df['var'].str.contains(\"text\")]`    | No soportado                              | `df[df[]]` es obligatorio para expresiones de texto.                                                    |\n",
        "| Variables externas          | `df[df['var'] > threshold]`             | `df.query(\"var > @threshold\")`            | `query()` es más conveniente con el uso de variables externas al permitir `@variable`.             "
      ]
    },
    {
      "cell_type": "code",
      "execution_count": 119,
      "metadata": {},
      "outputs": [
        {
          "data": {
            "text/html": [
              "<div>\n",
              "<style scoped>\n",
              "    .dataframe tbody tr th:only-of-type {\n",
              "        vertical-align: middle;\n",
              "    }\n",
              "\n",
              "    .dataframe tbody tr th {\n",
              "        vertical-align: top;\n",
              "    }\n",
              "\n",
              "    .dataframe thead th {\n",
              "        text-align: right;\n",
              "    }\n",
              "</style>\n",
              "<table border=\"1\" class=\"dataframe\">\n",
              "  <thead>\n",
              "    <tr style=\"text-align: right;\">\n",
              "      <th></th>\n",
              "      <th>totmou</th>\n",
              "      <th>totrev</th>\n",
              "      <th>creditcd</th>\n",
              "      <th>eqpdays</th>\n",
              "    </tr>\n",
              "    <tr>\n",
              "      <th>Customer_ID</th>\n",
              "      <th></th>\n",
              "      <th></th>\n",
              "      <th></th>\n",
              "      <th></th>\n",
              "    </tr>\n",
              "  </thead>\n",
              "  <tbody>\n",
              "    <tr>\n",
              "      <th>1082423</th>\n",
              "      <td>7269.0</td>\n",
              "      <td>906.58</td>\n",
              "      <td>Y</td>\n",
              "      <td>371</td>\n",
              "    </tr>\n",
              "    <tr>\n",
              "      <th>1031705</th>\n",
              "      <td>4152.0</td>\n",
              "      <td>577.39</td>\n",
              "      <td>Y</td>\n",
              "      <td>675</td>\n",
              "    </tr>\n",
              "    <tr>\n",
              "      <th>1089806</th>\n",
              "      <td>1863.0</td>\n",
              "      <td>294.26</td>\n",
              "      <td>Y</td>\n",
              "      <td>218</td>\n",
              "    </tr>\n",
              "    <tr>\n",
              "      <th>1091652</th>\n",
              "      <td>5441.0</td>\n",
              "      <td>578.80</td>\n",
              "      <td>Y</td>\n",
              "      <td>68</td>\n",
              "    </tr>\n",
              "    <tr>\n",
              "      <th>1043846</th>\n",
              "      <td>7294.0</td>\n",
              "      <td>1495.18</td>\n",
              "      <td>Y</td>\n",
              "      <td>460</td>\n",
              "    </tr>\n",
              "    <tr>\n",
              "      <th>...</th>\n",
              "      <td>...</td>\n",
              "      <td>...</td>\n",
              "      <td>...</td>\n",
              "      <td>...</td>\n",
              "    </tr>\n",
              "    <tr>\n",
              "      <th>1027614</th>\n",
              "      <td>2570.0</td>\n",
              "      <td>484.31</td>\n",
              "      <td>Y</td>\n",
              "      <td>611</td>\n",
              "    </tr>\n",
              "    <tr>\n",
              "      <th>1098422</th>\n",
              "      <td>2105.0</td>\n",
              "      <td>583.36</td>\n",
              "      <td>Y</td>\n",
              "      <td>1243</td>\n",
              "    </tr>\n",
              "    <tr>\n",
              "      <th>1096497</th>\n",
              "      <td>3690.0</td>\n",
              "      <td>294.29</td>\n",
              "      <td>Y</td>\n",
              "      <td>212</td>\n",
              "    </tr>\n",
              "    <tr>\n",
              "      <th>1087248</th>\n",
              "      <td>3333.0</td>\n",
              "      <td>233.08</td>\n",
              "      <td>Y</td>\n",
              "      <td>290</td>\n",
              "    </tr>\n",
              "    <tr>\n",
              "      <th>1099003</th>\n",
              "      <td>5025.0</td>\n",
              "      <td>1436.49</td>\n",
              "      <td>Y</td>\n",
              "      <td>1029</td>\n",
              "    </tr>\n",
              "  </tbody>\n",
              "</table>\n",
              "<p>6948 rows × 4 columns</p>\n",
              "</div>"
            ],
            "text/plain": [
              "             totmou   totrev creditcd  eqpdays\n",
              "Customer_ID                                   \n",
              "1082423      7269.0   906.58        Y      371\n",
              "1031705      4152.0   577.39        Y      675\n",
              "1089806      1863.0   294.26        Y      218\n",
              "1091652      5441.0   578.80        Y       68\n",
              "1043846      7294.0  1495.18        Y      460\n",
              "...             ...      ...      ...      ...\n",
              "1027614      2570.0   484.31        Y      611\n",
              "1098422      2105.0   583.36        Y     1243\n",
              "1096497      3690.0   294.29        Y      212\n",
              "1087248      3333.0   233.08        Y      290\n",
              "1099003      5025.0  1436.49        Y     1029\n",
              "\n",
              "[6948 rows x 4 columns]"
            ]
          },
          "execution_count": 119,
          "metadata": {},
          "output_type": "execute_result"
        }
      ],
      "source": [
        "df[df[\"creditcd\"]==\"Y\"]"
      ]
    },
    {
      "cell_type": "code",
      "execution_count": 120,
      "metadata": {},
      "outputs": [
        {
          "data": {
            "text/html": [
              "<div>\n",
              "<style scoped>\n",
              "    .dataframe tbody tr th:only-of-type {\n",
              "        vertical-align: middle;\n",
              "    }\n",
              "\n",
              "    .dataframe tbody tr th {\n",
              "        vertical-align: top;\n",
              "    }\n",
              "\n",
              "    .dataframe thead th {\n",
              "        text-align: right;\n",
              "    }\n",
              "</style>\n",
              "<table border=\"1\" class=\"dataframe\">\n",
              "  <thead>\n",
              "    <tr style=\"text-align: right;\">\n",
              "      <th></th>\n",
              "      <th>totmou</th>\n",
              "      <th>totrev</th>\n",
              "      <th>creditcd</th>\n",
              "      <th>eqpdays</th>\n",
              "    </tr>\n",
              "    <tr>\n",
              "      <th>Customer_ID</th>\n",
              "      <th></th>\n",
              "      <th></th>\n",
              "      <th></th>\n",
              "      <th></th>\n",
              "    </tr>\n",
              "  </thead>\n",
              "  <tbody>\n",
              "    <tr>\n",
              "      <th>1082423</th>\n",
              "      <td>7269.0</td>\n",
              "      <td>906.58</td>\n",
              "      <td>Y</td>\n",
              "      <td>371</td>\n",
              "    </tr>\n",
              "    <tr>\n",
              "      <th>1031705</th>\n",
              "      <td>4152.0</td>\n",
              "      <td>577.39</td>\n",
              "      <td>Y</td>\n",
              "      <td>675</td>\n",
              "    </tr>\n",
              "    <tr>\n",
              "      <th>1089806</th>\n",
              "      <td>1863.0</td>\n",
              "      <td>294.26</td>\n",
              "      <td>Y</td>\n",
              "      <td>218</td>\n",
              "    </tr>\n",
              "    <tr>\n",
              "      <th>1091652</th>\n",
              "      <td>5441.0</td>\n",
              "      <td>578.80</td>\n",
              "      <td>Y</td>\n",
              "      <td>68</td>\n",
              "    </tr>\n",
              "    <tr>\n",
              "      <th>1043846</th>\n",
              "      <td>7294.0</td>\n",
              "      <td>1495.18</td>\n",
              "      <td>Y</td>\n",
              "      <td>460</td>\n",
              "    </tr>\n",
              "    <tr>\n",
              "      <th>...</th>\n",
              "      <td>...</td>\n",
              "      <td>...</td>\n",
              "      <td>...</td>\n",
              "      <td>...</td>\n",
              "    </tr>\n",
              "    <tr>\n",
              "      <th>1027614</th>\n",
              "      <td>2570.0</td>\n",
              "      <td>484.31</td>\n",
              "      <td>Y</td>\n",
              "      <td>611</td>\n",
              "    </tr>\n",
              "    <tr>\n",
              "      <th>1098422</th>\n",
              "      <td>2105.0</td>\n",
              "      <td>583.36</td>\n",
              "      <td>Y</td>\n",
              "      <td>1243</td>\n",
              "    </tr>\n",
              "    <tr>\n",
              "      <th>1096497</th>\n",
              "      <td>3690.0</td>\n",
              "      <td>294.29</td>\n",
              "      <td>Y</td>\n",
              "      <td>212</td>\n",
              "    </tr>\n",
              "    <tr>\n",
              "      <th>1087248</th>\n",
              "      <td>3333.0</td>\n",
              "      <td>233.08</td>\n",
              "      <td>Y</td>\n",
              "      <td>290</td>\n",
              "    </tr>\n",
              "    <tr>\n",
              "      <th>1099003</th>\n",
              "      <td>5025.0</td>\n",
              "      <td>1436.49</td>\n",
              "      <td>Y</td>\n",
              "      <td>1029</td>\n",
              "    </tr>\n",
              "  </tbody>\n",
              "</table>\n",
              "<p>6948 rows × 4 columns</p>\n",
              "</div>"
            ],
            "text/plain": [
              "             totmou   totrev creditcd  eqpdays\n",
              "Customer_ID                                   \n",
              "1082423      7269.0   906.58        Y      371\n",
              "1031705      4152.0   577.39        Y      675\n",
              "1089806      1863.0   294.26        Y      218\n",
              "1091652      5441.0   578.80        Y       68\n",
              "1043846      7294.0  1495.18        Y      460\n",
              "...             ...      ...      ...      ...\n",
              "1027614      2570.0   484.31        Y      611\n",
              "1098422      2105.0   583.36        Y     1243\n",
              "1096497      3690.0   294.29        Y      212\n",
              "1087248      3333.0   233.08        Y      290\n",
              "1099003      5025.0  1436.49        Y     1029\n",
              "\n",
              "[6948 rows x 4 columns]"
            ]
          },
          "execution_count": 120,
          "metadata": {},
          "output_type": "execute_result"
        }
      ],
      "source": [
        "df.query(\"creditcd=='Y'\")"
      ]
    },
    {
      "cell_type": "markdown",
      "metadata": {
        "id": "o5b7eLB20BXA"
      },
      "source": [
        "### Agregar información de múltiples tablas\n",
        "\n",
        "Hemos desarrollado un breve resumen estadístico solamente usando la base `Credito_dias.csv`. Realizaremos la combinación de las 19 áreas que nos reportan en los archivos csv. Una forma de lograr esta tarea de agregación es usar el método pd.concat() de pandas. Una entrada en este método puede ser una lista de DataFrames que quiera concatenar. Usaremos un ciclo  `for` sobre cada uno de los archivos de áreas:"
      ]
    },
    {
      "cell_type": "markdown",
      "metadata": {},
      "source": [
        "recordemos la información que tenemos en Credito_dias.csv :\n",
        "\n",
        "1. totrev: Ingresos del cliente\n",
        "2. totmou: Total de minutos usados por el cliente\n",
        "3. area: Área geográfica\n",
        "4. creditcd: Indicador de tarjeta de crédito\n",
        "5. eqpdays: Número de días (antigüedad) del equipo actual\n",
        "\n",
        "y recordemos la información que tenemos en cada una de las regiones, por ejemplo ATLANTIC_SOUTH_AREA.csv.\n",
        "\n",
        "1. custcare_Mean: Promedio de interacciones o nivel de satisfacción con el servicio al cliente.\n",
        "2. new_cell: Indicador de si el cliente tiene un nuevo número de celular o plan de línea.\n",
        "3. area: Región o zona geográfica del cliente.\n",
        "4. Customer_ID: Identificador único de cada cliente.\n",
        "5. creditcd: Indicador de tarjeta de crédito"
      ]
    },
    {
      "cell_type": "code",
      "execution_count": 34,
      "metadata": {
        "colab": {
          "base_uri": "https://localhost:8080/"
        },
        "id": "rRp5HSod0BXG",
        "outputId": "74a5e88f-9546-4ccf-a768-3fcd512808e0"
      },
      "outputs": [
        {
          "data": {
            "text/plain": [
              "['ATLANTIC_SOUTH_AREA.csv',\n",
              " 'CALIFORNIA_NORTH_AREA.csv',\n",
              " 'CENTRAL-SOUTH_TEXAS_AREA.csv',\n",
              " 'CHICAGO_AREA.csv',\n",
              " 'Credito_dias.csv',\n",
              " 'DALLAS_AREA.csv',\n",
              " 'DC-MARYLAND-VIRGINIA_AREA.csv',\n",
              " 'GREAT_LAKES_AREA.csv',\n",
              " 'HOUSTON_AREA.csv',\n",
              " 'LOS_ANGELES_AREA.csv',\n",
              " 'MIDWEST_AREA.csv',\n",
              " 'NEW_ENGLAND_AREA.csv',\n",
              " 'NEW_YORK_CITY_AREA.csv',\n",
              " 'NORTHWEST-ROCKY_MOUNTAIN_AREA.csv',\n",
              " 'NORTH_FLORIDA_AREA.csv',\n",
              " 'OHIO_AREA.csv',\n",
              " 'PHILADELPHIA_AREA.csv',\n",
              " 'SOUTHWEST_AREA.csv',\n",
              " 'SOUTH_FLORIDA_AREA.csv',\n",
              " 'TENNESSEE_AREA.csv']"
            ]
          },
          "execution_count": 34,
          "metadata": {},
          "output_type": "execute_result"
        }
      ],
      "source": [
        "os.listdir(\"Bases\")"
      ]
    },
    {
      "cell_type": "code",
      "execution_count": 35,
      "metadata": {
        "colab": {
          "base_uri": "https://localhost:8080/"
        },
        "id": "_NboqbFJ6x4z",
        "outputId": "24d8d76a-f55e-4282-8ef7-7f121887f837"
      },
      "outputs": [
        {
          "data": {
            "text/plain": [
              "['ATLANTIC_SOUTH_AREA.csv',\n",
              " 'CALIFORNIA_NORTH_AREA.csv',\n",
              " 'CENTRAL-SOUTH_TEXAS_AREA.csv',\n",
              " 'CHICAGO_AREA.csv',\n",
              " 'Credito_dias.csv',\n",
              " 'DALLAS_AREA.csv',\n",
              " 'DC-MARYLAND-VIRGINIA_AREA.csv',\n",
              " 'GREAT_LAKES_AREA.csv',\n",
              " 'HOUSTON_AREA.csv',\n",
              " 'LOS_ANGELES_AREA.csv',\n",
              " 'MIDWEST_AREA.csv',\n",
              " 'NEW_ENGLAND_AREA.csv',\n",
              " 'NEW_YORK_CITY_AREA.csv',\n",
              " 'NORTHWEST-ROCKY_MOUNTAIN_AREA.csv',\n",
              " 'NORTH_FLORIDA_AREA.csv',\n",
              " 'OHIO_AREA.csv',\n",
              " 'PHILADELPHIA_AREA.csv',\n",
              " 'SOUTHWEST_AREA.csv',\n",
              " 'SOUTH_FLORIDA_AREA.csv',\n",
              " 'TENNESSEE_AREA.csv']"
            ]
          },
          "execution_count": 35,
          "metadata": {},
          "output_type": "execute_result"
        }
      ],
      "source": [
        "listado=os.listdir(\"Bases\")\n",
        "listado"
      ]
    },
    {
      "cell_type": "code",
      "execution_count": 36,
      "metadata": {
        "id": "PMUXu2V_6439"
      },
      "outputs": [],
      "source": [
        "listado.remove('Credito_dias.csv')"
      ]
    },
    {
      "cell_type": "code",
      "execution_count": 37,
      "metadata": {
        "colab": {
          "base_uri": "https://localhost:8080/",
          "height": 1000
        },
        "id": "eiQ_FMco0BXG",
        "outputId": "0c4f99bc-7676-4f93-fec4-72c7149772cd"
      },
      "outputs": [
        {
          "name": "stdout",
          "output_type": "stream",
          "text": [
            "Definición de los símbolos de las acciones\n",
            " --- Inicie el bucle sobre los símbolos --- \n",
            "Procesando el símbolo: ATLANTIC_SOUTH_AREA.csv\n",
            " --- Bucle completo sobre los símbolos --- \n",
            "\n",
            "Agregando los datos\n",
            "(592, 4)\n",
            "Cabeza del DataFrame agr_df: \n",
            "Procesando el símbolo: CALIFORNIA_NORTH_AREA.csv\n",
            " --- Bucle completo sobre los símbolos --- \n",
            "\n",
            "Agregando los datos\n",
            "(1191, 4)\n",
            "Cabeza del DataFrame agr_df: \n",
            "Procesando el símbolo: CENTRAL-SOUTH_TEXAS_AREA.csv\n",
            " --- Bucle completo sobre los símbolos --- \n",
            "\n",
            "Agregando los datos\n",
            "(1600, 4)\n",
            "Cabeza del DataFrame agr_df: \n",
            "Procesando el símbolo: CHICAGO_AREA.csv\n",
            " --- Bucle completo sobre los símbolos --- \n",
            "\n",
            "Agregando los datos\n",
            "(2096, 4)\n",
            "Cabeza del DataFrame agr_df: \n",
            "Procesando el símbolo: DALLAS_AREA.csv\n",
            " --- Bucle completo sobre los símbolos --- \n",
            "\n",
            "Agregando los datos\n",
            "(2614, 4)\n",
            "Cabeza del DataFrame agr_df: \n",
            "Procesando el símbolo: DC-MARYLAND-VIRGINIA_AREA.csv\n",
            " --- Bucle completo sobre los símbolos --- \n",
            "\n",
            "Agregando los datos\n",
            "(3254, 4)\n",
            "Cabeza del DataFrame agr_df: \n",
            "Procesando el símbolo: GREAT_LAKES_AREA.csv\n",
            " --- Bucle completo sobre los símbolos --- \n",
            "\n",
            "Agregando los datos\n",
            "(3742, 4)\n",
            "Cabeza del DataFrame agr_df: \n",
            "Procesando el símbolo: HOUSTON_AREA.csv\n",
            " --- Bucle completo sobre los símbolos --- \n",
            "\n",
            "Agregando los datos\n",
            "(4200, 4)\n",
            "Cabeza del DataFrame agr_df: \n",
            "Procesando el símbolo: LOS_ANGELES_AREA.csv\n",
            " --- Bucle completo sobre los símbolos --- \n",
            "\n",
            "Agregando los datos\n",
            "(4871, 4)\n",
            "Cabeza del DataFrame agr_df: \n",
            "Procesando el símbolo: MIDWEST_AREA.csv\n",
            " --- Bucle completo sobre los símbolos --- \n",
            "\n",
            "Agregando los datos\n",
            "(5556, 4)\n",
            "Cabeza del DataFrame agr_df: \n",
            "Procesando el símbolo: NEW_ENGLAND_AREA.csv\n",
            " --- Bucle completo sobre los símbolos --- \n",
            "\n",
            "Agregando los datos\n",
            "(6081, 4)\n",
            "Cabeza del DataFrame agr_df: \n",
            "Procesando el símbolo: NEW_YORK_CITY_AREA.csv\n",
            " --- Bucle completo sobre los símbolos --- \n",
            "\n",
            "Agregando los datos\n",
            "(7226, 4)\n",
            "Cabeza del DataFrame agr_df: \n",
            "Procesando el símbolo: NORTHWEST-ROCKY_MOUNTAIN_AREA.csv\n",
            " --- Bucle completo sobre los símbolos --- \n",
            "\n",
            "Agregando los datos\n",
            "(7655, 4)\n",
            "Cabeza del DataFrame agr_df: \n",
            "Procesando el símbolo: NORTH_FLORIDA_AREA.csv\n",
            " --- Bucle completo sobre los símbolos --- \n",
            "\n",
            "Agregando los datos\n",
            "(8097, 4)\n",
            "Cabeza del DataFrame agr_df: \n",
            "Procesando el símbolo: OHIO_AREA.csv\n",
            " --- Bucle completo sobre los símbolos --- \n",
            "\n",
            "Agregando los datos\n",
            "(8534, 4)\n",
            "Cabeza del DataFrame agr_df: \n",
            "Procesando el símbolo: PHILADELPHIA_AREA.csv\n",
            " --- Bucle completo sobre los símbolos --- \n",
            "\n",
            "Agregando los datos\n",
            "(8779, 4)\n",
            "Cabeza del DataFrame agr_df: \n",
            "Procesando el símbolo: SOUTHWEST_AREA.csv\n",
            " --- Bucle completo sobre los símbolos --- \n",
            "\n",
            "Agregando los datos\n",
            "(9363, 4)\n",
            "Cabeza del DataFrame agr_df: \n",
            "Procesando el símbolo: SOUTH_FLORIDA_AREA.csv\n",
            " --- Bucle completo sobre los símbolos --- \n",
            "\n",
            "Agregando los datos\n",
            "(9729, 4)\n",
            "Cabeza del DataFrame agr_df: \n",
            "Procesando el símbolo: TENNESSEE_AREA.csv\n",
            " --- Bucle completo sobre los símbolos --- \n",
            "\n",
            "Agregando los datos\n",
            "(9997, 4)\n",
            "Cabeza del DataFrame agr_df: \n"
          ]
        },
        {
          "data": {
            "text/html": [
              "<div>\n",
              "<style scoped>\n",
              "    .dataframe tbody tr th:only-of-type {\n",
              "        vertical-align: middle;\n",
              "    }\n",
              "\n",
              "    .dataframe tbody tr th {\n",
              "        vertical-align: top;\n",
              "    }\n",
              "\n",
              "    .dataframe thead th {\n",
              "        text-align: right;\n",
              "    }\n",
              "</style>\n",
              "<table border=\"1\" class=\"dataframe\">\n",
              "  <thead>\n",
              "    <tr style=\"text-align: right;\">\n",
              "      <th></th>\n",
              "      <th>custcare_Mean</th>\n",
              "      <th>new_cell</th>\n",
              "      <th>area</th>\n",
              "      <th>creditcd</th>\n",
              "    </tr>\n",
              "    <tr>\n",
              "      <th>Customer_ID</th>\n",
              "      <th></th>\n",
              "      <th></th>\n",
              "      <th></th>\n",
              "      <th></th>\n",
              "    </tr>\n",
              "  </thead>\n",
              "  <tbody>\n",
              "    <tr>\n",
              "      <th>1069232</th>\n",
              "      <td>3.666667</td>\n",
              "      <td>U</td>\n",
              "      <td>ATLANTIC_SOUTH_AREA.csv</td>\n",
              "      <td>N</td>\n",
              "    </tr>\n",
              "    <tr>\n",
              "      <th>1043846</th>\n",
              "      <td>0.000000</td>\n",
              "      <td>U</td>\n",
              "      <td>ATLANTIC_SOUTH_AREA.csv</td>\n",
              "      <td>Y</td>\n",
              "    </tr>\n",
              "    <tr>\n",
              "      <th>1008539</th>\n",
              "      <td>0.000000</td>\n",
              "      <td>N</td>\n",
              "      <td>ATLANTIC_SOUTH_AREA.csv</td>\n",
              "      <td>Y</td>\n",
              "    </tr>\n",
              "    <tr>\n",
              "      <th>1068315</th>\n",
              "      <td>0.000000</td>\n",
              "      <td>U</td>\n",
              "      <td>ATLANTIC_SOUTH_AREA.csv</td>\n",
              "      <td>N</td>\n",
              "    </tr>\n",
              "    <tr>\n",
              "      <th>1074220</th>\n",
              "      <td>1.666667</td>\n",
              "      <td>U</td>\n",
              "      <td>ATLANTIC_SOUTH_AREA.csv</td>\n",
              "      <td>N</td>\n",
              "    </tr>\n",
              "  </tbody>\n",
              "</table>\n",
              "</div>"
            ],
            "text/plain": [
              "             custcare_Mean new_cell                     area creditcd\n",
              "Customer_ID                                                          \n",
              "1069232           3.666667        U  ATLANTIC_SOUTH_AREA.csv        N\n",
              "1043846           0.000000        U  ATLANTIC_SOUTH_AREA.csv        Y\n",
              "1008539           0.000000        N  ATLANTIC_SOUTH_AREA.csv        Y\n",
              "1068315           0.000000        U  ATLANTIC_SOUTH_AREA.csv        N\n",
              "1074220           1.666667        U  ATLANTIC_SOUTH_AREA.csv        N"
            ]
          },
          "execution_count": 37,
          "metadata": {},
          "output_type": "execute_result"
        }
      ],
      "source": [
        "print(\"Definición de los símbolos de las acciones\")\n",
        "areas = listado\n",
        "lista_de_df = []\n",
        "# Bucle sobre los símbolos\n",
        "print(\" --- Inicie el bucle sobre los símbolos --- \")\n",
        "for i in areas:\n",
        "    print(\"Procesando el símbolo: \" + i)\n",
        "    temp_df = pd.read_csv(\"Bases/\" + i,index_col=\"Customer_ID\")\n",
        "    temp_df[\"area\"] = i\n",
        "    lista_de_df.append(temp_df)\n",
        "    # Usando un salto de línea al final de esta cadena de caracteres por estética\n",
        "    print(\" --- Bucle completo sobre los símbolos --- \\n\")\n",
        "    # Combinando en un solo DataFrame usando el concat\n",
        "    print(\"Agregando los datos\")\n",
        "    agr_df = pd.concat(lista_de_df, axis=0)\n",
        "    print(agr_df.shape)\n",
        "    print(\"Cabeza del DataFrame agr_df: \")\n",
        "agr_df.head()"
      ]
    },
    {
      "cell_type": "code",
      "execution_count": 38,
      "metadata": {
        "colab": {
          "base_uri": "https://localhost:8080/",
          "height": 238
        },
        "id": "cyOJZZrg0BXG",
        "outputId": "c00acc53-4a7e-46af-f6cf-b016d228e3a3"
      },
      "outputs": [
        {
          "data": {
            "text/html": [
              "<div>\n",
              "<style scoped>\n",
              "    .dataframe tbody tr th:only-of-type {\n",
              "        vertical-align: middle;\n",
              "    }\n",
              "\n",
              "    .dataframe tbody tr th {\n",
              "        vertical-align: top;\n",
              "    }\n",
              "\n",
              "    .dataframe thead th {\n",
              "        text-align: right;\n",
              "    }\n",
              "</style>\n",
              "<table border=\"1\" class=\"dataframe\">\n",
              "  <thead>\n",
              "    <tr style=\"text-align: right;\">\n",
              "      <th></th>\n",
              "      <th>custcare_Mean</th>\n",
              "      <th>new_cell</th>\n",
              "      <th>area</th>\n",
              "      <th>creditcd</th>\n",
              "    </tr>\n",
              "    <tr>\n",
              "      <th>Customer_ID</th>\n",
              "      <th></th>\n",
              "      <th></th>\n",
              "      <th></th>\n",
              "      <th></th>\n",
              "    </tr>\n",
              "  </thead>\n",
              "  <tbody>\n",
              "    <tr>\n",
              "      <th>1000014</th>\n",
              "      <td>0.000000</td>\n",
              "      <td>Y</td>\n",
              "      <td>CENTRAL-SOUTH_TEXAS_AREA.csv</td>\n",
              "      <td>N</td>\n",
              "    </tr>\n",
              "    <tr>\n",
              "      <th>1000016</th>\n",
              "      <td>1.000000</td>\n",
              "      <td>N</td>\n",
              "      <td>DALLAS_AREA.csv</td>\n",
              "      <td>Y</td>\n",
              "    </tr>\n",
              "    <tr>\n",
              "      <th>1000021</th>\n",
              "      <td>0.333333</td>\n",
              "      <td>U</td>\n",
              "      <td>TENNESSEE_AREA.csv</td>\n",
              "      <td>Y</td>\n",
              "    </tr>\n",
              "    <tr>\n",
              "      <th>1000023</th>\n",
              "      <td>0.000000</td>\n",
              "      <td>N</td>\n",
              "      <td>NORTHWEST-ROCKY_MOUNTAIN_AREA.csv</td>\n",
              "      <td>N</td>\n",
              "    </tr>\n",
              "    <tr>\n",
              "      <th>1000029</th>\n",
              "      <td>0.000000</td>\n",
              "      <td>N</td>\n",
              "      <td>NEW_ENGLAND_AREA.csv</td>\n",
              "      <td>Y</td>\n",
              "    </tr>\n",
              "  </tbody>\n",
              "</table>\n",
              "</div>"
            ],
            "text/plain": [
              "             custcare_Mean new_cell                               area  \\\n",
              "Customer_ID                                                              \n",
              "1000014           0.000000        Y       CENTRAL-SOUTH_TEXAS_AREA.csv   \n",
              "1000016           1.000000        N                    DALLAS_AREA.csv   \n",
              "1000021           0.333333        U                 TENNESSEE_AREA.csv   \n",
              "1000023           0.000000        N  NORTHWEST-ROCKY_MOUNTAIN_AREA.csv   \n",
              "1000029           0.000000        N               NEW_ENGLAND_AREA.csv   \n",
              "\n",
              "            creditcd  \n",
              "Customer_ID           \n",
              "1000014            N  \n",
              "1000016            Y  \n",
              "1000021            Y  \n",
              "1000023            N  \n",
              "1000029            Y  "
            ]
          },
          "execution_count": 38,
          "metadata": {},
          "output_type": "execute_result"
        }
      ],
      "source": [
        "agr_df.sort_index(axis=0,inplace=True)\n",
        "agr_df.head()"
      ]
    },
    {
      "cell_type": "code",
      "execution_count": 39,
      "metadata": {
        "colab": {
          "base_uri": "https://localhost:8080/",
          "height": 455
        },
        "id": "GuZBlV7nH4dB",
        "outputId": "b6e88e51-1024-4303-a979-ab286509e737"
      },
      "outputs": [
        {
          "data": {
            "text/html": [
              "<div>\n",
              "<style scoped>\n",
              "    .dataframe tbody tr th:only-of-type {\n",
              "        vertical-align: middle;\n",
              "    }\n",
              "\n",
              "    .dataframe tbody tr th {\n",
              "        vertical-align: top;\n",
              "    }\n",
              "\n",
              "    .dataframe thead th {\n",
              "        text-align: right;\n",
              "    }\n",
              "</style>\n",
              "<table border=\"1\" class=\"dataframe\">\n",
              "  <thead>\n",
              "    <tr style=\"text-align: right;\">\n",
              "      <th></th>\n",
              "      <th>totmou</th>\n",
              "      <th>totrev</th>\n",
              "      <th>creditcd</th>\n",
              "      <th>eqpdays</th>\n",
              "    </tr>\n",
              "    <tr>\n",
              "      <th>Customer_ID</th>\n",
              "      <th></th>\n",
              "      <th></th>\n",
              "      <th></th>\n",
              "      <th></th>\n",
              "    </tr>\n",
              "  </thead>\n",
              "  <tbody>\n",
              "    <tr>\n",
              "      <th>1082423</th>\n",
              "      <td>7269.0</td>\n",
              "      <td>906.58</td>\n",
              "      <td>Y</td>\n",
              "      <td>371</td>\n",
              "    </tr>\n",
              "    <tr>\n",
              "      <th>1069232</th>\n",
              "      <td>13552.0</td>\n",
              "      <td>1172.25</td>\n",
              "      <td>N</td>\n",
              "      <td>83</td>\n",
              "    </tr>\n",
              "    <tr>\n",
              "      <th>1031705</th>\n",
              "      <td>4152.0</td>\n",
              "      <td>577.39</td>\n",
              "      <td>Y</td>\n",
              "      <td>675</td>\n",
              "    </tr>\n",
              "    <tr>\n",
              "      <th>1089806</th>\n",
              "      <td>1863.0</td>\n",
              "      <td>294.26</td>\n",
              "      <td>Y</td>\n",
              "      <td>218</td>\n",
              "    </tr>\n",
              "    <tr>\n",
              "      <th>1076695</th>\n",
              "      <td>4155.0</td>\n",
              "      <td>433.16</td>\n",
              "      <td>N</td>\n",
              "      <td>222</td>\n",
              "    </tr>\n",
              "    <tr>\n",
              "      <th>...</th>\n",
              "      <td>...</td>\n",
              "      <td>...</td>\n",
              "      <td>...</td>\n",
              "      <td>...</td>\n",
              "    </tr>\n",
              "    <tr>\n",
              "      <th>1027614</th>\n",
              "      <td>2570.0</td>\n",
              "      <td>484.31</td>\n",
              "      <td>Y</td>\n",
              "      <td>611</td>\n",
              "    </tr>\n",
              "    <tr>\n",
              "      <th>1098422</th>\n",
              "      <td>2105.0</td>\n",
              "      <td>583.36</td>\n",
              "      <td>Y</td>\n",
              "      <td>1243</td>\n",
              "    </tr>\n",
              "    <tr>\n",
              "      <th>1096497</th>\n",
              "      <td>3690.0</td>\n",
              "      <td>294.29</td>\n",
              "      <td>Y</td>\n",
              "      <td>212</td>\n",
              "    </tr>\n",
              "    <tr>\n",
              "      <th>1087248</th>\n",
              "      <td>3333.0</td>\n",
              "      <td>233.08</td>\n",
              "      <td>Y</td>\n",
              "      <td>290</td>\n",
              "    </tr>\n",
              "    <tr>\n",
              "      <th>1099003</th>\n",
              "      <td>5025.0</td>\n",
              "      <td>1436.49</td>\n",
              "      <td>Y</td>\n",
              "      <td>1029</td>\n",
              "    </tr>\n",
              "  </tbody>\n",
              "</table>\n",
              "<p>10000 rows × 4 columns</p>\n",
              "</div>"
            ],
            "text/plain": [
              "              totmou   totrev creditcd  eqpdays\n",
              "Customer_ID                                    \n",
              "1082423       7269.0   906.58        Y      371\n",
              "1069232      13552.0  1172.25        N       83\n",
              "1031705       4152.0   577.39        Y      675\n",
              "1089806       1863.0   294.26        Y      218\n",
              "1076695       4155.0   433.16        N      222\n",
              "...              ...      ...      ...      ...\n",
              "1027614       2570.0   484.31        Y      611\n",
              "1098422       2105.0   583.36        Y     1243\n",
              "1096497       3690.0   294.29        Y      212\n",
              "1087248       3333.0   233.08        Y      290\n",
              "1099003       5025.0  1436.49        Y     1029\n",
              "\n",
              "[10000 rows x 4 columns]"
            ]
          },
          "execution_count": 39,
          "metadata": {},
          "output_type": "execute_result"
        }
      ],
      "source": [
        "df"
      ]
    },
    {
      "cell_type": "code",
      "execution_count": 40,
      "metadata": {
        "colab": {
          "base_uri": "https://localhost:8080/",
          "height": 455
        },
        "id": "IBz4RWxS5pmu",
        "outputId": "dfb70cf3-dfaa-4872-e68d-532a2c5c661a"
      },
      "outputs": [
        {
          "data": {
            "text/html": [
              "<div>\n",
              "<style scoped>\n",
              "    .dataframe tbody tr th:only-of-type {\n",
              "        vertical-align: middle;\n",
              "    }\n",
              "\n",
              "    .dataframe tbody tr th {\n",
              "        vertical-align: top;\n",
              "    }\n",
              "\n",
              "    .dataframe thead th {\n",
              "        text-align: right;\n",
              "    }\n",
              "</style>\n",
              "<table border=\"1\" class=\"dataframe\">\n",
              "  <thead>\n",
              "    <tr style=\"text-align: right;\">\n",
              "      <th></th>\n",
              "      <th>custcare_Mean</th>\n",
              "      <th>new_cell</th>\n",
              "      <th>area</th>\n",
              "      <th>creditcd</th>\n",
              "    </tr>\n",
              "    <tr>\n",
              "      <th>Customer_ID</th>\n",
              "      <th></th>\n",
              "      <th></th>\n",
              "      <th></th>\n",
              "      <th></th>\n",
              "    </tr>\n",
              "  </thead>\n",
              "  <tbody>\n",
              "    <tr>\n",
              "      <th>1000014</th>\n",
              "      <td>0.000000</td>\n",
              "      <td>Y</td>\n",
              "      <td>CENTRAL-SOUTH_TEXAS_AREA.csv</td>\n",
              "      <td>N</td>\n",
              "    </tr>\n",
              "    <tr>\n",
              "      <th>1000016</th>\n",
              "      <td>1.000000</td>\n",
              "      <td>N</td>\n",
              "      <td>DALLAS_AREA.csv</td>\n",
              "      <td>Y</td>\n",
              "    </tr>\n",
              "    <tr>\n",
              "      <th>1000021</th>\n",
              "      <td>0.333333</td>\n",
              "      <td>U</td>\n",
              "      <td>TENNESSEE_AREA.csv</td>\n",
              "      <td>Y</td>\n",
              "    </tr>\n",
              "    <tr>\n",
              "      <th>1000023</th>\n",
              "      <td>0.000000</td>\n",
              "      <td>N</td>\n",
              "      <td>NORTHWEST-ROCKY_MOUNTAIN_AREA.csv</td>\n",
              "      <td>N</td>\n",
              "    </tr>\n",
              "    <tr>\n",
              "      <th>1000029</th>\n",
              "      <td>0.000000</td>\n",
              "      <td>N</td>\n",
              "      <td>NEW_ENGLAND_AREA.csv</td>\n",
              "      <td>Y</td>\n",
              "    </tr>\n",
              "    <tr>\n",
              "      <th>...</th>\n",
              "      <td>...</td>\n",
              "      <td>...</td>\n",
              "      <td>...</td>\n",
              "      <td>...</td>\n",
              "    </tr>\n",
              "    <tr>\n",
              "      <th>1099907</th>\n",
              "      <td>17.333333</td>\n",
              "      <td>U</td>\n",
              "      <td>LOS_ANGELES_AREA.csv</td>\n",
              "      <td>Y</td>\n",
              "    </tr>\n",
              "    <tr>\n",
              "      <th>1099932</th>\n",
              "      <td>0.000000</td>\n",
              "      <td>U</td>\n",
              "      <td>LOS_ANGELES_AREA.csv</td>\n",
              "      <td>Y</td>\n",
              "    </tr>\n",
              "    <tr>\n",
              "      <th>1099963</th>\n",
              "      <td>0.000000</td>\n",
              "      <td>U</td>\n",
              "      <td>SOUTHWEST_AREA.csv</td>\n",
              "      <td>Y</td>\n",
              "    </tr>\n",
              "    <tr>\n",
              "      <th>1099981</th>\n",
              "      <td>0.333333</td>\n",
              "      <td>U</td>\n",
              "      <td>SOUTHWEST_AREA.csv</td>\n",
              "      <td>NaN</td>\n",
              "    </tr>\n",
              "    <tr>\n",
              "      <th>1099992</th>\n",
              "      <td>0.000000</td>\n",
              "      <td>Y</td>\n",
              "      <td>LOS_ANGELES_AREA.csv</td>\n",
              "      <td>Y</td>\n",
              "    </tr>\n",
              "  </tbody>\n",
              "</table>\n",
              "<p>9997 rows × 4 columns</p>\n",
              "</div>"
            ],
            "text/plain": [
              "             custcare_Mean new_cell                               area  \\\n",
              "Customer_ID                                                              \n",
              "1000014           0.000000        Y       CENTRAL-SOUTH_TEXAS_AREA.csv   \n",
              "1000016           1.000000        N                    DALLAS_AREA.csv   \n",
              "1000021           0.333333        U                 TENNESSEE_AREA.csv   \n",
              "1000023           0.000000        N  NORTHWEST-ROCKY_MOUNTAIN_AREA.csv   \n",
              "1000029           0.000000        N               NEW_ENGLAND_AREA.csv   \n",
              "...                    ...      ...                                ...   \n",
              "1099907          17.333333        U               LOS_ANGELES_AREA.csv   \n",
              "1099932           0.000000        U               LOS_ANGELES_AREA.csv   \n",
              "1099963           0.000000        U                 SOUTHWEST_AREA.csv   \n",
              "1099981           0.333333        U                 SOUTHWEST_AREA.csv   \n",
              "1099992           0.000000        Y               LOS_ANGELES_AREA.csv   \n",
              "\n",
              "            creditcd  \n",
              "Customer_ID           \n",
              "1000014            N  \n",
              "1000016            Y  \n",
              "1000021            Y  \n",
              "1000023            N  \n",
              "1000029            Y  \n",
              "...              ...  \n",
              "1099907            Y  \n",
              "1099932            Y  \n",
              "1099963            Y  \n",
              "1099981          NaN  \n",
              "1099992            Y  \n",
              "\n",
              "[9997 rows x 4 columns]"
            ]
          },
          "execution_count": 40,
          "metadata": {},
          "output_type": "execute_result"
        }
      ],
      "source": [
        "agr_df"
      ]
    },
    {
      "cell_type": "markdown",
      "metadata": {
        "id": "IqyfLbCw0BXH"
      },
      "source": [
        "La ejecución nos da como resultado una base de datos de 9997 registros correspondiente a la concatenación de todas las áreas. Se debe notar que nuestro conjunto de datos también es indexado por la columna `Customer_ID` y que la dimensión de los registros de está nueva base es menor a la de  `Creditos_dias.csv`."
      ]
    },
    {
      "cell_type": "markdown",
      "metadata": {
        "id": "tsAcYZmw0BXH"
      },
      "source": [
        " ## Cruce de información\n",
        "\n",
        "El cruce de información es una operación esencial en el análisis de los datos. Usualmente, la posibilidad de realizar el cruce de dos o más fuentes de información es el primer paso para responder preguntas complejas acerca de los datos. Existen muchas formas de cruzar o combinar tablas de datos. El cruce de estos datos siempre tiene un propósito. Por tanto, se debe realizar un análisis de lo que se requiere antes de iniciar. Para esto, lo primero es conocer bien las fuentes de información que se van a relacionar.\n",
        "\n",
        "### Uniones (Joins)\n",
        "Usando la librería pandas se pueden realizar 4 tipos de uniones para cruzar información entre dos fuentes de datos, ver Figura abajo.\n",
        "* INNER JOIN: este tipo de cruce incluye solo los resgistros que coincieden en las dos tablas\n",
        "* LEFT JOIN:  en este tipo de cruce se incluyen todos los registros de la primera tabla aunque no aparezcan coincidencias en la segunda. Cuando no hay coincidencias en la segunda tabla los campos correspondientes a esta aparecerán como nulos.\n",
        "* RIGHT JOIN: en este tipo de cruce se incluyen todos los registros de la segunda tabla aunque no aparezcan coincidencias en la primera. Cuando no hay coincidencias en la primer tabla los campos correspondientes a esta aparecerán como nulos.\n",
        "* OUTER JOIN O FULL JOIN: combina todos los registros de ambas tablas aunque no existan coincidencias en la otra tabla.\n",
        "\n",
        "![Los tipos de uniones que se pueden ejecutar en pandas](https://letsdobigdata.files.wordpress.com/2016/03/joins.png)\n",
        "\n",
        "La combinación a usar depende del análisis que se requiera con los datos. Lo más común es realizar un cruce de tipo Inner Join, debido a que muestra los registros cuando aparecen relacionados en ambas tablas. Sin embargo, en\n",
        "ocasiones se quiere saber que pasa con todos los registros de la primera tabla aunque no se tengan coincidencias. Alternativamente, quizá, lo menos usual es hacer combinaciones de tipo RIGHT o OUTER. Generalmente, estas son usadas cuando se quiere saber por qué no se tienen coincidencias, o cuáles registros no cumplen con la relación especificada.\n",
        "\n",
        "Ya que desconocemos cuales son los registros perdidos en los 2 dataframes que hemos construido y es necesario para continuar nuestro preprocesamiento el unir la información."
      ]
    },
    {
      "cell_type": "code",
      "execution_count": 41,
      "metadata": {
        "colab": {
          "base_uri": "https://localhost:8080/"
        },
        "id": "W6tnLElopepJ",
        "outputId": "0bc36b7c-1b4b-4f0b-cec8-64461b343bcb"
      },
      "outputs": [
        {
          "data": {
            "text/plain": [
              "(10000, 4)"
            ]
          },
          "execution_count": 41,
          "metadata": {},
          "output_type": "execute_result"
        }
      ],
      "source": [
        "df.shape"
      ]
    },
    {
      "cell_type": "code",
      "execution_count": 42,
      "metadata": {
        "colab": {
          "base_uri": "https://localhost:8080/",
          "height": 455
        },
        "id": "W-f0BHQOpi7R",
        "outputId": "45f8a2db-993a-475f-8126-fb3955e8f4eb"
      },
      "outputs": [
        {
          "data": {
            "text/html": [
              "<div>\n",
              "<style scoped>\n",
              "    .dataframe tbody tr th:only-of-type {\n",
              "        vertical-align: middle;\n",
              "    }\n",
              "\n",
              "    .dataframe tbody tr th {\n",
              "        vertical-align: top;\n",
              "    }\n",
              "\n",
              "    .dataframe thead th {\n",
              "        text-align: right;\n",
              "    }\n",
              "</style>\n",
              "<table border=\"1\" class=\"dataframe\">\n",
              "  <thead>\n",
              "    <tr style=\"text-align: right;\">\n",
              "      <th></th>\n",
              "      <th>custcare_Mean</th>\n",
              "      <th>new_cell</th>\n",
              "      <th>area</th>\n",
              "      <th>creditcd</th>\n",
              "    </tr>\n",
              "    <tr>\n",
              "      <th>Customer_ID</th>\n",
              "      <th></th>\n",
              "      <th></th>\n",
              "      <th></th>\n",
              "      <th></th>\n",
              "    </tr>\n",
              "  </thead>\n",
              "  <tbody>\n",
              "    <tr>\n",
              "      <th>1000014</th>\n",
              "      <td>0.000000</td>\n",
              "      <td>Y</td>\n",
              "      <td>CENTRAL-SOUTH_TEXAS_AREA.csv</td>\n",
              "      <td>N</td>\n",
              "    </tr>\n",
              "    <tr>\n",
              "      <th>1000016</th>\n",
              "      <td>1.000000</td>\n",
              "      <td>N</td>\n",
              "      <td>DALLAS_AREA.csv</td>\n",
              "      <td>Y</td>\n",
              "    </tr>\n",
              "    <tr>\n",
              "      <th>1000021</th>\n",
              "      <td>0.333333</td>\n",
              "      <td>U</td>\n",
              "      <td>TENNESSEE_AREA.csv</td>\n",
              "      <td>Y</td>\n",
              "    </tr>\n",
              "    <tr>\n",
              "      <th>1000023</th>\n",
              "      <td>0.000000</td>\n",
              "      <td>N</td>\n",
              "      <td>NORTHWEST-ROCKY_MOUNTAIN_AREA.csv</td>\n",
              "      <td>N</td>\n",
              "    </tr>\n",
              "    <tr>\n",
              "      <th>1000029</th>\n",
              "      <td>0.000000</td>\n",
              "      <td>N</td>\n",
              "      <td>NEW_ENGLAND_AREA.csv</td>\n",
              "      <td>Y</td>\n",
              "    </tr>\n",
              "    <tr>\n",
              "      <th>...</th>\n",
              "      <td>...</td>\n",
              "      <td>...</td>\n",
              "      <td>...</td>\n",
              "      <td>...</td>\n",
              "    </tr>\n",
              "    <tr>\n",
              "      <th>1099907</th>\n",
              "      <td>17.333333</td>\n",
              "      <td>U</td>\n",
              "      <td>LOS_ANGELES_AREA.csv</td>\n",
              "      <td>Y</td>\n",
              "    </tr>\n",
              "    <tr>\n",
              "      <th>1099932</th>\n",
              "      <td>0.000000</td>\n",
              "      <td>U</td>\n",
              "      <td>LOS_ANGELES_AREA.csv</td>\n",
              "      <td>Y</td>\n",
              "    </tr>\n",
              "    <tr>\n",
              "      <th>1099963</th>\n",
              "      <td>0.000000</td>\n",
              "      <td>U</td>\n",
              "      <td>SOUTHWEST_AREA.csv</td>\n",
              "      <td>Y</td>\n",
              "    </tr>\n",
              "    <tr>\n",
              "      <th>1099981</th>\n",
              "      <td>0.333333</td>\n",
              "      <td>U</td>\n",
              "      <td>SOUTHWEST_AREA.csv</td>\n",
              "      <td>NaN</td>\n",
              "    </tr>\n",
              "    <tr>\n",
              "      <th>1099992</th>\n",
              "      <td>0.000000</td>\n",
              "      <td>Y</td>\n",
              "      <td>LOS_ANGELES_AREA.csv</td>\n",
              "      <td>Y</td>\n",
              "    </tr>\n",
              "  </tbody>\n",
              "</table>\n",
              "<p>9997 rows × 4 columns</p>\n",
              "</div>"
            ],
            "text/plain": [
              "             custcare_Mean new_cell                               area  \\\n",
              "Customer_ID                                                              \n",
              "1000014           0.000000        Y       CENTRAL-SOUTH_TEXAS_AREA.csv   \n",
              "1000016           1.000000        N                    DALLAS_AREA.csv   \n",
              "1000021           0.333333        U                 TENNESSEE_AREA.csv   \n",
              "1000023           0.000000        N  NORTHWEST-ROCKY_MOUNTAIN_AREA.csv   \n",
              "1000029           0.000000        N               NEW_ENGLAND_AREA.csv   \n",
              "...                    ...      ...                                ...   \n",
              "1099907          17.333333        U               LOS_ANGELES_AREA.csv   \n",
              "1099932           0.000000        U               LOS_ANGELES_AREA.csv   \n",
              "1099963           0.000000        U                 SOUTHWEST_AREA.csv   \n",
              "1099981           0.333333        U                 SOUTHWEST_AREA.csv   \n",
              "1099992           0.000000        Y               LOS_ANGELES_AREA.csv   \n",
              "\n",
              "            creditcd  \n",
              "Customer_ID           \n",
              "1000014            N  \n",
              "1000016            Y  \n",
              "1000021            Y  \n",
              "1000023            N  \n",
              "1000029            Y  \n",
              "...              ...  \n",
              "1099907            Y  \n",
              "1099932            Y  \n",
              "1099963            Y  \n",
              "1099981          NaN  \n",
              "1099992            Y  \n",
              "\n",
              "[9997 rows x 4 columns]"
            ]
          },
          "execution_count": 42,
          "metadata": {},
          "output_type": "execute_result"
        }
      ],
      "source": [
        "agr_df"
      ]
    },
    {
      "cell_type": "code",
      "execution_count": 43,
      "metadata": {
        "colab": {
          "base_uri": "https://localhost:8080/",
          "height": 455
        },
        "id": "yyp6eH1B0BXH",
        "outputId": "243ed273-96b0-4d00-e9e5-e6db1bbcc496",
        "scrolled": true
      },
      "outputs": [
        {
          "data": {
            "text/html": [
              "<div>\n",
              "<style scoped>\n",
              "    .dataframe tbody tr th:only-of-type {\n",
              "        vertical-align: middle;\n",
              "    }\n",
              "\n",
              "    .dataframe tbody tr th {\n",
              "        vertical-align: top;\n",
              "    }\n",
              "\n",
              "    .dataframe thead th {\n",
              "        text-align: right;\n",
              "    }\n",
              "</style>\n",
              "<table border=\"1\" class=\"dataframe\">\n",
              "  <thead>\n",
              "    <tr style=\"text-align: right;\">\n",
              "      <th></th>\n",
              "      <th>totmou</th>\n",
              "      <th>totrev</th>\n",
              "      <th>creditcd_x</th>\n",
              "      <th>eqpdays</th>\n",
              "      <th>custcare_Mean</th>\n",
              "      <th>new_cell</th>\n",
              "      <th>area</th>\n",
              "      <th>creditcd_y</th>\n",
              "    </tr>\n",
              "    <tr>\n",
              "      <th>Customer_ID</th>\n",
              "      <th></th>\n",
              "      <th></th>\n",
              "      <th></th>\n",
              "      <th></th>\n",
              "      <th></th>\n",
              "      <th></th>\n",
              "      <th></th>\n",
              "      <th></th>\n",
              "    </tr>\n",
              "  </thead>\n",
              "  <tbody>\n",
              "    <tr>\n",
              "      <th>1082423</th>\n",
              "      <td>7269.0</td>\n",
              "      <td>906.58</td>\n",
              "      <td>Y</td>\n",
              "      <td>371</td>\n",
              "      <td>14.333333</td>\n",
              "      <td>U</td>\n",
              "      <td>NEW_ENGLAND_AREA.csv</td>\n",
              "      <td>Y</td>\n",
              "    </tr>\n",
              "    <tr>\n",
              "      <th>1069232</th>\n",
              "      <td>13552.0</td>\n",
              "      <td>1172.25</td>\n",
              "      <td>N</td>\n",
              "      <td>83</td>\n",
              "      <td>3.666667</td>\n",
              "      <td>U</td>\n",
              "      <td>ATLANTIC_SOUTH_AREA.csv</td>\n",
              "      <td>N</td>\n",
              "    </tr>\n",
              "    <tr>\n",
              "      <th>1031705</th>\n",
              "      <td>4152.0</td>\n",
              "      <td>577.39</td>\n",
              "      <td>Y</td>\n",
              "      <td>675</td>\n",
              "      <td>3.000000</td>\n",
              "      <td>U</td>\n",
              "      <td>NEW_YORK_CITY_AREA.csv</td>\n",
              "      <td>Y</td>\n",
              "    </tr>\n",
              "    <tr>\n",
              "      <th>1089806</th>\n",
              "      <td>1863.0</td>\n",
              "      <td>294.26</td>\n",
              "      <td>Y</td>\n",
              "      <td>218</td>\n",
              "      <td>11.000000</td>\n",
              "      <td>U</td>\n",
              "      <td>CHICAGO_AREA.csv</td>\n",
              "      <td>Y</td>\n",
              "    </tr>\n",
              "    <tr>\n",
              "      <th>1076695</th>\n",
              "      <td>4155.0</td>\n",
              "      <td>433.16</td>\n",
              "      <td>N</td>\n",
              "      <td>222</td>\n",
              "      <td>0.000000</td>\n",
              "      <td>U</td>\n",
              "      <td>NORTH_FLORIDA_AREA.csv</td>\n",
              "      <td>N</td>\n",
              "    </tr>\n",
              "    <tr>\n",
              "      <th>...</th>\n",
              "      <td>...</td>\n",
              "      <td>...</td>\n",
              "      <td>...</td>\n",
              "      <td>...</td>\n",
              "      <td>...</td>\n",
              "      <td>...</td>\n",
              "      <td>...</td>\n",
              "      <td>...</td>\n",
              "    </tr>\n",
              "    <tr>\n",
              "      <th>1027614</th>\n",
              "      <td>2570.0</td>\n",
              "      <td>484.31</td>\n",
              "      <td>Y</td>\n",
              "      <td>611</td>\n",
              "      <td>0.666667</td>\n",
              "      <td>U</td>\n",
              "      <td>CHICAGO_AREA.csv</td>\n",
              "      <td>Y</td>\n",
              "    </tr>\n",
              "    <tr>\n",
              "      <th>1098422</th>\n",
              "      <td>2105.0</td>\n",
              "      <td>583.36</td>\n",
              "      <td>Y</td>\n",
              "      <td>1243</td>\n",
              "      <td>0.000000</td>\n",
              "      <td>U</td>\n",
              "      <td>SOUTHWEST_AREA.csv</td>\n",
              "      <td>Y</td>\n",
              "    </tr>\n",
              "    <tr>\n",
              "      <th>1096497</th>\n",
              "      <td>3690.0</td>\n",
              "      <td>294.29</td>\n",
              "      <td>Y</td>\n",
              "      <td>212</td>\n",
              "      <td>0.666667</td>\n",
              "      <td>Y</td>\n",
              "      <td>NEW_ENGLAND_AREA.csv</td>\n",
              "      <td>Y</td>\n",
              "    </tr>\n",
              "    <tr>\n",
              "      <th>1087248</th>\n",
              "      <td>3333.0</td>\n",
              "      <td>233.08</td>\n",
              "      <td>Y</td>\n",
              "      <td>290</td>\n",
              "      <td>0.000000</td>\n",
              "      <td>U</td>\n",
              "      <td>CALIFORNIA_NORTH_AREA.csv</td>\n",
              "      <td>Y</td>\n",
              "    </tr>\n",
              "    <tr>\n",
              "      <th>1099003</th>\n",
              "      <td>5025.0</td>\n",
              "      <td>1436.49</td>\n",
              "      <td>Y</td>\n",
              "      <td>1029</td>\n",
              "      <td>0.333333</td>\n",
              "      <td>U</td>\n",
              "      <td>LOS_ANGELES_AREA.csv</td>\n",
              "      <td>Y</td>\n",
              "    </tr>\n",
              "  </tbody>\n",
              "</table>\n",
              "<p>9997 rows × 8 columns</p>\n",
              "</div>"
            ],
            "text/plain": [
              "              totmou   totrev creditcd_x  eqpdays  custcare_Mean new_cell  \\\n",
              "Customer_ID                                                                 \n",
              "1082423       7269.0   906.58          Y      371      14.333333        U   \n",
              "1069232      13552.0  1172.25          N       83       3.666667        U   \n",
              "1031705       4152.0   577.39          Y      675       3.000000        U   \n",
              "1089806       1863.0   294.26          Y      218      11.000000        U   \n",
              "1076695       4155.0   433.16          N      222       0.000000        U   \n",
              "...              ...      ...        ...      ...            ...      ...   \n",
              "1027614       2570.0   484.31          Y      611       0.666667        U   \n",
              "1098422       2105.0   583.36          Y     1243       0.000000        U   \n",
              "1096497       3690.0   294.29          Y      212       0.666667        Y   \n",
              "1087248       3333.0   233.08          Y      290       0.000000        U   \n",
              "1099003       5025.0  1436.49          Y     1029       0.333333        U   \n",
              "\n",
              "                                  area creditcd_y  \n",
              "Customer_ID                                        \n",
              "1082423           NEW_ENGLAND_AREA.csv          Y  \n",
              "1069232        ATLANTIC_SOUTH_AREA.csv          N  \n",
              "1031705         NEW_YORK_CITY_AREA.csv          Y  \n",
              "1089806               CHICAGO_AREA.csv          Y  \n",
              "1076695         NORTH_FLORIDA_AREA.csv          N  \n",
              "...                                ...        ...  \n",
              "1027614               CHICAGO_AREA.csv          Y  \n",
              "1098422             SOUTHWEST_AREA.csv          Y  \n",
              "1096497           NEW_ENGLAND_AREA.csv          Y  \n",
              "1087248      CALIFORNIA_NORTH_AREA.csv          Y  \n",
              "1099003           LOS_ANGELES_AREA.csv          Y  \n",
              "\n",
              "[9997 rows x 8 columns]"
            ]
          },
          "execution_count": 43,
          "metadata": {},
          "output_type": "execute_result"
        }
      ],
      "source": [
        "df3=df.merge(agr_df,left_index=True,right_index=True,how=\"inner\")\n",
        "df3"
      ]
    },
    {
      "cell_type": "markdown",
      "metadata": {
        "id": "4YcPtqWv0BXI"
      },
      "source": [
        "### Ejercicio 2  \n",
        "¿Cuáles son los 3 registros que no se incluyen en df3 ?\n"
      ]
    },
    {
      "cell_type": "code",
      "execution_count": 44,
      "metadata": {
        "colab": {
          "base_uri": "https://localhost:8080/",
          "height": 175
        },
        "id": "oNoGhOVD0BXI",
        "outputId": "e8dabcc1-bb4b-4230-ed21-c1bc83179623"
      },
      "outputs": [
        {
          "data": {
            "text/html": [
              "<div>\n",
              "<style scoped>\n",
              "    .dataframe tbody tr th:only-of-type {\n",
              "        vertical-align: middle;\n",
              "    }\n",
              "\n",
              "    .dataframe tbody tr th {\n",
              "        vertical-align: top;\n",
              "    }\n",
              "\n",
              "    .dataframe thead th {\n",
              "        text-align: right;\n",
              "    }\n",
              "</style>\n",
              "<table border=\"1\" class=\"dataframe\">\n",
              "  <thead>\n",
              "    <tr style=\"text-align: right;\">\n",
              "      <th></th>\n",
              "      <th>totmou</th>\n",
              "      <th>totrev</th>\n",
              "      <th>creditcd</th>\n",
              "      <th>eqpdays</th>\n",
              "    </tr>\n",
              "    <tr>\n",
              "      <th>Customer_ID</th>\n",
              "      <th></th>\n",
              "      <th></th>\n",
              "      <th></th>\n",
              "      <th></th>\n",
              "    </tr>\n",
              "  </thead>\n",
              "  <tbody>\n",
              "    <tr>\n",
              "      <th>1050270</th>\n",
              "      <td>1409.0</td>\n",
              "      <td>407.02</td>\n",
              "      <td>Y</td>\n",
              "      <td>102</td>\n",
              "    </tr>\n",
              "    <tr>\n",
              "      <th>1020629</th>\n",
              "      <td>15284.0</td>\n",
              "      <td>2370.62</td>\n",
              "      <td>N</td>\n",
              "      <td>445</td>\n",
              "    </tr>\n",
              "    <tr>\n",
              "      <th>1020451</th>\n",
              "      <td>3604.0</td>\n",
              "      <td>662.42</td>\n",
              "      <td>Y</td>\n",
              "      <td>675</td>\n",
              "    </tr>\n",
              "  </tbody>\n",
              "</table>\n",
              "</div>"
            ],
            "text/plain": [
              "              totmou   totrev creditcd  eqpdays\n",
              "Customer_ID                                    \n",
              "1050270       1409.0   407.02        Y      102\n",
              "1020629      15284.0  2370.62        N      445\n",
              "1020451       3604.0   662.42        Y      675"
            ]
          },
          "execution_count": 44,
          "metadata": {},
          "output_type": "execute_result"
        }
      ],
      "source": [
        "sin_registros=(df.index.isin(df3.index))\n",
        "df.iloc[~sin_registros,]"
      ]
    },
    {
      "cell_type": "code",
      "execution_count": 45,
      "metadata": {
        "colab": {
          "base_uri": "https://localhost:8080/",
          "height": 81
        },
        "id": "zEZMqY5aq9lR",
        "outputId": "134e2578-1f2e-45e2-f75f-90a1e5245554"
      },
      "outputs": [
        {
          "data": {
            "text/html": [
              "<div>\n",
              "<style scoped>\n",
              "    .dataframe tbody tr th:only-of-type {\n",
              "        vertical-align: middle;\n",
              "    }\n",
              "\n",
              "    .dataframe tbody tr th {\n",
              "        vertical-align: top;\n",
              "    }\n",
              "\n",
              "    .dataframe thead th {\n",
              "        text-align: right;\n",
              "    }\n",
              "</style>\n",
              "<table border=\"1\" class=\"dataframe\">\n",
              "  <thead>\n",
              "    <tr style=\"text-align: right;\">\n",
              "      <th></th>\n",
              "      <th>custcare_Mean</th>\n",
              "      <th>new_cell</th>\n",
              "      <th>area</th>\n",
              "      <th>creditcd</th>\n",
              "    </tr>\n",
              "    <tr>\n",
              "      <th>Customer_ID</th>\n",
              "      <th></th>\n",
              "      <th></th>\n",
              "      <th></th>\n",
              "      <th></th>\n",
              "    </tr>\n",
              "  </thead>\n",
              "  <tbody>\n",
              "  </tbody>\n",
              "</table>\n",
              "</div>"
            ],
            "text/plain": [
              "Empty DataFrame\n",
              "Columns: [custcare_Mean, new_cell, area, creditcd]\n",
              "Index: []"
            ]
          },
          "execution_count": 45,
          "metadata": {},
          "output_type": "execute_result"
        }
      ],
      "source": [
        "agr_df[agr_df.index==1050270]"
      ]
    },
    {
      "cell_type": "markdown",
      "metadata": {
        "id": "jfdxqtZ80BXI"
      },
      "source": [
        "Si deseamos realizar una filtración sobre algún valor relevante por ejemplo el área podremos revertir el proceso usando el operador `==`  que retorna `True` en el caso que dos objetos tengan el mismo valor"
      ]
    },
    {
      "cell_type": "code",
      "execution_count": 46,
      "metadata": {
        "colab": {
          "base_uri": "https://localhost:8080/",
          "height": 238
        },
        "id": "e-2WkvRq0BXI",
        "outputId": "9759e035-971e-48e7-9a9b-5a564cfaa6ee"
      },
      "outputs": [
        {
          "data": {
            "text/html": [
              "<div>\n",
              "<style scoped>\n",
              "    .dataframe tbody tr th:only-of-type {\n",
              "        vertical-align: middle;\n",
              "    }\n",
              "\n",
              "    .dataframe tbody tr th {\n",
              "        vertical-align: top;\n",
              "    }\n",
              "\n",
              "    .dataframe thead th {\n",
              "        text-align: right;\n",
              "    }\n",
              "</style>\n",
              "<table border=\"1\" class=\"dataframe\">\n",
              "  <thead>\n",
              "    <tr style=\"text-align: right;\">\n",
              "      <th></th>\n",
              "      <th>totmou</th>\n",
              "      <th>totrev</th>\n",
              "      <th>creditcd_x</th>\n",
              "      <th>eqpdays</th>\n",
              "      <th>custcare_Mean</th>\n",
              "      <th>new_cell</th>\n",
              "      <th>area</th>\n",
              "      <th>creditcd_y</th>\n",
              "    </tr>\n",
              "    <tr>\n",
              "      <th>Customer_ID</th>\n",
              "      <th></th>\n",
              "      <th></th>\n",
              "      <th></th>\n",
              "      <th></th>\n",
              "      <th></th>\n",
              "      <th></th>\n",
              "      <th></th>\n",
              "      <th></th>\n",
              "    </tr>\n",
              "  </thead>\n",
              "  <tbody>\n",
              "    <tr>\n",
              "      <th>1082423</th>\n",
              "      <td>7269.0</td>\n",
              "      <td>906.58</td>\n",
              "      <td>Y</td>\n",
              "      <td>371</td>\n",
              "      <td>14.333333</td>\n",
              "      <td>U</td>\n",
              "      <td>NEW_ENGLAND_AREA.csv</td>\n",
              "      <td>Y</td>\n",
              "    </tr>\n",
              "    <tr>\n",
              "      <th>1076771</th>\n",
              "      <td>288.0</td>\n",
              "      <td>374.98</td>\n",
              "      <td>Y</td>\n",
              "      <td>284</td>\n",
              "      <td>0.000000</td>\n",
              "      <td>U</td>\n",
              "      <td>NEW_ENGLAND_AREA.csv</td>\n",
              "      <td>Y</td>\n",
              "    </tr>\n",
              "    <tr>\n",
              "      <th>1083737</th>\n",
              "      <td>1928.0</td>\n",
              "      <td>396.78</td>\n",
              "      <td>Y</td>\n",
              "      <td>261</td>\n",
              "      <td>0.000000</td>\n",
              "      <td>U</td>\n",
              "      <td>NEW_ENGLAND_AREA.csv</td>\n",
              "      <td>Y</td>\n",
              "    </tr>\n",
              "    <tr>\n",
              "      <th>1078557</th>\n",
              "      <td>2781.0</td>\n",
              "      <td>590.26</td>\n",
              "      <td>Y</td>\n",
              "      <td>276</td>\n",
              "      <td>0.000000</td>\n",
              "      <td>N</td>\n",
              "      <td>NEW_ENGLAND_AREA.csv</td>\n",
              "      <td>Y</td>\n",
              "    </tr>\n",
              "    <tr>\n",
              "      <th>1018015</th>\n",
              "      <td>24069.0</td>\n",
              "      <td>2129.74</td>\n",
              "      <td>Y</td>\n",
              "      <td>199</td>\n",
              "      <td>2.000000</td>\n",
              "      <td>N</td>\n",
              "      <td>NEW_ENGLAND_AREA.csv</td>\n",
              "      <td>Y</td>\n",
              "    </tr>\n",
              "  </tbody>\n",
              "</table>\n",
              "</div>"
            ],
            "text/plain": [
              "              totmou   totrev creditcd_x  eqpdays  custcare_Mean new_cell  \\\n",
              "Customer_ID                                                                 \n",
              "1082423       7269.0   906.58          Y      371      14.333333        U   \n",
              "1076771        288.0   374.98          Y      284       0.000000        U   \n",
              "1083737       1928.0   396.78          Y      261       0.000000        U   \n",
              "1078557       2781.0   590.26          Y      276       0.000000        N   \n",
              "1018015      24069.0  2129.74          Y      199       2.000000        N   \n",
              "\n",
              "                             area creditcd_y  \n",
              "Customer_ID                                   \n",
              "1082423      NEW_ENGLAND_AREA.csv          Y  \n",
              "1076771      NEW_ENGLAND_AREA.csv          Y  \n",
              "1083737      NEW_ENGLAND_AREA.csv          Y  \n",
              "1078557      NEW_ENGLAND_AREA.csv          Y  \n",
              "1018015      NEW_ENGLAND_AREA.csv          Y  "
            ]
          },
          "execution_count": 46,
          "metadata": {},
          "output_type": "execute_result"
        }
      ],
      "source": [
        "new_ingland=df3[df3[\"area\"]==\"NEW_ENGLAND_AREA.csv\"]\n",
        "new_ingland.head()"
      ]
    },
    {
      "cell_type": "markdown",
      "metadata": {
        "id": "FwOYgIeg0BXJ"
      },
      "source": [
        "El comando   `df3[\"area\"]==\"NEW ENGLAND AREA\"`"
      ]
    },
    {
      "cell_type": "code",
      "execution_count": 47,
      "metadata": {
        "colab": {
          "base_uri": "https://localhost:8080/",
          "height": 490
        },
        "id": "R8EgkHMh0BXJ",
        "outputId": "e17258bc-c01d-4dd5-865f-0db2d3cb6dae"
      },
      "outputs": [
        {
          "data": {
            "text/plain": [
              "Customer_ID\n",
              "1082423     True\n",
              "1069232    False\n",
              "1031705    False\n",
              "1089806    False\n",
              "1076695    False\n",
              "           ...  \n",
              "1027614    False\n",
              "1098422    False\n",
              "1096497     True\n",
              "1087248    False\n",
              "1099003    False\n",
              "Name: area, Length: 9997, dtype: bool"
            ]
          },
          "execution_count": 47,
          "metadata": {},
          "output_type": "execute_result"
        }
      ],
      "source": [
        "df3[\"area\"]==\"NEW_ENGLAND_AREA.csv\""
      ]
    },
    {
      "cell_type": "markdown",
      "metadata": {
        "id": "Q-qRAUEV0BXJ"
      },
      "source": [
        "devuelve una serie boleana  con el mismo número de filas de la base`df3`, donde cada valor es `True` o `False` dependiendo si el valor de `area` de un registro  toma el valor de \"NEW ENGLAND AREA\""
      ]
    },
    {
      "cell_type": "markdown",
      "metadata": {
        "id": "wlGORucdNP1b"
      },
      "source": [
        "## ¿Cuántos registros de df3 pertenecen a  CALIFORNIA_NORTH_AREA.csv?"
      ]
    },
    {
      "cell_type": "code",
      "execution_count": 48,
      "metadata": {
        "colab": {
          "base_uri": "https://localhost:8080/"
        },
        "id": "UpnEgrtMOM18",
        "outputId": "ff87efc5-2ad9-4be0-b943-32a7258d34ca"
      },
      "outputs": [
        {
          "data": {
            "text/plain": [
              "(599, 8)"
            ]
          },
          "execution_count": 48,
          "metadata": {},
          "output_type": "execute_result"
        }
      ],
      "source": [
        "california_north=df3[df3[\"area\"]==\"CALIFORNIA_NORTH_AREA.csv\"]\n",
        "california_north.shape"
      ]
    },
    {
      "cell_type": "markdown",
      "metadata": {
        "id": "aZ0sZNzY0BXJ"
      },
      "source": [
        "### Agrupación por área geográfica\n",
        "\n",
        "En el Analisis de la información se suelen usar funciones de resumen, las cuales plantean el agrupamiento de ciertas características por categorías. Para más información consultar [gropby().](https://pandas.pydata.org/pandas-docs/stable/reference/api/pandas.DataFrame.groupby.html).\n",
        "\n",
        "Para nuestro desarrollo es de interés el revisar si el comportamiento de las variables se mantiene en cada una de las áreas geográficas.\n"
      ]
    },
    {
      "cell_type": "code",
      "execution_count": 49,
      "metadata": {
        "colab": {
          "base_uri": "https://localhost:8080/"
        },
        "id": "dIKKlqgx0BXK",
        "outputId": "4b2a0611-27f5-499c-a5d7-e5c0593066ca"
      },
      "outputs": [
        {
          "data": {
            "text/plain": [
              "<pandas.core.groupby.generic.DataFrameGroupBy object at 0x00000180515876D0>"
            ]
          },
          "execution_count": 49,
          "metadata": {},
          "output_type": "execute_result"
        }
      ],
      "source": [
        "df3.groupby(\"area\")"
      ]
    },
    {
      "cell_type": "code",
      "execution_count": 50,
      "metadata": {
        "colab": {
          "base_uri": "https://localhost:8080/",
          "height": 711
        },
        "id": "0zCydd9wr41m",
        "outputId": "64656786-545a-4416-8e69-56e91458e066"
      },
      "outputs": [
        {
          "data": {
            "text/plain": [
              "area\n",
              "PHILADELPHIA_AREA.csv                 46274.00000\n",
              "NEW_ENGLAND_AREA.csv                  46545.00000\n",
              "DC-MARYLAND-VIRGINIA_AREA.csv         49966.00000\n",
              "GREAT_LAKES_AREA.csv                  52344.00000\n",
              "NORTH_FLORIDA_AREA.csv                54678.00000\n",
              "OHIO_AREA.csv                         60980.00000\n",
              "CHICAGO_AREA.csv                      61794.20667\n",
              "SOUTH_FLORIDA_AREA.csv                74665.08667\n",
              "NEW_YORK_CITY_AREA.csv                75453.00000\n",
              "HOUSTON_AREA.csv                      78879.00000\n",
              "TENNESSEE_AREA.csv                    79406.01667\n",
              "LOS_ANGELES_AREA.csv                  85035.00000\n",
              "ATLANTIC_SOUTH_AREA.csv               88932.16667\n",
              "CENTRAL-SOUTH_TEXAS_AREA.csv          91200.08667\n",
              "CALIFORNIA_NORTH_AREA.csv             93462.41000\n",
              "NORTHWEST-ROCKY_MOUNTAIN_AREA.csv    112342.68330\n",
              "SOUTHWEST_AREA.csv                   112961.11670\n",
              "MIDWEST_AREA.csv                     136445.00000\n",
              "DALLAS_AREA.csv                      163264.17670\n",
              "Name: totmou, dtype: float64"
            ]
          },
          "execution_count": 50,
          "metadata": {},
          "output_type": "execute_result"
        }
      ],
      "source": [
        "df3.groupby('area')['totmou'].max().sort_values(ascending=True)"
      ]
    },
    {
      "cell_type": "markdown",
      "metadata": {
        "id": "OhANI4D00BXK"
      },
      "source": [
        "Aquí, el objeto DataFrameGroupBy  contiene un objeto DataFrame para cada grupo (en este caso, un objeto DataFrame para cada símbolo). Específicamente, cada elemento del objeto es una tupla que contiene el identificador de grupo (en este caso el símbolo), y las filas correspondientes del DataFrame que tienen ese símbolo).\n",
        "\n",
        "La librería `pandas`  permite iterar sobre el objeto groupby() para ver lo que hay dentro:"
      ]
    },
    {
      "cell_type": "code",
      "execution_count": 51,
      "metadata": {
        "colab": {
          "base_uri": "https://localhost:8080/"
        },
        "id": "g3a62BVe0BXK",
        "outputId": "a12818ee-ec8e-458d-c897-ba73cbe4551a"
      },
      "outputs": [
        {
          "name": "stdout",
          "output_type": "stream",
          "text": [
            "<class 'tuple'>\n",
            "ATLANTIC_SOUTH_AREA.csv\n",
            "              totmou   totrev creditcd_x  eqpdays  custcare_Mean new_cell  \\\n",
            "Customer_ID                                                                 \n",
            "1069232      13552.0  1172.25          N       83       3.666667        U   \n",
            "1043846       7294.0  1495.18          Y      460       0.000000        U   \n",
            "1008539       4078.0  1257.05          Y     1019       0.000000        N   \n",
            "1068315       5124.0   652.27          N      377       0.000000        U   \n",
            "1074220       6648.0   590.21          N      295       1.666667        U   \n",
            "\n",
            "                                area creditcd_y  \n",
            "Customer_ID                                      \n",
            "1069232      ATLANTIC_SOUTH_AREA.csv          N  \n",
            "1043846      ATLANTIC_SOUTH_AREA.csv          Y  \n",
            "1008539      ATLANTIC_SOUTH_AREA.csv          Y  \n",
            "1068315      ATLANTIC_SOUTH_AREA.csv          N  \n",
            "1074220      ATLANTIC_SOUTH_AREA.csv          N  \n",
            "<class 'tuple'>\n",
            "CALIFORNIA_NORTH_AREA.csv\n",
            "              totmou   totrev creditcd_x  eqpdays  custcare_Mean new_cell  \\\n",
            "Customer_ID                                                                 \n",
            "1064411       6282.0   729.54          Y      357      15.666667        U   \n",
            "1029380       1834.0   610.87          Y      575       0.000000        U   \n",
            "1056368      10517.0  1108.00          N      307       0.666667        Y   \n",
            "1046285      18750.0  1485.02          Y      534       2.000000        Y   \n",
            "1010813      19030.0  2275.21          N      198       1.333333        U   \n",
            "\n",
            "                                  area creditcd_y  \n",
            "Customer_ID                                        \n",
            "1064411      CALIFORNIA_NORTH_AREA.csv          Y  \n",
            "1029380      CALIFORNIA_NORTH_AREA.csv          Y  \n",
            "1056368      CALIFORNIA_NORTH_AREA.csv          N  \n",
            "1046285      CALIFORNIA_NORTH_AREA.csv          Y  \n",
            "1010813      CALIFORNIA_NORTH_AREA.csv          N  \n",
            "<class 'tuple'>\n",
            "CENTRAL-SOUTH_TEXAS_AREA.csv\n",
            "             totmou   totrev creditcd_x  eqpdays  custcare_Mean new_cell  \\\n",
            "Customer_ID                                                                \n",
            "1016302      6721.0   926.03          Y      893      13.666667        N   \n",
            "1002366      2892.0  1102.53          Y      219       1.000000        U   \n",
            "1062599      3187.0   590.87          Y       16       0.000000        N   \n",
            "1059746      1312.0   488.51          Y      491       0.000000        U   \n",
            "1016781      1928.0  1051.33          Y      779       0.000000        N   \n",
            "\n",
            "                                     area creditcd_y  \n",
            "Customer_ID                                           \n",
            "1016302      CENTRAL-SOUTH_TEXAS_AREA.csv          Y  \n",
            "1002366      CENTRAL-SOUTH_TEXAS_AREA.csv          Y  \n",
            "1062599      CENTRAL-SOUTH_TEXAS_AREA.csv          Y  \n",
            "1059746      CENTRAL-SOUTH_TEXAS_AREA.csv          Y  \n",
            "1016781      CENTRAL-SOUTH_TEXAS_AREA.csv          Y  \n",
            "<class 'tuple'>\n",
            "CHICAGO_AREA.csv\n",
            "             totmou   totrev creditcd_x  eqpdays  custcare_Mean new_cell  \\\n",
            "Customer_ID                                                                \n",
            "1089806      1863.0   294.26          Y      218      11.000000        U   \n",
            "1088967      4395.0   668.23          N      333       0.666667        U   \n",
            "1085074      1636.0   543.83          Y      363       0.000000        U   \n",
            "1053959      5871.0   468.14          Y      254       6.666667        Y   \n",
            "1046932      9213.0  1141.79          N      420       1.000000        U   \n",
            "\n",
            "                         area creditcd_y  \n",
            "Customer_ID                               \n",
            "1089806      CHICAGO_AREA.csv          Y  \n",
            "1088967      CHICAGO_AREA.csv          N  \n",
            "1085074      CHICAGO_AREA.csv          Y  \n",
            "1053959      CHICAGO_AREA.csv          Y  \n",
            "1046932      CHICAGO_AREA.csv          N  \n",
            "<class 'tuple'>\n",
            "DALLAS_AREA.csv\n",
            "              totmou   totrev creditcd_x  eqpdays  custcare_Mean new_cell  \\\n",
            "Customer_ID                                                                 \n",
            "1008208      36302.0  5020.37          Y      257            2.0        N   \n",
            "1013047       4957.0   826.92          Y      790            0.0        U   \n",
            "1089778       1320.0   445.91          Y      325            0.0        U   \n",
            "1007540       3841.0   998.41          Y      931            0.0        Y   \n",
            "1023169       3204.0  1181.96          Y      807            0.0        N   \n",
            "\n",
            "                        area creditcd_y  \n",
            "Customer_ID                              \n",
            "1008208      DALLAS_AREA.csv          Y  \n",
            "1013047      DALLAS_AREA.csv          Y  \n",
            "1089778      DALLAS_AREA.csv          Y  \n",
            "1007540      DALLAS_AREA.csv          Y  \n",
            "1023169      DALLAS_AREA.csv          Y  \n",
            "<class 'tuple'>\n",
            "DC-MARYLAND-VIRGINIA_AREA.csv\n",
            "              totmou   totrev creditcd_x  eqpdays  custcare_Mean new_cell  \\\n",
            "Customer_ID                                                                 \n",
            "1045239      11544.0  1012.64          Y      498       0.000000        U   \n",
            "1016607        284.0   825.15          Y        4       0.000000        Y   \n",
            "1015068       5960.0  1902.45          Y      809       0.000000        N   \n",
            "1076198       4787.0  1173.96          Y      333       2.333333        U   \n",
            "1028649       7533.0  1250.63          Y      641       0.000000        U   \n",
            "\n",
            "                                      area creditcd_y  \n",
            "Customer_ID                                            \n",
            "1045239      DC-MARYLAND-VIRGINIA_AREA.csv          Y  \n",
            "1016607      DC-MARYLAND-VIRGINIA_AREA.csv          Y  \n",
            "1015068      DC-MARYLAND-VIRGINIA_AREA.csv          Y  \n",
            "1076198      DC-MARYLAND-VIRGINIA_AREA.csv          Y  \n",
            "1028649      DC-MARYLAND-VIRGINIA_AREA.csv          Y  \n",
            "<class 'tuple'>\n",
            "GREAT_LAKES_AREA.csv\n",
            "              totmou   totrev creditcd_x  eqpdays  custcare_Mean new_cell  \\\n",
            "Customer_ID                                                                 \n",
            "1046584       3751.0  1199.89          Y      592       0.000000        U   \n",
            "1023685      12620.0  1959.49          Y      509       0.000000        U   \n",
            "1035097       1502.0   690.12          Y      603       0.000000        U   \n",
            "1011051       5886.0   558.61          Y      151       1.666667        Y   \n",
            "1011205      32828.0  2712.13          N      184       7.000000        N   \n",
            "\n",
            "                             area creditcd_y  \n",
            "Customer_ID                                   \n",
            "1046584      GREAT_LAKES_AREA.csv          Y  \n",
            "1023685      GREAT_LAKES_AREA.csv          Y  \n",
            "1035097      GREAT_LAKES_AREA.csv          Y  \n",
            "1011051      GREAT_LAKES_AREA.csv          Y  \n",
            "1011205      GREAT_LAKES_AREA.csv          N  \n",
            "<class 'tuple'>\n",
            "HOUSTON_AREA.csv\n",
            "               totmou   totrev creditcd_x  eqpdays  custcare_Mean new_cell  \\\n",
            "Customer_ID                                                                  \n",
            "1088984      10194.00  1089.04          N      209       6.333333        U   \n",
            "1013751       6346.00  1453.43          Y      460       0.000000        U   \n",
            "1001867      21518.05  2769.67          Y      657      11.333333        Y   \n",
            "1007086       2097.00  1421.31          Y      569       0.000000        N   \n",
            "1049782      26249.00  2254.27          N      144       0.000000        N   \n",
            "\n",
            "                         area creditcd_y  \n",
            "Customer_ID                               \n",
            "1088984      HOUSTON_AREA.csv          N  \n",
            "1013751      HOUSTON_AREA.csv          Y  \n",
            "1001867      HOUSTON_AREA.csv          Y  \n",
            "1007086      HOUSTON_AREA.csv          Y  \n",
            "1049782      HOUSTON_AREA.csv          N  \n",
            "<class 'tuple'>\n",
            "LOS_ANGELES_AREA.csv\n",
            "              totmou   totrev creditcd_x  eqpdays  custcare_Mean new_cell  \\\n",
            "Customer_ID                                                                 \n",
            "1020126       4411.0  1252.91          Y      741       0.000000        Y   \n",
            "1040941       9195.0   959.63          N      486       1.000000        Y   \n",
            "1015658      59449.0  3531.09          Y      380       0.000000        U   \n",
            "1088347       4060.0   503.72          Y      340      14.333333        U   \n",
            "1019146       2038.0  1000.84          N      796       0.000000        U   \n",
            "\n",
            "                             area creditcd_y  \n",
            "Customer_ID                                   \n",
            "1020126      LOS_ANGELES_AREA.csv          Y  \n",
            "1040941      LOS_ANGELES_AREA.csv          N  \n",
            "1015658      LOS_ANGELES_AREA.csv          Y  \n",
            "1088347      LOS_ANGELES_AREA.csv          Y  \n",
            "1019146      LOS_ANGELES_AREA.csv          N  \n",
            "<class 'tuple'>\n",
            "MIDWEST_AREA.csv\n",
            "              totmou   totrev creditcd_x  eqpdays  custcare_Mean new_cell  \\\n",
            "Customer_ID                                                                 \n",
            "1056697       4874.0   246.77          Y      507       0.000000        U   \n",
            "1072218       5684.0   857.65          Y      244       4.000000        U   \n",
            "1005704      21991.0  2809.08          Y      241       0.000000        Y   \n",
            "1040496       2230.0   588.61          N      543       0.000000        U   \n",
            "1050396       8190.0  1190.50          N      235       1.666667        N   \n",
            "\n",
            "                         area creditcd_y  \n",
            "Customer_ID                               \n",
            "1056697      MIDWEST_AREA.csv          Y  \n",
            "1072218      MIDWEST_AREA.csv        NaN  \n",
            "1005704      MIDWEST_AREA.csv          Y  \n",
            "1040496      MIDWEST_AREA.csv          N  \n",
            "1050396      MIDWEST_AREA.csv          N  \n",
            "<class 'tuple'>\n",
            "NEW_ENGLAND_AREA.csv\n",
            "              totmou   totrev creditcd_x  eqpdays  custcare_Mean new_cell  \\\n",
            "Customer_ID                                                                 \n",
            "1082423       7269.0   906.58          Y      371      14.333333        U   \n",
            "1076771        288.0   374.98          Y      284       0.000000        U   \n",
            "1083737       1928.0   396.78          Y      261       0.000000        U   \n",
            "1078557       2781.0   590.26          Y      276       0.000000        N   \n",
            "1018015      24069.0  2129.74          Y      199       2.000000        N   \n",
            "\n",
            "                             area creditcd_y  \n",
            "Customer_ID                                   \n",
            "1082423      NEW_ENGLAND_AREA.csv          Y  \n",
            "1076771      NEW_ENGLAND_AREA.csv          Y  \n",
            "1083737      NEW_ENGLAND_AREA.csv          Y  \n",
            "1078557      NEW_ENGLAND_AREA.csv          Y  \n",
            "1018015      NEW_ENGLAND_AREA.csv          Y  \n",
            "<class 'tuple'>\n",
            "NEW_YORK_CITY_AREA.csv\n",
            "             totmou  totrev creditcd_x  eqpdays  custcare_Mean new_cell  \\\n",
            "Customer_ID                                                               \n",
            "1031705      4152.0  577.39          Y      675       3.000000        U   \n",
            "1091652      5441.0  578.80          Y       68       7.000000        U   \n",
            "1013855      1330.0  898.34          Y      877       0.333333        Y   \n",
            "1055064      2066.0  499.82          N      168      11.666667        Y   \n",
            "1062755      1438.0  445.47          Y      304       0.000000        U   \n",
            "\n",
            "                               area creditcd_y  \n",
            "Customer_ID                                     \n",
            "1031705      NEW_YORK_CITY_AREA.csv          Y  \n",
            "1091652      NEW_YORK_CITY_AREA.csv          Y  \n",
            "1013855      NEW_YORK_CITY_AREA.csv          Y  \n",
            "1055064      NEW_YORK_CITY_AREA.csv          N  \n",
            "1062755      NEW_YORK_CITY_AREA.csv          Y  \n",
            "<class 'tuple'>\n",
            "NORTHWEST-ROCKY_MOUNTAIN_AREA.csv\n",
            "             totmou   totrev creditcd_x  eqpdays  custcare_Mean new_cell  \\\n",
            "Customer_ID                                                                \n",
            "1057800      2030.0  1026.31          Y      439       0.000000        Y   \n",
            "1021478      3706.0   734.30          Y      255       0.000000        U   \n",
            "1091059      9703.0   952.30          N      135       0.000000        U   \n",
            "1091061      1989.0   388.85          N      206       0.000000        U   \n",
            "1068378      3981.0   643.93          Y      331       0.666667        U   \n",
            "\n",
            "                                          area creditcd_y  \n",
            "Customer_ID                                                \n",
            "1057800      NORTHWEST-ROCKY_MOUNTAIN_AREA.csv          Y  \n",
            "1021478      NORTHWEST-ROCKY_MOUNTAIN_AREA.csv          Y  \n",
            "1091059      NORTHWEST-ROCKY_MOUNTAIN_AREA.csv          N  \n",
            "1091061      NORTHWEST-ROCKY_MOUNTAIN_AREA.csv          N  \n",
            "1068378      NORTHWEST-ROCKY_MOUNTAIN_AREA.csv          Y  \n",
            "<class 'tuple'>\n",
            "NORTH_FLORIDA_AREA.csv\n",
            "             totmou   totrev creditcd_x  eqpdays  custcare_Mean new_cell  \\\n",
            "Customer_ID                                                                \n",
            "1076695      4155.0   433.16          N      222       0.000000        U   \n",
            "1045505      5699.0  1052.28          Y      109       0.000000        U   \n",
            "1019639      2863.0   809.41          Y      618       1.333333        U   \n",
            "1011394      2242.0  1494.23          Y      940       0.000000        N   \n",
            "1063735      1973.0   543.95          N      406       0.000000        U   \n",
            "\n",
            "                               area creditcd_y  \n",
            "Customer_ID                                     \n",
            "1076695      NORTH_FLORIDA_AREA.csv          N  \n",
            "1045505      NORTH_FLORIDA_AREA.csv          Y  \n",
            "1019639      NORTH_FLORIDA_AREA.csv          Y  \n",
            "1011394      NORTH_FLORIDA_AREA.csv          Y  \n",
            "1063735      NORTH_FLORIDA_AREA.csv          N  \n",
            "<class 'tuple'>\n",
            "OHIO_AREA.csv\n",
            "             totmou   totrev creditcd_x  eqpdays  custcare_Mean new_cell  \\\n",
            "Customer_ID                                                                \n",
            "1011089      4120.0  1186.64          Y      902       0.000000        N   \n",
            "1056196      1737.0   522.76          Y      403       0.333333        U   \n",
            "1071184      3456.0   514.72          Y       18       0.000000        U   \n",
            "1090228      1566.0   492.35          Y      321       0.000000        U   \n",
            "1004669      4707.0  1692.76          Y      345       0.000000        N   \n",
            "\n",
            "                      area creditcd_y  \n",
            "Customer_ID                            \n",
            "1011089      OHIO_AREA.csv          Y  \n",
            "1056196      OHIO_AREA.csv          Y  \n",
            "1071184      OHIO_AREA.csv          Y  \n",
            "1090228      OHIO_AREA.csv          Y  \n",
            "1004669      OHIO_AREA.csv          Y  \n",
            "<class 'tuple'>\n",
            "PHILADELPHIA_AREA.csv\n",
            "              totmou   totrev creditcd_x  eqpdays  custcare_Mean new_cell  \\\n",
            "Customer_ID                                                                 \n",
            "1032592       2842.0   606.76          Y      564       0.000000        U   \n",
            "1024580      36563.0  2053.30          Y       81       2.333333        Y   \n",
            "1044265        331.0   217.04          N      507       0.000000        U   \n",
            "1075560       9608.0   876.60          N        8      16.000000        U   \n",
            "1026798       5738.0  1094.67          Y      573       4.333333        N   \n",
            "\n",
            "                              area creditcd_y  \n",
            "Customer_ID                                    \n",
            "1032592      PHILADELPHIA_AREA.csv          Y  \n",
            "1024580      PHILADELPHIA_AREA.csv          Y  \n",
            "1044265      PHILADELPHIA_AREA.csv          N  \n",
            "1075560      PHILADELPHIA_AREA.csv          N  \n",
            "1026798      PHILADELPHIA_AREA.csv          Y  \n",
            "<class 'tuple'>\n",
            "SOUTHWEST_AREA.csv\n",
            "              totmou   totrev creditcd_x  eqpdays  custcare_Mean new_cell  \\\n",
            "Customer_ID                                                                 \n",
            "1097730        810.0   240.94          N      131       0.000000        U   \n",
            "1044329      12625.0   992.67          Y      552       0.333333        U   \n",
            "1029191       9223.0  1452.24          N      745       0.000000        N   \n",
            "1068005      11271.0   671.80          N      440       0.000000        Y   \n",
            "1091273       3385.0   428.99          N      311       0.666667        U   \n",
            "\n",
            "                           area creditcd_y  \n",
            "Customer_ID                                 \n",
            "1097730      SOUTHWEST_AREA.csv          N  \n",
            "1044329      SOUTHWEST_AREA.csv          Y  \n",
            "1029191      SOUTHWEST_AREA.csv          N  \n",
            "1068005      SOUTHWEST_AREA.csv          N  \n",
            "1091273      SOUTHWEST_AREA.csv          N  \n",
            "<class 'tuple'>\n",
            "SOUTH_FLORIDA_AREA.csv\n",
            "              totmou   totrev creditcd_x  eqpdays  custcare_Mean new_cell  \\\n",
            "Customer_ID                                                                 \n",
            "1070208       3275.0   324.41          Y      318       0.000000        U   \n",
            "1051859       9579.0  1261.47          Y      194       1.000000        U   \n",
            "1035282      14566.0  1579.38          N       84       2.333333        N   \n",
            "1025479       2254.0   439.67          Y      608       0.000000        U   \n",
            "1023124      21199.0  1927.83          Y      451       0.000000        U   \n",
            "\n",
            "                               area creditcd_y  \n",
            "Customer_ID                                     \n",
            "1070208      SOUTH_FLORIDA_AREA.csv          Y  \n",
            "1051859      SOUTH_FLORIDA_AREA.csv          Y  \n",
            "1035282      SOUTH_FLORIDA_AREA.csv          N  \n",
            "1025479      SOUTH_FLORIDA_AREA.csv          Y  \n",
            "1023124      SOUTH_FLORIDA_AREA.csv          Y  \n",
            "<class 'tuple'>\n",
            "TENNESSEE_AREA.csv\n",
            "              totmou   totrev creditcd_x  eqpdays  custcare_Mean new_cell  \\\n",
            "Customer_ID                                                                 \n",
            "1047767       2524.0   196.84          N      580            0.0        U   \n",
            "1019471      14502.0  1776.55          N      748            5.0        N   \n",
            "1060278       2820.0   519.21          Y      488            3.0        Y   \n",
            "1085161       2821.0   483.02          N      362            0.0        U   \n",
            "1046324       2529.0  1391.70          Y      426            0.0        U   \n",
            "\n",
            "                           area creditcd_y  \n",
            "Customer_ID                                 \n",
            "1047767      TENNESSEE_AREA.csv          N  \n",
            "1019471      TENNESSEE_AREA.csv          N  \n",
            "1060278      TENNESSEE_AREA.csv          Y  \n",
            "1085161      TENNESSEE_AREA.csv          N  \n",
            "1046324      TENNESSEE_AREA.csv          Y  \n"
          ]
        },
        {
          "name": "stderr",
          "output_type": "stream",
          "text": [
            "C:\\Users\\nib1l\\AppData\\Local\\Temp\\ipykernel_43220\\254946339.py:3: FutureWarning: In a future version of pandas, a length 1 tuple will be returned when iterating over a groupby with a grouper equal to a list of length 1. Don't supply a list with a single grouper to avoid this warning.\n",
            "  for item in group_df:\n"
          ]
        }
      ],
      "source": [
        "group_df = df3.groupby([\"area\"]) # Datos del grupo en df3 filtrados por el área\n",
        "# Haciendo un bucle a través de los grupos\n",
        "for item in group_df:\n",
        "    print(type(item)) # Mostrando el tipo de artículo en df3\n",
        "    print(item[0]) # área\n",
        "    print(item[1].head()) # DataFrame"
      ]
    },
    {
      "cell_type": "markdown",
      "metadata": {
        "id": "_uK-oig-0BXK"
      },
      "source": [
        "Usando el método  `groupby()` con el método `describe()` y apliquémoslo a cada símbolo para\n",
        "analizar la distribución de las características la variable ----."
      ]
    },
    {
      "cell_type": "code",
      "execution_count": 52,
      "metadata": {
        "colab": {
          "base_uri": "https://localhost:8080/"
        },
        "id": "1TIU1FLW0BXL",
        "outputId": "a00efbda-3ec3-47ac-988f-103ec22b8080"
      },
      "outputs": [
        {
          "name": "stdout",
          "output_type": "stream",
          "text": [
            "------Área:  ATLANTIC_SOUTH_AREA.csv\n",
            "------Área:  CALIFORNIA_NORTH_AREA.csv\n",
            "------Área:  CENTRAL-SOUTH_TEXAS_AREA.csv\n",
            "------Área:  CHICAGO_AREA.csv\n",
            "------Área:  DALLAS_AREA.csv\n",
            "------Área:  DC-MARYLAND-VIRGINIA_AREA.csv\n",
            "------Área:  GREAT_LAKES_AREA.csv\n",
            "------Área:  HOUSTON_AREA.csv\n",
            "------Área:  LOS_ANGELES_AREA.csv\n",
            "------Área:  MIDWEST_AREA.csv\n",
            "------Área:  NEW_ENGLAND_AREA.csv\n",
            "------Área:  NEW_YORK_CITY_AREA.csv\n",
            "------Área:  NORTHWEST-ROCKY_MOUNTAIN_AREA.csv\n",
            "------Área:  NORTH_FLORIDA_AREA.csv\n",
            "------Área:  OHIO_AREA.csv\n",
            "------Área:  PHILADELPHIA_AREA.csv\n",
            "------Área:  SOUTHWEST_AREA.csv\n",
            "------Área:  SOUTH_FLORIDA_AREA.csv\n",
            "------Área:  TENNESSEE_AREA.csv\n",
            "                                   totrev                                    \\\n",
            "                                    count         mean          std     min   \n",
            "area                                                                          \n",
            "ATLANTIC_SOUTH_AREA.csv             592.0   903.497399   697.197572  106.95   \n",
            "CALIFORNIA_NORTH_AREA.csv           599.0  1136.348013   922.069148  105.14   \n",
            "CENTRAL-SOUTH_TEXAS_AREA.csv        409.0  1174.366577   920.804942   48.53   \n",
            "CHICAGO_AREA.csv                    496.0   892.133206   669.068444   59.90   \n",
            "DALLAS_AREA.csv                     518.0  1258.508784  1267.499852   84.59   \n",
            "DC-MARYLAND-VIRGINIA_AREA.csv       640.0   941.692188   634.132033   86.78   \n",
            "GREAT_LAKES_AREA.csv                488.0   987.714324   733.521417  126.56   \n",
            "HOUSTON_AREA.csv                    458.0  1127.294127   999.987571   92.38   \n",
            "LOS_ANGELES_AREA.csv                671.0  1031.714382   738.616227   96.74   \n",
            "MIDWEST_AREA.csv                    685.0  1095.678701   945.251868   90.42   \n",
            "NEW_ENGLAND_AREA.csv                525.0   941.766038   705.572889  118.51   \n",
            "NEW_YORK_CITY_AREA.csv             1145.0  1076.263546   869.372842   74.01   \n",
            "NORTHWEST-ROCKY_MOUNTAIN_AREA.csv   429.0  1083.179091   977.857935   67.80   \n",
            "NORTH_FLORIDA_AREA.csv              442.0   895.489457   642.729028   37.39   \n",
            "OHIO_AREA.csv                       437.0  1006.616499   785.713223  107.12   \n",
            "PHILADELPHIA_AREA.csv               245.0   998.303592   722.348164  133.63   \n",
            "SOUTHWEST_AREA.csv                  584.0  1036.548630   914.475459   11.10   \n",
            "SOUTH_FLORIDA_AREA.csv              366.0  1167.546257   891.952255  118.62   \n",
            "TENNESSEE_AREA.csv                  268.0  1042.700597   886.731980  102.03   \n",
            "\n",
            "                                                                           \n",
            "                                        25%      50%        75%       max  \n",
            "area                                                                       \n",
            "ATLANTIC_SOUTH_AREA.csv            464.9875  718.370  1135.3050   8171.47  \n",
            "CALIFORNIA_NORTH_AREA.csv          535.9900  892.340  1396.4550   7511.11  \n",
            "CENTRAL-SOUTH_TEXAS_AREA.csv       594.3300  895.090  1374.5800   5848.39  \n",
            "CHICAGO_AREA.csv                   474.0675  718.855  1086.9250   5710.44  \n",
            "DALLAS_AREA.csv                    581.6975  965.650  1484.8500  13149.85  \n",
            "DC-MARYLAND-VIRGINIA_AREA.csv      525.7200  787.360  1191.5525   5029.68  \n",
            "GREAT_LAKES_AREA.csv               503.7325  767.960  1211.8900   5624.71  \n",
            "HOUSTON_AREA.csv                   530.6400  892.180  1443.1400   8719.53  \n",
            "LOS_ANGELES_AREA.csv               554.2650  836.770  1271.6150   6120.84  \n",
            "MIDWEST_AREA.csv                   553.0600  854.350  1338.6900  13426.60  \n",
            "NEW_ENGLAND_AREA.csv               497.5700  747.130  1185.8000   6939.19  \n",
            "NEW_YORK_CITY_AREA.csv             562.3400  870.310  1297.9700  10590.01  \n",
            "NORTHWEST-ROCKY_MOUNTAIN_AREA.csv  524.3700  805.020  1293.2200   7419.73  \n",
            "NORTH_FLORIDA_AREA.csv             481.5225  758.190  1134.1950   6009.01  \n",
            "OHIO_AREA.csv                      512.0700  781.040  1230.5600   8007.95  \n",
            "PHILADELPHIA_AREA.csv              558.7100  849.340  1154.6100   4819.91  \n",
            "SOUTHWEST_AREA.csv                 508.3275  802.025  1187.3275   8772.57  \n",
            "SOUTH_FLORIDA_AREA.csv             582.0225  914.600  1451.2550   6954.07  \n",
            "TENNESSEE_AREA.csv                 486.6800  832.400  1282.6150   6751.70  \n"
          ]
        },
        {
          "name": "stderr",
          "output_type": "stream",
          "text": [
            "C:\\Users\\nib1l\\AppData\\Local\\Temp\\ipykernel_43220\\4016988519.py:3: FutureWarning: In a future version of pandas, a length 1 tuple will be returned when iterating over a groupby with a grouper equal to a list of length 1. Don't supply a list with a single grouper to avoid this warning.\n",
            "  for item in group_df:\n"
          ]
        }
      ],
      "source": [
        "group_df = df3.groupby([\"area\"]) # Datos del grupo en df3 filtrados por el área\n",
        "# Bucle a través de los grupos\n",
        "for item in group_df:\n",
        "    print(\"------Área: \", item[0])\n",
        "    group_df1 = item[1]\n",
        "    df_relevante = group_df[[\"totrev\"]]\n",
        "print(df_relevante.describe())"
      ]
    },
    {
      "cell_type": "markdown",
      "metadata": {
        "id": "jDV44FUF0BXL"
      },
      "source": [
        "En `pandas`tenemos una manera más sencilla de mostrar estos resultados"
      ]
    },
    {
      "cell_type": "code",
      "execution_count": 53,
      "metadata": {
        "colab": {
          "base_uri": "https://localhost:8080/",
          "height": 708
        },
        "id": "iYuraAuC0BXL",
        "outputId": "e408c4b3-6fb8-450f-fb9b-e793e3a119f3"
      },
      "outputs": [
        {
          "data": {
            "text/html": [
              "<div>\n",
              "<style scoped>\n",
              "    .dataframe tbody tr th:only-of-type {\n",
              "        vertical-align: middle;\n",
              "    }\n",
              "\n",
              "    .dataframe tbody tr th {\n",
              "        vertical-align: top;\n",
              "    }\n",
              "\n",
              "    .dataframe thead tr th {\n",
              "        text-align: left;\n",
              "    }\n",
              "\n",
              "    .dataframe thead tr:last-of-type th {\n",
              "        text-align: right;\n",
              "    }\n",
              "</style>\n",
              "<table border=\"1\" class=\"dataframe\">\n",
              "  <thead>\n",
              "    <tr>\n",
              "      <th></th>\n",
              "      <th colspan=\"8\" halign=\"left\">totrev</th>\n",
              "    </tr>\n",
              "    <tr>\n",
              "      <th></th>\n",
              "      <th>count</th>\n",
              "      <th>mean</th>\n",
              "      <th>std</th>\n",
              "      <th>min</th>\n",
              "      <th>25%</th>\n",
              "      <th>50%</th>\n",
              "      <th>75%</th>\n",
              "      <th>max</th>\n",
              "    </tr>\n",
              "    <tr>\n",
              "      <th>area</th>\n",
              "      <th></th>\n",
              "      <th></th>\n",
              "      <th></th>\n",
              "      <th></th>\n",
              "      <th></th>\n",
              "      <th></th>\n",
              "      <th></th>\n",
              "      <th></th>\n",
              "    </tr>\n",
              "  </thead>\n",
              "  <tbody>\n",
              "    <tr>\n",
              "      <th>ATLANTIC_SOUTH_AREA.csv</th>\n",
              "      <td>592.0</td>\n",
              "      <td>903.497399</td>\n",
              "      <td>697.197572</td>\n",
              "      <td>106.95</td>\n",
              "      <td>464.9875</td>\n",
              "      <td>718.370</td>\n",
              "      <td>1135.3050</td>\n",
              "      <td>8171.47</td>\n",
              "    </tr>\n",
              "    <tr>\n",
              "      <th>CALIFORNIA_NORTH_AREA.csv</th>\n",
              "      <td>599.0</td>\n",
              "      <td>1136.348013</td>\n",
              "      <td>922.069148</td>\n",
              "      <td>105.14</td>\n",
              "      <td>535.9900</td>\n",
              "      <td>892.340</td>\n",
              "      <td>1396.4550</td>\n",
              "      <td>7511.11</td>\n",
              "    </tr>\n",
              "    <tr>\n",
              "      <th>CENTRAL-SOUTH_TEXAS_AREA.csv</th>\n",
              "      <td>409.0</td>\n",
              "      <td>1174.366577</td>\n",
              "      <td>920.804942</td>\n",
              "      <td>48.53</td>\n",
              "      <td>594.3300</td>\n",
              "      <td>895.090</td>\n",
              "      <td>1374.5800</td>\n",
              "      <td>5848.39</td>\n",
              "    </tr>\n",
              "    <tr>\n",
              "      <th>CHICAGO_AREA.csv</th>\n",
              "      <td>496.0</td>\n",
              "      <td>892.133206</td>\n",
              "      <td>669.068444</td>\n",
              "      <td>59.90</td>\n",
              "      <td>474.0675</td>\n",
              "      <td>718.855</td>\n",
              "      <td>1086.9250</td>\n",
              "      <td>5710.44</td>\n",
              "    </tr>\n",
              "    <tr>\n",
              "      <th>DALLAS_AREA.csv</th>\n",
              "      <td>518.0</td>\n",
              "      <td>1258.508784</td>\n",
              "      <td>1267.499852</td>\n",
              "      <td>84.59</td>\n",
              "      <td>581.6975</td>\n",
              "      <td>965.650</td>\n",
              "      <td>1484.8500</td>\n",
              "      <td>13149.85</td>\n",
              "    </tr>\n",
              "    <tr>\n",
              "      <th>DC-MARYLAND-VIRGINIA_AREA.csv</th>\n",
              "      <td>640.0</td>\n",
              "      <td>941.692188</td>\n",
              "      <td>634.132033</td>\n",
              "      <td>86.78</td>\n",
              "      <td>525.7200</td>\n",
              "      <td>787.360</td>\n",
              "      <td>1191.5525</td>\n",
              "      <td>5029.68</td>\n",
              "    </tr>\n",
              "    <tr>\n",
              "      <th>GREAT_LAKES_AREA.csv</th>\n",
              "      <td>488.0</td>\n",
              "      <td>987.714324</td>\n",
              "      <td>733.521417</td>\n",
              "      <td>126.56</td>\n",
              "      <td>503.7325</td>\n",
              "      <td>767.960</td>\n",
              "      <td>1211.8900</td>\n",
              "      <td>5624.71</td>\n",
              "    </tr>\n",
              "    <tr>\n",
              "      <th>HOUSTON_AREA.csv</th>\n",
              "      <td>458.0</td>\n",
              "      <td>1127.294127</td>\n",
              "      <td>999.987571</td>\n",
              "      <td>92.38</td>\n",
              "      <td>530.6400</td>\n",
              "      <td>892.180</td>\n",
              "      <td>1443.1400</td>\n",
              "      <td>8719.53</td>\n",
              "    </tr>\n",
              "    <tr>\n",
              "      <th>LOS_ANGELES_AREA.csv</th>\n",
              "      <td>671.0</td>\n",
              "      <td>1031.714382</td>\n",
              "      <td>738.616227</td>\n",
              "      <td>96.74</td>\n",
              "      <td>554.2650</td>\n",
              "      <td>836.770</td>\n",
              "      <td>1271.6150</td>\n",
              "      <td>6120.84</td>\n",
              "    </tr>\n",
              "    <tr>\n",
              "      <th>MIDWEST_AREA.csv</th>\n",
              "      <td>685.0</td>\n",
              "      <td>1095.678701</td>\n",
              "      <td>945.251868</td>\n",
              "      <td>90.42</td>\n",
              "      <td>553.0600</td>\n",
              "      <td>854.350</td>\n",
              "      <td>1338.6900</td>\n",
              "      <td>13426.60</td>\n",
              "    </tr>\n",
              "    <tr>\n",
              "      <th>NEW_ENGLAND_AREA.csv</th>\n",
              "      <td>525.0</td>\n",
              "      <td>941.766038</td>\n",
              "      <td>705.572889</td>\n",
              "      <td>118.51</td>\n",
              "      <td>497.5700</td>\n",
              "      <td>747.130</td>\n",
              "      <td>1185.8000</td>\n",
              "      <td>6939.19</td>\n",
              "    </tr>\n",
              "    <tr>\n",
              "      <th>NEW_YORK_CITY_AREA.csv</th>\n",
              "      <td>1145.0</td>\n",
              "      <td>1076.263546</td>\n",
              "      <td>869.372842</td>\n",
              "      <td>74.01</td>\n",
              "      <td>562.3400</td>\n",
              "      <td>870.310</td>\n",
              "      <td>1297.9700</td>\n",
              "      <td>10590.01</td>\n",
              "    </tr>\n",
              "    <tr>\n",
              "      <th>NORTHWEST-ROCKY_MOUNTAIN_AREA.csv</th>\n",
              "      <td>429.0</td>\n",
              "      <td>1083.179091</td>\n",
              "      <td>977.857935</td>\n",
              "      <td>67.80</td>\n",
              "      <td>524.3700</td>\n",
              "      <td>805.020</td>\n",
              "      <td>1293.2200</td>\n",
              "      <td>7419.73</td>\n",
              "    </tr>\n",
              "    <tr>\n",
              "      <th>NORTH_FLORIDA_AREA.csv</th>\n",
              "      <td>442.0</td>\n",
              "      <td>895.489457</td>\n",
              "      <td>642.729028</td>\n",
              "      <td>37.39</td>\n",
              "      <td>481.5225</td>\n",
              "      <td>758.190</td>\n",
              "      <td>1134.1950</td>\n",
              "      <td>6009.01</td>\n",
              "    </tr>\n",
              "    <tr>\n",
              "      <th>OHIO_AREA.csv</th>\n",
              "      <td>437.0</td>\n",
              "      <td>1006.616499</td>\n",
              "      <td>785.713223</td>\n",
              "      <td>107.12</td>\n",
              "      <td>512.0700</td>\n",
              "      <td>781.040</td>\n",
              "      <td>1230.5600</td>\n",
              "      <td>8007.95</td>\n",
              "    </tr>\n",
              "    <tr>\n",
              "      <th>PHILADELPHIA_AREA.csv</th>\n",
              "      <td>245.0</td>\n",
              "      <td>998.303592</td>\n",
              "      <td>722.348164</td>\n",
              "      <td>133.63</td>\n",
              "      <td>558.7100</td>\n",
              "      <td>849.340</td>\n",
              "      <td>1154.6100</td>\n",
              "      <td>4819.91</td>\n",
              "    </tr>\n",
              "    <tr>\n",
              "      <th>SOUTHWEST_AREA.csv</th>\n",
              "      <td>584.0</td>\n",
              "      <td>1036.548630</td>\n",
              "      <td>914.475459</td>\n",
              "      <td>11.10</td>\n",
              "      <td>508.3275</td>\n",
              "      <td>802.025</td>\n",
              "      <td>1187.3275</td>\n",
              "      <td>8772.57</td>\n",
              "    </tr>\n",
              "    <tr>\n",
              "      <th>SOUTH_FLORIDA_AREA.csv</th>\n",
              "      <td>366.0</td>\n",
              "      <td>1167.546257</td>\n",
              "      <td>891.952255</td>\n",
              "      <td>118.62</td>\n",
              "      <td>582.0225</td>\n",
              "      <td>914.600</td>\n",
              "      <td>1451.2550</td>\n",
              "      <td>6954.07</td>\n",
              "    </tr>\n",
              "    <tr>\n",
              "      <th>TENNESSEE_AREA.csv</th>\n",
              "      <td>268.0</td>\n",
              "      <td>1042.700597</td>\n",
              "      <td>886.731980</td>\n",
              "      <td>102.03</td>\n",
              "      <td>486.6800</td>\n",
              "      <td>832.400</td>\n",
              "      <td>1282.6150</td>\n",
              "      <td>6751.70</td>\n",
              "    </tr>\n",
              "  </tbody>\n",
              "</table>\n",
              "</div>"
            ],
            "text/plain": [
              "                                   totrev                                    \\\n",
              "                                    count         mean          std     min   \n",
              "area                                                                          \n",
              "ATLANTIC_SOUTH_AREA.csv             592.0   903.497399   697.197572  106.95   \n",
              "CALIFORNIA_NORTH_AREA.csv           599.0  1136.348013   922.069148  105.14   \n",
              "CENTRAL-SOUTH_TEXAS_AREA.csv        409.0  1174.366577   920.804942   48.53   \n",
              "CHICAGO_AREA.csv                    496.0   892.133206   669.068444   59.90   \n",
              "DALLAS_AREA.csv                     518.0  1258.508784  1267.499852   84.59   \n",
              "DC-MARYLAND-VIRGINIA_AREA.csv       640.0   941.692188   634.132033   86.78   \n",
              "GREAT_LAKES_AREA.csv                488.0   987.714324   733.521417  126.56   \n",
              "HOUSTON_AREA.csv                    458.0  1127.294127   999.987571   92.38   \n",
              "LOS_ANGELES_AREA.csv                671.0  1031.714382   738.616227   96.74   \n",
              "MIDWEST_AREA.csv                    685.0  1095.678701   945.251868   90.42   \n",
              "NEW_ENGLAND_AREA.csv                525.0   941.766038   705.572889  118.51   \n",
              "NEW_YORK_CITY_AREA.csv             1145.0  1076.263546   869.372842   74.01   \n",
              "NORTHWEST-ROCKY_MOUNTAIN_AREA.csv   429.0  1083.179091   977.857935   67.80   \n",
              "NORTH_FLORIDA_AREA.csv              442.0   895.489457   642.729028   37.39   \n",
              "OHIO_AREA.csv                       437.0  1006.616499   785.713223  107.12   \n",
              "PHILADELPHIA_AREA.csv               245.0   998.303592   722.348164  133.63   \n",
              "SOUTHWEST_AREA.csv                  584.0  1036.548630   914.475459   11.10   \n",
              "SOUTH_FLORIDA_AREA.csv              366.0  1167.546257   891.952255  118.62   \n",
              "TENNESSEE_AREA.csv                  268.0  1042.700597   886.731980  102.03   \n",
              "\n",
              "                                                                           \n",
              "                                        25%      50%        75%       max  \n",
              "area                                                                       \n",
              "ATLANTIC_SOUTH_AREA.csv            464.9875  718.370  1135.3050   8171.47  \n",
              "CALIFORNIA_NORTH_AREA.csv          535.9900  892.340  1396.4550   7511.11  \n",
              "CENTRAL-SOUTH_TEXAS_AREA.csv       594.3300  895.090  1374.5800   5848.39  \n",
              "CHICAGO_AREA.csv                   474.0675  718.855  1086.9250   5710.44  \n",
              "DALLAS_AREA.csv                    581.6975  965.650  1484.8500  13149.85  \n",
              "DC-MARYLAND-VIRGINIA_AREA.csv      525.7200  787.360  1191.5525   5029.68  \n",
              "GREAT_LAKES_AREA.csv               503.7325  767.960  1211.8900   5624.71  \n",
              "HOUSTON_AREA.csv                   530.6400  892.180  1443.1400   8719.53  \n",
              "LOS_ANGELES_AREA.csv               554.2650  836.770  1271.6150   6120.84  \n",
              "MIDWEST_AREA.csv                   553.0600  854.350  1338.6900  13426.60  \n",
              "NEW_ENGLAND_AREA.csv               497.5700  747.130  1185.8000   6939.19  \n",
              "NEW_YORK_CITY_AREA.csv             562.3400  870.310  1297.9700  10590.01  \n",
              "NORTHWEST-ROCKY_MOUNTAIN_AREA.csv  524.3700  805.020  1293.2200   7419.73  \n",
              "NORTH_FLORIDA_AREA.csv             481.5225  758.190  1134.1950   6009.01  \n",
              "OHIO_AREA.csv                      512.0700  781.040  1230.5600   8007.95  \n",
              "PHILADELPHIA_AREA.csv              558.7100  849.340  1154.6100   4819.91  \n",
              "SOUTHWEST_AREA.csv                 508.3275  802.025  1187.3275   8772.57  \n",
              "SOUTH_FLORIDA_AREA.csv             582.0225  914.600  1451.2550   6954.07  \n",
              "TENNESSEE_AREA.csv                 486.6800  832.400  1282.6150   6751.70  "
            ]
          },
          "execution_count": 53,
          "metadata": {},
          "output_type": "execute_result"
        }
      ],
      "source": [
        "df3[[\"area\",\"totrev\"]].groupby(\"area\").describe()"
      ]
    },
    {
      "cell_type": "markdown",
      "metadata": {
        "id": "RE2_G_PH0BXL"
      },
      "source": [
        "Estos resultados son iguales a los realizados con el ciclo `for`. Los objetos de tipo `DataFrameGroupBy` permiten una rápida salida de generación de estadísticas para grupos de interés."
      ]
    },
    {
      "cell_type": "markdown",
      "metadata": {
        "id": "OHIjDTEz0BXM"
      },
      "source": [
        "### Ejercicio 3\n",
        "\n",
        "Realice una agrupación por la variable creditcd_x y encuentre el valor de la desviación estándar de totrev"
      ]
    },
    {
      "cell_type": "code",
      "execution_count": 54,
      "metadata": {
        "colab": {
          "base_uri": "https://localhost:8080/",
          "height": 175
        },
        "id": "vK4kwSll0BXM",
        "outputId": "6737bddc-a07e-4d03-c7d4-29c66f4601b7"
      },
      "outputs": [
        {
          "data": {
            "text/html": [
              "<div>\n",
              "<style scoped>\n",
              "    .dataframe tbody tr th:only-of-type {\n",
              "        vertical-align: middle;\n",
              "    }\n",
              "\n",
              "    .dataframe tbody tr th {\n",
              "        vertical-align: top;\n",
              "    }\n",
              "\n",
              "    .dataframe thead tr th {\n",
              "        text-align: left;\n",
              "    }\n",
              "\n",
              "    .dataframe thead tr:last-of-type th {\n",
              "        text-align: right;\n",
              "    }\n",
              "</style>\n",
              "<table border=\"1\" class=\"dataframe\">\n",
              "  <thead>\n",
              "    <tr>\n",
              "      <th></th>\n",
              "      <th colspan=\"8\" halign=\"left\">totrev</th>\n",
              "    </tr>\n",
              "    <tr>\n",
              "      <th></th>\n",
              "      <th>count</th>\n",
              "      <th>mean</th>\n",
              "      <th>std</th>\n",
              "      <th>min</th>\n",
              "      <th>25%</th>\n",
              "      <th>50%</th>\n",
              "      <th>75%</th>\n",
              "      <th>max</th>\n",
              "    </tr>\n",
              "    <tr>\n",
              "      <th>creditcd_x</th>\n",
              "      <th></th>\n",
              "      <th></th>\n",
              "      <th></th>\n",
              "      <th></th>\n",
              "      <th></th>\n",
              "      <th></th>\n",
              "      <th></th>\n",
              "      <th></th>\n",
              "    </tr>\n",
              "  </thead>\n",
              "  <tbody>\n",
              "    <tr>\n",
              "      <th>N</th>\n",
              "      <td>3051.0</td>\n",
              "      <td>1035.510849</td>\n",
              "      <td>876.554177</td>\n",
              "      <td>37.39</td>\n",
              "      <td>516.420</td>\n",
              "      <td>806.56</td>\n",
              "      <td>1263.9400</td>\n",
              "      <td>12583.69</td>\n",
              "    </tr>\n",
              "    <tr>\n",
              "      <th>Y</th>\n",
              "      <td>6946.0</td>\n",
              "      <td>1044.997756</td>\n",
              "      <td>848.517680</td>\n",
              "      <td>11.10</td>\n",
              "      <td>533.275</td>\n",
              "      <td>827.29</td>\n",
              "      <td>1275.0175</td>\n",
              "      <td>13426.60</td>\n",
              "    </tr>\n",
              "  </tbody>\n",
              "</table>\n",
              "</div>"
            ],
            "text/plain": [
              "            totrev                                                   \\\n",
              "             count         mean         std    min      25%     50%   \n",
              "creditcd_x                                                            \n",
              "N           3051.0  1035.510849  876.554177  37.39  516.420  806.56   \n",
              "Y           6946.0  1044.997756  848.517680  11.10  533.275  827.29   \n",
              "\n",
              "                                 \n",
              "                  75%       max  \n",
              "creditcd_x                       \n",
              "N           1263.9400  12583.69  \n",
              "Y           1275.0175  13426.60  "
            ]
          },
          "execution_count": 54,
          "metadata": {},
          "output_type": "execute_result"
        }
      ],
      "source": [
        "# realice el ejercicio en este espacio\n",
        "\n",
        "df3[[\"creditcd_x\",\"totrev\"]].groupby('creditcd_x').describe()"
      ]
    },
    {
      "cell_type": "markdown",
      "metadata": {
        "id": "Qfp6gSCG0BXM"
      },
      "source": [
        "### Etiquetando valores de total de ingresos en categorías\n",
        "\n",
        "Revisamos el comportamiento de `totrev` y encontramos una gran variabilidad, en ocasiones la agrupación de variables cuantitativas en diferentes categorías nos ayuda a tener una mejor visión del conjunto de datos.\n",
        "\n",
        "Crearemos una nueva variable `Nivel_totrev`  que catalogue a la variable total de ingresos `totrev` en 2 posibles niveles, alto en el caso que `totrev`  sea mayor al cuantil 50 y baja en otro caso. cada valor de percentil debe ser calculado por cada `area` para asegurar que el +area geografíca sea evaluada adicionalmente.\n",
        "\n"
      ]
    },
    {
      "cell_type": "code",
      "execution_count": 55,
      "metadata": {
        "colab": {
          "base_uri": "https://localhost:8080/"
        },
        "id": "BujNKv110BXM",
        "outputId": "7c9531bb-be8a-4541-bb88-e5cf923e3083"
      },
      "outputs": [
        {
          "name": "stdout",
          "output_type": "stream",
          "text": [
            "area\n",
            "ATLANTIC_SOUTH_AREA.csv              718.370\n",
            "CALIFORNIA_NORTH_AREA.csv            892.340\n",
            "CENTRAL-SOUTH_TEXAS_AREA.csv         895.090\n",
            "CHICAGO_AREA.csv                     718.855\n",
            "DALLAS_AREA.csv                      965.650\n",
            "DC-MARYLAND-VIRGINIA_AREA.csv        787.360\n",
            "GREAT_LAKES_AREA.csv                 767.960\n",
            "HOUSTON_AREA.csv                     892.180\n",
            "LOS_ANGELES_AREA.csv                 836.770\n",
            "MIDWEST_AREA.csv                     854.350\n",
            "NEW_ENGLAND_AREA.csv                 747.130\n",
            "NEW_YORK_CITY_AREA.csv               870.310\n",
            "NORTHWEST-ROCKY_MOUNTAIN_AREA.csv    805.020\n",
            "NORTH_FLORIDA_AREA.csv               758.190\n",
            "OHIO_AREA.csv                        781.040\n",
            "PHILADELPHIA_AREA.csv                849.340\n",
            "SOUTHWEST_AREA.csv                   802.025\n",
            "SOUTH_FLORIDA_AREA.csv               914.600\n",
            "TENNESSEE_AREA.csv                   832.400\n",
            "Name: totrev, dtype: float64\n"
          ]
        }
      ],
      "source": [
        "pencentiles50 = df3.groupby(\"area\")[\"totrev\"].quantile(0.5) # percentil 50\n",
        "print(pencentiles50)"
      ]
    },
    {
      "cell_type": "markdown",
      "metadata": {
        "id": "PQDi0aB-0BXN"
      },
      "source": [
        "Como nos gustaría etiquetar los ingreos en alto y bajopara  cada área geográfica, haremos uso del método\n",
        "`np.where()` en la biblioteca numpy. Este método toma una entrada y comprueba una condición lógica: si la\n",
        "condición es verdadera, devolverá su segundo argumento, mientras que si la condición es falsa, devolverá su\n",
        "tercer argumento.\n"
      ]
    },
    {
      "cell_type": "code",
      "execution_count": 56,
      "metadata": {
        "id": "ImeueBfiuXUB"
      },
      "outputs": [],
      "source": [
        "# Loop a través de los símbolos\n",
        "areas = ['ATLANTIC_SOUTH_AREA.csv',\n",
        " 'CALIFORNIA_NORTH_AREA.csv',\n",
        " 'CENTRAL-SOUTH_TEXAS_AREA.csv',\n",
        " 'CHICAGO_AREA.csv',\n",
        " 'DALLAS_AREA.csv',\n",
        " 'DC-MARYLAND-VIRGINIA_AREA.csv',\n",
        " 'GREAT_LAKES_AREA.csv',\n",
        " 'HOUSTON_AREA.csv',\n",
        " 'LOS_ANGELES_AREA.csv',\n",
        " 'MIDWEST_AREA.csv',\n",
        " 'NEW_ENGLAND_AREA.csv',\n",
        " 'NEW_YORK_CITY_AREA.csv',\n",
        " 'NORTH_FLORIDA_AREA.csv',\n",
        " 'NORTHWEST-ROCKY_MOUNTAIN_AREA.csv',\n",
        " 'OHIO_AREA.csv',\n",
        " 'PHILADELPHIA_AREA.csv',\n",
        " 'SOUTH_FLORIDA_AREA.csv',\n",
        " 'SOUTHWEST_AREA.csv',\n",
        " 'TENNESSEE_AREA.csv']"
      ]
    },
    {
      "cell_type": "code",
      "execution_count": 57,
      "metadata": {
        "colab": {
          "base_uri": "https://localhost:8080/"
        },
        "id": "UvhTcvfe0BXN",
        "outputId": "146db5e9-71fb-4727-d12d-f022db0b7189"
      },
      "outputs": [
        {
          "name": "stdout",
          "output_type": "stream",
          "text": [
            "Etiqueta por área: ATLANTIC_SOUTH_AREA.csv\n",
            "Etiqueta por área: CALIFORNIA_NORTH_AREA.csv\n",
            "Etiqueta por área: CENTRAL-SOUTH_TEXAS_AREA.csv\n",
            "Etiqueta por área: CHICAGO_AREA.csv\n",
            "Etiqueta por área: DALLAS_AREA.csv\n",
            "Etiqueta por área: DC-MARYLAND-VIRGINIA_AREA.csv\n",
            "Etiqueta por área: GREAT_LAKES_AREA.csv\n",
            "Etiqueta por área: HOUSTON_AREA.csv\n",
            "Etiqueta por área: LOS_ANGELES_AREA.csv\n",
            "Etiqueta por área: MIDWEST_AREA.csv\n",
            "Etiqueta por área: NEW_ENGLAND_AREA.csv\n",
            "Etiqueta por área: NEW_YORK_CITY_AREA.csv\n",
            "Etiqueta por área: NORTH_FLORIDA_AREA.csv\n",
            "Etiqueta por área: NORTHWEST-ROCKY_MOUNTAIN_AREA.csv\n",
            "Etiqueta por área: OHIO_AREA.csv\n",
            "Etiqueta por área: PHILADELPHIA_AREA.csv\n",
            "Etiqueta por área: SOUTH_FLORIDA_AREA.csv\n",
            "Etiqueta por área: SOUTHWEST_AREA.csv\n",
            "Etiqueta por área: TENNESSEE_AREA.csv\n"
          ]
        }
      ],
      "source": [
        "# registro de las áreas\n",
        "lista_df = []\n",
        "# ciclo sobre todos los símbolos\n",
        "for i in areas:\n",
        "    print(\"Etiqueta por área: \" + i)\n",
        "    temp_df = df3[df3[\"area\"] == i].copy()\n",
        "    umbral_punto = pencentiles50.loc[i]\n",
        "    temp_df[\"Nivel_totrev\"] = np.where(temp_df[\"totrev\"] < umbral_punto, \"Bajo\", \"Alto\")\n",
        "    lista_df.append(temp_df)\n",
        "df_con_etiquetas = pd.concat(lista_df)"
      ]
    },
    {
      "cell_type": "code",
      "execution_count": 58,
      "metadata": {
        "colab": {
          "base_uri": "https://localhost:8080/",
          "height": 238
        },
        "id": "cLha6BXa0BXN",
        "outputId": "b7c10152-513c-450d-e475-c166526871b8"
      },
      "outputs": [
        {
          "data": {
            "text/html": [
              "<div>\n",
              "<style scoped>\n",
              "    .dataframe tbody tr th:only-of-type {\n",
              "        vertical-align: middle;\n",
              "    }\n",
              "\n",
              "    .dataframe tbody tr th {\n",
              "        vertical-align: top;\n",
              "    }\n",
              "\n",
              "    .dataframe thead th {\n",
              "        text-align: right;\n",
              "    }\n",
              "</style>\n",
              "<table border=\"1\" class=\"dataframe\">\n",
              "  <thead>\n",
              "    <tr style=\"text-align: right;\">\n",
              "      <th></th>\n",
              "      <th>totmou</th>\n",
              "      <th>totrev</th>\n",
              "      <th>creditcd_x</th>\n",
              "      <th>eqpdays</th>\n",
              "      <th>custcare_Mean</th>\n",
              "      <th>new_cell</th>\n",
              "      <th>area</th>\n",
              "      <th>creditcd_y</th>\n",
              "      <th>Nivel_totrev</th>\n",
              "    </tr>\n",
              "    <tr>\n",
              "      <th>Customer_ID</th>\n",
              "      <th></th>\n",
              "      <th></th>\n",
              "      <th></th>\n",
              "      <th></th>\n",
              "      <th></th>\n",
              "      <th></th>\n",
              "      <th></th>\n",
              "      <th></th>\n",
              "      <th></th>\n",
              "    </tr>\n",
              "  </thead>\n",
              "  <tbody>\n",
              "    <tr>\n",
              "      <th>1069232</th>\n",
              "      <td>13552.0</td>\n",
              "      <td>1172.25</td>\n",
              "      <td>N</td>\n",
              "      <td>83</td>\n",
              "      <td>3.666667</td>\n",
              "      <td>U</td>\n",
              "      <td>ATLANTIC_SOUTH_AREA.csv</td>\n",
              "      <td>N</td>\n",
              "      <td>Alto</td>\n",
              "    </tr>\n",
              "    <tr>\n",
              "      <th>1043846</th>\n",
              "      <td>7294.0</td>\n",
              "      <td>1495.18</td>\n",
              "      <td>Y</td>\n",
              "      <td>460</td>\n",
              "      <td>0.000000</td>\n",
              "      <td>U</td>\n",
              "      <td>ATLANTIC_SOUTH_AREA.csv</td>\n",
              "      <td>Y</td>\n",
              "      <td>Alto</td>\n",
              "    </tr>\n",
              "    <tr>\n",
              "      <th>1008539</th>\n",
              "      <td>4078.0</td>\n",
              "      <td>1257.05</td>\n",
              "      <td>Y</td>\n",
              "      <td>1019</td>\n",
              "      <td>0.000000</td>\n",
              "      <td>N</td>\n",
              "      <td>ATLANTIC_SOUTH_AREA.csv</td>\n",
              "      <td>Y</td>\n",
              "      <td>Alto</td>\n",
              "    </tr>\n",
              "    <tr>\n",
              "      <th>1068315</th>\n",
              "      <td>5124.0</td>\n",
              "      <td>652.27</td>\n",
              "      <td>N</td>\n",
              "      <td>377</td>\n",
              "      <td>0.000000</td>\n",
              "      <td>U</td>\n",
              "      <td>ATLANTIC_SOUTH_AREA.csv</td>\n",
              "      <td>N</td>\n",
              "      <td>Bajo</td>\n",
              "    </tr>\n",
              "    <tr>\n",
              "      <th>1074220</th>\n",
              "      <td>6648.0</td>\n",
              "      <td>590.21</td>\n",
              "      <td>N</td>\n",
              "      <td>295</td>\n",
              "      <td>1.666667</td>\n",
              "      <td>U</td>\n",
              "      <td>ATLANTIC_SOUTH_AREA.csv</td>\n",
              "      <td>N</td>\n",
              "      <td>Bajo</td>\n",
              "    </tr>\n",
              "  </tbody>\n",
              "</table>\n",
              "</div>"
            ],
            "text/plain": [
              "              totmou   totrev creditcd_x  eqpdays  custcare_Mean new_cell  \\\n",
              "Customer_ID                                                                 \n",
              "1069232      13552.0  1172.25          N       83       3.666667        U   \n",
              "1043846       7294.0  1495.18          Y      460       0.000000        U   \n",
              "1008539       4078.0  1257.05          Y     1019       0.000000        N   \n",
              "1068315       5124.0   652.27          N      377       0.000000        U   \n",
              "1074220       6648.0   590.21          N      295       1.666667        U   \n",
              "\n",
              "                                area creditcd_y Nivel_totrev  \n",
              "Customer_ID                                                   \n",
              "1069232      ATLANTIC_SOUTH_AREA.csv          N         Alto  \n",
              "1043846      ATLANTIC_SOUTH_AREA.csv          Y         Alto  \n",
              "1008539      ATLANTIC_SOUTH_AREA.csv          Y         Alto  \n",
              "1068315      ATLANTIC_SOUTH_AREA.csv          N         Bajo  \n",
              "1074220      ATLANTIC_SOUTH_AREA.csv          N         Bajo  "
            ]
          },
          "execution_count": 58,
          "metadata": {},
          "output_type": "execute_result"
        }
      ],
      "source": [
        "df_con_etiquetas.head()"
      ]
    },
    {
      "cell_type": "markdown",
      "metadata": {
        "id": "Azzdm82a0BXO"
      },
      "source": [
        "Ahora podemos hacer una evaluaciónd de como es el comportamiento de los minutos gastados y el nivel de ingresos de los clientes"
      ]
    },
    {
      "cell_type": "markdown",
      "metadata": {
        "id": "Fb9REGCP0BXO"
      },
      "source": [
        "### ¿Existe relación alguna entre el total de minutos usados con la compañía y el ingreso total de los clientes?\n",
        "\n",
        "Para explorar la relación entre el nivel de total de ingresos y el número promedio de llamadas, agrupemos por\n",
        "Nivel_totrev y miremos ingreso total promedio por cada +area geográfica.\n",
        "\n"
      ]
    },
    {
      "cell_type": "code",
      "execution_count": 59,
      "metadata": {
        "colab": {
          "base_uri": "https://localhost:8080/",
          "height": 1000
        },
        "id": "ImKo7hKs0BXO",
        "outputId": "fa05609b-ed70-4eea-bee0-e68cfda338e6",
        "scrolled": true
      },
      "outputs": [
        {
          "data": {
            "text/html": [
              "<div>\n",
              "<style scoped>\n",
              "    .dataframe tbody tr th:only-of-type {\n",
              "        vertical-align: middle;\n",
              "    }\n",
              "\n",
              "    .dataframe tbody tr th {\n",
              "        vertical-align: top;\n",
              "    }\n",
              "\n",
              "    .dataframe thead th {\n",
              "        text-align: right;\n",
              "    }\n",
              "</style>\n",
              "<table border=\"1\" class=\"dataframe\">\n",
              "  <thead>\n",
              "    <tr style=\"text-align: right;\">\n",
              "      <th></th>\n",
              "      <th></th>\n",
              "      <th>totmou</th>\n",
              "    </tr>\n",
              "    <tr>\n",
              "      <th>area</th>\n",
              "      <th>Nivel_totrev</th>\n",
              "      <th></th>\n",
              "    </tr>\n",
              "  </thead>\n",
              "  <tbody>\n",
              "    <tr>\n",
              "      <th rowspan=\"2\" valign=\"top\">ATLANTIC_SOUTH_AREA.csv</th>\n",
              "      <th>Alto</th>\n",
              "      <td>10287.102128</td>\n",
              "    </tr>\n",
              "    <tr>\n",
              "      <th>Bajo</th>\n",
              "      <td>3421.959459</td>\n",
              "    </tr>\n",
              "    <tr>\n",
              "      <th rowspan=\"2\" valign=\"top\">CALIFORNIA_NORTH_AREA.csv</th>\n",
              "      <th>Alto</th>\n",
              "      <td>11937.216156</td>\n",
              "    </tr>\n",
              "    <tr>\n",
              "      <th>Bajo</th>\n",
              "      <td>3177.665552</td>\n",
              "    </tr>\n",
              "    <tr>\n",
              "      <th rowspan=\"2\" valign=\"top\">CENTRAL-SOUTH_TEXAS_AREA.csv</th>\n",
              "      <th>Alto</th>\n",
              "      <td>14306.189935</td>\n",
              "    </tr>\n",
              "    <tr>\n",
              "      <th>Bajo</th>\n",
              "      <td>4420.431373</td>\n",
              "    </tr>\n",
              "    <tr>\n",
              "      <th rowspan=\"2\" valign=\"top\">CHICAGO_AREA.csv</th>\n",
              "      <th>Alto</th>\n",
              "      <td>9733.863737</td>\n",
              "    </tr>\n",
              "    <tr>\n",
              "      <th>Bajo</th>\n",
              "      <td>3346.189516</td>\n",
              "    </tr>\n",
              "    <tr>\n",
              "      <th rowspan=\"2\" valign=\"top\">DALLAS_AREA.csv</th>\n",
              "      <th>Alto</th>\n",
              "      <td>14388.723140</td>\n",
              "    </tr>\n",
              "    <tr>\n",
              "      <th>Bajo</th>\n",
              "      <td>4110.544402</td>\n",
              "    </tr>\n",
              "    <tr>\n",
              "      <th rowspan=\"2\" valign=\"top\">DC-MARYLAND-VIRGINIA_AREA.csv</th>\n",
              "      <th>Alto</th>\n",
              "      <td>9822.787500</td>\n",
              "    </tr>\n",
              "    <tr>\n",
              "      <th>Bajo</th>\n",
              "      <td>3574.912500</td>\n",
              "    </tr>\n",
              "    <tr>\n",
              "      <th rowspan=\"2\" valign=\"top\">GREAT_LAKES_AREA.csv</th>\n",
              "      <th>Alto</th>\n",
              "      <td>11343.180328</td>\n",
              "    </tr>\n",
              "    <tr>\n",
              "      <th>Bajo</th>\n",
              "      <td>3677.053279</td>\n",
              "    </tr>\n",
              "    <tr>\n",
              "      <th rowspan=\"2\" valign=\"top\">HOUSTON_AREA.csv</th>\n",
              "      <th>Alto</th>\n",
              "      <td>14512.521339</td>\n",
              "    </tr>\n",
              "    <tr>\n",
              "      <th>Bajo</th>\n",
              "      <td>4278.943231</td>\n",
              "    </tr>\n",
              "    <tr>\n",
              "      <th rowspan=\"2\" valign=\"top\">LOS_ANGELES_AREA.csv</th>\n",
              "      <th>Alto</th>\n",
              "      <td>11593.681548</td>\n",
              "    </tr>\n",
              "    <tr>\n",
              "      <th>Bajo</th>\n",
              "      <td>3461.391045</td>\n",
              "    </tr>\n",
              "    <tr>\n",
              "      <th rowspan=\"2\" valign=\"top\">MIDWEST_AREA.csv</th>\n",
              "      <th>Alto</th>\n",
              "      <td>11656.333537</td>\n",
              "    </tr>\n",
              "    <tr>\n",
              "      <th>Bajo</th>\n",
              "      <td>3378.435673</td>\n",
              "    </tr>\n",
              "    <tr>\n",
              "      <th rowspan=\"2\" valign=\"top\">NEW_ENGLAND_AREA.csv</th>\n",
              "      <th>Alto</th>\n",
              "      <td>9935.876198</td>\n",
              "    </tr>\n",
              "    <tr>\n",
              "      <th>Bajo</th>\n",
              "      <td>3384.274809</td>\n",
              "    </tr>\n",
              "    <tr>\n",
              "      <th rowspan=\"2\" valign=\"top\">NEW_YORK_CITY_AREA.csv</th>\n",
              "      <th>Alto</th>\n",
              "      <td>12424.576312</td>\n",
              "    </tr>\n",
              "    <tr>\n",
              "      <th>Bajo</th>\n",
              "      <td>4231.835664</td>\n",
              "    </tr>\n",
              "    <tr>\n",
              "      <th rowspan=\"2\" valign=\"top\">NORTHWEST-ROCKY_MOUNTAIN_AREA.csv</th>\n",
              "      <th>Alto</th>\n",
              "      <td>12433.277767</td>\n",
              "    </tr>\n",
              "    <tr>\n",
              "      <th>Bajo</th>\n",
              "      <td>2999.635514</td>\n",
              "    </tr>\n",
              "    <tr>\n",
              "      <th rowspan=\"2\" valign=\"top\">NORTH_FLORIDA_AREA.csv</th>\n",
              "      <th>Alto</th>\n",
              "      <td>9556.276018</td>\n",
              "    </tr>\n",
              "    <tr>\n",
              "      <th>Bajo</th>\n",
              "      <td>3418.746606</td>\n",
              "    </tr>\n",
              "    <tr>\n",
              "      <th rowspan=\"2\" valign=\"top\">OHIO_AREA.csv</th>\n",
              "      <th>Alto</th>\n",
              "      <td>10047.156423</td>\n",
              "    </tr>\n",
              "    <tr>\n",
              "      <th>Bajo</th>\n",
              "      <td>3337.463303</td>\n",
              "    </tr>\n",
              "    <tr>\n",
              "      <th rowspan=\"2\" valign=\"top\">PHILADELPHIA_AREA.csv</th>\n",
              "      <th>Alto</th>\n",
              "      <td>10962.949539</td>\n",
              "    </tr>\n",
              "    <tr>\n",
              "      <th>Bajo</th>\n",
              "      <td>3113.770492</td>\n",
              "    </tr>\n",
              "    <tr>\n",
              "      <th rowspan=\"2\" valign=\"top\">SOUTHWEST_AREA.csv</th>\n",
              "      <th>Alto</th>\n",
              "      <td>12293.684977</td>\n",
              "    </tr>\n",
              "    <tr>\n",
              "      <th>Bajo</th>\n",
              "      <td>3425.452055</td>\n",
              "    </tr>\n",
              "    <tr>\n",
              "      <th rowspan=\"2\" valign=\"top\">SOUTH_FLORIDA_AREA.csv</th>\n",
              "      <th>Alto</th>\n",
              "      <td>14445.641840</td>\n",
              "    </tr>\n",
              "    <tr>\n",
              "      <th>Bajo</th>\n",
              "      <td>4168.125683</td>\n",
              "    </tr>\n",
              "    <tr>\n",
              "      <th rowspan=\"2\" valign=\"top\">TENNESSEE_AREA.csv</th>\n",
              "      <th>Alto</th>\n",
              "      <td>12103.077960</td>\n",
              "    </tr>\n",
              "    <tr>\n",
              "      <th>Bajo</th>\n",
              "      <td>3643.611940</td>\n",
              "    </tr>\n",
              "  </tbody>\n",
              "</table>\n",
              "</div>"
            ],
            "text/plain": [
              "                                                      totmou\n",
              "area                              Nivel_totrev              \n",
              "ATLANTIC_SOUTH_AREA.csv           Alto          10287.102128\n",
              "                                  Bajo           3421.959459\n",
              "CALIFORNIA_NORTH_AREA.csv         Alto          11937.216156\n",
              "                                  Bajo           3177.665552\n",
              "CENTRAL-SOUTH_TEXAS_AREA.csv      Alto          14306.189935\n",
              "                                  Bajo           4420.431373\n",
              "CHICAGO_AREA.csv                  Alto           9733.863737\n",
              "                                  Bajo           3346.189516\n",
              "DALLAS_AREA.csv                   Alto          14388.723140\n",
              "                                  Bajo           4110.544402\n",
              "DC-MARYLAND-VIRGINIA_AREA.csv     Alto           9822.787500\n",
              "                                  Bajo           3574.912500\n",
              "GREAT_LAKES_AREA.csv              Alto          11343.180328\n",
              "                                  Bajo           3677.053279\n",
              "HOUSTON_AREA.csv                  Alto          14512.521339\n",
              "                                  Bajo           4278.943231\n",
              "LOS_ANGELES_AREA.csv              Alto          11593.681548\n",
              "                                  Bajo           3461.391045\n",
              "MIDWEST_AREA.csv                  Alto          11656.333537\n",
              "                                  Bajo           3378.435673\n",
              "NEW_ENGLAND_AREA.csv              Alto           9935.876198\n",
              "                                  Bajo           3384.274809\n",
              "NEW_YORK_CITY_AREA.csv            Alto          12424.576312\n",
              "                                  Bajo           4231.835664\n",
              "NORTHWEST-ROCKY_MOUNTAIN_AREA.csv Alto          12433.277767\n",
              "                                  Bajo           2999.635514\n",
              "NORTH_FLORIDA_AREA.csv            Alto           9556.276018\n",
              "                                  Bajo           3418.746606\n",
              "OHIO_AREA.csv                     Alto          10047.156423\n",
              "                                  Bajo           3337.463303\n",
              "PHILADELPHIA_AREA.csv             Alto          10962.949539\n",
              "                                  Bajo           3113.770492\n",
              "SOUTHWEST_AREA.csv                Alto          12293.684977\n",
              "                                  Bajo           3425.452055\n",
              "SOUTH_FLORIDA_AREA.csv            Alto          14445.641840\n",
              "                                  Bajo           4168.125683\n",
              "TENNESSEE_AREA.csv                Alto          12103.077960\n",
              "                                  Bajo           3643.611940"
            ]
          },
          "execution_count": 59,
          "metadata": {},
          "output_type": "execute_result"
        }
      ],
      "source": [
        "df_con_etiquetas.groupby(['area','Nivel_totrev'])[['totmou']].mean()"
      ]
    },
    {
      "cell_type": "markdown",
      "metadata": {
        "id": "_ysIwd6h0BXP"
      },
      "source": [
        "### Ejercicio 4\n",
        "\n",
        "\n",
        "Escriba el código para categorizar  el total de ingresos  baja, media y alta volatilidad, donde:\n",
        "\n",
        "`\n",
        "si totrev > (percentil 75 de totrev para el área dada):\n",
        "Nivel_totrev = 'Alto'\n",
        "o si VolStat > (percentil 25 de totrev para el área dada):\n",
        "Nivel_totrev  = 'Medio'\n",
        "de lo contrario:\n",
        "Nivel_totrev  = 'Bajo'`"
      ]
    },
    {
      "cell_type": "code",
      "execution_count": 60,
      "metadata": {
        "id": "CTW1jQRfb2xL"
      },
      "outputs": [],
      "source": [
        "umbral25=df3.groupby(\"area\")[\"totrev\"].quantile(0.25)\n",
        "umbral75=df3.groupby(\"area\")[\"totrev\"].quantile(0.75)"
      ]
    },
    {
      "cell_type": "code",
      "execution_count": 61,
      "metadata": {
        "colab": {
          "base_uri": "https://localhost:8080/"
        },
        "id": "tPARJ2M50BXP",
        "outputId": "9556ea60-e61b-47de-bc5d-e2952e75cf35"
      },
      "outputs": [
        {
          "name": "stdout",
          "output_type": "stream",
          "text": [
            "Etiqueta por área: ATLANTIC_SOUTH_AREA.csv\n",
            "Etiqueta por área: CALIFORNIA_NORTH_AREA.csv\n",
            "Etiqueta por área: CENTRAL-SOUTH_TEXAS_AREA.csv\n",
            "Etiqueta por área: CHICAGO_AREA.csv\n",
            "Etiqueta por área: DALLAS_AREA.csv\n",
            "Etiqueta por área: DC-MARYLAND-VIRGINIA_AREA.csv\n",
            "Etiqueta por área: GREAT_LAKES_AREA.csv\n",
            "Etiqueta por área: HOUSTON_AREA.csv\n",
            "Etiqueta por área: LOS_ANGELES_AREA.csv\n",
            "Etiqueta por área: MIDWEST_AREA.csv\n",
            "Etiqueta por área: NEW_ENGLAND_AREA.csv\n",
            "Etiqueta por área: NEW_YORK_CITY_AREA.csv\n",
            "Etiqueta por área: NORTH_FLORIDA_AREA.csv\n",
            "Etiqueta por área: NORTHWEST-ROCKY_MOUNTAIN_AREA.csv\n",
            "Etiqueta por área: OHIO_AREA.csv\n",
            "Etiqueta por área: PHILADELPHIA_AREA.csv\n",
            "Etiqueta por área: SOUTH_FLORIDA_AREA.csv\n",
            "Etiqueta por área: SOUTHWEST_AREA.csv\n",
            "Etiqueta por área: TENNESSEE_AREA.csv\n"
          ]
        }
      ],
      "source": [
        "# realice el ejercicio en este espacio\n",
        "# registro de las áreas\n",
        "lista_df = []\n",
        "# ciclo sobre todos los símbolos\n",
        "for i in areas:\n",
        "    print(\"Etiqueta por área: \" + i)\n",
        "    temp_df = df3[df3[\"area\"] == i].copy()\n",
        "    umbral_punto1 = umbral25.loc[i]\n",
        "    umbral_punto2 = umbral75.loc[i]\n",
        "    temp_df[\"Nivel_totrev\"] = np.where(temp_df[\"totrev\"] < umbral_punto1, \"Bajo\", np.where(temp_df[\"totrev\"]<umbral_punto2,'Medio','Alto'))\n",
        "    lista_df.append(temp_df)\n",
        "df_con_etiquetas = pd.concat(lista_df)"
      ]
    },
    {
      "cell_type": "code",
      "execution_count": 62,
      "metadata": {
        "colab": {
          "base_uri": "https://localhost:8080/",
          "height": 455
        },
        "id": "vtDHzCgicxm6",
        "outputId": "ae54f2eb-89f2-4f98-d446-172fcf26fa50"
      },
      "outputs": [
        {
          "data": {
            "text/html": [
              "<div>\n",
              "<style scoped>\n",
              "    .dataframe tbody tr th:only-of-type {\n",
              "        vertical-align: middle;\n",
              "    }\n",
              "\n",
              "    .dataframe tbody tr th {\n",
              "        vertical-align: top;\n",
              "    }\n",
              "\n",
              "    .dataframe thead th {\n",
              "        text-align: right;\n",
              "    }\n",
              "</style>\n",
              "<table border=\"1\" class=\"dataframe\">\n",
              "  <thead>\n",
              "    <tr style=\"text-align: right;\">\n",
              "      <th></th>\n",
              "      <th>totmou</th>\n",
              "      <th>totrev</th>\n",
              "      <th>creditcd_x</th>\n",
              "      <th>eqpdays</th>\n",
              "      <th>custcare_Mean</th>\n",
              "      <th>new_cell</th>\n",
              "      <th>area</th>\n",
              "      <th>creditcd_y</th>\n",
              "      <th>Nivel_totrev</th>\n",
              "    </tr>\n",
              "    <tr>\n",
              "      <th>Customer_ID</th>\n",
              "      <th></th>\n",
              "      <th></th>\n",
              "      <th></th>\n",
              "      <th></th>\n",
              "      <th></th>\n",
              "      <th></th>\n",
              "      <th></th>\n",
              "      <th></th>\n",
              "      <th></th>\n",
              "    </tr>\n",
              "  </thead>\n",
              "  <tbody>\n",
              "    <tr>\n",
              "      <th>1069232</th>\n",
              "      <td>13552.0</td>\n",
              "      <td>1172.25</td>\n",
              "      <td>N</td>\n",
              "      <td>83</td>\n",
              "      <td>3.666667</td>\n",
              "      <td>U</td>\n",
              "      <td>ATLANTIC_SOUTH_AREA.csv</td>\n",
              "      <td>N</td>\n",
              "      <td>Alto</td>\n",
              "    </tr>\n",
              "    <tr>\n",
              "      <th>1043846</th>\n",
              "      <td>7294.0</td>\n",
              "      <td>1495.18</td>\n",
              "      <td>Y</td>\n",
              "      <td>460</td>\n",
              "      <td>0.000000</td>\n",
              "      <td>U</td>\n",
              "      <td>ATLANTIC_SOUTH_AREA.csv</td>\n",
              "      <td>Y</td>\n",
              "      <td>Alto</td>\n",
              "    </tr>\n",
              "    <tr>\n",
              "      <th>1008539</th>\n",
              "      <td>4078.0</td>\n",
              "      <td>1257.05</td>\n",
              "      <td>Y</td>\n",
              "      <td>1019</td>\n",
              "      <td>0.000000</td>\n",
              "      <td>N</td>\n",
              "      <td>ATLANTIC_SOUTH_AREA.csv</td>\n",
              "      <td>Y</td>\n",
              "      <td>Alto</td>\n",
              "    </tr>\n",
              "    <tr>\n",
              "      <th>1068315</th>\n",
              "      <td>5124.0</td>\n",
              "      <td>652.27</td>\n",
              "      <td>N</td>\n",
              "      <td>377</td>\n",
              "      <td>0.000000</td>\n",
              "      <td>U</td>\n",
              "      <td>ATLANTIC_SOUTH_AREA.csv</td>\n",
              "      <td>N</td>\n",
              "      <td>Medio</td>\n",
              "    </tr>\n",
              "    <tr>\n",
              "      <th>1074220</th>\n",
              "      <td>6648.0</td>\n",
              "      <td>590.21</td>\n",
              "      <td>N</td>\n",
              "      <td>295</td>\n",
              "      <td>1.666667</td>\n",
              "      <td>U</td>\n",
              "      <td>ATLANTIC_SOUTH_AREA.csv</td>\n",
              "      <td>N</td>\n",
              "      <td>Medio</td>\n",
              "    </tr>\n",
              "    <tr>\n",
              "      <th>...</th>\n",
              "      <td>...</td>\n",
              "      <td>...</td>\n",
              "      <td>...</td>\n",
              "      <td>...</td>\n",
              "      <td>...</td>\n",
              "      <td>...</td>\n",
              "      <td>...</td>\n",
              "      <td>...</td>\n",
              "      <td>...</td>\n",
              "    </tr>\n",
              "    <tr>\n",
              "      <th>1093180</th>\n",
              "      <td>7333.0</td>\n",
              "      <td>372.45</td>\n",
              "      <td>Y</td>\n",
              "      <td>229</td>\n",
              "      <td>3.000000</td>\n",
              "      <td>U</td>\n",
              "      <td>TENNESSEE_AREA.csv</td>\n",
              "      <td>Y</td>\n",
              "      <td>Bajo</td>\n",
              "    </tr>\n",
              "    <tr>\n",
              "      <th>1018795</th>\n",
              "      <td>4445.0</td>\n",
              "      <td>909.32</td>\n",
              "      <td>Y</td>\n",
              "      <td>692</td>\n",
              "      <td>0.000000</td>\n",
              "      <td>U</td>\n",
              "      <td>TENNESSEE_AREA.csv</td>\n",
              "      <td>Y</td>\n",
              "      <td>Medio</td>\n",
              "    </tr>\n",
              "    <tr>\n",
              "      <th>1055110</th>\n",
              "      <td>12871.0</td>\n",
              "      <td>899.95</td>\n",
              "      <td>N</td>\n",
              "      <td>18</td>\n",
              "      <td>9.666667</td>\n",
              "      <td>U</td>\n",
              "      <td>TENNESSEE_AREA.csv</td>\n",
              "      <td>N</td>\n",
              "      <td>Medio</td>\n",
              "    </tr>\n",
              "    <tr>\n",
              "      <th>1078247</th>\n",
              "      <td>1623.0</td>\n",
              "      <td>142.95</td>\n",
              "      <td>Y</td>\n",
              "      <td>166</td>\n",
              "      <td>0.333333</td>\n",
              "      <td>U</td>\n",
              "      <td>TENNESSEE_AREA.csv</td>\n",
              "      <td>Y</td>\n",
              "      <td>Bajo</td>\n",
              "    </tr>\n",
              "    <tr>\n",
              "      <th>1061746</th>\n",
              "      <td>3355.0</td>\n",
              "      <td>803.35</td>\n",
              "      <td>Y</td>\n",
              "      <td>418</td>\n",
              "      <td>0.000000</td>\n",
              "      <td>U</td>\n",
              "      <td>TENNESSEE_AREA.csv</td>\n",
              "      <td>Y</td>\n",
              "      <td>Medio</td>\n",
              "    </tr>\n",
              "  </tbody>\n",
              "</table>\n",
              "<p>9997 rows × 9 columns</p>\n",
              "</div>"
            ],
            "text/plain": [
              "              totmou   totrev creditcd_x  eqpdays  custcare_Mean new_cell  \\\n",
              "Customer_ID                                                                 \n",
              "1069232      13552.0  1172.25          N       83       3.666667        U   \n",
              "1043846       7294.0  1495.18          Y      460       0.000000        U   \n",
              "1008539       4078.0  1257.05          Y     1019       0.000000        N   \n",
              "1068315       5124.0   652.27          N      377       0.000000        U   \n",
              "1074220       6648.0   590.21          N      295       1.666667        U   \n",
              "...              ...      ...        ...      ...            ...      ...   \n",
              "1093180       7333.0   372.45          Y      229       3.000000        U   \n",
              "1018795       4445.0   909.32          Y      692       0.000000        U   \n",
              "1055110      12871.0   899.95          N       18       9.666667        U   \n",
              "1078247       1623.0   142.95          Y      166       0.333333        U   \n",
              "1061746       3355.0   803.35          Y      418       0.000000        U   \n",
              "\n",
              "                                area creditcd_y Nivel_totrev  \n",
              "Customer_ID                                                   \n",
              "1069232      ATLANTIC_SOUTH_AREA.csv          N         Alto  \n",
              "1043846      ATLANTIC_SOUTH_AREA.csv          Y         Alto  \n",
              "1008539      ATLANTIC_SOUTH_AREA.csv          Y         Alto  \n",
              "1068315      ATLANTIC_SOUTH_AREA.csv          N        Medio  \n",
              "1074220      ATLANTIC_SOUTH_AREA.csv          N        Medio  \n",
              "...                              ...        ...          ...  \n",
              "1093180           TENNESSEE_AREA.csv          Y         Bajo  \n",
              "1018795           TENNESSEE_AREA.csv          Y        Medio  \n",
              "1055110           TENNESSEE_AREA.csv          N        Medio  \n",
              "1078247           TENNESSEE_AREA.csv          Y         Bajo  \n",
              "1061746           TENNESSEE_AREA.csv          Y        Medio  \n",
              "\n",
              "[9997 rows x 9 columns]"
            ]
          },
          "execution_count": 62,
          "metadata": {},
          "output_type": "execute_result"
        }
      ],
      "source": [
        "df_con_etiquetas"
      ]
    },
    {
      "cell_type": "markdown",
      "metadata": {
        "id": "Ndjs7FmF0BXP"
      },
      "source": [
        "### Visualización de total de llamadas y total de ingresos\n",
        "\n",
        "Ya hemos respondido satisfactoriamente a nuestra pregunta original. Sin embargo, no es necesario solamente\n",
        "analizar los datos en formato tabular. Python contiene una funcionalidad que le permite analizar sus datos\n",
        "visualmente también.\n",
        "\n",
        "Usaremos la funcionalidad de pandas sobre la librería estándar de graficación de Python, `matplotlib`. Vamos\n",
        "a importar la librería e instruir a Jupyter que muestre los gráficos en línea (es decir, mostrar los gráficos en\n",
        "la pantalla del cuaderno para que podamos verlos mientras ejecutamos el código):\n",
        "\n"
      ]
    },
    {
      "cell_type": "code",
      "execution_count": 63,
      "metadata": {
        "colab": {
          "base_uri": "https://localhost:8080/"
        },
        "id": "4Bs-y42a0BXP",
        "outputId": "25cf1d7e-d0bd-4c5b-c62f-7b18fe625c6f",
        "scrolled": true
      },
      "outputs": [
        {
          "name": "stdout",
          "output_type": "stream",
          "text": [
            "['Data_Frame', 'In', 'Out', 'Serie1', '_', '_10', '_13', '_14', '_15', '_16', '_17', '_18', '_20', '_21', '_22', '_23', '_24', '_25', '_26', '_27', '_28', '_29', '_3', '_30', '_31', '_32', '_34', '_35', '_37', '_38', '_39', '_4', '_40', '_41', '_42', '_43', '_44', '_45', '_46', '_47', '_48', '_49', '_5', '_50', '_53', '_54', '_58', '_59', '_62', '_7', '__', '___', '__builtin__', '__builtins__', '__doc__', '__loader__', '__name__', '__package__', '__spec__', '__vsc_ipynb_file__', '_dh', '_exit_code', '_i', '_i1', '_i10', '_i11', '_i12', '_i13', '_i14', '_i15', '_i16', '_i17', '_i18', '_i19', '_i2', '_i20', '_i21', '_i22', '_i23', '_i24', '_i25', '_i26', '_i27', '_i28', '_i29', '_i3', '_i30', '_i31', '_i32', '_i33', '_i34', '_i35', '_i36', '_i37', '_i38', '_i39', '_i4', '_i40', '_i41', '_i42', '_i43', '_i44', '_i45', '_i46', '_i47', '_i48', '_i49', '_i5', '_i50', '_i51', '_i52', '_i53', '_i54', '_i55', '_i56', '_i57', '_i58', '_i59', '_i6', '_i60', '_i61', '_i62', '_i63', '_i7', '_i8', '_i9', '_ih', '_ii', '_iii', '_oh', 'agr_df', 'areas', 'california_north', 'df', 'df3', 'df_con_etiquetas', 'df_relevante', 'exit', 'get_ipython', 'group_df', 'group_df1', 'i', 'item', 'lista_de_df', 'lista_df', 'listado', 'new_ingland', 'np', 'open', 'os', 'pd', 'pencentiles50', 'perdidos', 'plt', 'promedio', 'quit', 'sin_registros', 'temp_df', 'umbral25', 'umbral75', 'umbral_punto', 'umbral_punto1', 'umbral_punto2']\n"
          ]
        }
      ],
      "source": [
        "modules = dir()\n",
        "print(modules)"
      ]
    },
    {
      "cell_type": "code",
      "execution_count": 64,
      "metadata": {
        "id": "lw7hcXBG0BXQ"
      },
      "outputs": [],
      "source": [
        "import matplotlib.pyplot as plt\n",
        "# Graficar en el cuaderno\n",
        "%matplotlib inline"
      ]
    },
    {
      "cell_type": "markdown",
      "metadata": {
        "id": "xBTla6wW0BXQ"
      },
      "source": [
        "#### Histograma"
      ]
    },
    {
      "cell_type": "code",
      "execution_count": 65,
      "metadata": {
        "colab": {
          "base_uri": "https://localhost:8080/",
          "height": 491
        },
        "id": "XnukOtGv0BXQ",
        "outputId": "2806974b-1783-41b3-d7eb-e3355c3fdee6",
        "scrolled": false
      },
      "outputs": [
        {
          "data": {
            "image/png": "[encoded data removed]",
            "text/plain": [
              "<Figure size 432x288 with 1 Axes>"
            ]
          },
          "metadata": {},
          "output_type": "display_data"
        }
      ],
      "source": [
        "plt.style.use('ggplot')\n",
        "plt.hist(df3[\"totrev\"],bins=13,color=\"#77a0a6\")\n",
        "plt.title('Histograma de variable totrev')\n",
        "plt.xlabel(\"totrev\");plt.ylabel(\"Frecuencia\")\n",
        "plt.show()"
      ]
    },
    {
      "cell_type": "code",
      "execution_count": 66,
      "metadata": {
        "colab": {
          "base_uri": "https://localhost:8080/"
        },
        "id": "5tlIq4sa0BXQ",
        "outputId": "93a484f3-9360-4863-fe7a-14a1aae3fea4"
      },
      "outputs": [
        {
          "name": "stdout",
          "output_type": "stream",
          "text": [
            "['Solarize_Light2', '_classic_test_patch', '_mpl-gallery', '_mpl-gallery-nogrid', 'bmh', 'classic', 'dark_background', 'fast', 'fivethirtyeight', 'ggplot', 'grayscale', 'seaborn', 'seaborn-bright', 'seaborn-colorblind', 'seaborn-dark', 'seaborn-dark-palette', 'seaborn-darkgrid', 'seaborn-deep', 'seaborn-muted', 'seaborn-notebook', 'seaborn-paper', 'seaborn-pastel', 'seaborn-poster', 'seaborn-talk', 'seaborn-ticks', 'seaborn-v0_8', 'seaborn-v0_8-bright', 'seaborn-v0_8-colorblind', 'seaborn-v0_8-dark', 'seaborn-v0_8-dark-palette', 'seaborn-v0_8-darkgrid', 'seaborn-v0_8-deep', 'seaborn-v0_8-muted', 'seaborn-v0_8-notebook', 'seaborn-v0_8-paper', 'seaborn-v0_8-pastel', 'seaborn-v0_8-poster', 'seaborn-v0_8-talk', 'seaborn-v0_8-ticks', 'seaborn-v0_8-white', 'seaborn-v0_8-whitegrid', 'seaborn-white', 'seaborn-whitegrid', 'tableau-colorblind10']\n"
          ]
        }
      ],
      "source": [
        "print(plt.style.available)"
      ]
    },
    {
      "cell_type": "markdown",
      "metadata": {
        "id": "KOTkYq_d0BXR"
      },
      "source": [
        "#### Boxplot"
      ]
    },
    {
      "cell_type": "code",
      "execution_count": 67,
      "metadata": {
        "colab": {
          "base_uri": "https://localhost:8080/",
          "height": 453
        },
        "id": "kRLYvf0H0BXR",
        "outputId": "242fd4ce-9cf7-433e-f8f4-daec13448362",
        "scrolled": true
      },
      "outputs": [
        {
          "data": {
            "image/png": "[encoded data removed]",
            "text/plain": [
              "<Figure size 432x288 with 1 Axes>"
            ]
          },
          "metadata": {},
          "output_type": "display_data"
        }
      ],
      "source": [
        "plt.style.use('ggplot')\n",
        "plt.boxplot(df3[\"totrev\"])\n",
        "plt.title('Boxplot de variable totrev')\n",
        "plt.show()"
      ]
    },
    {
      "cell_type": "markdown",
      "metadata": {
        "id": "PH2JdOp10BXR"
      },
      "source": [
        "#### Gráficas a partir de `groupby`"
      ]
    },
    {
      "cell_type": "code",
      "execution_count": 68,
      "metadata": {
        "colab": {
          "base_uri": "https://localhost:8080/",
          "height": 703
        },
        "id": "JC55gWLw0BXR",
        "outputId": "e7bd5c61-211d-426a-8222-684ce92b6f25",
        "scrolled": true
      },
      "outputs": [
        {
          "data": {
            "image/png": "[encoded data removed]",
            "text/plain": [
              "<Figure size 720x576 with 1 Axes>"
            ]
          },
          "metadata": {},
          "output_type": "display_data"
        }
      ],
      "source": [
        "df4=df_con_etiquetas.groupby(['area','Nivel_totrev'])[['totmou']].mean()\n",
        "df4.plot(kind='barh',figsize=(10,8))\n",
        "plt.show()"
      ]
    },
    {
      "cell_type": "markdown",
      "metadata": {
        "id": "8Xu9ijDH0BXS"
      },
      "source": [
        "#### Gráficas de `pandas`  "
      ]
    },
    {
      "cell_type": "markdown",
      "metadata": {
        "id": "zLdYkPHJ0BXS"
      },
      "source": [
        "El modulo`.plot()` genera por defecto una gráfica de línea, existen varios gráficos para los `DataFrameGroup`\n",
        "\n",
        "    - 'line' : Gráfica de línea\n",
        "    - 'bar' :  Diagrama de barras vertical\n",
        "    - 'barh' : Diagrama de barras horizontal\n",
        "    - 'hist' : histograma\n",
        "    - 'box' : boxplot\n",
        "    - 'kde' : Kernel de densidad\n",
        "    - 'area' : Gráfica de área\n",
        "    - 'pie' : Diagrama de torta\n",
        "    - 'scatter' : Diagrama de dispersión\n",
        "    - 'hexbin' : Diagrama de hexágonos"
      ]
    },
    {
      "cell_type": "code",
      "execution_count": 69,
      "metadata": {
        "colab": {
          "base_uri": "https://localhost:8080/"
        },
        "id": "4eEnsm1i0BXS",
        "outputId": "07e1dae5-b7d1-4398-9803-41b351190bc3"
      },
      "outputs": [
        {
          "data": {
            "text/plain": [
              "Index(['totmou', 'totrev', 'creditcd_x', 'eqpdays', 'custcare_Mean',\n",
              "       'new_cell', 'area', 'creditcd_y'],\n",
              "      dtype='object')"
            ]
          },
          "execution_count": 69,
          "metadata": {},
          "output_type": "execute_result"
        }
      ],
      "source": [
        "df3.columns"
      ]
    },
    {
      "cell_type": "code",
      "execution_count": 70,
      "metadata": {
        "colab": {
          "base_uri": "https://localhost:8080/",
          "height": 178
        },
        "id": "iSIT_ZMGgLqe",
        "outputId": "a87112ed-bc85-4f36-e267-7298be46ecf4"
      },
      "outputs": [
        {
          "data": {
            "text/plain": [
              "Y    6946\n",
              "N    3051\n",
              "Name: creditcd_x, dtype: int64"
            ]
          },
          "execution_count": 70,
          "metadata": {},
          "output_type": "execute_result"
        }
      ],
      "source": [
        "df3[\"creditcd_x\"].value_counts()"
      ]
    },
    {
      "cell_type": "code",
      "execution_count": 71,
      "metadata": {
        "colab": {
          "base_uri": "https://localhost:8080/",
          "height": 406
        },
        "id": "AO5Bb8zI0BXS",
        "outputId": "1156ab66-2dc3-4699-bfb0-3599c4632005",
        "scrolled": true
      },
      "outputs": [
        {
          "data": {
            "image/png": "[encoded data removed]",
            "text/plain": [
              "<Figure size 432x288 with 1 Axes>"
            ]
          },
          "metadata": {},
          "output_type": "display_data"
        }
      ],
      "source": [
        "df3[\"creditcd_x\"].value_counts().plot(kind=\"pie\")\n",
        "plt.show()"
      ]
    },
    {
      "cell_type": "markdown",
      "metadata": {
        "id": "8y_WES0G0BXT"
      },
      "source": [
        "Revisando la relación entre las dos variables `totrev` y `totmou`"
      ]
    },
    {
      "cell_type": "code",
      "execution_count": 72,
      "metadata": {
        "colab": {
          "base_uri": "https://localhost:8080/",
          "height": 485
        },
        "id": "D5wsj3Et0BXT",
        "outputId": "22dc7004-f536-489d-f7b2-8e44d5c7f23c"
      },
      "outputs": [
        {
          "data": {
            "text/plain": [
              "<AxesSubplot:xlabel='totrev', ylabel='totmou'>"
            ]
          },
          "execution_count": 72,
          "metadata": {},
          "output_type": "execute_result"
        },
        {
          "data": {
            "image/png": "[encoded data removed]",
            "text/plain": [
              "<Figure size 432x288 with 1 Axes>"
            ]
          },
          "metadata": {},
          "output_type": "display_data"
        }
      ],
      "source": [
        "df3.plot(kind=\"scatter\",x='totrev',y='totmou',c='#77a0a6')"
      ]
    },
    {
      "cell_type": "markdown",
      "metadata": {
        "id": "JO9lg-5e0BXT"
      },
      "source": [
        "### `Seaborn`"
      ]
    },
    {
      "cell_type": "code",
      "execution_count": 73,
      "metadata": {},
      "outputs": [],
      "source": [
        "# pip install seaborn "
      ]
    },
    {
      "cell_type": "code",
      "execution_count": 74,
      "metadata": {
        "colab": {
          "base_uri": "https://localhost:8080/",
          "height": 485
        },
        "id": "Ui5NZFDa0BXT",
        "outputId": "4397f344-923d-4f0b-bdf8-56bfa81ebe28",
        "scrolled": true
      },
      "outputs": [
        {
          "name": "stderr",
          "output_type": "stream",
          "text": [
            "c:\\Users\\nib1l\\anaconda3\\lib\\site-packages\\scipy\\__init__.py:146: UserWarning: A NumPy version >=1.16.5 and <1.23.0 is required for this version of SciPy (detected version 1.26.4\n",
            "  warnings.warn(f\"A NumPy version >={np_minversion} and <{np_maxversion}\"\n",
            "c:\\Users\\nib1l\\anaconda3\\lib\\site-packages\\seaborn\\_decorators.py:36: FutureWarning: Pass the following variable as a keyword arg: x. From version 0.12, the only valid positional argument will be `data`, and passing other arguments without an explicit keyword will result in an error or misinterpretation.\n",
            "  warnings.warn(\n"
          ]
        },
        {
          "data": {
            "text/plain": [
              "<AxesSubplot:xlabel='totrev'>"
            ]
          },
          "execution_count": 74,
          "metadata": {},
          "output_type": "execute_result"
        },
        {
          "data": {
            "image/png": "[encoded data removed]",
            "text/plain": [
              "<Figure size 432x288 with 1 Axes>"
            ]
          },
          "metadata": {},
          "output_type": "display_data"
        }
      ],
      "source": [
        "import seaborn as sns\n",
        "sns.boxplot(df3[\"totrev\"],orient='h')\n"
      ]
    },
    {
      "cell_type": "markdown",
      "metadata": {
        "id": "Bj3xV2-w0BXU"
      },
      "source": [
        "### Gráficas de parcela"
      ]
    },
    {
      "cell_type": "code",
      "execution_count": 75,
      "metadata": {
        "colab": {
          "base_uri": "https://localhost:8080/",
          "height": 455
        },
        "id": "ynog7QYl0BXU",
        "outputId": "7d5a74a1-5536-47c2-f98b-9f8563847737"
      },
      "outputs": [
        {
          "data": {
            "text/html": [
              "<div>\n",
              "<style scoped>\n",
              "    .dataframe tbody tr th:only-of-type {\n",
              "        vertical-align: middle;\n",
              "    }\n",
              "\n",
              "    .dataframe tbody tr th {\n",
              "        vertical-align: top;\n",
              "    }\n",
              "\n",
              "    .dataframe thead th {\n",
              "        text-align: right;\n",
              "    }\n",
              "</style>\n",
              "<table border=\"1\" class=\"dataframe\">\n",
              "  <thead>\n",
              "    <tr style=\"text-align: right;\">\n",
              "      <th></th>\n",
              "      <th>totmou</th>\n",
              "      <th>totrev</th>\n",
              "      <th>creditcd_x</th>\n",
              "      <th>eqpdays</th>\n",
              "      <th>custcare_Mean</th>\n",
              "      <th>new_cell</th>\n",
              "      <th>area</th>\n",
              "      <th>creditcd_y</th>\n",
              "    </tr>\n",
              "    <tr>\n",
              "      <th>Customer_ID</th>\n",
              "      <th></th>\n",
              "      <th></th>\n",
              "      <th></th>\n",
              "      <th></th>\n",
              "      <th></th>\n",
              "      <th></th>\n",
              "      <th></th>\n",
              "      <th></th>\n",
              "    </tr>\n",
              "  </thead>\n",
              "  <tbody>\n",
              "    <tr>\n",
              "      <th>1082423</th>\n",
              "      <td>7269.0</td>\n",
              "      <td>906.58</td>\n",
              "      <td>Y</td>\n",
              "      <td>371</td>\n",
              "      <td>14.333333</td>\n",
              "      <td>U</td>\n",
              "      <td>NEW_ENGLAND_AREA.csv</td>\n",
              "      <td>Y</td>\n",
              "    </tr>\n",
              "    <tr>\n",
              "      <th>1069232</th>\n",
              "      <td>13552.0</td>\n",
              "      <td>1172.25</td>\n",
              "      <td>N</td>\n",
              "      <td>83</td>\n",
              "      <td>3.666667</td>\n",
              "      <td>U</td>\n",
              "      <td>ATLANTIC_SOUTH_AREA.csv</td>\n",
              "      <td>N</td>\n",
              "    </tr>\n",
              "    <tr>\n",
              "      <th>1031705</th>\n",
              "      <td>4152.0</td>\n",
              "      <td>577.39</td>\n",
              "      <td>Y</td>\n",
              "      <td>675</td>\n",
              "      <td>3.000000</td>\n",
              "      <td>U</td>\n",
              "      <td>NEW_YORK_CITY_AREA.csv</td>\n",
              "      <td>Y</td>\n",
              "    </tr>\n",
              "    <tr>\n",
              "      <th>1089806</th>\n",
              "      <td>1863.0</td>\n",
              "      <td>294.26</td>\n",
              "      <td>Y</td>\n",
              "      <td>218</td>\n",
              "      <td>11.000000</td>\n",
              "      <td>U</td>\n",
              "      <td>CHICAGO_AREA.csv</td>\n",
              "      <td>Y</td>\n",
              "    </tr>\n",
              "    <tr>\n",
              "      <th>1076695</th>\n",
              "      <td>4155.0</td>\n",
              "      <td>433.16</td>\n",
              "      <td>N</td>\n",
              "      <td>222</td>\n",
              "      <td>0.000000</td>\n",
              "      <td>U</td>\n",
              "      <td>NORTH_FLORIDA_AREA.csv</td>\n",
              "      <td>N</td>\n",
              "    </tr>\n",
              "    <tr>\n",
              "      <th>...</th>\n",
              "      <td>...</td>\n",
              "      <td>...</td>\n",
              "      <td>...</td>\n",
              "      <td>...</td>\n",
              "      <td>...</td>\n",
              "      <td>...</td>\n",
              "      <td>...</td>\n",
              "      <td>...</td>\n",
              "    </tr>\n",
              "    <tr>\n",
              "      <th>1027614</th>\n",
              "      <td>2570.0</td>\n",
              "      <td>484.31</td>\n",
              "      <td>Y</td>\n",
              "      <td>611</td>\n",
              "      <td>0.666667</td>\n",
              "      <td>U</td>\n",
              "      <td>CHICAGO_AREA.csv</td>\n",
              "      <td>Y</td>\n",
              "    </tr>\n",
              "    <tr>\n",
              "      <th>1098422</th>\n",
              "      <td>2105.0</td>\n",
              "      <td>583.36</td>\n",
              "      <td>Y</td>\n",
              "      <td>1243</td>\n",
              "      <td>0.000000</td>\n",
              "      <td>U</td>\n",
              "      <td>SOUTHWEST_AREA.csv</td>\n",
              "      <td>Y</td>\n",
              "    </tr>\n",
              "    <tr>\n",
              "      <th>1096497</th>\n",
              "      <td>3690.0</td>\n",
              "      <td>294.29</td>\n",
              "      <td>Y</td>\n",
              "      <td>212</td>\n",
              "      <td>0.666667</td>\n",
              "      <td>Y</td>\n",
              "      <td>NEW_ENGLAND_AREA.csv</td>\n",
              "      <td>Y</td>\n",
              "    </tr>\n",
              "    <tr>\n",
              "      <th>1087248</th>\n",
              "      <td>3333.0</td>\n",
              "      <td>233.08</td>\n",
              "      <td>Y</td>\n",
              "      <td>290</td>\n",
              "      <td>0.000000</td>\n",
              "      <td>U</td>\n",
              "      <td>CALIFORNIA_NORTH_AREA.csv</td>\n",
              "      <td>Y</td>\n",
              "    </tr>\n",
              "    <tr>\n",
              "      <th>1099003</th>\n",
              "      <td>5025.0</td>\n",
              "      <td>1436.49</td>\n",
              "      <td>Y</td>\n",
              "      <td>1029</td>\n",
              "      <td>0.333333</td>\n",
              "      <td>U</td>\n",
              "      <td>LOS_ANGELES_AREA.csv</td>\n",
              "      <td>Y</td>\n",
              "    </tr>\n",
              "  </tbody>\n",
              "</table>\n",
              "<p>9997 rows × 8 columns</p>\n",
              "</div>"
            ],
            "text/plain": [
              "              totmou   totrev creditcd_x  eqpdays  custcare_Mean new_cell  \\\n",
              "Customer_ID                                                                 \n",
              "1082423       7269.0   906.58          Y      371      14.333333        U   \n",
              "1069232      13552.0  1172.25          N       83       3.666667        U   \n",
              "1031705       4152.0   577.39          Y      675       3.000000        U   \n",
              "1089806       1863.0   294.26          Y      218      11.000000        U   \n",
              "1076695       4155.0   433.16          N      222       0.000000        U   \n",
              "...              ...      ...        ...      ...            ...      ...   \n",
              "1027614       2570.0   484.31          Y      611       0.666667        U   \n",
              "1098422       2105.0   583.36          Y     1243       0.000000        U   \n",
              "1096497       3690.0   294.29          Y      212       0.666667        Y   \n",
              "1087248       3333.0   233.08          Y      290       0.000000        U   \n",
              "1099003       5025.0  1436.49          Y     1029       0.333333        U   \n",
              "\n",
              "                                  area creditcd_y  \n",
              "Customer_ID                                        \n",
              "1082423           NEW_ENGLAND_AREA.csv          Y  \n",
              "1069232        ATLANTIC_SOUTH_AREA.csv          N  \n",
              "1031705         NEW_YORK_CITY_AREA.csv          Y  \n",
              "1089806               CHICAGO_AREA.csv          Y  \n",
              "1076695         NORTH_FLORIDA_AREA.csv          N  \n",
              "...                                ...        ...  \n",
              "1027614               CHICAGO_AREA.csv          Y  \n",
              "1098422             SOUTHWEST_AREA.csv          Y  \n",
              "1096497           NEW_ENGLAND_AREA.csv          Y  \n",
              "1087248      CALIFORNIA_NORTH_AREA.csv          Y  \n",
              "1099003           LOS_ANGELES_AREA.csv          Y  \n",
              "\n",
              "[9997 rows x 8 columns]"
            ]
          },
          "execution_count": 75,
          "metadata": {},
          "output_type": "execute_result"
        }
      ],
      "source": [
        "df3"
      ]
    },
    {
      "cell_type": "code",
      "execution_count": 76,
      "metadata": {},
      "outputs": [
        {
          "data": {
            "text/html": [
              "<div>\n",
              "<style scoped>\n",
              "    .dataframe tbody tr th:only-of-type {\n",
              "        vertical-align: middle;\n",
              "    }\n",
              "\n",
              "    .dataframe tbody tr th {\n",
              "        vertical-align: top;\n",
              "    }\n",
              "\n",
              "    .dataframe thead th {\n",
              "        text-align: right;\n",
              "    }\n",
              "</style>\n",
              "<table border=\"1\" class=\"dataframe\">\n",
              "  <thead>\n",
              "    <tr style=\"text-align: right;\">\n",
              "      <th></th>\n",
              "      <th>totmou</th>\n",
              "      <th>totrev</th>\n",
              "      <th>creditcd_x</th>\n",
              "      <th>eqpdays</th>\n",
              "      <th>custcare_Mean</th>\n",
              "      <th>new_cell</th>\n",
              "      <th>area</th>\n",
              "    </tr>\n",
              "    <tr>\n",
              "      <th>Customer_ID</th>\n",
              "      <th></th>\n",
              "      <th></th>\n",
              "      <th></th>\n",
              "      <th></th>\n",
              "      <th></th>\n",
              "      <th></th>\n",
              "      <th></th>\n",
              "    </tr>\n",
              "  </thead>\n",
              "  <tbody>\n",
              "    <tr>\n",
              "      <th>1082423</th>\n",
              "      <td>7269.0</td>\n",
              "      <td>906.58</td>\n",
              "      <td>Y</td>\n",
              "      <td>371</td>\n",
              "      <td>14.333333</td>\n",
              "      <td>U</td>\n",
              "      <td>NEW_ENGLAND_AREA.csv</td>\n",
              "    </tr>\n",
              "    <tr>\n",
              "      <th>1069232</th>\n",
              "      <td>13552.0</td>\n",
              "      <td>1172.25</td>\n",
              "      <td>N</td>\n",
              "      <td>83</td>\n",
              "      <td>3.666667</td>\n",
              "      <td>U</td>\n",
              "      <td>ATLANTIC_SOUTH_AREA.csv</td>\n",
              "    </tr>\n",
              "    <tr>\n",
              "      <th>1031705</th>\n",
              "      <td>4152.0</td>\n",
              "      <td>577.39</td>\n",
              "      <td>Y</td>\n",
              "      <td>675</td>\n",
              "      <td>3.000000</td>\n",
              "      <td>U</td>\n",
              "      <td>NEW_YORK_CITY_AREA.csv</td>\n",
              "    </tr>\n",
              "    <tr>\n",
              "      <th>1089806</th>\n",
              "      <td>1863.0</td>\n",
              "      <td>294.26</td>\n",
              "      <td>Y</td>\n",
              "      <td>218</td>\n",
              "      <td>11.000000</td>\n",
              "      <td>U</td>\n",
              "      <td>CHICAGO_AREA.csv</td>\n",
              "    </tr>\n",
              "    <tr>\n",
              "      <th>1076695</th>\n",
              "      <td>4155.0</td>\n",
              "      <td>433.16</td>\n",
              "      <td>N</td>\n",
              "      <td>222</td>\n",
              "      <td>0.000000</td>\n",
              "      <td>U</td>\n",
              "      <td>NORTH_FLORIDA_AREA.csv</td>\n",
              "    </tr>\n",
              "    <tr>\n",
              "      <th>...</th>\n",
              "      <td>...</td>\n",
              "      <td>...</td>\n",
              "      <td>...</td>\n",
              "      <td>...</td>\n",
              "      <td>...</td>\n",
              "      <td>...</td>\n",
              "      <td>...</td>\n",
              "    </tr>\n",
              "    <tr>\n",
              "      <th>1027614</th>\n",
              "      <td>2570.0</td>\n",
              "      <td>484.31</td>\n",
              "      <td>Y</td>\n",
              "      <td>611</td>\n",
              "      <td>0.666667</td>\n",
              "      <td>U</td>\n",
              "      <td>CHICAGO_AREA.csv</td>\n",
              "    </tr>\n",
              "    <tr>\n",
              "      <th>1098422</th>\n",
              "      <td>2105.0</td>\n",
              "      <td>583.36</td>\n",
              "      <td>Y</td>\n",
              "      <td>1243</td>\n",
              "      <td>0.000000</td>\n",
              "      <td>U</td>\n",
              "      <td>SOUTHWEST_AREA.csv</td>\n",
              "    </tr>\n",
              "    <tr>\n",
              "      <th>1096497</th>\n",
              "      <td>3690.0</td>\n",
              "      <td>294.29</td>\n",
              "      <td>Y</td>\n",
              "      <td>212</td>\n",
              "      <td>0.666667</td>\n",
              "      <td>Y</td>\n",
              "      <td>NEW_ENGLAND_AREA.csv</td>\n",
              "    </tr>\n",
              "    <tr>\n",
              "      <th>1087248</th>\n",
              "      <td>3333.0</td>\n",
              "      <td>233.08</td>\n",
              "      <td>Y</td>\n",
              "      <td>290</td>\n",
              "      <td>0.000000</td>\n",
              "      <td>U</td>\n",
              "      <td>CALIFORNIA_NORTH_AREA.csv</td>\n",
              "    </tr>\n",
              "    <tr>\n",
              "      <th>1099003</th>\n",
              "      <td>5025.0</td>\n",
              "      <td>1436.49</td>\n",
              "      <td>Y</td>\n",
              "      <td>1029</td>\n",
              "      <td>0.333333</td>\n",
              "      <td>U</td>\n",
              "      <td>LOS_ANGELES_AREA.csv</td>\n",
              "    </tr>\n",
              "  </tbody>\n",
              "</table>\n",
              "<p>9997 rows × 7 columns</p>\n",
              "</div>"
            ],
            "text/plain": [
              "              totmou   totrev creditcd_x  eqpdays  custcare_Mean new_cell  \\\n",
              "Customer_ID                                                                 \n",
              "1082423       7269.0   906.58          Y      371      14.333333        U   \n",
              "1069232      13552.0  1172.25          N       83       3.666667        U   \n",
              "1031705       4152.0   577.39          Y      675       3.000000        U   \n",
              "1089806       1863.0   294.26          Y      218      11.000000        U   \n",
              "1076695       4155.0   433.16          N      222       0.000000        U   \n",
              "...              ...      ...        ...      ...            ...      ...   \n",
              "1027614       2570.0   484.31          Y      611       0.666667        U   \n",
              "1098422       2105.0   583.36          Y     1243       0.000000        U   \n",
              "1096497       3690.0   294.29          Y      212       0.666667        Y   \n",
              "1087248       3333.0   233.08          Y      290       0.000000        U   \n",
              "1099003       5025.0  1436.49          Y     1029       0.333333        U   \n",
              "\n",
              "                                  area  \n",
              "Customer_ID                             \n",
              "1082423           NEW_ENGLAND_AREA.csv  \n",
              "1069232        ATLANTIC_SOUTH_AREA.csv  \n",
              "1031705         NEW_YORK_CITY_AREA.csv  \n",
              "1089806               CHICAGO_AREA.csv  \n",
              "1076695         NORTH_FLORIDA_AREA.csv  \n",
              "...                                ...  \n",
              "1027614               CHICAGO_AREA.csv  \n",
              "1098422             SOUTHWEST_AREA.csv  \n",
              "1096497           NEW_ENGLAND_AREA.csv  \n",
              "1087248      CALIFORNIA_NORTH_AREA.csv  \n",
              "1099003           LOS_ANGELES_AREA.csv  \n",
              "\n",
              "[9997 rows x 7 columns]"
            ]
          },
          "execution_count": 76,
          "metadata": {},
          "output_type": "execute_result"
        }
      ],
      "source": [
        "# Eliminar columnas duplicadas\n",
        "df3 = df3.drop(columns=[\"creditcd_y\"])\n",
        "df3"
      ]
    },
    {
      "cell_type": "code",
      "execution_count": 77,
      "metadata": {
        "colab": {
          "base_uri": "https://localhost:8080/",
          "height": 775
        },
        "id": "ftvNGoh90BXU",
        "outputId": "3ecbcef2-b024-4869-e64b-79a64e959ce9",
        "scrolled": true
      },
      "outputs": [
        {
          "data": {
            "text/plain": [
              "<Figure size 8352x288 with 0 Axes>"
            ]
          },
          "metadata": {},
          "output_type": "display_data"
        },
        {
          "data": {
            "image/png": "[encoded data removed]",
            "text/plain": [
              "<Figure size 599.375x540 with 12 Axes>"
            ]
          },
          "metadata": {},
          "output_type": "display_data"
        }
      ],
      "source": [
        "plt.figure(figsize=(116,4))\n",
        "sns.pairplot(data=df3, hue='creditcd_x', vars=['totrev','totmou','eqpdays'])\n",
        "plt.title(\"Parcelas\")\n",
        "plt.show()"
      ]
    },
    {
      "cell_type": "code",
      "execution_count": 78,
      "metadata": {
        "colab": {
          "base_uri": "https://localhost:8080/",
          "height": 450
        },
        "id": "cY-m5tFw0BXU",
        "outputId": "537c881e-3dc8-466c-d19f-876533b62825",
        "scrolled": true
      },
      "outputs": [
        {
          "data": {
            "image/png": "[encoded data removed]",
            "text/plain": [
              "<Figure size 432x288 with 1 Axes>"
            ]
          },
          "metadata": {},
          "output_type": "display_data"
        }
      ],
      "source": [
        "plt.figure(figsize=(6,4))\n",
        "sns.boxplot(x='Nivel_totrev',y='totmou',data=df_con_etiquetas)\n",
        "plt.title('Boxplot múltiple para Nivel de ingresos totales y \\n total de minutos gastados')\n",
        "plt.show()"
      ]
    },
    {
      "cell_type": "code",
      "execution_count": 79,
      "metadata": {
        "colab": {
          "base_uri": "https://localhost:8080/",
          "height": 788
        },
        "id": "ztnW88c10BXV",
        "outputId": "ac46b211-3b16-4bf1-8d38-6503cb93994e",
        "scrolled": true
      },
      "outputs": [
        {
          "data": {
            "text/plain": [
              "<seaborn.axisgrid.FacetGrid at 0x18055f4d070>"
            ]
          },
          "execution_count": 79,
          "metadata": {},
          "output_type": "execute_result"
        },
        {
          "data": {
            "image/png": "[encoded data removed]",
            "text/plain": [
              "<Figure size 576x144 with 1 Axes>"
            ]
          },
          "metadata": {},
          "output_type": "display_data"
        },
        {
          "data": {
            "image/png": "[encoded data removed]",
            "text/plain": [
              "<Figure size 1152x288 with 1 Axes>"
            ]
          },
          "metadata": {},
          "output_type": "display_data"
        }
      ],
      "source": [
        "sns.catplot(y=\"totmou\", x=\"Nivel_totrev\", kind=\"box\",    data=df_con_etiquetas, height=2, aspect=4, palette='Set2')\n",
        "sns.catplot(y=\"totmou\", x=\"Nivel_totrev\", kind=\"violin\", data=df_con_etiquetas, height=4, aspect=4, palette='Set2')"
      ]
    },
    {
      "cell_type": "code",
      "execution_count": 80,
      "metadata": {
        "colab": {
          "base_uri": "https://localhost:8080/",
          "height": 506
        },
        "id": "AUu4oDbG0BXV",
        "outputId": "cdb00a0d-717f-456c-a636-da753d22b315"
      },
      "outputs": [
        {
          "data": {
            "image/png": "[encoded data removed]",
            "text/plain": [
              "<Figure size 779.375x360 with 1 Axes>"
            ]
          },
          "metadata": {},
          "output_type": "display_data"
        }
      ],
      "source": [
        "ax = sns.catplot(y=\"totmou\", x=\"Nivel_totrev\", hue='creditcd_x', kind='point',data=df_con_etiquetas, aspect=2)\n",
        "#ax = sns.catplot(x=\"Nivel_totrev\", kind='count',data=df_con_etiquetas, col='creditcd_x')"
      ]
    },
    {
      "cell_type": "markdown",
      "metadata": {
        "id": "k_jW92Id0BXV"
      },
      "source": [
        "### Ejercicio 5\n",
        "\n",
        "Realice un  boxplot para la variable totmou segmentado por las variable  credict_x y Nivel_totrev"
      ]
    },
    {
      "cell_type": "code",
      "execution_count": 81,
      "metadata": {
        "id": "a3Qd85k40BXV"
      },
      "outputs": [],
      "source": [
        "# realice el ejercicio en este espacio"
      ]
    },
    {
      "cell_type": "markdown",
      "metadata": {
        "id": "enGsAW8y0BXW"
      },
      "source": [
        "## Resumen\n",
        "\n",
        "\n",
        "1. Leer datos desde archivos.\n",
        "2. Agregar y manipular datos .\n",
        "3. Analizar estadísticas de resumen y reunir información.\n",
        "4. Usar matplotlib para crear gráficos para hacer análisis visual, además de otras librerías.\n",
        "\n",
        "Para más información\n",
        "\n",
        "> [https://pandas.pydata.org/pandas-docs/stable/getting_started/index.html](https://pandas.pydata.org/pandas-docs/stable/getting_started/index.html)"
      ]
    }
  ],
  "metadata": {
    "colab": {
      "include_colab_link": true,
      "provenance": []
    },
    "kernelspec": {
      "display_name": "base",
      "language": "python",
      "name": "python3"
    },
    "language_info": {
      "codemirror_mode": {
        "name": "ipython",
        "version": 3
      },
      "file_extension": ".py",
      "mimetype": "text/x-python",
      "name": "python",
      "nbconvert_exporter": "python",
      "pygments_lexer": "ipython3",
      "version": "3.9.12"
    },
    "latex_envs": {
      "LaTeX_envs_menu_present": true,
      "autoclose": false,
      "autocomplete": true,
      "bibliofile": "biblio.bib",
      "cite_by": "apalike",
      "current_citInitial": 1,
      "eqLabelWithNumbers": true,
      "eqNumInitial": 1,
      "hotkeys": {
        "equation": "Ctrl-E",
        "itemize": "Ctrl-I"
      },
      "labels_anchors": false,
      "latex_user_defs": false,
      "report_style_numbering": false,
      "user_envs_cfg": false
    },
    "toc": {
      "base_numbering": 1,
      "nav_menu": {},
      "number_sections": false,
      "sideBar": true,
      "skip_h1_title": false,
      "title_cell": "Table of Contents",
      "title_sidebar": "Contents",
      "toc_cell": false,
      "toc_position": {
        "height": "calc(100% - 180px)",
        "left": "10px",
        "top": "150px",
        "width": "165px"
      },
      "toc_section_display": true,
      "toc_window_display": true
    }
  },
  "nbformat": 4,
  "nbformat_minor": 0
}
