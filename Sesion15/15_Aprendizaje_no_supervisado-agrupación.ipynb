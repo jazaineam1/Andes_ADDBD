{
  "cells": [
    {
      "cell_type": "markdown",
      "id": "6dzM2HlWlMaW",
      "metadata": {
        "id": "6dzM2HlWlMaW"
      },
      "source": [
        "# ***Análisis de Datos y Big data***\n",
        "\n",
        "## ***Universidad de los Andes***\n",
        ">## **Dirección de Educación Continua.**\n",
        ">>## **Formación de habilidades escenciales.**\n",
        "\n",
        "![Imágen1](https://github.com/jazaineam1/Andes_ADDBD/blob/main/Imagenes/Presentaci%C3%B3n-removebg-preview.png?raw=true)\n",
        "\n",
        "**Ver la presentación  [acá](https://github.com/jazaineam1/Andes_ADDBD/raw/main/Sesion15/15_Agrupacion.pdf)**\n",
        "# Clase 15\n",
        "#  Aprendizaje no supervisado\n",
        "## Agrupación K-medias, jerárquica y DBSCAN"
      ]
    },
    {
      "cell_type": "markdown",
      "id": "lTuqznBmlhOG",
      "metadata": {
        "id": "lTuqznBmlhOG"
      },
      "source": [
        "Seguimos con la base de datos de consumidores de ayer."
      ]
    },
    {
      "cell_type": "code",
      "execution_count": 2,
      "id": "7acc0f04",
      "metadata": {},
      "outputs": [
        {
          "name": "stdout",
          "output_type": "stream",
          "text": [
            "Collecting plotly\n",
            "  Downloading plotly-5.22.0-py3-none-any.whl.metadata (7.1 kB)\n",
            "Collecting tenacity>=6.2.0 (from plotly)\n",
            "  Downloading tenacity-8.3.0-py3-none-any.whl.metadata (1.2 kB)\n",
            "Requirement already satisfied: packaging in c:\\users\\nib1l\\appdata\\local\\packages\\pythonsoftwarefoundation.python.3.11_qbz5n2kfra8p0\\localcache\\local-packages\\python311\\site-packages (from plotly) (24.0)\n",
            "Downloading plotly-5.22.0-py3-none-any.whl (16.4 MB)\n",
            "   ---------------------------------------- 0.0/16.4 MB ? eta -:--:--\n",
            "   ---------------------------------------- 0.0/16.4 MB 640.0 kB/s eta 0:00:26\n",
            "   ---------------------------------------- 0.2/16.4 MB 1.8 MB/s eta 0:00:09\n",
            "   - -------------------------------------- 0.5/16.4 MB 3.8 MB/s eta 0:00:05\n",
            "   -- ------------------------------------- 0.9/16.4 MB 4.9 MB/s eta 0:00:04\n",
            "   -- ------------------------------------- 1.2/16.4 MB 5.3 MB/s eta 0:00:03\n",
            "   --- ------------------------------------ 1.3/16.4 MB 5.1 MB/s eta 0:00:03\n",
            "   --- ------------------------------------ 1.6/16.4 MB 5.1 MB/s eta 0:00:03\n",
            "   ---- ----------------------------------- 1.8/16.4 MB 5.2 MB/s eta 0:00:03\n",
            "   ----- ---------------------------------- 2.1/16.4 MB 5.2 MB/s eta 0:00:03\n",
            "   ----- ---------------------------------- 2.4/16.4 MB 5.2 MB/s eta 0:00:03\n",
            "   ------ --------------------------------- 2.6/16.4 MB 5.4 MB/s eta 0:00:03\n",
            "   ------ --------------------------------- 2.7/16.4 MB 5.1 MB/s eta 0:00:03\n",
            "   ------- -------------------------------- 3.0/16.4 MB 5.0 MB/s eta 0:00:03\n",
            "   ------- -------------------------------- 3.2/16.4 MB 5.2 MB/s eta 0:00:03\n",
            "   --------- ------------------------------ 3.7/16.4 MB 5.4 MB/s eta 0:00:03\n",
            "   --------- ------------------------------ 4.0/16.4 MB 5.4 MB/s eta 0:00:03\n",
            "   ---------- ----------------------------- 4.3/16.4 MB 5.6 MB/s eta 0:00:03\n",
            "   ---------- ----------------------------- 4.3/16.4 MB 5.6 MB/s eta 0:00:03\n",
            "   ----------- ---------------------------- 4.6/16.4 MB 5.2 MB/s eta 0:00:03\n",
            "   ----------- ---------------------------- 4.8/16.4 MB 5.3 MB/s eta 0:00:03\n",
            "   ----------- ---------------------------- 4.8/16.4 MB 5.3 MB/s eta 0:00:03\n",
            "   ----------- ---------------------------- 4.9/16.4 MB 4.8 MB/s eta 0:00:03\n",
            "   ------------ --------------------------- 5.0/16.4 MB 4.8 MB/s eta 0:00:03\n",
            "   ------------ --------------------------- 5.2/16.4 MB 4.7 MB/s eta 0:00:03\n",
            "   ------------- -------------------------- 5.6/16.4 MB 4.9 MB/s eta 0:00:03\n",
            "   ------------- -------------------------- 5.6/16.4 MB 4.9 MB/s eta 0:00:03\n",
            "   ------------- -------------------------- 5.7/16.4 MB 4.5 MB/s eta 0:00:03\n",
            "   -------------- ------------------------- 5.9/16.4 MB 4.5 MB/s eta 0:00:03\n",
            "   -------------- ------------------------- 6.1/16.4 MB 4.5 MB/s eta 0:00:03\n",
            "   --------------- ------------------------ 6.2/16.4 MB 4.5 MB/s eta 0:00:03\n",
            "   --------------- ------------------------ 6.2/16.4 MB 4.5 MB/s eta 0:00:03\n",
            "   --------------- ------------------------ 6.6/16.4 MB 4.4 MB/s eta 0:00:03\n",
            "   ---------------- ----------------------- 6.8/16.4 MB 4.4 MB/s eta 0:00:03\n",
            "   ---------------- ----------------------- 6.9/16.4 MB 4.4 MB/s eta 0:00:03\n",
            "   ----------------- ---------------------- 7.1/16.4 MB 4.4 MB/s eta 0:00:03\n",
            "   ----------------- ---------------------- 7.2/16.4 MB 4.3 MB/s eta 0:00:03\n",
            "   ----------------- ---------------------- 7.4/16.4 MB 4.3 MB/s eta 0:00:03\n",
            "   ------------------ --------------------- 7.6/16.4 MB 4.3 MB/s eta 0:00:03\n",
            "   ------------------ --------------------- 7.7/16.4 MB 4.3 MB/s eta 0:00:03\n",
            "   ------------------- -------------------- 7.9/16.4 MB 4.3 MB/s eta 0:00:02\n",
            "   ------------------- -------------------- 8.0/16.4 MB 4.2 MB/s eta 0:00:02\n",
            "   -------------------- ------------------- 8.2/16.4 MB 4.2 MB/s eta 0:00:02\n",
            "   -------------------- ------------------- 8.4/16.4 MB 4.2 MB/s eta 0:00:02\n",
            "   --------------------- ------------------ 8.8/16.4 MB 4.3 MB/s eta 0:00:02\n",
            "   ---------------------- ----------------- 9.1/16.4 MB 4.4 MB/s eta 0:00:02\n",
            "   ---------------------- ----------------- 9.3/16.4 MB 4.4 MB/s eta 0:00:02\n",
            "   ---------------------- ----------------- 9.4/16.4 MB 4.3 MB/s eta 0:00:02\n",
            "   ----------------------- ---------------- 9.8/16.4 MB 4.4 MB/s eta 0:00:02\n",
            "   ------------------------ --------------- 10.1/16.4 MB 4.4 MB/s eta 0:00:02\n",
            "   ------------------------ --------------- 10.2/16.4 MB 4.4 MB/s eta 0:00:02\n",
            "   ------------------------- -------------- 10.4/16.4 MB 4.5 MB/s eta 0:00:02\n",
            "   -------------------------- ------------- 10.7/16.4 MB 4.5 MB/s eta 0:00:02\n",
            "   -------------------------- ------------- 11.0/16.4 MB 4.4 MB/s eta 0:00:02\n",
            "   --------------------------- ------------ 11.2/16.4 MB 4.4 MB/s eta 0:00:02\n",
            "   --------------------------- ------------ 11.4/16.4 MB 4.4 MB/s eta 0:00:02\n",
            "   ---------------------------- ----------- 11.7/16.4 MB 4.4 MB/s eta 0:00:02\n",
            "   ----------------------------- ---------- 11.9/16.4 MB 4.4 MB/s eta 0:00:02\n",
            "   ----------------------------- ---------- 12.2/16.4 MB 4.4 MB/s eta 0:00:01\n",
            "   ------------------------------ --------- 12.4/16.4 MB 4.4 MB/s eta 0:00:01\n",
            "   ------------------------------ --------- 12.7/16.4 MB 4.4 MB/s eta 0:00:01\n",
            "   ------------------------------- -------- 12.8/16.4 MB 4.4 MB/s eta 0:00:01\n",
            "   ------------------------------- -------- 13.1/16.4 MB 4.4 MB/s eta 0:00:01\n",
            "   -------------------------------- ------- 13.3/16.4 MB 4.4 MB/s eta 0:00:01\n",
            "   -------------------------------- ------- 13.4/16.4 MB 4.3 MB/s eta 0:00:01\n",
            "   --------------------------------- ------ 13.6/16.4 MB 4.3 MB/s eta 0:00:01\n",
            "   --------------------------------- ------ 13.6/16.4 MB 4.3 MB/s eta 0:00:01\n",
            "   --------------------------------- ------ 13.6/16.4 MB 4.3 MB/s eta 0:00:01\n",
            "   --------------------------------- ------ 13.9/16.4 MB 4.1 MB/s eta 0:00:01\n",
            "   ---------------------------------- ----- 14.0/16.4 MB 4.0 MB/s eta 0:00:01\n",
            "   ---------------------------------- ----- 14.3/16.4 MB 4.1 MB/s eta 0:00:01\n",
            "   ----------------------------------- ---- 14.6/16.4 MB 4.1 MB/s eta 0:00:01\n",
            "   ------------------------------------ --- 15.0/16.4 MB 4.1 MB/s eta 0:00:01\n",
            "   ------------------------------------- -- 15.3/16.4 MB 4.3 MB/s eta 0:00:01\n",
            "   ------------------------------------- -- 15.5/16.4 MB 4.3 MB/s eta 0:00:01\n",
            "   -------------------------------------- - 15.9/16.4 MB 4.5 MB/s eta 0:00:01\n",
            "   ---------------------------------------  16.2/16.4 MB 4.5 MB/s eta 0:00:01\n",
            "   ---------------------------------------  16.4/16.4 MB 4.6 MB/s eta 0:00:01\n",
            "   ---------------------------------------- 16.4/16.4 MB 4.5 MB/s eta 0:00:00\n",
            "Downloading tenacity-8.3.0-py3-none-any.whl (25 kB)\n",
            "Installing collected packages: tenacity, plotly\n",
            "Successfully installed plotly-5.22.0 tenacity-8.3.0\n"
          ]
        }
      ],
      "source": [
        "!pip install plotly"
      ]
    },
    {
      "cell_type": "code",
      "execution_count": 1,
      "id": "5b711d2c",
      "metadata": {
        "id": "5b711d2c"
      },
      "outputs": [
        {
          "ename": "ModuleNotFoundError",
          "evalue": "No module named 'plotly'",
          "output_type": "error",
          "traceback": [
            "\u001b[1;31m---------------------------------------------------------------------------\u001b[0m",
            "\u001b[1;31mModuleNotFoundError\u001b[0m                       Traceback (most recent call last)",
            "Cell \u001b[1;32mIn[1], line 6\u001b[0m\n\u001b[0;32m      3\u001b[0m \u001b[38;5;28;01mimport\u001b[39;00m \u001b[38;5;21;01mmatplotlib\u001b[39;00m\u001b[38;5;21;01m.\u001b[39;00m\u001b[38;5;21;01mpyplot\u001b[39;00m \u001b[38;5;28;01mas\u001b[39;00m \u001b[38;5;21;01mplt\u001b[39;00m\n\u001b[0;32m      4\u001b[0m \u001b[38;5;28;01mimport\u001b[39;00m \u001b[38;5;21;01mseaborn\u001b[39;00m \u001b[38;5;28;01mas\u001b[39;00m \u001b[38;5;21;01msns\u001b[39;00m\n\u001b[1;32m----> 6\u001b[0m \u001b[38;5;28;01mimport\u001b[39;00m \u001b[38;5;21;01mplotly\u001b[39;00m \u001b[38;5;28;01mas\u001b[39;00m \u001b[38;5;21;01mpy\u001b[39;00m\n\u001b[0;32m      7\u001b[0m \u001b[38;5;28;01mimport\u001b[39;00m \u001b[38;5;21;01mplotly\u001b[39;00m\u001b[38;5;21;01m.\u001b[39;00m\u001b[38;5;21;01mgraph_objs\u001b[39;00m \u001b[38;5;28;01mas\u001b[39;00m \u001b[38;5;21;01mgo\u001b[39;00m\n\u001b[0;32m      9\u001b[0m \u001b[38;5;28;01mfrom\u001b[39;00m \u001b[38;5;21;01msklearn\u001b[39;00m\u001b[38;5;21;01m.\u001b[39;00m\u001b[38;5;21;01mcluster\u001b[39;00m \u001b[38;5;28;01mimport\u001b[39;00m KMeans\n",
            "\u001b[1;31mModuleNotFoundError\u001b[0m: No module named 'plotly'"
          ]
        }
      ],
      "source": [
        "import numpy as np\n",
        "import pandas as pd\n",
        "import matplotlib.pyplot as plt\n",
        "import seaborn as sns\n",
        "\n",
        "import plotly as py\n",
        "import plotly.graph_objs as go\n",
        "\n",
        "from sklearn.cluster import KMeans\n",
        "\n",
        "from sklearn.cluster import DBSCAN\n",
        "\n",
        "from scipy.cluster.hierarchy import linkage, fcluster\n",
        "from scipy.cluster.hierarchy import dendrogram\n",
        "\n",
        "import warnings\n",
        "warnings.filterwarnings('ignore')"
      ]
    },
    {
      "cell_type": "markdown",
      "id": "a3UOVxVCDruu",
      "metadata": {
        "id": "a3UOVxVCDruu"
      },
      "source": [
        "## Datos\n",
        "Tenemos una base de datos: la unidad de observación son consumidores de un centro comercial."
      ]
    },
    {
      "cell_type": "code",
      "execution_count": null,
      "id": "7d838152",
      "metadata": {
        "colab": {
          "base_uri": "https://localhost:8080/",
          "height": 206
        },
        "id": "7d838152",
        "outputId": "217f5ae6-64e8-414f-9ffc-e57220f12733"
      },
      "outputs": [
        {
          "ename": "",
          "evalue": "",
          "output_type": "error",
          "traceback": [
            "\u001b[1;31mThe kernel failed to start as 'has_suggestion' could not be imported from 'c:\\Users\\nib1l\\anaconda3\\lib\\site-packages\\prompt_toolkit\\filters\\__init__.py'.\n",
            "\u001b[1;31mClick <a href='https://aka.ms/kernelFailuresModuleImportErrFromFile'>here</a> for more info."
          ]
        }
      ],
      "source": [
        "df = pd.read_csv('Mall_Customers.csv')\n",
        "df.head()"
      ]
    },
    {
      "cell_type": "markdown",
      "id": "1TZYTYw1mXvV",
      "metadata": {
        "id": "1TZYTYw1mXvV"
      },
      "source": [
        "### Visualicemos esos consumidores"
      ]
    },
    {
      "cell_type": "code",
      "execution_count": null,
      "id": "5809262c",
      "metadata": {
        "colab": {
          "base_uri": "https://localhost:8080/",
          "height": 669
        },
        "id": "5809262c",
        "outputId": "38fc049b-706e-4f2c-89b1-62554bfa3e11"
      },
      "outputs": [
        {
          "ename": "",
          "evalue": "",
          "output_type": "error",
          "traceback": [
            "\u001b[1;31mThe kernel failed to start as 'has_suggestion' could not be imported from 'c:\\Users\\nib1l\\anaconda3\\lib\\site-packages\\prompt_toolkit\\filters\\__init__.py'.\n",
            "\u001b[1;31mClick <a href='https://aka.ms/kernelFailuresModuleImportErrFromFile'>here</a> for more info."
          ]
        }
      ],
      "source": [
        "plt.figure(1 , figsize = (15 , 7))\n",
        "plt.title('Scatter plot of Age v/s Spending Score', fontsize = 20)\n",
        "plt.xlabel('Age')\n",
        "plt.ylabel('Spending Score')\n",
        "plt.scatter( x = 'Age', y = 'Spending Score (1-100)', data = df, s = 100)\n",
        "plt.show()"
      ]
    },
    {
      "cell_type": "markdown",
      "id": "nqyf9ibvmfpE",
      "metadata": {
        "id": "nqyf9ibvmfpE"
      },
      "source": [
        "## Modelos\n",
        "Vamos a crear los siguientes modelos de agrupación y los vamos a comparar:\n",
        "* K-medias\n",
        "* Agrupación jerárquica\n",
        "* Agrupación por densidad DBSCAN"
      ]
    },
    {
      "cell_type": "markdown",
      "id": "PsTKPRryGIxx",
      "metadata": {
        "id": "PsTKPRryGIxx"
      },
      "source": [
        "### K-means\n",
        "En K-medias, los centros se mueven hacia los datos cercanos, y luego los datos cercanos escogen su centro más cercano, hasta que hay estabilidad."
      ]
    },
    {
      "cell_type": "code",
      "execution_count": null,
      "id": "s3yG51fiHE7X",
      "metadata": {
        "colab": {
          "base_uri": "https://localhost:8080/"
        },
        "id": "s3yG51fiHE7X",
        "outputId": "60e89d6b-4efa-42bf-fecd-ff214ff336ee"
      },
      "outputs": [
        {
          "ename": "",
          "evalue": "",
          "output_type": "error",
          "traceback": [
            "\u001b[1;31mThe kernel failed to start as 'has_suggestion' could not be imported from 'c:\\Users\\nib1l\\anaconda3\\lib\\site-packages\\prompt_toolkit\\filters\\__init__.py'.\n",
            "\u001b[1;31mClick <a href='https://aka.ms/kernelFailuresModuleImportErrFromFile'>here</a> for more info."
          ]
        }
      ],
      "source": [
        "X1 = df[['Age' , 'Spending Score (1-100)']].iloc[: , :].values\n",
        "X1[0:5]"
      ]
    },
    {
      "cell_type": "markdown",
      "id": "3HdEOCHTAuRo",
      "metadata": {
        "id": "3HdEOCHTAuRo"
      },
      "source": [
        "### Análisis del codo"
      ]
    },
    {
      "cell_type": "code",
      "execution_count": null,
      "id": "jkn04eFnAuAu",
      "metadata": {
        "id": "jkn04eFnAuAu"
      },
      "outputs": [
        {
          "ename": "",
          "evalue": "",
          "output_type": "error",
          "traceback": [
            "\u001b[1;31mThe kernel failed to start as 'has_suggestion' could not be imported from 'c:\\Users\\nib1l\\anaconda3\\lib\\site-packages\\prompt_toolkit\\filters\\__init__.py'.\n",
            "\u001b[1;31mClick <a href='https://aka.ms/kernelFailuresModuleImportErrFromFile'>here</a> for more info."
          ]
        }
      ],
      "source": [
        "X1 = df[['Age' , 'Spending Score (1-100)']].iloc[: , :].values\n",
        "inertia = []\n",
        "for n in range(1 , 15):\n",
        "    algorithm = (KMeans(n_clusters = n ,init='k-means++', n_init = 10 ,max_iter=300,\n",
        "                        tol=0.0001,  random_state= 111  , algorithm='elkan') )\n",
        "    algorithm.fit(X1)\n",
        "    inertia.append(algorithm.inertia_)"
      ]
    },
    {
      "cell_type": "code",
      "execution_count": null,
      "id": "vXfaZ57jA05O",
      "metadata": {
        "colab": {
          "base_uri": "https://localhost:8080/",
          "height": 562
        },
        "id": "vXfaZ57jA05O",
        "outputId": "44c4df6a-9397-4e31-9753-f17f9dec1445"
      },
      "outputs": [
        {
          "ename": "",
          "evalue": "",
          "output_type": "error",
          "traceback": [
            "\u001b[1;31mThe kernel failed to start as 'has_suggestion' could not be imported from 'c:\\Users\\nib1l\\anaconda3\\lib\\site-packages\\prompt_toolkit\\filters\\__init__.py'.\n",
            "\u001b[1;31mClick <a href='https://aka.ms/kernelFailuresModuleImportErrFromFile'>here</a> for more info."
          ]
        }
      ],
      "source": [
        "plt.figure(1 , figsize = (15 ,6))\n",
        "plt.plot(np.arange(1 , 15) , inertia , 'o')\n",
        "plt.plot(np.arange(1 , 15) , inertia , '-' , alpha = 0.5)\n",
        "plt.xlabel('Number of Clusters') , plt.ylabel('Inertia')\n",
        "plt.show()"
      ]
    },
    {
      "cell_type": "markdown",
      "id": "rLXUEX09A48Q",
      "metadata": {
        "id": "rLXUEX09A48Q"
      },
      "source": [
        "**Observamos que** parece que la incercia se estabiliza al rededor de cuatro grupos. Este puede ser un punto de partida, **pero no camisa de fuerza**, el criterio del analista es clave."
      ]
    },
    {
      "cell_type": "code",
      "execution_count": null,
      "id": "fb5ac5fd",
      "metadata": {
        "id": "fb5ac5fd"
      },
      "outputs": [
        {
          "ename": "",
          "evalue": "",
          "output_type": "error",
          "traceback": [
            "\u001b[1;31mThe kernel failed to start as 'has_suggestion' could not be imported from 'c:\\Users\\nib1l\\anaconda3\\lib\\site-packages\\prompt_toolkit\\filters\\__init__.py'.\n",
            "\u001b[1;31mClick <a href='https://aka.ms/kernelFailuresModuleImportErrFromFile'>here</a> for more info."
          ]
        }
      ],
      "source": [
        "## Después de haber hecho el análisis del codo, nos quedábamos con 4 grupos:\n",
        "\n",
        "algorithm = (KMeans(n_clusters = 4 ,init='k-means++', n_init = 10 ,max_iter=300,\n",
        "                        tol=0.0001,  random_state= 111  , algorithm='elkan') )\n",
        "algorithm.fit(X1)\n",
        "labels1 = algorithm.labels_\n",
        "centroids1 = algorithm.cluster_centers_"
      ]
    },
    {
      "cell_type": "code",
      "execution_count": null,
      "id": "yIfPcwfpGWv5",
      "metadata": {
        "colab": {
          "base_uri": "https://localhost:8080/",
          "height": 492
        },
        "id": "yIfPcwfpGWv5",
        "outputId": "1caf2753-fefd-4fc3-8cae-1dc217f58b71"
      },
      "outputs": [
        {
          "ename": "",
          "evalue": "",
          "output_type": "error",
          "traceback": [
            "\u001b[1;31mThe kernel failed to start as 'has_suggestion' could not be imported from 'c:\\Users\\nib1l\\anaconda3\\lib\\site-packages\\prompt_toolkit\\filters\\__init__.py'.\n",
            "\u001b[1;31mClick <a href='https://aka.ms/kernelFailuresModuleImportErrFromFile'>here</a> for more info."
          ]
        }
      ],
      "source": [
        "plt.figure(1 , figsize = (15 , 7) )\n",
        "plt.clf()\n",
        "plt.scatter( x = 'Age', y = 'Spending Score (1-100)', data = df, c = labels1, s = 100)\n",
        "#plt.scatter(x = centroids1[: , 0] , y =  centroids1[: , 1] , s = 300 , c = 'red' , alpha = 0.5)\n",
        "plt.ylabel('Spending Score (1-100)') , plt.xlabel('Age')\n",
        "plt.title('Agrupación por K-means')\n",
        "plt.show()"
      ]
    },
    {
      "cell_type": "markdown",
      "id": "0gDlmfhBGD8i",
      "metadata": {
        "id": "0gDlmfhBGD8i"
      },
      "source": [
        "### Jerárquica\n",
        "[Referencia](https://colab.research.google.com/github/goodboychan/chans_jupyter/blob/master/_notebooks/2020-06-06-02-Hierarchical-Clustering.ipynb#scrollTo=CdHHHWloEbov)"
      ]
    },
    {
      "cell_type": "code",
      "execution_count": null,
      "id": "lNc-lENEIu8E",
      "metadata": {
        "colab": {
          "base_uri": "https://localhost:8080/",
          "height": 206
        },
        "id": "lNc-lENEIu8E",
        "outputId": "0874640c-32bd-4b14-c04d-fd714f2536a4"
      },
      "outputs": [
        {
          "ename": "",
          "evalue": "",
          "output_type": "error",
          "traceback": [
            "\u001b[1;31mThe kernel failed to start as 'has_suggestion' could not be imported from 'c:\\Users\\nib1l\\anaconda3\\lib\\site-packages\\prompt_toolkit\\filters\\__init__.py'.\n",
            "\u001b[1;31mClick <a href='https://aka.ms/kernelFailuresModuleImportErrFromFile'>here</a> for more info."
          ]
        }
      ],
      "source": [
        "# Formato correcto de los datos\n",
        "X = df[['Age' , 'Spending Score (1-100)']]\n",
        "X.head()"
      ]
    },
    {
      "cell_type": "code",
      "execution_count": null,
      "id": "Ql7QlwjCXF47",
      "metadata": {
        "colab": {
          "base_uri": "https://localhost:8080/",
          "height": 509
        },
        "id": "Ql7QlwjCXF47",
        "outputId": "8439f830-1131-40fd-c10a-ce13ff3f03d9"
      },
      "outputs": [
        {
          "ename": "",
          "evalue": "",
          "output_type": "error",
          "traceback": [
            "\u001b[1;31mThe kernel failed to start as 'has_suggestion' could not be imported from 'c:\\Users\\nib1l\\anaconda3\\lib\\site-packages\\prompt_toolkit\\filters\\__init__.py'.\n",
            "\u001b[1;31mClick <a href='https://aka.ms/kernelFailuresModuleImportErrFromFile'>here</a> for more info."
          ]
        }
      ],
      "source": [
        "# Use the linkage()\n",
        "distance_matrix = linkage(X, method='single', metric='euclidean')\n",
        "\n",
        "# Assign cluster labels\n",
        "numero_grupos = 5\n",
        "# maxclust: En cuentra la distancia óptima entre dos observaciones para la creación de grupos\n",
        "X['Grupo'] = fcluster(distance_matrix, numero_grupos, criterion='maxclust')\n",
        "\n",
        "# Plot clusters\n",
        "plt.figure(2 , figsize = (15 , 7) )\n",
        "plt.title('Agrupación Jerárquica')\n",
        "sns.scatterplot(x='Age', y='Spending Score (1-100)', s=100, hue='Grupo', data=X, palette='colorblind')"
      ]
    },
    {
      "cell_type": "code",
      "execution_count": null,
      "id": "5ITx6U3aTjid",
      "metadata": {
        "colab": {
          "base_uri": "https://localhost:8080/",
          "height": 1000
        },
        "id": "5ITx6U3aTjid",
        "outputId": "9af5787e-c820-4d10-95fa-70490345064b"
      },
      "outputs": [
        {
          "ename": "",
          "evalue": "",
          "output_type": "error",
          "traceback": [
            "\u001b[1;31mThe kernel failed to start as 'has_suggestion' could not be imported from 'c:\\Users\\nib1l\\anaconda3\\lib\\site-packages\\prompt_toolkit\\filters\\__init__.py'.\n",
            "\u001b[1;31mClick <a href='https://aka.ms/kernelFailuresModuleImportErrFromFile'>here</a> for more info."
          ]
        }
      ],
      "source": [
        "plt.title('Dendograma para 5 grupos')\n",
        "dendrogram(distance_matrix)"
      ]
    },
    {
      "cell_type": "markdown",
      "id": "Z6lzmNeQGFmg",
      "metadata": {
        "id": "Z6lzmNeQGFmg"
      },
      "source": [
        "### DBSCAN"
      ]
    },
    {
      "cell_type": "code",
      "execution_count": null,
      "id": "fxZ42znoZgQX",
      "metadata": {
        "colab": {
          "base_uri": "https://localhost:8080/"
        },
        "id": "fxZ42znoZgQX",
        "outputId": "feaa16f7-795e-4f2d-e2ce-43c92fdff4c2"
      },
      "outputs": [
        {
          "ename": "",
          "evalue": "",
          "output_type": "error",
          "traceback": [
            "\u001b[1;31mThe kernel failed to start as 'has_suggestion' could not be imported from 'c:\\Users\\nib1l\\anaconda3\\lib\\site-packages\\prompt_toolkit\\filters\\__init__.py'.\n",
            "\u001b[1;31mClick <a href='https://aka.ms/kernelFailuresModuleImportErrFromFile'>here</a> for more info."
          ]
        }
      ],
      "source": [
        "# Usamos este formato\n",
        "X1[0:5]"
      ]
    },
    {
      "cell_type": "code",
      "execution_count": null,
      "id": "uakJ92pRZKGP",
      "metadata": {
        "colab": {
          "base_uri": "https://localhost:8080/",
          "height": 75
        },
        "id": "uakJ92pRZKGP",
        "outputId": "f94a0fe0-23ac-41a8-ba05-ec46c671f179"
      },
      "outputs": [
        {
          "ename": "",
          "evalue": "",
          "output_type": "error",
          "traceback": [
            "\u001b[1;31mThe kernel failed to start as 'has_suggestion' could not be imported from 'c:\\Users\\nib1l\\anaconda3\\lib\\site-packages\\prompt_toolkit\\filters\\__init__.py'.\n",
            "\u001b[1;31mClick <a href='https://aka.ms/kernelFailuresModuleImportErrFromFile'>here</a> for more info."
          ]
        }
      ],
      "source": [
        "# eps: distancia máxima\n",
        "# min_samples: número de datos para ser popular\n",
        "modeloDensidad = DBSCAN(eps=6, min_samples=3).fit(X)\n",
        "etiquetas = modeloDensidad.labels_\n",
        "modeloDensidad"
      ]
    },
    {
      "cell_type": "code",
      "execution_count": null,
      "id": "wChsNDrXZ-xR",
      "metadata": {
        "colab": {
          "base_uri": "https://localhost:8080/",
          "height": 679
        },
        "id": "wChsNDrXZ-xR",
        "outputId": "00946bb3-797b-4338-ff98-7d1382b6fe5a"
      },
      "outputs": [
        {
          "ename": "",
          "evalue": "",
          "output_type": "error",
          "traceback": [
            "\u001b[1;31mThe kernel failed to start as 'has_suggestion' could not be imported from 'c:\\Users\\nib1l\\anaconda3\\lib\\site-packages\\prompt_toolkit\\filters\\__init__.py'.\n",
            "\u001b[1;31mClick <a href='https://aka.ms/kernelFailuresModuleImportErrFromFile'>here</a> for more info."
          ]
        }
      ],
      "source": [
        "plt.figure(3 , figsize = (15 , 7) )\n",
        "plt.title('Agrupación por DBSCAN')\n",
        "c= sns.scatterplot(x='Age', y='Spending Score (1-100)', s=100, hue=etiquetas, data=X, palette='colorblind')\n",
        "c.legend(loc='center left', bbox_to_anchor=(1, 0.5), ncol=1)"
      ]
    }
  ],
  "metadata": {
    "colab": {
      "provenance": [],
      "toc_visible": true
    },
    "kernelspec": {
      "display_name": "Python 3 (ipykernel)",
      "language": "python",
      "name": "python3"
    },
    "language_info": {
      "codemirror_mode": {
        "name": "ipython",
        "version": 3
      },
      "file_extension": ".py",
      "mimetype": "text/x-python",
      "name": "python",
      "nbconvert_exporter": "python",
      "pygments_lexer": "ipython3",
      "version": "3.11.9"
    }
  },
  "nbformat": 4,
  "nbformat_minor": 5
}
