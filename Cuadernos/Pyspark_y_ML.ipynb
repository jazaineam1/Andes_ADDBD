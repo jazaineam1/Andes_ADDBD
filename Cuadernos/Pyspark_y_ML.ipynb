{
  "cells": [
    {
      "cell_type": "markdown",
      "metadata": {
        "id": "view-in-github",
        "colab_type": "text"
      },
      "source": [
        "<a href=\"https://colab.research.google.com/github/jazaineam1/Andes_ADDBD/blob/main/Cuadernos/Pyspark_y_ML.ipynb\" target=\"_parent\"><img src=\"https://colab.research.google.com/assets/colab-badge.svg\" alt=\"Open In Colab\"/></a>"
      ]
    },
    {
      "cell_type": "markdown",
      "metadata": {
        "id": "5rbwQEAY3Pb8"
      },
      "source": [
        "# ***Spark intro 2***\n",
        "\n",
        "\n",
        "\n",
        "## ***Universidad Central***\n",
        ">## **Facultad de Ingeniería y Ciencias Básicas.**\n",
        ">## ***Maestría en analítica de datos***\n",
        "![Imágen1](https://www.ucentral.edu.co/themes/ucentral/img/template/Universidad%20Central.png)\n",
        "\n",
        "\n",
        ">## ***Big Data.***\n",
        ">## ***Docente: Antonino Zainea Maya.***"
      ]
    },
    {
      "cell_type": "markdown",
      "metadata": {
        "id": "UNAjKF9p0LKb"
      },
      "source": [
        "## Trabajando con RDD's\n",
        "Un RDD (Resilient Distributed Dataset) es una estructura fundamental en Apache Spark que representa una colección de datos inmutable y distribuida. Aquí tienes una explicación más detallada de lo que es un RDD:\n",
        "\n",
        "Resiliente: El término \"resiliente\" se refiere a la capacidad de los RDD para tolerar fallos. Los datos en un RDD se almacenan en múltiples nodos del clúster, lo que significa que si un nodo falla, los datos todavía pueden recuperarse de los nodos restantes. Esto asegura la disponibilidad y la recuperación de datos en caso de problemas.\n",
        "\n",
        "Distribuido: Los RDD se dividen en particiones y se almacenan en varios nodos de un clúster de Spark. Esto permite el procesamiento paralelo de datos en el clúster, lo que lleva a un alto rendimiento en el procesamiento de grandes conjuntos de datos.\n",
        "\n",
        "Dataset: Un RDD es, en esencia, una colección de datos. Estos datos pueden ser de cualquier tipo, como números, texto, objetos complejos, etc. Spark proporciona funciones para realizar operaciones de transformación y acción en estos datos.\n",
        "\n",
        "Inmutable: Los RDD son inmutables, lo que significa que una vez que se crea un RDD, no se pueden modificar sus datos. En cambio, puedes realizar transformaciones en un RDD para crear uno nuevo con los cambios deseados.\n",
        "\n",
        "Transformaciones y Acciones: Los RDD admiten dos tipos principales de operaciones: transformaciones y acciones. Las transformaciones crean un nuevo RDD a partir de uno existente (por ejemplo, mapeo, filtrado o reducción), mientras que las acciones realizan cálculos en los datos y devuelven resultados (por ejemplo, contar, recopilar o guardar en disco).\n",
        "\n",
        " En Spark, todo el trabajo se expresa ya sea creando nuevos RDD, transformando RDD existentes o llamando a operaciones en RDD para calcular un resultado. Bajo el capó, Spark distribuye automáticamente los datos contenidos en los RDD en su clúster y paraleliza las operaciones que realiza en ellos. __Los RDD son el concepto central en Spark__.\n",
        "<br />\n",
        "<br />\n",
        "Si bien en las últimas versiones de Spark (mediados de 2019) el RDD como estructura de manipulación de datos pierde protagonismo, las estructuras nuevas que son utilizadas como los DataFrames y los DataSets son en realidad abstracciones de estos RDD que siguen estando en el núcleo de Spark.\n",
        "<br />\n",
        "<br />\n",
        "\n",
        "### Creación de RDD\n",
        "Cada RDD se divide en varias particiones, que se pueden calcular en diferentes nodos del clúster. Los RDD pueden contener cualquier tipo de objetos Python, Java o Scala, incluidas las clases definidas por el usuario.\n",
        "\n",
        "Es posbile crear RDD de dos maneras: cargando un conjunto de datos externo o distribuyendo una colección de objetos (por ejemplo, una lista o conjunto).\n",
        "\n",
        "**Crear un RDD**"
      ]
    },
    {
      "cell_type": "code",
      "source": [
        "!pip install pyspark"
      ],
      "metadata": {
        "colab": {
          "base_uri": "https://localhost:8080/"
        },
        "id": "UOnyYagmihEZ",
        "outputId": "a8c278ce-f190-45a5-dcf8-2274b84d580e"
      },
      "execution_count": 4,
      "outputs": [
        {
          "output_type": "stream",
          "name": "stdout",
          "text": [
            "Requirement already satisfied: pyspark in /usr/local/lib/python3.10/dist-packages (3.5.1)\n",
            "Requirement already satisfied: py4j==0.10.9.7 in /usr/local/lib/python3.10/dist-packages (from pyspark) (0.10.9.7)\n"
          ]
        }
      ]
    },
    {
      "cell_type": "code",
      "execution_count": 5,
      "metadata": {
        "id": "jRv6NJQN0LKc",
        "colab": {
          "base_uri": "https://localhost:8080/",
          "height": 196
        },
        "outputId": "d6a3c833-606e-47f1-8430-a6f9ffb46105"
      },
      "outputs": [
        {
          "output_type": "execute_result",
          "data": {
            "text/plain": [
              "<SparkContext master=local[*] appName=pyspark-shell>"
            ],
            "text/html": [
              "\n",
              "        <div>\n",
              "            <p><b>SparkContext</b></p>\n",
              "\n",
              "            <p><a href=\"http://b31d79cbdae4:4040\">Spark UI</a></p>\n",
              "\n",
              "            <dl>\n",
              "              <dt>Version</dt>\n",
              "                <dd><code>v3.5.1</code></dd>\n",
              "              <dt>Master</dt>\n",
              "                <dd><code>local[*]</code></dd>\n",
              "              <dt>AppName</dt>\n",
              "                <dd><code>pyspark-shell</code></dd>\n",
              "            </dl>\n",
              "        </div>\n",
              "        "
            ]
          },
          "metadata": {},
          "execution_count": 5
        }
      ],
      "source": [
        "from pyspark import SparkContext\n",
        "sc = SparkContext.getOrCreate()# versiones anteriores a spark 2 solo RDDs\n",
        "sc"
      ]
    },
    {
      "cell_type": "code",
      "execution_count": 6,
      "metadata": {
        "id": "wHtpRQPW0LKd",
        "colab": {
          "base_uri": "https://localhost:8080/",
          "height": 173
        },
        "outputId": "5e2392d0-033f-45df-d08f-40a930354286"
      },
      "outputs": [
        {
          "output_type": "execute_result",
          "data": {
            "text/plain": [
              "pyspark.rdd.RDD"
            ],
            "text/html": [
              "<div style=\"max-width:800px; border: 1px solid var(--colab-border-color);\"><style>\n",
              "      pre.function-repr-contents {\n",
              "        overflow-x: auto;\n",
              "        padding: 8px 12px;\n",
              "        max-height: 500px;\n",
              "      }\n",
              "\n",
              "      pre.function-repr-contents.function-repr-contents-collapsed {\n",
              "        cursor: pointer;\n",
              "        max-height: 100px;\n",
              "      }\n",
              "    </style>\n",
              "    <pre style=\"white-space: initial; background:\n",
              "         var(--colab-secondary-surface-color); padding: 8px 12px;\n",
              "         border-bottom: 1px solid var(--colab-border-color);\"><b>pyspark.rdd.RDD</b><br/>def __init__(jrdd: &#x27;JavaObject&#x27;, ctx: &#x27;SparkContext&#x27;, jrdd_deserializer: Serializer=AutoBatchedSerializer(CPickleSerializer()))</pre><pre class=\"function-repr-contents function-repr-contents-collapsed\" style=\"\"><a class=\"filepath\" style=\"display:none\" href=\"#\">/usr/local/lib/python3.10/dist-packages/pyspark/rdd.py</a>A Resilient Distributed Dataset (RDD), the basic abstraction in Spark.\n",
              "Represents an immutable, partitioned collection of elements that can be\n",
              "operated on in parallel.</pre>\n",
              "      <script>\n",
              "      if (google.colab.kernel.accessAllowed && google.colab.files && google.colab.files.view) {\n",
              "        for (const element of document.querySelectorAll('.filepath')) {\n",
              "          element.style.display = 'block'\n",
              "          element.onclick = (event) => {\n",
              "            event.preventDefault();\n",
              "            event.stopPropagation();\n",
              "            google.colab.files.view(element.textContent, 336);\n",
              "          };\n",
              "        }\n",
              "      }\n",
              "      for (const element of document.querySelectorAll('.function-repr-contents')) {\n",
              "        element.onclick = (event) => {\n",
              "          event.preventDefault();\n",
              "          event.stopPropagation();\n",
              "          element.classList.toggle('function-repr-contents-collapsed');\n",
              "        };\n",
              "      }\n",
              "      </script>\n",
              "      </div>"
            ]
          },
          "metadata": {},
          "execution_count": 6
        }
      ],
      "source": [
        "dias=['lunes','martes','jueves']\n",
        "diasRdd=sc.parallelize(dias)\n",
        "type(diasRdd)"
      ]
    },
    {
      "cell_type": "code",
      "execution_count": 7,
      "metadata": {
        "id": "5SUIj6MG0LKe",
        "colab": {
          "base_uri": "https://localhost:8080/"
        },
        "outputId": "360c5b36-719c-4495-a686-9d5988611d36"
      },
      "outputs": [
        {
          "output_type": "execute_result",
          "data": {
            "text/plain": [
              "2"
            ]
          },
          "metadata": {},
          "execution_count": 7
        }
      ],
      "source": [
        "diasRdd.getNumPartitions()# indica el número de particiones"
      ]
    },
    {
      "cell_type": "code",
      "execution_count": 8,
      "metadata": {
        "id": "bzomC7bZ0LKe",
        "colab": {
          "base_uri": "https://localhost:8080/"
        },
        "outputId": "30c60ed7-1ce3-4fd9-d315-161d2343fffb"
      },
      "outputs": [
        {
          "output_type": "execute_result",
          "data": {
            "text/plain": [
              "4"
            ]
          },
          "metadata": {},
          "execution_count": 8
        }
      ],
      "source": [
        "#podemos indicar el número de particiones a tener en cuenta\n",
        "diasRdd=sc.parallelize(dias,4)\n",
        "diasRdd.getNumPartitions()"
      ]
    },
    {
      "cell_type": "code",
      "execution_count": 9,
      "metadata": {
        "id": "IvzUM0xC0LKe",
        "colab": {
          "base_uri": "https://localhost:8080/"
        },
        "outputId": "089a2af7-7b0a-4b65-cd76-0719acd4d788"
      },
      "outputs": [
        {
          "output_type": "stream",
          "name": "stdout",
          "text": [
            "--2024-05-09 22:49:38--  https://raw.githubusercontent.com/jazaineam1/BigDataMINE2023/main/data/Pyspark/mr_text-file.txt\n",
            "Resolving raw.githubusercontent.com (raw.githubusercontent.com)... 185.199.108.133, 185.199.109.133, 185.199.110.133, ...\n",
            "Connecting to raw.githubusercontent.com (raw.githubusercontent.com)|185.199.108.133|:443... connected.\n",
            "HTTP request sent, awaiting response... 200 OK\n",
            "Length: 1548 (1.5K) [text/plain]\n",
            "Saving to: ‘mr_text-file.txt’\n",
            "\n",
            "mr_text-file.txt    100%[===================>]   1.51K  --.-KB/s    in 0s      \n",
            "\n",
            "2024-05-09 22:49:38 (24.3 MB/s) - ‘mr_text-file.txt’ saved [1548/1548]\n",
            "\n",
            "/bin/bash: line 1: hdfs: command not found\n"
          ]
        }
      ],
      "source": [
        "!wget https://raw.githubusercontent.com/jazaineam1/BigDataMINE2023/main/data/Pyspark/mr_text-file.txt\n",
        "!hdfs dfs -put -f mr_text-file.txt /user/root/mr_text-file.txt"
      ]
    },
    {
      "cell_type": "code",
      "execution_count": 10,
      "metadata": {
        "id": "Bwq0PerX0LKe",
        "colab": {
          "base_uri": "https://localhost:8080/"
        },
        "outputId": "8dd6365c-0123-42c0-c0f2-a4c8475fcf0b"
      },
      "outputs": [
        {
          "output_type": "execute_result",
          "data": {
            "text/plain": [
              "mr_text-file.txt MapPartitionsRDD[3] at textFile at NativeMethodAccessorImpl.java:0"
            ]
          },
          "metadata": {},
          "execution_count": 10
        }
      ],
      "source": [
        "text_file = sc.textFile(\"mr_text-file.txt\")\n",
        "text_file"
      ]
    },
    {
      "cell_type": "code",
      "execution_count": 11,
      "metadata": {
        "id": "dK-rZN_l0LKf",
        "colab": {
          "base_uri": "https://localhost:8080/"
        },
        "outputId": "9eda6c56-f908-4419-b2f9-20bc5204ec26"
      },
      "outputs": [
        {
          "output_type": "execute_result",
          "data": {
            "text/plain": [
              "['Ye-eh, eh-eh-eh',\n",
              " 'Ye-eh, eh-eh-eh',\n",
              " 'Ye-eh',\n",
              " '(ATL Jacob) (ATL Jacob)',\n",
              " 'Te busco y no sé dónde estás',\n",
              " 'Estoy buscando respuestas',\n",
              " '¿Cuándo fue la última vez que te vi sonreír?',\n",
              " 'Te decía: \"mi reina\"',\n",
              " 'Te temblaban las piernas',\n",
              " 'Contigo las noches no, no eran pa dormir',\n",
              " 'A veces lo ignoro',\n",
              " 'Fumo y bebo solo',\n",
              " 'Siempre pensé que no te debiste ir',\n",
              " 'Cambiaste plata por oro',\n",
              " 'Eras mi tesoro',\n",
              " 'No supe qué día te olvidaste de mí',\n",
              " 'Y-y de mí',\n",
              " 'Y-y, yo de ti',\n",
              " 'No supe que día te olvidaste de mí',\n",
              " 'Y-y, de mí',\n",
              " 'Y-y, yo de ti',\n",
              " 'No supe que día te olvidaste de mí',\n",
              " 'Y-y, de mí',\n",
              " 'Y-y, de mí',\n",
              " 'No supe qué día te olvidaste de mí',\n",
              " 'Y-y, de mí',\n",
              " 'Y-y, yo de ti',\n",
              " 'Yeh-yeh',\n",
              " \"A veces te extraño, ma'\",\n",
              " 'Te quiero perdonar',\n",
              " 'Pero me tiraste pa la lona',\n",
              " 'Me dejaste en cero toda la estamina',\n",
              " 'No me llames cuando te sientas sola',\n",
              " 'Bebé, yo sé que también extrañas los carros',\n",
              " 'Hacer el amor cuando estábamos farros, yeh',\n",
              " 'Todo era mentira cuando tú me decías: \"baby, te extraño\"',\n",
              " 'Qué, du-ra-ría-mos-años',\n",
              " 'Ba-by, dolió tu engaño',\n",
              " 'Ojalá que se acabe este tema',\n",
              " 'Y por fin yo me olvidé de ti',\n",
              " 'Te busco y no sé dónde estás',\n",
              " 'Estoy buscando respuestas',\n",
              " '¿Cuándo fue la última vez que te vi sonreír?',\n",
              " 'Te decía: \"mi reina\"',\n",
              " 'Te temblaban las piernas',\n",
              " 'No supe que día te olvidaste de mí',\n",
              " 'Y-y, de mí',\n",
              " 'Y-y, yo de ti',\n",
              " 'No supe que día te olvidaste de mí',\n",
              " 'Y-y, de mí',\n",
              " 'Y-y, yo de ti',\n",
              " 'No supe que día te olvidaste de mí',\n",
              " 'Y-y, de mí',\n",
              " 'Y-y, de mí',\n",
              " 'No supe que día te olvidaste de mí',\n",
              " 'Y-y, de mí',\n",
              " 'Y-y, yo de ti',\n",
              " 'No supe que día te olvidaste de mí',\n",
              " 'Yeh-eh, ah-ah-ah']"
            ]
          },
          "metadata": {},
          "execution_count": 11
        }
      ],
      "source": [
        "text_file.collect()"
      ]
    },
    {
      "cell_type": "markdown",
      "metadata": {
        "tags": [],
        "id": "f-RcWUme0LKf"
      },
      "source": [
        "Una vez creados, los RDD ofrecen dos tipos de operaciones:\n",
        "- Las __transformaciones__ construyen un nuevo RDD a partir de uno anterior.\n",
        "- Las __acciones__, por otro lado, calculan un resultado basado en un RDD y lo devuelven al programa del controlador o lo guardan en un sistema de almacenamiento externo (por ejemplo, HDFS).\n",
        "\n",
        "Las transformaciones y las acciones son diferentes debido a la forma en que Spark calcula los RDD. Aunque puede definir nuevos RDD en cualquier momento, Spark solo los computa de forma diferida, es decir, la primera vez que se utilizan en una acción. Este enfoque puede parecer inusual al principio, pero tiene mucho sentido cuando se trabaja con Big Data. Si Spark cargara y almacenara todas las líneas en el archivo tan pronto como escribiéramos _text_file = sc.textFile(...)_, desperdiciaría mucho espacio de almacenamiento o tiempo de procesamiento, dado que luego podemos filtrar  muchas líneas. En cambio, una vez que Spark ve la cadena completa de transformaciones, puede calcular solo los datos necesarios para su resultado.\n",
        "\n",
        "### Transformaciones en Spark\n",
        "\n",
        "A continuación se define un listado de las transformaciones más comunes:\n",
        "<br />-Para la columna __Result__ se calcula con un RDD con los valores {1, 2, 3, 3} en las operaciones unarias (map, flatMap, filter, distinct, sample) y para las binarias rdd={1, 2, 3} y other={3, 4, 5}.-\n",
        "\n",
        "![spark-transformaciones.png](data:image/png;base64,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)\n",
        "\n"
      ]
    },
    {
      "cell_type": "markdown",
      "metadata": {
        "id": "DNGtQv3_0LKg"
      },
      "source": [
        "**map**"
      ]
    },
    {
      "cell_type": "code",
      "execution_count": 12,
      "metadata": {
        "id": "g6sPy4tG0LKh",
        "colab": {
          "base_uri": "https://localhost:8080/"
        },
        "outputId": "5eee6578-47af-4d45-d1f9-835eda225d03"
      },
      "outputs": [
        {
          "output_type": "stream",
          "name": "stdout",
          "text": [
            "<class 'pyspark.rdd.PipelinedRDD'>\n"
          ]
        },
        {
          "output_type": "execute_result",
          "data": {
            "text/plain": [
              "['LUNES', 'MARTES', 'JUEVES']"
            ]
          },
          "metadata": {},
          "execution_count": 12
        }
      ],
      "source": [
        "diasM=diasRdd.map(lambda x: x.upper())#.collect()\n",
        "print(type(diasM))\n",
        "diasM.collect()"
      ]
    },
    {
      "cell_type": "markdown",
      "metadata": {
        "id": "qV56KPNj0LKh"
      },
      "source": [
        "**flatMap**"
      ]
    },
    {
      "cell_type": "code",
      "execution_count": 13,
      "metadata": {
        "id": "VfAGyTiD0LKh",
        "colab": {
          "base_uri": "https://localhost:8080/"
        },
        "outputId": "0539d68f-d254-4943-f003-e4bf1fc82047"
      },
      "outputs": [
        {
          "output_type": "execute_result",
          "data": {
            "text/plain": [
              "[2, 4, 3, 9, 4, 16]"
            ]
          },
          "metadata": {},
          "execution_count": 13
        }
      ],
      "source": [
        "rdd = sc.parallelize([2, 3, 4])\n",
        "rdd.flatMap(lambda x: (x,x*x)).collect()"
      ]
    },
    {
      "cell_type": "markdown",
      "metadata": {
        "id": "Bz0ItAH-0LKi"
      },
      "source": [
        "**filter**"
      ]
    },
    {
      "cell_type": "code",
      "execution_count": 14,
      "metadata": {
        "id": "rAwKknhS0LKi",
        "colab": {
          "base_uri": "https://localhost:8080/"
        },
        "outputId": "b386504f-3f1c-47bf-b7de-b86f092bbd8d"
      },
      "outputs": [
        {
          "output_type": "execute_result",
          "data": {
            "text/plain": [
              "['lunes']"
            ]
          },
          "metadata": {},
          "execution_count": 14
        }
      ],
      "source": [
        " diasRdd.filter(lambda x: x.startswith('l')).collect()"
      ]
    },
    {
      "cell_type": "markdown",
      "metadata": {
        "id": "BATueiah0LKi"
      },
      "source": [
        "**distinct**"
      ]
    },
    {
      "cell_type": "code",
      "execution_count": 15,
      "metadata": {
        "id": "A8e4_SZe0LKi",
        "colab": {
          "base_uri": "https://localhost:8080/"
        },
        "outputId": "01e27ab4-79e5-4c69-ab0d-86ec44ba76e1"
      },
      "outputs": [
        {
          "output_type": "execute_result",
          "data": {
            "text/plain": [
              "59"
            ]
          },
          "metadata": {},
          "execution_count": 15
        }
      ],
      "source": [
        "len(text_file.collect())"
      ]
    },
    {
      "cell_type": "code",
      "execution_count": 16,
      "metadata": {
        "id": "U1XQrCx40LKi",
        "colab": {
          "base_uri": "https://localhost:8080/"
        },
        "outputId": "d86a8fbc-da72-44e9-9eb8-719ffbda365b"
      },
      "outputs": [
        {
          "output_type": "execute_result",
          "data": {
            "text/plain": [
              "33"
            ]
          },
          "metadata": {},
          "execution_count": 16
        }
      ],
      "source": [
        "len(text_file.distinct().collect())"
      ]
    },
    {
      "cell_type": "markdown",
      "metadata": {
        "id": "Se6Nj3Cs0LKi"
      },
      "source": [
        "**sample(withReplacement, fraction, seed):**\n",
        "Muestrea una fracción de los datos, con o sin reemplazo, usando una semilla generadora de números aleatorios"
      ]
    },
    {
      "cell_type": "code",
      "execution_count": 17,
      "metadata": {
        "id": "WC6oU4Hu0LKi",
        "colab": {
          "base_uri": "https://localhost:8080/"
        },
        "outputId": "ecebaff4-2e7a-4846-e0a5-6db7c57a2c8b"
      },
      "outputs": [
        {
          "output_type": "execute_result",
          "data": {
            "text/plain": [
              "[9, 11, 13, 30, 41, 64, 74, 79, 85, 91, 95]"
            ]
          },
          "metadata": {},
          "execution_count": 17
        }
      ],
      "source": [
        "rdd = sc.parallelize(range(100))\n",
        "sample= rdd.sample(False, 0.2, 1)\n",
        "sample.collect()"
      ]
    },
    {
      "cell_type": "markdown",
      "metadata": {
        "id": "jJ7CPixl0LKi"
      },
      "source": [
        "**union(otherDataset):** Entrega un nuevo conjunto de datos que incluye los datos actuales y los que se pasen como argumento\n"
      ]
    },
    {
      "cell_type": "code",
      "execution_count": 18,
      "metadata": {
        "id": "JL0Y5TMo0LKi",
        "colab": {
          "base_uri": "https://localhost:8080/"
        },
        "outputId": "b39db413-4967-4fbf-c40a-f0f5f8677568"
      },
      "outputs": [
        {
          "output_type": "execute_result",
          "data": {
            "text/plain": [
              "[1, 3, 5, 7, 9, 0, 2, 4, 6, 8]"
            ]
          },
          "metadata": {},
          "execution_count": 18
        }
      ],
      "source": [
        "a=sc.parallelize([1, 3, 5, 7, 9])\n",
        "b=sc.parallelize([0, 2, 4, 6, 8])\n",
        "a.union(b).collect()\n"
      ]
    },
    {
      "cell_type": "markdown",
      "metadata": {
        "id": "EIkHYZ5S0LKi"
      },
      "source": [
        "**intersection(otherDataset):** Entrega un nuevo conjunto de datos formado por la intersección entre el conjunto de datos actual y el que se pasa como argumento"
      ]
    },
    {
      "cell_type": "code",
      "execution_count": 19,
      "metadata": {
        "id": "4rpCUIxY0LKi",
        "colab": {
          "base_uri": "https://localhost:8080/"
        },
        "outputId": "15e3674a-f41b-40a5-83bc-f86aeb708e30"
      },
      "outputs": [
        {
          "output_type": "execute_result",
          "data": {
            "text/plain": [
              "[8, 6]"
            ]
          },
          "metadata": {},
          "execution_count": 19
        }
      ],
      "source": [
        "a=sc.parallelize([0, 2, 4, 6, 8])\n",
        "b=sc.parallelize([6, 8, 10, 12, 14])\n",
        "a.intersection(b).collect()"
      ]
    },
    {
      "cell_type": "markdown",
      "metadata": {
        "id": "xI67PXbN0LKj"
      },
      "source": [
        "\n",
        "### Acciones en Spark\n",
        "\n",
        "A continuación se define un listado de las acciones más comunes y su utilización:\n",
        "<br />-Para la columna __Result__ se calcula con un RDD con los valores {1, 2, 3, 3}.-\n",
        "\n",
        "\n",
        "\n",
        "| Acción      | Descripción                                    |\n",
        "|-------------|------------------------------------------------|\n",
        "| .first(3)   | obtener los primeros 3 elementos               |\n",
        "| .count()    | contar los elementos en el RDD                 |\n",
        "| .take(3)    | obtener los primeros 3 elementos (similar a .first(3)) |\n",
        "| .collect()  | generar una lista a partir del RDD             |\n",
        "| .sum()      | sumar los elementos del RDD                    |\n",
        "| .mean()     | calcular el promedio de los elementos del RDD  |\n",
        "| .stdev()    | calcular la desviación estándar de los elementos del RDD |"
      ]
    },
    {
      "cell_type": "markdown",
      "metadata": {
        "id": "NGRg4GYK0LKj"
      },
      "source": [
        "  \n",
        "**reduce(func):** Agrega los elementos de un conjunto de datos aplicando sobre ellos una función\n"
      ]
    },
    {
      "cell_type": "code",
      "execution_count": 20,
      "metadata": {
        "id": "aKJzGyZv0LKj",
        "colab": {
          "base_uri": "https://localhost:8080/"
        },
        "outputId": "4ab165bf-b355-43c5-a4d5-163f93d113c8"
      },
      "outputs": [
        {
          "output_type": "execute_result",
          "data": {
            "text/plain": [
              "15"
            ]
          },
          "metadata": {},
          "execution_count": 20
        }
      ],
      "source": [
        "\n",
        "from operator import add\n",
        "rdd=sc.parallelize([1, 2, 3, 4, 5])\n",
        "rdd.reduce(add)"
      ]
    },
    {
      "cell_type": "markdown",
      "metadata": {
        "id": "a059g4Tm0LKj"
      },
      "source": [
        "**Collect()**: Devuelve todos los elementos del conjunto de datos\n",
        "\n",
        "**count()**: Entrega el número de elementos disponibles en el conjunto de datos\n"
      ]
    },
    {
      "cell_type": "code",
      "execution_count": 21,
      "metadata": {
        "id": "rB7PV1bD0LKj",
        "colab": {
          "base_uri": "https://localhost:8080/"
        },
        "outputId": "dea7b832-a038-45d6-a4e1-7617d70cc222"
      },
      "outputs": [
        {
          "output_type": "execute_result",
          "data": {
            "text/plain": [
              "5"
            ]
          },
          "metadata": {},
          "execution_count": 21
        }
      ],
      "source": [
        "sc.parallelize([1, 2, 3, 4, 5]).count()"
      ]
    },
    {
      "cell_type": "markdown",
      "metadata": {
        "id": "XuLIx_A10LKj"
      },
      "source": [
        "**First():** Entrega el primer elemento del conjunto de datos"
      ]
    },
    {
      "cell_type": "code",
      "execution_count": 22,
      "metadata": {
        "id": "_1AFUoxR0LKj",
        "colab": {
          "base_uri": "https://localhost:8080/"
        },
        "outputId": "7ba6c345-8fa1-40bf-abc4-d48c2b7f8066"
      },
      "outputs": [
        {
          "output_type": "execute_result",
          "data": {
            "text/plain": [
              "1"
            ]
          },
          "metadata": {},
          "execution_count": 22
        }
      ],
      "source": [
        "sc.parallelize([1, 2, 3, 4, 5]).first()"
      ]
    },
    {
      "cell_type": "markdown",
      "metadata": {
        "id": "h2d1rPZm0LKj"
      },
      "source": [
        "**Take(n):** Entrega los primeros n elementos del conjunto de datos\n"
      ]
    },
    {
      "cell_type": "code",
      "execution_count": 23,
      "metadata": {
        "id": "hie3m3Z40LKj",
        "colab": {
          "base_uri": "https://localhost:8080/"
        },
        "outputId": "0b2a3908-16a1-460f-84f7-508c2435bf90"
      },
      "outputs": [
        {
          "output_type": "execute_result",
          "data": {
            "text/plain": [
              "[1, 2, 3]"
            ]
          },
          "metadata": {},
          "execution_count": 23
        }
      ],
      "source": [
        "sc.parallelize([1, 2, 3, 4, 5]).take(3)"
      ]
    },
    {
      "cell_type": "markdown",
      "metadata": {
        "id": "LMJPzDca0LKj"
      },
      "source": [
        "**TakeOrdered(n):** Entrega los primeros n elementos del conjunto de datos ordenados\n"
      ]
    },
    {
      "cell_type": "code",
      "execution_count": 24,
      "metadata": {
        "id": "0ivCv4Dq0LKj",
        "colab": {
          "base_uri": "https://localhost:8080/"
        },
        "outputId": "11a03f9b-8728-433b-d6d3-0cda82d29829"
      },
      "outputs": [
        {
          "output_type": "execute_result",
          "data": {
            "text/plain": [
              "[1, 2, 3]"
            ]
          },
          "metadata": {},
          "execution_count": 24
        }
      ],
      "source": [
        "sc.parallelize([5, 3, 1, 4, 2]).takeOrdered(3)"
      ]
    },
    {
      "cell_type": "markdown",
      "metadata": {
        "id": "DSjjuEZf0LKj"
      },
      "source": [
        "\n",
        "**countByKey():** Devuelve un conjunto de datos representado por tuplas clave, valor. Donde el valor entregado será la suma de los elementos de la misma clave\n"
      ]
    },
    {
      "cell_type": "code",
      "execution_count": 25,
      "metadata": {
        "id": "jNK3ZCdl0LKj",
        "colab": {
          "base_uri": "https://localhost:8080/"
        },
        "outputId": "878449fc-6313-41b9-c1c5-205011c421e6"
      },
      "outputs": [
        {
          "output_type": "execute_result",
          "data": {
            "text/plain": [
              "defaultdict(int, {'a': 3, 'b': 2, 'c': 1})"
            ]
          },
          "metadata": {},
          "execution_count": 25
        }
      ],
      "source": [
        "rdd = sc.parallelize([(\"a\", 1), (\"b\", 1), (\"a\", 2), (\"b\", 6), (\"a\", 3), (\"c\", 5)])\n",
        "rdd.countByKey()"
      ]
    },
    {
      "cell_type": "markdown",
      "metadata": {
        "id": "slu4bvIe0LKk"
      },
      "source": [
        "### Persistencia\n",
        "La persistencia (o caching) en RDD de PySpark es una característica importante que permite a los usuarios almacenar temporalmente los RDDs en la memoria (RAM) o en el disco del cluster de Spark. Esto puede ser extremadamente útil para mejorar el rendimiento de tu aplicación de Spark, especialmente si necesitas acceder múltiples veces a un mismo RDD en distintas acciones.\n",
        "\n",
        "### ¿Por qué es importante la Persistencia?\n",
        "\n",
        "Apache Spark utiliza un modelo de computación basado en transformaciones lazy (perezosas), lo que significa que las transformaciones aplicadas a los RDDs (como `map`, `filter`, `reduceByKey`, etc.) no se ejecutan inmediatamente. En cambio, Spark construye un DAG (directed acyclic graph, grafo acíclico dirigido) de todas las transformaciones que necesitan ser aplicadas y solo cuando se solicita una acción (como `collect`, `count`, `save`, etc.), Spark ejecuta todas las transformaciones necesarias.\n",
        "\n",
        "Sin la persistencia, cada vez que ejecutes una acción sobre un RDD, Spark volverá a calcular todo el RDD desde el principio junto con todas las transformaciones que llevó a este. Esto puede ser muy ineficiente, especialmente si algunas partes de tu dataset son usadas repetidamente.\n",
        "\n",
        "### Niveles de Persistencia\n",
        "\n",
        "PySpark proporciona varios niveles de persistencia para los RDDs:\n",
        "\n",
        "- `MEMORY_ONLY`: Almacena el RDD como objetos Java deserializados en la JVM. Si el RDD no cabe en la memoria, algunas particiones no se cachearán y serán recomputadas en cada acción, según sea necesario. Este es el nivel por defecto.\n",
        "- `MEMORY_AND_DISK`: Almacena el RDD en la memoria como objetos Java deserializados. Si el RDD no cabe en memoria, las particiones que no caben se almacenan en disco y se leen de allí según sea necesario.\n",
        "- `DISK_ONLY`: Almacena el RDD completo en el sistema de archivos local del nodo.\n",
        "\n",
        "\n",
        "### Uso de la Persistencia\n",
        "\n",
        "Para persistir un RDD en PySpark, puedes usar el método `persist()` o `cache()`. `cache()` es un alias para `persist()` con el nivel de almacenamiento por defecto (`MEMORY_ONLY`). Si quieres especificar un nivel de persistencia diferente, puedes usar `persist()` con uno de los niveles de almacenamiento mencionados:\n"
      ]
    },
    {
      "cell_type": "code",
      "execution_count": 26,
      "metadata": {
        "id": "nrsCcd3_0LKp",
        "colab": {
          "base_uri": "https://localhost:8080/"
        },
        "outputId": "11c15993-a09d-4d28-9021-5c988a75b776"
      },
      "outputs": [
        {
          "output_type": "stream",
          "name": "stdout",
          "text": [
            "Cantidad de números pares: 50\n",
            "Suma de los números pares: 2550\n"
          ]
        }
      ],
      "source": [
        "# Crea un RDD con números del 1 al 100\n",
        "rdd = sc.parallelize(range(1, 101))\n",
        "\n",
        "# Filtra los números pares\n",
        "rdd_pares = rdd.filter(lambda x: x % 2 == 0)\n",
        "\n",
        "# Persiste el RDD en memoria\n",
        "rdd_pares.persist()\n",
        "\n",
        "# Cuenta la cantidad de números pares\n",
        "conteo_pares = rdd_pares.count()\n",
        "print(\"Cantidad de números pares:\", conteo_pares)\n",
        "\n",
        "# Realiza alguna operación adicional con el RDD persistido\n",
        "suma_pares = rdd_pares.reduce(lambda x, y: x + y)\n",
        "print(\"Suma de los números pares:\", suma_pares)"
      ]
    },
    {
      "cell_type": "code",
      "execution_count": 27,
      "metadata": {
        "id": "Se36g4oW0LKp",
        "colab": {
          "base_uri": "https://localhost:8080/"
        },
        "outputId": "2e0f3727-91ee-4f4e-c771-2d98ee873ee8"
      },
      "outputs": [
        {
          "output_type": "execute_result",
          "data": {
            "text/plain": [
              "PythonRDD[42] at RDD at PythonRDD.scala:53"
            ]
          },
          "metadata": {},
          "execution_count": 27
        }
      ],
      "source": [
        "rdd_pares.unpersist()\n"
      ]
    },
    {
      "cell_type": "code",
      "execution_count": 28,
      "metadata": {
        "id": "cFMK6VhV0LKp",
        "colab": {
          "base_uri": "https://localhost:8080/"
        },
        "outputId": "469a9b02-3d8b-43d1-c61b-02bcbf0f9cf5"
      },
      "outputs": [
        {
          "output_type": "stream",
          "name": "stdout",
          "text": [
            "de: 26\n",
            "mí: 19\n",
            "te: 15\n",
            "Y-y,: 15\n",
            "que: 12\n",
            "No: 10\n",
            "supe: 9\n",
            "día: 9\n",
            "olvidaste: 9\n",
            "yo: 8\n"
          ]
        }
      ],
      "source": [
        "counts = text_file.flatMap(lambda line: line.split(\" \")) \\\n",
        "             .map(lambda word: (word, 1)) \\\n",
        "             .reduceByKey(lambda a, b: a + b)\n",
        "top = counts.sortBy(lambda v: -v[1]).take(10)\n",
        "for p in top:\n",
        "\tprint (p[0] + \": %d\" % p[1])"
      ]
    },
    {
      "cell_type": "code",
      "execution_count": 29,
      "metadata": {
        "id": "_K96uk7T0LKp",
        "colab": {
          "base_uri": "https://localhost:8080/"
        },
        "outputId": "d4994681-4003-4e76-be4a-86f73dee561e"
      },
      "outputs": [
        {
          "output_type": "stream",
          "name": "stdout",
          "text": [
            "de: 26\n",
            "te: 22\n",
            "mí: 19\n",
            "y-y: 16\n",
            "no: 15\n",
            "que: 12\n",
            "supe: 9\n",
            "día: 9\n",
            "olvidaste: 9\n",
            "yo: 8\n"
          ]
        }
      ],
      "source": [
        "counts = text_file.flatMap(lambda line: line.replace(\",\",\"\").split(\" \")) \\\n",
        "      .filter(lambda x: x != '') \\\n",
        "      .map(lambda x: x.lower()) \\\n",
        "      .map(lambda word: (word, 1)) \\\n",
        "      .reduceByKey(lambda a, b: a + b)\n",
        "\n",
        "top = counts.sortBy(lambda v: -v[1]).take(10)\n",
        "\n",
        "for p in top:\n",
        "\tprint (p[0] + \": %d\" % p[1])"
      ]
    },
    {
      "cell_type": "code",
      "execution_count": 30,
      "metadata": {
        "id": "1YIyY4AI0LKp"
      },
      "outputs": [],
      "source": [
        "sc.stop()"
      ]
    },
    {
      "cell_type": "markdown",
      "metadata": {
        "id": "DyKPK_FU0LKp"
      },
      "source": [
        "## Reto\n",
        "\n",
        "Usando la información cargada en https://raw.githubusercontent.com/jazaineam1/BigData2023_2/main/Datos/datos_icfes.csv y usando cargando RDD's  indique.\n",
        "\n",
        "1. top 5 de los departamentos que más registros de examens icfes tienen\n",
        "2. Promedio de puntaje global por departamento.\n",
        "3. top 5 de los departamentos con peores puntajes"
      ]
    },
    {
      "cell_type": "markdown",
      "metadata": {
        "tags": [],
        "id": "sdKnuv7U0LKq"
      },
      "source": [
        "#**DATA FRAME**\n",
        "Se puede definir como una colección de datos distribuidos organizada por columnas y optimizada para para operar en clústers de Spark\n",
        "\n",
        "Es un concepto similar a las tablas en las bases de datos relacionales solo que presentan características similares a los RDDs\n",
        "\n",
        "En los Data Frames se puede acceder a los datos utilizando la librería SQL de Spark a través del SQLContext que se obtiene desde el SparkContext\n"
      ]
    },
    {
      "cell_type": "code",
      "execution_count": null,
      "metadata": {
        "id": "HhVuJtwA0LKq"
      },
      "outputs": [],
      "source": [
        "from pyspark.sql import SQLContext\n",
        "from pyspark.sql import SparkSession\n",
        "from pyspark import SparkContext\n",
        "spark = SparkSession.builder.master(\"yarn\").getOrCreate()\n",
        "sc = SparkContext.getOrCreate()\n",
        "sqlCtx = SQLContext(sc)"
      ]
    },
    {
      "cell_type": "markdown",
      "metadata": {
        "id": "AWlcu_L90LKq"
      },
      "source": [
        "**Crear un Data Frame**\n",
        "\n",
        "Existen dos formas de crear un Data Frame\n",
        "\n",
        "1. Desde un RDD: Crear un RDD y usar el método createDataFrame para obtener un Data Frame a partir del RDD"
      ]
    },
    {
      "cell_type": "code",
      "execution_count": null,
      "metadata": {
        "id": "PaMpdB7P0LKq"
      },
      "outputs": [],
      "source": [
        "datos=[(1,\"Juan\",33,\"Masculino\",\"Ingeniero\",4500000),\\\n",
        "       (2,\"Ana\",38,\"Femenino\",\"Arquitecta\",6200000),\\\n",
        "       (3,\"Carmen\",52,\"Femenino\",\"Abogada\",7500000)]\n",
        "empleadosRDD=sc.parallelize(datos)\n",
        "empleadosRDD.collect()\n",
        "type(empleadosRDD)"
      ]
    },
    {
      "cell_type": "code",
      "execution_count": null,
      "metadata": {
        "id": "5TJzvRl60LKq"
      },
      "outputs": [],
      "source": [
        "empleadosDF=sqlCtx.createDataFrame(empleadosRDD)\n",
        "empleadosDF.collect()\n",
        "type(empleadosDF)"
      ]
    },
    {
      "cell_type": "markdown",
      "metadata": {
        "id": "iwxbivJY0LKq"
      },
      "source": [
        "Los Data Frame tiene algunos métodos que facilitan la operación y visualización de los datos"
      ]
    },
    {
      "cell_type": "code",
      "execution_count": null,
      "metadata": {
        "id": "l4nvGbgg0LKq"
      },
      "outputs": [],
      "source": [
        "empleadosDF.show()"
      ]
    },
    {
      "cell_type": "markdown",
      "metadata": {
        "id": "Ij3fLhCa0LKq"
      },
      "source": [
        "Para comprender mejor los datos podemos indicar el nombre de las columnas"
      ]
    },
    {
      "cell_type": "code",
      "execution_count": null,
      "metadata": {
        "id": "r-7Yl3C10LKq"
      },
      "outputs": [],
      "source": [
        "empleadosDF=sqlCtx.createDataFrame(empleadosRDD,[\"Id\",\"Nombre\",\"Edad\",\"Sexo\",\"Profesión\",\"Salario\"])\n",
        "empleadosDF.collect()\n",
        "empleadosDF.show()"
      ]
    },
    {
      "cell_type": "markdown",
      "metadata": {
        "id": "f3MNqh--0LKr"
      },
      "source": [
        "Veamos qué tipo de dato se adoptó parma cada variable"
      ]
    },
    {
      "cell_type": "code",
      "execution_count": null,
      "metadata": {
        "id": "psppLlQ70LKr"
      },
      "outputs": [],
      "source": [
        "empleadosDF.printSchema()"
      ]
    },
    {
      "cell_type": "markdown",
      "metadata": {
        "id": "_fAvpO5w0LKr"
      },
      "source": [
        "\n",
        "\n",
        "En el siguiente link puede consultar los diferentes tipos de datos disponibles\n",
        "\n",
        "\n",
        "http://spark.apache.org/docs/3.0.0-preview2/sql-ref-datatypes.html\n",
        "\n",
        "La Edad y el salario los estamos usando con el mismo tipo de dato, pero en realidad podríamos optimizar si modificamos el tipo de dato de la edad\n"
      ]
    },
    {
      "cell_type": "code",
      "execution_count": null,
      "metadata": {
        "id": "a-bMVQmK0LKr"
      },
      "outputs": [],
      "source": [
        "from pyspark.sql.types import *\n",
        "empleadosDF=sqlCtx.createDataFrame(empleadosRDD, \\\n",
        "          StructType([ \\\n",
        "                      StructField(\"Id\", ByteType(),False), \\\n",
        "                      StructField(\"Nombre\", StringType(),False), \\\n",
        "                      StructField(\"Edad\", ByteType(),False), \\\n",
        "                      StructField(\"Sexo\", StringType(),False), \\\n",
        "                      StructField(\"Profesión\", StringType(),False), \\\n",
        "                      StructField(\"Salario\", IntegerType(),False)]))\n",
        "empleadosDF.printSchema()\n",
        "empleadosDF.show()"
      ]
    },
    {
      "cell_type": "markdown",
      "metadata": {
        "id": "Zr1EVvbU0LKr"
      },
      "source": [
        "2. Crear Data Frame desde un archivo externo\n",
        "\n",
        "**Cargar archivo csv**"
      ]
    },
    {
      "cell_type": "code",
      "execution_count": null,
      "metadata": {
        "id": "ifCrH_TN0LKr"
      },
      "outputs": [],
      "source": [
        "!wget https://raw.githubusercontent.com/jazaineam1/BigDataMINE2023/main/data/Pyspark/empleados.csv\n",
        "!hdfs dfs -put  empleados.csv /user/root/\n",
        "\n",
        "!wget https://raw.githubusercontent.com/jazaineam1/BigDataMINE2023/main/data/Pyspark/titanic.csv\n",
        "!hdfs dfs -put  titanic.csv /user/root/\n",
        "\n",
        "!wget https://raw.githubusercontent.com/jazaineam1/BigDataMINE2023/main/data/Pyspark/empleados.json\n",
        "!hdfs dfs -put  empleados.json /user/root/"
      ]
    },
    {
      "cell_type": "code",
      "execution_count": null,
      "metadata": {
        "id": "FMT2pxy40LKr"
      },
      "outputs": [],
      "source": [
        "empleadosDF = sqlCtx.read.csv(\"empleados.csv\")\n",
        "print(type(empleadosDF))\n",
        "empleadosDF.show(5)"
      ]
    },
    {
      "cell_type": "markdown",
      "metadata": {
        "id": "S4auImm_0LKr"
      },
      "source": [
        "Creo el Data Frame correctamente pero no le hemos indicado que la primera línea es el header"
      ]
    },
    {
      "cell_type": "code",
      "execution_count": null,
      "metadata": {
        "id": "2W9ycAFQ0LKs"
      },
      "outputs": [],
      "source": [
        "empleadosDF = sqlCtx.read.option(\"header\",True) \\\n",
        "     .csv(\"empleados.csv\")\n",
        "empleadosDF.show(5)"
      ]
    },
    {
      "cell_type": "markdown",
      "metadata": {
        "id": "usyoVw9j0LKs"
      },
      "source": [
        "Veamos el formato asumido para cada variable"
      ]
    },
    {
      "cell_type": "code",
      "execution_count": null,
      "metadata": {
        "id": "lGVZ2Olv0LKs"
      },
      "outputs": [],
      "source": [
        "empleadosDF.printSchema()"
      ]
    },
    {
      "cell_type": "markdown",
      "metadata": {
        "id": "NxjaXxrs0LKs"
      },
      "source": [
        "Qué tal si asignamos el tipo de datos de cada variable"
      ]
    },
    {
      "cell_type": "code",
      "execution_count": null,
      "metadata": {
        "id": "EGyPWMNz0LKs"
      },
      "outputs": [],
      "source": [
        "schema = StructType() \\\n",
        "      .add(\"Id\",ByteType(),True) \\\n",
        "      .add(\"Nombre\",StringType(),True) \\\n",
        "      .add(\"Edad\",ByteType(),True) \\\n",
        "      .add(\"Sexo\",StringType(),True) \\\n",
        "      .add(\"Profesión\",StringType(),True) \\\n",
        "      .add(\"Salario\",IntegerType(),True)\n",
        "\n",
        "empleadosDF = sqlCtx.read.format(\"csv\") \\\n",
        "      .option(\"header\", True) \\\n",
        "      .option(\"delimiter\", \",\") \\\n",
        "      .schema(schema) \\\n",
        "      .load(\"empleados.csv\")\n",
        "empleadosDF.printSchema()\n",
        "empleadosDF.show()"
      ]
    },
    {
      "cell_type": "markdown",
      "metadata": {
        "id": "G1q0RPt80LKs"
      },
      "source": [
        "**Cargar archivo json**"
      ]
    },
    {
      "cell_type": "code",
      "execution_count": null,
      "metadata": {
        "id": "eLqLn3VP0LKs"
      },
      "outputs": [],
      "source": [
        "empleadosDF = sqlCtx.read.json(\"empleados.json\")\n",
        "type(empleadosDF)\n",
        "empleadosDF.printSchema()\n",
        "empleadosDF.show()\n",
        "empleadosDF = sqlCtx.read.json(\"empleados.json\", \\\n",
        "            StructType([ \\\n",
        "                      StructField(\"Id\", IntegerType(),False), \\\n",
        "                      StructField(\"Nombre\", StringType(),False), \\\n",
        "                      StructField(\"Edad\", ByteType(),False), \\\n",
        "                      StructField(\"Sexo\", StringType(),False), \\\n",
        "                      StructField(\"Profesión\", StringType(),False), \\\n",
        "                      StructField(\"Salario\", IntegerType(),False)]))\n",
        "type(empleadosDF)\n",
        "empleadosDF.printSchema()\n",
        "empleadosDF.show()"
      ]
    },
    {
      "cell_type": "markdown",
      "metadata": {
        "id": "eJuj5lzM0LKs"
      },
      "source": [
        "**Acceso a los datos**\n",
        "\n",
        "Una gran ventaja que ofrecen los Data Frames es que podemos acceder a cada variable a través del nombre del data frame, el caracter punto(.) y el nombre de la variable\n"
      ]
    },
    {
      "cell_type": "code",
      "execution_count": null,
      "metadata": {
        "id": "cFoAVPcc0LKs"
      },
      "outputs": [],
      "source": [
        "\n",
        "empleadosDF.Salario"
      ]
    },
    {
      "cell_type": "markdown",
      "metadata": {
        "id": "kpNJsiTe0LKt"
      },
      "source": [
        "\n",
        "##**Operaciones**\n",
        "Sobre los Data Frames podemos realizar varios tipos de operaciones.\n",
        "\n",
        "Vamos dos de ellas, a saber, propiedades y métodos\n",
        "###**Propiedades**\n",
        "\n",
        "Las propiedades son atributos que podemos consultar sobre nuestros Data Frames.\n",
        "\n",
        "Veamos algunas de ellas\n",
        "**columns**\n",
        "\n",
        "Es una propiedad que se utiliza para conocer el nombre de las variables (columnas) del Data Frame\n"
      ]
    },
    {
      "cell_type": "code",
      "execution_count": null,
      "metadata": {
        "id": "_9KIySFz0LKt"
      },
      "outputs": [],
      "source": [
        "empleadosDF.columns"
      ]
    },
    {
      "cell_type": "markdown",
      "metadata": {
        "id": "eKXulbtl0LKt"
      },
      "source": [
        "\n",
        "**dtypes**\n",
        "\n",
        "Atributo que indica el tipo de dato de cada variable (columna) del Data Frame"
      ]
    },
    {
      "cell_type": "code",
      "execution_count": null,
      "metadata": {
        "id": "cZg4oyOS0LKt"
      },
      "outputs": [],
      "source": [
        "\n",
        "empleadosDF.dtypes"
      ]
    },
    {
      "cell_type": "markdown",
      "metadata": {
        "id": "_vkG_F910LKt"
      },
      "source": [
        "\n",
        "**rdd**\n",
        "\n",
        "Convierte un Data Frame a un RDD"
      ]
    },
    {
      "cell_type": "code",
      "execution_count": null,
      "metadata": {
        "id": "TJi9On_N0LKt"
      },
      "outputs": [],
      "source": [
        "\n",
        "empRDD=empleadosDF.rdd\n",
        "type(empRDD)\n"
      ]
    },
    {
      "cell_type": "markdown",
      "metadata": {
        "id": "MJvpu4Ng0LKt"
      },
      "source": [
        "\n",
        "### **Métodos**\n",
        "Data Frame dispone de una serie de métodos que podemos aplicar sobre nuestros datos. Algunos de estos son similares a los métodos revisados para RDD.\n",
        "\n",
        "Veamos algunos de los principales métodos disponibles en Data Frames\n",
        "**agg(funciones_agregacion)**\n",
        "\n",
        "Este método realiza una agregación sobre el data frame, es decir que a partir del data frame original, devuelve un nuevo data frame que contiene el resultado de las funciones de agregación realizadas sobre el conjunto de datos.\n",
        "\n",
        "Estas funciones de agregación son especificadas por el usuario y hacen referencia a operaciones básicas sobre los datos. Estas son algunas de las funciones de agregación disponibles:\n",
        "\n",
        "* first: entrega el primer elemento\n",
        "* last: entrega el último elemento\n",
        "* min: entrega el valor mínimo de una variable específica\n",
        "* max: entrega el valor máximo de una variable específica\n",
        "* sum: entrega la suma de los valores de una variable específica\n",
        "* avg: entrega el promedio de los valores de una variable específica\n",
        "Usemos el método agg para conocer el promedio de los salarios de los empleados\n",
        "\n",
        "---\n"
      ]
    },
    {
      "cell_type": "code",
      "execution_count": null,
      "metadata": {
        "id": "xN_yNinz0LKt"
      },
      "outputs": [],
      "source": [
        "empleadosDF.show()\n",
        "salario=empleadosDF.agg({\"Salario\": \"avg\"}).take(1)\n",
        "type(salario)\n",
        "salario"
      ]
    },
    {
      "cell_type": "code",
      "execution_count": null,
      "metadata": {
        "id": "Bfj10b960LKt"
      },
      "outputs": [],
      "source": [
        "salario=empleadosDF.agg({\"Salario\": \"avg\"})\n",
        "salario.show()\n",
        "type(salario)"
      ]
    },
    {
      "cell_type": "markdown",
      "metadata": {
        "id": "S2oJKRn_0LKu"
      },
      "source": [
        "\n",
        "También podemos utilizar las funciones disponibles en la clase functions de la librería pyspark.sql"
      ]
    },
    {
      "cell_type": "code",
      "execution_count": null,
      "metadata": {
        "id": "5IqmzsZL0LKu"
      },
      "outputs": [],
      "source": [
        "from pyspark.sql import functions\n",
        "edad=empleadosDF.agg( \\\n",
        "    functions.min(empleadosDF.Edad), \\\n",
        "    functions.max(empleadosDF.Edad), \\\n",
        "    functions.avg(empleadosDF.Edad))\n",
        "edad.show()\n",
        "type(edad)"
      ]
    },
    {
      "cell_type": "markdown",
      "metadata": {
        "id": "jCkwVXIt0LKu"
      },
      "source": [
        "En este caso utilizamos tres funciones de agregación, el resultado es un nuevo Data Frame de una sola fila y tres columnas (una por cada función de agregación)\n",
        "\n",
        "**corr(var1,var2)**\n",
        "Este método se utiliza para calcular la correlación entre un par de variables del Data Frame"
      ]
    },
    {
      "cell_type": "code",
      "execution_count": null,
      "metadata": {
        "id": "5NaYaZ6x0LKu"
      },
      "outputs": [],
      "source": [
        "empleadosDF.corr(\"Edad\", \"Salario\")"
      ]
    },
    {
      "cell_type": "markdown",
      "metadata": {
        "id": "_AEvmPKp0LKu"
      },
      "source": [
        "**count()**\n",
        "\n",
        "Se utiliza para conocer el número de registros (filas) en el Data Frame"
      ]
    },
    {
      "cell_type": "code",
      "execution_count": null,
      "metadata": {
        "id": "za5ezrxa0LKu"
      },
      "outputs": [],
      "source": [
        "\n",
        "empleadosDF.count()"
      ]
    },
    {
      "cell_type": "markdown",
      "metadata": {
        "id": "bf66U51L0LKu"
      },
      "source": [
        "\n",
        "**distinct()**\n",
        "\n",
        "Crea un nuevo Data Frame a partir de los registros (filas) que sean diferentes en el Data Frame inicial"
      ]
    },
    {
      "cell_type": "code",
      "execution_count": null,
      "metadata": {
        "id": "Fjdo37vv0LKu"
      },
      "outputs": [],
      "source": [
        "emp=empleadosDF.distinct()\n",
        "emp.show()"
      ]
    },
    {
      "cell_type": "markdown",
      "metadata": {
        "id": "TEoFjwna0LKu"
      },
      "source": [
        "\n",
        "**drop(var)**\n",
        "\n",
        "Toma el Data Frame inicial, elimina la variable (columna) especificada y entrega un nuevo Data Frame con el resultado\n"
      ]
    },
    {
      "cell_type": "code",
      "execution_count": null,
      "metadata": {
        "id": "C4edFtdw0LKu"
      },
      "outputs": [],
      "source": [
        "emp=empleadosDF.drop(\"Id\")\n",
        "emp.show()"
      ]
    },
    {
      "cell_type": "markdown",
      "metadata": {
        "id": "r3VgCa5r0LKu"
      },
      "source": [
        "**union(other)**\n",
        "\n",
        "Este método crea un nuevo Data Frame a partir de la unión de dos Data Frames"
      ]
    },
    {
      "cell_type": "code",
      "execution_count": null,
      "metadata": {
        "id": "P2CgU_tw0LKu"
      },
      "outputs": [],
      "source": [
        "nuevos=sqlCtx.createDataFrame([ \\\n",
        "      (4,\"Ana\",40,\"Femenino\",\"Docente\",7600000), \\\n",
        "      (5,\"Luis\",62,\"Masculino\",\"Panadero\",None)])\n",
        "nuevos.show()\n",
        "emp=empleadosDF.union(nuevos)\n",
        "emp.show()"
      ]
    },
    {
      "cell_type": "markdown",
      "metadata": {
        "id": "2Bxaea-u0LKv"
      },
      "source": [
        "**dropDuplicates(var)**\n",
        "Este método devuelve un nuevo Data Frame en el que ha eliminado los registros (filas) duplicadas. Esto ya los hacía el método distinct(), la diferencia es que en dropDuplicates() se puede especificar las columnas a evaluar para considerar que dos registros son duplicados\n"
      ]
    },
    {
      "cell_type": "code",
      "execution_count": null,
      "metadata": {
        "id": "paenh4Sh0LKv"
      },
      "outputs": [],
      "source": [
        "empd=emp.dropDuplicates()\n",
        "empd.show()"
      ]
    },
    {
      "cell_type": "markdown",
      "metadata": {
        "id": "L5Mah0wG0LKv"
      },
      "source": [
        "**fillna(valor,col[ ])**\n",
        "\n",
        "Este método devuelve un nuevo Data Frame luego de sustituir los valores nulos detectados por el valor especificado.\n",
        "\n",
        "Adicionalmente, es posible indicarlo cuales son las columnas sobre las que va a operar\n"
      ]
    },
    {
      "cell_type": "code",
      "execution_count": null,
      "metadata": {
        "id": "ZO-iYnBo0LKv"
      },
      "outputs": [],
      "source": [
        "empfna=empd.fillna(1000000)\n",
        "empfna.show()"
      ]
    },
    {
      "cell_type": "markdown",
      "metadata": {
        "id": "k-CDHHJ50LKv"
      },
      "source": [
        "\n",
        "**dropna(_cuantas, _umbral, _columnas)**\n",
        "\n",
        "Este método devuelve un nuevo Dat Frame resultado de eliminar los registros (filas) que contienen nulos en el Data Frame inicial.\n",
        "\n"
      ]
    },
    {
      "cell_type": "code",
      "execution_count": null,
      "metadata": {
        "id": "bcav74Ag0LKv"
      },
      "outputs": [],
      "source": [
        "\n",
        "empd.show()\n",
        "empdna=empd.dropna(\"any\")\n",
        "empdna.show()"
      ]
    },
    {
      "cell_type": "markdown",
      "metadata": {
        "id": "sQj9p_Lm0LKv"
      },
      "source": [
        "\n",
        "**filter(condicion)**\n",
        "Funciona similar al filter de RDD. Devuelve un nuevo Data Frame que contiene los registros para los cuales la condición arroja como resultado True\n",
        "\n"
      ]
    },
    {
      "cell_type": "code",
      "execution_count": null,
      "metadata": {
        "id": "9KYAVSVL0LKv"
      },
      "outputs": [],
      "source": [
        "empf=empleadosDF.filter(empleadosDF.Salario>5000000)\n",
        "empleadosDF.show()\n",
        "empf.show()"
      ]
    },
    {
      "cell_type": "markdown",
      "metadata": {
        "id": "IxqyjLEV0LKv"
      },
      "source": [
        "**GroupBy(var)**\n",
        "\n",
        "Genera un nuevo Data Frame donde agrupa los registros que coincidan en la variable especificada.\n",
        "\n",
        "Luego de agrupar es posible realizar agregaciones para indicar que se desea realizar con los valores de los registros agrupados\n"
      ]
    },
    {
      "cell_type": "code",
      "execution_count": null,
      "metadata": {
        "id": "G04riq2l0LKv"
      },
      "outputs": [],
      "source": [
        "\n",
        "empavg=emp.groupBy(\"Nombre\").avg()\n",
        "empsal=emp.groupBy(\"Nombre\").agg({\"Salario\":\"avg\"})\n",
        "print(\"Data Frame Inicial\")\n",
        "emp.show()\n",
        "print(\"Data Frame promediando todas las variables\")\n",
        "empavg.show()\n",
        "print(\"Data Frame promediando una variable específica\")\n",
        "empsal.show()\n"
      ]
    },
    {
      "cell_type": "markdown",
      "metadata": {
        "id": "765DMttW0LKv"
      },
      "source": [
        "**orderBy(var)**\n",
        "\n",
        "Entrega un Data Frame ordenado de acuerdo a la variable indicada"
      ]
    },
    {
      "cell_type": "code",
      "execution_count": null,
      "metadata": {
        "id": "cP07PrFc0LKv"
      },
      "outputs": [],
      "source": [
        "\n",
        "\n",
        "empo=emp.orderBy(emp.Salario.desc())\n",
        "print(\"Data Frame Inicial\")\n",
        "emp.show()\n",
        "print(\"Data Frame ordebado por salario\")\n",
        "empo.show()\n"
      ]
    },
    {
      "cell_type": "markdown",
      "metadata": {
        "id": "pVNASZCB0LKw"
      },
      "source": [
        "**select(lista_var)**\n",
        "\n",
        "Genera un nuevo Data Frame que incluye únicamente las variables indicadas del Data Frame original"
      ]
    },
    {
      "cell_type": "code",
      "execution_count": null,
      "metadata": {
        "id": "WPWBp-rh0LKw"
      },
      "outputs": [],
      "source": [
        "emps=empleadosDF.select(\"Nombre\",\"Sexo\",\"Salario\")\n",
        "print(\"Data Frame Inicial\")\n",
        "empleadosDF.show()\n",
        "print(\"Data Frame nuevo\")\n",
        "emps.show()"
      ]
    },
    {
      "cell_type": "markdown",
      "metadata": {
        "id": "tbHEof210LKw"
      },
      "source": [
        "**selectExpr(expresiones)**\n",
        "\n",
        "Funciona similar al método select(), pero permite crear nuevas variables (columnas) a partir de la evaluación de las expresiones indicadas"
      ]
    },
    {
      "cell_type": "code",
      "execution_count": null,
      "metadata": {
        "id": "iaYSjzvU0LKw"
      },
      "outputs": [],
      "source": [
        "emps=empleadosDF.selectExpr(\"Nombre\",\"Sexo\",\"Salario\", \"Edad > 50\")\n",
        "print(\"Data Frame Inicial\")\n",
        "empleadosDF.show()\n",
        "print(\"Data Frame nuevo\")\n",
        "emps.show()"
      ]
    },
    {
      "cell_type": "markdown",
      "metadata": {
        "id": "9mGhPGC90LKw"
      },
      "source": [
        "\n",
        "**withcolumn(nombre,expresion)**\n",
        "\n",
        "Al igual que selectExpr() permite adicionar columnas con el resultado de la evaluación de una expresión. La diferencia consiste en poder asignar el nombre de las columnas adicionadas\n"
      ]
    },
    {
      "cell_type": "code",
      "execution_count": null,
      "metadata": {
        "id": "sAHwJV7g0LKw"
      },
      "outputs": [],
      "source": [
        "emps=empleadosDF.withColumn(\"Mayor de 50\", empleadosDF.Edad > 50)\n",
        "print(\"Data Frame Inicial\")\n",
        "empleadosDF.show()\n",
        "print(\"Data Frame nuevo\")\n",
        "emps.show()"
      ]
    },
    {
      "cell_type": "markdown",
      "metadata": {
        "tags": [],
        "id": "JLb3dYSg0LKw"
      },
      "source": [
        "\n",
        "## **Consultas SQL**\n",
        "Los métodos descritos anteriormente permiten operar los datos para crear registros, leerlos, actualizarlos e incluso eliminarlos, las operaciones básicas de un CRUD.\n",
        "\n",
        "Seguramente usted está acostumbrado a realizar estas operaciones utilizando lenguaje SQL, pues bien, la clase SqlContext de Spark cuenta con un método llamado sql que permite utilizar el lenguaje SQL para operar un Data Frame\n",
        "\n",
        "Para poder hacer esto, debe registrar en el motor de SQL una tabla que servirá para referenciar el Data Frame y realizar las operaciones sobre dicha tabla\n",
        "\n",
        "De esta manera cada que requiere utilizar una consulta SQL lo realizará sobre la tabla Empleados\n",
        "\n",
        "**Lectura de datos**"
      ]
    },
    {
      "cell_type": "code",
      "execution_count": null,
      "metadata": {
        "id": "5F9sXicj0LKw"
      },
      "outputs": [],
      "source": [
        "empleadosDF.registerTempTable(\"Empleados\")"
      ]
    },
    {
      "cell_type": "code",
      "execution_count": null,
      "metadata": {
        "id": "PbYNLZyS0LKw"
      },
      "outputs": [],
      "source": [
        "\n",
        "q1 = sqlCtx.sql(\"SELECT * FROM Empleados\")\n",
        "q1.show()"
      ]
    },
    {
      "cell_type": "markdown",
      "metadata": {
        "id": "VQC8y6xK0LKw"
      },
      "source": [
        "**Filtremos los registros que la edad sea mayor que 50**"
      ]
    },
    {
      "cell_type": "code",
      "execution_count": null,
      "metadata": {
        "id": "Eg82OgGz0LKw"
      },
      "outputs": [],
      "source": [
        "q2 = sqlCtx.sql('SELECT * FROM Empleados WHERE Edad > 50')\n",
        "q2.show()"
      ]
    },
    {
      "cell_type": "markdown",
      "metadata": {
        "id": "PeAWSK1h0LKx"
      },
      "source": [
        "**Leamos solo las variables de interés**"
      ]
    },
    {
      "cell_type": "code",
      "execution_count": null,
      "metadata": {
        "id": "1XdWJhih0LKx"
      },
      "outputs": [],
      "source": [
        "q3 = sqlCtx.sql(\"\"\"\n",
        "\t\tSELECT Nombre, Edad, Sexo\n",
        "\t\tFROM Empleados\n",
        "\t\"\"\")\n",
        "q3.show()"
      ]
    },
    {
      "cell_type": "markdown",
      "metadata": {
        "id": "vMYjLdA10LKx"
      },
      "source": [
        "**Funciones definidas por el usuario**\n",
        "\n",
        "A demás de las consultas básicas que proporciona SQL, el usuario puede definir sus propias funciones e incorporarlas dentro de una consulta SQL. Esto es de gran ayuda para personalizar las acciones que deseamos realizar sobre los datos\n",
        "\n",
        "Primero debemos definir la función a utilizar"
      ]
    },
    {
      "cell_type": "code",
      "execution_count": null,
      "metadata": {
        "id": "danRKFH50LKx"
      },
      "outputs": [],
      "source": [
        "\n",
        "def funcionEdad(edad):\n",
        "\tif edad < 50:\n",
        "\t\treturn \"Menor de 50\"\n",
        "\telse:\n",
        "\t\treturn \"Mayor de 50\"\n"
      ]
    },
    {
      "cell_type": "markdown",
      "metadata": {
        "id": "NnpMjDOT0LKx"
      },
      "source": [
        "Ahora debmemos registrar la función con la ayuda del SqlContext"
      ]
    },
    {
      "cell_type": "code",
      "execution_count": null,
      "metadata": {
        "id": "6UaVSvjJ0LKx"
      },
      "outputs": [],
      "source": [
        "sqlCtx.registerFunction(\"funcionEdad\",funcionEdad)\n"
      ]
    },
    {
      "cell_type": "code",
      "execution_count": null,
      "metadata": {
        "id": "QfXBoO0j0LKx"
      },
      "outputs": [],
      "source": [
        "q4 = sqlCtx.sql(\"\"\"\n",
        "\t\tSELECT Nombre, Sexo, Salario, funcionEdad(Edad) AS Edad_Mayor_50\n",
        "\t\tFROM Empleados\n",
        "\t\t\"\"\")\n",
        "q4.show()"
      ]
    },
    {
      "cell_type": "markdown",
      "metadata": {
        "id": "ioUW0k0X0LKx"
      },
      "source": [
        "#**Ejemplos**\n",
        "\n",
        "##**Titanic**\n",
        "El archivo titanic.csv recoge la información de los 2201 pasajeros del titanic. Para cada pasajero se dispone de la siguiente información.\n",
        "\n",
        "* Clase: Tripulación, Primera, Segunda, Tercera\n",
        "* Edad: Adulto, Niño\n",
        "* Sexo: Hombre, Mujer\n",
        "* Sobrevivió: Si, No\n",
        "\n",
        "Creemos un Data Frame a partir de este archivo y realicemos algunas operaciones"
      ]
    },
    {
      "cell_type": "code",
      "execution_count": null,
      "metadata": {
        "id": "17QW5HYV0LKx"
      },
      "outputs": [],
      "source": [
        "\n",
        "titanic = sqlCtx.read.option(\"header\",True) \\\n",
        "      .option(\"delimiter\",\";\") \\\n",
        "     .csv(\"titanic.csv\")\n",
        "titanic.show(5)"
      ]
    },
    {
      "cell_type": "code",
      "execution_count": null,
      "metadata": {
        "id": "EZSvRZjo0LKx"
      },
      "outputs": [],
      "source": [
        "#**Cuántos pasajeros sobrevivieron por clase?**\n",
        "sob=titanic.filter(titanic.Sobrevivio==\"Si\")\n",
        "sob.distinct().show()\n",
        "sob1=sob.filter(sob.Clase==\"Primera\")\n",
        "sob1.count()\n",
        "cs1=titanic.filter(titanic.Sobrevivio==\"Si\").filter(titanic.Clase==\"Primera\").count()\n",
        "cs2=titanic.filter(titanic.Sobrevivio==\"Si\").filter(titanic.Clase==\"Segunda\").count()\n",
        "cs3=titanic.filter(titanic.Sobrevivio==\"Si\").filter(titanic.Clase==\"Tercera\").count()\n",
        "cst=titanic.filter(titanic.Sobrevivio==\"Si\").filter(titanic.Clase==\"Tripulacion\").count()\n",
        "\n",
        "print(\"Los sobrevivientes de primera clase son : \",cs1)\n",
        "print(\"Los sobrevivientes de segunda clase son : \",cs2)\n",
        "print(\"Los sobrevivientes de tercera clase son : \",cs3)\n",
        "print(\"Los sobrevivientes de la tripulación son : \",cst)\n",
        "\n"
      ]
    },
    {
      "cell_type": "code",
      "execution_count": null,
      "metadata": {
        "id": "R-kaME-j0LKx"
      },
      "outputs": [],
      "source": [
        "titanic.filter(titanic.Sobrevivio=='Si').groupBy('Clase').count().collect()"
      ]
    },
    {
      "cell_type": "markdown",
      "metadata": {
        "id": "nEmjxSFF0LKx"
      },
      "source": [
        "Calculemos el promedio"
      ]
    },
    {
      "cell_type": "code",
      "execution_count": null,
      "metadata": {
        "id": "7naN-5BY0LKx"
      },
      "outputs": [],
      "source": [
        "titanic.registerTempTable(\"Titanic\")\n",
        "q = sqlCtx.sql(\"SELECT * FROM Titanic\")\n",
        "q.show(5)\n",
        "titanic.registerTempTable(\"Titanic\")\n",
        "q = sqlCtx.sql(\"SELECT Clase, Sobrevivio FROM Titanic\")\n",
        "q.distinct().show()\n",
        "def SobrevivioInt(sobrevivio):\n",
        "\t\treturn int (sobrevivio==\"Si\")\n",
        "sqlCtx.registerFunction(\"SobrevivioInt\",SobrevivioInt)\n",
        "sob = sqlCtx.sql(\"\"\"\n",
        "\t\tSELECT Clase, SobrevivioInt(Sobrevivio) AS Sobrevivio\n",
        "\t\tFROM Titanic\n",
        "\t\t\"\"\")\n",
        "sob.distinct().show()\n",
        "\n",
        "sob.printSchema()\n",
        "from pyspark.sql import functions\n",
        "from pyspark.sql.types import *\n",
        "sobInt=sob.withColumn(\"Sobrevivio\",sob.Sobrevivio.cast(ByteType()))\n",
        "sobInt.printSchema()\n",
        "\n",
        "sobClase=sobInt.groupBy('Clase').sum().show()\n",
        "totalClase=sobInt.groupBy('Clase').count().show()\n",
        "promSobClase=sobInt.groupBy('Clase').avg().show()"
      ]
    },
    {
      "cell_type": "markdown",
      "metadata": {
        "id": "yMio95tN0LKy"
      },
      "source": [
        "\n",
        "**Qué pasó con los adultos de tercera clase?**"
      ]
    },
    {
      "cell_type": "code",
      "execution_count": null,
      "metadata": {
        "id": "44_X80P60LKy"
      },
      "outputs": [],
      "source": [
        "\n",
        "at=titanic.filter((titanic.Edad==\"Adulto\") & (titanic.Clase==\"Tercera\")).select(\"Sexo\",\"Sobrevivio\")\n",
        "at.distinct().show()\n",
        "hsi=at.filter((titanic.Sexo==\"Hombre\") & (titanic.Sobrevivio==\"Si\")).count()\n",
        "msi=at.filter((titanic.Sexo==\"Mujer\") & (titanic.Sobrevivio==\"Si\")).count()\n",
        "th=at.filter(titanic.Sexo==\"Hombre\").count()\n",
        "tm=at.filter(titanic.Sexo==\"Mujer\").count()\n",
        "\n",
        "print(\"Los Adultos Hombres de terera clase eran : %d y sobrevivieron: %d\" %(th,hsi))\n",
        "print(\"Los Adultos Mujeres de terera clase eran : %d y sobrevivieron: %d\" %(tm,msi))"
      ]
    },
    {
      "cell_type": "code",
      "execution_count": null,
      "metadata": {
        "id": "-_DWnnP00LKy"
      },
      "outputs": [],
      "source": [
        "#Veamos otra forma de resolverlo\n",
        "sob = sqlCtx.sql(\"\"\"\n",
        "\t\tSELECT Sexo, SobrevivioInt(Sobrevivio) AS Sobrevivio\n",
        "\t\tFROM Titanic\n",
        "    WHERE Clase = 'Tercera' AND Edad = 'Adulto'\n",
        "\t\t\"\"\")\n",
        "sob.distinct().show()\n",
        "sob.printSchema()\n",
        "from pyspark.sql import functions\n",
        "sobInt=sob.withColumn(\"Sobrevivio\",sob.Sobrevivio.cast(ByteType()))\n",
        "sobInt.printSchema()\n",
        "sobInt.distinct().show()\n",
        "ats=sobInt.groupBy(\"Sexo\").sum().show()\n",
        "at=sobInt.groupBy(\"Sexo\").count().show()\n",
        "pats=sobInt.groupBy(\"Sexo\").avg().show()"
      ]
    },
    {
      "cell_type": "markdown",
      "metadata": {
        "id": "Q6pYc73J0LKy"
      },
      "source": [
        "**Al momento del rescate se cumplió con la premisa \"Mujeres y niños primero\"**\n",
        "Revisemos que pasó con las mujeres"
      ]
    },
    {
      "cell_type": "code",
      "execution_count": null,
      "metadata": {
        "id": "Ci1mb0xQ0LKy"
      },
      "outputs": [],
      "source": [
        "\n",
        "m=titanic.filter(titanic.Sexo==\"Mujer\").select(\"Edad\",\"Sobrevivio\")\n",
        "m.distinct().show()\n",
        "tms=m.filter(titanic.Sobrevivio==\"Si\").count()\n",
        "tm=m.count()\n",
        "pms=tms*100/tm\n",
        "print(\"El total de mujeres que en el Titanic es: \", tm)\n",
        "print(\"El total de mujeres que sobrevivieron es: \", tms)\n",
        "print(\"El porcentaje de mujeres que sobrevivieron es: \", round(pms,1))"
      ]
    },
    {
      "cell_type": "code",
      "execution_count": null,
      "metadata": {
        "id": "-bPGr1nA0LKy"
      },
      "outputs": [],
      "source": [
        "#Ahora veamos que pasó con los niños\n",
        "n=titanic.filter(titanic.Edad==\"Ni�o\").select(\"Sexo\",\"Sobrevivio\")\n",
        "n.distinct().show()\n",
        "tns=n.filter(titanic.Sobrevivio==\"Si\").count()\n",
        "tn=n.count()\n",
        "pns=tns*100/tn\n",
        "print(\"El total de niños que en el Titanic es: \", tn)\n",
        "print(\"El total de niños que sobrevivieron es: \", tns)\n",
        "print(\"El porcentaje de niños que sobrevivieron es: \", round(pns,1))"
      ]
    },
    {
      "cell_type": "code",
      "execution_count": null,
      "metadata": {
        "id": "vZeX-Dzf0LKy"
      },
      "outputs": [],
      "source": [
        "#Veamos que pasó con mujeres y niños\n",
        "mn=titanic.filter(((titanic.Edad==\"Ni�o\") | (titanic.Sexo==\"Mujer\"))).select(\"Edad\",\"Sexo\",\"Sobrevivio\")\n",
        "mn.distinct().show()\n",
        "tmns=mn.filter(titanic.Sobrevivio==\"Si\").count()\n",
        "tmn=mn.count()\n",
        "pmns=tns*100/tn\n",
        "print(\"El total de mujeres y niños en el Titanic es: \", tmn)\n",
        "print(\"El total de mujeres y niños que sobrevivieron es: \", tmns)\n",
        "print(\"El porcentaje de mujeres y niños que sobrevivieron es: \", round(pmns,1))"
      ]
    },
    {
      "cell_type": "code",
      "execution_count": null,
      "metadata": {
        "tags": [],
        "id": "rcYiGWTJ0LKy"
      },
      "outputs": [],
      "source": [
        "\n",
        "\n",
        "#Veamos otra forma de resolver el ejercicio\n",
        "titanic.distinct().show()\n",
        "titanicS = sqlCtx.sql(\"\"\"\n",
        "\t\tSELECT Sexo, Edad, SobrevivioInt(Sobrevivio) AS Sobrevivio\n",
        "\t\tFROM Titanic\n",
        "\t\t\"\"\")\n",
        "titanicS.distinct().show()\n",
        "from pyspark.sql import functions\n",
        "from pyspark.sql.types import *\n",
        "titanicInt=titanicS.withColumn(\"Sobrevivio\",titanicS.Sobrevivio.cast(ByteType()))\n",
        "titanicInt.printSchema()\n",
        "titanicInt.distinct().show()\n",
        "est=titanicInt.filter(titanicInt.Sexo==\"Mujer\").\\\n",
        "            agg(functions.sum(titanicInt.Sobrevivio))\n",
        "est.show()\n",
        "est=titanicInt.filter(titanicInt.Edad==\"Ni�o\").\\\n",
        "            agg(functions.sum(titanicInt.Sobrevivio))\n",
        "est.show()\n",
        "est=titanicInt.filter((titanicInt.Sexo==\"Mujer\") | (titanicInt.Edad==\"Ni�o\")).\\\n",
        "            agg(functions.sum(titanicInt.Sobrevivio))\n",
        "est.show()"
      ]
    },
    {
      "cell_type": "code",
      "execution_count": null,
      "metadata": {
        "id": "kXxLHTjK0LKy"
      },
      "outputs": [],
      "source": [
        "sc.stop()"
      ]
    },
    {
      "cell_type": "markdown",
      "metadata": {
        "id": "oDmvcSYZ0LKy"
      },
      "source": [
        "\n",
        "#**Reto**\n",
        "\n",
        "Se dispone de un set de datos https://github.com/jazaineam1/BigDataMINE2023/blob/main/data/Pyspark/covid19_Colombia.rar que describen la situación del covid19 en Colombia obtenidos de https://www.datos.gov.co/\n",
        "\n",
        "Estos datos relacionan los casos positivos en Colombia a través de las siguientes variables\n",
        "\n",
        "\n",
        "\n",
        "*   Ciudad\n",
        "*   Departamento\n",
        "*   Atención (casa, fallecido, hospital, hospital/uci, recuperado)\n",
        "*   Edad\n",
        "*   Tipo (En estudio, importado, relacionado)\n",
        "*   Estado (Asintomático, Fallecido, Grave, Leve, Moderado)\n",
        "\n",
        "Utilicemos Data Frame para solucionar las siguientes inquietudes\n",
        "**1. Cuánto es el total de fallecidos y recuperados en el país**\n",
        "\n",
        "**2.   Afectará la pandemia a hombres y  mujeres por igual**\n",
        "\n",
        "**3.   Cuál es el promedio de edad de los afectados**\n",
        "\n",
        "**4.   Cuál es el departamento que presenta mayor número de casos**\n",
        "**5.   Qué porcentaje de los casos son importados**\n",
        "**6.   Es cierto que en Cartagena la mayoría de los casos son importados**"
      ]
    },
    {
      "cell_type": "code",
      "execution_count": null,
      "metadata": {
        "id": "vH59xbwT3dLH"
      },
      "outputs": [],
      "source": [
        "import numpy as np # linear algebra\n",
        "import pandas as pd # data processing, CSV file I/O (e.g. pd.read_csv)\n",
        "import matplotlib.pyplot as plt\n",
        "import seaborn as sns\n",
        "import sklearn\n",
        "import random\n",
        "import os\n",
        "\n",
        "from pyspark.sql import SparkSession\n",
        "from pyspark.ml  import Pipeline\n",
        "from pyspark.sql import SQLContext\n",
        "from pyspark.sql.functions import mean,col,split, col, regexp_extract, when, lit\n",
        "from pyspark.ml.feature import StringIndexer, VectorAssembler\n",
        "from pyspark.ml.evaluation import MulticlassClassificationEvaluator\n",
        "from pyspark.ml.feature import QuantileDiscretizer"
      ]
    },
    {
      "cell_type": "markdown",
      "metadata": {
        "id": "9kcjJJLA3jze"
      },
      "source": [
        "# **PYspark MLlib**\n"
      ]
    },
    {
      "cell_type": "markdown",
      "metadata": {
        "id": "QJcR7xkc6_Xx"
      },
      "source": [
        "# **2. Modelo de Clasificación en PySpark** <a class=\"anchor\" id=\"2\"></a>\n",
        "\n",
        "\n",
        "\n",
        "Estamos utilizando el conjunto de datos del Titanic para familiarizarnos con la manipulación de datos basada en DataFrames de PySpark."
      ]
    },
    {
      "cell_type": "markdown",
      "metadata": {
        "id": "fdFkKaFx7DEZ"
      },
      "source": [
        "## **2.1 EDA en Pyspark** <a class=\"anchor\" id=\"2.1\"></a>"
      ]
    },
    {
      "cell_type": "code",
      "execution_count": null,
      "metadata": {
        "id": "phURzJ8U7CaJ"
      },
      "outputs": [],
      "source": [
        "!wget https://raw.githubusercontent.com/jazaineam1/BigData2023_2/main/Datos/train.csv\n",
        "!hdfs dfs -put  train.csv /user/root/"
      ]
    },
    {
      "cell_type": "code",
      "execution_count": null,
      "metadata": {
        "id": "8poNt10M7Ag5"
      },
      "outputs": [],
      "source": [
        "spark = SparkSession.builder.appName('Play with pyspark ML on titatic_dataset').getOrCreate()\n",
        "df = spark.read.csv('train.csv',header = 'True',inferSchema='True')"
      ]
    },
    {
      "cell_type": "code",
      "execution_count": null,
      "metadata": {
        "id": "KDzwNjbx7y25"
      },
      "outputs": [],
      "source": [
        "df.limit(3).toPandas()"
      ]
    },
    {
      "cell_type": "code",
      "execution_count": null,
      "metadata": {
        "id": "DgAc1ZW171qQ"
      },
      "outputs": [],
      "source": [
        "df.printSchema()"
      ]
    },
    {
      "cell_type": "markdown",
      "metadata": {
        "id": "vt_24VDo772R"
      },
      "source": [
        "Para la visualización, antes de utilizar bibliotecas de visualización (como Matplotlib, Seaborn, etc.), necesitamos convertir un SparkDataFrame en un PandasDataFrame."
      ]
    },
    {
      "cell_type": "code",
      "execution_count": null,
      "metadata": {
        "id": "eG-dg_Th77aA"
      },
      "outputs": [],
      "source": [
        "pandas_df = df.toPandas()\n",
        "\n",
        "plt.figure(figsize=(10,5))\n",
        "plt.title('Age distribution among all Pasengers')\n",
        "sns.distplot(pandas_df['Age']);"
      ]
    },
    {
      "cell_type": "markdown",
      "metadata": {
        "id": "6c3KpgqF8Cy2"
      },
      "source": [
        "## Comprobación de valores nulos en PySpark:\n",
        "\n",
        "- `isnan()` es una función del paquete `pyspark.sql.functions` y debemos especificar qué columna queremos utilizar como argumento de la función.\n",
        "- `isNull()` pertenece al paquete `pyspark.sql.Column` y se utiliza para verificar el estado nulo de una columna en particular.\n",
        "\n",
        "Para verificar valores nulos en PySpark, utilizamos ambas funciones mencionadas anteriormente."
      ]
    },
    {
      "cell_type": "code",
      "execution_count": null,
      "metadata": {
        "id": "k_TnqO3d8iia"
      },
      "outputs": [],
      "source": [
        "from pyspark.sql.functions import isnan, when, count, col\n",
        "df.select([count(when(isnan(c) | col(c).isNull(), c)).alias(c) for c in df.columns]).show()"
      ]
    },
    {
      "cell_type": "code",
      "execution_count": null,
      "metadata": {
        "id": "lAURxzJc8ld4"
      },
      "outputs": [],
      "source": [
        "# Because Cabin column has a lot missing value ( > 50%) so we can remove it\n",
        "df = df.drop(\"Cabin\")"
      ]
    },
    {
      "cell_type": "markdown",
      "metadata": {
        "id": "y_ikTaBO8rP6"
      },
      "source": [
        "Para reemplazar estos valores NaN, podemos asignarles la edad promedio del conjunto de datos. Sin embargo, el problema es que había muchas personas de diferentes edades.\n",
        "\n",
        "En la característica 'Name' (nombre), podemos ver que los nombres tienen una salutación como Sr. o Sra. Por lo tanto, podemos asignar los valores promedio de Sr. y Sra. a los grupos respectivos.\n",
        "\n",
        "**Utilizando la expresión regular \"[A-Za-z]+).\" extraemos las iniciales del nombre. Esta expresión busca cadenas que se encuentran entre A-Z o a-z y están seguidas por un punto (.).**"
      ]
    },
    {
      "cell_type": "code",
      "execution_count": null,
      "metadata": {
        "id": "Mi7ml3ml8r18"
      },
      "outputs": [],
      "source": [
        "df = df.withColumn(\"Initial\",regexp_extract(col(\"Name\"),\"([A-Za-z]+)\\.\",1))\n",
        "df.limit(3).toPandas()"
      ]
    },
    {
      "cell_type": "code",
      "execution_count": null,
      "metadata": {
        "id": "tJrOjI0s8vkb"
      },
      "outputs": [],
      "source": [
        "# There are some misspelled Initials like Mlle or Mme that stand for Miss. we will replace them with Miss and same thing for other values.\n",
        "df = df.replace(['Mlle','Mme', 'Ms', 'Dr','Major','Lady','Countess','Jonkheer','Col','Rev','Capt','Sir','Don'],\n",
        "                        ['Miss','Miss','Miss','Mr','Mr',  'Mrs',  'Mrs',  'Other',  'Other','Other','Mr','Mr','Mr'])\n",
        "\n",
        "# Checking the average age by Initials\n",
        "df.groupby('Initial').avg('Age').collect()"
      ]
    },
    {
      "cell_type": "code",
      "execution_count": null,
      "metadata": {
        "id": "nLgqenqD85Z0"
      },
      "outputs": [],
      "source": [
        "# Assigning missing values in age feature based on average age of Initials\n",
        "df = df.withColumn(\"Age\",when((df[\"Initial\"] == \"Miss\")   & (df[\"Age\"].isNull()), 22).otherwise(df[\"Age\"]))\n",
        "df = df.withColumn(\"Age\",when((df[\"Initial\"] == \"Other\")  & (df[\"Age\"].isNull()), 46).otherwise(df[\"Age\"]))\n",
        "df = df.withColumn(\"Age\",when((df[\"Initial\"] == \"Master\") & (df[\"Age\"].isNull()), 5).otherwise( df[\"Age\"]))\n",
        "df = df.withColumn(\"Age\",when((df[\"Initial\"] == \"Mr\")     & (df[\"Age\"].isNull()), 33).otherwise(df[\"Age\"]))\n",
        "df = df.withColumn(\"Age\",when((df[\"Initial\"] == \"Mrs\")    & (df[\"Age\"].isNull()), 36).otherwise(df[\"Age\"]))"
      ]
    },
    {
      "cell_type": "code",
      "execution_count": null,
      "metadata": {
        "id": "vnIZXm6Z86yd"
      },
      "outputs": [],
      "source": [
        "# Embarked columns has two missing values, let check it\n",
        "df.groupBy(\"Embarked\").count().show()"
      ]
    },
    {
      "cell_type": "markdown",
      "metadata": {
        "id": "Gn5KdfaJ8-tm"
      },
      "source": [
        "Usamos `PysparkDataFrame.na.fill()` para llenar un valor en una columna específica."
      ]
    },
    {
      "cell_type": "code",
      "execution_count": null,
      "metadata": {
        "id": "UEbx9GTn8_Uv"
      },
      "outputs": [],
      "source": [
        "# As we can see, Majority Passengers boarded from \"S\". We can assign missing value with \"S\"\n",
        "df = df.na.fill({\"Embarked\" : 'S'})\n",
        "# Check again the missing value status\n",
        "df.select([count(when(isnan(c) | col(c).isNull(), c)).alias(c) for c in df.columns]).show()"
      ]
    },
    {
      "cell_type": "markdown",
      "metadata": {
        "id": "cbBZX5e_9QGE"
      },
      "source": [
        "Después de manejar los valores faltantes, realizamos un poco de ingeniería de características.\n",
        "\n",
        "En la ingeniería de características, podemos utilizar múltiples condiciones en PySpark con la sintaxis \"When otherwise\".\n",
        "\n",
        "Para obtener más información sobre el uso de múltiples condiciones en PySpark, puedes visitar [este enlace](https://sparkbyexamples.com/spark/spark-case-when-otherwise-example/)."
      ]
    },
    {
      "cell_type": "code",
      "execution_count": null,
      "metadata": {
        "id": "PMKi6mp_9PaM"
      },
      "outputs": [],
      "source": [
        "df = df.withColumn(\"Family_Size\",col('SibSp')+col('Parch')) # Create new column: Family_size\n",
        "df = df.withColumn('Alone',lit(0))  # Create new column: Alone and assign 0 default value to Alone column\n",
        "df = df.withColumn(\"Alone\",when(df[\"Family_Size\"] == 0, 1).otherwise(df[\"Alone\"]))\n",
        "\n",
        "# converting Sex, Embarked & Initial columns from string to number using StringIndexer\n",
        "indexers = [StringIndexer(inputCol=column, outputCol=column+\"_index\").fit(df) for column in [\"Sex\",\"Embarked\",\"Initial\"]]\n",
        "pipeline = Pipeline(stages=indexers)\n",
        "df = pipeline.fit(df).transform(df)"
      ]
    },
    {
      "cell_type": "code",
      "execution_count": null,
      "metadata": {
        "id": "6fZ1QyOK9TTP"
      },
      "outputs": [],
      "source": [
        "df.limit(3).toPandas()"
      ]
    },
    {
      "cell_type": "code",
      "execution_count": null,
      "metadata": {
        "id": "hppakUBX9Vgd"
      },
      "outputs": [],
      "source": [
        "# Now we drop columns that not needed for modelling\n",
        "df = df.drop(\"PassengerId\",\"Name\",\"Ticket\",\"Cabin\",\"Embarked\",\"Sex\",\"Initial\")\n",
        "\n",
        "# Before modelling in Pyspark, we need to put all features to Vector using Pyspark VectorAssembler\n",
        "feature = VectorAssembler(inputCols = df.columns[1:],outputCol=\"features\")\n",
        "feature_vector= feature.transform(df)\n",
        "feature_vector.limit(3).toPandas()"
      ]
    },
    {
      "cell_type": "code",
      "execution_count": null,
      "metadata": {
        "id": "x9LmcsaH9YE_"
      },
      "outputs": [],
      "source": [
        "# for data split in pyspark, we can use df.randomSplit()\n",
        "(train_df, test_df) = feature_vector.randomSplit([0.8, 0.2],seed = 11)"
      ]
    },
    {
      "cell_type": "code",
      "execution_count": null,
      "metadata": {
        "id": "cd4m0GWB9Zkj"
      },
      "outputs": [],
      "source": [
        "train_df.printSchema()"
      ]
    },
    {
      "cell_type": "markdown",
      "metadata": {
        "id": "u78rdRKn9dYx"
      },
      "source": [
        "# **2.2 Aprendizaje automático en PySpark** <a class=\"anchor\" id=\"2.2\"></a>\n",
        "\n",
        "\n",
        "\n",
        "Solo para practicar, usaré algunos algoritmos de aprendizaje:\n",
        "\n",
        "1. Regresión Logística\n",
        "2. Clasificador de Bosques Aleatorios (RandomForestClassifier)\n",
        "3. Clasificador de Árbol con Impulso Gradual (Gradient-boosted tree classifier)"
      ]
    },
    {
      "cell_type": "code",
      "execution_count": null,
      "metadata": {
        "id": "08vKxRen9fmf"
      },
      "outputs": [],
      "source": [
        "# Select features column for features training and 'Survived' as label to predict\n",
        "titanic_df = feature_vector.select(['features','Survived'])\n",
        "# Split the dataset to train_df and test_df\n",
        "train_df,test_df = titanic_df.randomSplit([0.75,0.25])"
      ]
    },
    {
      "cell_type": "markdown",
      "metadata": {
        "id": "t_TcfR4r9jDG"
      },
      "source": [
        "## Regresión Logística"
      ]
    },
    {
      "cell_type": "code",
      "execution_count": null,
      "metadata": {
        "id": "GmB6uJVO9nKh"
      },
      "outputs": [],
      "source": [
        "# LOAD PYSPARK LIBRARIES\n",
        "from pyspark.ml.classification import LogisticRegression\n",
        "from pyspark.ml.tuning import ParamGridBuilder, TrainValidationSplit\n",
        "from pyspark.ml import Pipeline\n",
        "from pyspark.ml.evaluation import BinaryClassificationEvaluator\n",
        "from pyspark.ml.tuning import CrossValidator, ParamGridBuilder\n",
        "from sklearn.metrics import roc_curve,auc\n",
        "\n",
        "# DEFINE ALGORITHM\n",
        "lr = LogisticRegression(labelCol=\"Survived\")\n",
        "\n",
        "# DEFINE GRID PARAMETERS\n",
        "paramGrid = ParamGridBuilder().addGrid(lr.regParam, (0.01, 0.1))\\\n",
        "                              .addGrid(lr.maxIter, (5, 10))\\\n",
        "                              .addGrid(lr.tol, (1e-4, 1e-5))\\\n",
        "                              .addGrid(lr.elasticNetParam, (0.25,0.75))\\\n",
        "                              .build()\n",
        "\n",
        "# DEFINE CROSS VALIDATION WITH PARAMETERS\n",
        "tvs = TrainValidationSplit( estimator=lr\n",
        "                           ,estimatorParamMaps=paramGrid\n",
        "                           ,evaluator=MulticlassClassificationEvaluator(labelCol='Survived')\n",
        "                           ,trainRatio=0.8)\n",
        "model = tvs.fit(train_df)\n",
        "model_predictions= model.transform(test_df)\n",
        "\n",
        "print('Accuracy: ', MulticlassClassificationEvaluator(labelCol='Survived',metricName='accuracy').evaluate(model_predictions))\n",
        "print('Precision: ',MulticlassClassificationEvaluator(labelCol='Survived',metricName='weightedPrecision').evaluate(model_predictions))\n"
      ]
    },
    {
      "cell_type": "markdown",
      "metadata": {
        "id": "LBntoeRT9qYG"
      },
      "source": [
        "### Evaluación de ROC"
      ]
    },
    {
      "cell_type": "code",
      "execution_count": null,
      "metadata": {
        "id": "CmOrYMfK9p1e"
      },
      "outputs": [],
      "source": [
        "from pyspark.mllib.evaluation import BinaryClassificationMetrics as metric\n",
        "from pyspark import SparkContext\n",
        "sc =SparkContext.getOrCreate()   # We need to create SparkContext\n",
        "results = model_predictions.select(['probability', 'Survived'])\n",
        "\n",
        "## prepare score-label set\n",
        "results_collect = results.collect()\n",
        "results_list = [(float(i[0][0]), 1.0-float(i[1])) for i in results_collect]\n",
        "scoreAndLabels = sc.parallelize(results_list)\n",
        "\n",
        "metrics = metric(scoreAndLabels)\n",
        "print(\"The ROC score is : \", metrics.areaUnderROC)"
      ]
    },
    {
      "cell_type": "code",
      "execution_count": null,
      "metadata": {
        "id": "BDVVuDDL90JI"
      },
      "outputs": [],
      "source": [
        "from sklearn.metrics import roc_curve, auc\n",
        "\n",
        "fpr = dict()\n",
        "tpr = dict()\n",
        "roc_auc = dict()\n",
        "\n",
        "y_test = [i[1] for i in results_list]\n",
        "y_score = [i[0] for i in results_list]\n",
        "\n",
        "fpr, tpr, _ = roc_curve(y_test, y_score)\n",
        "roc_auc = auc(fpr, tpr)\n",
        "\n",
        "%matplotlib inline\n",
        "plt.figure()\n",
        "plt.plot(fpr, tpr, label='ROC curve (area = %0.2f)' % roc_auc)\n",
        "plt.plot([0, 1], [0, 1], 'k--')\n",
        "plt.xlim([0.0, 1.0])\n",
        "plt.ylim([0.0, 1.05])\n",
        "plt.xlabel('False Positive Rate')\n",
        "plt.ylabel('True Positive Rate')\n",
        "plt.title('Area under the ROC Curve')\n",
        "plt.legend(loc=\"lower right\")\n",
        "plt.show()"
      ]
    },
    {
      "cell_type": "markdown",
      "metadata": {
        "id": "UGc6ocjy92co"
      },
      "source": [
        "## Random Forest"
      ]
    },
    {
      "cell_type": "code",
      "execution_count": null,
      "metadata": {
        "id": "qVhlexnb92FA"
      },
      "outputs": [],
      "source": [
        "\n",
        "from pyspark.ml.classification import RandomForestClassifier\n",
        "from pyspark.ml.tuning import ParamGridBuilder, TrainValidationSplit\n",
        "rf = RandomForestClassifier(labelCol='Survived')\n",
        "paramGrid = ParamGridBuilder()\\\n",
        "                                .addGrid(rf.maxDepth, [5, 10, 20]) \\\n",
        "                                .addGrid(rf.maxBins, [20, 32, 50]) \\\n",
        "                                .addGrid(rf.numTrees, [20, 40, 60 ]) \\\n",
        "                                .addGrid(rf.impurity, [\"gini\", \"entropy\"]) \\\n",
        "                                .addGrid(rf.minInstancesPerNode, [1, 5, 10]) \\\n",
        "                                .build()\n",
        "\n",
        "\n",
        "tvs = TrainValidationSplit( estimator=rf\n",
        "                           ,estimatorParamMaps=paramGrid\n",
        "                           ,evaluator=MulticlassClassificationEvaluator(labelCol='Survived')\n",
        "                           ,trainRatio=0.8)\n",
        "model = tvs.fit(train_df)\n",
        "model_predictions= model.transform(test_df)\n",
        "\n",
        "\n",
        "print('Accuracy: ', MulticlassClassificationEvaluator(labelCol='Survived',metricName='accuracy').evaluate(model_predictions))\n",
        "print('Precision: ',MulticlassClassificationEvaluator(labelCol='Survived',metricName='weightedPrecision').evaluate(model_predictions))"
      ]
    },
    {
      "cell_type": "code",
      "execution_count": null,
      "metadata": {
        "id": "1MpvWI8K9_C1"
      },
      "outputs": [],
      "source": [
        "sc =SparkContext.getOrCreate()   # We need to create SparkContext\n",
        "results = model_predictions.select(['probability', 'Survived'])\n",
        "\n",
        "## prepare score-label set\n",
        "results_collect = results.collect()\n",
        "results_list = [(float(i[0][0]), 1.0-float(i[1])) for i in results_collect]\n",
        "scoreAndLabels = sc.parallelize(results_list)\n",
        "\n",
        "metrics = metric(scoreAndLabels)\n",
        "print(\"The ROC score is : \", metrics.areaUnderROC)"
      ]
    },
    {
      "cell_type": "code",
      "execution_count": null,
      "metadata": {
        "id": "evOpNC4h-Flc"
      },
      "outputs": [],
      "source": [
        "fpr = dict()\n",
        "tpr = dict()\n",
        "roc_auc = dict()\n",
        "\n",
        "y_test = [i[1] for i in results_list]\n",
        "y_score = [i[0] for i in results_list]\n",
        "\n",
        "fpr, tpr, _ = roc_curve(y_test, y_score)\n",
        "roc_auc = auc(fpr, tpr)\n",
        "\n",
        "%matplotlib inline\n",
        "plt.figure()\n",
        "plt.plot(fpr, tpr, label='ROC curve (area = %0.2f)' % roc_auc)\n",
        "plt.plot([0, 1], [0, 1], 'k--')\n",
        "plt.xlim([0.0, 1.0])\n",
        "plt.ylim([0.0, 1.05])\n",
        "plt.xlabel('False Positive Rate')\n",
        "plt.ylabel('True Positive Rate')\n",
        "plt.title('Area under the ROC Curve')\n",
        "plt.legend(loc=\"lower right\")\n",
        "plt.show()"
      ]
    },
    {
      "cell_type": "markdown",
      "metadata": {
        "id": "L-yxvaGz_Abf"
      },
      "source": [
        "## Gradient Boosted Tree"
      ]
    },
    {
      "cell_type": "code",
      "execution_count": null,
      "metadata": {
        "id": "j1ChLaAi_DI8"
      },
      "outputs": [],
      "source": [
        "\n",
        "from pyspark.ml.classification import GBTClassifier\n",
        "gbt = GBTClassifier(labelCol=\"Survived\")\n",
        "paramGrid = ParamGridBuilder()\\\n",
        "                            .addGrid(gbt.maxDepth, [5, 10, 20]) \\\n",
        "                            .addGrid(gbt.maxBins, [20, 32, 50]) \\\n",
        "                            .addGrid(gbt.maxIter, [10, 20, 30]) \\\n",
        "                            .addGrid(gbt.minInstancesPerNode, [1, 5, 10]) \\\n",
        "                            .build()\n",
        "\n",
        "tvs = TrainValidationSplit(estimator=gbt\n",
        "                           , estimatorParamMaps=paramGrid\n",
        "                            ,evaluator=MulticlassClassificationEvaluator(labelCol='Survived')\n",
        "                            ,trainRatio=0.8)\n",
        "model = tvs.fit(train_df)\n",
        "model_predictions= model.transform(test_df)\n",
        "print('Accuracy: ', MulticlassClassificationEvaluator(labelCol='Survived',metricName='accuracy').evaluate(model_predictions))\n",
        "print('Precision: ',MulticlassClassificationEvaluator(labelCol='Survived',metricName='weightedPrecision').evaluate(model_predictions))"
      ]
    },
    {
      "cell_type": "code",
      "execution_count": null,
      "metadata": {
        "id": "CId9_Y3q_Flh"
      },
      "outputs": [],
      "source": [
        "sc =SparkContext.getOrCreate()   # We need to create SparkContext\n",
        "results = model_predictions.select(['probability', 'Survived'])\n",
        "\n",
        "## prepare score-label set\n",
        "results_collect = results.collect()\n",
        "results_list = [(float(i[0][0]), 1.0-float(i[1])) for i in results_collect]\n",
        "scoreAndLabels = sc.parallelize(results_list)\n",
        "\n",
        "metrics = metric(scoreAndLabels)\n",
        "print(\"The ROC score is: \", metrics.areaUnderROC)"
      ]
    },
    {
      "cell_type": "code",
      "execution_count": null,
      "metadata": {
        "id": "uoBVbDVh_IFf"
      },
      "outputs": [],
      "source": [
        "fpr = dict()\n",
        "tpr = dict()\n",
        "roc_auc = dict()\n",
        "\n",
        "y_test = [i[1] for i in results_list]\n",
        "y_score = [i[0] for i in results_list]\n",
        "\n",
        "fpr, tpr, _ = roc_curve(y_test, y_score)\n",
        "roc_auc = auc(fpr, tpr)\n",
        "\n",
        "%matplotlib inline\n",
        "plt.figure()\n",
        "plt.plot(fpr, tpr, label='ROC curve (area = %0.2f)' % roc_auc)\n",
        "plt.plot([0, 1], [0, 1], 'k--')\n",
        "plt.xlim([0.0, 1.0])\n",
        "plt.ylim([0.0, 1.05])\n",
        "plt.xlabel('False Positive Rate')\n",
        "plt.ylabel('True Positive Rate')\n",
        "plt.title('Area under the ROC Curve')\n",
        "plt.legend(loc=\"lower right\")\n",
        "plt.show()"
      ]
    },
    {
      "cell_type": "markdown",
      "metadata": {
        "id": "zOJ1iN5c_yOg"
      },
      "source": [
        "## **Proyecto**\n",
        "Con los datos disponibles en su proyecto, lleve a cabo los siguientes pasos:\n",
        "\n",
        "1. Inicie creando un nuevo proyecto en Google Cloud Platform (GCP).\n",
        "2. Establezca un nuevo \"bucket\" en GCP y almacene allí la información de su proyecto.\n",
        "\n",
        "Si su objetivo es desarrollar un modelo de predicción de aprendizaje automático, proceda con los siguientes pasos adicionales:\n",
        "\n",
        "3.1. Construya una tabla en BigQuery utilizando los datos de su proyecto. Luego, genere un modelo de acuerdo con su entrenamiento y disponibilícelo en GCP.\n",
        "\n",
        "3.2. Configure un clúster en Dataproc y realice la limpieza de datos utilizando pyspark.\n",
        "\n",
        "(Opcionalmente, puede utilizar PySpark para crear el mismo modelo de predicción. Consulte el siguiente video [enlace al video](https://www.youtube.com/watch?v=pBDY-Hbw30E) y el artículo en https://medium.com/walmartglobaltech/saving-and-retrieving-ml-models-using-pyspark-in-cloud-platform-d8b1db9e91b1).\n",
        "\n",
        "3.3. Realice pronósticos con el modelo y guárdelos en una nueva tabla de BigQuery.\n",
        "\n",
        "Si, en cambio, está trabajando con un modelo preentrenado, siga estos pasos:\n",
        "\n",
        "3.1. Cargue su modelo en Google Cloud Storage.\n",
        "\n",
        "3.2. Configure un entorno de trabajo para ejecutar el modelo y cree un cuaderno (notebook) donde ejecute el modelo utilizando los datos almacenados en BigQuery.\n",
        "\n",
        "3.3. Exporte los resultados a una nueva tabla en BigQuery.\n",
        "\n",
        "4. Genere una visualización con insights relevantes.\n",
        "\n",
        "5. Detalle la arquitectura de su proyecto.\n",
        "\n",
        "La siguiente será la rubrica de nuestro proyecto\n",
        "\n",
        "Aquí tienes la tabla con los criterios y su evaluación:\n",
        "\n",
        "| Criterios | Completo | Parcial | Insuficiente | No Realizado | Comentarios | Evaluación |\n",
        "|-----------|----------|---------|--------------|--------------|-------------|------------|\n",
        "| Introducción al Problema, Recolección de Información y Variables Evaluadas | Introducción clara del problema, descripción exhaustiva de la recolección de información y variables evaluadas, y explicación precisa de los objetivos. | Introducción, recolección de información y variables descritas, pero faltan detalles o claridad en algunos aspectos. | Falta de detalles importantes o claridad en la introducción, la recolección de información, las variables evaluadas y los objetivos. | No se incluye introducción, información de recolección de información, variables evaluadas o los objetivos, o la información es completamente inadecuada. |  |  |\n",
        "| Información del Modelo Seleccionado, evaluación en GCP y Tratamiento de Datos | Explicación clara del modelo seleccionado y tratamiento de datos, incluyendo todos los detalles especificados en el modelo propuesto. | Información del modelo y tratamiento de datos incluida, pero con algunos aspectos importantes omitidos o explicados insuficientemente. | Tratamiento de datos y detalles del modelo escasamente explicados, con falta de información crítica. | No se proporciona información del modelo seleccionado ni del tratamiento de datos. |  |  |\n",
        "| Construcción de una Nueva Tabla con Predicciones del Modelo en GCP | Tabla bien construida, claramente organizada y refleja precisión en los resultados del modelo. | Tabla construida, pero con algunos errores menores en la organización o precisión. | Tabla con errores significativos en la organización o precisión de las predicciones. | No se construye la tabla o esta es completamente inadecuada. | |  |\n",
        "| Disponibilización en un Dashboard Sencillo con Enlace Funcional | Dashboard bien diseñado, muestra claramente resultados y objetivos relevantes, y contiene un enlace funcional. | Dashboard presentado con algunos elementos faltantes o enlace no completamente funcional. | Dashboard deficiente en diseño o funcionalidad, o el enlace no funciona. | No se proporciona dashboard o el enlace. |  |  |\n",
        "| Construcción Gráfica de la Arquitectura del Proceso | Arquitectura claramente ilustrada, con explicación detallada de cada paso del proceso, utilizando herramientas adecuadas. | Arquitectura ilustrada, pero falta detalle en la explicación o en la representación gráfica. | Representación gráfica de la arquitectura con muchos detalles faltantes o explicaciones inadecuadas. | No se proporciona una representación gráfica de la arquitectura o es completamente inadecuada. |  |  |\n",
        "\n"
      ]
    },
    {
      "cell_type": "code",
      "source": [],
      "metadata": {
        "id": "vUNl82Wa00Gs"
      },
      "execution_count": null,
      "outputs": []
    }
  ],
  "metadata": {
    "colab": {
      "provenance": [],
      "include_colab_link": true
    },
    "kernelspec": {
      "display_name": "PySpark",
      "language": "python",
      "name": "pyspark"
    },
    "language_info": {
      "codemirror_mode": {
        "name": "ipython",
        "version": 3
      },
      "file_extension": ".py",
      "mimetype": "text/x-python",
      "name": "python",
      "nbconvert_exporter": "python",
      "pygments_lexer": "ipython3",
      "version": "3.10.8"
    }
  },
  "nbformat": 4,
  "nbformat_minor": 0
}