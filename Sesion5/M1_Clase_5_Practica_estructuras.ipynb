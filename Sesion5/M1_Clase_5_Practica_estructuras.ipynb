{
  "cells": [
    {
      "cell_type": "markdown",
      "metadata": {
        "id": "view-in-github",
        "colab_type": "text"
      },
      "source": [
        "<a href=\"https://colab.research.google.com/github/jazaineam1/Andes_ADDBD/blob/main/Sesion5/M1_Clase_5_Practica_estructuras.ipynb\" target=\"_parent\"><img src=\"https://colab.research.google.com/assets/colab-badge.svg\" alt=\"Open In Colab\"/></a>"
      ]
    },
    {
      "cell_type": "markdown",
      "metadata": {
        "id": "0mWgIV73OfEd"
      },
      "source": [
        "# ***Análisis de Datos y Big data***\n",
        "\n",
        "## ***Universidad de los Andes***\n",
        ">## **Dirección de Educación Continua.**\n",
        ">>## **Formación de habilidades escenciales.**\n",
        "\n",
        "![Imágen1](https://github.com/jazaineam1/Andes_ADDBD/blob/main/Imagenes/Presentaci%C3%B3n-removebg-preview.png?raw=true)\n",
        "\n",
        "## **Actividad de refuerzo**\n",
        "## **Módulo 1**\n",
        "\n",
        "El objetivo de esta actividad de refuerzo es usar las habilidades de programación en la solución de problemas de diversos contextos. Durante la clase usted podrá utilizar los conceptos aprendidos en los módulos anteriores.\n",
        "Los ejercicios tendrán diferentes niveles de dificultad, y usted podrá escoger el punto hasta el que los quiera abordar."
      ]
    },
    {
      "cell_type": "markdown",
      "metadata": {
        "id": "GDkZsRADPFEy"
      },
      "source": [
        "## Mecánica de la clase\n",
        "Durante la clase usted tendrá el espacio para realizar los ejercicios de forma autónoma. Contará también con la solución de los ejercicios, realizada por los profesores, sin embargo, constituye un ejercicio de referencia y su solución podrá ser diferente."
      ]
    },
    {
      "cell_type": "markdown",
      "metadata": {
        "id": "gg1WwdJNR-la"
      },
      "source": [
        "## Ejercicio 1: Psicologia\n",
        "### Dificultad baja\n",
        "\n",
        "Los instrumentos de registro de emociones tienen como finalidad contar con un registro de las emociones y pensamientos más frecuentes o intensas que experimenta una persona. Usted ha sido encargado de desarrollar la interfaz de ingreso y análisis de un prototipo de aplicación para automatizar el proceso.\n",
        "\n",
        "Para esto:\n",
        "\n",
        "### Condiciones generales\n",
        "- Desarrollar un proceso de captura para las preguntas:\n",
        "  - ¿Qué actividad se encontraba realizando?\n",
        "  - ¿Qué emoción sintió (Alegría, Tristeza, Ira, Asco, Sorpresa)?\n",
        "  - ¿Con que intensidad la sintió, escala de 1 a 7 donde 1 es nada intenso y 10 muy intensa?\n",
        "- Debe preguntar si desea registrar otra situación.\n",
        "- Debe almacenar las respuestas en tres listas\n",
        "\n",
        "### Ejercicio intermendio\n",
        " - Para cada emoción realizar el conteo de apariciones y la intensidad promedio.\n",
        "\n",
        "### Ejecicio avanzado\n",
        "- Incorporar controles de validación al ingreso, y mensajes de alerta para la persona cuando ingresa datos no válidos."
      ]
    },
    {
      "cell_type": "code",
      "execution_count": null,
      "metadata": {
        "id": "EvwqtNVF9TDJ"
      },
      "outputs": [],
      "source": [
        "# Inicializar\n",
        "lista_actividad = []\n",
        "lista_emocion = []\n",
        "lista_intensidad = []\n",
        "registrar = 'S'\n",
        "\n",
        "#Preguntar\n",
        "while (registrar == 'S'):\n",
        "  # Registrar primera pregunta\n",
        "\n",
        "\n",
        "  # Registrar segunda pregunta\n",
        "\n",
        "\n",
        "  # Registrar tercera pregunta\n",
        "\n",
        "\n",
        "  # Terminar o iniciar de nuevo\n",
        "\n",
        "\n",
        "print(lista_actividad)\n",
        "print(lista_emocion)\n",
        "print(lista_intensidad)"
      ]
    },
    {
      "cell_type": "markdown",
      "metadata": {
        "id": "ZukPg8-3VE0U"
      },
      "source": [
        "## Ejercicio 2: Inventarios\n",
        "### Dificultad Media\n",
        "En gestión de inventarios es común realizar planeación de abastecimiento, que consiste en ordenar nuevas unidades para tener inventario para la venta. Para lograrlo se reciben los siguientes parámetros:\n",
        "- Inventario actual\n",
        "- Demanda pronósticada por día\n",
        "- Punto de reorden, inventario por debajo del cual se realiza una orden.\n",
        "\n",
        "### Instrucciones generales\n",
        "\n",
        "En un ciclo for para cada día:\n",
        "- Calcular el inventario inicial, que es igual al nventario final del día anterior.\n",
        "- Calcular el inventario final, que es el inventario inicial - la demanda.\n",
        "- Si el inventario final es menor o igual al punto de reorden, agregar al inventario final, el traslado.\n",
        "\n",
        "### Ejercicio intermedio\n",
        "- Realizar una función que reciba: lista con el pronóstico de venta, entero con el inventario inicial, entero con el punto de reorden, entero con el tamaño del traslado\n",
        "\n",
        "### Ejercicio avanzado\n",
        "- Si el inventario final es menor a cero, tomar inventario inicial del día siguiente como cero.\n",
        "- Implementar una función recursiva para el cálculo del inventario.\n"
      ]
    },
    {
      "cell_type": "code",
      "execution_count": null,
      "metadata": {
        "id": "n_eSHvdRYIFC"
      },
      "outputs": [],
      "source": [
        "# Inicialicación\n",
        "int_inv_inicial = 500\n",
        "list_ventas = [116,120,115,112,112,118,105,500]\n",
        "traslado = 300\n",
        "punto_de_reorden = 100\n",
        "\n",
        "# Loop\n"
      ]
    },
    {
      "cell_type": "markdown",
      "metadata": {
        "id": "VCFlwdXHPoh2"
      },
      "source": [
        "## Ejercicio 3: Juegos\n",
        "### Dificultad Alta\n",
        "\n",
        "Usted ha sido encargado de implementar 21 para una compañía de juegos de azar. Como prueba de selección usted debe realizar un prototipo del juego.\n",
        "\n",
        "### Condiciones generales\n",
        "- Usted creará una lista con los valores de la cartas (2 a 11) en la frecuencia que aparecen en la baraja. La lista contendrá 52 cartas.\n",
        "- La casa jugará contra el juegador.\n",
        "- Deberá seleccionar un elemento al azar para el jugador y un elemento al azar para la casa.\n",
        "- El jugador podrá ver todas las cartas, de la casa, y del propio jugador.\n",
        "- El juego se detiene cuando el valor de la suma es mayor a 21, para la casa o el jugador, o cuando el jugador solicite detener el juego.\n",
        "- Determinar quien ganó el juego (se recomienda usar una función basada en condicionales)\n",
        "\n",
        "### Ejercicio intermedio (Opcional)\n",
        "- La primera carta está oculta del oponente estará oculta.\n",
        "- La casa puede decidir si pide o no más cartas\n",
        "\n",
        "### Ejercicio experto (Opcional)\n",
        "- La casa puede pedir más cartas o dejar de pedir, evaluando la probabilidad de ganar o perder."
      ]
    },
    {
      "cell_type": "code",
      "execution_count": null,
      "metadata": {
        "colab": {
          "base_uri": "https://localhost:8080/"
        },
        "id": "BZJlgIPIgUrk",
        "outputId": "1ddb7c50-4483-43a9-e698-6833c51ed5f5"
      },
      "outputs": [
        {
          "data": {
            "text/plain": [
              "6"
            ]
          },
          "execution_count": 220,
          "metadata": {},
          "output_type": "execute_result"
        }
      ],
      "source": [
        "# Generar aleatorio\n",
        "from random import randint, uniform,random\n",
        "randint(0,10)"
      ]
    },
    {
      "cell_type": "code",
      "execution_count": null,
      "metadata": {
        "id": "FTeSbib1ehKT"
      },
      "outputs": [],
      "source": [
        "# Creación del vector inicial\n",
        "lista_cartas_base = [2,3,4,5,6,7,8,9,10,10,10,10,11,2,3,4,5,6,7,8,9,10,10,10,10,11,2,3,4,5,6,7,8,9,10,10,10,10,11,2,3,4,5,6,7,8,9,10,10,10,10,11]\n",
        "lista_cartas = lista_cartas_base [:]\n",
        "print(lista_cartas)"
      ]
    },
    {
      "cell_type": "code",
      "execution_count": null,
      "metadata": {
        "colab": {
          "base_uri": "https://localhost:8080/"
        },
        "id": "ptlF-hFsgfi2",
        "outputId": "c3354252-890c-4037-88ab-c09bc2117db1"
      },
      "outputs": [
        {
          "name": "stdout",
          "output_type": "stream",
          "text": [
            "9\n",
            "51\n"
          ]
        }
      ],
      "source": [
        "#generar aleatorio de lista\n",
        "aleatorio = randint(0,len(lista_cartas))\n",
        "int_carta = lista_cartas[aleatorio]\n",
        "del lista_cartas[aleatorio]\n",
        "print(int_carta)\n",
        "print(len(lista_cartas))"
      ]
    },
    {
      "cell_type": "code",
      "execution_count": null,
      "metadata": {
        "id": "r_uKG4zA395a"
      },
      "outputs": [],
      "source": [
        "#Función ganar"
      ]
    },
    {
      "cell_type": "code",
      "execution_count": null,
      "metadata": {
        "id": "YusYnYnwiiTt"
      },
      "outputs": [],
      "source": [
        "# inicializar\n",
        "\n",
        "\n",
        "# Ciclo de juego\n",
        "\n"
      ]
    }
  ],
  "metadata": {
    "colab": {
      "provenance": [],
      "include_colab_link": true
    },
    "kernelspec": {
      "display_name": "Python 3",
      "name": "python3"
    },
    "language_info": {
      "name": "python"
    }
  },
  "nbformat": 4,
  "nbformat_minor": 0
}