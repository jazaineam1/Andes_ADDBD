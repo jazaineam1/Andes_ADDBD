{
  "nbformat": 4,
  "nbformat_minor": 0,
  "metadata": {
    "colab": {
      "provenance": [],
      "include_colab_link": true
    },
    "kernelspec": {
      "name": "python3",
      "display_name": "Python 3"
    },
    "language_info": {
      "name": "python"
    }
  },
  "cells": [
    {
      "cell_type": "markdown",
      "metadata": {
        "id": "view-in-github",
        "colab_type": "text"
      },
      "source": [
        "<a href=\"https://colab.research.google.com/github/jazaineam1/Andes_ADDBD/blob/main/Sesion2/M1_Clase_2_Colab_Funciones.ipynb\" target=\"_parent\"><img src=\"https://colab.research.google.com/assets/colab-badge.svg\" alt=\"Open In Colab\"/></a>"
      ]
    },
    {
      "cell_type": "markdown",
      "source": [
        "#***Análisis de Datos y Big data***\n",
        "\n",
        "## ***Universidad de los Andes***\n",
        ">## **Dirección de Educación Continua.**\n",
        ">>## **Formación de habilidades escenciales.**\n",
        "\n",
        "![Imágen1](https://github.com/jazaineam1/Andes_ADDBD/blob/main/Imagenes/Presentaci%C3%B3n-removebg-preview.png?raw=true)\n",
        "\n",
        "\n",
        "Para ver antes: [Instalación de Anaconda](https://colab.research.google.com/github/jazaineam1/Andes_ADDBD/blob/main/Instalaci%C3%B3n-de-Anaconda.ipynb)\n",
        "\n",
        "**Ver la presentación  [acá](https://github.com/jazaineam1/Andes_ADDBD/raw/main/Sesion2/M1%20-%20Clase%202%20-%20Funciones.pptx)**\n",
        "**Pensamiento algorítmico**"
      ],
      "metadata": {
        "id": "6rbRxEihXJqC"
      }
    },
    {
      "cell_type": "markdown",
      "source": [
        "## Funciones\n",
        "\n",
        "\n",
        "https://docs.python.org/es/3/library/functions.html"
      ],
      "metadata": {
        "id": "G276XmfAbfbK"
      }
    },
    {
      "cell_type": "code",
      "source": [
        "numeros=[1,2,4,99,5,7,8,13]\n",
        "min(numeros)"
      ],
      "metadata": {
        "id": "o3WvcRvvTyta",
        "outputId": "7bbec114-c905-454b-d23f-9b6fc80ce4dc",
        "colab": {
          "base_uri": "https://localhost:8080/"
        }
      },
      "execution_count": 1,
      "outputs": [
        {
          "output_type": "execute_result",
          "data": {
            "text/plain": [
              "1"
            ]
          },
          "metadata": {},
          "execution_count": 1
        }
      ]
    },
    {
      "cell_type": "code",
      "source": [
        "min(3,2,6)"
      ],
      "metadata": {
        "id": "9OvTJU9BUfKD",
        "outputId": "8fbf60fa-646f-4e42-fd0a-1ce681e64687",
        "colab": {
          "base_uri": "https://localhost:8080/"
        }
      },
      "execution_count": 2,
      "outputs": [
        {
          "output_type": "execute_result",
          "data": {
            "text/plain": [
              "2"
            ]
          },
          "metadata": {},
          "execution_count": 2
        }
      ]
    },
    {
      "cell_type": "markdown",
      "source": [
        "### Definir e invocar funciones"
      ],
      "metadata": {
        "id": "B8hAJPjrezgj"
      }
    },
    {
      "cell_type": "markdown",
      "source": [
        "Para definir funciones empleamos la palabra clave **def**. Si definimos una función no se ejecuta inmediatamente, simplemente queda lista para ser invocada."
      ],
      "metadata": {
        "id": "H7Jh6uM9blQW"
      }
    },
    {
      "cell_type": "code",
      "source": [
        "def saludar():\n",
        "  print('¡Hola! Qué onda')"
      ],
      "metadata": {
        "id": "i5eV71pKFL7c"
      },
      "execution_count": 5,
      "outputs": []
    },
    {
      "cell_type": "markdown",
      "source": [
        "Para invocar la función empleamos el nombre de la función. Si la función no lleva parámetros abrimos y cerramos paréntesis, para indicar que invocamos a una función, sin nada adentro."
      ],
      "metadata": {
        "id": "-XTq02VSSMez"
      }
    },
    {
      "cell_type": "code",
      "execution_count": 7,
      "metadata": {
        "id": "vKlup6L6Wgcd",
        "colab": {
          "base_uri": "https://localhost:8080/"
        },
        "outputId": "411b7471-d171-4981-b057-77c8ccc615cf"
      },
      "outputs": [
        {
          "output_type": "stream",
          "name": "stdout",
          "text": [
            "¡Hola! Qué onda\n"
          ]
        }
      ],
      "source": [
        "saludar()"
      ]
    },
    {
      "cell_type": "markdown",
      "source": [
        "**Ejercicio** Modificar la función saludar( ) para que diga '¿Ya tomaste tu aguita?'. Para correrla de nuevo en la siguiente celda y que muestre el nuevo resultado, hay que definirla de nuevo (correr la celda de definición)."
      ],
      "metadata": {
        "id": "Ptf4nQZvb_VY"
      }
    },
    {
      "cell_type": "code",
      "source": [
        "def saludar():\n",
        "  print('¿Ya tomaste tu aguita?')"
      ],
      "metadata": {
        "id": "mJ4yTxvYT8r0"
      },
      "execution_count": 8,
      "outputs": []
    },
    {
      "cell_type": "code",
      "source": [
        "saludar()"
      ],
      "metadata": {
        "id": "2X8V5zG4Wt0F",
        "outputId": "7541c6b7-e3a9-4f88-8e5a-01311fa720c1",
        "colab": {
          "base_uri": "https://localhost:8080/"
        }
      },
      "execution_count": 9,
      "outputs": [
        {
          "output_type": "stream",
          "name": "stdout",
          "text": [
            "¿Ya tomaste tu aguita?\n"
          ]
        }
      ]
    },
    {
      "cell_type": "markdown",
      "source": [
        "No todas las funciones muestran cosas en la pantalla."
      ],
      "metadata": {
        "id": "1AYVm_wyUNs3"
      }
    },
    {
      "cell_type": "code",
      "source": [
        "def correrUnAlgoritmoSilencioso():\n",
        "  # Esta función suma números internamente y luego no hace nada con ellos\n",
        "  5+3-2"
      ],
      "metadata": {
        "id": "zN-24-usUVTC"
      },
      "execution_count": 10,
      "outputs": []
    },
    {
      "cell_type": "code",
      "source": [
        "correrUnAlgoritmoSilencioso()"
      ],
      "metadata": {
        "id": "hgOwQ73JUcTw"
      },
      "execution_count": 11,
      "outputs": []
    },
    {
      "cell_type": "markdown",
      "source": [
        "Hay dos formas en las que una función puede emplear información:"
      ],
      "metadata": {
        "id": "o-bVXn0lX0sA"
      }
    },
    {
      "cell_type": "markdown",
      "source": [
        "1. Podemos pedir parámetros y utilizarlos"
      ],
      "metadata": {
        "id": "rk29omMSX8kB"
      }
    },
    {
      "cell_type": "code",
      "source": [
        "def decirMiNombre(nombre,apellido):\n",
        "  print('Buenos días, mi nombre es '+nombre+' '+ apellido+' '+'.')"
      ],
      "metadata": {
        "id": "LpOvuAuFYBJc"
      },
      "execution_count": 22,
      "outputs": []
    },
    {
      "cell_type": "markdown",
      "source": [
        "**Ejercicio** Invocar la función decirMiNombre(). Hay que pasarle exactamente un parámetro. De lo contrario, Python nos devuelve un error."
      ],
      "metadata": {
        "id": "MBHeKkxJYLEo"
      }
    },
    {
      "cell_type": "code",
      "source": [
        "decirMiNombre(apellido='Antonino',nombre='Zainea')"
      ],
      "metadata": {
        "id": "F07SUUbXYJKW",
        "colab": {
          "base_uri": "https://localhost:8080/"
        },
        "outputId": "bfbd09d1-866d-41ba-ffb4-0e7a38925adc"
      },
      "execution_count": 27,
      "outputs": [
        {
          "output_type": "stream",
          "name": "stdout",
          "text": [
            "Buenos días, mi nombre es Zainea Antonino .\n"
          ]
        }
      ]
    },
    {
      "cell_type": "markdown",
      "source": [
        "2. También podemos definir una estrucutra de información y consultarla desde la función:"
      ],
      "metadata": {
        "id": "9wYe0ZeeYjh-"
      }
    },
    {
      "cell_type": "code",
      "source": [
        "listaDeEdades = [23, 7, 64, 85, 74, 94, 68, 57, 96, 86]"
      ],
      "metadata": {
        "id": "oIqIYT7PYn9X"
      },
      "execution_count": 28,
      "outputs": []
    },
    {
      "cell_type": "code",
      "source": [
        "def promedioDeLasEdades():\n",
        "  promedio = sum(listaDeEdades)/len(listaDeEdades)\n",
        "  print(promedio)"
      ],
      "metadata": {
        "id": "02X7lpPsYz-s"
      },
      "execution_count": 29,
      "outputs": []
    },
    {
      "cell_type": "code",
      "source": [
        "promedioDeLasEdades()"
      ],
      "metadata": {
        "id": "GpSb33AdZTUt",
        "colab": {
          "base_uri": "https://localhost:8080/"
        },
        "outputId": "921e7d7b-f9c6-4b86-a5d5-73292aafd631"
      },
      "execution_count": 30,
      "outputs": [
        {
          "output_type": "stream",
          "name": "stdout",
          "text": [
            "65.4\n"
          ]
        }
      ]
    },
    {
      "cell_type": "markdown",
      "source": [
        "Es recomendable que la función solicite sus propios parámetros siempre, así:"
      ],
      "metadata": {
        "id": "vZdBnzt6a5pI"
      }
    },
    {
      "cell_type": "code",
      "source": [
        "def promedioDeLasEdades(lista):\n",
        "  promedio = sum(lista)/len(lista)\n",
        "  print(promedio)"
      ],
      "metadata": {
        "id": "26lDwhLLbAmn"
      },
      "execution_count": 31,
      "outputs": []
    },
    {
      "cell_type": "code",
      "source": [
        "# En lugar de referenciar directamente una lista global, la pasamos como parámetro\n",
        "promedioDeLasEdades([3,4,5,5])"
      ],
      "metadata": {
        "id": "xeIPdqRibEl1",
        "colab": {
          "base_uri": "https://localhost:8080/"
        },
        "outputId": "ab277454-e5eb-4266-d18c-3557d57d9ee8"
      },
      "execution_count": 33,
      "outputs": [
        {
          "output_type": "stream",
          "name": "stdout",
          "text": [
            "4.25\n"
          ]
        }
      ]
    },
    {
      "cell_type": "markdown",
      "source": [
        "**Ejercicio** Definir una función que muestre en pantalla la división entre números. Recibe como parámetros dos números, el nombre de la función es dividirNumeros; no retorna nada."
      ],
      "metadata": {
        "id": "K1TvbKbObNbO"
      }
    },
    {
      "cell_type": "code",
      "source": [
        "# Definimos la función\n",
        "def dividirNumeros(numero1, numero2):\n",
        "  print(numero1/numero2)"
      ],
      "metadata": {
        "id": "Ts9MYfz4bgVn"
      },
      "execution_count": 34,
      "outputs": []
    },
    {
      "cell_type": "markdown",
      "source": [
        "Cuando invocamos la función, y le pasamos los parámetros incorrectos, Python nos retorna un error. **¿Cuántos parámetros le pasamos a esta función en la celda siguiente?**"
      ],
      "metadata": {
        "id": "ujEbrMecbisx"
      }
    },
    {
      "cell_type": "code",
      "source": [
        "dividirNumeros([4,2])"
      ],
      "metadata": {
        "id": "uyAnWBWobjzW",
        "colab": {
          "base_uri": "https://localhost:8080/",
          "height": 141
        },
        "outputId": "ac34725b-af91-488c-f26f-8d45575d9bb2"
      },
      "execution_count": 35,
      "outputs": [
        {
          "output_type": "error",
          "ename": "TypeError",
          "evalue": "dividirNumeros() missing 1 required positional argument: 'numero2'",
          "traceback": [
            "\u001b[0;31m---------------------------------------------------------------------------\u001b[0m",
            "\u001b[0;31mTypeError\u001b[0m                                 Traceback (most recent call last)",
            "\u001b[0;32m<ipython-input-35-d123e67e25fb>\u001b[0m in \u001b[0;36m<cell line: 1>\u001b[0;34m()\u001b[0m\n\u001b[0;32m----> 1\u001b[0;31m \u001b[0mdividirNumeros\u001b[0m\u001b[0;34m(\u001b[0m\u001b[0;34m[\u001b[0m\u001b[0;36m4\u001b[0m\u001b[0;34m,\u001b[0m\u001b[0;36m2\u001b[0m\u001b[0;34m]\u001b[0m\u001b[0;34m)\u001b[0m\u001b[0;34m\u001b[0m\u001b[0;34m\u001b[0m\u001b[0m\n\u001b[0m",
            "\u001b[0;31mTypeError\u001b[0m: dividirNumeros() missing 1 required positional argument: 'numero2'"
          ]
        }
      ]
    },
    {
      "cell_type": "code",
      "source": [
        "# Esta es la forma correcta de usarla:\n",
        "dividirNumeros(numero1=4,numero2=2)"
      ],
      "metadata": {
        "id": "vTnXRgkae9Jn",
        "colab": {
          "base_uri": "https://localhost:8080/"
        },
        "outputId": "af62401e-2842-4d42-c7a4-106395d1802a"
      },
      "execution_count": 44,
      "outputs": [
        {
          "output_type": "stream",
          "name": "stdout",
          "text": [
            "2.0\n"
          ]
        }
      ]
    },
    {
      "cell_type": "markdown",
      "source": [
        "Podemos diseñar funciones que nos devuelven valores para poder usarlos después. Para esto, usamos la palabra **return**"
      ],
      "metadata": {
        "id": "mBnXRyLyfSG9"
      }
    },
    {
      "cell_type": "code",
      "source": [
        "def dameUnNumeroEntre10y20():\n",
        "  return 14"
      ],
      "metadata": {
        "id": "TdVOEKLofRZL"
      },
      "execution_count": 45,
      "outputs": []
    },
    {
      "cell_type": "markdown",
      "source": [
        "Cuando la vamos a invocar podemos usar el resultado como queramos:"
      ],
      "metadata": {
        "id": "tftEKMJRgJGP"
      }
    },
    {
      "cell_type": "code",
      "source": [
        "# En google Colab, si retornamos lo muestra en pantalla\n",
        "dameUnNumeroEntre10y20()"
      ],
      "metadata": {
        "id": "u_YfyKmsgIZY",
        "colab": {
          "base_uri": "https://localhost:8080/"
        },
        "outputId": "d7570a4f-02e7-47da-fd66-5878532cfd7e"
      },
      "execution_count": 48,
      "outputs": [
        {
          "output_type": "execute_result",
          "data": {
            "text/plain": [
              "14"
            ]
          },
          "metadata": {},
          "execution_count": 48
        }
      ]
    },
    {
      "cell_type": "code",
      "source": [
        "# También podemos pedirle que lo muestre explícitamente:\n",
        "print(dameUnNumeroEntre10y20())"
      ],
      "metadata": {
        "id": "bxunCmwagUI2",
        "colab": {
          "base_uri": "https://localhost:8080/"
        },
        "outputId": "fd8b5c9a-7278-4f7a-ba39-b84ed70babef"
      },
      "execution_count": 51,
      "outputs": [
        {
          "output_type": "stream",
          "name": "stdout",
          "text": [
            "14\n"
          ]
        }
      ]
    },
    {
      "cell_type": "code",
      "source": [
        "# Podemos operarlo con otros valores, etc.\n",
        "10 + dameUnNumeroEntre10y20()"
      ],
      "metadata": {
        "id": "fcNnYRhqgYbN",
        "colab": {
          "base_uri": "https://localhost:8080/"
        },
        "outputId": "52411e22-1bff-4b19-f544-2847ae9c2eb8"
      },
      "execution_count": 52,
      "outputs": [
        {
          "output_type": "execute_result",
          "data": {
            "text/plain": [
              "24"
            ]
          },
          "metadata": {},
          "execution_count": 52
        }
      ]
    },
    {
      "cell_type": "markdown",
      "source": [
        "Si tenemos una función que no retorna nada, no podemos usar el resultado del proceso:"
      ],
      "metadata": {
        "id": "W-EWNm7rhKu0"
      }
    },
    {
      "cell_type": "code",
      "source": [
        "def retornarMensaje(nombre, correo):\n",
        "  mensaje = '¡Buen día! Una bienvenida a esta gran empresa '+nombre+'. Te enviaremos un mensaje de confirmación al correo '+correo+' para que termines tu registro.'"
      ],
      "metadata": {
        "id": "b-ThkV_Igv6f"
      },
      "execution_count": 53,
      "outputs": []
    },
    {
      "cell_type": "code",
      "source": [
        "retornarMensaje('Juan', 'al@gmail.com')"
      ],
      "metadata": {
        "id": "fdg3obuahDOG"
      },
      "execution_count": 54,
      "outputs": []
    },
    {
      "cell_type": "markdown",
      "source": [
        "**Ejercicio** Modificar la función retornarMensaje para que retorne el mensaje de whatsapp. Volver a invocar en la celda siguiente:"
      ],
      "metadata": {
        "id": "coY9YK3Ygih4"
      }
    },
    {
      "cell_type": "code",
      "source": [
        "# Invocar de nuevo la función retornarMensaje() después de modificarla, pasarle como parámetros su nombre y su correo:\n",
        "#n dsonfdalfnldaknfsaf\n",
        "# kasfkjsa\n",
        "def retornarMensaje(nombre, correo):\n",
        "  mensaje = '¡Buen día! Una bienvenida a esta gran empresa '+nombre+'. Te enviaremos un mensaje de confirmación al correo '+correo+' para que termines tu registro.'\n",
        "  return mensaje"
      ],
      "metadata": {
        "id": "wnUZSNnVhV8k"
      },
      "execution_count": 55,
      "outputs": []
    },
    {
      "cell_type": "code",
      "source": [
        "retornarMensaje('Juan', 'al@gmail.com')"
      ],
      "metadata": {
        "id": "2fz28DdcdYBk",
        "outputId": "9844da51-fbd4-445b-b385-3f88475bc9b0",
        "colab": {
          "base_uri": "https://localhost:8080/",
          "height": 53
        }
      },
      "execution_count": 56,
      "outputs": [
        {
          "output_type": "execute_result",
          "data": {
            "text/plain": [
              "'¡Buen día! Una bienvenida a esta gran empresa Juan. Te enviaremos un mensaje de confirmación al correo al@gmail.com para que termines tu registro.'"
            ],
            "application/vnd.google.colaboratory.intrinsic+json": {
              "type": "string"
            }
          },
          "metadata": {},
          "execution_count": 56
        }
      ]
    },
    {
      "cell_type": "markdown",
      "source": [
        "## Las funciones en Python son de dos tipos\n",
        "\n",
        "-  Funciones internas **(Built-in)** que se vienen como parte de Python: `print()`, `input()`, `type()`, `float()`, `int()`...   \n",
        "\n",
        "  \n",
        "-  Funciones que definimos nosotros y luego usamos\n",
        "  \n",
        "    \n",
        "    \n",
        "     \n",
        "Las funciones internas vamos a tratarlas como “nuevas” palabras reservadas (o sea, no las usaremos de nombres de variable)\n"
      ],
      "metadata": {
        "id": "oroyLZPEnj3A"
      }
    },
    {
      "cell_type": "markdown",
      "source": [
        "Ejemplos de funciones que vienen incorporadas en Python son las de conversión entre distintos tipos (float(), int())."
      ],
      "metadata": {
        "id": "NqRJDPKQoDh8"
      }
    },
    {
      "cell_type": "code",
      "source": [
        "print(float(99) / 100)\n",
        "i = 42\n",
        "print(i)\n",
        "print(type(i))"
      ],
      "metadata": {
        "id": "OBVK8msrnjid"
      },
      "execution_count": null,
      "outputs": []
    },
    {
      "cell_type": "markdown",
      "source": [
        "## Funciones Vacías (non-fruitful)\n",
        "\n",
        "* Cuando una función no retorna un valor, le decimos una función “vacía”\n",
        "* Las funciones que retornan valores son fructíferas (fruitful)\n",
        "* Las funciones vacías son “no fructíferas”"
      ],
      "metadata": {
        "id": "fhSGpmwuoelk"
      }
    },
    {
      "cell_type": "markdown",
      "source": [
        "## Ejercicio"
      ],
      "metadata": {
        "id": "KaIaqy5Io9SB"
      }
    },
    {
      "cell_type": "markdown",
      "source": [
        "Cree una función llamada **pagocomputado** que reciba dos argumentos ( horas y tarifa).La función le debe solicitar al usuario ingresar horas y tarifa por hora para computar el pago.\n",
        "\n",
        "Ejemplo:\n",
        "\n",
        "Inserte Horas: 42.5\n",
        "Inserte Tarifa: 2000\n",
        "\n",
        "Pago: 85000"
      ],
      "metadata": {
        "id": "cHt9nX2mpCHi"
      }
    },
    {
      "cell_type": "code",
      "source": [
        "def pagoComputo (horas, tarifas):\n",
        "    Pago= horas*tarifas\n",
        "    return Pago"
      ],
      "metadata": {
        "id": "eBS5-nTjpZgN"
      },
      "execution_count": 70,
      "outputs": []
    },
    {
      "cell_type": "code",
      "source": [
        "pago=pagoComputo(42.5,2000)\n",
        "pago"
      ],
      "metadata": {
        "id": "snhVc5bHgDOn",
        "outputId": "e62f6486-e2ab-4d94-a9c6-25a15a3e587e",
        "colab": {
          "base_uri": "https://localhost:8080/"
        }
      },
      "execution_count": 71,
      "outputs": [
        {
          "output_type": "execute_result",
          "data": {
            "text/plain": [
              "85000.0"
            ]
          },
          "metadata": {},
          "execution_count": 71
        }
      ]
    },
    {
      "cell_type": "markdown",
      "source": [
        "Cree una función que sume sus gastos de canasta familiar, gastos financieros, gastos de entretenimiento. Muestre el total de sus gastos y realice una relación frente a sus ingresos (participación)."
      ],
      "metadata": {
        "id": "1S7JNq-0qinh"
      }
    },
    {
      "cell_type": "code",
      "source": [
        "def calcular_gastos(horas,tarifas):\n",
        "  pago=pagoComputo(horas,tarifas)\n",
        "  gasto_canasta=float(input(\"Ingrese gasto canasta:\"))\n",
        "  gasto_financiero=float(input(\"Ingrese gasto financiero:\"))\n",
        "  gasto_entretenimiento=float(input(\"Ingrese gasto entretenimiento:\"))\n",
        "  gasto_total=gasto_canasta+gasto_financiero+gasto_entretenimiento\n",
        "  participacion=gasto_total/pago*100\n",
        "  return f\"el porcentaje de participación es :{participacion:.2f}\""
      ],
      "metadata": {
        "id": "EuUf22MXhOFa"
      },
      "execution_count": 81,
      "outputs": []
    },
    {
      "cell_type": "code",
      "source": [
        "salida_final=calcular_gastos(42.5,2000)"
      ],
      "metadata": {
        "id": "gOSX0sHhiTLx",
        "outputId": "c44789e5-7b47-4f11-9bcd-81dfddca8e63",
        "colab": {
          "base_uri": "https://localhost:8080/"
        }
      },
      "execution_count": 82,
      "outputs": [
        {
          "name": "stdout",
          "output_type": "stream",
          "text": [
            "Ingrese gasto canasta:1\n",
            "Ingrese gasto financiero:1\n",
            "Ingrese gasto entretenimiento:1\n"
          ]
        }
      ]
    },
    {
      "cell_type": "code",
      "source": [
        "salida_final"
      ],
      "metadata": {
        "id": "TQ80ZY2wjVOb",
        "outputId": "90d4e575-7b39-49e8-eb0c-c293a36fdae6",
        "colab": {
          "base_uri": "https://localhost:8080/",
          "height": 35
        }
      },
      "execution_count": 83,
      "outputs": [
        {
          "output_type": "execute_result",
          "data": {
            "text/plain": [
              "'el porcentaje de participación es :0.00'"
            ],
            "application/vnd.google.colaboratory.intrinsic+json": {
              "type": "string"
            }
          },
          "metadata": {},
          "execution_count": 83
        }
      ]
    },
    {
      "cell_type": "markdown",
      "source": [
        "## Recapitulando\n",
        "En este cuadernillo vimos:\n",
        "\n",
        "\n",
        "*   Definición de funciones\n",
        "*   Cómo invocamos funciones\n",
        "*   Empleamos parámetros\n",
        "*   Retornamos resultados\n",
        "*   Algunos errores comunes cuando empleamos funciones\n",
        "\n"
      ],
      "metadata": {
        "id": "Po6dNKTygVN4"
      }
    },
    {
      "cell_type": "markdown",
      "source": [
        "## **Puedes ver más**\n",
        "\n",
        "[Funciones](https://paiml.github.io/python_for_datascience/lessons/Lesson8_Python_For_Data_Science_Functions.html)\n"
      ],
      "metadata": {
        "id": "40DWh6087ovP"
      }
    },
    {
      "cell_type": "code",
      "source": [],
      "metadata": {
        "id": "9Rfpm25f7z94"
      },
      "execution_count": null,
      "outputs": []
    }
  ]
}