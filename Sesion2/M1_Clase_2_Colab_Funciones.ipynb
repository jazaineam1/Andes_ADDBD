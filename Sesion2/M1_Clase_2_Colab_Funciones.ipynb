{
  "nbformat": 4,
  "nbformat_minor": 0,
  "metadata": {
    "colab": {
      "provenance": [],
      "include_colab_link": true
    },
    "kernelspec": {
      "name": "python3",
      "display_name": "Python 3"
    },
    "language_info": {
      "name": "python"
    }
  },
  "cells": [
    {
      "cell_type": "markdown",
      "metadata": {
        "id": "view-in-github",
        "colab_type": "text"
      },
      "source": [
        "<a href=\"https://colab.research.google.com/github/jazaineam1/Andes_ADDBD/blob/main/Sesion2/M1_Clase_2_Colab_Funciones.ipynb\" target=\"_parent\"><img src=\"https://colab.research.google.com/assets/colab-badge.svg\" alt=\"Open In Colab\"/></a>"
      ]
    },
    {
      "cell_type": "markdown",
      "source": [
        "#***Análisis de Datos y Big data***\n",
        "\n",
        "## ***Universidad de los Andes***\n",
        ">## **Dirección de Educación Continua.**\n",
        ">>## **Formación de habilidades escenciales.**\n",
        "\n",
        "![Imágen1](https://github.com/jazaineam1/Andes_ADDBD/blob/main/Imagenes/Presentaci%C3%B3n-removebg-preview.png?raw=true)\n",
        "\n",
        "\n",
        "Para ver antes: [Instalación de python](https://learn.microsoft.com/es-es/training/modules/python-install-vscode/)\n",
        "\n",
        "**Ver la presentación  [acá](https://github.com/jazaineam1/Andes_ADDBD/raw/main/Sesion2/M1%20-%20Clase%202%20-%20Funciones.pptx)**\n",
        "**Pensamiento algorítmico**"
      ],
      "metadata": {
        "id": "6rbRxEihXJqC"
      }
    },
    {
      "cell_type": "markdown",
      "source": [
        "## Introducción a Estructuras de Datos en Python\n",
        "\n",
        "Las estructuras de datos son herramientas que nos permiten organizar y almacenar información de manera eficiente, de modo que podamos acceder y manipular los datos de forma sencilla. En Python, las estructuras de datos más comunes son las listas, las tuplas, los conjuntos y los diccionarios. Vamos a explorar cada una de estas estructuras, entender sus diferencias y aprender a aplicarlas con ejemplos.\n",
        "### 0. Fundamentales\n",
        "En Python, existen varios tipos de datos fundamentales que se utilizan para almacenar y manipular información. Aquí te explico los más comunes, incluyendo algunos adicionales que también son importantes:\n",
        "\n",
        "### 0.1. **`int` (Entero)**\n",
        "   - Representa números enteros, positivos o negativos, sin parte decimal.\n",
        "   - Ejemplo: `5`, `-3`, `0`\n",
        "\n",
        "```python\n",
        "x = 5\n",
        "y = -3\n",
        "```\n",
        "\n",
        "### 0.2. **`float` (Flotante)**\n",
        "   - Representa números de punto flotante, es decir, aquellos que tienen una parte decimal.\n",
        "   - Ejemplo: `3.14`, `-0.001`\n",
        "\n",
        "```python\n",
        "pi = 3.1416\n",
        "temperature = -5.5\n",
        "```\n",
        "\n",
        "### 0.3. **`str` (Cadena de caracteres)**\n",
        "   - Representa una secuencia de caracteres, que puede ser cualquier tipo de texto.\n",
        "   - Las cadenas se delimitan con comillas simples (`'`) o dobles (`\"`).\n",
        "   - Ejemplo: `\"Hola\"`, `'Python es genial'`\n",
        "\n",
        "```python\n",
        "greeting = \"Hola\"\n",
        "```\n",
        "\n",
        "### 0.4. **`bool` (Booleano)**\n",
        "   - Representa valores de verdad, que pueden ser `True` (Verdadero) o `False` (Falso).\n",
        "   - Ejemplo: `True`, `False`\n",
        "\n",
        "```python\n",
        "is_raining = True\n",
        "has_sun = False\n",
        "```\n",
        "\n",
        "### 1. Listas\n",
        "\n",
        "Una lista en Python es una colección ordenada y mutable de elementos. Las listas pueden contener cualquier tipo de dato: números, cadenas de texto, e incluso otras listas. Al ser mutables, podemos modificar su contenido después de haberlas creado, lo cual es útil cuando necesitamos agregar o eliminar datos.\n",
        "\n",
        "Sintaxis de una lista:"
      ],
      "metadata": {
        "id": "mZ5zYffHD0tS"
      }
    },
    {
      "cell_type": "code",
      "source": [
        "mi_lista = [1, 2, 3, 'Python', True]"
      ],
      "metadata": {
        "id": "gUA0COojD7Rq"
      },
      "execution_count": 1,
      "outputs": []
    },
    {
      "cell_type": "markdown",
      "source": [
        "En este ejemplo, la lista mi_lista contiene distintos tipos de datos: enteros, una cadena de texto y un valor booleano.\n",
        "\n",
        "Operaciones comunes con listas:\n",
        "\n",
        "- Acceder a elementos: Utilizamos índices que comienzan desde cero."
      ],
      "metadata": {
        "id": "0YOlVrhwD8Sg"
      }
    },
    {
      "cell_type": "code",
      "source": [
        "mi_lista[0]"
      ],
      "metadata": {
        "colab": {
          "base_uri": "https://localhost:8080/"
        },
        "id": "7uql4l1jEBRH",
        "outputId": "a92668c1-97a6-4aee-83a1-ae88232da2a0"
      },
      "execution_count": 2,
      "outputs": [
        {
          "output_type": "execute_result",
          "data": {
            "text/plain": [
              "1"
            ]
          },
          "metadata": {},
          "execution_count": 2
        }
      ]
    },
    {
      "cell_type": "markdown",
      "source": [
        "- **Agregar elementos**: Podemos agregar un nuevo elemento con el método append()."
      ],
      "metadata": {
        "id": "yEAs-r9IEG1e"
      }
    },
    {
      "cell_type": "code",
      "source": [
        "mi_lista.append(4)"
      ],
      "metadata": {
        "id": "rreUJiN5EMLX"
      },
      "execution_count": 3,
      "outputs": []
    },
    {
      "cell_type": "markdown",
      "source": [
        "-  **Eliminar elementos:** Podemos eliminar elementos con `remove()` o `pop()`."
      ],
      "metadata": {
        "id": "WkWhRGmLEYN-"
      }
    },
    {
      "cell_type": "code",
      "source": [
        "mi_lista.remove('Python')"
      ],
      "metadata": {
        "id": "3QHuJ65QEqML"
      },
      "execution_count": 4,
      "outputs": []
    },
    {
      "cell_type": "markdown",
      "source": [
        "Los índices negativos en listas nos permiten acceder a los elementos comenzando desde el final."
      ],
      "metadata": {
        "id": "EBjeHXb5EvPl"
      }
    },
    {
      "cell_type": "code",
      "source": [
        "print(mi_lista[-1])"
      ],
      "metadata": {
        "id": "kadDp7oYExvu",
        "outputId": "148c80c8-2509-4686-cd21-cb32d77dcfa3",
        "colab": {
          "base_uri": "https://localhost:8080/"
        }
      },
      "execution_count": 5,
      "outputs": [
        {
          "output_type": "stream",
          "name": "stdout",
          "text": [
            "4\n"
          ]
        }
      ]
    },
    {
      "cell_type": "markdown",
      "source": [
        "\n",
        "### 2. Tuplas\n",
        "\n",
        "Una **tupla** es similar a una lista, pero con una gran diferencia: **las tuplas son inmutables**. Una vez creada, no podemos cambiar el contenido de una tupla, lo cual las hace útiles para datos que no deben modificarse.\n",
        "\n",
        "**Sintaxis de una tupla:**\n"
      ],
      "metadata": {
        "id": "JJh49DysE0El"
      }
    },
    {
      "cell_type": "code",
      "source": [
        "mi_tupla = (1, 2, 3, 'Python', False)"
      ],
      "metadata": {
        "id": "4YcWMFsME3en"
      },
      "execution_count": 6,
      "outputs": []
    },
    {
      "cell_type": "markdown",
      "source": [
        "\n",
        "En este ejemplo, la tupla `mi_tupla` contiene varios tipos de datos, igual que la lista.\n",
        "\n",
        "**Ventajas de las tuplas:**\n",
        "\n",
        "- Son más rápidas que las listas debido a que no permiten modificaciones.\n",
        "- Se suelen usar para representar datos que tienen un significado fijo, como coordenadas (x, y) o fechas (año, mes, día).\n",
        "\n",
        "**Acceder a elementos de una tupla:**\n",
        "Al igual que en las listas, podemos usar índices para acceder a los elementos.\n"
      ],
      "metadata": {
        "id": "PvRKRNBxE7Dt"
      }
    },
    {
      "cell_type": "code",
      "source": [
        "print(mi_tupla[1])"
      ],
      "metadata": {
        "id": "AB4IwvebE8Va",
        "outputId": "e7ae9e89-c13e-4191-ee4d-1b5377bd6ecd",
        "colab": {
          "base_uri": "https://localhost:8080/"
        }
      },
      "execution_count": 7,
      "outputs": [
        {
          "output_type": "stream",
          "name": "stdout",
          "text": [
            "2\n"
          ]
        }
      ]
    },
    {
      "cell_type": "markdown",
      "source": [
        "Si una tupla tiene un solo elemento, es necesario poner una coma para que Python la reconozca como tupla:"
      ],
      "metadata": {
        "id": "r0DZoawOE90-"
      }
    },
    {
      "cell_type": "code",
      "source": [
        "mi_tupla_uno = (42,)"
      ],
      "metadata": {
        "id": "bxA5OiQNFFua"
      },
      "execution_count": 8,
      "outputs": []
    },
    {
      "cell_type": "markdown",
      "source": [
        "### 3. Conjuntos\n",
        "\n",
        "Un **conjunto** es una colección desordenada de elementos únicos. Los conjuntos son útiles cuando queremos almacenar elementos sin duplicados y realizar operaciones matemáticas como la unión, intersección y diferencia.\n",
        "\n",
        "**Sintaxis de un conjunto:**\n"
      ],
      "metadata": {
        "id": "9uGbfFbGFIsG"
      }
    },
    {
      "cell_type": "code",
      "source": [
        "mi_conjunto = {1, 2, 3, 'Python'}"
      ],
      "metadata": {
        "id": "hvAf4-oZFM60"
      },
      "execution_count": 9,
      "outputs": []
    },
    {
      "cell_type": "markdown",
      "source": [
        "\n",
        "\n",
        "En este ejemplo, el conjunto `mi_conjunto` contiene varios tipos de datos. Si intentamos agregar un elemento que ya está presente, no se añadirá de nuevo.\n",
        "\n",
        "**Operaciones comunes con conjuntos:**\n",
        "\n",
        "- **Agregar elementos:** Podemos agregar un nuevo elemento con el método `add()`."
      ],
      "metadata": {
        "id": "E1sl5fO5FQLP"
      }
    },
    {
      "cell_type": "code",
      "source": [
        "mi_conjunto.add(4)"
      ],
      "metadata": {
        "id": "TrDFuV5-FSEx"
      },
      "execution_count": 10,
      "outputs": []
    },
    {
      "cell_type": "markdown",
      "source": [
        "\n",
        "- **Eliminar elementos:** Podemos eliminar elementos con `remove()` o `discard()`."
      ],
      "metadata": {
        "id": "qPsBiLj4FUsZ"
      }
    },
    {
      "cell_type": "code",
      "source": [
        "mi_conjunto.remove(1)"
      ],
      "metadata": {
        "id": "fjJArLm8FceE"
      },
      "execution_count": 11,
      "outputs": []
    },
    {
      "cell_type": "markdown",
      "source": [
        "- **Operaciones de conjuntos:**\n",
        "  - **Unión:**\n",
        "    ```python\n",
        "    otro_conjunto = {3, 4, 5}\n",
        "    union = mi_conjunto.union(otro_conjunto)  # {1, 2, 3, 4, 'Python', 5}\n",
        "    ```\n",
        "  - **Intersección:**\n",
        "    ```python\n",
        "    interseccion = mi_conjunto.intersection(otro_conjunto)  # {3}\n",
        "    ```\n",
        "\n",
        "Los conjuntos no permiten elementos duplicados, por lo que son muy útiles para eliminar duplicados de una lista.\n"
      ],
      "metadata": {
        "id": "8Bv76tuZFfV8"
      }
    },
    {
      "cell_type": "code",
      "source": [
        "mi_lista = [1, 2, 2, 3, 3, 3]\n",
        "mi_conjunto = set(mi_lista)\n",
        "print(mi_conjunto)"
      ],
      "metadata": {
        "id": "XXuns4DyFwFW",
        "outputId": "cd2f93e8-8e32-4d8a-bfcd-cced63690c74",
        "colab": {
          "base_uri": "https://localhost:8080/"
        }
      },
      "execution_count": 12,
      "outputs": [
        {
          "output_type": "stream",
          "name": "stdout",
          "text": [
            "{1, 2, 3}\n"
          ]
        }
      ]
    },
    {
      "cell_type": "markdown",
      "source": [
        "\n",
        "### 4. Diccionarios\n",
        "\n",
        "Un **diccionario** es una colección de pares clave-valor. Cada elemento del diccionario tiene una **clave** (única) que está asociada con un **valor**. Los diccionarios son útiles cuando necesitamos acceder a datos mediante una clave, en lugar de un índice numérico.\n",
        "\n",
        "**Sintaxis de un diccionario:**\n"
      ],
      "metadata": {
        "id": "BAoDYA6LF0t2"
      }
    },
    {
      "cell_type": "code",
      "source": [
        "mi_diccionario = {\n",
        "    'nombre': 'Ana',\n",
        "    'edad': 25,\n",
        "    'profesión': 'Analista de datos'\n",
        "}"
      ],
      "metadata": {
        "id": "OaQ9u3ZjF3Ya"
      },
      "execution_count": 13,
      "outputs": []
    },
    {
      "cell_type": "markdown",
      "source": [
        "\n",
        "\n",
        "En este ejemplo, `mi_diccionario` tiene tres claves: `'nombre'`, `'edad'` y `'profesión'`, cada una con un valor asociado.\n",
        "\n",
        "**Operaciones comunes con diccionarios:**\n",
        "\n",
        "- **Acceder a un valor:** Utilizamos la clave correspondiente.\n",
        "  ```python\n",
        "  print(mi_diccionario['nombre'])  # Imprime 'Ana'\n",
        "  ```\n",
        "- **Agregar o actualizar un par clave-valor:**\n",
        "  ```python\n",
        "  mi_diccionario['ciudad'] = 'Bogotá'\n",
        "  ```\n",
        "- **Eliminar un par clave-valor:** Podemos eliminar un elemento con `del` o `pop()`.\n",
        "  ```python\n",
        "  del mi_diccionario['edad']\n",
        "  ```\n"
      ],
      "metadata": {
        "id": "5wSYrEW6F7Ie"
      }
    },
    {
      "cell_type": "markdown",
      "source": [
        "\n",
        "\n",
        "- **Listas**: Colecciones ordenadas y mutables, útiles para almacenar datos que cambian.\n",
        "- **Tuplas**: Colecciones ordenadas e inmutables, ideales para datos fijos.\n",
        "- **Conjuntos**: Colecciones desordenadas de elementos únicos, útiles para operaciones matemáticas y eliminar duplicados.\n",
        "- **Diccionarios**: Colecciones desordenadas de pares clave-valor, perfectas para buscar datos mediante una clave.\n",
        "\n",
        "\n",
        "\n"
      ],
      "metadata": {
        "id": "Q2Fls4myESYm"
      }
    },
    {
      "cell_type": "markdown",
      "source": [
        "## Funciones\n",
        "\n",
        "\n",
        "https://docs.python.org/es/3/library/functions.html"
      ],
      "metadata": {
        "id": "G276XmfAbfbK"
      }
    },
    {
      "cell_type": "markdown",
      "source": [
        "### Definir e invocar funciones"
      ],
      "metadata": {
        "id": "B8hAJPjrezgj"
      }
    },
    {
      "cell_type": "markdown",
      "source": [
        "Para definir funciones empleamos la palabra clave **def**. Si definimos una función no se ejecuta inmediatamente, simplemente queda lista para ser invocada."
      ],
      "metadata": {
        "id": "H7Jh6uM9blQW"
      }
    },
    {
      "cell_type": "code",
      "source": [
        "def saludar():\n",
        "  print('¡Hola! Qué onda')"
      ],
      "metadata": {
        "id": "i5eV71pKFL7c"
      },
      "execution_count": 14,
      "outputs": []
    },
    {
      "cell_type": "markdown",
      "source": [
        "Para invocar la función empleamos el nombre de la función. Si la función no lleva parámetros abrimos y cerramos paréntesis, para indicar que invocamos a una función, sin nada adentro."
      ],
      "metadata": {
        "id": "-XTq02VSSMez"
      }
    },
    {
      "cell_type": "code",
      "execution_count": 15,
      "metadata": {
        "id": "vKlup6L6Wgcd",
        "colab": {
          "base_uri": "https://localhost:8080/"
        },
        "outputId": "27cecfb0-54c1-48ab-9068-368e5374b401"
      },
      "outputs": [
        {
          "output_type": "stream",
          "name": "stdout",
          "text": [
            "¡Hola! Qué onda\n"
          ]
        }
      ],
      "source": [
        "saludar()"
      ]
    },
    {
      "cell_type": "markdown",
      "source": [
        "**Ejercicio** Modificar la función saludar( ) para que diga '¿Ya tomaste tu aguita?'. Para correrla de nuevo en la siguiente celda y que muestre el nuevo resultado, hay que definirla de nuevo (correr la celda de definición)."
      ],
      "metadata": {
        "id": "Ptf4nQZvb_VY"
      }
    },
    {
      "cell_type": "code",
      "source": [
        "def saludar():\n",
        "  print('¿Ya tomaste tu aguita?')"
      ],
      "metadata": {
        "id": "mJ4yTxvYT8r0"
      },
      "execution_count": 16,
      "outputs": []
    },
    {
      "cell_type": "code",
      "source": [
        "saludar()"
      ],
      "metadata": {
        "id": "2X8V5zG4Wt0F",
        "outputId": "58589a3a-dc66-46f1-e63a-8e3c77195392",
        "colab": {
          "base_uri": "https://localhost:8080/"
        }
      },
      "execution_count": 17,
      "outputs": [
        {
          "output_type": "stream",
          "name": "stdout",
          "text": [
            "¿Ya tomaste tu aguita?\n"
          ]
        }
      ]
    },
    {
      "cell_type": "markdown",
      "source": [
        "No todas las funciones muestran cosas en la pantalla."
      ],
      "metadata": {
        "id": "1AYVm_wyUNs3"
      }
    },
    {
      "cell_type": "code",
      "source": [
        "def correrUnAlgoritmoSilencioso():\n",
        "  # Esta función suma números internamente y luego no hace nada con ellos\n",
        "  5+3-2"
      ],
      "metadata": {
        "id": "zN-24-usUVTC"
      },
      "execution_count": 18,
      "outputs": []
    },
    {
      "cell_type": "code",
      "source": [
        "correrUnAlgoritmoSilencioso()"
      ],
      "metadata": {
        "id": "hgOwQ73JUcTw"
      },
      "execution_count": 19,
      "outputs": []
    },
    {
      "cell_type": "markdown",
      "source": [
        "Hay dos formas en las que una función puede emplear información:"
      ],
      "metadata": {
        "id": "o-bVXn0lX0sA"
      }
    },
    {
      "cell_type": "markdown",
      "source": [
        "1. Podemos pedir parámetros y utilizarlos"
      ],
      "metadata": {
        "id": "rk29omMSX8kB"
      }
    },
    {
      "cell_type": "code",
      "source": [
        "def decirMiNombre(nombre,apellido):\n",
        "  print('Buenos días, mi nombre es '+nombre+' '+ apellido+' '+'.')"
      ],
      "metadata": {
        "id": "LpOvuAuFYBJc"
      },
      "execution_count": 20,
      "outputs": []
    },
    {
      "cell_type": "markdown",
      "source": [
        "**Ejercicio** Invocar la función decirMiNombre(). Hay que pasarle exactamente un parámetro. De lo contrario, Python nos devuelve un error."
      ],
      "metadata": {
        "id": "MBHeKkxJYLEo"
      }
    },
    {
      "cell_type": "code",
      "source": [
        "decirMiNombre(apellido='Antonino',nombre='Zainea')"
      ],
      "metadata": {
        "id": "F07SUUbXYJKW",
        "colab": {
          "base_uri": "https://localhost:8080/"
        },
        "outputId": "f25210fb-26e4-4127-fb0b-cc0ca78c399e"
      },
      "execution_count": 21,
      "outputs": [
        {
          "output_type": "stream",
          "name": "stdout",
          "text": [
            "Buenos días, mi nombre es Zainea Antonino .\n"
          ]
        }
      ]
    },
    {
      "cell_type": "markdown",
      "source": [
        "2. También podemos definir una estrucutra de información y consultarla desde la función:"
      ],
      "metadata": {
        "id": "9wYe0ZeeYjh-"
      }
    },
    {
      "cell_type": "code",
      "source": [
        "listaDeEdades = [23, 7, 64, 85, 74, 94, 68, 57, 96, 86]"
      ],
      "metadata": {
        "id": "oIqIYT7PYn9X"
      },
      "execution_count": 22,
      "outputs": []
    },
    {
      "cell_type": "code",
      "source": [
        "def promedioDeLasEdades():\n",
        "  promedio = sum(listaDeEdades)/len(listaDeEdades)\n",
        "  print(promedio)"
      ],
      "metadata": {
        "id": "02X7lpPsYz-s"
      },
      "execution_count": 23,
      "outputs": []
    },
    {
      "cell_type": "code",
      "source": [
        "promedioDeLasEdades()"
      ],
      "metadata": {
        "id": "GpSb33AdZTUt",
        "colab": {
          "base_uri": "https://localhost:8080/"
        },
        "outputId": "84f833e2-9fa7-4b49-b9c4-7b195616affc"
      },
      "execution_count": 24,
      "outputs": [
        {
          "output_type": "stream",
          "name": "stdout",
          "text": [
            "65.4\n"
          ]
        }
      ]
    },
    {
      "cell_type": "markdown",
      "source": [
        "Es recomendable que la función solicite sus propios parámetros siempre, así:"
      ],
      "metadata": {
        "id": "vZdBnzt6a5pI"
      }
    },
    {
      "cell_type": "code",
      "source": [
        "def promedioDeLasEdades(lista):\n",
        "  promedio = sum(lista)/len(lista)\n",
        "  print(promedio)"
      ],
      "metadata": {
        "id": "26lDwhLLbAmn"
      },
      "execution_count": 25,
      "outputs": []
    },
    {
      "cell_type": "code",
      "source": [
        "# En lugar de referenciar directamente una lista global, la pasamos como parámetro\n",
        "promedioDeLasEdades([3,4,5,5])"
      ],
      "metadata": {
        "id": "xeIPdqRibEl1",
        "colab": {
          "base_uri": "https://localhost:8080/"
        },
        "outputId": "080af2f5-6615-4f49-b3a6-760af52cf454"
      },
      "execution_count": 26,
      "outputs": [
        {
          "output_type": "stream",
          "name": "stdout",
          "text": [
            "4.25\n"
          ]
        }
      ]
    },
    {
      "cell_type": "markdown",
      "source": [
        "**Ejercicio** Definir una función que muestre en pantalla la división entre números. Recibe como parámetros dos números, el nombre de la función es dividirNumeros; no retorna nada."
      ],
      "metadata": {
        "id": "K1TvbKbObNbO"
      }
    },
    {
      "cell_type": "code",
      "source": [
        "# Definimos la función\n",
        "def dividirNumeros(numero1, numero2):\n",
        "  print(numero1/numero2)"
      ],
      "metadata": {
        "id": "Ts9MYfz4bgVn"
      },
      "execution_count": 27,
      "outputs": []
    },
    {
      "cell_type": "markdown",
      "source": [
        "Cuando invocamos la función, y le pasamos los parámetros incorrectos, Python nos retorna un error. **¿Cuántos parámetros le pasamos a esta función en la celda siguiente?**"
      ],
      "metadata": {
        "id": "ujEbrMecbisx"
      }
    },
    {
      "cell_type": "code",
      "source": [
        "dividirNumeros([4,2])"
      ],
      "metadata": {
        "id": "uyAnWBWobjzW",
        "colab": {
          "base_uri": "https://localhost:8080/",
          "height": 141
        },
        "outputId": "d0d7212d-414c-45cc-cfa7-851fd0a60276"
      },
      "execution_count": 28,
      "outputs": [
        {
          "output_type": "error",
          "ename": "TypeError",
          "evalue": "dividirNumeros() missing 1 required positional argument: 'numero2'",
          "traceback": [
            "\u001b[0;31m---------------------------------------------------------------------------\u001b[0m",
            "\u001b[0;31mTypeError\u001b[0m                                 Traceback (most recent call last)",
            "\u001b[0;32m<ipython-input-28-d123e67e25fb>\u001b[0m in \u001b[0;36m<cell line: 1>\u001b[0;34m()\u001b[0m\n\u001b[0;32m----> 1\u001b[0;31m \u001b[0mdividirNumeros\u001b[0m\u001b[0;34m(\u001b[0m\u001b[0;34m[\u001b[0m\u001b[0;36m4\u001b[0m\u001b[0;34m,\u001b[0m\u001b[0;36m2\u001b[0m\u001b[0;34m]\u001b[0m\u001b[0;34m)\u001b[0m\u001b[0;34m\u001b[0m\u001b[0;34m\u001b[0m\u001b[0m\n\u001b[0m",
            "\u001b[0;31mTypeError\u001b[0m: dividirNumeros() missing 1 required positional argument: 'numero2'"
          ]
        }
      ]
    },
    {
      "cell_type": "code",
      "source": [
        "# Esta es la forma correcta de usarla:\n",
        "dividirNumeros(numero1=4,numero2=2)"
      ],
      "metadata": {
        "id": "vTnXRgkae9Jn",
        "colab": {
          "base_uri": "https://localhost:8080/"
        },
        "outputId": "59098635-ef01-4aa5-dc9f-9d679dae8717"
      },
      "execution_count": 29,
      "outputs": [
        {
          "output_type": "stream",
          "name": "stdout",
          "text": [
            "2.0\n"
          ]
        }
      ]
    },
    {
      "cell_type": "markdown",
      "source": [
        "Podemos diseñar funciones que nos devuelven valores para poder usarlos después. Para esto, usamos la palabra **return**"
      ],
      "metadata": {
        "id": "mBnXRyLyfSG9"
      }
    },
    {
      "cell_type": "code",
      "source": [
        "def dameUnNumeroEntre10y20():\n",
        "  return 14"
      ],
      "metadata": {
        "id": "TdVOEKLofRZL"
      },
      "execution_count": 30,
      "outputs": []
    },
    {
      "cell_type": "markdown",
      "source": [
        "Cuando la vamos a invocar podemos usar el resultado como queramos:"
      ],
      "metadata": {
        "id": "tftEKMJRgJGP"
      }
    },
    {
      "cell_type": "code",
      "source": [
        "# En google Colab, si retornamos lo muestra en pantalla\n",
        "dameUnNumeroEntre10y20()"
      ],
      "metadata": {
        "id": "u_YfyKmsgIZY",
        "colab": {
          "base_uri": "https://localhost:8080/"
        },
        "outputId": "c121d135-3662-4c0d-f611-6039d7c5ae3b"
      },
      "execution_count": 31,
      "outputs": [
        {
          "output_type": "execute_result",
          "data": {
            "text/plain": [
              "14"
            ]
          },
          "metadata": {},
          "execution_count": 31
        }
      ]
    },
    {
      "cell_type": "code",
      "source": [
        "# También podemos pedirle que lo muestre explícitamente:\n",
        "print(dameUnNumeroEntre10y20())"
      ],
      "metadata": {
        "id": "bxunCmwagUI2",
        "colab": {
          "base_uri": "https://localhost:8080/"
        },
        "outputId": "255550b3-3bd5-4fc7-9dbd-d4d2e5c542cb"
      },
      "execution_count": 32,
      "outputs": [
        {
          "output_type": "stream",
          "name": "stdout",
          "text": [
            "14\n"
          ]
        }
      ]
    },
    {
      "cell_type": "code",
      "source": [
        "# Podemos operarlo con otros valores, etc.\n",
        "10 + dameUnNumeroEntre10y20()"
      ],
      "metadata": {
        "id": "fcNnYRhqgYbN",
        "colab": {
          "base_uri": "https://localhost:8080/"
        },
        "outputId": "2f8219c1-570a-4f7d-a8d9-4b5bda4bca0d"
      },
      "execution_count": 33,
      "outputs": [
        {
          "output_type": "execute_result",
          "data": {
            "text/plain": [
              "24"
            ]
          },
          "metadata": {},
          "execution_count": 33
        }
      ]
    },
    {
      "cell_type": "markdown",
      "source": [
        "Si tenemos una función que no retorna nada, no podemos usar el resultado del proceso:"
      ],
      "metadata": {
        "id": "W-EWNm7rhKu0"
      }
    },
    {
      "cell_type": "code",
      "source": [
        "def retornarMensaje(nombre, correo):\n",
        "  mensaje = '¡Buen día! Una bienvenida a esta gran empresa '+nombre+'. Te enviaremos un mensaje de confirmación al correo '+correo+' para que termines tu registro.'"
      ],
      "metadata": {
        "id": "b-ThkV_Igv6f"
      },
      "execution_count": 34,
      "outputs": []
    },
    {
      "cell_type": "code",
      "source": [
        "retornarMensaje('Juan', 'al@gmail.com')"
      ],
      "metadata": {
        "id": "fdg3obuahDOG"
      },
      "execution_count": 35,
      "outputs": []
    },
    {
      "cell_type": "markdown",
      "source": [
        "**Ejercicio** Modificar la función retornarMensaje para que retorne el mensaje de whatsapp. Volver a invocar en la celda siguiente:"
      ],
      "metadata": {
        "id": "coY9YK3Ygih4"
      }
    },
    {
      "cell_type": "code",
      "source": [
        "# Invocar de nuevo la función retornarMensaje() después de modificarla, pasarle como parámetros su nombre y su correo:\n",
        "#n dsonfdalfnldaknfsaf\n",
        "# kasfkjsa\n",
        "def retornarMensaje(nombre, correo):\n",
        "  mensaje = '¡Buen día! Una bienvenida a esta gran empresa '+nombre+'. Te enviaremos un mensaje de confirmación al correo '+correo+' para que termines tu registro.'\n",
        "  return mensaje"
      ],
      "metadata": {
        "id": "wnUZSNnVhV8k"
      },
      "execution_count": 36,
      "outputs": []
    },
    {
      "cell_type": "code",
      "source": [
        "retornarMensaje('Juan', 'al@gmail.com')"
      ],
      "metadata": {
        "id": "2fz28DdcdYBk",
        "outputId": "bb3dc6cd-0437-40e9-fe4b-9bfa6be836d3",
        "colab": {
          "base_uri": "https://localhost:8080/",
          "height": 35
        }
      },
      "execution_count": 37,
      "outputs": [
        {
          "output_type": "execute_result",
          "data": {
            "text/plain": [
              "'¡Buen día! Una bienvenida a esta gran empresa Juan. Te enviaremos un mensaje de confirmación al correo al@gmail.com para que termines tu registro.'"
            ],
            "application/vnd.google.colaboratory.intrinsic+json": {
              "type": "string"
            }
          },
          "metadata": {},
          "execution_count": 37
        }
      ]
    },
    {
      "cell_type": "markdown",
      "source": [
        "## Las funciones en Python son de dos tipos\n",
        "\n",
        "-  Funciones internas **(Built-in)** que se vienen como parte de Python: `print()`, `input()`, `type()`, `float()`, `int()`...   \n",
        "\n",
        "  \n",
        "-  Funciones que definimos nosotros y luego usamos\n",
        "  \n",
        "    \n",
        "    \n",
        "     \n",
        "Las funciones internas vamos a tratarlas como “nuevas” palabras reservadas (o sea, no las usaremos de nombres de variable)\n"
      ],
      "metadata": {
        "id": "oroyLZPEnj3A"
      }
    },
    {
      "cell_type": "markdown",
      "source": [
        "Ejemplos de funciones que vienen incorporadas en Python son las de conversión entre distintos tipos (float(), int())."
      ],
      "metadata": {
        "id": "NqRJDPKQoDh8"
      }
    },
    {
      "cell_type": "code",
      "source": [
        "print(float(99) / 100)\n",
        "i = 42\n",
        "print(i)\n",
        "print(type(i))"
      ],
      "metadata": {
        "id": "OBVK8msrnjid",
        "outputId": "0230d632-a297-47b5-be92-662ffbf9b3d8",
        "colab": {
          "base_uri": "https://localhost:8080/"
        }
      },
      "execution_count": 38,
      "outputs": [
        {
          "output_type": "stream",
          "name": "stdout",
          "text": [
            "0.99\n",
            "42\n",
            "<class 'int'>\n"
          ]
        }
      ]
    },
    {
      "cell_type": "markdown",
      "source": [
        "## Funciones Vacías (non-fruitful)\n",
        "\n",
        "* Cuando una función no retorna un valor, le decimos una función “vacía”\n",
        "* Las funciones que retornan valores son fructíferas (fruitful)\n",
        "* Las funciones vacías son “no fructíferas”"
      ],
      "metadata": {
        "id": "fhSGpmwuoelk"
      }
    },
    {
      "cell_type": "markdown",
      "source": [
        "## Ejercicio"
      ],
      "metadata": {
        "id": "KaIaqy5Io9SB"
      }
    },
    {
      "cell_type": "markdown",
      "source": [
        "Cree una función llamada **pagocomputado** que reciba dos argumentos ( horas y tarifa).La función le debe solicitar al usuario ingresar horas y tarifa por hora para computar el pago.\n",
        "\n",
        "Ejemplo:\n",
        "\n",
        "Inserte Horas: 42.5\n",
        "Inserte Tarifa: 2000\n",
        "\n",
        "Pago: 85000"
      ],
      "metadata": {
        "id": "cHt9nX2mpCHi"
      }
    },
    {
      "cell_type": "code",
      "source": [
        "def pagoComputo (horas, tarifas):\n",
        "    Pago= horas*tarifas\n",
        "    return Pago"
      ],
      "metadata": {
        "id": "eBS5-nTjpZgN"
      },
      "execution_count": 39,
      "outputs": []
    },
    {
      "cell_type": "code",
      "source": [
        "pago=pagoComputo(42.5,2000)\n",
        "pago"
      ],
      "metadata": {
        "id": "snhVc5bHgDOn",
        "outputId": "fb8b2f06-1bd1-4e70-b17d-4001a5e5f3e6",
        "colab": {
          "base_uri": "https://localhost:8080/"
        }
      },
      "execution_count": 40,
      "outputs": [
        {
          "output_type": "execute_result",
          "data": {
            "text/plain": [
              "85000.0"
            ]
          },
          "metadata": {},
          "execution_count": 40
        }
      ]
    },
    {
      "cell_type": "markdown",
      "source": [
        "Cree una función que sume sus gastos de canasta familiar, gastos financieros, gastos de entretenimiento. Muestre el total de sus gastos y realice una relación frente a sus ingresos (participación)."
      ],
      "metadata": {
        "id": "1S7JNq-0qinh"
      }
    },
    {
      "cell_type": "code",
      "source": [
        "def calcular_gastos(horas,tarifas):\n",
        "  pago=pagoComputo(horas,tarifas)\n",
        "  gasto_canasta=float(input(\"Ingrese gasto canasta:\"))\n",
        "  gasto_financiero=float(input(\"Ingrese gasto financiero:\"))\n",
        "  gasto_entretenimiento=float(input(\"Ingrese gasto entretenimiento:\"))\n",
        "  gasto_total=gasto_canasta+gasto_financiero+gasto_entretenimiento\n",
        "  participacion=gasto_total/pago*100\n",
        "  return f\"el porcentaje de participación es :{participacion:.2f}\""
      ],
      "metadata": {
        "id": "EuUf22MXhOFa"
      },
      "execution_count": 41,
      "outputs": []
    },
    {
      "cell_type": "code",
      "source": [
        "salida_final=calcular_gastos(42.5,2000)"
      ],
      "metadata": {
        "id": "gOSX0sHhiTLx",
        "outputId": "54345190-6292-492d-d5f6-f7233bf8cd80",
        "colab": {
          "base_uri": "https://localhost:8080/"
        }
      },
      "execution_count": 42,
      "outputs": [
        {
          "name": "stdout",
          "output_type": "stream",
          "text": [
            "Ingrese gasto canasta:1\n",
            "Ingrese gasto financiero:2\n",
            "Ingrese gasto entretenimiento:3\n"
          ]
        }
      ]
    },
    {
      "cell_type": "code",
      "source": [
        "salida_final"
      ],
      "metadata": {
        "id": "TQ80ZY2wjVOb",
        "outputId": "28b7cfc8-49d4-4a54-c70f-4ac6086c275c",
        "colab": {
          "base_uri": "https://localhost:8080/",
          "height": 35
        }
      },
      "execution_count": 43,
      "outputs": [
        {
          "output_type": "execute_result",
          "data": {
            "text/plain": [
              "'el porcentaje de participación es :0.01'"
            ],
            "application/vnd.google.colaboratory.intrinsic+json": {
              "type": "string"
            }
          },
          "metadata": {},
          "execution_count": 43
        }
      ]
    },
    {
      "cell_type": "markdown",
      "source": [
        "## Recapitulando\n",
        "En este cuadernillo vimos:\n",
        "\n",
        "\n",
        "*   Definición de funciones\n",
        "*   Cómo invocamos funciones\n",
        "*   Empleamos parámetros\n",
        "*   Retornamos resultados\n",
        "*   Algunos errores comunes cuando empleamos funciones\n",
        "\n"
      ],
      "metadata": {
        "id": "Po6dNKTygVN4"
      }
    },
    {
      "cell_type": "markdown",
      "source": [
        "## **Puedes ver más**\n",
        "\n",
        "[Funciones](https://paiml.github.io/python_for_datascience/lessons/Lesson8_Python_For_Data_Science_Functions.html)\n"
      ],
      "metadata": {
        "id": "40DWh6087ovP"
      }
    }
  ]
}