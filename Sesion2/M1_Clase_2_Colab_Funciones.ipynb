{
  "nbformat": 4,
  "nbformat_minor": 0,
  "metadata": {
    "colab": {
      "provenance": [],
      "include_colab_link": true
    },
    "kernelspec": {
      "name": "python3",
      "display_name": "Python 3"
    },
    "language_info": {
      "name": "python"
    }
  },
  "cells": [
    {
      "cell_type": "markdown",
      "metadata": {
        "id": "view-in-github",
        "colab_type": "text"
      },
      "source": [
        "<a href=\"https://colab.research.google.com/github/jazaineam1/Andes_ADDBD/blob/main/Sesion2/M1_Clase_2_Colab_Funciones.ipynb\" target=\"_parent\"><img src=\"https://colab.research.google.com/assets/colab-badge.svg\" alt=\"Open In Colab\"/></a>"
      ]
    },
    {
      "cell_type": "markdown",
      "source": [
        "#***Análisis de Datos y Big data***\n",
        "\n",
        "## ***Universidad de los Andes***\n",
        ">## **Dirección de Educación Continua.**\n",
        ">>## **Formación de habilidades escenciales.**\n",
        "\n",
        "![Imágen1](https://github.com/jazaineam1/Andes_ADDBD/blob/main/Imagenes/Presentaci%C3%B3n-removebg-preview.png?raw=true)\n",
        "\n",
        "\n",
        "**Ver la presentación  [acá](https://github.com/jazaineam1/Andes_ADDBD/raw/main/Sesion2/M1%20-%20Clase%202%20-%20Funciones.pptx)**\n",
        "**Pensamiento algorítmico**"
      ],
      "metadata": {
        "id": "6rbRxEihXJqC"
      }
    },
    {
      "cell_type": "markdown",
      "source": [
        "## Funciones"
      ],
      "metadata": {
        "id": "G276XmfAbfbK"
      }
    },
    {
      "cell_type": "markdown",
      "source": [
        "### Definir e invocar funciones"
      ],
      "metadata": {
        "id": "B8hAJPjrezgj"
      }
    },
    {
      "cell_type": "markdown",
      "source": [
        "Para definir funciones empleamos la palabra clave **def**. Si definimos una función no se ejecuta inmediatamente, simplemente queda lista para ser invocada."
      ],
      "metadata": {
        "id": "H7Jh6uM9blQW"
      }
    },
    {
      "cell_type": "code",
      "source": [
        "def saludar():\n",
        "  print('¡Hola! Qué onda')"
      ],
      "metadata": {
        "id": "i5eV71pKFL7c"
      },
      "execution_count": null,
      "outputs": []
    },
    {
      "cell_type": "markdown",
      "source": [
        "Para invocar la función empleamos el nombre de la función. Si la función no lleva parámetros abrimos y cerramos paréntesis, para indicar que invocamos a una función, sin nada adentro."
      ],
      "metadata": {
        "id": "-XTq02VSSMez"
      }
    },
    {
      "cell_type": "code",
      "execution_count": null,
      "metadata": {
        "id": "vKlup6L6Wgcd"
      },
      "outputs": [],
      "source": [
        "saludar()"
      ]
    },
    {
      "cell_type": "markdown",
      "source": [
        "**Ejercicio** Modificar la función saludar( ) para que diga '¿Ya tomaste tu aguita?'. Para correrla de nuevo en la siguiente celda y que muestre el nuevo resultado, hay que definirla de nuevo (correr la celda de definición)."
      ],
      "metadata": {
        "id": "Ptf4nQZvb_VY"
      }
    },
    {
      "cell_type": "code",
      "source": [
        "saludar()"
      ],
      "metadata": {
        "id": "mJ4yTxvYT8r0"
      },
      "execution_count": null,
      "outputs": []
    },
    {
      "cell_type": "markdown",
      "source": [
        "No todas las funciones muestran cosas en la pantalla."
      ],
      "metadata": {
        "id": "1AYVm_wyUNs3"
      }
    },
    {
      "cell_type": "code",
      "source": [
        "def correrUnAlgoritmoSilencioso():\n",
        "  # Esta función suma números internamente y luego no hace nada con ellos\n",
        "  5+3-2"
      ],
      "metadata": {
        "id": "zN-24-usUVTC"
      },
      "execution_count": null,
      "outputs": []
    },
    {
      "cell_type": "code",
      "source": [
        "correrUnAlgoritmoSilencioso()"
      ],
      "metadata": {
        "id": "hgOwQ73JUcTw"
      },
      "execution_count": null,
      "outputs": []
    },
    {
      "cell_type": "markdown",
      "source": [
        "Hay dos formas en las que una función puede emplear información:"
      ],
      "metadata": {
        "id": "o-bVXn0lX0sA"
      }
    },
    {
      "cell_type": "markdown",
      "source": [
        "1. Podemos pedir parámetros y utilizarlos"
      ],
      "metadata": {
        "id": "rk29omMSX8kB"
      }
    },
    {
      "cell_type": "code",
      "source": [
        "def decirMiNombre(nombre):\n",
        "  print('Buenos días, mi nombre es '+nombre+'.')"
      ],
      "metadata": {
        "id": "LpOvuAuFYBJc"
      },
      "execution_count": null,
      "outputs": []
    },
    {
      "cell_type": "markdown",
      "source": [
        "**Ejercicio** Invocar la función decirMiNombre(). Hay que pasarle exactamente un parámetro. De lo contrario, Python nos devuelve un error."
      ],
      "metadata": {
        "id": "MBHeKkxJYLEo"
      }
    },
    {
      "cell_type": "code",
      "source": [
        "decirMiNombre()"
      ],
      "metadata": {
        "id": "F07SUUbXYJKW"
      },
      "execution_count": null,
      "outputs": []
    },
    {
      "cell_type": "markdown",
      "source": [
        "2. También podemos definir una estrucutra de información y consultarla desde la función:"
      ],
      "metadata": {
        "id": "9wYe0ZeeYjh-"
      }
    },
    {
      "cell_type": "code",
      "source": [
        "listaDeEdades = [23, 7, 64, 85, 74, 94, 68, 57, 96, 86]"
      ],
      "metadata": {
        "id": "oIqIYT7PYn9X"
      },
      "execution_count": null,
      "outputs": []
    },
    {
      "cell_type": "code",
      "source": [
        "def promedioDeLasEdades():\n",
        "  promedio = sum(listaDeEdades)/len(listaDeEdades)\n",
        "  print(promedio)"
      ],
      "metadata": {
        "id": "02X7lpPsYz-s"
      },
      "execution_count": null,
      "outputs": []
    },
    {
      "cell_type": "code",
      "source": [
        "promedioDeLasEdades()"
      ],
      "metadata": {
        "id": "GpSb33AdZTUt"
      },
      "execution_count": null,
      "outputs": []
    },
    {
      "cell_type": "markdown",
      "source": [
        "Es recomendable que la función solicite sus propios parámetros siempre, así:"
      ],
      "metadata": {
        "id": "vZdBnzt6a5pI"
      }
    },
    {
      "cell_type": "code",
      "source": [
        "def promedioDeLasEdades(lista):\n",
        "  promedio = sum(lista)/len(lista)\n",
        "  print(promedio)"
      ],
      "metadata": {
        "id": "26lDwhLLbAmn"
      },
      "execution_count": null,
      "outputs": []
    },
    {
      "cell_type": "code",
      "source": [
        "# En lugar de referenciar directamente una lista global, la pasamos como parámetro\n",
        "promedioDeLasEdades(listaDeEdades)"
      ],
      "metadata": {
        "id": "xeIPdqRibEl1"
      },
      "execution_count": null,
      "outputs": []
    },
    {
      "cell_type": "markdown",
      "source": [
        "**Ejercicio** Definir una función que muestre en pantalla la división entre números. Recibe como parámetros dos números, el nombre de la función es dividirNumeros; no retorna nada."
      ],
      "metadata": {
        "id": "K1TvbKbObNbO"
      }
    },
    {
      "cell_type": "code",
      "source": [
        "# Definimos la función\n"
      ],
      "metadata": {
        "id": "Ts9MYfz4bgVn"
      },
      "execution_count": null,
      "outputs": []
    },
    {
      "cell_type": "markdown",
      "source": [
        "Cuando invocamos la función, y le pasamos los parámetros incorrectos, Python nos retorna un error. **¿Cuántos parámetros le pasamos a esta función en la celda siguiente?**"
      ],
      "metadata": {
        "id": "ujEbrMecbisx"
      }
    },
    {
      "cell_type": "code",
      "source": [
        "dividirNumeros([4,2])"
      ],
      "metadata": {
        "id": "uyAnWBWobjzW"
      },
      "execution_count": null,
      "outputs": []
    },
    {
      "cell_type": "code",
      "source": [
        "# Esta es la forma correcta de usarla:\n",
        "dividirNumeros(4,2)"
      ],
      "metadata": {
        "id": "vTnXRgkae9Jn"
      },
      "execution_count": null,
      "outputs": []
    },
    {
      "cell_type": "markdown",
      "source": [
        "Podemos diseñar funciones que nos devuelven valores para poder usarlos después. Para esto, usamos la palabra **return**"
      ],
      "metadata": {
        "id": "mBnXRyLyfSG9"
      }
    },
    {
      "cell_type": "code",
      "source": [
        "def dameUnNumeroEntre10y20():\n",
        "  return 14"
      ],
      "metadata": {
        "id": "TdVOEKLofRZL"
      },
      "execution_count": null,
      "outputs": []
    },
    {
      "cell_type": "markdown",
      "source": [
        "Cuando la vamos a invocar podemos usar el resultado como queramos:"
      ],
      "metadata": {
        "id": "tftEKMJRgJGP"
      }
    },
    {
      "cell_type": "code",
      "source": [
        "# En google Colab, si retornamos lo muestra en pantalla\n",
        "dameUnNumeroEntre10y20()"
      ],
      "metadata": {
        "id": "u_YfyKmsgIZY"
      },
      "execution_count": null,
      "outputs": []
    },
    {
      "cell_type": "code",
      "source": [
        "# También podemos pedirle que lo muestre explícitamente:\n",
        "print(dameUnNumeroEntre10y20())"
      ],
      "metadata": {
        "id": "bxunCmwagUI2"
      },
      "execution_count": null,
      "outputs": []
    },
    {
      "cell_type": "code",
      "source": [
        "# Podemos operarlo con otros valores, etc.\n",
        "10 + dameUnNumeroEntre10y20()"
      ],
      "metadata": {
        "id": "fcNnYRhqgYbN"
      },
      "execution_count": null,
      "outputs": []
    },
    {
      "cell_type": "markdown",
      "source": [
        "Si tenemos una función que no retorna nada, no podemos usar el resultado del proceso:"
      ],
      "metadata": {
        "id": "W-EWNm7rhKu0"
      }
    },
    {
      "cell_type": "code",
      "source": [
        "def retornarMensaje(nombre, correo):\n",
        "  mensaje = '¡Buen día! Una bienvenida a esta gran empresa '+nombre+'. Te enviaremos un mensaje de confirmación al correo '+correo+' para que termines tu registro.'"
      ],
      "metadata": {
        "id": "b-ThkV_Igv6f"
      },
      "execution_count": null,
      "outputs": []
    },
    {
      "cell_type": "code",
      "source": [
        "retornarMensaje('Juan', 'al@gmail.com')"
      ],
      "metadata": {
        "id": "fdg3obuahDOG"
      },
      "execution_count": null,
      "outputs": []
    },
    {
      "cell_type": "markdown",
      "source": [
        "**Ejercicio** Modificar la función retornarMensaje para que retorne el mensaje de whatsapp. Volver a invocar en la celda siguiente:"
      ],
      "metadata": {
        "id": "coY9YK3Ygih4"
      }
    },
    {
      "cell_type": "code",
      "source": [
        "# Invocar de nuevo la función retornarMensaje() después de modificarla, pasarle como parámetros su nombre y su correo:\n"
      ],
      "metadata": {
        "id": "wnUZSNnVhV8k"
      },
      "execution_count": null,
      "outputs": []
    },
    {
      "cell_type": "markdown",
      "source": [
        "## Las funciones en Python son de dos tipos\n",
        "\n",
        "-  Funciones internas **(Built-in)** que se vienen como parte de Python: `print()`, `input()`, `type()`, `float()`, `int()`...   \n",
        "\n",
        "  \n",
        "-  Funciones que definimos nosotros y luego usamos\n",
        "  \n",
        "    \n",
        "    \n",
        "     \n",
        "Las funciones internas vamos a tratarlas como “nuevas” palabras reservadas (o sea, no las usaremos de nombres de variable)\n"
      ],
      "metadata": {
        "id": "oroyLZPEnj3A"
      }
    },
    {
      "cell_type": "markdown",
      "source": [
        "Ejemplos de funciones que vienen incorporadas en Python son las de conversión entre distintos tipos (float(), int())."
      ],
      "metadata": {
        "id": "NqRJDPKQoDh8"
      }
    },
    {
      "cell_type": "code",
      "source": [
        "print(float(99) / 100)\n",
        "i = 42\n",
        "print(i)\n",
        "print(type(i))"
      ],
      "metadata": {
        "id": "OBVK8msrnjid"
      },
      "execution_count": null,
      "outputs": []
    },
    {
      "cell_type": "markdown",
      "source": [
        "## Funciones Vacías (non-fruitful)\n",
        "\n",
        "* Cuando una función no retorna un valor, le decimos una función “vacía”\n",
        "* Las funciones que retornan valores son fructíferas (fruitful)\n",
        "* Las funciones vacías son “no fructíferas”"
      ],
      "metadata": {
        "id": "fhSGpmwuoelk"
      }
    },
    {
      "cell_type": "markdown",
      "source": [
        "## Ejercicio"
      ],
      "metadata": {
        "id": "KaIaqy5Io9SB"
      }
    },
    {
      "cell_type": "markdown",
      "source": [
        "Cree una función llamada **pagocomputado** que reciba dos argumentos ( horas y tarifa).La función le debe solicitar al usuario ingresar horas y tarifa por hora para computar el pago.\n",
        "\n",
        "Ejemplo:\n",
        "\n",
        "Inserte Horas: 42.5\n",
        "Inserte Tarifa: 2000\n",
        "\n",
        "Pago: 85000"
      ],
      "metadata": {
        "id": "cHt9nX2mpCHi"
      }
    },
    {
      "cell_type": "code",
      "source": [],
      "metadata": {
        "id": "eBS5-nTjpZgN"
      },
      "execution_count": null,
      "outputs": []
    },
    {
      "cell_type": "markdown",
      "source": [
        "Cree una función que sume sus gastos de canasta familiar, gastos financieros, gastos de entretenimiento. Muestre el total de sus gastos y realice una relación frente a sus ingresos (participación)."
      ],
      "metadata": {
        "id": "1S7JNq-0qinh"
      }
    },
    {
      "cell_type": "markdown",
      "source": [
        "## Recapitulando\n",
        "En este cuadernillo vimos:\n",
        "\n",
        "\n",
        "*   Definición de funciones\n",
        "*   Cómo invocamos funciones\n",
        "*   Empleamos parámetros\n",
        "*   Retornamos resultados\n",
        "*   Algunos errores comunes cuando empleamos funciones\n",
        "\n"
      ],
      "metadata": {
        "id": "Po6dNKTygVN4"
      }
    },
    {
      "cell_type": "markdown",
      "source": [
        "## **Puedes ver más**\n",
        "\n",
        "[Funciones](https://paiml.github.io/python_for_datascience/lessons/Lesson8_Python_For_Data_Science_Functions.html)\n"
      ],
      "metadata": {
        "id": "40DWh6087ovP"
      }
    }
  ]
}