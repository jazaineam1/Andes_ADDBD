{
 "cells": [
  {
   "cell_type": "markdown",
   "metadata": {
    "id": "MKzpDUN9fyRG"
   },
   "source": [
    "## Universidad de los Andes\n",
    "### Habilidades Intermedias para Analistas de Datos\n",
    "### Módulo 2 - Herramientas de Programación para el Análisis de Datos\n",
    "### Práctica de Visualización"
   ]
  },
  {
   "cell_type": "markdown",
   "metadata": {
    "id": "PEAAVS8JZdiZ"
   },
   "source": [
    "**¿Recuerdan el análisis de delitos que estabamos haciendo? Ahora, lo vamos a complementar con visualizaciones.**"
   ]
  },
  {
   "cell_type": "markdown",
   "metadata": {
    "id": "-w5zJIShfyRI"
   },
   "source": [
    "Colombia es uno de los países con mayores índices de delitos; los índices de hurtos y homicidios han credido en los últimos años signficativamente y, a su vez, la tendencia del incremento de delitos a menores. Usted como analista de datos recibe información recolectada por el DANE y el Ministerio de Defensa entre el periodo de 2010 a 2016 con el fin de estudiar y analizar cuáles son las características que tienen las mayores víctimas de delitos, las armas empleadas y los municipios afectados."
   ]
  },
  {
   "cell_type": "markdown",
   "metadata": {
    "id": "pmy3PEaNfyRI"
   },
   "source": [
    "Para lo anterior, le han proporcionado tres bases.\n",
    "- 1. Base de delitos de Colombia desde 2010 hasta 2013 (Formato csv)\n",
    "- 2. Base de delitos de Colombia desde 2014 hasta 2016 (Formato csv)\n",
    "- 3. Base de departamentos y municipios de Colombia (Hoja: MUNICIPIOS, Formato Excel)\n",
    "\n",
    "**NO OLVIDE : ANALIZAR LOS RESULTADOS**"
   ]
  },
  {
   "cell_type": "markdown",
   "metadata": {
    "id": "jZVYsKqHfyRJ"
   },
   "source": [
    "**1. Cargue de librerias**"
   ]
  },
  {
   "cell_type": "code",
   "execution_count": 1,
   "metadata": {
    "id": "pP7zXh8dfyRJ"
   },
   "outputs": [],
   "source": [
    "import pandas as pd"
   ]
  },
  {
   "cell_type": "markdown",
   "metadata": {
    "id": "asvI77cbfyRK"
   },
   "source": [
    "**2. Cargue de las bases de delitos**"
   ]
  },
  {
   "cell_type": "markdown",
   "metadata": {
    "id": "3Sksw_DSfyRK"
   },
   "source": [
    "Visualice las bases de datos. ¿Cuántas y qué variables tienen? ¿Cuántos registros tienen?\n",
    "\n",
    "Dado que, una contiene los datos de delitos de 2010 a 2013 y la otra de 2014 a 2016, valide que contengan las mismas columnas/variables. Si es así, es eficiente unirlas de forma vertical para realizar el análisis integral."
   ]
  },
  {
   "cell_type": "code",
   "execution_count": 2,
   "metadata": {
    "colab": {
     "base_uri": "https://localhost:8080/"
    },
    "id": "dvuPveKIfyRK",
    "outputId": "88c34455-a4dd-4ff1-8347-3f8f3c694a34"
   },
   "outputs": [
    {
     "name": "stdout",
     "output_type": "stream",
     "text": [
      "<class 'pandas.core.frame.DataFrame'>\n",
      "RangeIndex: 319949 entries, 0 to 319948\n",
      "Data columns (total 19 columns):\n",
      " #   Column          Non-Null Count   Dtype  \n",
      "---  ------          --------------   -----  \n",
      " 0   TEMÁTICA        319949 non-null  object \n",
      " 1   FECHA           319949 non-null  object \n",
      " 2   DIA             319949 non-null  object \n",
      " 3   HORA            319949 non-null  object \n",
      " 4   BARRIO          304383 non-null  object \n",
      " 5   ZONA            319949 non-null  object \n",
      " 6   CLASE SITIO     319949 non-null  object \n",
      " 7   ARMA EMPLEADA   319949 non-null  object \n",
      " 8   MOVIL AGRESOR   319949 non-null  object \n",
      " 9   MOVIL VICTIMA   319949 non-null  object \n",
      " 10  EDAD            319949 non-null  object \n",
      " 11  SEXO            319949 non-null  object \n",
      " 12  ESTADO CIVIL    319949 non-null  object \n",
      " 13  PAIS NACE       319949 non-null  object \n",
      " 14  CLASE EMPLEADO  319949 non-null  object \n",
      " 15  PROFESION       315042 non-null  object \n",
      " 16  ESCOLARIDAD     319949 non-null  object \n",
      " 17  CODIGO DANE     319949 non-null  int64  \n",
      " 18  AÑO             319949 non-null  float64\n",
      "dtypes: float64(1), int64(1), object(17)\n",
      "memory usage: 46.4+ MB\n"
     ]
    }
   ],
   "source": [
    "df1_2013 = pd.read_csv(r'Delitos 2010-2013.csv')\n",
    "df1_2013.info()\n"
   ]
  },
  {
   "cell_type": "code",
   "execution_count": 3,
   "metadata": {
    "id": "BP846gsCfyRK"
   },
   "outputs": [],
   "source": [
    "df1_2016 = pd.read_csv(r'Delitos 2014-2016.csv')"
   ]
  },
  {
   "cell_type": "code",
   "execution_count": 4,
   "metadata": {
    "colab": {
     "base_uri": "https://localhost:8080/"
    },
    "id": "Gu0sBy3_fyRK",
    "outputId": "a0f6ed3a-af07-438a-fd56-1f399d50b7bf"
   },
   "outputs": [
    {
     "data": {
      "text/plain": [
       "Index(['TEMÁTICA', 'FECHA', 'DIA ', 'HORA', 'BARRIO', 'ZONA', 'CLASE SITIO',\n",
       "       'ARMA EMPLEADA', 'MOVIL AGRESOR', 'MOVIL VICTIMA', 'EDAD', 'SEXO',\n",
       "       'ESTADO CIVIL', 'PAIS NACE', 'CLASE EMPLEADO', 'PROFESION',\n",
       "       'ESCOLARIDAD', 'CODIGO DANE', 'AÑO'],\n",
       "      dtype='object')"
      ]
     },
     "execution_count": 4,
     "metadata": {},
     "output_type": "execute_result"
    }
   ],
   "source": [
    "df1_2013.columns"
   ]
  },
  {
   "cell_type": "code",
   "execution_count": 5,
   "metadata": {
    "colab": {
     "base_uri": "https://localhost:8080/"
    },
    "id": "jBA7wqrxfyRL",
    "outputId": "0056f05a-3bfa-4182-8b99-004e16aec748"
   },
   "outputs": [
    {
     "data": {
      "text/plain": [
       "Index(['TEMÁTICA', 'FECHA', 'DIA ', 'HORA', 'BARRIO', 'ZONA', 'CLASE SITIO',\n",
       "       'ARMA EMPLEADA', 'MOVIL AGRESOR', 'MOVIL VICTIMA', 'EDAD', 'SEXO',\n",
       "       'ESTADO CIVIL', 'PAIS NACE', 'CLASE EMPLEADO', 'PROFESION',\n",
       "       'ESCOLARIDAD', 'CODIGO DANE', 'AÑO'],\n",
       "      dtype='object')"
      ]
     },
     "execution_count": 5,
     "metadata": {},
     "output_type": "execute_result"
    }
   ],
   "source": [
    "df1_2016.columns"
   ]
  },
  {
   "cell_type": "code",
   "execution_count": 6,
   "metadata": {
    "colab": {
     "base_uri": "https://localhost:8080/",
     "height": 326
    },
    "id": "2KEy1ADBfyRL",
    "outputId": "34f861ae-e798-4a76-abaf-c3c535419eb2"
   },
   "outputs": [
    {
     "data": {
      "text/html": [
       "\n",
       "  <div id=\"df-1a2b05a1-2dac-4eb0-9884-d5dd8453f826\">\n",
       "    <div class=\"colab-df-container\">\n",
       "      <div>\n",
       "<style scoped>\n",
       "    .dataframe tbody tr th:only-of-type {\n",
       "        vertical-align: middle;\n",
       "    }\n",
       "\n",
       "    .dataframe tbody tr th {\n",
       "        vertical-align: top;\n",
       "    }\n",
       "\n",
       "    .dataframe thead th {\n",
       "        text-align: right;\n",
       "    }\n",
       "</style>\n",
       "<table border=\"1\" class=\"dataframe\">\n",
       "  <thead>\n",
       "    <tr style=\"text-align: right;\">\n",
       "      <th></th>\n",
       "      <th>TEMÁTICA</th>\n",
       "      <th>FECHA</th>\n",
       "      <th>DIA</th>\n",
       "      <th>HORA</th>\n",
       "      <th>BARRIO</th>\n",
       "      <th>ZONA</th>\n",
       "      <th>CLASE SITIO</th>\n",
       "      <th>ARMA EMPLEADA</th>\n",
       "      <th>MOVIL AGRESOR</th>\n",
       "      <th>MOVIL VICTIMA</th>\n",
       "      <th>EDAD</th>\n",
       "      <th>SEXO</th>\n",
       "      <th>ESTADO CIVIL</th>\n",
       "      <th>PAIS NACE</th>\n",
       "      <th>CLASE EMPLEADO</th>\n",
       "      <th>PROFESION</th>\n",
       "      <th>ESCOLARIDAD</th>\n",
       "      <th>CODIGO DANE</th>\n",
       "      <th>AÑO</th>\n",
       "    </tr>\n",
       "  </thead>\n",
       "  <tbody>\n",
       "    <tr>\n",
       "      <th>0</th>\n",
       "      <td>AMENAZA</td>\n",
       "      <td>2013-01-01</td>\n",
       "      <td>Martes</td>\n",
       "      <td>9:00</td>\n",
       "      <td>NaN</td>\n",
       "      <td>URBANA</td>\n",
       "      <td>CASAS DE HABITACION</td>\n",
       "      <td>ARMA DE FUEGO</td>\n",
       "      <td>NO REPORTADO</td>\n",
       "      <td>NO REPORTADO</td>\n",
       "      <td>58</td>\n",
       "      <td>MASCULINO</td>\n",
       "      <td>SOLTERO</td>\n",
       "      <td>COLOMBIA</td>\n",
       "      <td>EMPLEADO PARTICULAR</td>\n",
       "      <td>NO REPORTADO</td>\n",
       "      <td>SUPERIOR</td>\n",
       "      <td>91001000</td>\n",
       "      <td>2013.0</td>\n",
       "    </tr>\n",
       "    <tr>\n",
       "      <th>1</th>\n",
       "      <td>AMENAZA</td>\n",
       "      <td>2013-01-01</td>\n",
       "      <td>Martes</td>\n",
       "      <td>10:00</td>\n",
       "      <td>NaN</td>\n",
       "      <td>RURAL</td>\n",
       "      <td>RESGUARDO INDÍGENA</td>\n",
       "      <td>CONTUNDENTES</td>\n",
       "      <td>A PIE</td>\n",
       "      <td>A PIE</td>\n",
       "      <td>35</td>\n",
       "      <td>MASCULINO</td>\n",
       "      <td>SOLTERO</td>\n",
       "      <td>COLOMBIA</td>\n",
       "      <td>EMPLEADO PARTICULAR</td>\n",
       "      <td>NO REPORTADO</td>\n",
       "      <td>SECUNDARIA</td>\n",
       "      <td>91001000</td>\n",
       "      <td>2013.0</td>\n",
       "    </tr>\n",
       "    <tr>\n",
       "      <th>2</th>\n",
       "      <td>AMENAZA</td>\n",
       "      <td>2013-01-01</td>\n",
       "      <td>Martes</td>\n",
       "      <td>19:00</td>\n",
       "      <td>NaN</td>\n",
       "      <td>RURAL</td>\n",
       "      <td>CASAS DE HABITACION</td>\n",
       "      <td>CONTUNDENTES</td>\n",
       "      <td>A PIE</td>\n",
       "      <td>A PIE</td>\n",
       "      <td>42</td>\n",
       "      <td>MASCULINO</td>\n",
       "      <td>UNION LIBRE</td>\n",
       "      <td>COLOMBIA</td>\n",
       "      <td>EMPLEADO SALUD</td>\n",
       "      <td>NO REPORTADO</td>\n",
       "      <td>SECUNDARIA</td>\n",
       "      <td>91001000</td>\n",
       "      <td>2013.0</td>\n",
       "    </tr>\n",
       "    <tr>\n",
       "      <th>3</th>\n",
       "      <td>AMENAZA</td>\n",
       "      <td>2013-01-01</td>\n",
       "      <td>Martes</td>\n",
       "      <td>19:00</td>\n",
       "      <td>NaN</td>\n",
       "      <td>RURAL</td>\n",
       "      <td>NO DEFINIDO</td>\n",
       "      <td>CONTUNDENTES</td>\n",
       "      <td>A PIE</td>\n",
       "      <td>A PIE</td>\n",
       "      <td>26</td>\n",
       "      <td>MASCULINO</td>\n",
       "      <td>UNION LIBRE</td>\n",
       "      <td>COLOMBIA</td>\n",
       "      <td>AGRICULTOR</td>\n",
       "      <td>NO REPORTADO</td>\n",
       "      <td>SECUNDARIA</td>\n",
       "      <td>91001000</td>\n",
       "      <td>2013.0</td>\n",
       "    </tr>\n",
       "  </tbody>\n",
       "</table>\n",
       "</div>\n",
       "      <button class=\"colab-df-convert\" onclick=\"convertToInteractive('df-1a2b05a1-2dac-4eb0-9884-d5dd8453f826')\"\n",
       "              title=\"Convert this dataframe to an interactive table.\"\n",
       "              style=\"display:none;\">\n",
       "        \n",
       "  <svg xmlns=\"http://www.w3.org/2000/svg\" height=\"24px\"viewBox=\"0 0 24 24\"\n",
       "       width=\"24px\">\n",
       "    <path d=\"M0 0h24v24H0V0z\" fill=\"none\"/>\n",
       "    <path d=\"M18.56 5.44l.94 2.06.94-2.06 2.06-.94-2.06-.94-.94-2.06-.94 2.06-2.06.94zm-11 1L8.5 8.5l.94-2.06 2.06-.94-2.06-.94L8.5 2.5l-.94 2.06-2.06.94zm10 10l.94 2.06.94-2.06 2.06-.94-2.06-.94-.94-2.06-.94 2.06-2.06.94z\"/><path d=\"M17.41 7.96l-1.37-1.37c-.4-.4-.92-.59-1.43-.59-.52 0-1.04.2-1.43.59L10.3 9.45l-7.72 7.72c-.78.78-.78 2.05 0 2.83L4 21.41c.39.39.9.59 1.41.59.51 0 1.02-.2 1.41-.59l7.78-7.78 2.81-2.81c.8-.78.8-2.07 0-2.86zM5.41 20L4 18.59l7.72-7.72 1.47 1.35L5.41 20z\"/>\n",
       "  </svg>\n",
       "      </button>\n",
       "      \n",
       "  <style>\n",
       "    .colab-df-container {\n",
       "      display:flex;\n",
       "      flex-wrap:wrap;\n",
       "      gap: 12px;\n",
       "    }\n",
       "\n",
       "    .colab-df-convert {\n",
       "      background-color: #E8F0FE;\n",
       "      border: none;\n",
       "      border-radius: 50%;\n",
       "      cursor: pointer;\n",
       "      display: none;\n",
       "      fill: #1967D2;\n",
       "      height: 32px;\n",
       "      padding: 0 0 0 0;\n",
       "      width: 32px;\n",
       "    }\n",
       "\n",
       "    .colab-df-convert:hover {\n",
       "      background-color: #E2EBFA;\n",
       "      box-shadow: 0px 1px 2px rgba(60, 64, 67, 0.3), 0px 1px 3px 1px rgba(60, 64, 67, 0.15);\n",
       "      fill: #174EA6;\n",
       "    }\n",
       "\n",
       "    [theme=dark] .colab-df-convert {\n",
       "      background-color: #3B4455;\n",
       "      fill: #D2E3FC;\n",
       "    }\n",
       "\n",
       "    [theme=dark] .colab-df-convert:hover {\n",
       "      background-color: #434B5C;\n",
       "      box-shadow: 0px 1px 3px 1px rgba(0, 0, 0, 0.15);\n",
       "      filter: drop-shadow(0px 1px 2px rgba(0, 0, 0, 0.3));\n",
       "      fill: #FFFFFF;\n",
       "    }\n",
       "  </style>\n",
       "\n",
       "      <script>\n",
       "        const buttonEl =\n",
       "          document.querySelector('#df-1a2b05a1-2dac-4eb0-9884-d5dd8453f826 button.colab-df-convert');\n",
       "        buttonEl.style.display =\n",
       "          google.colab.kernel.accessAllowed ? 'block' : 'none';\n",
       "\n",
       "        async function convertToInteractive(key) {\n",
       "          const element = document.querySelector('#df-1a2b05a1-2dac-4eb0-9884-d5dd8453f826');\n",
       "          const dataTable =\n",
       "            await google.colab.kernel.invokeFunction('convertToInteractive',\n",
       "                                                     [key], {});\n",
       "          if (!dataTable) return;\n",
       "\n",
       "          const docLinkHtml = 'Like what you see? Visit the ' +\n",
       "            '<a target=\"_blank\" href=https://colab.research.google.com/notebooks/data_table.ipynb>data table notebook</a>'\n",
       "            + ' to learn more about interactive tables.';\n",
       "          element.innerHTML = '';\n",
       "          dataTable['output_type'] = 'display_data';\n",
       "          await google.colab.output.renderOutput(dataTable, element);\n",
       "          const docLink = document.createElement('div');\n",
       "          docLink.innerHTML = docLinkHtml;\n",
       "          element.appendChild(docLink);\n",
       "        }\n",
       "      </script>\n",
       "    </div>\n",
       "  </div>\n",
       "  "
      ],
      "text/plain": [
       "  TEMÁTICA       FECHA    DIA    HORA BARRIO    ZONA          CLASE SITIO  \\\n",
       "0  AMENAZA  2013-01-01  Martes   9:00    NaN  URBANA  CASAS DE HABITACION   \n",
       "1  AMENAZA  2013-01-01  Martes  10:00    NaN   RURAL   RESGUARDO INDÍGENA   \n",
       "2  AMENAZA  2013-01-01  Martes  19:00    NaN   RURAL  CASAS DE HABITACION   \n",
       "3  AMENAZA  2013-01-01  Martes  19:00    NaN   RURAL          NO DEFINIDO   \n",
       "\n",
       "   ARMA EMPLEADA MOVIL AGRESOR MOVIL VICTIMA EDAD       SEXO ESTADO CIVIL  \\\n",
       "0  ARMA DE FUEGO  NO REPORTADO  NO REPORTADO   58  MASCULINO      SOLTERO   \n",
       "1   CONTUNDENTES         A PIE         A PIE   35  MASCULINO      SOLTERO   \n",
       "2   CONTUNDENTES         A PIE         A PIE   42  MASCULINO  UNION LIBRE   \n",
       "3   CONTUNDENTES         A PIE         A PIE   26  MASCULINO  UNION LIBRE   \n",
       "\n",
       "  PAIS NACE       CLASE EMPLEADO     PROFESION ESCOLARIDAD  CODIGO DANE  \\\n",
       "0  COLOMBIA  EMPLEADO PARTICULAR  NO REPORTADO    SUPERIOR     91001000   \n",
       "1  COLOMBIA  EMPLEADO PARTICULAR  NO REPORTADO  SECUNDARIA     91001000   \n",
       "2  COLOMBIA       EMPLEADO SALUD  NO REPORTADO  SECUNDARIA     91001000   \n",
       "3  COLOMBIA           AGRICULTOR  NO REPORTADO  SECUNDARIA     91001000   \n",
       "\n",
       "      AÑO  \n",
       "0  2013.0  \n",
       "1  2013.0  \n",
       "2  2013.0  \n",
       "3  2013.0  "
      ]
     },
     "execution_count": 6,
     "metadata": {},
     "output_type": "execute_result"
    }
   ],
   "source": [
    "df1_2013.head(4)"
   ]
  },
  {
   "cell_type": "code",
   "execution_count": 7,
   "metadata": {
    "colab": {
     "base_uri": "https://localhost:8080/",
     "height": 464
    },
    "id": "WU67u5UsfyRM",
    "outputId": "6608243f-145e-42df-ab29-02cb0c4fa682",
    "scrolled": true
   },
   "outputs": [
    {
     "data": {
      "text/html": [
       "\n",
       "  <div id=\"df-fe77036c-b29a-4f43-bc57-c5f133143582\">\n",
       "    <div class=\"colab-df-container\">\n",
       "      <div>\n",
       "<style scoped>\n",
       "    .dataframe tbody tr th:only-of-type {\n",
       "        vertical-align: middle;\n",
       "    }\n",
       "\n",
       "    .dataframe tbody tr th {\n",
       "        vertical-align: top;\n",
       "    }\n",
       "\n",
       "    .dataframe thead th {\n",
       "        text-align: right;\n",
       "    }\n",
       "</style>\n",
       "<table border=\"1\" class=\"dataframe\">\n",
       "  <thead>\n",
       "    <tr style=\"text-align: right;\">\n",
       "      <th></th>\n",
       "      <th>TEMÁTICA</th>\n",
       "      <th>FECHA</th>\n",
       "      <th>DIA</th>\n",
       "      <th>HORA</th>\n",
       "      <th>BARRIO</th>\n",
       "      <th>ZONA</th>\n",
       "      <th>CLASE SITIO</th>\n",
       "      <th>ARMA EMPLEADA</th>\n",
       "      <th>MOVIL AGRESOR</th>\n",
       "      <th>MOVIL VICTIMA</th>\n",
       "      <th>EDAD</th>\n",
       "      <th>SEXO</th>\n",
       "      <th>ESTADO CIVIL</th>\n",
       "      <th>PAIS NACE</th>\n",
       "      <th>CLASE EMPLEADO</th>\n",
       "      <th>PROFESION</th>\n",
       "      <th>ESCOLARIDAD</th>\n",
       "      <th>CODIGO DANE</th>\n",
       "      <th>AÑO</th>\n",
       "    </tr>\n",
       "  </thead>\n",
       "  <tbody>\n",
       "    <tr>\n",
       "      <th>0</th>\n",
       "      <td>ABIGEATO</td>\n",
       "      <td>2014-01-01</td>\n",
       "      <td>Miércoles</td>\n",
       "      <td>4:00</td>\n",
       "      <td>VEREDA ANA MARIA</td>\n",
       "      <td>RURAL</td>\n",
       "      <td>FINCAS Y SIMILARES</td>\n",
       "      <td>SIN EMPLEO DE ARMAS</td>\n",
       "      <td>A PIE</td>\n",
       "      <td>A PIE</td>\n",
       "      <td>27</td>\n",
       "      <td>FEMENINO</td>\n",
       "      <td>SOLTERO</td>\n",
       "      <td>COLOMBIA</td>\n",
       "      <td>INDEPENDIENTE</td>\n",
       "      <td>NO REPORTADO</td>\n",
       "      <td>SUPERIOR</td>\n",
       "      <td>47058000</td>\n",
       "      <td>2014.0</td>\n",
       "    </tr>\n",
       "    <tr>\n",
       "      <th>1</th>\n",
       "      <td>ABIGEATO</td>\n",
       "      <td>2014-01-01</td>\n",
       "      <td>Miércoles</td>\n",
       "      <td>18:00</td>\n",
       "      <td>VEREDA LAS ROSAS</td>\n",
       "      <td>RURAL</td>\n",
       "      <td>FINCAS Y SIMILARES</td>\n",
       "      <td>SIN EMPLEO DE ARMAS</td>\n",
       "      <td>A PIE</td>\n",
       "      <td>A PIE</td>\n",
       "      <td>46</td>\n",
       "      <td>MASCULINO</td>\n",
       "      <td>CASADO</td>\n",
       "      <td>COLOMBIA</td>\n",
       "      <td>AGRICULTOR</td>\n",
       "      <td>NO REPORTADO</td>\n",
       "      <td>SECUNDARIA</td>\n",
       "      <td>50330000</td>\n",
       "      <td>2014.0</td>\n",
       "    </tr>\n",
       "    <tr>\n",
       "      <th>2</th>\n",
       "      <td>ABIGEATO</td>\n",
       "      <td>2014-01-01</td>\n",
       "      <td>Miércoles</td>\n",
       "      <td>6:00</td>\n",
       "      <td>VEREDA SAN LUIS DE RIO NEGRO</td>\n",
       "      <td>RURAL</td>\n",
       "      <td>FINCAS Y SIMILARES</td>\n",
       "      <td>SIN EMPLEO DE ARMAS</td>\n",
       "      <td>A PIE</td>\n",
       "      <td>A PIE</td>\n",
       "      <td>62</td>\n",
       "      <td>MASCULINO</td>\n",
       "      <td>CASADO</td>\n",
       "      <td>NO REPORTADO</td>\n",
       "      <td>AGRICULTOR</td>\n",
       "      <td>NO REPORTADO</td>\n",
       "      <td>PRIMARIA</td>\n",
       "      <td>50573000</td>\n",
       "      <td>2014.0</td>\n",
       "    </tr>\n",
       "    <tr>\n",
       "      <th>3</th>\n",
       "      <td>ABIGEATO</td>\n",
       "      <td>2014-02-01</td>\n",
       "      <td>Jueves</td>\n",
       "      <td>1:00</td>\n",
       "      <td>QUEBRADA ARRIBA</td>\n",
       "      <td>RURAL</td>\n",
       "      <td>FINCAS Y SIMILARES</td>\n",
       "      <td>SIN EMPLEO DE ARMAS</td>\n",
       "      <td>A PIE</td>\n",
       "      <td>NO REPORTADO</td>\n",
       "      <td>25</td>\n",
       "      <td>MASCULINO</td>\n",
       "      <td>CASADO</td>\n",
       "      <td>COLOMBIA</td>\n",
       "      <td>AGRICULTOR</td>\n",
       "      <td>NO REPORTADO</td>\n",
       "      <td>PRIMARIA</td>\n",
       "      <td>5034000</td>\n",
       "      <td>2014.0</td>\n",
       "    </tr>\n",
       "  </tbody>\n",
       "</table>\n",
       "</div>\n",
       "      <button class=\"colab-df-convert\" onclick=\"convertToInteractive('df-fe77036c-b29a-4f43-bc57-c5f133143582')\"\n",
       "              title=\"Convert this dataframe to an interactive table.\"\n",
       "              style=\"display:none;\">\n",
       "        \n",
       "  <svg xmlns=\"http://www.w3.org/2000/svg\" height=\"24px\"viewBox=\"0 0 24 24\"\n",
       "       width=\"24px\">\n",
       "    <path d=\"M0 0h24v24H0V0z\" fill=\"none\"/>\n",
       "    <path d=\"M18.56 5.44l.94 2.06.94-2.06 2.06-.94-2.06-.94-.94-2.06-.94 2.06-2.06.94zm-11 1L8.5 8.5l.94-2.06 2.06-.94-2.06-.94L8.5 2.5l-.94 2.06-2.06.94zm10 10l.94 2.06.94-2.06 2.06-.94-2.06-.94-.94-2.06-.94 2.06-2.06.94z\"/><path d=\"M17.41 7.96l-1.37-1.37c-.4-.4-.92-.59-1.43-.59-.52 0-1.04.2-1.43.59L10.3 9.45l-7.72 7.72c-.78.78-.78 2.05 0 2.83L4 21.41c.39.39.9.59 1.41.59.51 0 1.02-.2 1.41-.59l7.78-7.78 2.81-2.81c.8-.78.8-2.07 0-2.86zM5.41 20L4 18.59l7.72-7.72 1.47 1.35L5.41 20z\"/>\n",
       "  </svg>\n",
       "      </button>\n",
       "      \n",
       "  <style>\n",
       "    .colab-df-container {\n",
       "      display:flex;\n",
       "      flex-wrap:wrap;\n",
       "      gap: 12px;\n",
       "    }\n",
       "\n",
       "    .colab-df-convert {\n",
       "      background-color: #E8F0FE;\n",
       "      border: none;\n",
       "      border-radius: 50%;\n",
       "      cursor: pointer;\n",
       "      display: none;\n",
       "      fill: #1967D2;\n",
       "      height: 32px;\n",
       "      padding: 0 0 0 0;\n",
       "      width: 32px;\n",
       "    }\n",
       "\n",
       "    .colab-df-convert:hover {\n",
       "      background-color: #E2EBFA;\n",
       "      box-shadow: 0px 1px 2px rgba(60, 64, 67, 0.3), 0px 1px 3px 1px rgba(60, 64, 67, 0.15);\n",
       "      fill: #174EA6;\n",
       "    }\n",
       "\n",
       "    [theme=dark] .colab-df-convert {\n",
       "      background-color: #3B4455;\n",
       "      fill: #D2E3FC;\n",
       "    }\n",
       "\n",
       "    [theme=dark] .colab-df-convert:hover {\n",
       "      background-color: #434B5C;\n",
       "      box-shadow: 0px 1px 3px 1px rgba(0, 0, 0, 0.15);\n",
       "      filter: drop-shadow(0px 1px 2px rgba(0, 0, 0, 0.3));\n",
       "      fill: #FFFFFF;\n",
       "    }\n",
       "  </style>\n",
       "\n",
       "      <script>\n",
       "        const buttonEl =\n",
       "          document.querySelector('#df-fe77036c-b29a-4f43-bc57-c5f133143582 button.colab-df-convert');\n",
       "        buttonEl.style.display =\n",
       "          google.colab.kernel.accessAllowed ? 'block' : 'none';\n",
       "\n",
       "        async function convertToInteractive(key) {\n",
       "          const element = document.querySelector('#df-fe77036c-b29a-4f43-bc57-c5f133143582');\n",
       "          const dataTable =\n",
       "            await google.colab.kernel.invokeFunction('convertToInteractive',\n",
       "                                                     [key], {});\n",
       "          if (!dataTable) return;\n",
       "\n",
       "          const docLinkHtml = 'Like what you see? Visit the ' +\n",
       "            '<a target=\"_blank\" href=https://colab.research.google.com/notebooks/data_table.ipynb>data table notebook</a>'\n",
       "            + ' to learn more about interactive tables.';\n",
       "          element.innerHTML = '';\n",
       "          dataTable['output_type'] = 'display_data';\n",
       "          await google.colab.output.renderOutput(dataTable, element);\n",
       "          const docLink = document.createElement('div');\n",
       "          docLink.innerHTML = docLinkHtml;\n",
       "          element.appendChild(docLink);\n",
       "        }\n",
       "      </script>\n",
       "    </div>\n",
       "  </div>\n",
       "  "
      ],
      "text/plain": [
       "   TEMÁTICA       FECHA       DIA    HORA                        BARRIO  \\\n",
       "0  ABIGEATO  2014-01-01  Miércoles   4:00              VEREDA ANA MARIA   \n",
       "1  ABIGEATO  2014-01-01  Miércoles  18:00              VEREDA LAS ROSAS   \n",
       "2  ABIGEATO  2014-01-01  Miércoles   6:00  VEREDA SAN LUIS DE RIO NEGRO   \n",
       "3  ABIGEATO  2014-02-01     Jueves   1:00               QUEBRADA ARRIBA   \n",
       "\n",
       "    ZONA         CLASE SITIO        ARMA EMPLEADA MOVIL AGRESOR MOVIL VICTIMA  \\\n",
       "0  RURAL  FINCAS Y SIMILARES  SIN EMPLEO DE ARMAS         A PIE         A PIE   \n",
       "1  RURAL  FINCAS Y SIMILARES  SIN EMPLEO DE ARMAS         A PIE         A PIE   \n",
       "2  RURAL  FINCAS Y SIMILARES  SIN EMPLEO DE ARMAS         A PIE         A PIE   \n",
       "3  RURAL  FINCAS Y SIMILARES  SIN EMPLEO DE ARMAS         A PIE  NO REPORTADO   \n",
       "\n",
       "  EDAD       SEXO ESTADO CIVIL     PAIS NACE CLASE EMPLEADO     PROFESION  \\\n",
       "0   27   FEMENINO      SOLTERO      COLOMBIA  INDEPENDIENTE  NO REPORTADO   \n",
       "1   46  MASCULINO       CASADO      COLOMBIA     AGRICULTOR  NO REPORTADO   \n",
       "2   62  MASCULINO       CASADO  NO REPORTADO     AGRICULTOR  NO REPORTADO   \n",
       "3   25  MASCULINO       CASADO      COLOMBIA     AGRICULTOR  NO REPORTADO   \n",
       "\n",
       "  ESCOLARIDAD  CODIGO DANE     AÑO  \n",
       "0    SUPERIOR     47058000  2014.0  \n",
       "1  SECUNDARIA     50330000  2014.0  \n",
       "2    PRIMARIA     50573000  2014.0  \n",
       "3    PRIMARIA      5034000  2014.0  "
      ]
     },
     "execution_count": 7,
     "metadata": {},
     "output_type": "execute_result"
    }
   ],
   "source": [
    "df1_2016.head(4)"
   ]
  },
  {
   "cell_type": "code",
   "execution_count": 8,
   "metadata": {
    "id": "w23oW6UVfyRM"
   },
   "outputs": [],
   "source": [
    "# Union Vertical\n",
    "df_delitos = pd.concat([df1_2013,df1_2016])\n",
    "df_delitos.reset_index(drop = True, inplace = True)"
   ]
  },
  {
   "cell_type": "code",
   "execution_count": 9,
   "metadata": {
    "colab": {
     "base_uri": "https://localhost:8080/",
     "height": 228
    },
    "id": "rrcaj6B3fyRM",
    "outputId": "953c3635-e752-4721-c1a5-de520f38aadb"
   },
   "outputs": [
    {
     "data": {
      "text/html": [
       "\n",
       "  <div id=\"df-bcc4e784-594f-45c5-80f5-86757252e36b\">\n",
       "    <div class=\"colab-df-container\">\n",
       "      <div>\n",
       "<style scoped>\n",
       "    .dataframe tbody tr th:only-of-type {\n",
       "        vertical-align: middle;\n",
       "    }\n",
       "\n",
       "    .dataframe tbody tr th {\n",
       "        vertical-align: top;\n",
       "    }\n",
       "\n",
       "    .dataframe thead th {\n",
       "        text-align: right;\n",
       "    }\n",
       "</style>\n",
       "<table border=\"1\" class=\"dataframe\">\n",
       "  <thead>\n",
       "    <tr style=\"text-align: right;\">\n",
       "      <th></th>\n",
       "      <th>TEMÁTICA</th>\n",
       "      <th>FECHA</th>\n",
       "      <th>DIA</th>\n",
       "      <th>HORA</th>\n",
       "      <th>BARRIO</th>\n",
       "      <th>ZONA</th>\n",
       "      <th>CLASE SITIO</th>\n",
       "      <th>ARMA EMPLEADA</th>\n",
       "      <th>MOVIL AGRESOR</th>\n",
       "      <th>MOVIL VICTIMA</th>\n",
       "      <th>EDAD</th>\n",
       "      <th>SEXO</th>\n",
       "      <th>ESTADO CIVIL</th>\n",
       "      <th>PAIS NACE</th>\n",
       "      <th>CLASE EMPLEADO</th>\n",
       "      <th>PROFESION</th>\n",
       "      <th>ESCOLARIDAD</th>\n",
       "      <th>CODIGO DANE</th>\n",
       "      <th>AÑO</th>\n",
       "    </tr>\n",
       "  </thead>\n",
       "  <tbody>\n",
       "    <tr>\n",
       "      <th>0</th>\n",
       "      <td>AMENAZA</td>\n",
       "      <td>2013-01-01</td>\n",
       "      <td>Martes</td>\n",
       "      <td>9:00</td>\n",
       "      <td>NaN</td>\n",
       "      <td>URBANA</td>\n",
       "      <td>CASAS DE HABITACION</td>\n",
       "      <td>ARMA DE FUEGO</td>\n",
       "      <td>NO REPORTADO</td>\n",
       "      <td>NO REPORTADO</td>\n",
       "      <td>58</td>\n",
       "      <td>MASCULINO</td>\n",
       "      <td>SOLTERO</td>\n",
       "      <td>COLOMBIA</td>\n",
       "      <td>EMPLEADO PARTICULAR</td>\n",
       "      <td>NO REPORTADO</td>\n",
       "      <td>SUPERIOR</td>\n",
       "      <td>91001000</td>\n",
       "      <td>2013.0</td>\n",
       "    </tr>\n",
       "    <tr>\n",
       "      <th>1</th>\n",
       "      <td>AMENAZA</td>\n",
       "      <td>2013-01-01</td>\n",
       "      <td>Martes</td>\n",
       "      <td>10:00</td>\n",
       "      <td>NaN</td>\n",
       "      <td>RURAL</td>\n",
       "      <td>RESGUARDO INDÍGENA</td>\n",
       "      <td>CONTUNDENTES</td>\n",
       "      <td>A PIE</td>\n",
       "      <td>A PIE</td>\n",
       "      <td>35</td>\n",
       "      <td>MASCULINO</td>\n",
       "      <td>SOLTERO</td>\n",
       "      <td>COLOMBIA</td>\n",
       "      <td>EMPLEADO PARTICULAR</td>\n",
       "      <td>NO REPORTADO</td>\n",
       "      <td>SECUNDARIA</td>\n",
       "      <td>91001000</td>\n",
       "      <td>2013.0</td>\n",
       "    </tr>\n",
       "  </tbody>\n",
       "</table>\n",
       "</div>\n",
       "      <button class=\"colab-df-convert\" onclick=\"convertToInteractive('df-bcc4e784-594f-45c5-80f5-86757252e36b')\"\n",
       "              title=\"Convert this dataframe to an interactive table.\"\n",
       "              style=\"display:none;\">\n",
       "        \n",
       "  <svg xmlns=\"http://www.w3.org/2000/svg\" height=\"24px\"viewBox=\"0 0 24 24\"\n",
       "       width=\"24px\">\n",
       "    <path d=\"M0 0h24v24H0V0z\" fill=\"none\"/>\n",
       "    <path d=\"M18.56 5.44l.94 2.06.94-2.06 2.06-.94-2.06-.94-.94-2.06-.94 2.06-2.06.94zm-11 1L8.5 8.5l.94-2.06 2.06-.94-2.06-.94L8.5 2.5l-.94 2.06-2.06.94zm10 10l.94 2.06.94-2.06 2.06-.94-2.06-.94-.94-2.06-.94 2.06-2.06.94z\"/><path d=\"M17.41 7.96l-1.37-1.37c-.4-.4-.92-.59-1.43-.59-.52 0-1.04.2-1.43.59L10.3 9.45l-7.72 7.72c-.78.78-.78 2.05 0 2.83L4 21.41c.39.39.9.59 1.41.59.51 0 1.02-.2 1.41-.59l7.78-7.78 2.81-2.81c.8-.78.8-2.07 0-2.86zM5.41 20L4 18.59l7.72-7.72 1.47 1.35L5.41 20z\"/>\n",
       "  </svg>\n",
       "      </button>\n",
       "      \n",
       "  <style>\n",
       "    .colab-df-container {\n",
       "      display:flex;\n",
       "      flex-wrap:wrap;\n",
       "      gap: 12px;\n",
       "    }\n",
       "\n",
       "    .colab-df-convert {\n",
       "      background-color: #E8F0FE;\n",
       "      border: none;\n",
       "      border-radius: 50%;\n",
       "      cursor: pointer;\n",
       "      display: none;\n",
       "      fill: #1967D2;\n",
       "      height: 32px;\n",
       "      padding: 0 0 0 0;\n",
       "      width: 32px;\n",
       "    }\n",
       "\n",
       "    .colab-df-convert:hover {\n",
       "      background-color: #E2EBFA;\n",
       "      box-shadow: 0px 1px 2px rgba(60, 64, 67, 0.3), 0px 1px 3px 1px rgba(60, 64, 67, 0.15);\n",
       "      fill: #174EA6;\n",
       "    }\n",
       "\n",
       "    [theme=dark] .colab-df-convert {\n",
       "      background-color: #3B4455;\n",
       "      fill: #D2E3FC;\n",
       "    }\n",
       "\n",
       "    [theme=dark] .colab-df-convert:hover {\n",
       "      background-color: #434B5C;\n",
       "      box-shadow: 0px 1px 3px 1px rgba(0, 0, 0, 0.15);\n",
       "      filter: drop-shadow(0px 1px 2px rgba(0, 0, 0, 0.3));\n",
       "      fill: #FFFFFF;\n",
       "    }\n",
       "  </style>\n",
       "\n",
       "      <script>\n",
       "        const buttonEl =\n",
       "          document.querySelector('#df-bcc4e784-594f-45c5-80f5-86757252e36b button.colab-df-convert');\n",
       "        buttonEl.style.display =\n",
       "          google.colab.kernel.accessAllowed ? 'block' : 'none';\n",
       "\n",
       "        async function convertToInteractive(key) {\n",
       "          const element = document.querySelector('#df-bcc4e784-594f-45c5-80f5-86757252e36b');\n",
       "          const dataTable =\n",
       "            await google.colab.kernel.invokeFunction('convertToInteractive',\n",
       "                                                     [key], {});\n",
       "          if (!dataTable) return;\n",
       "\n",
       "          const docLinkHtml = 'Like what you see? Visit the ' +\n",
       "            '<a target=\"_blank\" href=https://colab.research.google.com/notebooks/data_table.ipynb>data table notebook</a>'\n",
       "            + ' to learn more about interactive tables.';\n",
       "          element.innerHTML = '';\n",
       "          dataTable['output_type'] = 'display_data';\n",
       "          await google.colab.output.renderOutput(dataTable, element);\n",
       "          const docLink = document.createElement('div');\n",
       "          docLink.innerHTML = docLinkHtml;\n",
       "          element.appendChild(docLink);\n",
       "        }\n",
       "      </script>\n",
       "    </div>\n",
       "  </div>\n",
       "  "
      ],
      "text/plain": [
       "  TEMÁTICA       FECHA    DIA    HORA BARRIO    ZONA          CLASE SITIO  \\\n",
       "0  AMENAZA  2013-01-01  Martes   9:00    NaN  URBANA  CASAS DE HABITACION   \n",
       "1  AMENAZA  2013-01-01  Martes  10:00    NaN   RURAL   RESGUARDO INDÍGENA   \n",
       "\n",
       "   ARMA EMPLEADA MOVIL AGRESOR MOVIL VICTIMA EDAD       SEXO ESTADO CIVIL  \\\n",
       "0  ARMA DE FUEGO  NO REPORTADO  NO REPORTADO   58  MASCULINO      SOLTERO   \n",
       "1   CONTUNDENTES         A PIE         A PIE   35  MASCULINO      SOLTERO   \n",
       "\n",
       "  PAIS NACE       CLASE EMPLEADO     PROFESION ESCOLARIDAD  CODIGO DANE  \\\n",
       "0  COLOMBIA  EMPLEADO PARTICULAR  NO REPORTADO    SUPERIOR     91001000   \n",
       "1  COLOMBIA  EMPLEADO PARTICULAR  NO REPORTADO  SECUNDARIA     91001000   \n",
       "\n",
       "      AÑO  \n",
       "0  2013.0  \n",
       "1  2013.0  "
      ]
     },
     "execution_count": 9,
     "metadata": {},
     "output_type": "execute_result"
    }
   ],
   "source": [
    "df_delitos.head(2)"
   ]
  },
  {
   "cell_type": "markdown",
   "metadata": {
    "id": "CePaAckPUHSg"
   },
   "source": [
    "- Convierta la variable CODIGO DANE en String. Adicionalmente valide que el tamaño de la variable CODIGO DANE sea de 5 caracteres. Si no es así, arréglela y quédese con los primeros 5 caracteres de cada valor.\n",
    "-Es importante evitar que variables de tipo número almacenen códigos de identificación. Cuándo hay códigos que inician con cero, como el DIVIPOLA del DANE para los departamentos Antioquia (05) y Atlántico (08), los ceros iniciales se pierden y el manejo del dato no es limpio. En el siguiente código veremos cómo verificar que los codigos sean consistentes y cómo podemos arreglar algunos problemas comunes."
   ]
  },
  {
   "cell_type": "code",
   "execution_count": 10,
   "metadata": {
    "colab": {
     "base_uri": "https://localhost:8080/"
    },
    "id": "nyOhJ3XCULy0",
    "outputId": "c0c30644-21ac-449a-e87d-b8fa427d452d"
   },
   "outputs": [
    {
     "name": "stdout",
     "output_type": "stream",
     "text": [
      "<class 'pandas.core.series.Series'>\n",
      "RangeIndex: 558815 entries, 0 to 558814\n",
      "Series name: CODIGO DANE\n",
      "Non-Null Count   Dtype \n",
      "--------------   ----- \n",
      "558815 non-null  object\n",
      "dtypes: object(1)\n",
      "memory usage: 4.3+ MB\n"
     ]
    }
   ],
   "source": [
    "# AYUDA: obtener información general de la variable que vamos a analizar\n",
    "df_delitos['CODIGO DANE'] = df_delitos['CODIGO DANE'].astype(str)\n",
    "df_delitos['CODIGO DANE'].info()"
   ]
  },
  {
   "cell_type": "markdown",
   "metadata": {
    "id": "Nm1GM2NR3RDj"
   },
   "source": [
    "Revisemos la longitud mínima y máxima de los códigos municipales."
   ]
  },
  {
   "cell_type": "code",
   "execution_count": 11,
   "metadata": {
    "colab": {
     "base_uri": "https://localhost:8080/"
    },
    "id": "C0pCWqEcppaM",
    "outputId": "9b80753f-5f5d-4ed3-bcc7-3139f84c0321"
   },
   "outputs": [
    {
     "name": "stdout",
     "output_type": "stream",
     "text": [
      "mínimo \n",
      "7\n",
      "máximo \n",
      "8\n"
     ]
    }
   ],
   "source": [
    "longitud_minima = df_delitos['CODIGO DANE'].str.len().min()\n",
    "longitud_maxima = df_delitos['CODIGO DANE'].str.len().max()\n",
    "print(\"mínimo \" ) \n",
    "print(longitud_minima)\n",
    "print(\"máximo \" ) \n",
    "print(longitud_maxima)"
   ]
  },
  {
   "cell_type": "markdown",
   "metadata": {
    "id": "UZz8S-zf3PDZ"
   },
   "source": [
    "Vemos que hay 72771 observaciones que tiene un código mas corto de lo esperado"
   ]
  },
  {
   "cell_type": "code",
   "execution_count": 12,
   "metadata": {
    "colab": {
     "base_uri": "https://localhost:8080/"
    },
    "id": "okT_TlD900uH",
    "outputId": "565d6562-5b20-4b36-f1e9-7da447851be3"
   },
   "outputs": [
    {
     "data": {
      "text/plain": [
       "72771"
      ]
     },
     "execution_count": 12,
     "metadata": {},
     "output_type": "execute_result"
    }
   ],
   "source": [
    "sum(df_delitos['CODIGO DANE'].str.len()==7)"
   ]
  },
  {
   "cell_type": "markdown",
   "metadata": {
    "id": "7dnfdzT13MJw"
   },
   "source": [
    "y que, haciendo un enfoque a estos códigos, todos terminan con tres ceros \"000\", esto inica que la porción faltante del código es al inicio. "
   ]
  },
  {
   "cell_type": "code",
   "execution_count": 13,
   "metadata": {
    "colab": {
     "base_uri": "https://localhost:8080/"
    },
    "id": "h009fazM17bN",
    "outputId": "f714bf1f-dc1e-4e32-df30-642882612228"
   },
   "outputs": [
    {
     "data": {
      "text/plain": [
       "array(['5045000', '5051000', '5001000', '5837000', '8078000', '8001000',\n",
       "       '8634000', '8758000', '8433000', '5234000', '5665000', '8296000',\n",
       "       '8638000', '8573000', '5147000', '5490000', '5585000', '8421000',\n",
       "       '5579000', '5172000', '8560000', '8685000', '8849000', '8606000',\n",
       "       '8549000', '8520000', '8436000', '8372000', '8770000', '5154000',\n",
       "       '8137000', '8832000', '8141000', '8558000', '5353000', '5861000',\n",
       "       '5079000', '5088000', '5209000', '5212000', '5250000', '5266000',\n",
       "       '5360000', '5631000', '5761000', '5887000', '5034000', '5091000',\n",
       "       '5282000', '5364000', '5679000', '5895000', '5120000', '5809000',\n",
       "       '5129000', '5697000', '5284000', '5615000', '5854000', '5873000',\n",
       "       '5642000', '5670000', '5736000', '5842000', '5240000', '5380000',\n",
       "       '5480000', '5376000', '5030000', '5361000', '5789000', '5145000',\n",
       "       '5031000', '5686000', '5306000', '5674000', '5347000', '5604000',\n",
       "       '5310000', '5847000', '5107000', '5390000', '5040000', '5055000',\n",
       "       '5142000', '5308000', '5756000', '5093000', '5647000', '5819000',\n",
       "       '5002000', '5237000', '5038000', '5893000', '5440000', '5042000',\n",
       "       '5483000', '5659000', '5790000', '5125000', '5134000', '5190000',\n",
       "       '5101000', '5890000', '5021000', '5656000', '5318000', '5467000',\n",
       "       '5543000', '5591000', '5576000', '5607000', '5541000', '5313000',\n",
       "       '5044000', '8675000', '5148000', '5400000', '5315000', '5113000',\n",
       "       '5660000', '5321000', '5664000', '5206000', '5368000', '5658000',\n",
       "       '5264000', '5628000', '5690000', '5411000', '5036000', '5792000',\n",
       "       '5197000', '5858000', '5059000', '5856000', '5495000', '5138000',\n",
       "       '5649000', '5501000', '5885000', '5667000', '5086000', '5425000',\n",
       "       '5150000', '5652000', '5475000', '5004000'], dtype=object)"
      ]
     },
     "execution_count": 13,
     "metadata": {},
     "output_type": "execute_result"
    }
   ],
   "source": [
    "df_zoom=df_delitos[df_delitos['CODIGO DANE'].str.len()==7]\n",
    "pd.unique(df_zoom['CODIGO DANE'])"
   ]
  },
  {
   "cell_type": "markdown",
   "metadata": {
    "id": "gThnfcCv3gOd"
   },
   "source": [
    "Podemos usar la instrucción str.zfill para llenar con ceros una cadena de caracteres para completar una longitud deseada. Esto es, que todos nuestros códigos tengan 8 caracteres, agregando el cero faltante al inicio de los códigos de municipios de los departamentos Antioquia y Atlántico. </br>\n",
    "Note que llegar a estas conclusiones implica un conocimiento detallado de los datos que esta utilizando, que solo se obtiene investigando. Esto implica en gran parte conversar con expertos en el negocio antes, durante y después de la realización de los procesamientos y análisis."
   ]
  },
  {
   "cell_type": "code",
   "execution_count": 14,
   "metadata": {
    "id": "mumN1fi02c2I"
   },
   "outputs": [],
   "source": [
    "df_delitos['CODIGO DANE'] = df_delitos['CODIGO DANE'].str.zfill(longitud_maxima)\n"
   ]
  },
  {
   "cell_type": "markdown",
   "metadata": {
    "id": "P68GLP214poW"
   },
   "source": [
    "si buscamos a un código incompleto que indentificamos antes, este ya no está\n"
   ]
  },
  {
   "cell_type": "code",
   "execution_count": 15,
   "metadata": {
    "colab": {
     "base_uri": "https://localhost:8080/"
    },
    "id": "NBiY3alR4sJ7",
    "outputId": "2821198d-9052-48a1-bb22-b22aa0228b51"
   },
   "outputs": [
    {
     "data": {
      "text/plain": [
       "0"
      ]
     },
     "execution_count": 15,
     "metadata": {},
     "output_type": "execute_result"
    }
   ],
   "source": [
    "sum(df_delitos['CODIGO DANE']==\"5045000\")\n"
   ]
  },
  {
   "cell_type": "markdown",
   "metadata": {
    "id": "Rf_Wc7lw4tq0"
   },
   "source": [
    "Si buscamos el resultado corregido, este si está. Y está 1570 veces. Esto quiere decir que en el conjunto de datos hay 1570 registros de delitos cometidos en el municipio \"05450\"\n"
   ]
  },
  {
   "cell_type": "code",
   "execution_count": 16,
   "metadata": {
    "colab": {
     "base_uri": "https://localhost:8080/"
    },
    "id": "zt7j92Ay4zV9",
    "outputId": "d1aad1de-6bc9-4523-d66e-d49f9bbed0c9"
   },
   "outputs": [
    {
     "data": {
      "text/plain": [
       "1570"
      ]
     },
     "execution_count": 16,
     "metadata": {},
     "output_type": "execute_result"
    }
   ],
   "source": [
    "sum(df_delitos['CODIGO DANE']==\"05045000\")"
   ]
  },
  {
   "cell_type": "markdown",
   "metadata": {
    "id": "ZrjeY3srVvHO"
   },
   "source": [
    "**Ahora sí** Debemos extraer los 5 caracteres del CODIGO DANE. Podemos usar la función apply y el parámetro lambda."
   ]
  },
  {
   "cell_type": "code",
   "execution_count": 17,
   "metadata": {
    "id": "3RnYGNncURAu"
   },
   "outputs": [],
   "source": [
    "df_delitos[\"CODIGO DANE\"] = df_delitos['CODIGO DANE'].apply(lambda x: x[0:5])"
   ]
  },
  {
   "cell_type": "code",
   "execution_count": 18,
   "metadata": {
    "colab": {
     "base_uri": "https://localhost:8080/"
    },
    "id": "wTYDk9ZEmJsF",
    "outputId": "5a0326cf-2d43-434a-99af-3220c05b767b"
   },
   "outputs": [
    {
     "data": {
      "text/plain": [
       "1570"
      ]
     },
     "execution_count": 18,
     "metadata": {},
     "output_type": "execute_result"
    }
   ],
   "source": [
    "sum(df_delitos[\"CODIGO DANE\"]==\"05045\")\n"
   ]
  },
  {
   "cell_type": "code",
   "execution_count": null,
   "metadata": {
    "id": "cXlrAtcX5ib2"
   },
   "outputs": [],
   "source": [
    "# También podemos usar la funcion slice de pandas, que para este caso la especificamos así:\n",
    "# df['CODIGO DANE'] = df['CODIGO DANE'].str.slice(0, 5)\n",
    "# Documentación de la función en: https://pandas.pydata.org/docs/reference/api/pandas.Series.str.slice.html"
   ]
  },
  {
   "cell_type": "code",
   "execution_count": 19,
   "metadata": {
    "colab": {
     "base_uri": "https://localhost:8080/"
    },
    "id": "e_YSClftVgK2",
    "outputId": "137e15ed-4933-4d22-a3a0-402994e46167"
   },
   "outputs": [
    {
     "data": {
      "text/plain": [
       "0    91001\n",
       "1    91001\n",
       "2    91001\n",
       "3    91001\n",
       "4    91001\n",
       "Name: CODIGO DANE, dtype: object"
      ]
     },
     "execution_count": 19,
     "metadata": {},
     "output_type": "execute_result"
    }
   ],
   "source": [
    "df_delitos[\"CODIGO DANE\"].head()"
   ]
  },
  {
   "cell_type": "markdown",
   "metadata": {
    "id": "3ZvtMdW0fyRM"
   },
   "source": [
    "**3. Cargue de la base de municipios**"
   ]
  },
  {
   "cell_type": "markdown",
   "metadata": {
    "id": "mwqUwbWLfyRN"
   },
   "source": [
    "Al cargar tenga en cuenta en qué hoja que se encuentra la base de datos y la estructura de la misma."
   ]
  },
  {
   "cell_type": "code",
   "execution_count": 20,
   "metadata": {
    "colab": {
     "base_uri": "https://localhost:8080/",
     "height": 49
    },
    "id": "7OE1W0bRfyRN",
    "outputId": "1584ed72-bab4-4648-86e1-dd7ce9083680"
   },
   "outputs": [
    {
     "data": {
      "text/html": [
       "\n",
       "  <div id=\"df-3fd4b79f-f878-4244-8d49-df7579ddaf04\">\n",
       "    <div class=\"colab-df-container\">\n",
       "      <div>\n",
       "<style scoped>\n",
       "    .dataframe tbody tr th:only-of-type {\n",
       "        vertical-align: middle;\n",
       "    }\n",
       "\n",
       "    .dataframe tbody tr th {\n",
       "        vertical-align: top;\n",
       "    }\n",
       "\n",
       "    .dataframe thead th {\n",
       "        text-align: right;\n",
       "    }\n",
       "</style>\n",
       "<table border=\"1\" class=\"dataframe\">\n",
       "  <thead>\n",
       "    <tr style=\"text-align: right;\">\n",
       "      <th></th>\n",
       "    </tr>\n",
       "  </thead>\n",
       "  <tbody>\n",
       "  </tbody>\n",
       "</table>\n",
       "</div>\n",
       "      <button class=\"colab-df-convert\" onclick=\"convertToInteractive('df-3fd4b79f-f878-4244-8d49-df7579ddaf04')\"\n",
       "              title=\"Convert this dataframe to an interactive table.\"\n",
       "              style=\"display:none;\">\n",
       "        \n",
       "  <svg xmlns=\"http://www.w3.org/2000/svg\" height=\"24px\"viewBox=\"0 0 24 24\"\n",
       "       width=\"24px\">\n",
       "    <path d=\"M0 0h24v24H0V0z\" fill=\"none\"/>\n",
       "    <path d=\"M18.56 5.44l.94 2.06.94-2.06 2.06-.94-2.06-.94-.94-2.06-.94 2.06-2.06.94zm-11 1L8.5 8.5l.94-2.06 2.06-.94-2.06-.94L8.5 2.5l-.94 2.06-2.06.94zm10 10l.94 2.06.94-2.06 2.06-.94-2.06-.94-.94-2.06-.94 2.06-2.06.94z\"/><path d=\"M17.41 7.96l-1.37-1.37c-.4-.4-.92-.59-1.43-.59-.52 0-1.04.2-1.43.59L10.3 9.45l-7.72 7.72c-.78.78-.78 2.05 0 2.83L4 21.41c.39.39.9.59 1.41.59.51 0 1.02-.2 1.41-.59l7.78-7.78 2.81-2.81c.8-.78.8-2.07 0-2.86zM5.41 20L4 18.59l7.72-7.72 1.47 1.35L5.41 20z\"/>\n",
       "  </svg>\n",
       "      </button>\n",
       "      \n",
       "  <style>\n",
       "    .colab-df-container {\n",
       "      display:flex;\n",
       "      flex-wrap:wrap;\n",
       "      gap: 12px;\n",
       "    }\n",
       "\n",
       "    .colab-df-convert {\n",
       "      background-color: #E8F0FE;\n",
       "      border: none;\n",
       "      border-radius: 50%;\n",
       "      cursor: pointer;\n",
       "      display: none;\n",
       "      fill: #1967D2;\n",
       "      height: 32px;\n",
       "      padding: 0 0 0 0;\n",
       "      width: 32px;\n",
       "    }\n",
       "\n",
       "    .colab-df-convert:hover {\n",
       "      background-color: #E2EBFA;\n",
       "      box-shadow: 0px 1px 2px rgba(60, 64, 67, 0.3), 0px 1px 3px 1px rgba(60, 64, 67, 0.15);\n",
       "      fill: #174EA6;\n",
       "    }\n",
       "\n",
       "    [theme=dark] .colab-df-convert {\n",
       "      background-color: #3B4455;\n",
       "      fill: #D2E3FC;\n",
       "    }\n",
       "\n",
       "    [theme=dark] .colab-df-convert:hover {\n",
       "      background-color: #434B5C;\n",
       "      box-shadow: 0px 1px 3px 1px rgba(0, 0, 0, 0.15);\n",
       "      filter: drop-shadow(0px 1px 2px rgba(0, 0, 0, 0.3));\n",
       "      fill: #FFFFFF;\n",
       "    }\n",
       "  </style>\n",
       "\n",
       "      <script>\n",
       "        const buttonEl =\n",
       "          document.querySelector('#df-3fd4b79f-f878-4244-8d49-df7579ddaf04 button.colab-df-convert');\n",
       "        buttonEl.style.display =\n",
       "          google.colab.kernel.accessAllowed ? 'block' : 'none';\n",
       "\n",
       "        async function convertToInteractive(key) {\n",
       "          const element = document.querySelector('#df-3fd4b79f-f878-4244-8d49-df7579ddaf04');\n",
       "          const dataTable =\n",
       "            await google.colab.kernel.invokeFunction('convertToInteractive',\n",
       "                                                     [key], {});\n",
       "          if (!dataTable) return;\n",
       "\n",
       "          const docLinkHtml = 'Like what you see? Visit the ' +\n",
       "            '<a target=\"_blank\" href=https://colab.research.google.com/notebooks/data_table.ipynb>data table notebook</a>'\n",
       "            + ' to learn more about interactive tables.';\n",
       "          element.innerHTML = '';\n",
       "          dataTable['output_type'] = 'display_data';\n",
       "          await google.colab.output.renderOutput(dataTable, element);\n",
       "          const docLink = document.createElement('div');\n",
       "          docLink.innerHTML = docLinkHtml;\n",
       "          element.appendChild(docLink);\n",
       "        }\n",
       "      </script>\n",
       "    </div>\n",
       "  </div>\n",
       "  "
      ],
      "text/plain": [
       "Empty DataFrame\n",
       "Columns: []\n",
       "Index: []"
      ]
     },
     "execution_count": 20,
     "metadata": {},
     "output_type": "execute_result"
    }
   ],
   "source": [
    "# Si cargamos la base de datos con los parámetros por Default. Note que carga una hoja vacía. \n",
    "# Lo anterior, se debe a que se encuentra en la hoja \"MUNICIPIOS\", mencionada en la introducción del cuaderno.\n",
    "df_municipios = pd.read_excel(r'BASE_DPTO_MUNICIPIOS.xlsx')\n",
    "df_municipios.head(2)"
   ]
  },
  {
   "cell_type": "code",
   "execution_count": 21,
   "metadata": {
    "colab": {
     "base_uri": "https://localhost:8080/",
     "height": 175
    },
    "id": "h5zDWR7yfyRN",
    "outputId": "20e07c72-61a0-4aaf-a1a8-225907c03eee"
   },
   "outputs": [
    {
     "data": {
      "text/html": [
       "\n",
       "  <div id=\"df-964d65a4-1d83-4c7d-aa6f-4d311cb469f1\">\n",
       "    <div class=\"colab-df-container\">\n",
       "      <div>\n",
       "<style scoped>\n",
       "    .dataframe tbody tr th:only-of-type {\n",
       "        vertical-align: middle;\n",
       "    }\n",
       "\n",
       "    .dataframe tbody tr th {\n",
       "        vertical-align: top;\n",
       "    }\n",
       "\n",
       "    .dataframe thead th {\n",
       "        text-align: right;\n",
       "    }\n",
       "</style>\n",
       "<table border=\"1\" class=\"dataframe\">\n",
       "  <thead>\n",
       "    <tr style=\"text-align: right;\">\n",
       "      <th></th>\n",
       "      <th>CODIGO DANE - MUNICIPIOS</th>\n",
       "      <th>Unnamed: 1</th>\n",
       "      <th>Unnamed: 2</th>\n",
       "      <th>Unnamed: 3</th>\n",
       "      <th>Unnamed: 4</th>\n",
       "      <th>Unnamed: 5</th>\n",
       "    </tr>\n",
       "  </thead>\n",
       "  <tbody>\n",
       "    <tr>\n",
       "      <th>0</th>\n",
       "      <td>NaN</td>\n",
       "      <td>NaN</td>\n",
       "      <td>NaN</td>\n",
       "      <td>NaN</td>\n",
       "      <td>NaN</td>\n",
       "      <td>NaN</td>\n",
       "    </tr>\n",
       "    <tr>\n",
       "      <th>1</th>\n",
       "      <td>DEPARTAMENTO</td>\n",
       "      <td>MUNICIPIO</td>\n",
       "      <td>CODIGO DANE</td>\n",
       "      <td>COL4</td>\n",
       "      <td>COL5</td>\n",
       "      <td>COL6</td>\n",
       "    </tr>\n",
       "    <tr>\n",
       "      <th>2</th>\n",
       "      <td>MAGDALENA</td>\n",
       "      <td>ARIGUANÍ</td>\n",
       "      <td>47058</td>\n",
       "      <td>NaN</td>\n",
       "      <td>NaN</td>\n",
       "      <td>NaN</td>\n",
       "    </tr>\n",
       "    <tr>\n",
       "      <th>3</th>\n",
       "      <td>META</td>\n",
       "      <td>MESETAS</td>\n",
       "      <td>50330</td>\n",
       "      <td>NaN</td>\n",
       "      <td>NaN</td>\n",
       "      <td>NaN</td>\n",
       "    </tr>\n",
       "  </tbody>\n",
       "</table>\n",
       "</div>\n",
       "      <button class=\"colab-df-convert\" onclick=\"convertToInteractive('df-964d65a4-1d83-4c7d-aa6f-4d311cb469f1')\"\n",
       "              title=\"Convert this dataframe to an interactive table.\"\n",
       "              style=\"display:none;\">\n",
       "        \n",
       "  <svg xmlns=\"http://www.w3.org/2000/svg\" height=\"24px\"viewBox=\"0 0 24 24\"\n",
       "       width=\"24px\">\n",
       "    <path d=\"M0 0h24v24H0V0z\" fill=\"none\"/>\n",
       "    <path d=\"M18.56 5.44l.94 2.06.94-2.06 2.06-.94-2.06-.94-.94-2.06-.94 2.06-2.06.94zm-11 1L8.5 8.5l.94-2.06 2.06-.94-2.06-.94L8.5 2.5l-.94 2.06-2.06.94zm10 10l.94 2.06.94-2.06 2.06-.94-2.06-.94-.94-2.06-.94 2.06-2.06.94z\"/><path d=\"M17.41 7.96l-1.37-1.37c-.4-.4-.92-.59-1.43-.59-.52 0-1.04.2-1.43.59L10.3 9.45l-7.72 7.72c-.78.78-.78 2.05 0 2.83L4 21.41c.39.39.9.59 1.41.59.51 0 1.02-.2 1.41-.59l7.78-7.78 2.81-2.81c.8-.78.8-2.07 0-2.86zM5.41 20L4 18.59l7.72-7.72 1.47 1.35L5.41 20z\"/>\n",
       "  </svg>\n",
       "      </button>\n",
       "      \n",
       "  <style>\n",
       "    .colab-df-container {\n",
       "      display:flex;\n",
       "      flex-wrap:wrap;\n",
       "      gap: 12px;\n",
       "    }\n",
       "\n",
       "    .colab-df-convert {\n",
       "      background-color: #E8F0FE;\n",
       "      border: none;\n",
       "      border-radius: 50%;\n",
       "      cursor: pointer;\n",
       "      display: none;\n",
       "      fill: #1967D2;\n",
       "      height: 32px;\n",
       "      padding: 0 0 0 0;\n",
       "      width: 32px;\n",
       "    }\n",
       "\n",
       "    .colab-df-convert:hover {\n",
       "      background-color: #E2EBFA;\n",
       "      box-shadow: 0px 1px 2px rgba(60, 64, 67, 0.3), 0px 1px 3px 1px rgba(60, 64, 67, 0.15);\n",
       "      fill: #174EA6;\n",
       "    }\n",
       "\n",
       "    [theme=dark] .colab-df-convert {\n",
       "      background-color: #3B4455;\n",
       "      fill: #D2E3FC;\n",
       "    }\n",
       "\n",
       "    [theme=dark] .colab-df-convert:hover {\n",
       "      background-color: #434B5C;\n",
       "      box-shadow: 0px 1px 3px 1px rgba(0, 0, 0, 0.15);\n",
       "      filter: drop-shadow(0px 1px 2px rgba(0, 0, 0, 0.3));\n",
       "      fill: #FFFFFF;\n",
       "    }\n",
       "  </style>\n",
       "\n",
       "      <script>\n",
       "        const buttonEl =\n",
       "          document.querySelector('#df-964d65a4-1d83-4c7d-aa6f-4d311cb469f1 button.colab-df-convert');\n",
       "        buttonEl.style.display =\n",
       "          google.colab.kernel.accessAllowed ? 'block' : 'none';\n",
       "\n",
       "        async function convertToInteractive(key) {\n",
       "          const element = document.querySelector('#df-964d65a4-1d83-4c7d-aa6f-4d311cb469f1');\n",
       "          const dataTable =\n",
       "            await google.colab.kernel.invokeFunction('convertToInteractive',\n",
       "                                                     [key], {});\n",
       "          if (!dataTable) return;\n",
       "\n",
       "          const docLinkHtml = 'Like what you see? Visit the ' +\n",
       "            '<a target=\"_blank\" href=https://colab.research.google.com/notebooks/data_table.ipynb>data table notebook</a>'\n",
       "            + ' to learn more about interactive tables.';\n",
       "          element.innerHTML = '';\n",
       "          dataTable['output_type'] = 'display_data';\n",
       "          await google.colab.output.renderOutput(dataTable, element);\n",
       "          const docLink = document.createElement('div');\n",
       "          docLink.innerHTML = docLinkHtml;\n",
       "          element.appendChild(docLink);\n",
       "        }\n",
       "      </script>\n",
       "    </div>\n",
       "  </div>\n",
       "  "
      ],
      "text/plain": [
       "  CODIGO DANE - MUNICIPIOS Unnamed: 1   Unnamed: 2 Unnamed: 3 Unnamed: 4  \\\n",
       "0                      NaN        NaN          NaN        NaN        NaN   \n",
       "1             DEPARTAMENTO  MUNICIPIO  CODIGO DANE       COL4       COL5   \n",
       "2                MAGDALENA   ARIGUANÍ        47058        NaN        NaN   \n",
       "3                     META    MESETAS        50330        NaN        NaN   \n",
       "\n",
       "  Unnamed: 5  \n",
       "0        NaN  \n",
       "1       COL6  \n",
       "2        NaN  \n",
       "3        NaN  "
      ]
     },
     "execution_count": 21,
     "metadata": {},
     "output_type": "execute_result"
    }
   ],
   "source": [
    "# Seleccionando la hoja. Nos damos cuenta que en realidad las variables de la base empiezan en la fila 3.\n",
    "# Usamos el parámetro skiprows para cambiarlo\n",
    "df_municipios = pd.read_excel(r'BASE_DPTO_MUNICIPIOS.xlsx', sheet_name='MUNICIPIOS')\n",
    "df_municipios.head(4)"
   ]
  },
  {
   "cell_type": "code",
   "execution_count": 22,
   "metadata": {
    "colab": {
     "base_uri": "https://localhost:8080/",
     "height": 175
    },
    "id": "1-gFi7ZgfyRN",
    "outputId": "680d8116-17f8-4a05-d8cf-384deefd48ff"
   },
   "outputs": [
    {
     "data": {
      "text/html": [
       "\n",
       "  <div id=\"df-38183b44-dde3-4a16-952b-42018416af27\">\n",
       "    <div class=\"colab-df-container\">\n",
       "      <div>\n",
       "<style scoped>\n",
       "    .dataframe tbody tr th:only-of-type {\n",
       "        vertical-align: middle;\n",
       "    }\n",
       "\n",
       "    .dataframe tbody tr th {\n",
       "        vertical-align: top;\n",
       "    }\n",
       "\n",
       "    .dataframe thead th {\n",
       "        text-align: right;\n",
       "    }\n",
       "</style>\n",
       "<table border=\"1\" class=\"dataframe\">\n",
       "  <thead>\n",
       "    <tr style=\"text-align: right;\">\n",
       "      <th></th>\n",
       "      <th>DEPARTAMENTO</th>\n",
       "      <th>MUNICIPIO</th>\n",
       "      <th>CODIGO DANE</th>\n",
       "      <th>COL4</th>\n",
       "      <th>COL5</th>\n",
       "      <th>COL6</th>\n",
       "    </tr>\n",
       "  </thead>\n",
       "  <tbody>\n",
       "    <tr>\n",
       "      <th>0</th>\n",
       "      <td>MAGDALENA</td>\n",
       "      <td>ARIGUANÍ</td>\n",
       "      <td>47058</td>\n",
       "      <td>NaN</td>\n",
       "      <td>NaN</td>\n",
       "      <td>NaN</td>\n",
       "    </tr>\n",
       "    <tr>\n",
       "      <th>1</th>\n",
       "      <td>META</td>\n",
       "      <td>MESETAS</td>\n",
       "      <td>50330</td>\n",
       "      <td>NaN</td>\n",
       "      <td>NaN</td>\n",
       "      <td>NaN</td>\n",
       "    </tr>\n",
       "    <tr>\n",
       "      <th>2</th>\n",
       "      <td>META</td>\n",
       "      <td>PUERTO LÓPEZ</td>\n",
       "      <td>50573</td>\n",
       "      <td>NaN</td>\n",
       "      <td>NaN</td>\n",
       "      <td>NaN</td>\n",
       "    </tr>\n",
       "    <tr>\n",
       "      <th>3</th>\n",
       "      <td>ANTIOQUIA</td>\n",
       "      <td>ANDES</td>\n",
       "      <td>50340</td>\n",
       "      <td>NaN</td>\n",
       "      <td>NaN</td>\n",
       "      <td>NaN</td>\n",
       "    </tr>\n",
       "  </tbody>\n",
       "</table>\n",
       "</div>\n",
       "      <button class=\"colab-df-convert\" onclick=\"convertToInteractive('df-38183b44-dde3-4a16-952b-42018416af27')\"\n",
       "              title=\"Convert this dataframe to an interactive table.\"\n",
       "              style=\"display:none;\">\n",
       "        \n",
       "  <svg xmlns=\"http://www.w3.org/2000/svg\" height=\"24px\"viewBox=\"0 0 24 24\"\n",
       "       width=\"24px\">\n",
       "    <path d=\"M0 0h24v24H0V0z\" fill=\"none\"/>\n",
       "    <path d=\"M18.56 5.44l.94 2.06.94-2.06 2.06-.94-2.06-.94-.94-2.06-.94 2.06-2.06.94zm-11 1L8.5 8.5l.94-2.06 2.06-.94-2.06-.94L8.5 2.5l-.94 2.06-2.06.94zm10 10l.94 2.06.94-2.06 2.06-.94-2.06-.94-.94-2.06-.94 2.06-2.06.94z\"/><path d=\"M17.41 7.96l-1.37-1.37c-.4-.4-.92-.59-1.43-.59-.52 0-1.04.2-1.43.59L10.3 9.45l-7.72 7.72c-.78.78-.78 2.05 0 2.83L4 21.41c.39.39.9.59 1.41.59.51 0 1.02-.2 1.41-.59l7.78-7.78 2.81-2.81c.8-.78.8-2.07 0-2.86zM5.41 20L4 18.59l7.72-7.72 1.47 1.35L5.41 20z\"/>\n",
       "  </svg>\n",
       "      </button>\n",
       "      \n",
       "  <style>\n",
       "    .colab-df-container {\n",
       "      display:flex;\n",
       "      flex-wrap:wrap;\n",
       "      gap: 12px;\n",
       "    }\n",
       "\n",
       "    .colab-df-convert {\n",
       "      background-color: #E8F0FE;\n",
       "      border: none;\n",
       "      border-radius: 50%;\n",
       "      cursor: pointer;\n",
       "      display: none;\n",
       "      fill: #1967D2;\n",
       "      height: 32px;\n",
       "      padding: 0 0 0 0;\n",
       "      width: 32px;\n",
       "    }\n",
       "\n",
       "    .colab-df-convert:hover {\n",
       "      background-color: #E2EBFA;\n",
       "      box-shadow: 0px 1px 2px rgba(60, 64, 67, 0.3), 0px 1px 3px 1px rgba(60, 64, 67, 0.15);\n",
       "      fill: #174EA6;\n",
       "    }\n",
       "\n",
       "    [theme=dark] .colab-df-convert {\n",
       "      background-color: #3B4455;\n",
       "      fill: #D2E3FC;\n",
       "    }\n",
       "\n",
       "    [theme=dark] .colab-df-convert:hover {\n",
       "      background-color: #434B5C;\n",
       "      box-shadow: 0px 1px 3px 1px rgba(0, 0, 0, 0.15);\n",
       "      filter: drop-shadow(0px 1px 2px rgba(0, 0, 0, 0.3));\n",
       "      fill: #FFFFFF;\n",
       "    }\n",
       "  </style>\n",
       "\n",
       "      <script>\n",
       "        const buttonEl =\n",
       "          document.querySelector('#df-38183b44-dde3-4a16-952b-42018416af27 button.colab-df-convert');\n",
       "        buttonEl.style.display =\n",
       "          google.colab.kernel.accessAllowed ? 'block' : 'none';\n",
       "\n",
       "        async function convertToInteractive(key) {\n",
       "          const element = document.querySelector('#df-38183b44-dde3-4a16-952b-42018416af27');\n",
       "          const dataTable =\n",
       "            await google.colab.kernel.invokeFunction('convertToInteractive',\n",
       "                                                     [key], {});\n",
       "          if (!dataTable) return;\n",
       "\n",
       "          const docLinkHtml = 'Like what you see? Visit the ' +\n",
       "            '<a target=\"_blank\" href=https://colab.research.google.com/notebooks/data_table.ipynb>data table notebook</a>'\n",
       "            + ' to learn more about interactive tables.';\n",
       "          element.innerHTML = '';\n",
       "          dataTable['output_type'] = 'display_data';\n",
       "          await google.colab.output.renderOutput(dataTable, element);\n",
       "          const docLink = document.createElement('div');\n",
       "          docLink.innerHTML = docLinkHtml;\n",
       "          element.appendChild(docLink);\n",
       "        }\n",
       "      </script>\n",
       "    </div>\n",
       "  </div>\n",
       "  "
      ],
      "text/plain": [
       "  DEPARTAMENTO     MUNICIPIO  CODIGO DANE  COL4  COL5  COL6\n",
       "0    MAGDALENA      ARIGUANÍ        47058   NaN   NaN   NaN\n",
       "1         META       MESETAS        50330   NaN   NaN   NaN\n",
       "2         META  PUERTO LÓPEZ        50573   NaN   NaN   NaN\n",
       "3    ANTIOQUIA         ANDES        50340   NaN   NaN   NaN"
      ]
     },
     "execution_count": 22,
     "metadata": {},
     "output_type": "execute_result"
    }
   ],
   "source": [
    "# Seleccionando la hoja. Nos damos cuenta que en realidad las variables de la base empiezan en la fila 3.\n",
    "# Usamos el parámetro skiprows para cambiarlo\n",
    "df_municipios = pd.read_excel(r'BASE_DPTO_MUNICIPIOS.xlsx', sheet_name='MUNICIPIOS', skiprows = 2)\n",
    "df_municipios.head(4)"
   ]
  },
  {
   "cell_type": "markdown",
   "metadata": {
    "id": "Zu1UL0m2fyRO"
   },
   "source": [
    "- Valide si todas las variables que cuenta la base de datos tienen información. De lo contrario elimínelas, no serán necesarias para el análisis.\n",
    "- Adicional, valide que la variable CODIGO DANE se encuentre en tipo string. Si no conviertala."
   ]
  },
  {
   "cell_type": "code",
   "execution_count": 23,
   "metadata": {
    "colab": {
     "base_uri": "https://localhost:8080/"
    },
    "id": "1YJMWmLUfyRO",
    "outputId": "64321309-7bcb-4661-d5f2-97ef3f57b41e"
   },
   "outputs": [
    {
     "name": "stdout",
     "output_type": "stream",
     "text": [
      "<class 'pandas.core.frame.DataFrame'>\n",
      "RangeIndex: 1096 entries, 0 to 1095\n",
      "Data columns (total 6 columns):\n",
      " #   Column        Non-Null Count  Dtype  \n",
      "---  ------        --------------  -----  \n",
      " 0   DEPARTAMENTO  1096 non-null   object \n",
      " 1   MUNICIPIO     1096 non-null   object \n",
      " 2   CODIGO DANE   1096 non-null   int64  \n",
      " 3   COL4          0 non-null      float64\n",
      " 4   COL5          0 non-null      float64\n",
      " 5   COL6          0 non-null      float64\n",
      "dtypes: float64(3), int64(1), object(2)\n",
      "memory usage: 51.5+ KB\n"
     ]
    }
   ],
   "source": [
    "# Se evidencia que existen 3 variables con datos NULOS en todas sus observaciones.\n",
    "df_municipios.info()"
   ]
  },
  {
   "cell_type": "code",
   "execution_count": 24,
   "metadata": {
    "id": "uu76MDmXfyRO"
   },
   "outputs": [],
   "source": [
    "# Eliminamos variables sin información y reemplazamos la base con el parámetro inplace.\n",
    "df_municipios.drop(['COL4', 'COL5', 'COL6'], axis=1, inplace = True)"
   ]
  },
  {
   "cell_type": "code",
   "execution_count": 25,
   "metadata": {
    "id": "5jPIpjXtWwzF"
   },
   "outputs": [],
   "source": [
    "df_municipios['CODIGO DANE'] = df_municipios['CODIGO DANE'].astype(str)"
   ]
  },
  {
   "cell_type": "markdown",
   "metadata": {
    "id": "WASJH8YSq-RS"
   },
   "source": [
    "**OJO VALIDE TAMBIEN LOS CODIGO DANE, SI NO DEBE ARREGLAR LO QUE REALIZO ANTERIORMENTE**"
   ]
  },
  {
   "cell_type": "markdown",
   "metadata": {
    "id": "vtuUq5tgfyRP"
   },
   "source": [
    "**4.Los registros de la variable EDAD que aparecen como: NO REPORTADO, NO REPORTADO1, NO REPORTADA. Reemplacelos como Nan o vacio y convierta la variable edad en tipo númerica para realizar operaciones**"
   ]
  },
  {
   "cell_type": "code",
   "execution_count": 26,
   "metadata": {
    "id": "VkD6IxvdfyRP"
   },
   "outputs": [],
   "source": [
    "# AYUDA:\n",
    "# De esta forma los puede reemplazar\n",
    "import numpy as np\n",
    "df_delitos['EDAD'] = df_delitos['EDAD'].replace({\"NO REPORTADO\": np.nan, \"NO REPORTADA\": np.nan, \"NO REPORTADO1\":np.nan, '-':np.nan})\n",
    "# Convertir la variable EDAD a FLOAT\n",
    "df_delitos['EDAD'] = df_delitos['EDAD'].astype(float)"
   ]
  },
  {
   "cell_type": "markdown",
   "metadata": {
    "id": "CZYWqjKwfyRP"
   },
   "source": [
    "**5. En la base de delitos, cree una variable llamada CAT_EDAD que clasifique la edad de acuerdo a las etapas:**  ANALICE\n",
    "\n",
    "Datos nan, nulos o vacios (No reportados), Primera infancia (0-5 años), infancia (6 - 11 años), adolescencia (12-18 años), juventud (19 - 26 años), adultez (27 - 59 años) y vejez (60 años y más).\n",
    "\n",
    "**Tip: Utilizará condicionales y la función Apply (Definirá funciones). Puede validar vacíos con: np.isnan(Edad)**"
   ]
  },
  {
   "cell_type": "code",
   "execution_count": 27,
   "metadata": {
    "id": "kkKpj5MhfyRQ"
   },
   "outputs": [],
   "source": [
    "# Definir función CAT_EDAD\n",
    "def CAT_EDAD(Edad):\n",
    "    if np.isnan(Edad):\n",
    "        return 'No reportado'\n",
    "    elif Edad <= 5:\n",
    "        return 'Primera Infancia'\n",
    "    elif (Edad >= 6) & (Edad <= 11):\n",
    "        return 'Infancia'\n",
    "    elif (Edad >= 12) & (Edad <= 18):\n",
    "        return 'Adolescencia'\n",
    "    elif (Edad >= 19) & (Edad <= 26):\n",
    "        return 'Juventud'\n",
    "    elif (Edad >= 27) & (Edad <= 59):\n",
    "        return 'Adultez'\n",
    "    elif Edad >= 60:\n",
    "        return 'Vejez'\n",
    "    else:\n",
    "        return 'Sin dato'"
   ]
  },
  {
   "cell_type": "code",
   "execution_count": 28,
   "metadata": {
    "id": "aiql5AbOfyRQ",
    "scrolled": false
   },
   "outputs": [],
   "source": [
    "df_delitos['CAT_EDAD'] = df_delitos['EDAD'].apply(CAT_EDAD)"
   ]
  },
  {
   "cell_type": "markdown",
   "metadata": {
    "id": "04ja1GREZdiw"
   },
   "source": [
    "## ------------ A partir de este punto debe responder las preguntas con visualizaciones. Aborde los tipos de gráficos de acuerdo al tipo de variable y personalicelo. Tambien deje una breve conclusión que no supere una línea sea contundente."
   ]
  },
  {
   "cell_type": "markdown",
   "metadata": {
    "id": "lLFHqMogZdiw"
   },
   "source": [
    "**6. ¿Top 10 de los municipios con mayor número de hurtos en el periodo comprendido entre 2010 y 2016?**"
   ]
  },
  {
   "cell_type": "code",
   "execution_count": null,
   "metadata": {},
   "outputs": [],
   "source": []
  },
  {
   "cell_type": "markdown",
   "metadata": {
    "id": "wqUG5EVgZdjJ"
   },
   "source": [
    "**7. Mediana de la edad de las victimas por modalidad**"
   ]
  },
  {
   "cell_type": "markdown",
   "metadata": {
    "id": "7Ya_eYBRZdjJ"
   },
   "source": [
    "**Tip:** Antes de generar cálculos, piense en cuáles gráficos le podría dar esta y más estadísticas. "
   ]
  },
  {
   "cell_type": "markdown",
   "metadata": {
    "id": "zTtT-dVjZdjK"
   },
   "source": [
    " "
   ]
  },
  {
   "cell_type": "markdown",
   "metadata": {
    "id": "7JRySkGafyRg"
   },
   "source": [
    "**8. Top 5 de las armas empleadas en el delito 'HURTO A PERSONAS'** ANALICE"
   ]
  },
  {
   "cell_type": "code",
   "execution_count": null,
   "metadata": {},
   "outputs": [],
   "source": []
  },
  {
   "cell_type": "markdown",
   "metadata": {
    "id": "mQUzo90XZdjL"
   },
   "source": [
    "**9. Tendencia de delitos en el año 2016**"
   ]
  },
  {
   "cell_type": "markdown",
   "metadata": {
    "id": "bo-nBzHzZdjL"
   },
   "source": [
    "**Tip:** Recuerde validar los tipos de variable, especialmente el de la fecha."
   ]
  },
  {
   "cell_type": "code",
   "execution_count": null,
   "metadata": {},
   "outputs": [],
   "source": []
  },
  {
   "cell_type": "markdown",
   "metadata": {
    "id": "icuWbPzvZdjQ"
   },
   "source": [
    "**10. Tendencia de delitos desde 2010 hasta 2016 por sexo**"
   ]
  },
  {
   "cell_type": "code",
   "execution_count": null,
   "metadata": {},
   "outputs": [],
   "source": []
  },
  {
   "cell_type": "markdown",
   "metadata": {
    "id": "NTOQPqXKZdjU"
   },
   "source": [
    "**11. Días en los que se cometen una mayor cantidad de hurtos**"
   ]
  },
  {
   "cell_type": "code",
   "execution_count": null,
   "metadata": {},
   "outputs": [],
   "source": []
  },
  {
   "cell_type": "markdown",
   "metadata": {
    "id": "2WFV-zd_ZdjV"
   },
   "source": [
    "**12. Distribución de la variable edad**"
   ]
  },
  {
   "cell_type": "code",
   "execution_count": null,
   "metadata": {},
   "outputs": [],
   "source": []
  },
  {
   "cell_type": "markdown",
   "metadata": {
    "id": "9ShMTYZHZdjW"
   },
   "source": [
    "**13. Relación entre la escolaridad del empleado y la edad.**"
   ]
  },
  {
   "cell_type": "code",
   "execution_count": null,
   "metadata": {
    "id": "FOhmGE0fiPtx"
   },
   "outputs": [],
   "source": []
  }
 ],
 "metadata": {
  "colab": {
   "provenance": []
  },
  "kernelspec": {
   "display_name": "Python 3",
   "language": "python",
   "name": "python3"
  },
  "language_info": {
   "codemirror_mode": {
    "name": "ipython",
    "version": 3
   },
   "file_extension": ".py",
   "mimetype": "text/x-python",
   "name": "python",
   "nbconvert_exporter": "python",
   "pygments_lexer": "ipython3",
   "version": "3.8.5"
  }
 },
 "nbformat": 4,
 "nbformat_minor": 1
}
