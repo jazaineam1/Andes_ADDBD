{
  "cells": [
    {
      "cell_type": "markdown",
      "metadata": {
        "id": "view-in-github",
        "colab_type": "text"
      },
      "source": [
        "<a href=\"https://colab.research.google.com/github/jazaineam1/Andes_ADDBD/blob/main/Sesion9/Practica/Pr%C3%A1ctica%20de_visualizaciones.ipynb\" target=\"_parent\"><img src=\"https://colab.research.google.com/assets/colab-badge.svg\" alt=\"Open In Colab\"/></a>"
      ]
    },
    {
      "cell_type": "markdown",
      "metadata": {
        "id": "MKzpDUN9fyRG"
      },
      "source": [
        "## Universidad de los Andes\n",
        "### Habilidades Intermedias para Analistas de Datos\n",
        "### Módulo 2 - Herramientas de Programación para el Análisis de Datos\n",
        "### Práctica de Visualización"
      ]
    },
    {
      "cell_type": "markdown",
      "metadata": {
        "id": "PEAAVS8JZdiZ"
      },
      "source": [
        "**¿Recuerdan el análisis de delitos que estabamos haciendo? Ahora, lo vamos a complementar con visualizaciones.**"
      ]
    },
    {
      "cell_type": "markdown",
      "metadata": {
        "id": "-w5zJIShfyRI"
      },
      "source": [
        "Colombia es uno de los países con mayores índices de delitos; los índices de hurtos y homicidios han credido en los últimos años signficativamente y, a su vez, la tendencia del incremento de delitos a menores. Usted como analista de datos recibe información recolectada por el DANE y el Ministerio de Defensa entre el periodo de 2010 a 2016 con el fin de estudiar y analizar cuáles son las características que tienen las mayores víctimas de delitos, las armas empleadas y los municipios afectados."
      ]
    },
    {
      "cell_type": "markdown",
      "metadata": {
        "id": "pmy3PEaNfyRI"
      },
      "source": [
        "Para lo anterior, le han proporcionado tres bases.\n",
        "- 1. Base de delitos de Colombia desde 2010 hasta 2013 (Formato csv)\n",
        "- 2. Base de delitos de Colombia desde 2014 hasta 2016 (Formato csv)\n",
        "- 3. Base de departamentos y municipios de Colombia (Hoja: MUNICIPIOS, Formato Excel)\n",
        "\n",
        "**NO OLVIDE : ANALIZAR LOS RESULTADOS**"
      ]
    },
    {
      "cell_type": "markdown",
      "metadata": {
        "id": "jZVYsKqHfyRJ"
      },
      "source": [
        "**1. Cargue de librerias**"
      ]
    },
    {
      "cell_type": "code",
      "execution_count": 1,
      "metadata": {
        "id": "pP7zXh8dfyRJ"
      },
      "outputs": [],
      "source": [
        "import pandas as pd"
      ]
    },
    {
      "cell_type": "markdown",
      "metadata": {
        "id": "asvI77cbfyRK"
      },
      "source": [
        "**2. Cargue de las bases de delitos**"
      ]
    },
    {
      "cell_type": "markdown",
      "metadata": {
        "id": "3Sksw_DSfyRK"
      },
      "source": [
        "Visualice las bases de datos. ¿Cuántas y qué variables tienen? ¿Cuántos registros tienen?\n",
        "\n",
        "Dado que, una contiene los datos de delitos de 2010 a 2013 y la otra de 2014 a 2016, valide que contengan las mismas columnas/variables. Si es así, es eficiente unirlas de forma vertical para realizar el análisis integral."
      ]
    },
    {
      "cell_type": "code",
      "source": [
        "!wget https://github.com/jazaineam1/Andes_ADDBD/raw/main/Sesion9/Practica/BASE_DPTO_MUNICIPIOS.xlsx"
      ],
      "metadata": {
        "id": "RTjF0tFJJIW3",
        "outputId": "16db0e59-d843-4868-ad7b-6f76efc8a450",
        "colab": {
          "base_uri": "https://localhost:8080/"
        }
      },
      "execution_count": 5,
      "outputs": [
        {
          "output_type": "stream",
          "name": "stdout",
          "text": [
            "--2024-08-28 22:39:41--  https://github.com/jazaineam1/Andes_ADDBD/raw/main/Sesion9/Practica/BASE_DPTO_MUNICIPIOS.xlsx\n",
            "Resolving github.com (github.com)... 140.82.112.3\n",
            "Connecting to github.com (github.com)|140.82.112.3|:443... connected.\n",
            "HTTP request sent, awaiting response... 302 Found\n",
            "Location: https://raw.githubusercontent.com/jazaineam1/Andes_ADDBD/main/Sesion9/Practica/BASE_DPTO_MUNICIPIOS.xlsx [following]\n",
            "--2024-08-28 22:39:41--  https://raw.githubusercontent.com/jazaineam1/Andes_ADDBD/main/Sesion9/Practica/BASE_DPTO_MUNICIPIOS.xlsx\n",
            "Resolving raw.githubusercontent.com (raw.githubusercontent.com)... 185.199.108.133, 185.199.109.133, 185.199.110.133, ...\n",
            "Connecting to raw.githubusercontent.com (raw.githubusercontent.com)|185.199.108.133|:443... connected.\n",
            "HTTP request sent, awaiting response... 200 OK\n",
            "Length: 43625 (43K) [application/octet-stream]\n",
            "Saving to: ‘BASE_DPTO_MUNICIPIOS.xlsx’\n",
            "\n",
            "BASE_DPTO_MUNICIPIO 100%[===================>]  42.60K  --.-KB/s    in 0.01s   \n",
            "\n",
            "2024-08-28 22:39:42 (3.63 MB/s) - ‘BASE_DPTO_MUNICIPIOS.xlsx’ saved [43625/43625]\n",
            "\n"
          ]
        }
      ]
    },
    {
      "cell_type": "code",
      "execution_count": 9,
      "metadata": {
        "colab": {
          "base_uri": "https://localhost:8080/"
        },
        "id": "dvuPveKIfyRK",
        "outputId": "3bdb4e80-0c12-437c-cbd7-ff69dbc21d94"
      },
      "outputs": [
        {
          "output_type": "stream",
          "name": "stdout",
          "text": [
            "<class 'pandas.core.frame.DataFrame'>\n",
            "RangeIndex: 319949 entries, 0 to 319948\n",
            "Data columns (total 19 columns):\n",
            " #   Column          Non-Null Count   Dtype  \n",
            "---  ------          --------------   -----  \n",
            " 0   TEMÁTICA        319949 non-null  object \n",
            " 1   FECHA           319949 non-null  object \n",
            " 2   DIA             319949 non-null  object \n",
            " 3   HORA            319949 non-null  object \n",
            " 4   BARRIO          304383 non-null  object \n",
            " 5   ZONA            319949 non-null  object \n",
            " 6   CLASE SITIO     319949 non-null  object \n",
            " 7   ARMA EMPLEADA   319949 non-null  object \n",
            " 8   MOVIL AGRESOR   319949 non-null  object \n",
            " 9   MOVIL VICTIMA   319949 non-null  object \n",
            " 10  EDAD            319949 non-null  object \n",
            " 11  SEXO            319949 non-null  object \n",
            " 12  ESTADO CIVIL    319949 non-null  object \n",
            " 13  PAIS NACE       319949 non-null  object \n",
            " 14  CLASE EMPLEADO  319949 non-null  object \n",
            " 15  PROFESION       315042 non-null  object \n",
            " 16  ESCOLARIDAD     319949 non-null  object \n",
            " 17  CODIGO DANE     319949 non-null  int64  \n",
            " 18  AÑO             319949 non-null  float64\n",
            "dtypes: float64(1), int64(1), object(17)\n",
            "memory usage: 46.4+ MB\n"
          ]
        }
      ],
      "source": [
        "df1_2013 = pd.read_csv('https://raw.githubusercontent.com/jazaineam1/Andes_ADDBD/main/Sesion9/Practica/Delitos%202010-2013.csv')\n",
        "df1_2013.info()\n"
      ]
    },
    {
      "cell_type": "code",
      "execution_count": 10,
      "metadata": {
        "id": "BP846gsCfyRK"
      },
      "outputs": [],
      "source": [
        "df1_2016 = pd.read_csv(r'https://raw.githubusercontent.com/jazaineam1/Andes_ADDBD/main/Sesion9/Practica/Delitos%202014-2016.csv')"
      ]
    },
    {
      "cell_type": "code",
      "execution_count": 11,
      "metadata": {
        "colab": {
          "base_uri": "https://localhost:8080/"
        },
        "id": "Gu0sBy3_fyRK",
        "outputId": "e780f71c-58ca-4b04-ca18-2eddaa501ea3"
      },
      "outputs": [
        {
          "output_type": "execute_result",
          "data": {
            "text/plain": [
              "Index(['TEMÁTICA', 'FECHA', 'DIA ', 'HORA', 'BARRIO', 'ZONA', 'CLASE SITIO',\n",
              "       'ARMA EMPLEADA', 'MOVIL AGRESOR', 'MOVIL VICTIMA', 'EDAD', 'SEXO',\n",
              "       'ESTADO CIVIL', 'PAIS NACE', 'CLASE EMPLEADO', 'PROFESION',\n",
              "       'ESCOLARIDAD', 'CODIGO DANE', 'AÑO'],\n",
              "      dtype='object')"
            ]
          },
          "metadata": {},
          "execution_count": 11
        }
      ],
      "source": [
        "df1_2013.columns"
      ]
    },
    {
      "cell_type": "code",
      "execution_count": 12,
      "metadata": {
        "colab": {
          "base_uri": "https://localhost:8080/"
        },
        "id": "jBA7wqrxfyRL",
        "outputId": "ce26521e-3651-48e8-9a38-9c7116aef6a8"
      },
      "outputs": [
        {
          "output_type": "execute_result",
          "data": {
            "text/plain": [
              "Index(['TEMÁTICA', 'FECHA', 'DIA ', 'HORA', 'BARRIO', 'ZONA', 'CLASE SITIO',\n",
              "       'ARMA EMPLEADA', 'MOVIL AGRESOR', 'MOVIL VICTIMA', 'EDAD', 'SEXO',\n",
              "       'ESTADO CIVIL', 'PAIS NACE', 'CLASE EMPLEADO', 'PROFESION',\n",
              "       'ESCOLARIDAD', 'CODIGO DANE', 'AÑO'],\n",
              "      dtype='object')"
            ]
          },
          "metadata": {},
          "execution_count": 12
        }
      ],
      "source": [
        "df1_2016.columns"
      ]
    },
    {
      "cell_type": "code",
      "execution_count": 13,
      "metadata": {
        "colab": {
          "base_uri": "https://localhost:8080/",
          "height": 281
        },
        "id": "2KEy1ADBfyRL",
        "outputId": "07394214-8bac-4f61-d636-fd8804af58fc"
      },
      "outputs": [
        {
          "output_type": "execute_result",
          "data": {
            "text/plain": [
              "  TEMÁTICA       FECHA    DIA    HORA BARRIO    ZONA          CLASE SITIO  \\\n",
              "0  AMENAZA  2013-01-01  Martes   9:00    NaN  URBANA  CASAS DE HABITACION   \n",
              "1  AMENAZA  2013-01-01  Martes  10:00    NaN   RURAL   RESGUARDO INDÍGENA   \n",
              "2  AMENAZA  2013-01-01  Martes  19:00    NaN   RURAL  CASAS DE HABITACION   \n",
              "3  AMENAZA  2013-01-01  Martes  19:00    NaN   RURAL          NO DEFINIDO   \n",
              "\n",
              "   ARMA EMPLEADA MOVIL AGRESOR MOVIL VICTIMA EDAD       SEXO ESTADO CIVIL  \\\n",
              "0  ARMA DE FUEGO  NO REPORTADO  NO REPORTADO   58  MASCULINO      SOLTERO   \n",
              "1   CONTUNDENTES         A PIE         A PIE   35  MASCULINO      SOLTERO   \n",
              "2   CONTUNDENTES         A PIE         A PIE   42  MASCULINO  UNION LIBRE   \n",
              "3   CONTUNDENTES         A PIE         A PIE   26  MASCULINO  UNION LIBRE   \n",
              "\n",
              "  PAIS NACE       CLASE EMPLEADO     PROFESION ESCOLARIDAD  CODIGO DANE  \\\n",
              "0  COLOMBIA  EMPLEADO PARTICULAR  NO REPORTADO    SUPERIOR     91001000   \n",
              "1  COLOMBIA  EMPLEADO PARTICULAR  NO REPORTADO  SECUNDARIA     91001000   \n",
              "2  COLOMBIA       EMPLEADO SALUD  NO REPORTADO  SECUNDARIA     91001000   \n",
              "3  COLOMBIA           AGRICULTOR  NO REPORTADO  SECUNDARIA     91001000   \n",
              "\n",
              "      AÑO  \n",
              "0  2013.0  \n",
              "1  2013.0  \n",
              "2  2013.0  \n",
              "3  2013.0  "
            ],
            "text/html": [
              "\n",
              "  <div id=\"df-bce93cf8-f765-4d67-9bdf-444b709ae57c\" class=\"colab-df-container\">\n",
              "    <div>\n",
              "<style scoped>\n",
              "    .dataframe tbody tr th:only-of-type {\n",
              "        vertical-align: middle;\n",
              "    }\n",
              "\n",
              "    .dataframe tbody tr th {\n",
              "        vertical-align: top;\n",
              "    }\n",
              "\n",
              "    .dataframe thead th {\n",
              "        text-align: right;\n",
              "    }\n",
              "</style>\n",
              "<table border=\"1\" class=\"dataframe\">\n",
              "  <thead>\n",
              "    <tr style=\"text-align: right;\">\n",
              "      <th></th>\n",
              "      <th>TEMÁTICA</th>\n",
              "      <th>FECHA</th>\n",
              "      <th>DIA</th>\n",
              "      <th>HORA</th>\n",
              "      <th>BARRIO</th>\n",
              "      <th>ZONA</th>\n",
              "      <th>CLASE SITIO</th>\n",
              "      <th>ARMA EMPLEADA</th>\n",
              "      <th>MOVIL AGRESOR</th>\n",
              "      <th>MOVIL VICTIMA</th>\n",
              "      <th>EDAD</th>\n",
              "      <th>SEXO</th>\n",
              "      <th>ESTADO CIVIL</th>\n",
              "      <th>PAIS NACE</th>\n",
              "      <th>CLASE EMPLEADO</th>\n",
              "      <th>PROFESION</th>\n",
              "      <th>ESCOLARIDAD</th>\n",
              "      <th>CODIGO DANE</th>\n",
              "      <th>AÑO</th>\n",
              "    </tr>\n",
              "  </thead>\n",
              "  <tbody>\n",
              "    <tr>\n",
              "      <th>0</th>\n",
              "      <td>AMENAZA</td>\n",
              "      <td>2013-01-01</td>\n",
              "      <td>Martes</td>\n",
              "      <td>9:00</td>\n",
              "      <td>NaN</td>\n",
              "      <td>URBANA</td>\n",
              "      <td>CASAS DE HABITACION</td>\n",
              "      <td>ARMA DE FUEGO</td>\n",
              "      <td>NO REPORTADO</td>\n",
              "      <td>NO REPORTADO</td>\n",
              "      <td>58</td>\n",
              "      <td>MASCULINO</td>\n",
              "      <td>SOLTERO</td>\n",
              "      <td>COLOMBIA</td>\n",
              "      <td>EMPLEADO PARTICULAR</td>\n",
              "      <td>NO REPORTADO</td>\n",
              "      <td>SUPERIOR</td>\n",
              "      <td>91001000</td>\n",
              "      <td>2013.0</td>\n",
              "    </tr>\n",
              "    <tr>\n",
              "      <th>1</th>\n",
              "      <td>AMENAZA</td>\n",
              "      <td>2013-01-01</td>\n",
              "      <td>Martes</td>\n",
              "      <td>10:00</td>\n",
              "      <td>NaN</td>\n",
              "      <td>RURAL</td>\n",
              "      <td>RESGUARDO INDÍGENA</td>\n",
              "      <td>CONTUNDENTES</td>\n",
              "      <td>A PIE</td>\n",
              "      <td>A PIE</td>\n",
              "      <td>35</td>\n",
              "      <td>MASCULINO</td>\n",
              "      <td>SOLTERO</td>\n",
              "      <td>COLOMBIA</td>\n",
              "      <td>EMPLEADO PARTICULAR</td>\n",
              "      <td>NO REPORTADO</td>\n",
              "      <td>SECUNDARIA</td>\n",
              "      <td>91001000</td>\n",
              "      <td>2013.0</td>\n",
              "    </tr>\n",
              "    <tr>\n",
              "      <th>2</th>\n",
              "      <td>AMENAZA</td>\n",
              "      <td>2013-01-01</td>\n",
              "      <td>Martes</td>\n",
              "      <td>19:00</td>\n",
              "      <td>NaN</td>\n",
              "      <td>RURAL</td>\n",
              "      <td>CASAS DE HABITACION</td>\n",
              "      <td>CONTUNDENTES</td>\n",
              "      <td>A PIE</td>\n",
              "      <td>A PIE</td>\n",
              "      <td>42</td>\n",
              "      <td>MASCULINO</td>\n",
              "      <td>UNION LIBRE</td>\n",
              "      <td>COLOMBIA</td>\n",
              "      <td>EMPLEADO SALUD</td>\n",
              "      <td>NO REPORTADO</td>\n",
              "      <td>SECUNDARIA</td>\n",
              "      <td>91001000</td>\n",
              "      <td>2013.0</td>\n",
              "    </tr>\n",
              "    <tr>\n",
              "      <th>3</th>\n",
              "      <td>AMENAZA</td>\n",
              "      <td>2013-01-01</td>\n",
              "      <td>Martes</td>\n",
              "      <td>19:00</td>\n",
              "      <td>NaN</td>\n",
              "      <td>RURAL</td>\n",
              "      <td>NO DEFINIDO</td>\n",
              "      <td>CONTUNDENTES</td>\n",
              "      <td>A PIE</td>\n",
              "      <td>A PIE</td>\n",
              "      <td>26</td>\n",
              "      <td>MASCULINO</td>\n",
              "      <td>UNION LIBRE</td>\n",
              "      <td>COLOMBIA</td>\n",
              "      <td>AGRICULTOR</td>\n",
              "      <td>NO REPORTADO</td>\n",
              "      <td>SECUNDARIA</td>\n",
              "      <td>91001000</td>\n",
              "      <td>2013.0</td>\n",
              "    </tr>\n",
              "  </tbody>\n",
              "</table>\n",
              "</div>\n",
              "    <div class=\"colab-df-buttons\">\n",
              "\n",
              "  <div class=\"colab-df-container\">\n",
              "    <button class=\"colab-df-convert\" onclick=\"convertToInteractive('df-bce93cf8-f765-4d67-9bdf-444b709ae57c')\"\n",
              "            title=\"Convert this dataframe to an interactive table.\"\n",
              "            style=\"display:none;\">\n",
              "\n",
              "  <svg xmlns=\"http://www.w3.org/2000/svg\" height=\"24px\" viewBox=\"0 -960 960 960\">\n",
              "    <path d=\"M120-120v-720h720v720H120Zm60-500h600v-160H180v160Zm220 220h160v-160H400v160Zm0 220h160v-160H400v160ZM180-400h160v-160H180v160Zm440 0h160v-160H620v160ZM180-180h160v-160H180v160Zm440 0h160v-160H620v160Z\"/>\n",
              "  </svg>\n",
              "    </button>\n",
              "\n",
              "  <style>\n",
              "    .colab-df-container {\n",
              "      display:flex;\n",
              "      gap: 12px;\n",
              "    }\n",
              "\n",
              "    .colab-df-convert {\n",
              "      background-color: #E8F0FE;\n",
              "      border: none;\n",
              "      border-radius: 50%;\n",
              "      cursor: pointer;\n",
              "      display: none;\n",
              "      fill: #1967D2;\n",
              "      height: 32px;\n",
              "      padding: 0 0 0 0;\n",
              "      width: 32px;\n",
              "    }\n",
              "\n",
              "    .colab-df-convert:hover {\n",
              "      background-color: #E2EBFA;\n",
              "      box-shadow: 0px 1px 2px rgba(60, 64, 67, 0.3), 0px 1px 3px 1px rgba(60, 64, 67, 0.15);\n",
              "      fill: #174EA6;\n",
              "    }\n",
              "\n",
              "    .colab-df-buttons div {\n",
              "      margin-bottom: 4px;\n",
              "    }\n",
              "\n",
              "    [theme=dark] .colab-df-convert {\n",
              "      background-color: #3B4455;\n",
              "      fill: #D2E3FC;\n",
              "    }\n",
              "\n",
              "    [theme=dark] .colab-df-convert:hover {\n",
              "      background-color: #434B5C;\n",
              "      box-shadow: 0px 1px 3px 1px rgba(0, 0, 0, 0.15);\n",
              "      filter: drop-shadow(0px 1px 2px rgba(0, 0, 0, 0.3));\n",
              "      fill: #FFFFFF;\n",
              "    }\n",
              "  </style>\n",
              "\n",
              "    <script>\n",
              "      const buttonEl =\n",
              "        document.querySelector('#df-bce93cf8-f765-4d67-9bdf-444b709ae57c button.colab-df-convert');\n",
              "      buttonEl.style.display =\n",
              "        google.colab.kernel.accessAllowed ? 'block' : 'none';\n",
              "\n",
              "      async function convertToInteractive(key) {\n",
              "        const element = document.querySelector('#df-bce93cf8-f765-4d67-9bdf-444b709ae57c');\n",
              "        const dataTable =\n",
              "          await google.colab.kernel.invokeFunction('convertToInteractive',\n",
              "                                                    [key], {});\n",
              "        if (!dataTable) return;\n",
              "\n",
              "        const docLinkHtml = 'Like what you see? Visit the ' +\n",
              "          '<a target=\"_blank\" href=https://colab.research.google.com/notebooks/data_table.ipynb>data table notebook</a>'\n",
              "          + ' to learn more about interactive tables.';\n",
              "        element.innerHTML = '';\n",
              "        dataTable['output_type'] = 'display_data';\n",
              "        await google.colab.output.renderOutput(dataTable, element);\n",
              "        const docLink = document.createElement('div');\n",
              "        docLink.innerHTML = docLinkHtml;\n",
              "        element.appendChild(docLink);\n",
              "      }\n",
              "    </script>\n",
              "  </div>\n",
              "\n",
              "\n",
              "<div id=\"df-6c56a08e-d8ad-43d0-a136-5e64fff09c27\">\n",
              "  <button class=\"colab-df-quickchart\" onclick=\"quickchart('df-6c56a08e-d8ad-43d0-a136-5e64fff09c27')\"\n",
              "            title=\"Suggest charts\"\n",
              "            style=\"display:none;\">\n",
              "\n",
              "<svg xmlns=\"http://www.w3.org/2000/svg\" height=\"24px\"viewBox=\"0 0 24 24\"\n",
              "     width=\"24px\">\n",
              "    <g>\n",
              "        <path d=\"M19 3H5c-1.1 0-2 .9-2 2v14c0 1.1.9 2 2 2h14c1.1 0 2-.9 2-2V5c0-1.1-.9-2-2-2zM9 17H7v-7h2v7zm4 0h-2V7h2v10zm4 0h-2v-4h2v4z\"/>\n",
              "    </g>\n",
              "</svg>\n",
              "  </button>\n",
              "\n",
              "<style>\n",
              "  .colab-df-quickchart {\n",
              "      --bg-color: #E8F0FE;\n",
              "      --fill-color: #1967D2;\n",
              "      --hover-bg-color: #E2EBFA;\n",
              "      --hover-fill-color: #174EA6;\n",
              "      --disabled-fill-color: #AAA;\n",
              "      --disabled-bg-color: #DDD;\n",
              "  }\n",
              "\n",
              "  [theme=dark] .colab-df-quickchart {\n",
              "      --bg-color: #3B4455;\n",
              "      --fill-color: #D2E3FC;\n",
              "      --hover-bg-color: #434B5C;\n",
              "      --hover-fill-color: #FFFFFF;\n",
              "      --disabled-bg-color: #3B4455;\n",
              "      --disabled-fill-color: #666;\n",
              "  }\n",
              "\n",
              "  .colab-df-quickchart {\n",
              "    background-color: var(--bg-color);\n",
              "    border: none;\n",
              "    border-radius: 50%;\n",
              "    cursor: pointer;\n",
              "    display: none;\n",
              "    fill: var(--fill-color);\n",
              "    height: 32px;\n",
              "    padding: 0;\n",
              "    width: 32px;\n",
              "  }\n",
              "\n",
              "  .colab-df-quickchart:hover {\n",
              "    background-color: var(--hover-bg-color);\n",
              "    box-shadow: 0 1px 2px rgba(60, 64, 67, 0.3), 0 1px 3px 1px rgba(60, 64, 67, 0.15);\n",
              "    fill: var(--button-hover-fill-color);\n",
              "  }\n",
              "\n",
              "  .colab-df-quickchart-complete:disabled,\n",
              "  .colab-df-quickchart-complete:disabled:hover {\n",
              "    background-color: var(--disabled-bg-color);\n",
              "    fill: var(--disabled-fill-color);\n",
              "    box-shadow: none;\n",
              "  }\n",
              "\n",
              "  .colab-df-spinner {\n",
              "    border: 2px solid var(--fill-color);\n",
              "    border-color: transparent;\n",
              "    border-bottom-color: var(--fill-color);\n",
              "    animation:\n",
              "      spin 1s steps(1) infinite;\n",
              "  }\n",
              "\n",
              "  @keyframes spin {\n",
              "    0% {\n",
              "      border-color: transparent;\n",
              "      border-bottom-color: var(--fill-color);\n",
              "      border-left-color: var(--fill-color);\n",
              "    }\n",
              "    20% {\n",
              "      border-color: transparent;\n",
              "      border-left-color: var(--fill-color);\n",
              "      border-top-color: var(--fill-color);\n",
              "    }\n",
              "    30% {\n",
              "      border-color: transparent;\n",
              "      border-left-color: var(--fill-color);\n",
              "      border-top-color: var(--fill-color);\n",
              "      border-right-color: var(--fill-color);\n",
              "    }\n",
              "    40% {\n",
              "      border-color: transparent;\n",
              "      border-right-color: var(--fill-color);\n",
              "      border-top-color: var(--fill-color);\n",
              "    }\n",
              "    60% {\n",
              "      border-color: transparent;\n",
              "      border-right-color: var(--fill-color);\n",
              "    }\n",
              "    80% {\n",
              "      border-color: transparent;\n",
              "      border-right-color: var(--fill-color);\n",
              "      border-bottom-color: var(--fill-color);\n",
              "    }\n",
              "    90% {\n",
              "      border-color: transparent;\n",
              "      border-bottom-color: var(--fill-color);\n",
              "    }\n",
              "  }\n",
              "</style>\n",
              "\n",
              "  <script>\n",
              "    async function quickchart(key) {\n",
              "      const quickchartButtonEl =\n",
              "        document.querySelector('#' + key + ' button');\n",
              "      quickchartButtonEl.disabled = true;  // To prevent multiple clicks.\n",
              "      quickchartButtonEl.classList.add('colab-df-spinner');\n",
              "      try {\n",
              "        const charts = await google.colab.kernel.invokeFunction(\n",
              "            'suggestCharts', [key], {});\n",
              "      } catch (error) {\n",
              "        console.error('Error during call to suggestCharts:', error);\n",
              "      }\n",
              "      quickchartButtonEl.classList.remove('colab-df-spinner');\n",
              "      quickchartButtonEl.classList.add('colab-df-quickchart-complete');\n",
              "    }\n",
              "    (() => {\n",
              "      let quickchartButtonEl =\n",
              "        document.querySelector('#df-6c56a08e-d8ad-43d0-a136-5e64fff09c27 button');\n",
              "      quickchartButtonEl.style.display =\n",
              "        google.colab.kernel.accessAllowed ? 'block' : 'none';\n",
              "    })();\n",
              "  </script>\n",
              "</div>\n",
              "\n",
              "    </div>\n",
              "  </div>\n"
            ],
            "application/vnd.google.colaboratory.intrinsic+json": {
              "type": "dataframe",
              "variable_name": "df1_2013"
            }
          },
          "metadata": {},
          "execution_count": 13
        }
      ],
      "source": [
        "df1_2013.head(4)"
      ]
    },
    {
      "cell_type": "code",
      "execution_count": 14,
      "metadata": {
        "colab": {
          "base_uri": "https://localhost:8080/",
          "height": 420
        },
        "id": "WU67u5UsfyRM",
        "outputId": "03f2f376-e32d-43dd-9711-3a506452d821",
        "scrolled": true
      },
      "outputs": [
        {
          "output_type": "execute_result",
          "data": {
            "text/plain": [
              "   TEMÁTICA       FECHA       DIA    HORA                        BARRIO  \\\n",
              "0  ABIGEATO  2014-01-01  Miércoles   4:00              VEREDA ANA MARIA   \n",
              "1  ABIGEATO  2014-01-01  Miércoles  18:00              VEREDA LAS ROSAS   \n",
              "2  ABIGEATO  2014-01-01  Miércoles   6:00  VEREDA SAN LUIS DE RIO NEGRO   \n",
              "3  ABIGEATO  2014-02-01     Jueves   1:00               QUEBRADA ARRIBA   \n",
              "\n",
              "    ZONA         CLASE SITIO        ARMA EMPLEADA MOVIL AGRESOR MOVIL VICTIMA  \\\n",
              "0  RURAL  FINCAS Y SIMILARES  SIN EMPLEO DE ARMAS         A PIE         A PIE   \n",
              "1  RURAL  FINCAS Y SIMILARES  SIN EMPLEO DE ARMAS         A PIE         A PIE   \n",
              "2  RURAL  FINCAS Y SIMILARES  SIN EMPLEO DE ARMAS         A PIE         A PIE   \n",
              "3  RURAL  FINCAS Y SIMILARES  SIN EMPLEO DE ARMAS         A PIE  NO REPORTADO   \n",
              "\n",
              "  EDAD       SEXO ESTADO CIVIL     PAIS NACE CLASE EMPLEADO     PROFESION  \\\n",
              "0   27   FEMENINO      SOLTERO      COLOMBIA  INDEPENDIENTE  NO REPORTADO   \n",
              "1   46  MASCULINO       CASADO      COLOMBIA     AGRICULTOR  NO REPORTADO   \n",
              "2   62  MASCULINO       CASADO  NO REPORTADO     AGRICULTOR  NO REPORTADO   \n",
              "3   25  MASCULINO       CASADO      COLOMBIA     AGRICULTOR  NO REPORTADO   \n",
              "\n",
              "  ESCOLARIDAD  CODIGO DANE     AÑO  \n",
              "0    SUPERIOR     47058000  2014.0  \n",
              "1  SECUNDARIA     50330000  2014.0  \n",
              "2    PRIMARIA     50573000  2014.0  \n",
              "3    PRIMARIA      5034000  2014.0  "
            ],
            "text/html": [
              "\n",
              "  <div id=\"df-9dd72159-6bc6-4e48-93a4-660c9fbfc0bc\" class=\"colab-df-container\">\n",
              "    <div>\n",
              "<style scoped>\n",
              "    .dataframe tbody tr th:only-of-type {\n",
              "        vertical-align: middle;\n",
              "    }\n",
              "\n",
              "    .dataframe tbody tr th {\n",
              "        vertical-align: top;\n",
              "    }\n",
              "\n",
              "    .dataframe thead th {\n",
              "        text-align: right;\n",
              "    }\n",
              "</style>\n",
              "<table border=\"1\" class=\"dataframe\">\n",
              "  <thead>\n",
              "    <tr style=\"text-align: right;\">\n",
              "      <th></th>\n",
              "      <th>TEMÁTICA</th>\n",
              "      <th>FECHA</th>\n",
              "      <th>DIA</th>\n",
              "      <th>HORA</th>\n",
              "      <th>BARRIO</th>\n",
              "      <th>ZONA</th>\n",
              "      <th>CLASE SITIO</th>\n",
              "      <th>ARMA EMPLEADA</th>\n",
              "      <th>MOVIL AGRESOR</th>\n",
              "      <th>MOVIL VICTIMA</th>\n",
              "      <th>EDAD</th>\n",
              "      <th>SEXO</th>\n",
              "      <th>ESTADO CIVIL</th>\n",
              "      <th>PAIS NACE</th>\n",
              "      <th>CLASE EMPLEADO</th>\n",
              "      <th>PROFESION</th>\n",
              "      <th>ESCOLARIDAD</th>\n",
              "      <th>CODIGO DANE</th>\n",
              "      <th>AÑO</th>\n",
              "    </tr>\n",
              "  </thead>\n",
              "  <tbody>\n",
              "    <tr>\n",
              "      <th>0</th>\n",
              "      <td>ABIGEATO</td>\n",
              "      <td>2014-01-01</td>\n",
              "      <td>Miércoles</td>\n",
              "      <td>4:00</td>\n",
              "      <td>VEREDA ANA MARIA</td>\n",
              "      <td>RURAL</td>\n",
              "      <td>FINCAS Y SIMILARES</td>\n",
              "      <td>SIN EMPLEO DE ARMAS</td>\n",
              "      <td>A PIE</td>\n",
              "      <td>A PIE</td>\n",
              "      <td>27</td>\n",
              "      <td>FEMENINO</td>\n",
              "      <td>SOLTERO</td>\n",
              "      <td>COLOMBIA</td>\n",
              "      <td>INDEPENDIENTE</td>\n",
              "      <td>NO REPORTADO</td>\n",
              "      <td>SUPERIOR</td>\n",
              "      <td>47058000</td>\n",
              "      <td>2014.0</td>\n",
              "    </tr>\n",
              "    <tr>\n",
              "      <th>1</th>\n",
              "      <td>ABIGEATO</td>\n",
              "      <td>2014-01-01</td>\n",
              "      <td>Miércoles</td>\n",
              "      <td>18:00</td>\n",
              "      <td>VEREDA LAS ROSAS</td>\n",
              "      <td>RURAL</td>\n",
              "      <td>FINCAS Y SIMILARES</td>\n",
              "      <td>SIN EMPLEO DE ARMAS</td>\n",
              "      <td>A PIE</td>\n",
              "      <td>A PIE</td>\n",
              "      <td>46</td>\n",
              "      <td>MASCULINO</td>\n",
              "      <td>CASADO</td>\n",
              "      <td>COLOMBIA</td>\n",
              "      <td>AGRICULTOR</td>\n",
              "      <td>NO REPORTADO</td>\n",
              "      <td>SECUNDARIA</td>\n",
              "      <td>50330000</td>\n",
              "      <td>2014.0</td>\n",
              "    </tr>\n",
              "    <tr>\n",
              "      <th>2</th>\n",
              "      <td>ABIGEATO</td>\n",
              "      <td>2014-01-01</td>\n",
              "      <td>Miércoles</td>\n",
              "      <td>6:00</td>\n",
              "      <td>VEREDA SAN LUIS DE RIO NEGRO</td>\n",
              "      <td>RURAL</td>\n",
              "      <td>FINCAS Y SIMILARES</td>\n",
              "      <td>SIN EMPLEO DE ARMAS</td>\n",
              "      <td>A PIE</td>\n",
              "      <td>A PIE</td>\n",
              "      <td>62</td>\n",
              "      <td>MASCULINO</td>\n",
              "      <td>CASADO</td>\n",
              "      <td>NO REPORTADO</td>\n",
              "      <td>AGRICULTOR</td>\n",
              "      <td>NO REPORTADO</td>\n",
              "      <td>PRIMARIA</td>\n",
              "      <td>50573000</td>\n",
              "      <td>2014.0</td>\n",
              "    </tr>\n",
              "    <tr>\n",
              "      <th>3</th>\n",
              "      <td>ABIGEATO</td>\n",
              "      <td>2014-02-01</td>\n",
              "      <td>Jueves</td>\n",
              "      <td>1:00</td>\n",
              "      <td>QUEBRADA ARRIBA</td>\n",
              "      <td>RURAL</td>\n",
              "      <td>FINCAS Y SIMILARES</td>\n",
              "      <td>SIN EMPLEO DE ARMAS</td>\n",
              "      <td>A PIE</td>\n",
              "      <td>NO REPORTADO</td>\n",
              "      <td>25</td>\n",
              "      <td>MASCULINO</td>\n",
              "      <td>CASADO</td>\n",
              "      <td>COLOMBIA</td>\n",
              "      <td>AGRICULTOR</td>\n",
              "      <td>NO REPORTADO</td>\n",
              "      <td>PRIMARIA</td>\n",
              "      <td>5034000</td>\n",
              "      <td>2014.0</td>\n",
              "    </tr>\n",
              "  </tbody>\n",
              "</table>\n",
              "</div>\n",
              "    <div class=\"colab-df-buttons\">\n",
              "\n",
              "  <div class=\"colab-df-container\">\n",
              "    <button class=\"colab-df-convert\" onclick=\"convertToInteractive('df-9dd72159-6bc6-4e48-93a4-660c9fbfc0bc')\"\n",
              "            title=\"Convert this dataframe to an interactive table.\"\n",
              "            style=\"display:none;\">\n",
              "\n",
              "  <svg xmlns=\"http://www.w3.org/2000/svg\" height=\"24px\" viewBox=\"0 -960 960 960\">\n",
              "    <path d=\"M120-120v-720h720v720H120Zm60-500h600v-160H180v160Zm220 220h160v-160H400v160Zm0 220h160v-160H400v160ZM180-400h160v-160H180v160Zm440 0h160v-160H620v160ZM180-180h160v-160H180v160Zm440 0h160v-160H620v160Z\"/>\n",
              "  </svg>\n",
              "    </button>\n",
              "\n",
              "  <style>\n",
              "    .colab-df-container {\n",
              "      display:flex;\n",
              "      gap: 12px;\n",
              "    }\n",
              "\n",
              "    .colab-df-convert {\n",
              "      background-color: #E8F0FE;\n",
              "      border: none;\n",
              "      border-radius: 50%;\n",
              "      cursor: pointer;\n",
              "      display: none;\n",
              "      fill: #1967D2;\n",
              "      height: 32px;\n",
              "      padding: 0 0 0 0;\n",
              "      width: 32px;\n",
              "    }\n",
              "\n",
              "    .colab-df-convert:hover {\n",
              "      background-color: #E2EBFA;\n",
              "      box-shadow: 0px 1px 2px rgba(60, 64, 67, 0.3), 0px 1px 3px 1px rgba(60, 64, 67, 0.15);\n",
              "      fill: #174EA6;\n",
              "    }\n",
              "\n",
              "    .colab-df-buttons div {\n",
              "      margin-bottom: 4px;\n",
              "    }\n",
              "\n",
              "    [theme=dark] .colab-df-convert {\n",
              "      background-color: #3B4455;\n",
              "      fill: #D2E3FC;\n",
              "    }\n",
              "\n",
              "    [theme=dark] .colab-df-convert:hover {\n",
              "      background-color: #434B5C;\n",
              "      box-shadow: 0px 1px 3px 1px rgba(0, 0, 0, 0.15);\n",
              "      filter: drop-shadow(0px 1px 2px rgba(0, 0, 0, 0.3));\n",
              "      fill: #FFFFFF;\n",
              "    }\n",
              "  </style>\n",
              "\n",
              "    <script>\n",
              "      const buttonEl =\n",
              "        document.querySelector('#df-9dd72159-6bc6-4e48-93a4-660c9fbfc0bc button.colab-df-convert');\n",
              "      buttonEl.style.display =\n",
              "        google.colab.kernel.accessAllowed ? 'block' : 'none';\n",
              "\n",
              "      async function convertToInteractive(key) {\n",
              "        const element = document.querySelector('#df-9dd72159-6bc6-4e48-93a4-660c9fbfc0bc');\n",
              "        const dataTable =\n",
              "          await google.colab.kernel.invokeFunction('convertToInteractive',\n",
              "                                                    [key], {});\n",
              "        if (!dataTable) return;\n",
              "\n",
              "        const docLinkHtml = 'Like what you see? Visit the ' +\n",
              "          '<a target=\"_blank\" href=https://colab.research.google.com/notebooks/data_table.ipynb>data table notebook</a>'\n",
              "          + ' to learn more about interactive tables.';\n",
              "        element.innerHTML = '';\n",
              "        dataTable['output_type'] = 'display_data';\n",
              "        await google.colab.output.renderOutput(dataTable, element);\n",
              "        const docLink = document.createElement('div');\n",
              "        docLink.innerHTML = docLinkHtml;\n",
              "        element.appendChild(docLink);\n",
              "      }\n",
              "    </script>\n",
              "  </div>\n",
              "\n",
              "\n",
              "<div id=\"df-8744f0b9-714b-44e9-8185-1b0bf5403291\">\n",
              "  <button class=\"colab-df-quickchart\" onclick=\"quickchart('df-8744f0b9-714b-44e9-8185-1b0bf5403291')\"\n",
              "            title=\"Suggest charts\"\n",
              "            style=\"display:none;\">\n",
              "\n",
              "<svg xmlns=\"http://www.w3.org/2000/svg\" height=\"24px\"viewBox=\"0 0 24 24\"\n",
              "     width=\"24px\">\n",
              "    <g>\n",
              "        <path d=\"M19 3H5c-1.1 0-2 .9-2 2v14c0 1.1.9 2 2 2h14c1.1 0 2-.9 2-2V5c0-1.1-.9-2-2-2zM9 17H7v-7h2v7zm4 0h-2V7h2v10zm4 0h-2v-4h2v4z\"/>\n",
              "    </g>\n",
              "</svg>\n",
              "  </button>\n",
              "\n",
              "<style>\n",
              "  .colab-df-quickchart {\n",
              "      --bg-color: #E8F0FE;\n",
              "      --fill-color: #1967D2;\n",
              "      --hover-bg-color: #E2EBFA;\n",
              "      --hover-fill-color: #174EA6;\n",
              "      --disabled-fill-color: #AAA;\n",
              "      --disabled-bg-color: #DDD;\n",
              "  }\n",
              "\n",
              "  [theme=dark] .colab-df-quickchart {\n",
              "      --bg-color: #3B4455;\n",
              "      --fill-color: #D2E3FC;\n",
              "      --hover-bg-color: #434B5C;\n",
              "      --hover-fill-color: #FFFFFF;\n",
              "      --disabled-bg-color: #3B4455;\n",
              "      --disabled-fill-color: #666;\n",
              "  }\n",
              "\n",
              "  .colab-df-quickchart {\n",
              "    background-color: var(--bg-color);\n",
              "    border: none;\n",
              "    border-radius: 50%;\n",
              "    cursor: pointer;\n",
              "    display: none;\n",
              "    fill: var(--fill-color);\n",
              "    height: 32px;\n",
              "    padding: 0;\n",
              "    width: 32px;\n",
              "  }\n",
              "\n",
              "  .colab-df-quickchart:hover {\n",
              "    background-color: var(--hover-bg-color);\n",
              "    box-shadow: 0 1px 2px rgba(60, 64, 67, 0.3), 0 1px 3px 1px rgba(60, 64, 67, 0.15);\n",
              "    fill: var(--button-hover-fill-color);\n",
              "  }\n",
              "\n",
              "  .colab-df-quickchart-complete:disabled,\n",
              "  .colab-df-quickchart-complete:disabled:hover {\n",
              "    background-color: var(--disabled-bg-color);\n",
              "    fill: var(--disabled-fill-color);\n",
              "    box-shadow: none;\n",
              "  }\n",
              "\n",
              "  .colab-df-spinner {\n",
              "    border: 2px solid var(--fill-color);\n",
              "    border-color: transparent;\n",
              "    border-bottom-color: var(--fill-color);\n",
              "    animation:\n",
              "      spin 1s steps(1) infinite;\n",
              "  }\n",
              "\n",
              "  @keyframes spin {\n",
              "    0% {\n",
              "      border-color: transparent;\n",
              "      border-bottom-color: var(--fill-color);\n",
              "      border-left-color: var(--fill-color);\n",
              "    }\n",
              "    20% {\n",
              "      border-color: transparent;\n",
              "      border-left-color: var(--fill-color);\n",
              "      border-top-color: var(--fill-color);\n",
              "    }\n",
              "    30% {\n",
              "      border-color: transparent;\n",
              "      border-left-color: var(--fill-color);\n",
              "      border-top-color: var(--fill-color);\n",
              "      border-right-color: var(--fill-color);\n",
              "    }\n",
              "    40% {\n",
              "      border-color: transparent;\n",
              "      border-right-color: var(--fill-color);\n",
              "      border-top-color: var(--fill-color);\n",
              "    }\n",
              "    60% {\n",
              "      border-color: transparent;\n",
              "      border-right-color: var(--fill-color);\n",
              "    }\n",
              "    80% {\n",
              "      border-color: transparent;\n",
              "      border-right-color: var(--fill-color);\n",
              "      border-bottom-color: var(--fill-color);\n",
              "    }\n",
              "    90% {\n",
              "      border-color: transparent;\n",
              "      border-bottom-color: var(--fill-color);\n",
              "    }\n",
              "  }\n",
              "</style>\n",
              "\n",
              "  <script>\n",
              "    async function quickchart(key) {\n",
              "      const quickchartButtonEl =\n",
              "        document.querySelector('#' + key + ' button');\n",
              "      quickchartButtonEl.disabled = true;  // To prevent multiple clicks.\n",
              "      quickchartButtonEl.classList.add('colab-df-spinner');\n",
              "      try {\n",
              "        const charts = await google.colab.kernel.invokeFunction(\n",
              "            'suggestCharts', [key], {});\n",
              "      } catch (error) {\n",
              "        console.error('Error during call to suggestCharts:', error);\n",
              "      }\n",
              "      quickchartButtonEl.classList.remove('colab-df-spinner');\n",
              "      quickchartButtonEl.classList.add('colab-df-quickchart-complete');\n",
              "    }\n",
              "    (() => {\n",
              "      let quickchartButtonEl =\n",
              "        document.querySelector('#df-8744f0b9-714b-44e9-8185-1b0bf5403291 button');\n",
              "      quickchartButtonEl.style.display =\n",
              "        google.colab.kernel.accessAllowed ? 'block' : 'none';\n",
              "    })();\n",
              "  </script>\n",
              "</div>\n",
              "\n",
              "    </div>\n",
              "  </div>\n"
            ],
            "application/vnd.google.colaboratory.intrinsic+json": {
              "type": "dataframe",
              "variable_name": "df1_2016"
            }
          },
          "metadata": {},
          "execution_count": 14
        }
      ],
      "source": [
        "df1_2016.head(4)"
      ]
    },
    {
      "cell_type": "code",
      "execution_count": 15,
      "metadata": {
        "id": "w23oW6UVfyRM"
      },
      "outputs": [],
      "source": [
        "# Union Vertical\n",
        "df_delitos = pd.concat([df1_2013,df1_2016])\n",
        "df_delitos.reset_index(drop = True, inplace = True)"
      ]
    },
    {
      "cell_type": "code",
      "execution_count": 16,
      "metadata": {
        "colab": {
          "base_uri": "https://localhost:8080/",
          "height": 184
        },
        "id": "rrcaj6B3fyRM",
        "outputId": "9e801532-eedb-4e66-f133-b01628b63344"
      },
      "outputs": [
        {
          "output_type": "execute_result",
          "data": {
            "text/plain": [
              "  TEMÁTICA       FECHA    DIA    HORA BARRIO    ZONA          CLASE SITIO  \\\n",
              "0  AMENAZA  2013-01-01  Martes   9:00    NaN  URBANA  CASAS DE HABITACION   \n",
              "1  AMENAZA  2013-01-01  Martes  10:00    NaN   RURAL   RESGUARDO INDÍGENA   \n",
              "\n",
              "   ARMA EMPLEADA MOVIL AGRESOR MOVIL VICTIMA EDAD       SEXO ESTADO CIVIL  \\\n",
              "0  ARMA DE FUEGO  NO REPORTADO  NO REPORTADO   58  MASCULINO      SOLTERO   \n",
              "1   CONTUNDENTES         A PIE         A PIE   35  MASCULINO      SOLTERO   \n",
              "\n",
              "  PAIS NACE       CLASE EMPLEADO     PROFESION ESCOLARIDAD  CODIGO DANE  \\\n",
              "0  COLOMBIA  EMPLEADO PARTICULAR  NO REPORTADO    SUPERIOR     91001000   \n",
              "1  COLOMBIA  EMPLEADO PARTICULAR  NO REPORTADO  SECUNDARIA     91001000   \n",
              "\n",
              "      AÑO  \n",
              "0  2013.0  \n",
              "1  2013.0  "
            ],
            "text/html": [
              "\n",
              "  <div id=\"df-7cb37e37-ed25-45a5-b225-2aa37d13f44a\" class=\"colab-df-container\">\n",
              "    <div>\n",
              "<style scoped>\n",
              "    .dataframe tbody tr th:only-of-type {\n",
              "        vertical-align: middle;\n",
              "    }\n",
              "\n",
              "    .dataframe tbody tr th {\n",
              "        vertical-align: top;\n",
              "    }\n",
              "\n",
              "    .dataframe thead th {\n",
              "        text-align: right;\n",
              "    }\n",
              "</style>\n",
              "<table border=\"1\" class=\"dataframe\">\n",
              "  <thead>\n",
              "    <tr style=\"text-align: right;\">\n",
              "      <th></th>\n",
              "      <th>TEMÁTICA</th>\n",
              "      <th>FECHA</th>\n",
              "      <th>DIA</th>\n",
              "      <th>HORA</th>\n",
              "      <th>BARRIO</th>\n",
              "      <th>ZONA</th>\n",
              "      <th>CLASE SITIO</th>\n",
              "      <th>ARMA EMPLEADA</th>\n",
              "      <th>MOVIL AGRESOR</th>\n",
              "      <th>MOVIL VICTIMA</th>\n",
              "      <th>EDAD</th>\n",
              "      <th>SEXO</th>\n",
              "      <th>ESTADO CIVIL</th>\n",
              "      <th>PAIS NACE</th>\n",
              "      <th>CLASE EMPLEADO</th>\n",
              "      <th>PROFESION</th>\n",
              "      <th>ESCOLARIDAD</th>\n",
              "      <th>CODIGO DANE</th>\n",
              "      <th>AÑO</th>\n",
              "    </tr>\n",
              "  </thead>\n",
              "  <tbody>\n",
              "    <tr>\n",
              "      <th>0</th>\n",
              "      <td>AMENAZA</td>\n",
              "      <td>2013-01-01</td>\n",
              "      <td>Martes</td>\n",
              "      <td>9:00</td>\n",
              "      <td>NaN</td>\n",
              "      <td>URBANA</td>\n",
              "      <td>CASAS DE HABITACION</td>\n",
              "      <td>ARMA DE FUEGO</td>\n",
              "      <td>NO REPORTADO</td>\n",
              "      <td>NO REPORTADO</td>\n",
              "      <td>58</td>\n",
              "      <td>MASCULINO</td>\n",
              "      <td>SOLTERO</td>\n",
              "      <td>COLOMBIA</td>\n",
              "      <td>EMPLEADO PARTICULAR</td>\n",
              "      <td>NO REPORTADO</td>\n",
              "      <td>SUPERIOR</td>\n",
              "      <td>91001000</td>\n",
              "      <td>2013.0</td>\n",
              "    </tr>\n",
              "    <tr>\n",
              "      <th>1</th>\n",
              "      <td>AMENAZA</td>\n",
              "      <td>2013-01-01</td>\n",
              "      <td>Martes</td>\n",
              "      <td>10:00</td>\n",
              "      <td>NaN</td>\n",
              "      <td>RURAL</td>\n",
              "      <td>RESGUARDO INDÍGENA</td>\n",
              "      <td>CONTUNDENTES</td>\n",
              "      <td>A PIE</td>\n",
              "      <td>A PIE</td>\n",
              "      <td>35</td>\n",
              "      <td>MASCULINO</td>\n",
              "      <td>SOLTERO</td>\n",
              "      <td>COLOMBIA</td>\n",
              "      <td>EMPLEADO PARTICULAR</td>\n",
              "      <td>NO REPORTADO</td>\n",
              "      <td>SECUNDARIA</td>\n",
              "      <td>91001000</td>\n",
              "      <td>2013.0</td>\n",
              "    </tr>\n",
              "  </tbody>\n",
              "</table>\n",
              "</div>\n",
              "    <div class=\"colab-df-buttons\">\n",
              "\n",
              "  <div class=\"colab-df-container\">\n",
              "    <button class=\"colab-df-convert\" onclick=\"convertToInteractive('df-7cb37e37-ed25-45a5-b225-2aa37d13f44a')\"\n",
              "            title=\"Convert this dataframe to an interactive table.\"\n",
              "            style=\"display:none;\">\n",
              "\n",
              "  <svg xmlns=\"http://www.w3.org/2000/svg\" height=\"24px\" viewBox=\"0 -960 960 960\">\n",
              "    <path d=\"M120-120v-720h720v720H120Zm60-500h600v-160H180v160Zm220 220h160v-160H400v160Zm0 220h160v-160H400v160ZM180-400h160v-160H180v160Zm440 0h160v-160H620v160ZM180-180h160v-160H180v160Zm440 0h160v-160H620v160Z\"/>\n",
              "  </svg>\n",
              "    </button>\n",
              "\n",
              "  <style>\n",
              "    .colab-df-container {\n",
              "      display:flex;\n",
              "      gap: 12px;\n",
              "    }\n",
              "\n",
              "    .colab-df-convert {\n",
              "      background-color: #E8F0FE;\n",
              "      border: none;\n",
              "      border-radius: 50%;\n",
              "      cursor: pointer;\n",
              "      display: none;\n",
              "      fill: #1967D2;\n",
              "      height: 32px;\n",
              "      padding: 0 0 0 0;\n",
              "      width: 32px;\n",
              "    }\n",
              "\n",
              "    .colab-df-convert:hover {\n",
              "      background-color: #E2EBFA;\n",
              "      box-shadow: 0px 1px 2px rgba(60, 64, 67, 0.3), 0px 1px 3px 1px rgba(60, 64, 67, 0.15);\n",
              "      fill: #174EA6;\n",
              "    }\n",
              "\n",
              "    .colab-df-buttons div {\n",
              "      margin-bottom: 4px;\n",
              "    }\n",
              "\n",
              "    [theme=dark] .colab-df-convert {\n",
              "      background-color: #3B4455;\n",
              "      fill: #D2E3FC;\n",
              "    }\n",
              "\n",
              "    [theme=dark] .colab-df-convert:hover {\n",
              "      background-color: #434B5C;\n",
              "      box-shadow: 0px 1px 3px 1px rgba(0, 0, 0, 0.15);\n",
              "      filter: drop-shadow(0px 1px 2px rgba(0, 0, 0, 0.3));\n",
              "      fill: #FFFFFF;\n",
              "    }\n",
              "  </style>\n",
              "\n",
              "    <script>\n",
              "      const buttonEl =\n",
              "        document.querySelector('#df-7cb37e37-ed25-45a5-b225-2aa37d13f44a button.colab-df-convert');\n",
              "      buttonEl.style.display =\n",
              "        google.colab.kernel.accessAllowed ? 'block' : 'none';\n",
              "\n",
              "      async function convertToInteractive(key) {\n",
              "        const element = document.querySelector('#df-7cb37e37-ed25-45a5-b225-2aa37d13f44a');\n",
              "        const dataTable =\n",
              "          await google.colab.kernel.invokeFunction('convertToInteractive',\n",
              "                                                    [key], {});\n",
              "        if (!dataTable) return;\n",
              "\n",
              "        const docLinkHtml = 'Like what you see? Visit the ' +\n",
              "          '<a target=\"_blank\" href=https://colab.research.google.com/notebooks/data_table.ipynb>data table notebook</a>'\n",
              "          + ' to learn more about interactive tables.';\n",
              "        element.innerHTML = '';\n",
              "        dataTable['output_type'] = 'display_data';\n",
              "        await google.colab.output.renderOutput(dataTable, element);\n",
              "        const docLink = document.createElement('div');\n",
              "        docLink.innerHTML = docLinkHtml;\n",
              "        element.appendChild(docLink);\n",
              "      }\n",
              "    </script>\n",
              "  </div>\n",
              "\n",
              "\n",
              "<div id=\"df-78219cae-6cb0-4a33-a45b-3ed41c9d0693\">\n",
              "  <button class=\"colab-df-quickchart\" onclick=\"quickchart('df-78219cae-6cb0-4a33-a45b-3ed41c9d0693')\"\n",
              "            title=\"Suggest charts\"\n",
              "            style=\"display:none;\">\n",
              "\n",
              "<svg xmlns=\"http://www.w3.org/2000/svg\" height=\"24px\"viewBox=\"0 0 24 24\"\n",
              "     width=\"24px\">\n",
              "    <g>\n",
              "        <path d=\"M19 3H5c-1.1 0-2 .9-2 2v14c0 1.1.9 2 2 2h14c1.1 0 2-.9 2-2V5c0-1.1-.9-2-2-2zM9 17H7v-7h2v7zm4 0h-2V7h2v10zm4 0h-2v-4h2v4z\"/>\n",
              "    </g>\n",
              "</svg>\n",
              "  </button>\n",
              "\n",
              "<style>\n",
              "  .colab-df-quickchart {\n",
              "      --bg-color: #E8F0FE;\n",
              "      --fill-color: #1967D2;\n",
              "      --hover-bg-color: #E2EBFA;\n",
              "      --hover-fill-color: #174EA6;\n",
              "      --disabled-fill-color: #AAA;\n",
              "      --disabled-bg-color: #DDD;\n",
              "  }\n",
              "\n",
              "  [theme=dark] .colab-df-quickchart {\n",
              "      --bg-color: #3B4455;\n",
              "      --fill-color: #D2E3FC;\n",
              "      --hover-bg-color: #434B5C;\n",
              "      --hover-fill-color: #FFFFFF;\n",
              "      --disabled-bg-color: #3B4455;\n",
              "      --disabled-fill-color: #666;\n",
              "  }\n",
              "\n",
              "  .colab-df-quickchart {\n",
              "    background-color: var(--bg-color);\n",
              "    border: none;\n",
              "    border-radius: 50%;\n",
              "    cursor: pointer;\n",
              "    display: none;\n",
              "    fill: var(--fill-color);\n",
              "    height: 32px;\n",
              "    padding: 0;\n",
              "    width: 32px;\n",
              "  }\n",
              "\n",
              "  .colab-df-quickchart:hover {\n",
              "    background-color: var(--hover-bg-color);\n",
              "    box-shadow: 0 1px 2px rgba(60, 64, 67, 0.3), 0 1px 3px 1px rgba(60, 64, 67, 0.15);\n",
              "    fill: var(--button-hover-fill-color);\n",
              "  }\n",
              "\n",
              "  .colab-df-quickchart-complete:disabled,\n",
              "  .colab-df-quickchart-complete:disabled:hover {\n",
              "    background-color: var(--disabled-bg-color);\n",
              "    fill: var(--disabled-fill-color);\n",
              "    box-shadow: none;\n",
              "  }\n",
              "\n",
              "  .colab-df-spinner {\n",
              "    border: 2px solid var(--fill-color);\n",
              "    border-color: transparent;\n",
              "    border-bottom-color: var(--fill-color);\n",
              "    animation:\n",
              "      spin 1s steps(1) infinite;\n",
              "  }\n",
              "\n",
              "  @keyframes spin {\n",
              "    0% {\n",
              "      border-color: transparent;\n",
              "      border-bottom-color: var(--fill-color);\n",
              "      border-left-color: var(--fill-color);\n",
              "    }\n",
              "    20% {\n",
              "      border-color: transparent;\n",
              "      border-left-color: var(--fill-color);\n",
              "      border-top-color: var(--fill-color);\n",
              "    }\n",
              "    30% {\n",
              "      border-color: transparent;\n",
              "      border-left-color: var(--fill-color);\n",
              "      border-top-color: var(--fill-color);\n",
              "      border-right-color: var(--fill-color);\n",
              "    }\n",
              "    40% {\n",
              "      border-color: transparent;\n",
              "      border-right-color: var(--fill-color);\n",
              "      border-top-color: var(--fill-color);\n",
              "    }\n",
              "    60% {\n",
              "      border-color: transparent;\n",
              "      border-right-color: var(--fill-color);\n",
              "    }\n",
              "    80% {\n",
              "      border-color: transparent;\n",
              "      border-right-color: var(--fill-color);\n",
              "      border-bottom-color: var(--fill-color);\n",
              "    }\n",
              "    90% {\n",
              "      border-color: transparent;\n",
              "      border-bottom-color: var(--fill-color);\n",
              "    }\n",
              "  }\n",
              "</style>\n",
              "\n",
              "  <script>\n",
              "    async function quickchart(key) {\n",
              "      const quickchartButtonEl =\n",
              "        document.querySelector('#' + key + ' button');\n",
              "      quickchartButtonEl.disabled = true;  // To prevent multiple clicks.\n",
              "      quickchartButtonEl.classList.add('colab-df-spinner');\n",
              "      try {\n",
              "        const charts = await google.colab.kernel.invokeFunction(\n",
              "            'suggestCharts', [key], {});\n",
              "      } catch (error) {\n",
              "        console.error('Error during call to suggestCharts:', error);\n",
              "      }\n",
              "      quickchartButtonEl.classList.remove('colab-df-spinner');\n",
              "      quickchartButtonEl.classList.add('colab-df-quickchart-complete');\n",
              "    }\n",
              "    (() => {\n",
              "      let quickchartButtonEl =\n",
              "        document.querySelector('#df-78219cae-6cb0-4a33-a45b-3ed41c9d0693 button');\n",
              "      quickchartButtonEl.style.display =\n",
              "        google.colab.kernel.accessAllowed ? 'block' : 'none';\n",
              "    })();\n",
              "  </script>\n",
              "</div>\n",
              "\n",
              "    </div>\n",
              "  </div>\n"
            ],
            "application/vnd.google.colaboratory.intrinsic+json": {
              "type": "dataframe",
              "variable_name": "df_delitos"
            }
          },
          "metadata": {},
          "execution_count": 16
        }
      ],
      "source": [
        "df_delitos.head(2)"
      ]
    },
    {
      "cell_type": "markdown",
      "metadata": {
        "id": "CePaAckPUHSg"
      },
      "source": [
        "- Convierta la variable CODIGO DANE en String. Adicionalmente valide que el tamaño de la variable CODIGO DANE sea de 5 caracteres. Si no es así, arréglela y quédese con los primeros 5 caracteres de cada valor.\n",
        "-Es importante evitar que variables de tipo número almacenen códigos de identificación. Cuándo hay códigos que inician con cero, como el DIVIPOLA del DANE para los departamentos Antioquia (05) y Atlántico (08), los ceros iniciales se pierden y el manejo del dato no es limpio. En el siguiente código veremos cómo verificar que los codigos sean consistentes y cómo podemos arreglar algunos problemas comunes."
      ]
    },
    {
      "cell_type": "code",
      "execution_count": 17,
      "metadata": {
        "colab": {
          "base_uri": "https://localhost:8080/"
        },
        "id": "nyOhJ3XCULy0",
        "outputId": "1bf6c963-1d90-44d0-c02d-6ef096933782"
      },
      "outputs": [
        {
          "output_type": "stream",
          "name": "stdout",
          "text": [
            "<class 'pandas.core.series.Series'>\n",
            "RangeIndex: 558815 entries, 0 to 558814\n",
            "Series name: CODIGO DANE\n",
            "Non-Null Count   Dtype \n",
            "--------------   ----- \n",
            "558815 non-null  object\n",
            "dtypes: object(1)\n",
            "memory usage: 4.3+ MB\n"
          ]
        }
      ],
      "source": [
        "# AYUDA: obtener información general de la variable que vamos a analizar\n",
        "df_delitos['CODIGO DANE'] = df_delitos['CODIGO DANE'].astype(str)\n",
        "df_delitos['CODIGO DANE'].info()"
      ]
    },
    {
      "cell_type": "markdown",
      "metadata": {
        "id": "Nm1GM2NR3RDj"
      },
      "source": [
        "Revisemos la longitud mínima y máxima de los códigos municipales."
      ]
    },
    {
      "cell_type": "code",
      "execution_count": 18,
      "metadata": {
        "colab": {
          "base_uri": "https://localhost:8080/"
        },
        "id": "C0pCWqEcppaM",
        "outputId": "1b632f74-7ea2-41c1-fc88-dd85971dd97a"
      },
      "outputs": [
        {
          "output_type": "stream",
          "name": "stdout",
          "text": [
            "mínimo \n",
            "7\n",
            "máximo \n",
            "8\n"
          ]
        }
      ],
      "source": [
        "longitud_minima = df_delitos['CODIGO DANE'].str.len().min()\n",
        "longitud_maxima = df_delitos['CODIGO DANE'].str.len().max()\n",
        "print(\"mínimo \" )\n",
        "print(longitud_minima)\n",
        "print(\"máximo \" )\n",
        "print(longitud_maxima)"
      ]
    },
    {
      "cell_type": "markdown",
      "metadata": {
        "id": "UZz8S-zf3PDZ"
      },
      "source": [
        "Vemos que hay 72771 observaciones que tiene un código mas corto de lo esperado"
      ]
    },
    {
      "cell_type": "code",
      "execution_count": 19,
      "metadata": {
        "colab": {
          "base_uri": "https://localhost:8080/"
        },
        "id": "okT_TlD900uH",
        "outputId": "588109bf-aff1-43ca-a049-756c61e52e71"
      },
      "outputs": [
        {
          "output_type": "execute_result",
          "data": {
            "text/plain": [
              "72771"
            ]
          },
          "metadata": {},
          "execution_count": 19
        }
      ],
      "source": [
        "sum(df_delitos['CODIGO DANE'].str.len()==7)"
      ]
    },
    {
      "cell_type": "markdown",
      "metadata": {
        "id": "7dnfdzT13MJw"
      },
      "source": [
        "y que, haciendo un enfoque a estos códigos, todos terminan con tres ceros \"000\", esto inica que la porción faltante del código es al inicio."
      ]
    },
    {
      "cell_type": "code",
      "execution_count": 20,
      "metadata": {
        "colab": {
          "base_uri": "https://localhost:8080/"
        },
        "id": "h009fazM17bN",
        "outputId": "3185a6d6-d533-4129-b63a-bd42749cfa94"
      },
      "outputs": [
        {
          "output_type": "execute_result",
          "data": {
            "text/plain": [
              "array(['5045000', '5051000', '5001000', '5837000', '8078000', '8001000',\n",
              "       '8634000', '8758000', '8433000', '5234000', '5665000', '8296000',\n",
              "       '8638000', '8573000', '5147000', '5490000', '5585000', '8421000',\n",
              "       '5579000', '5172000', '8560000', '8685000', '8849000', '8606000',\n",
              "       '8549000', '8520000', '8436000', '8372000', '8770000', '5154000',\n",
              "       '8137000', '8832000', '8141000', '8558000', '5353000', '5861000',\n",
              "       '5079000', '5088000', '5209000', '5212000', '5250000', '5266000',\n",
              "       '5360000', '5631000', '5761000', '5887000', '5034000', '5091000',\n",
              "       '5282000', '5364000', '5679000', '5895000', '5120000', '5809000',\n",
              "       '5129000', '5697000', '5284000', '5615000', '5854000', '5873000',\n",
              "       '5642000', '5670000', '5736000', '5842000', '5240000', '5380000',\n",
              "       '5480000', '5376000', '5030000', '5361000', '5789000', '5145000',\n",
              "       '5031000', '5686000', '5306000', '5674000', '5347000', '5604000',\n",
              "       '5310000', '5847000', '5107000', '5390000', '5040000', '5055000',\n",
              "       '5142000', '5308000', '5756000', '5093000', '5647000', '5819000',\n",
              "       '5002000', '5237000', '5038000', '5893000', '5440000', '5042000',\n",
              "       '5483000', '5659000', '5790000', '5125000', '5134000', '5190000',\n",
              "       '5101000', '5890000', '5021000', '5656000', '5318000', '5467000',\n",
              "       '5543000', '5591000', '5576000', '5607000', '5541000', '5313000',\n",
              "       '5044000', '8675000', '5148000', '5400000', '5315000', '5113000',\n",
              "       '5660000', '5321000', '5664000', '5206000', '5368000', '5658000',\n",
              "       '5264000', '5628000', '5690000', '5411000', '5036000', '5792000',\n",
              "       '5197000', '5858000', '5059000', '5856000', '5495000', '5138000',\n",
              "       '5649000', '5501000', '5885000', '5667000', '5086000', '5425000',\n",
              "       '5150000', '5652000', '5475000', '5004000'], dtype=object)"
            ]
          },
          "metadata": {},
          "execution_count": 20
        }
      ],
      "source": [
        "df_zoom=df_delitos[df_delitos['CODIGO DANE'].str.len()==7]\n",
        "pd.unique(df_zoom['CODIGO DANE'])"
      ]
    },
    {
      "cell_type": "markdown",
      "metadata": {
        "id": "gThnfcCv3gOd"
      },
      "source": [
        "Podemos usar la instrucción str.zfill para llenar con ceros una cadena de caracteres para completar una longitud deseada. Esto es, que todos nuestros códigos tengan 8 caracteres, agregando el cero faltante al inicio de los códigos de municipios de los departamentos Antioquia y Atlántico. </br>\n",
        "Note que llegar a estas conclusiones implica un conocimiento detallado de los datos que esta utilizando, que solo se obtiene investigando. Esto implica en gran parte conversar con expertos en el negocio antes, durante y después de la realización de los procesamientos y análisis."
      ]
    },
    {
      "cell_type": "code",
      "execution_count": 21,
      "metadata": {
        "id": "mumN1fi02c2I"
      },
      "outputs": [],
      "source": [
        "df_delitos['CODIGO DANE'] = df_delitos['CODIGO DANE'].str.zfill(longitud_maxima)\n"
      ]
    },
    {
      "cell_type": "markdown",
      "metadata": {
        "id": "P68GLP214poW"
      },
      "source": [
        "si buscamos a un código incompleto que indentificamos antes, este ya no está\n"
      ]
    },
    {
      "cell_type": "code",
      "execution_count": 22,
      "metadata": {
        "colab": {
          "base_uri": "https://localhost:8080/"
        },
        "id": "NBiY3alR4sJ7",
        "outputId": "5e627367-13b1-4ead-a451-41a9e091efd6"
      },
      "outputs": [
        {
          "output_type": "execute_result",
          "data": {
            "text/plain": [
              "0"
            ]
          },
          "metadata": {},
          "execution_count": 22
        }
      ],
      "source": [
        "sum(df_delitos['CODIGO DANE']==\"5045000\")\n"
      ]
    },
    {
      "cell_type": "markdown",
      "metadata": {
        "id": "Rf_Wc7lw4tq0"
      },
      "source": [
        "Si buscamos el resultado corregido, este si está. Y está 1570 veces. Esto quiere decir que en el conjunto de datos hay 1570 registros de delitos cometidos en el municipio \"05450\"\n"
      ]
    },
    {
      "cell_type": "code",
      "execution_count": 23,
      "metadata": {
        "colab": {
          "base_uri": "https://localhost:8080/"
        },
        "id": "zt7j92Ay4zV9",
        "outputId": "29a3772b-3678-4e2d-a4a7-c42cb32d5f78"
      },
      "outputs": [
        {
          "output_type": "execute_result",
          "data": {
            "text/plain": [
              "1570"
            ]
          },
          "metadata": {},
          "execution_count": 23
        }
      ],
      "source": [
        "sum(df_delitos['CODIGO DANE']==\"05045000\")"
      ]
    },
    {
      "cell_type": "markdown",
      "metadata": {
        "id": "ZrjeY3srVvHO"
      },
      "source": [
        "**Ahora sí** Debemos extraer los 5 caracteres del CODIGO DANE. Podemos usar la función apply y el parámetro lambda."
      ]
    },
    {
      "cell_type": "code",
      "execution_count": 24,
      "metadata": {
        "id": "3RnYGNncURAu"
      },
      "outputs": [],
      "source": [
        "df_delitos[\"CODIGO DANE\"] = df_delitos['CODIGO DANE'].apply(lambda x: x[0:5])"
      ]
    },
    {
      "cell_type": "code",
      "execution_count": 25,
      "metadata": {
        "colab": {
          "base_uri": "https://localhost:8080/"
        },
        "id": "wTYDk9ZEmJsF",
        "outputId": "5e69263a-61d8-447d-d06b-1176d631c0ac"
      },
      "outputs": [
        {
          "output_type": "execute_result",
          "data": {
            "text/plain": [
              "1570"
            ]
          },
          "metadata": {},
          "execution_count": 25
        }
      ],
      "source": [
        "sum(df_delitos[\"CODIGO DANE\"]==\"05045\")\n"
      ]
    },
    {
      "cell_type": "code",
      "execution_count": 26,
      "metadata": {
        "id": "cXlrAtcX5ib2"
      },
      "outputs": [],
      "source": [
        "# También podemos usar la funcion slice de pandas, que para este caso la especificamos así:\n",
        "# df['CODIGO DANE'] = df['CODIGO DANE'].str.slice(0, 5)\n",
        "# Documentación de la función en: https://pandas.pydata.org/docs/reference/api/pandas.Series.str.slice.html"
      ]
    },
    {
      "cell_type": "code",
      "execution_count": 27,
      "metadata": {
        "colab": {
          "base_uri": "https://localhost:8080/",
          "height": 241
        },
        "id": "e_YSClftVgK2",
        "outputId": "d1c34abd-5cb1-4f4c-f790-ee254137852c"
      },
      "outputs": [
        {
          "output_type": "execute_result",
          "data": {
            "text/plain": [
              "0    91001\n",
              "1    91001\n",
              "2    91001\n",
              "3    91001\n",
              "4    91001\n",
              "Name: CODIGO DANE, dtype: object"
            ],
            "text/html": [
              "<div>\n",
              "<style scoped>\n",
              "    .dataframe tbody tr th:only-of-type {\n",
              "        vertical-align: middle;\n",
              "    }\n",
              "\n",
              "    .dataframe tbody tr th {\n",
              "        vertical-align: top;\n",
              "    }\n",
              "\n",
              "    .dataframe thead th {\n",
              "        text-align: right;\n",
              "    }\n",
              "</style>\n",
              "<table border=\"1\" class=\"dataframe\">\n",
              "  <thead>\n",
              "    <tr style=\"text-align: right;\">\n",
              "      <th></th>\n",
              "      <th>CODIGO DANE</th>\n",
              "    </tr>\n",
              "  </thead>\n",
              "  <tbody>\n",
              "    <tr>\n",
              "      <th>0</th>\n",
              "      <td>91001</td>\n",
              "    </tr>\n",
              "    <tr>\n",
              "      <th>1</th>\n",
              "      <td>91001</td>\n",
              "    </tr>\n",
              "    <tr>\n",
              "      <th>2</th>\n",
              "      <td>91001</td>\n",
              "    </tr>\n",
              "    <tr>\n",
              "      <th>3</th>\n",
              "      <td>91001</td>\n",
              "    </tr>\n",
              "    <tr>\n",
              "      <th>4</th>\n",
              "      <td>91001</td>\n",
              "    </tr>\n",
              "  </tbody>\n",
              "</table>\n",
              "</div><br><label><b>dtype:</b> object</label>"
            ]
          },
          "metadata": {},
          "execution_count": 27
        }
      ],
      "source": [
        "df_delitos[\"CODIGO DANE\"].head()"
      ]
    },
    {
      "cell_type": "markdown",
      "metadata": {
        "id": "3ZvtMdW0fyRM"
      },
      "source": [
        "**3. Cargue de la base de municipios**"
      ]
    },
    {
      "cell_type": "markdown",
      "metadata": {
        "id": "mwqUwbWLfyRN"
      },
      "source": [
        "Al cargar tenga en cuenta en qué hoja que se encuentra la base de datos y la estructura de la misma."
      ]
    },
    {
      "cell_type": "code",
      "execution_count": 28,
      "metadata": {
        "colab": {
          "base_uri": "https://localhost:8080/",
          "height": 53
        },
        "id": "7OE1W0bRfyRN",
        "outputId": "72e8ff40-4f9e-438b-e5cb-a4696c786c49"
      },
      "outputs": [
        {
          "output_type": "execute_result",
          "data": {
            "text/plain": [
              "Empty DataFrame\n",
              "Columns: []\n",
              "Index: []"
            ],
            "text/html": [
              "\n",
              "  <div id=\"df-d9119867-fa7c-482c-afd7-7a839604f252\" class=\"colab-df-container\">\n",
              "    <div>\n",
              "<style scoped>\n",
              "    .dataframe tbody tr th:only-of-type {\n",
              "        vertical-align: middle;\n",
              "    }\n",
              "\n",
              "    .dataframe tbody tr th {\n",
              "        vertical-align: top;\n",
              "    }\n",
              "\n",
              "    .dataframe thead th {\n",
              "        text-align: right;\n",
              "    }\n",
              "</style>\n",
              "<table border=\"1\" class=\"dataframe\">\n",
              "  <thead>\n",
              "    <tr style=\"text-align: right;\">\n",
              "      <th></th>\n",
              "    </tr>\n",
              "  </thead>\n",
              "  <tbody>\n",
              "  </tbody>\n",
              "</table>\n",
              "</div>\n",
              "    <div class=\"colab-df-buttons\">\n",
              "\n",
              "  <div class=\"colab-df-container\">\n",
              "    <button class=\"colab-df-convert\" onclick=\"convertToInteractive('df-d9119867-fa7c-482c-afd7-7a839604f252')\"\n",
              "            title=\"Convert this dataframe to an interactive table.\"\n",
              "            style=\"display:none;\">\n",
              "\n",
              "  <svg xmlns=\"http://www.w3.org/2000/svg\" height=\"24px\" viewBox=\"0 -960 960 960\">\n",
              "    <path d=\"M120-120v-720h720v720H120Zm60-500h600v-160H180v160Zm220 220h160v-160H400v160Zm0 220h160v-160H400v160ZM180-400h160v-160H180v160Zm440 0h160v-160H620v160ZM180-180h160v-160H180v160Zm440 0h160v-160H620v160Z\"/>\n",
              "  </svg>\n",
              "    </button>\n",
              "\n",
              "  <style>\n",
              "    .colab-df-container {\n",
              "      display:flex;\n",
              "      gap: 12px;\n",
              "    }\n",
              "\n",
              "    .colab-df-convert {\n",
              "      background-color: #E8F0FE;\n",
              "      border: none;\n",
              "      border-radius: 50%;\n",
              "      cursor: pointer;\n",
              "      display: none;\n",
              "      fill: #1967D2;\n",
              "      height: 32px;\n",
              "      padding: 0 0 0 0;\n",
              "      width: 32px;\n",
              "    }\n",
              "\n",
              "    .colab-df-convert:hover {\n",
              "      background-color: #E2EBFA;\n",
              "      box-shadow: 0px 1px 2px rgba(60, 64, 67, 0.3), 0px 1px 3px 1px rgba(60, 64, 67, 0.15);\n",
              "      fill: #174EA6;\n",
              "    }\n",
              "\n",
              "    .colab-df-buttons div {\n",
              "      margin-bottom: 4px;\n",
              "    }\n",
              "\n",
              "    [theme=dark] .colab-df-convert {\n",
              "      background-color: #3B4455;\n",
              "      fill: #D2E3FC;\n",
              "    }\n",
              "\n",
              "    [theme=dark] .colab-df-convert:hover {\n",
              "      background-color: #434B5C;\n",
              "      box-shadow: 0px 1px 3px 1px rgba(0, 0, 0, 0.15);\n",
              "      filter: drop-shadow(0px 1px 2px rgba(0, 0, 0, 0.3));\n",
              "      fill: #FFFFFF;\n",
              "    }\n",
              "  </style>\n",
              "\n",
              "    <script>\n",
              "      const buttonEl =\n",
              "        document.querySelector('#df-d9119867-fa7c-482c-afd7-7a839604f252 button.colab-df-convert');\n",
              "      buttonEl.style.display =\n",
              "        google.colab.kernel.accessAllowed ? 'block' : 'none';\n",
              "\n",
              "      async function convertToInteractive(key) {\n",
              "        const element = document.querySelector('#df-d9119867-fa7c-482c-afd7-7a839604f252');\n",
              "        const dataTable =\n",
              "          await google.colab.kernel.invokeFunction('convertToInteractive',\n",
              "                                                    [key], {});\n",
              "        if (!dataTable) return;\n",
              "\n",
              "        const docLinkHtml = 'Like what you see? Visit the ' +\n",
              "          '<a target=\"_blank\" href=https://colab.research.google.com/notebooks/data_table.ipynb>data table notebook</a>'\n",
              "          + ' to learn more about interactive tables.';\n",
              "        element.innerHTML = '';\n",
              "        dataTable['output_type'] = 'display_data';\n",
              "        await google.colab.output.renderOutput(dataTable, element);\n",
              "        const docLink = document.createElement('div');\n",
              "        docLink.innerHTML = docLinkHtml;\n",
              "        element.appendChild(docLink);\n",
              "      }\n",
              "    </script>\n",
              "  </div>\n",
              "\n",
              "\n",
              "    </div>\n",
              "  </div>\n"
            ],
            "application/vnd.google.colaboratory.intrinsic+json": {
              "type": "dataframe",
              "variable_name": "df_municipios",
              "summary": "{\n  \"name\": \"df_municipios\",\n  \"rows\": 0,\n  \"fields\": []\n}"
            }
          },
          "metadata": {},
          "execution_count": 28
        }
      ],
      "source": [
        "# Si cargamos la base de datos con los parámetros por Default. Note que carga una hoja vacía.\n",
        "# Lo anterior, se debe a que se encuentra en la hoja \"MUNICIPIOS\", mencionada en la introducción del cuaderno.\n",
        "df_municipios = pd.read_excel(r'BASE_DPTO_MUNICIPIOS.xlsx')\n",
        "df_municipios.head(2)"
      ]
    },
    {
      "cell_type": "code",
      "execution_count": 29,
      "metadata": {
        "colab": {
          "base_uri": "https://localhost:8080/",
          "height": 175
        },
        "id": "h5zDWR7yfyRN",
        "outputId": "6c13c019-3aa5-4609-8903-764551cbbdcf"
      },
      "outputs": [
        {
          "output_type": "execute_result",
          "data": {
            "text/plain": [
              "  CODIGO DANE - MUNICIPIOS Unnamed: 1   Unnamed: 2 Unnamed: 3 Unnamed: 4  \\\n",
              "0                      NaN        NaN          NaN        NaN        NaN   \n",
              "1             DEPARTAMENTO  MUNICIPIO  CODIGO DANE       COL4       COL5   \n",
              "2                MAGDALENA   ARIGUANÍ        47058        NaN        NaN   \n",
              "3                     META    MESETAS        50330        NaN        NaN   \n",
              "\n",
              "  Unnamed: 5  \n",
              "0        NaN  \n",
              "1       COL6  \n",
              "2        NaN  \n",
              "3        NaN  "
            ],
            "text/html": [
              "\n",
              "  <div id=\"df-12cef091-3ced-4a2b-b338-7eae90a147a4\" class=\"colab-df-container\">\n",
              "    <div>\n",
              "<style scoped>\n",
              "    .dataframe tbody tr th:only-of-type {\n",
              "        vertical-align: middle;\n",
              "    }\n",
              "\n",
              "    .dataframe tbody tr th {\n",
              "        vertical-align: top;\n",
              "    }\n",
              "\n",
              "    .dataframe thead th {\n",
              "        text-align: right;\n",
              "    }\n",
              "</style>\n",
              "<table border=\"1\" class=\"dataframe\">\n",
              "  <thead>\n",
              "    <tr style=\"text-align: right;\">\n",
              "      <th></th>\n",
              "      <th>CODIGO DANE - MUNICIPIOS</th>\n",
              "      <th>Unnamed: 1</th>\n",
              "      <th>Unnamed: 2</th>\n",
              "      <th>Unnamed: 3</th>\n",
              "      <th>Unnamed: 4</th>\n",
              "      <th>Unnamed: 5</th>\n",
              "    </tr>\n",
              "  </thead>\n",
              "  <tbody>\n",
              "    <tr>\n",
              "      <th>0</th>\n",
              "      <td>NaN</td>\n",
              "      <td>NaN</td>\n",
              "      <td>NaN</td>\n",
              "      <td>NaN</td>\n",
              "      <td>NaN</td>\n",
              "      <td>NaN</td>\n",
              "    </tr>\n",
              "    <tr>\n",
              "      <th>1</th>\n",
              "      <td>DEPARTAMENTO</td>\n",
              "      <td>MUNICIPIO</td>\n",
              "      <td>CODIGO DANE</td>\n",
              "      <td>COL4</td>\n",
              "      <td>COL5</td>\n",
              "      <td>COL6</td>\n",
              "    </tr>\n",
              "    <tr>\n",
              "      <th>2</th>\n",
              "      <td>MAGDALENA</td>\n",
              "      <td>ARIGUANÍ</td>\n",
              "      <td>47058</td>\n",
              "      <td>NaN</td>\n",
              "      <td>NaN</td>\n",
              "      <td>NaN</td>\n",
              "    </tr>\n",
              "    <tr>\n",
              "      <th>3</th>\n",
              "      <td>META</td>\n",
              "      <td>MESETAS</td>\n",
              "      <td>50330</td>\n",
              "      <td>NaN</td>\n",
              "      <td>NaN</td>\n",
              "      <td>NaN</td>\n",
              "    </tr>\n",
              "  </tbody>\n",
              "</table>\n",
              "</div>\n",
              "    <div class=\"colab-df-buttons\">\n",
              "\n",
              "  <div class=\"colab-df-container\">\n",
              "    <button class=\"colab-df-convert\" onclick=\"convertToInteractive('df-12cef091-3ced-4a2b-b338-7eae90a147a4')\"\n",
              "            title=\"Convert this dataframe to an interactive table.\"\n",
              "            style=\"display:none;\">\n",
              "\n",
              "  <svg xmlns=\"http://www.w3.org/2000/svg\" height=\"24px\" viewBox=\"0 -960 960 960\">\n",
              "    <path d=\"M120-120v-720h720v720H120Zm60-500h600v-160H180v160Zm220 220h160v-160H400v160Zm0 220h160v-160H400v160ZM180-400h160v-160H180v160Zm440 0h160v-160H620v160ZM180-180h160v-160H180v160Zm440 0h160v-160H620v160Z\"/>\n",
              "  </svg>\n",
              "    </button>\n",
              "\n",
              "  <style>\n",
              "    .colab-df-container {\n",
              "      display:flex;\n",
              "      gap: 12px;\n",
              "    }\n",
              "\n",
              "    .colab-df-convert {\n",
              "      background-color: #E8F0FE;\n",
              "      border: none;\n",
              "      border-radius: 50%;\n",
              "      cursor: pointer;\n",
              "      display: none;\n",
              "      fill: #1967D2;\n",
              "      height: 32px;\n",
              "      padding: 0 0 0 0;\n",
              "      width: 32px;\n",
              "    }\n",
              "\n",
              "    .colab-df-convert:hover {\n",
              "      background-color: #E2EBFA;\n",
              "      box-shadow: 0px 1px 2px rgba(60, 64, 67, 0.3), 0px 1px 3px 1px rgba(60, 64, 67, 0.15);\n",
              "      fill: #174EA6;\n",
              "    }\n",
              "\n",
              "    .colab-df-buttons div {\n",
              "      margin-bottom: 4px;\n",
              "    }\n",
              "\n",
              "    [theme=dark] .colab-df-convert {\n",
              "      background-color: #3B4455;\n",
              "      fill: #D2E3FC;\n",
              "    }\n",
              "\n",
              "    [theme=dark] .colab-df-convert:hover {\n",
              "      background-color: #434B5C;\n",
              "      box-shadow: 0px 1px 3px 1px rgba(0, 0, 0, 0.15);\n",
              "      filter: drop-shadow(0px 1px 2px rgba(0, 0, 0, 0.3));\n",
              "      fill: #FFFFFF;\n",
              "    }\n",
              "  </style>\n",
              "\n",
              "    <script>\n",
              "      const buttonEl =\n",
              "        document.querySelector('#df-12cef091-3ced-4a2b-b338-7eae90a147a4 button.colab-df-convert');\n",
              "      buttonEl.style.display =\n",
              "        google.colab.kernel.accessAllowed ? 'block' : 'none';\n",
              "\n",
              "      async function convertToInteractive(key) {\n",
              "        const element = document.querySelector('#df-12cef091-3ced-4a2b-b338-7eae90a147a4');\n",
              "        const dataTable =\n",
              "          await google.colab.kernel.invokeFunction('convertToInteractive',\n",
              "                                                    [key], {});\n",
              "        if (!dataTable) return;\n",
              "\n",
              "        const docLinkHtml = 'Like what you see? Visit the ' +\n",
              "          '<a target=\"_blank\" href=https://colab.research.google.com/notebooks/data_table.ipynb>data table notebook</a>'\n",
              "          + ' to learn more about interactive tables.';\n",
              "        element.innerHTML = '';\n",
              "        dataTable['output_type'] = 'display_data';\n",
              "        await google.colab.output.renderOutput(dataTable, element);\n",
              "        const docLink = document.createElement('div');\n",
              "        docLink.innerHTML = docLinkHtml;\n",
              "        element.appendChild(docLink);\n",
              "      }\n",
              "    </script>\n",
              "  </div>\n",
              "\n",
              "\n",
              "<div id=\"df-3220be5b-cb98-49b9-844e-512c7548edef\">\n",
              "  <button class=\"colab-df-quickchart\" onclick=\"quickchart('df-3220be5b-cb98-49b9-844e-512c7548edef')\"\n",
              "            title=\"Suggest charts\"\n",
              "            style=\"display:none;\">\n",
              "\n",
              "<svg xmlns=\"http://www.w3.org/2000/svg\" height=\"24px\"viewBox=\"0 0 24 24\"\n",
              "     width=\"24px\">\n",
              "    <g>\n",
              "        <path d=\"M19 3H5c-1.1 0-2 .9-2 2v14c0 1.1.9 2 2 2h14c1.1 0 2-.9 2-2V5c0-1.1-.9-2-2-2zM9 17H7v-7h2v7zm4 0h-2V7h2v10zm4 0h-2v-4h2v4z\"/>\n",
              "    </g>\n",
              "</svg>\n",
              "  </button>\n",
              "\n",
              "<style>\n",
              "  .colab-df-quickchart {\n",
              "      --bg-color: #E8F0FE;\n",
              "      --fill-color: #1967D2;\n",
              "      --hover-bg-color: #E2EBFA;\n",
              "      --hover-fill-color: #174EA6;\n",
              "      --disabled-fill-color: #AAA;\n",
              "      --disabled-bg-color: #DDD;\n",
              "  }\n",
              "\n",
              "  [theme=dark] .colab-df-quickchart {\n",
              "      --bg-color: #3B4455;\n",
              "      --fill-color: #D2E3FC;\n",
              "      --hover-bg-color: #434B5C;\n",
              "      --hover-fill-color: #FFFFFF;\n",
              "      --disabled-bg-color: #3B4455;\n",
              "      --disabled-fill-color: #666;\n",
              "  }\n",
              "\n",
              "  .colab-df-quickchart {\n",
              "    background-color: var(--bg-color);\n",
              "    border: none;\n",
              "    border-radius: 50%;\n",
              "    cursor: pointer;\n",
              "    display: none;\n",
              "    fill: var(--fill-color);\n",
              "    height: 32px;\n",
              "    padding: 0;\n",
              "    width: 32px;\n",
              "  }\n",
              "\n",
              "  .colab-df-quickchart:hover {\n",
              "    background-color: var(--hover-bg-color);\n",
              "    box-shadow: 0 1px 2px rgba(60, 64, 67, 0.3), 0 1px 3px 1px rgba(60, 64, 67, 0.15);\n",
              "    fill: var(--button-hover-fill-color);\n",
              "  }\n",
              "\n",
              "  .colab-df-quickchart-complete:disabled,\n",
              "  .colab-df-quickchart-complete:disabled:hover {\n",
              "    background-color: var(--disabled-bg-color);\n",
              "    fill: var(--disabled-fill-color);\n",
              "    box-shadow: none;\n",
              "  }\n",
              "\n",
              "  .colab-df-spinner {\n",
              "    border: 2px solid var(--fill-color);\n",
              "    border-color: transparent;\n",
              "    border-bottom-color: var(--fill-color);\n",
              "    animation:\n",
              "      spin 1s steps(1) infinite;\n",
              "  }\n",
              "\n",
              "  @keyframes spin {\n",
              "    0% {\n",
              "      border-color: transparent;\n",
              "      border-bottom-color: var(--fill-color);\n",
              "      border-left-color: var(--fill-color);\n",
              "    }\n",
              "    20% {\n",
              "      border-color: transparent;\n",
              "      border-left-color: var(--fill-color);\n",
              "      border-top-color: var(--fill-color);\n",
              "    }\n",
              "    30% {\n",
              "      border-color: transparent;\n",
              "      border-left-color: var(--fill-color);\n",
              "      border-top-color: var(--fill-color);\n",
              "      border-right-color: var(--fill-color);\n",
              "    }\n",
              "    40% {\n",
              "      border-color: transparent;\n",
              "      border-right-color: var(--fill-color);\n",
              "      border-top-color: var(--fill-color);\n",
              "    }\n",
              "    60% {\n",
              "      border-color: transparent;\n",
              "      border-right-color: var(--fill-color);\n",
              "    }\n",
              "    80% {\n",
              "      border-color: transparent;\n",
              "      border-right-color: var(--fill-color);\n",
              "      border-bottom-color: var(--fill-color);\n",
              "    }\n",
              "    90% {\n",
              "      border-color: transparent;\n",
              "      border-bottom-color: var(--fill-color);\n",
              "    }\n",
              "  }\n",
              "</style>\n",
              "\n",
              "  <script>\n",
              "    async function quickchart(key) {\n",
              "      const quickchartButtonEl =\n",
              "        document.querySelector('#' + key + ' button');\n",
              "      quickchartButtonEl.disabled = true;  // To prevent multiple clicks.\n",
              "      quickchartButtonEl.classList.add('colab-df-spinner');\n",
              "      try {\n",
              "        const charts = await google.colab.kernel.invokeFunction(\n",
              "            'suggestCharts', [key], {});\n",
              "      } catch (error) {\n",
              "        console.error('Error during call to suggestCharts:', error);\n",
              "      }\n",
              "      quickchartButtonEl.classList.remove('colab-df-spinner');\n",
              "      quickchartButtonEl.classList.add('colab-df-quickchart-complete');\n",
              "    }\n",
              "    (() => {\n",
              "      let quickchartButtonEl =\n",
              "        document.querySelector('#df-3220be5b-cb98-49b9-844e-512c7548edef button');\n",
              "      quickchartButtonEl.style.display =\n",
              "        google.colab.kernel.accessAllowed ? 'block' : 'none';\n",
              "    })();\n",
              "  </script>\n",
              "</div>\n",
              "\n",
              "    </div>\n",
              "  </div>\n"
            ],
            "application/vnd.google.colaboratory.intrinsic+json": {
              "type": "dataframe",
              "variable_name": "df_municipios",
              "summary": "{\n  \"name\": \"df_municipios\",\n  \"rows\": 1098,\n  \"fields\": [\n    {\n      \"column\": \"CODIGO DANE - MUNICIPIOS\",\n      \"properties\": {\n        \"dtype\": \"category\",\n        \"num_unique_values\": 33,\n        \"samples\": [\n          \"GUAIN\\u00cdA\",\n          \"QUIND\\u00cdO\",\n          \"PUTUMAYO\"\n        ],\n        \"semantic_type\": \"\",\n        \"description\": \"\"\n      }\n    },\n    {\n      \"column\": \"Unnamed: 1\",\n      \"properties\": {\n        \"dtype\": \"string\",\n        \"num_unique_values\": 1018,\n        \"samples\": [\n          \"PAJARITO\",\n          \"COGUA\",\n          \"RETIRO\"\n        ],\n        \"semantic_type\": \"\",\n        \"description\": \"\"\n      }\n    },\n    {\n      \"column\": \"Unnamed: 2\",\n      \"properties\": {\n        \"dtype\": \"string\",\n        \"num_unique_values\": 1097,\n        \"samples\": [\n          \"66682\",\n          \"76823\",\n          \"44855\"\n        ],\n        \"semantic_type\": \"\",\n        \"description\": \"\"\n      }\n    },\n    {\n      \"column\": \"Unnamed: 3\",\n      \"properties\": {\n        \"dtype\": \"category\",\n        \"num_unique_values\": 1,\n        \"samples\": [\n          \"COL4\"\n        ],\n        \"semantic_type\": \"\",\n        \"description\": \"\"\n      }\n    },\n    {\n      \"column\": \"Unnamed: 4\",\n      \"properties\": {\n        \"dtype\": \"category\",\n        \"num_unique_values\": 1,\n        \"samples\": [\n          \"COL5\"\n        ],\n        \"semantic_type\": \"\",\n        \"description\": \"\"\n      }\n    },\n    {\n      \"column\": \"Unnamed: 5\",\n      \"properties\": {\n        \"dtype\": \"category\",\n        \"num_unique_values\": 1,\n        \"samples\": [\n          \"COL6\"\n        ],\n        \"semantic_type\": \"\",\n        \"description\": \"\"\n      }\n    }\n  ]\n}"
            }
          },
          "metadata": {},
          "execution_count": 29
        }
      ],
      "source": [
        "# Seleccionando la hoja. Nos damos cuenta que en realidad las variables de la base empiezan en la fila 3.\n",
        "# Usamos el parámetro skiprows para cambiarlo\n",
        "df_municipios = pd.read_excel(r'BASE_DPTO_MUNICIPIOS.xlsx', sheet_name='MUNICIPIOS')\n",
        "df_municipios.head(4)"
      ]
    },
    {
      "cell_type": "code",
      "execution_count": 30,
      "metadata": {
        "colab": {
          "base_uri": "https://localhost:8080/",
          "height": 175
        },
        "id": "1-gFi7ZgfyRN",
        "outputId": "5b68f129-c2e4-41f7-9849-cfea4b96917e"
      },
      "outputs": [
        {
          "output_type": "execute_result",
          "data": {
            "text/plain": [
              "  DEPARTAMENTO     MUNICIPIO  CODIGO DANE  COL4  COL5  COL6\n",
              "0    MAGDALENA      ARIGUANÍ        47058   NaN   NaN   NaN\n",
              "1         META       MESETAS        50330   NaN   NaN   NaN\n",
              "2         META  PUERTO LÓPEZ        50573   NaN   NaN   NaN\n",
              "3    ANTIOQUIA         ANDES        50340   NaN   NaN   NaN"
            ],
            "text/html": [
              "\n",
              "  <div id=\"df-7d0d193e-ee4e-4df9-9536-7839daa1ba14\" class=\"colab-df-container\">\n",
              "    <div>\n",
              "<style scoped>\n",
              "    .dataframe tbody tr th:only-of-type {\n",
              "        vertical-align: middle;\n",
              "    }\n",
              "\n",
              "    .dataframe tbody tr th {\n",
              "        vertical-align: top;\n",
              "    }\n",
              "\n",
              "    .dataframe thead th {\n",
              "        text-align: right;\n",
              "    }\n",
              "</style>\n",
              "<table border=\"1\" class=\"dataframe\">\n",
              "  <thead>\n",
              "    <tr style=\"text-align: right;\">\n",
              "      <th></th>\n",
              "      <th>DEPARTAMENTO</th>\n",
              "      <th>MUNICIPIO</th>\n",
              "      <th>CODIGO DANE</th>\n",
              "      <th>COL4</th>\n",
              "      <th>COL5</th>\n",
              "      <th>COL6</th>\n",
              "    </tr>\n",
              "  </thead>\n",
              "  <tbody>\n",
              "    <tr>\n",
              "      <th>0</th>\n",
              "      <td>MAGDALENA</td>\n",
              "      <td>ARIGUANÍ</td>\n",
              "      <td>47058</td>\n",
              "      <td>NaN</td>\n",
              "      <td>NaN</td>\n",
              "      <td>NaN</td>\n",
              "    </tr>\n",
              "    <tr>\n",
              "      <th>1</th>\n",
              "      <td>META</td>\n",
              "      <td>MESETAS</td>\n",
              "      <td>50330</td>\n",
              "      <td>NaN</td>\n",
              "      <td>NaN</td>\n",
              "      <td>NaN</td>\n",
              "    </tr>\n",
              "    <tr>\n",
              "      <th>2</th>\n",
              "      <td>META</td>\n",
              "      <td>PUERTO LÓPEZ</td>\n",
              "      <td>50573</td>\n",
              "      <td>NaN</td>\n",
              "      <td>NaN</td>\n",
              "      <td>NaN</td>\n",
              "    </tr>\n",
              "    <tr>\n",
              "      <th>3</th>\n",
              "      <td>ANTIOQUIA</td>\n",
              "      <td>ANDES</td>\n",
              "      <td>50340</td>\n",
              "      <td>NaN</td>\n",
              "      <td>NaN</td>\n",
              "      <td>NaN</td>\n",
              "    </tr>\n",
              "  </tbody>\n",
              "</table>\n",
              "</div>\n",
              "    <div class=\"colab-df-buttons\">\n",
              "\n",
              "  <div class=\"colab-df-container\">\n",
              "    <button class=\"colab-df-convert\" onclick=\"convertToInteractive('df-7d0d193e-ee4e-4df9-9536-7839daa1ba14')\"\n",
              "            title=\"Convert this dataframe to an interactive table.\"\n",
              "            style=\"display:none;\">\n",
              "\n",
              "  <svg xmlns=\"http://www.w3.org/2000/svg\" height=\"24px\" viewBox=\"0 -960 960 960\">\n",
              "    <path d=\"M120-120v-720h720v720H120Zm60-500h600v-160H180v160Zm220 220h160v-160H400v160Zm0 220h160v-160H400v160ZM180-400h160v-160H180v160Zm440 0h160v-160H620v160ZM180-180h160v-160H180v160Zm440 0h160v-160H620v160Z\"/>\n",
              "  </svg>\n",
              "    </button>\n",
              "\n",
              "  <style>\n",
              "    .colab-df-container {\n",
              "      display:flex;\n",
              "      gap: 12px;\n",
              "    }\n",
              "\n",
              "    .colab-df-convert {\n",
              "      background-color: #E8F0FE;\n",
              "      border: none;\n",
              "      border-radius: 50%;\n",
              "      cursor: pointer;\n",
              "      display: none;\n",
              "      fill: #1967D2;\n",
              "      height: 32px;\n",
              "      padding: 0 0 0 0;\n",
              "      width: 32px;\n",
              "    }\n",
              "\n",
              "    .colab-df-convert:hover {\n",
              "      background-color: #E2EBFA;\n",
              "      box-shadow: 0px 1px 2px rgba(60, 64, 67, 0.3), 0px 1px 3px 1px rgba(60, 64, 67, 0.15);\n",
              "      fill: #174EA6;\n",
              "    }\n",
              "\n",
              "    .colab-df-buttons div {\n",
              "      margin-bottom: 4px;\n",
              "    }\n",
              "\n",
              "    [theme=dark] .colab-df-convert {\n",
              "      background-color: #3B4455;\n",
              "      fill: #D2E3FC;\n",
              "    }\n",
              "\n",
              "    [theme=dark] .colab-df-convert:hover {\n",
              "      background-color: #434B5C;\n",
              "      box-shadow: 0px 1px 3px 1px rgba(0, 0, 0, 0.15);\n",
              "      filter: drop-shadow(0px 1px 2px rgba(0, 0, 0, 0.3));\n",
              "      fill: #FFFFFF;\n",
              "    }\n",
              "  </style>\n",
              "\n",
              "    <script>\n",
              "      const buttonEl =\n",
              "        document.querySelector('#df-7d0d193e-ee4e-4df9-9536-7839daa1ba14 button.colab-df-convert');\n",
              "      buttonEl.style.display =\n",
              "        google.colab.kernel.accessAllowed ? 'block' : 'none';\n",
              "\n",
              "      async function convertToInteractive(key) {\n",
              "        const element = document.querySelector('#df-7d0d193e-ee4e-4df9-9536-7839daa1ba14');\n",
              "        const dataTable =\n",
              "          await google.colab.kernel.invokeFunction('convertToInteractive',\n",
              "                                                    [key], {});\n",
              "        if (!dataTable) return;\n",
              "\n",
              "        const docLinkHtml = 'Like what you see? Visit the ' +\n",
              "          '<a target=\"_blank\" href=https://colab.research.google.com/notebooks/data_table.ipynb>data table notebook</a>'\n",
              "          + ' to learn more about interactive tables.';\n",
              "        element.innerHTML = '';\n",
              "        dataTable['output_type'] = 'display_data';\n",
              "        await google.colab.output.renderOutput(dataTable, element);\n",
              "        const docLink = document.createElement('div');\n",
              "        docLink.innerHTML = docLinkHtml;\n",
              "        element.appendChild(docLink);\n",
              "      }\n",
              "    </script>\n",
              "  </div>\n",
              "\n",
              "\n",
              "<div id=\"df-c64074a4-4571-4842-96eb-3022b8574998\">\n",
              "  <button class=\"colab-df-quickchart\" onclick=\"quickchart('df-c64074a4-4571-4842-96eb-3022b8574998')\"\n",
              "            title=\"Suggest charts\"\n",
              "            style=\"display:none;\">\n",
              "\n",
              "<svg xmlns=\"http://www.w3.org/2000/svg\" height=\"24px\"viewBox=\"0 0 24 24\"\n",
              "     width=\"24px\">\n",
              "    <g>\n",
              "        <path d=\"M19 3H5c-1.1 0-2 .9-2 2v14c0 1.1.9 2 2 2h14c1.1 0 2-.9 2-2V5c0-1.1-.9-2-2-2zM9 17H7v-7h2v7zm4 0h-2V7h2v10zm4 0h-2v-4h2v4z\"/>\n",
              "    </g>\n",
              "</svg>\n",
              "  </button>\n",
              "\n",
              "<style>\n",
              "  .colab-df-quickchart {\n",
              "      --bg-color: #E8F0FE;\n",
              "      --fill-color: #1967D2;\n",
              "      --hover-bg-color: #E2EBFA;\n",
              "      --hover-fill-color: #174EA6;\n",
              "      --disabled-fill-color: #AAA;\n",
              "      --disabled-bg-color: #DDD;\n",
              "  }\n",
              "\n",
              "  [theme=dark] .colab-df-quickchart {\n",
              "      --bg-color: #3B4455;\n",
              "      --fill-color: #D2E3FC;\n",
              "      --hover-bg-color: #434B5C;\n",
              "      --hover-fill-color: #FFFFFF;\n",
              "      --disabled-bg-color: #3B4455;\n",
              "      --disabled-fill-color: #666;\n",
              "  }\n",
              "\n",
              "  .colab-df-quickchart {\n",
              "    background-color: var(--bg-color);\n",
              "    border: none;\n",
              "    border-radius: 50%;\n",
              "    cursor: pointer;\n",
              "    display: none;\n",
              "    fill: var(--fill-color);\n",
              "    height: 32px;\n",
              "    padding: 0;\n",
              "    width: 32px;\n",
              "  }\n",
              "\n",
              "  .colab-df-quickchart:hover {\n",
              "    background-color: var(--hover-bg-color);\n",
              "    box-shadow: 0 1px 2px rgba(60, 64, 67, 0.3), 0 1px 3px 1px rgba(60, 64, 67, 0.15);\n",
              "    fill: var(--button-hover-fill-color);\n",
              "  }\n",
              "\n",
              "  .colab-df-quickchart-complete:disabled,\n",
              "  .colab-df-quickchart-complete:disabled:hover {\n",
              "    background-color: var(--disabled-bg-color);\n",
              "    fill: var(--disabled-fill-color);\n",
              "    box-shadow: none;\n",
              "  }\n",
              "\n",
              "  .colab-df-spinner {\n",
              "    border: 2px solid var(--fill-color);\n",
              "    border-color: transparent;\n",
              "    border-bottom-color: var(--fill-color);\n",
              "    animation:\n",
              "      spin 1s steps(1) infinite;\n",
              "  }\n",
              "\n",
              "  @keyframes spin {\n",
              "    0% {\n",
              "      border-color: transparent;\n",
              "      border-bottom-color: var(--fill-color);\n",
              "      border-left-color: var(--fill-color);\n",
              "    }\n",
              "    20% {\n",
              "      border-color: transparent;\n",
              "      border-left-color: var(--fill-color);\n",
              "      border-top-color: var(--fill-color);\n",
              "    }\n",
              "    30% {\n",
              "      border-color: transparent;\n",
              "      border-left-color: var(--fill-color);\n",
              "      border-top-color: var(--fill-color);\n",
              "      border-right-color: var(--fill-color);\n",
              "    }\n",
              "    40% {\n",
              "      border-color: transparent;\n",
              "      border-right-color: var(--fill-color);\n",
              "      border-top-color: var(--fill-color);\n",
              "    }\n",
              "    60% {\n",
              "      border-color: transparent;\n",
              "      border-right-color: var(--fill-color);\n",
              "    }\n",
              "    80% {\n",
              "      border-color: transparent;\n",
              "      border-right-color: var(--fill-color);\n",
              "      border-bottom-color: var(--fill-color);\n",
              "    }\n",
              "    90% {\n",
              "      border-color: transparent;\n",
              "      border-bottom-color: var(--fill-color);\n",
              "    }\n",
              "  }\n",
              "</style>\n",
              "\n",
              "  <script>\n",
              "    async function quickchart(key) {\n",
              "      const quickchartButtonEl =\n",
              "        document.querySelector('#' + key + ' button');\n",
              "      quickchartButtonEl.disabled = true;  // To prevent multiple clicks.\n",
              "      quickchartButtonEl.classList.add('colab-df-spinner');\n",
              "      try {\n",
              "        const charts = await google.colab.kernel.invokeFunction(\n",
              "            'suggestCharts', [key], {});\n",
              "      } catch (error) {\n",
              "        console.error('Error during call to suggestCharts:', error);\n",
              "      }\n",
              "      quickchartButtonEl.classList.remove('colab-df-spinner');\n",
              "      quickchartButtonEl.classList.add('colab-df-quickchart-complete');\n",
              "    }\n",
              "    (() => {\n",
              "      let quickchartButtonEl =\n",
              "        document.querySelector('#df-c64074a4-4571-4842-96eb-3022b8574998 button');\n",
              "      quickchartButtonEl.style.display =\n",
              "        google.colab.kernel.accessAllowed ? 'block' : 'none';\n",
              "    })();\n",
              "  </script>\n",
              "</div>\n",
              "\n",
              "    </div>\n",
              "  </div>\n"
            ],
            "application/vnd.google.colaboratory.intrinsic+json": {
              "type": "dataframe",
              "variable_name": "df_municipios",
              "summary": "{\n  \"name\": \"df_municipios\",\n  \"rows\": 1096,\n  \"fields\": [\n    {\n      \"column\": \"DEPARTAMENTO\",\n      \"properties\": {\n        \"dtype\": \"category\",\n        \"num_unique_values\": 32,\n        \"samples\": [\n          \"SAN ANDR\\u00c9S\",\n          \"ARAUCA\",\n          \"NARI\\u00d1O\"\n        ],\n        \"semantic_type\": \"\",\n        \"description\": \"\"\n      }\n    },\n    {\n      \"column\": \"MUNICIPIO\",\n      \"properties\": {\n        \"dtype\": \"string\",\n        \"num_unique_values\": 1017,\n        \"samples\": [\n          \"\\u00daTICA\",\n          \"PALOCABILDO\",\n          \"MOMIL\"\n        ],\n        \"semantic_type\": \"\",\n        \"description\": \"\"\n      }\n    },\n    {\n      \"column\": \"CODIGO DANE\",\n      \"properties\": {\n        \"dtype\": \"number\",\n        \"std\": 23599,\n        \"min\": 11001,\n        \"max\": 99773,\n        \"num_unique_values\": 1096,\n        \"samples\": [\n          73504,\n          52685,\n          70473\n        ],\n        \"semantic_type\": \"\",\n        \"description\": \"\"\n      }\n    },\n    {\n      \"column\": \"COL4\",\n      \"properties\": {\n        \"dtype\": \"number\",\n        \"std\": null,\n        \"min\": null,\n        \"max\": null,\n        \"num_unique_values\": 0,\n        \"samples\": [],\n        \"semantic_type\": \"\",\n        \"description\": \"\"\n      }\n    },\n    {\n      \"column\": \"COL5\",\n      \"properties\": {\n        \"dtype\": \"number\",\n        \"std\": null,\n        \"min\": null,\n        \"max\": null,\n        \"num_unique_values\": 0,\n        \"samples\": [],\n        \"semantic_type\": \"\",\n        \"description\": \"\"\n      }\n    },\n    {\n      \"column\": \"COL6\",\n      \"properties\": {\n        \"dtype\": \"number\",\n        \"std\": null,\n        \"min\": null,\n        \"max\": null,\n        \"num_unique_values\": 0,\n        \"samples\": [],\n        \"semantic_type\": \"\",\n        \"description\": \"\"\n      }\n    }\n  ]\n}"
            }
          },
          "metadata": {},
          "execution_count": 30
        }
      ],
      "source": [
        "# Seleccionando la hoja. Nos damos cuenta que en realidad las variables de la base empiezan en la fila 3.\n",
        "# Usamos el parámetro skiprows para cambiarlo\n",
        "df_municipios = pd.read_excel(r'BASE_DPTO_MUNICIPIOS.xlsx', sheet_name='MUNICIPIOS', skiprows = 2)\n",
        "df_municipios.head(4)"
      ]
    },
    {
      "cell_type": "markdown",
      "metadata": {
        "id": "Zu1UL0m2fyRO"
      },
      "source": [
        "- Valide si todas las variables que cuenta la base de datos tienen información. De lo contrario elimínelas, no serán necesarias para el análisis.\n",
        "- Adicional, valide que la variable CODIGO DANE se encuentre en tipo string. Si no conviertala."
      ]
    },
    {
      "cell_type": "code",
      "execution_count": 31,
      "metadata": {
        "colab": {
          "base_uri": "https://localhost:8080/"
        },
        "id": "1YJMWmLUfyRO",
        "outputId": "198087e6-3ead-45a4-9ddd-5deb6f5d905e"
      },
      "outputs": [
        {
          "output_type": "stream",
          "name": "stdout",
          "text": [
            "<class 'pandas.core.frame.DataFrame'>\n",
            "RangeIndex: 1096 entries, 0 to 1095\n",
            "Data columns (total 6 columns):\n",
            " #   Column        Non-Null Count  Dtype  \n",
            "---  ------        --------------  -----  \n",
            " 0   DEPARTAMENTO  1096 non-null   object \n",
            " 1   MUNICIPIO     1096 non-null   object \n",
            " 2   CODIGO DANE   1096 non-null   int64  \n",
            " 3   COL4          0 non-null      float64\n",
            " 4   COL5          0 non-null      float64\n",
            " 5   COL6          0 non-null      float64\n",
            "dtypes: float64(3), int64(1), object(2)\n",
            "memory usage: 51.5+ KB\n"
          ]
        }
      ],
      "source": [
        "# Se evidencia que existen 3 variables con datos NULOS en todas sus observaciones.\n",
        "df_municipios.info()"
      ]
    },
    {
      "cell_type": "code",
      "execution_count": 32,
      "metadata": {
        "id": "uu76MDmXfyRO"
      },
      "outputs": [],
      "source": [
        "# Eliminamos variables sin información y reemplazamos la base con el parámetro inplace.\n",
        "df_municipios.drop(['COL4', 'COL5', 'COL6'], axis=1, inplace = True)"
      ]
    },
    {
      "cell_type": "code",
      "execution_count": 33,
      "metadata": {
        "id": "5jPIpjXtWwzF"
      },
      "outputs": [],
      "source": [
        "df_municipios['CODIGO DANE'] = df_municipios['CODIGO DANE'].astype(str)"
      ]
    },
    {
      "cell_type": "markdown",
      "metadata": {
        "id": "WASJH8YSq-RS"
      },
      "source": [
        "**OJO VALIDE TAMBIEN LOS CODIGO DANE, SI NO DEBE ARREGLAR LO QUE REALIZO ANTERIORMENTE**"
      ]
    },
    {
      "cell_type": "markdown",
      "metadata": {
        "id": "vtuUq5tgfyRP"
      },
      "source": [
        "**4.Los registros de la variable EDAD que aparecen como: NO REPORTADO, NO REPORTADO1, NO REPORTADA. Reemplacelos como Nan o vacio y convierta la variable edad en tipo númerica para realizar operaciones**"
      ]
    },
    {
      "cell_type": "code",
      "execution_count": 34,
      "metadata": {
        "id": "VkD6IxvdfyRP"
      },
      "outputs": [],
      "source": [
        "# AYUDA:\n",
        "# De esta forma los puede reemplazar\n",
        "import numpy as np\n",
        "df_delitos['EDAD'] = df_delitos['EDAD'].replace({\"NO REPORTADO\": np.nan, \"NO REPORTADA\": np.nan, \"NO REPORTADO1\":np.nan, '-':np.nan})\n",
        "# Convertir la variable EDAD a FLOAT\n",
        "df_delitos['EDAD'] = df_delitos['EDAD'].astype(float)"
      ]
    },
    {
      "cell_type": "markdown",
      "metadata": {
        "id": "CZYWqjKwfyRP"
      },
      "source": [
        "**5. En la base de delitos, cree una variable llamada CAT_EDAD que clasifique la edad de acuerdo a las etapas:**  ANALICE\n",
        "\n",
        "Datos nan, nulos o vacios (No reportados), Primera infancia (0-5 años), infancia (6 - 11 años), adolescencia (12-18 años), juventud (19 - 26 años), adultez (27 - 59 años) y vejez (60 años y más).\n",
        "\n",
        "**Tip: Utilizará condicionales y la función Apply (Definirá funciones). Puede validar vacíos con: np.isnan(Edad)**"
      ]
    },
    {
      "cell_type": "code",
      "execution_count": 35,
      "metadata": {
        "id": "kkKpj5MhfyRQ"
      },
      "outputs": [],
      "source": [
        "# Definir función CAT_EDAD\n",
        "def CAT_EDAD(Edad):\n",
        "    if np.isnan(Edad):\n",
        "        return 'No reportado'\n",
        "    elif Edad <= 5:\n",
        "        return 'Primera Infancia'\n",
        "    elif (Edad >= 6) & (Edad <= 11):\n",
        "        return 'Infancia'\n",
        "    elif (Edad >= 12) & (Edad <= 18):\n",
        "        return 'Adolescencia'\n",
        "    elif (Edad >= 19) & (Edad <= 26):\n",
        "        return 'Juventud'\n",
        "    elif (Edad >= 27) & (Edad <= 59):\n",
        "        return 'Adultez'\n",
        "    elif Edad >= 60:\n",
        "        return 'Vejez'\n",
        "    else:\n",
        "        return 'Sin dato'"
      ]
    },
    {
      "cell_type": "code",
      "execution_count": 36,
      "metadata": {
        "id": "aiql5AbOfyRQ",
        "scrolled": false
      },
      "outputs": [],
      "source": [
        "df_delitos['CAT_EDAD'] = df_delitos['EDAD'].apply(CAT_EDAD)"
      ]
    },
    {
      "cell_type": "markdown",
      "metadata": {
        "id": "04ja1GREZdiw"
      },
      "source": [
        "## ------------ A partir de este punto debe responder las preguntas con visualizaciones. Aborde los tipos de gráficos de acuerdo al tipo de variable y personalicelo. Tambien deje una breve conclusión que no supere una línea sea contundente."
      ]
    },
    {
      "cell_type": "markdown",
      "metadata": {
        "id": "lLFHqMogZdiw"
      },
      "source": [
        "**6. ¿Top 10 de los municipios con mayor número de hurtos en el periodo comprendido entre 2010 y 2016?**"
      ]
    },
    {
      "cell_type": "code",
      "execution_count": 36,
      "metadata": {
        "id": "cm6OWbOqIE4Z"
      },
      "outputs": [],
      "source": []
    },
    {
      "cell_type": "markdown",
      "metadata": {
        "id": "wqUG5EVgZdjJ"
      },
      "source": [
        "**7. Mediana de la edad de las victimas por modalidad**"
      ]
    },
    {
      "cell_type": "markdown",
      "metadata": {
        "id": "7Ya_eYBRZdjJ"
      },
      "source": [
        "**Tip:** Antes de generar cálculos, piense en cuáles gráficos le podría dar esta y más estadísticas."
      ]
    },
    {
      "cell_type": "markdown",
      "metadata": {
        "id": "zTtT-dVjZdjK"
      },
      "source": [
        ""
      ]
    },
    {
      "cell_type": "markdown",
      "metadata": {
        "id": "7JRySkGafyRg"
      },
      "source": [
        "**8. Top 5 de las armas empleadas en el delito 'HURTO A PERSONAS'** ANALICE"
      ]
    },
    {
      "cell_type": "code",
      "execution_count": 36,
      "metadata": {
        "id": "TTx6miqQIE4a"
      },
      "outputs": [],
      "source": []
    },
    {
      "cell_type": "markdown",
      "metadata": {
        "id": "mQUzo90XZdjL"
      },
      "source": [
        "**9. Tendencia de delitos en el año 2016**"
      ]
    },
    {
      "cell_type": "markdown",
      "metadata": {
        "id": "bo-nBzHzZdjL"
      },
      "source": [
        "**Tip:** Recuerde validar los tipos de variable, especialmente el de la fecha."
      ]
    },
    {
      "cell_type": "code",
      "execution_count": 36,
      "metadata": {
        "id": "FcE6HWzsIE4a"
      },
      "outputs": [],
      "source": []
    },
    {
      "cell_type": "markdown",
      "metadata": {
        "id": "icuWbPzvZdjQ"
      },
      "source": [
        "**10. Tendencia de delitos desde 2010 hasta 2016 por sexo**"
      ]
    },
    {
      "cell_type": "code",
      "execution_count": 36,
      "metadata": {
        "id": "A79uHX4hIE4b"
      },
      "outputs": [],
      "source": []
    },
    {
      "cell_type": "markdown",
      "metadata": {
        "id": "NTOQPqXKZdjU"
      },
      "source": [
        "**11. Días en los que se cometen una mayor cantidad de hurtos**"
      ]
    },
    {
      "cell_type": "code",
      "execution_count": 36,
      "metadata": {
        "id": "JLIl5gt_IE4b"
      },
      "outputs": [],
      "source": []
    },
    {
      "cell_type": "markdown",
      "metadata": {
        "id": "2WFV-zd_ZdjV"
      },
      "source": [
        "**12. Distribución de la variable edad**"
      ]
    },
    {
      "cell_type": "code",
      "execution_count": 36,
      "metadata": {
        "id": "xNZZkvL2IE4b"
      },
      "outputs": [],
      "source": []
    },
    {
      "cell_type": "markdown",
      "metadata": {
        "id": "9ShMTYZHZdjW"
      },
      "source": [
        "**13. Relación entre la escolaridad del empleado y la edad.**"
      ]
    },
    {
      "cell_type": "code",
      "execution_count": 36,
      "metadata": {
        "id": "FOhmGE0fiPtx"
      },
      "outputs": [],
      "source": []
    }
  ],
  "metadata": {
    "colab": {
      "provenance": [],
      "include_colab_link": true
    },
    "kernelspec": {
      "display_name": "Python 3",
      "language": "python",
      "name": "python3"
    },
    "language_info": {
      "codemirror_mode": {
        "name": "ipython",
        "version": 3
      },
      "file_extension": ".py",
      "mimetype": "text/x-python",
      "name": "python",
      "nbconvert_exporter": "python",
      "pygments_lexer": "ipython3",
      "version": "3.8.5"
    }
  },
  "nbformat": 4,
  "nbformat_minor": 0
}