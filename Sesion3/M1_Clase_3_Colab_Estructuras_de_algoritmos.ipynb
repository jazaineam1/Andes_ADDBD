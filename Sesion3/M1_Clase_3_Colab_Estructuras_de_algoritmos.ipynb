{
  "cells": [
    {
      "cell_type": "markdown",
      "metadata": {
        "id": "view-in-github",
        "colab_type": "text"
      },
      "source": [
        "<a href=\"https://colab.research.google.com/github/jazaineam1/Andes_ADDBD/blob/main/Sesion3/M1_Clase_3_Colab_Estructuras_de_algoritmos.ipynb\" target=\"_parent\"><img src=\"https://colab.research.google.com/assets/colab-badge.svg\" alt=\"Open In Colab\"/></a>"
      ]
    },
    {
      "cell_type": "markdown",
      "source": [
        "#***Análisis de Datos y Big data***\n",
        "\n",
        "## ***Universidad de los Andes***\n",
        ">## **Dirección de Educación Continua.**\n",
        ">>## **Formación de habilidades escenciales.**\n",
        "\n",
        "![Imágen1](https://github.com/jazaineam1/Andes_ADDBD/blob/main/Imagenes/Presentaci%C3%B3n-removebg-preview.png?raw=true)\n",
        "\n",
        "**Ver la presentación  [acá](https://github.com/jazaineam1/Andes_ADDBD/raw/main/Sesion3/M1%20-%20Clase%203%20-%20Estructuras%20Lógicas.pdf)**\n",
        "\n",
        "\n",
        "\n",
        "\n"
      ],
      "metadata": {
        "id": "7qHTrt6wcWBP"
      },
      "id": "7qHTrt6wcWBP"
    },
    {
      "cell_type": "markdown",
      "source": [
        "\n",
        "### Operadores en Python\n",
        "\n",
        "Python soporta varios tipos de operadores, que son símbolos especiales o palabras clave que llevan a cabo una operación entre uno o más operandos. Vamos a explorar los más comunes:\n",
        "\n",
        "#### 1. Operadores Aritméticos\n",
        "- **Suma (`+`)**: Suma dos operandos.\n",
        "- **Resta (`-`)**: Resta el segundo operando del primero.\n",
        "- **Multiplicación (`*`)**: Multiplica dos operandos.\n",
        "- **División (`/`)**: Divide el primer operando entre el segundo.\n",
        "- **Modulo (`%`)**: Devuelve el residuo de la división del primer operando por el segundo.\n",
        "- **Potencia ($\\text{**}$)**: Eleva el primer operando a la potencia del segundo.\n",
        "- **División Entera (`//`)**: Realiza la división y retorna el cociente, descartando la parte fraccional."
      ],
      "metadata": {
        "id": "vl6mcagXgyNB"
      },
      "id": "vl6mcagXgyNB"
    },
    {
      "cell_type": "code",
      "source": [
        "## haz la prueba de algunas operaciones en este campo e indica para que sirve la división entera\n"
      ],
      "metadata": {
        "id": "jj3m-5gmgvVi"
      },
      "id": "jj3m-5gmgvVi",
      "execution_count": 8,
      "outputs": []
    },
    {
      "cell_type": "markdown",
      "source": [
        "\n",
        "#### 2. Operadores de Comparación\n",
        "- **Igual (`==`)**: Comprueba si dos operandos son iguales.\n",
        "- **No igual (`!=`)**: Comprueba si dos operandos no son iguales.\n",
        "- **Mayor que (`>`)**: Comprueba si el operando izquierdo es mayor que el derecho.\n",
        "- **Menor que (`<`)**: Comprueba si el operando izquierdo es menor que el derecho.\n",
        "- **Mayor o igual que (`>=`)**: Comprueba si el operando izquierdo es mayor o igual al derecho.\n",
        "- **Menor o igual que (`<=`)**: Comprueba si el operando izquierdo es menor o igual al derecho."
      ],
      "metadata": {
        "id": "5EZusgYzh6TD"
      },
      "id": "5EZusgYzh6TD"
    },
    {
      "cell_type": "code",
      "source": [
        "a = 10\n",
        "b = 101\n",
        "a==b\n"
      ],
      "metadata": {
        "id": "R9abQrl2h3f5",
        "outputId": "cc8c8d4e-a5a7-468d-8a78-a1705440961b",
        "colab": {
          "base_uri": "https://localhost:8080/"
        }
      },
      "id": "R9abQrl2h3f5",
      "execution_count": 10,
      "outputs": [
        {
          "output_type": "execute_result",
          "data": {
            "text/plain": [
              "False"
            ]
          },
          "metadata": {},
          "execution_count": 10
        }
      ]
    },
    {
      "cell_type": "code",
      "source": [
        "a = 10\n",
        "b = 5\n",
        "a != b"
      ],
      "metadata": {
        "id": "1W0gmbywiMmf",
        "outputId": "3276c5ce-00a2-4f74-870f-a99316105680",
        "colab": {
          "base_uri": "https://localhost:8080/"
        }
      },
      "id": "1W0gmbywiMmf",
      "execution_count": 11,
      "outputs": [
        {
          "output_type": "execute_result",
          "data": {
            "text/plain": [
              "True"
            ]
          },
          "metadata": {},
          "execution_count": 11
        }
      ]
    },
    {
      "cell_type": "code",
      "source": [
        "a = 10\n",
        "b = 5\n",
        "a>b\n"
      ],
      "metadata": {
        "id": "OO5LXEtEiRr-",
        "outputId": "2ad5d78b-4ac8-4605-cded-2e647165c41b",
        "colab": {
          "base_uri": "https://localhost:8080/"
        }
      },
      "id": "OO5LXEtEiRr-",
      "execution_count": 12,
      "outputs": [
        {
          "output_type": "execute_result",
          "data": {
            "text/plain": [
              "True"
            ]
          },
          "metadata": {},
          "execution_count": 12
        }
      ]
    },
    {
      "cell_type": "code",
      "source": [
        "a = 'cosa'\n",
        "b = 'cOsa'\n",
        "a <= b\n"
      ],
      "metadata": {
        "id": "PrNAxXVCiX0e",
        "outputId": "938fcbd2-ae93-45a6-b482-6ddbda464bd3",
        "colab": {
          "base_uri": "https://localhost:8080/"
        }
      },
      "id": "PrNAxXVCiX0e",
      "execution_count": 15,
      "outputs": [
        {
          "output_type": "execute_result",
          "data": {
            "text/plain": [
              "False"
            ]
          },
          "metadata": {},
          "execution_count": 15
        }
      ]
    },
    {
      "cell_type": "code",
      "source": [
        "a = 10\n",
        "b = 10\n",
        "print(a >= b)  # Salida: True\n",
        "\n",
        "c = 15\n",
        "print(a >= c)  # Salida: False\n"
      ],
      "metadata": {
        "id": "TPFciN3micfr",
        "outputId": "dd379a00-c19b-49d4-995b-fd2c9446882e",
        "colab": {
          "base_uri": "https://localhost:8080/"
        }
      },
      "id": "TPFciN3micfr",
      "execution_count": 19,
      "outputs": [
        {
          "output_type": "stream",
          "name": "stdout",
          "text": [
            "True\n",
            "False\n"
          ]
        }
      ]
    },
    {
      "cell_type": "code",
      "source": [
        "a = 10\n",
        "b = 10\n",
        "print(a <= b)  # Salida: True\n",
        "\n",
        "c = 5\n",
        "print(a <= c)  # Salida: False\n"
      ],
      "metadata": {
        "id": "0LnPp-dlieT4",
        "outputId": "41addef2-dc18-4713-a89a-1e983da072b8",
        "colab": {
          "base_uri": "https://localhost:8080/"
        }
      },
      "id": "0LnPp-dlieT4",
      "execution_count": null,
      "outputs": [
        {
          "metadata": {
            "tags": null
          },
          "name": "stdout",
          "output_type": "stream",
          "text": [
            "True\n",
            "False\n"
          ]
        }
      ]
    },
    {
      "cell_type": "markdown",
      "source": [
        "\n",
        "\n",
        "\n",
        "#### 3. Operadores Lógicos\n",
        "- **And (`and`)**: Retorna True si ambos operandos son verdaderos.\n",
        "- **Or (`or`)**: Retorna True si al menos uno de los operandos es verdadero.\n",
        "- **Not (`not`)**: Niega el valor del operando.\n"
      ],
      "metadata": {
        "id": "bJH3K7owcPdf"
      },
      "id": "bJH3K7owcPdf"
    },
    {
      "cell_type": "code",
      "source": [
        "c = True\n",
        "d = False\n",
        "print('And:', c and d)  # False\n",
        "print('Or:', c or d)  # True\n",
        "print('Not:', not c)  # False"
      ],
      "metadata": {
        "id": "RQWPmYowcOvG",
        "outputId": "fd112503-f7b6-46ac-94fa-cbe1da7822a4",
        "colab": {
          "base_uri": "https://localhost:8080/"
        }
      },
      "id": "RQWPmYowcOvG",
      "execution_count": 20,
      "outputs": [
        {
          "output_type": "stream",
          "name": "stdout",
          "text": [
            "And: False\n",
            "Or: True\n",
            "Not: False\n"
          ]
        }
      ]
    },
    {
      "cell_type": "code",
      "source": [
        "True & False"
      ],
      "metadata": {
        "id": "eP740F644DJb",
        "outputId": "6846ef3e-4767-43b7-a00c-889e5c3bf327",
        "colab": {
          "base_uri": "https://localhost:8080/"
        }
      },
      "id": "eP740F644DJb",
      "execution_count": 23,
      "outputs": [
        {
          "output_type": "execute_result",
          "data": {
            "text/plain": [
              "False"
            ]
          },
          "metadata": {},
          "execution_count": 23
        }
      ]
    },
    {
      "cell_type": "code",
      "source": [
        "False | False"
      ],
      "metadata": {
        "id": "S3sHrk9c4Hg9",
        "outputId": "15936b56-37ac-480e-d6ce-c6c0024c7d93",
        "colab": {
          "base_uri": "https://localhost:8080/"
        }
      },
      "id": "S3sHrk9c4Hg9",
      "execution_count": 26,
      "outputs": [
        {
          "output_type": "execute_result",
          "data": {
            "text/plain": [
              "False"
            ]
          },
          "metadata": {},
          "execution_count": 26
        }
      ]
    },
    {
      "cell_type": "markdown",
      "id": "94a17bba",
      "metadata": {
        "id": "94a17bba"
      },
      "source": [
        "\n",
        "\n",
        "# Vamos a empezar a jugar con la estructura de un algoritmo\n",
        "Para esto vamos a usar algunas librerías pero son solo para decorar.\n",
        "\n",
        "De resto todo es propio de Python."
      ]
    },
    {
      "cell_type": "code",
      "source": [
        "def verificar(genero,Edad,hijos):\n",
        "  if (genero == \"F\") & (Edad<25) & (hijos>0):\n",
        "    output=\"Felicidades por el subsidio\"\n",
        "  else:\n",
        "    output=\"No es posible darte el  subsidio\"\n",
        "  return output"
      ],
      "metadata": {
        "id": "uuwbdStU-UUD"
      },
      "id": "uuwbdStU-UUD",
      "execution_count": 34,
      "outputs": []
    },
    {
      "cell_type": "code",
      "source": [
        "verificar(genero=\"F\",Edad=24,hijos=1)"
      ],
      "metadata": {
        "id": "1DaGbhE999IG",
        "colab": {
          "base_uri": "https://localhost:8080/",
          "height": 35
        },
        "outputId": "c2cf21e3-4885-4924-9bed-df79b68a6f64"
      },
      "id": "1DaGbhE999IG",
      "execution_count": 36,
      "outputs": [
        {
          "output_type": "execute_result",
          "data": {
            "text/plain": [
              "'Felicidades por el subsidio'"
            ],
            "application/vnd.google.colaboratory.intrinsic+json": {
              "type": "string"
            }
          },
          "metadata": {},
          "execution_count": 36
        }
      ]
    },
    {
      "cell_type": "code",
      "source": [
        "genero=\"M\"\n",
        "Edad=24\n",
        "hijos=1"
      ],
      "metadata": {
        "id": "YDM1nLo7GEgy"
      },
      "id": "YDM1nLo7GEgy",
      "execution_count": 40,
      "outputs": []
    },
    {
      "cell_type": "code",
      "source": [
        "if (genero == \"F\") & (Edad<25) & (hijos>0):\n",
        "  output=\"Felicidades por el subsidio\"\n",
        "else:\n",
        "  output=\"No es posible darte el  subsidio\""
      ],
      "metadata": {
        "id": "_9XNPMb1_UoA"
      },
      "id": "_9XNPMb1_UoA",
      "execution_count": 41,
      "outputs": []
    },
    {
      "cell_type": "code",
      "source": [
        "output"
      ],
      "metadata": {
        "colab": {
          "base_uri": "https://localhost:8080/",
          "height": 35
        },
        "id": "mWZVMohPGKQa",
        "outputId": "0ca3b4a3-76dc-482d-87f5-85fd7be8e6a2"
      },
      "id": "mWZVMohPGKQa",
      "execution_count": 42,
      "outputs": [
        {
          "output_type": "execute_result",
          "data": {
            "text/plain": [
              "'No es posible darte el  subsidio'"
            ],
            "application/vnd.google.colaboratory.intrinsic+json": {
              "type": "string"
            }
          },
          "metadata": {},
          "execution_count": 42
        }
      ]
    },
    {
      "cell_type": "code",
      "source": [
        "def subsidio():\n",
        "  genero = str(input('Ingrese el genero (M o F): '))\n",
        "  edad = int(input(\"Ingrese la edad: \"))\n",
        "  hijos = str(input(\"Tiene hijos? (S o N): \"))\n",
        "  if (genero.upper() == \"F\" and edad < 25 and hijos.upper() == \"S\"):\n",
        "    print(\"Es elegible para el subsidio\")\n",
        "  else:\n",
        "    print(\"NO es elegible para el subsidio\")"
      ],
      "metadata": {
        "id": "8KXlq6YwKXSt"
      },
      "id": "8KXlq6YwKXSt",
      "execution_count": 43,
      "outputs": []
    },
    {
      "cell_type": "code",
      "source": [
        "subsidio()"
      ],
      "metadata": {
        "colab": {
          "base_uri": "https://localhost:8080/"
        },
        "id": "H1kBMvt2KYjM",
        "outputId": "97306122-e8cc-46b9-cea4-276f7bfd20c6"
      },
      "id": "H1kBMvt2KYjM",
      "execution_count": 45,
      "outputs": [
        {
          "output_type": "stream",
          "name": "stdout",
          "text": [
            "Ingrese el genero (M o F): M\n",
            "Ingrese la edad: 24\n",
            "Tiene hijos? (S o N): S\n",
            "NO es elegible para el subsidio\n"
          ]
        }
      ]
    },
    {
      "cell_type": "markdown",
      "id": "d1444a87",
      "metadata": {
        "id": "d1444a87"
      },
      "source": [
        "# Librerías"
      ]
    },
    {
      "cell_type": "code",
      "source": [
        "import numpy as np"
      ],
      "metadata": {
        "id": "yGS7n9KQPngj"
      },
      "id": "yGS7n9KQPngj",
      "execution_count": 46,
      "outputs": []
    },
    {
      "cell_type": "code",
      "execution_count": 49,
      "id": "9a0dfc12",
      "metadata": {
        "id": "9a0dfc12"
      },
      "outputs": [],
      "source": [
        "from numpy import random"
      ]
    },
    {
      "cell_type": "markdown",
      "id": "fa8a77da",
      "metadata": {
        "id": "fa8a77da"
      },
      "source": [
        "# Loops"
      ]
    },
    {
      "cell_type": "markdown",
      "id": "b0e0ea38",
      "metadata": {
        "id": "b0e0ea38"
      },
      "source": [
        "## While Loop"
      ]
    },
    {
      "cell_type": "code",
      "execution_count": 71,
      "id": "53faa7d1",
      "metadata": {
        "id": "53faa7d1",
        "outputId": "fd484298-ea31-4148-cd0f-428a073e50e3",
        "colab": {
          "base_uri": "https://localhost:8080/"
        },
        "collapsed": true
      },
      "outputs": [
        {
          "output_type": "stream",
          "name": "stdout",
          "text": [
            "0\n",
            "6\n",
            "20\n",
            "31\n",
            "50\n",
            "64\n",
            "82\n",
            "88\n",
            "99\n",
            "100\n"
          ]
        }
      ],
      "source": [
        "x = 0\n",
        "while x <= 100:\n",
        "    print(x)\n",
        "    x = x + random.randint(1, 20)"
      ]
    },
    {
      "cell_type": "code",
      "source": [
        "# Creemos un loop donde agregemos elementos a una lista de mercado hasta que agregemos la palabra fin.\n",
        "# Usemos la función input()\n",
        "\n",
        "bolsa=[\"agua\",\"leche\"]\n",
        "ingredientes=''\n",
        "while ingredientes.upper()!='FIN':\n",
        "  ingredientes=input('ingresar el ingrediente: ')\n",
        "  bolsa.append(ingredientes)\n"
      ],
      "metadata": {
        "id": "aswi3z6dKZAa",
        "outputId": "1720a656-ceb8-46b3-9496-f958718b71b3",
        "colab": {
          "base_uri": "https://localhost:8080/"
        }
      },
      "id": "aswi3z6dKZAa",
      "execution_count": 74,
      "outputs": [
        {
          "name": "stdout",
          "output_type": "stream",
          "text": [
            "ingresar el ingrediente: azucar\n",
            "ingresar el ingrediente: fin\n"
          ]
        }
      ]
    },
    {
      "cell_type": "code",
      "source": [
        "bolsa"
      ],
      "metadata": {
        "id": "VaykNhd1Mjyv",
        "colab": {
          "base_uri": "https://localhost:8080/"
        },
        "outputId": "4e9197f2-b5eb-49a3-b6b3-0d6556e06082"
      },
      "id": "VaykNhd1Mjyv",
      "execution_count": 75,
      "outputs": [
        {
          "output_type": "execute_result",
          "data": {
            "text/plain": [
              "['agua', 'leche', 'azucar', 'fin']"
            ]
          },
          "metadata": {},
          "execution_count": 75
        }
      ]
    },
    {
      "cell_type": "markdown",
      "id": "3fd59842",
      "metadata": {
        "id": "3fd59842"
      },
      "source": [
        "## For Loops"
      ]
    },
    {
      "cell_type": "markdown",
      "id": "883e0c3f",
      "metadata": {
        "id": "883e0c3f"
      },
      "source": [
        "Vamos a jugar con los for loops, cambiemos los tipos de variables para imprimir cada elemento.\\\n",
        "Afecta en algo?"
      ]
    },
    {
      "cell_type": "code",
      "execution_count": 77,
      "id": "06c043bb",
      "metadata": {
        "id": "06c043bb"
      },
      "outputs": [],
      "source": [
        "ej_lista = [\"Me\", \"gusta\", \"el\", \"chocolate\", \"y\", \"el\", \"arequipe\"]\n",
        "ej_tupla = (\"Carro\", \"Casa\", \"Colegio\", \"Computador\", \"Coma\", \"Caro\", \"Cara\")\n",
        "ej_string = \"Vamos a ver una película el viernes\"\n",
        "ej_set = {1,2,3,4,5,6,7}"
      ]
    },
    {
      "cell_type": "code",
      "source": [
        "ej_lista[2]"
      ],
      "metadata": {
        "id": "ZxYMzGyEPGJC",
        "colab": {
          "base_uri": "https://localhost:8080/",
          "height": 35
        },
        "outputId": "d7df157c-234a-4e64-a204-5c8f986f7bbd"
      },
      "id": "ZxYMzGyEPGJC",
      "execution_count": 80,
      "outputs": [
        {
          "output_type": "execute_result",
          "data": {
            "text/plain": [
              "'el'"
            ],
            "application/vnd.google.colaboratory.intrinsic+json": {
              "type": "string"
            }
          },
          "metadata": {},
          "execution_count": 80
        }
      ]
    },
    {
      "cell_type": "code",
      "execution_count": 85,
      "id": "d6b9c727",
      "metadata": {
        "id": "d6b9c727",
        "colab": {
          "base_uri": "https://localhost:8080/"
        },
        "outputId": "bdd8b720-8598-43f0-af1e-d4530b17fc64"
      },
      "outputs": [
        {
          "output_type": "stream",
          "name": "stdout",
          "text": [
            "1 feo\n",
            "2 feo\n",
            "3 feo\n",
            "4 feo\n",
            "5 feo\n",
            "6 feo\n",
            "7 feo\n"
          ]
        }
      ],
      "source": [
        "for elem in ej_set:\n",
        "    print(str(elem) +' feo')"
      ]
    },
    {
      "cell_type": "code",
      "source": [
        "for i in range(1,8):\n",
        "  print(i)"
      ],
      "metadata": {
        "id": "K2my8e0pQNsg",
        "colab": {
          "base_uri": "https://localhost:8080/"
        },
        "outputId": "cf9d3ef5-e464-460b-a0f8-66a679f2ec76"
      },
      "id": "K2my8e0pQNsg",
      "execution_count": 87,
      "outputs": [
        {
          "output_type": "stream",
          "name": "stdout",
          "text": [
            "1\n",
            "2\n",
            "3\n",
            "4\n",
            "5\n",
            "6\n",
            "7\n"
          ]
        }
      ]
    },
    {
      "cell_type": "markdown",
      "id": "4298ce99",
      "metadata": {
        "id": "4298ce99"
      },
      "source": [
        "Primero contruimos el diccionario"
      ]
    },
    {
      "cell_type": "code",
      "execution_count": 88,
      "id": "3eb6bf0b",
      "metadata": {
        "id": "3eb6bf0b"
      },
      "outputs": [],
      "source": [
        "diccionario_prueba = {\"Elden ring\" : \"FromSoftware\",\n",
        "                     \"Read Dead Redemption 2\" : \"Rockstar Games\",\n",
        "                     \"Zelda BOTW\" : \"Nintendo\",\n",
        "                     \"God of War\" : \"Play Station\",\n",
        "                     \"Portal\" : \"Valve\"}"
      ]
    },
    {
      "cell_type": "code",
      "source": [
        "diccionario_prueba['Read Dead Redemption 2']"
      ],
      "metadata": {
        "id": "McEKjcOuQ9j4",
        "colab": {
          "base_uri": "https://localhost:8080/",
          "height": 35
        },
        "outputId": "1844ff77-dc44-4df6-edaa-29794acb2c08"
      },
      "id": "McEKjcOuQ9j4",
      "execution_count": 89,
      "outputs": [
        {
          "output_type": "execute_result",
          "data": {
            "text/plain": [
              "'Rockstar Games'"
            ],
            "application/vnd.google.colaboratory.intrinsic+json": {
              "type": "string"
            }
          },
          "metadata": {},
          "execution_count": 89
        }
      ]
    },
    {
      "cell_type": "code",
      "execution_count": 90,
      "id": "e8a4f99c",
      "metadata": {
        "id": "e8a4f99c",
        "colab": {
          "base_uri": "https://localhost:8080/"
        },
        "outputId": "09ae1ef5-9500-45eb-8054-d68682d273e4"
      },
      "outputs": [
        {
          "output_type": "stream",
          "name": "stdout",
          "text": [
            "Elden ring\n",
            "Read Dead Redemption 2\n",
            "Zelda BOTW\n",
            "God of War\n",
            "Portal\n"
          ]
        }
      ],
      "source": [
        "for x in diccionario_prueba:\n",
        "    print(x)"
      ]
    },
    {
      "cell_type": "code",
      "execution_count": 91,
      "id": "310bd33f",
      "metadata": {
        "id": "310bd33f",
        "colab": {
          "base_uri": "https://localhost:8080/"
        },
        "outputId": "a9ef6be2-d864-4d9d-ee00-4dc8ba4b7c88"
      },
      "outputs": [
        {
          "output_type": "stream",
          "name": "stdout",
          "text": [
            "Elden ring - FromSoftware\n",
            "Read Dead Redemption 2 - Rockstar Games\n",
            "Zelda BOTW - Nintendo\n",
            "God of War - Play Station\n",
            "Portal - Valve\n"
          ]
        }
      ],
      "source": [
        "for x in diccionario_prueba:\n",
        "    print(x + \" - \" + diccionario_prueba[x])"
      ]
    },
    {
      "cell_type": "code",
      "execution_count": 92,
      "id": "56ba7407",
      "metadata": {
        "id": "56ba7407",
        "colab": {
          "base_uri": "https://localhost:8080/"
        },
        "outputId": "f1497970-64f3-40fa-c135-fed2e8df8a36"
      },
      "outputs": [
        {
          "output_type": "stream",
          "name": "stdout",
          "text": [
            "('Elden ring', 'FromSoftware')\n",
            "('Read Dead Redemption 2', 'Rockstar Games')\n",
            "('Zelda BOTW', 'Nintendo')\n",
            "('God of War', 'Play Station')\n",
            "('Portal', 'Valve')\n"
          ]
        }
      ],
      "source": [
        "for x in diccionario_prueba.items():\n",
        "    print(x)"
      ]
    },
    {
      "cell_type": "code",
      "execution_count": 93,
      "id": "83922b93",
      "metadata": {
        "id": "83922b93",
        "colab": {
          "base_uri": "https://localhost:8080/"
        },
        "outputId": "f59af7db-830f-4ced-e5ad-06f08c798706"
      },
      "outputs": [
        {
          "output_type": "stream",
          "name": "stdout",
          "text": [
            "Elden ring\n",
            "FromSoftware\n",
            "Read Dead Redemption 2\n",
            "Rockstar Games\n",
            "Zelda BOTW\n",
            "Nintendo\n",
            "God of War\n",
            "Play Station\n",
            "Portal\n",
            "Valve\n"
          ]
        }
      ],
      "source": [
        "for  x, y in diccionario_prueba.items():\n",
        "    print(x)\n",
        "    print(y)"
      ]
    },
    {
      "cell_type": "code",
      "execution_count": 94,
      "id": "083fde6b",
      "metadata": {
        "id": "083fde6b",
        "colab": {
          "base_uri": "https://localhost:8080/"
        },
        "outputId": "13101d2e-cc0c-49d2-a3ef-3778b7eb0e1b"
      },
      "outputs": [
        {
          "output_type": "stream",
          "name": "stdout",
          "text": [
            "Elden ring\n",
            "Read Dead Redemption 2\n",
            "Zelda BOTW\n",
            "God of War\n",
            "Portal\n"
          ]
        }
      ],
      "source": [
        "for x in diccionario_prueba.keys():\n",
        "    print(x)"
      ]
    },
    {
      "cell_type": "code",
      "execution_count": 95,
      "id": "7e9c32df",
      "metadata": {
        "id": "7e9c32df",
        "colab": {
          "base_uri": "https://localhost:8080/"
        },
        "outputId": "9a85950f-aeee-42ad-93cf-b6b7e9c708a1"
      },
      "outputs": [
        {
          "output_type": "stream",
          "name": "stdout",
          "text": [
            "FromSoftware\n",
            "Rockstar Games\n",
            "Nintendo\n",
            "Play Station\n",
            "Valve\n"
          ]
        }
      ],
      "source": [
        "for x in diccionario_prueba.values():\n",
        "    print(x)"
      ]
    },
    {
      "cell_type": "code",
      "source": [
        "diccionario_prueba.values()"
      ],
      "metadata": {
        "id": "JiC71xH4Xa0N",
        "outputId": "d8e3892b-0a7f-46b3-c22d-fb2397a42796",
        "colab": {
          "base_uri": "https://localhost:8080/"
        }
      },
      "id": "JiC71xH4Xa0N",
      "execution_count": 96,
      "outputs": [
        {
          "output_type": "execute_result",
          "data": {
            "text/plain": [
              "dict_values(['FromSoftware', 'Rockstar Games', 'Nintendo', 'Play Station', 'Valve'])"
            ]
          },
          "metadata": {},
          "execution_count": 96
        }
      ]
    },
    {
      "cell_type": "markdown",
      "id": "d6d5b480",
      "metadata": {
        "id": "d6d5b480"
      },
      "source": [
        "# Condicionales\n",
        "## If"
      ]
    },
    {
      "cell_type": "markdown",
      "id": "5cffd29f",
      "metadata": {
        "id": "5cffd29f"
      },
      "source": [
        "Vamos a usar un if sencillo"
      ]
    },
    {
      "cell_type": "code",
      "execution_count": null,
      "id": "0a108c9c",
      "metadata": {
        "id": "0a108c9c"
      },
      "outputs": [],
      "source": [
        "a = 3"
      ]
    },
    {
      "cell_type": "code",
      "execution_count": null,
      "id": "97aa0925",
      "metadata": {
        "id": "97aa0925"
      },
      "outputs": [],
      "source": [
        "if a == 3:\n",
        "    print (\"Hola!\")"
      ]
    },
    {
      "cell_type": "markdown",
      "id": "ee1d2cfb",
      "metadata": {
        "id": "ee1d2cfb"
      },
      "source": [
        "Ahora intentemos hacer un código donde se genere un valor aleatorio y con un condicional miramos si es menor o igual a 3 imprime \"Hola\", si es 4 o 5 imprime \"Chao\" y de lo contrario imprime \"Adios\".\\\n",
        "Usemos un valor aleatorio entre 1 y 10."
      ]
    },
    {
      "cell_type": "markdown",
      "source": [
        "## else para Otras Condiciones\n",
        "```python\n",
        "x = 3\n",
        "if x > 5:\n",
        "    print(\"x es mayor que 5\")\n",
        "else:\n",
        "    print(\"x no es mayor que 5\")\n",
        "\n",
        "```"
      ],
      "metadata": {
        "id": "QO2TkMVgCAnu"
      },
      "id": "QO2TkMVgCAnu"
    },
    {
      "cell_type": "code",
      "source": [
        "x = 3\n",
        "if x > 5:\n",
        "    print(\"x es mayor que 5\")\n",
        "else:\n",
        "    print(\"x no es mayor que 5\")"
      ],
      "metadata": {
        "id": "KiEKTw9yCKbK"
      },
      "id": "KiEKTw9yCKbK",
      "execution_count": null,
      "outputs": []
    },
    {
      "cell_type": "markdown",
      "source": [
        "Si la condición es falsa, se ejecuta el bloque de código en el else.\n",
        "Aquí, como x no es mayor que 5, se imprimirá \"x no es mayor que 5\"."
      ],
      "metadata": {
        "id": "zn9CVh85CQoG"
      },
      "id": "zn9CVh85CQoG"
    },
    {
      "cell_type": "markdown",
      "source": [
        " ## elif para Múltiples Condiciones\n",
        " ```python\n",
        "if condición1:\n",
        "    # código si condición1 es verdadera\n",
        "elif condición2:\n",
        "    # código si condición2 es verdadera\n",
        "else:\n",
        "#    # código si ninguna condición es verdadera\n",
        "\n",
        " ```"
      ],
      "metadata": {
        "id": "6uE5hfnqCUWX"
      },
      "id": "6uE5hfnqCUWX"
    },
    {
      "cell_type": "code",
      "source": [
        "x = 10\n",
        "if x > 5:\n",
        "    print(\"x es mayor que 5\")\n",
        "elif x == 5:\n",
        "    print(\"x es igual a 5\")\n",
        "else:\n",
        "    print(\"x es menor que 5\")\n"
      ],
      "metadata": {
        "id": "ed0ZTt0CCde0",
        "colab": {
          "base_uri": "https://localhost:8080/"
        },
        "outputId": "88792cb7-74f5-46b0-f63e-35c1401a5a30"
      },
      "id": "ed0ZTt0CCde0",
      "execution_count": 99,
      "outputs": [
        {
          "output_type": "stream",
          "name": "stdout",
          "text": [
            "x es mayor que 5\n"
          ]
        }
      ]
    },
    {
      "cell_type": "markdown",
      "source": [
        "elif permite comprobar múltiples condiciones en secuencia.\n",
        "Solo se ejecutará el bloque de la primera condición que sea verdadera."
      ],
      "metadata": {
        "id": "zFQkNAN3ChPx"
      },
      "id": "zFQkNAN3ChPx"
    },
    {
      "cell_type": "markdown",
      "source": [
        "## Ejercicios\n",
        "1. Escribe un programa que imprima la tabla de multiplicar del 5, desde el 1 hasta el 10."
      ],
      "metadata": {
        "id": "QT_JkyGuDJxJ"
      },
      "id": "QT_JkyGuDJxJ"
    },
    {
      "cell_type": "code",
      "source": [],
      "metadata": {
        "id": "xF7Md4UyDNT2"
      },
      "id": "xF7Md4UyDNT2",
      "execution_count": null,
      "outputs": []
    },
    {
      "cell_type": "markdown",
      "source": [
        "2. Crea un programa que sume números ingresados por el usuario hasta que el usuario ingrese el número 0. Una vez que se ingrese 0, el programa debe mostrar la suma total de los números ingresados."
      ],
      "metadata": {
        "id": "SVm01vEuDNqo"
      },
      "id": "SVm01vEuDNqo"
    },
    {
      "cell_type": "code",
      "source": [],
      "metadata": {
        "id": "bU26_kclDQ5I"
      },
      "id": "bU26_kclDQ5I",
      "execution_count": null,
      "outputs": []
    },
    {
      "cell_type": "markdown",
      "source": [
        "3. Escribe un programa que pregunte al usuario su calificación (entre 0 y 100) y muestre el nivel de la calificación según la siguiente escala:\n",
        "\n",
        "- $>= 90$: Excelente\n",
        "- $>= 70$: Bueno\n",
        "- $>= 50$: Suficiente\n",
        "- $< 50$: Insuficiente"
      ],
      "metadata": {
        "id": "7o-8mnliDRlg"
      },
      "id": "7o-8mnliDRlg"
    },
    {
      "cell_type": "code",
      "source": [],
      "metadata": {
        "id": "EQkoLXMbDiZY"
      },
      "id": "EQkoLXMbDiZY",
      "execution_count": null,
      "outputs": []
    },
    {
      "cell_type": "markdown",
      "source": [
        "4. Escribe un programa que recorra los números del 1 al 20 y, para cada número, imprima \"Par\" si el número es par, o \"Impar\" si el número es impar."
      ],
      "metadata": {
        "id": "QbUG0koBDikY"
      },
      "id": "QbUG0koBDikY"
    },
    {
      "cell_type": "code",
      "source": [],
      "metadata": {
        "id": "yiS-RXX5EMCT"
      },
      "id": "yiS-RXX5EMCT",
      "execution_count": null,
      "outputs": []
    },
    {
      "cell_type": "markdown",
      "source": [
        "Para ver más:\n",
        "\n",
        "https://docs.python.org/3/tutorial/controlflow.html#if-statements"
      ],
      "metadata": {
        "id": "yBE_HzC2Con_"
      },
      "id": "yBE_HzC2Con_"
    },
    {
      "cell_type": "code",
      "source": [],
      "metadata": {
        "id": "fXbgGs_XCmAx"
      },
      "id": "fXbgGs_XCmAx",
      "execution_count": null,
      "outputs": []
    }
  ],
  "metadata": {
    "kernelspec": {
      "display_name": "Python 3 (ipykernel)",
      "language": "python",
      "name": "python3"
    },
    "language_info": {
      "codemirror_mode": {
        "name": "ipython",
        "version": 3
      },
      "file_extension": ".py",
      "mimetype": "text/x-python",
      "name": "python",
      "nbconvert_exporter": "python",
      "pygments_lexer": "ipython3",
      "version": "3.9.12"
    },
    "colab": {
      "provenance": [],
      "include_colab_link": true
    }
  },
  "nbformat": 4,
  "nbformat_minor": 5
}