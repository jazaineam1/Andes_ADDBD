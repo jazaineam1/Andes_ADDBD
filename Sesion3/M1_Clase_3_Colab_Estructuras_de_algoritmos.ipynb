{
  "cells": [
    {
      "cell_type": "markdown",
      "metadata": {
        "id": "view-in-github",
        "colab_type": "text"
      },
      "source": [
        "<a href=\"https://colab.research.google.com/github/jazaineam1/Andes_ADDBD/blob/main/Sesion3/M1_Clase_3_Colab_Estructuras_de_algoritmos.ipynb\" target=\"_parent\"><img src=\"https://colab.research.google.com/assets/colab-badge.svg\" alt=\"Open In Colab\"/></a>"
      ]
    },
    {
      "cell_type": "markdown",
      "source": [
        "#***Análisis de Datos y Big data***\n",
        "\n",
        "## ***Universidad de los Andes***\n",
        ">## **Dirección de Educación Continua.**\n",
        ">>## **Formación de habilidades escenciales.**\n",
        "\n",
        "![Imágen1](https://github.com/jazaineam1/Andes_ADDBD/blob/main/Imagenes/Presentaci%C3%B3n-removebg-preview.png?raw=true)\n",
        "\n",
        "\n",
        "\n",
        "\n"
      ],
      "metadata": {
        "id": "7qHTrt6wcWBP"
      },
      "id": "7qHTrt6wcWBP"
    },
    {
      "cell_type": "markdown",
      "source": [
        "\n",
        "### Operadores en Python\n",
        "\n",
        "Python soporta varios tipos de operadores, que son símbolos especiales o palabras clave que llevan a cabo una operación entre uno o más operandos. Vamos a explorar los más comunes:\n",
        "\n",
        "#### 1. Operadores Aritméticos\n",
        "- **Suma (`+`)**: Suma dos operandos.\n",
        "- **Resta (`-`)**: Resta el segundo operando del primero.\n",
        "- **Multiplicación (`*`)**: Multiplica dos operandos.\n",
        "- **División (`/`)**: Divide el primer operando entre el segundo.\n",
        "- **Modulo (`%`)**: Devuelve el residuo de la división del primer operando por el segundo.\n",
        "- **Potencia ($\\text{**}$)**: Eleva el primer operando a la potencia del segundo.\n",
        "- **División Entera (`//`)**: Realiza la división y retorna el cociente, descartando la parte fraccional."
      ],
      "metadata": {
        "id": "vl6mcagXgyNB"
      },
      "id": "vl6mcagXgyNB"
    },
    {
      "cell_type": "code",
      "source": [
        "## haz la prueba de algunas operaciones en este campo e indica para que sirve la división entera\n"
      ],
      "metadata": {
        "id": "jj3m-5gmgvVi"
      },
      "id": "jj3m-5gmgvVi",
      "execution_count": null,
      "outputs": []
    },
    {
      "cell_type": "markdown",
      "source": [
        "\n",
        "#### 2. Operadores de Comparación\n",
        "- **Igual (`==`)**: Comprueba si dos operandos son iguales.\n",
        "- **No igual (`!=`)**: Comprueba si dos operandos no son iguales.\n",
        "- **Mayor que (`>`)**: Comprueba si el operando izquierdo es mayor que el derecho.\n",
        "- **Menor que (`<`)**: Comprueba si el operando izquierdo es menor que el derecho.\n",
        "- **Mayor o igual que (`>=`)**: Comprueba si el operando izquierdo es mayor o igual al derecho.\n",
        "- **Menor o igual que (`<=`)**: Comprueba si el operando izquierdo es menor o igual al derecho."
      ],
      "metadata": {
        "id": "5EZusgYzh6TD"
      },
      "id": "5EZusgYzh6TD"
    },
    {
      "cell_type": "code",
      "source": [
        "a = 10\n",
        "b = 10\n",
        "a==b\n"
      ],
      "metadata": {
        "id": "R9abQrl2h3f5",
        "outputId": "0dc2fa94-cdbd-4d5b-e282-563ea9c7f821",
        "colab": {
          "base_uri": "https://localhost:8080/"
        }
      },
      "id": "R9abQrl2h3f5",
      "execution_count": null,
      "outputs": [
        {
          "data": {
            "text/plain": [
              "True"
            ]
          },
          "execution_count": 155,
          "metadata": {},
          "output_type": "execute_result"
        }
      ]
    },
    {
      "cell_type": "code",
      "source": [
        "a = 10\n",
        "b = 5\n",
        "a != b"
      ],
      "metadata": {
        "id": "1W0gmbywiMmf",
        "outputId": "496c1b27-d342-4755-f142-454f9a0b3079",
        "colab": {
          "base_uri": "https://localhost:8080/"
        }
      },
      "id": "1W0gmbywiMmf",
      "execution_count": null,
      "outputs": [
        {
          "data": {
            "text/plain": [
              "True"
            ]
          },
          "execution_count": 156,
          "metadata": {},
          "output_type": "execute_result"
        }
      ]
    },
    {
      "cell_type": "code",
      "source": [
        "a = 10\n",
        "b = 5\n",
        "a>b\n"
      ],
      "metadata": {
        "id": "OO5LXEtEiRr-",
        "outputId": "d625b367-85e4-49a2-d3c0-ac5ff942d43f",
        "colab": {
          "base_uri": "https://localhost:8080/"
        }
      },
      "id": "OO5LXEtEiRr-",
      "execution_count": null,
      "outputs": [
        {
          "data": {
            "text/plain": [
              "True"
            ]
          },
          "execution_count": 157,
          "metadata": {},
          "output_type": "execute_result"
        }
      ]
    },
    {
      "cell_type": "code",
      "source": [
        "a = '}cosa'\n",
        "b = 'cuso'\n",
        "a <= b\n"
      ],
      "metadata": {
        "id": "PrNAxXVCiX0e",
        "outputId": "f499d7a4-05bb-4f16-ccf6-08968167d144",
        "colab": {
          "base_uri": "https://localhost:8080/"
        }
      },
      "id": "PrNAxXVCiX0e",
      "execution_count": null,
      "outputs": [
        {
          "data": {
            "text/plain": [
              "False"
            ]
          },
          "execution_count": 158,
          "metadata": {},
          "output_type": "execute_result"
        }
      ]
    },
    {
      "cell_type": "code",
      "source": [
        "a = 10\n",
        "b = 10\n",
        "print(a >= b)  # Salida: True\n",
        "\n",
        "c = 15\n",
        "print(a >= c)  # Salida: False\n"
      ],
      "metadata": {
        "id": "TPFciN3micfr",
        "outputId": "3a852c18-652f-4171-d605-4eb257c74dc9",
        "colab": {
          "base_uri": "https://localhost:8080/"
        }
      },
      "id": "TPFciN3micfr",
      "execution_count": null,
      "outputs": [
        {
          "metadata": {
            "tags": null
          },
          "name": "stdout",
          "output_type": "stream",
          "text": [
            "True\n",
            "False\n"
          ]
        }
      ]
    },
    {
      "cell_type": "code",
      "source": [
        "a = 10\n",
        "b = 10\n",
        "print(a <= b)  # Salida: True\n",
        "\n",
        "c = 5\n",
        "print(a <= c)  # Salida: False\n"
      ],
      "metadata": {
        "id": "0LnPp-dlieT4",
        "outputId": "41addef2-dc18-4713-a89a-1e983da072b8",
        "colab": {
          "base_uri": "https://localhost:8080/"
        }
      },
      "id": "0LnPp-dlieT4",
      "execution_count": null,
      "outputs": [
        {
          "metadata": {
            "tags": null
          },
          "name": "stdout",
          "output_type": "stream",
          "text": [
            "True\n",
            "False\n"
          ]
        }
      ]
    },
    {
      "cell_type": "markdown",
      "source": [
        "\n",
        "\n",
        "\n",
        "#### 3. Operadores Lógicos\n",
        "- **And (`and`)**: Retorna True si ambos operandos son verdaderos.\n",
        "- **Or (`or`)**: Retorna True si al menos uno de los operandos es verdadero.\n",
        "- **Not (`not`)**: Niega el valor del operando.\n"
      ],
      "metadata": {
        "id": "bJH3K7owcPdf"
      },
      "id": "bJH3K7owcPdf"
    },
    {
      "cell_type": "code",
      "source": [
        "c = True\n",
        "d = False\n",
        "print('And:', c and d)  # False\n",
        "print('Or:', c or d)  # True\n",
        "print('Not:', not c)  # False"
      ],
      "metadata": {
        "id": "RQWPmYowcOvG",
        "outputId": "5660da18-fd4b-473c-9841-c635318854c1",
        "colab": {
          "base_uri": "https://localhost:8080/"
        }
      },
      "id": "RQWPmYowcOvG",
      "execution_count": null,
      "outputs": [
        {
          "metadata": {
            "tags": null
          },
          "name": "stdout",
          "output_type": "stream",
          "text": [
            "And: False\n",
            "Or: True\n",
            "Not: False\n"
          ]
        }
      ]
    },
    {
      "cell_type": "code",
      "source": [
        "c & d"
      ],
      "metadata": {
        "id": "eP740F644DJb",
        "outputId": "e91c98c3-c7c3-4118-daab-cd78312022e6",
        "colab": {
          "base_uri": "https://localhost:8080/"
        }
      },
      "id": "eP740F644DJb",
      "execution_count": null,
      "outputs": [
        {
          "data": {
            "text/plain": [
              "False"
            ]
          },
          "execution_count": 162,
          "metadata": {},
          "output_type": "execute_result"
        }
      ]
    },
    {
      "cell_type": "code",
      "source": [
        "c | d"
      ],
      "metadata": {
        "id": "S3sHrk9c4Hg9",
        "outputId": "63d6e187-e1e7-4353-ab08-52da7d4d4ba6",
        "colab": {
          "base_uri": "https://localhost:8080/"
        }
      },
      "id": "S3sHrk9c4Hg9",
      "execution_count": null,
      "outputs": [
        {
          "data": {
            "text/plain": [
              "True"
            ]
          },
          "execution_count": 163,
          "metadata": {},
          "output_type": "execute_result"
        }
      ]
    },
    {
      "cell_type": "markdown",
      "id": "94a17bba",
      "metadata": {
        "id": "94a17bba"
      },
      "source": [
        "\n",
        "\n",
        "# Vamos a empezar a jugar con la estructura de un algoritmo\n",
        "Para esto vamos a usar algunas librerías pero son solo para decorar.\n",
        "\n",
        "De resto todo es propio de Python."
      ]
    },
    {
      "cell_type": "code",
      "source": [
        "genero='F';edad=18;hijos=1"
      ],
      "metadata": {
        "id": "uuwbdStU-UUD"
      },
      "id": "uuwbdStU-UUD",
      "execution_count": null,
      "outputs": []
    },
    {
      "cell_type": "code",
      "source": [
        "def vericar(genero,edad,hijos):\n",
        "  if (genero=='F') & (edad<25) & (hijos>0):\n",
        "    output='Felicidades por el subsidio'\n",
        "  else:\n",
        "    output='No es posible darte el subsidio'\n",
        "  return(output)\n"
      ],
      "metadata": {
        "id": "1DaGbhE999IG"
      },
      "id": "1DaGbhE999IG",
      "execution_count": null,
      "outputs": []
    },
    {
      "cell_type": "code",
      "source": [
        "vericar(genero='F',edad=14,hijos=1)"
      ],
      "metadata": {
        "id": "_9XNPMb1_UoA",
        "outputId": "fca539c3-21d4-48bd-93d4-7080ade2982b",
        "colab": {
          "base_uri": "https://localhost:8080/",
          "height": 35
        }
      },
      "id": "_9XNPMb1_UoA",
      "execution_count": null,
      "outputs": [
        {
          "data": {
            "application/vnd.google.colaboratory.intrinsic+json": {
              "type": "string"
            },
            "text/plain": [
              "'Felicidades por el subsidio'"
            ]
          },
          "execution_count": 166,
          "metadata": {},
          "output_type": "execute_result"
        }
      ]
    },
    {
      "cell_type": "markdown",
      "id": "d1444a87",
      "metadata": {
        "id": "d1444a87"
      },
      "source": [
        "# Librerías"
      ]
    },
    {
      "cell_type": "code",
      "execution_count": null,
      "id": "9a0dfc12",
      "metadata": {
        "id": "9a0dfc12"
      },
      "outputs": [],
      "source": [
        "from numpy import random"
      ]
    },
    {
      "cell_type": "markdown",
      "id": "fa8a77da",
      "metadata": {
        "id": "fa8a77da"
      },
      "source": [
        "# Loops"
      ]
    },
    {
      "cell_type": "markdown",
      "id": "b0e0ea38",
      "metadata": {
        "id": "b0e0ea38"
      },
      "source": [
        "## While Loop"
      ]
    },
    {
      "cell_type": "code",
      "execution_count": null,
      "id": "53faa7d1",
      "metadata": {
        "id": "53faa7d1",
        "outputId": "ad138876-0ef5-43d6-b659-2b986d683bc8",
        "colab": {
          "base_uri": "https://localhost:8080/"
        }
      },
      "outputs": [
        {
          "metadata": {
            "tags": null
          },
          "name": "stdout",
          "output_type": "stream",
          "text": [
            "0\n",
            "3\n",
            "13\n",
            "20\n",
            "33\n",
            "35\n",
            "52\n",
            "58\n",
            "64\n",
            "79\n",
            "84\n",
            "97\n"
          ]
        }
      ],
      "source": [
        "x = 0\n",
        "while x < 100:\n",
        "    print(x)\n",
        "    x = x + random.randint(1, 20)"
      ]
    },
    {
      "cell_type": "code",
      "source": [
        "# Creemos un loop donde agregemos elementos a una lista de mercado hasta que agregemos la palabra fin.\n",
        "# Usemos la función input()\n",
        "\n",
        "bolsa=[]\n",
        "ingredientes=''\n",
        "while ingredientes.upper()!='FIN':\n",
        "  ingredientes=input('ingresar el ingrediente: ')\n",
        "  bolsa.append(ingredientes)\n"
      ],
      "metadata": {
        "id": "aswi3z6dKZAa",
        "outputId": "a9f12bd1-475d-4835-81ac-62276dabba69",
        "colab": {
          "base_uri": "https://localhost:8080/"
        }
      },
      "id": "aswi3z6dKZAa",
      "execution_count": null,
      "outputs": [
        {
          "name": "stdout",
          "output_type": "stream",
          "text": [
            "ingresar el ingrediente: fin\n"
          ]
        }
      ]
    },
    {
      "cell_type": "code",
      "source": [
        "bolsa"
      ],
      "metadata": {
        "id": "VaykNhd1Mjyv"
      },
      "id": "VaykNhd1Mjyv",
      "execution_count": null,
      "outputs": []
    },
    {
      "cell_type": "markdown",
      "id": "3fd59842",
      "metadata": {
        "id": "3fd59842"
      },
      "source": [
        "## For Loops"
      ]
    },
    {
      "cell_type": "markdown",
      "id": "883e0c3f",
      "metadata": {
        "id": "883e0c3f"
      },
      "source": [
        "Vamos a jugar con los for loops, cambiemos los tipos de variables para imprimir cada elemento.\\\n",
        "Afecta en algo?"
      ]
    },
    {
      "cell_type": "code",
      "execution_count": null,
      "id": "06c043bb",
      "metadata": {
        "id": "06c043bb"
      },
      "outputs": [],
      "source": [
        "ej_lista = [\"Me\", \"gusta\", \"el\", \"chocolate\", \"y\", \"el\", \"arequipe\"]\n",
        "ej_tupla = (\"Carro\", \"Casa\", \"Colegio\", \"Computador\", \"Coma\", \"Caro\", \"Cara\")\n",
        "ej_string = \"Vamos a ver una película el viernes\"\n",
        "ej_set = {1,2,3,4,5,6,7}"
      ]
    },
    {
      "cell_type": "code",
      "source": [
        "ej_lista[2]"
      ],
      "metadata": {
        "id": "ZxYMzGyEPGJC"
      },
      "id": "ZxYMzGyEPGJC",
      "execution_count": null,
      "outputs": []
    },
    {
      "cell_type": "code",
      "execution_count": null,
      "id": "d6b9c727",
      "metadata": {
        "id": "d6b9c727"
      },
      "outputs": [],
      "source": [
        "for elem in ej_string:\n",
        "    print(elem +' feo')"
      ]
    },
    {
      "cell_type": "code",
      "source": [
        "for i in range(0,4):\n",
        "  print(i)"
      ],
      "metadata": {
        "id": "K2my8e0pQNsg"
      },
      "id": "K2my8e0pQNsg",
      "execution_count": null,
      "outputs": []
    },
    {
      "cell_type": "markdown",
      "id": "4298ce99",
      "metadata": {
        "id": "4298ce99"
      },
      "source": [
        "Primero contruimos el diccionario"
      ]
    },
    {
      "cell_type": "code",
      "execution_count": null,
      "id": "3eb6bf0b",
      "metadata": {
        "id": "3eb6bf0b"
      },
      "outputs": [],
      "source": [
        "diccionario_prueba = {\"Elden ring\" : \"FromSoftware\",\n",
        "                     \"Read Dead Redemption 2\" : \"Rockstar Games\",\n",
        "                     \"Zelda BOTW\" : \"Nintendo\",\n",
        "                     \"God of War\" : \"Play Station\",\n",
        "                     \"Portal\" : \"Valve\"}"
      ]
    },
    {
      "cell_type": "code",
      "source": [
        "diccionario_prueba['Read Dead Redemption 2']"
      ],
      "metadata": {
        "id": "McEKjcOuQ9j4"
      },
      "id": "McEKjcOuQ9j4",
      "execution_count": null,
      "outputs": []
    },
    {
      "cell_type": "code",
      "execution_count": null,
      "id": "e8a4f99c",
      "metadata": {
        "id": "e8a4f99c"
      },
      "outputs": [],
      "source": [
        "for x in diccionario_prueba:\n",
        "    print(x)"
      ]
    },
    {
      "cell_type": "code",
      "execution_count": null,
      "id": "310bd33f",
      "metadata": {
        "id": "310bd33f"
      },
      "outputs": [],
      "source": [
        "for x in diccionario_prueba:\n",
        "    print(x + \" - \" + diccionario_prueba[x])"
      ]
    },
    {
      "cell_type": "code",
      "execution_count": null,
      "id": "56ba7407",
      "metadata": {
        "id": "56ba7407"
      },
      "outputs": [],
      "source": [
        "for x in diccionario_prueba.items():\n",
        "    print(x)"
      ]
    },
    {
      "cell_type": "code",
      "execution_count": null,
      "id": "83922b93",
      "metadata": {
        "id": "83922b93"
      },
      "outputs": [],
      "source": [
        "for  x, y in diccionario_prueba.items():\n",
        "    print(x)\n",
        "    print(y)"
      ]
    },
    {
      "cell_type": "code",
      "execution_count": null,
      "id": "083fde6b",
      "metadata": {
        "id": "083fde6b"
      },
      "outputs": [],
      "source": [
        "for x in diccionario_prueba.keys():\n",
        "    print(x)"
      ]
    },
    {
      "cell_type": "code",
      "execution_count": null,
      "id": "7e9c32df",
      "metadata": {
        "id": "7e9c32df"
      },
      "outputs": [],
      "source": [
        "for x in diccionario_prueba.values():\n",
        "    print(x)"
      ]
    },
    {
      "cell_type": "markdown",
      "id": "d6d5b480",
      "metadata": {
        "id": "d6d5b480"
      },
      "source": [
        "# Condicionales\n",
        "## If"
      ]
    },
    {
      "cell_type": "markdown",
      "id": "5cffd29f",
      "metadata": {
        "id": "5cffd29f"
      },
      "source": [
        "Vamos a usar un if sencillo"
      ]
    },
    {
      "cell_type": "code",
      "execution_count": null,
      "id": "0a108c9c",
      "metadata": {
        "id": "0a108c9c"
      },
      "outputs": [],
      "source": [
        "a = 3"
      ]
    },
    {
      "cell_type": "code",
      "execution_count": null,
      "id": "97aa0925",
      "metadata": {
        "id": "97aa0925"
      },
      "outputs": [],
      "source": [
        "if a == 3:\n",
        "    print (\"Hola!\")"
      ]
    },
    {
      "cell_type": "markdown",
      "id": "ee1d2cfb",
      "metadata": {
        "id": "ee1d2cfb"
      },
      "source": [
        "Ahora intentemos hacer un código donde se genere un valor aleatorio y con un condicional miramos si es menor o igual a 3 imprime \"Hola\", si es 4 o 5 imprime \"Chao\" y de lo contrario imprime \"Adios\".\\\n",
        "Usemos un valor aleatorio entre 1 y 10."
      ]
    },
    {
      "cell_type": "markdown",
      "source": [
        "## else para Otras Condiciones\n",
        "```python\n",
        "x = 3\n",
        "if x > 5:\n",
        "    print(\"x es mayor que 5\")\n",
        "else:\n",
        "    print(\"x no es mayor que 5\")\n",
        "\n",
        "```"
      ],
      "metadata": {
        "id": "QO2TkMVgCAnu"
      },
      "id": "QO2TkMVgCAnu"
    },
    {
      "cell_type": "code",
      "source": [
        "x = 3\n",
        "if x > 5:\n",
        "    print(\"x es mayor que 5\")\n",
        "else:\n",
        "    print(\"x no es mayor que 5\")"
      ],
      "metadata": {
        "id": "KiEKTw9yCKbK"
      },
      "id": "KiEKTw9yCKbK",
      "execution_count": null,
      "outputs": []
    },
    {
      "cell_type": "markdown",
      "source": [
        "Si la condición es falsa, se ejecuta el bloque de código en el else.\n",
        "Aquí, como x no es mayor que 5, se imprimirá \"x no es mayor que 5\"."
      ],
      "metadata": {
        "id": "zn9CVh85CQoG"
      },
      "id": "zn9CVh85CQoG"
    },
    {
      "cell_type": "markdown",
      "source": [
        " ## elif para Múltiples Condiciones\n",
        " ```python\n",
        "if condición1:\n",
        "    # código si condición1 es verdadera\n",
        "elif condición2:\n",
        "    # código si condición2 es verdadera\n",
        "else:\n",
        "#    # código si ninguna condición es verdadera\n",
        "\n",
        " ```"
      ],
      "metadata": {
        "id": "6uE5hfnqCUWX"
      },
      "id": "6uE5hfnqCUWX"
    },
    {
      "cell_type": "code",
      "source": [
        "x = 5\n",
        "if x > 5:\n",
        "    print(\"x es mayor que 5\")\n",
        "elif x == 5:\n",
        "    print(\"x es igual a 5\")\n",
        "else:\n",
        "    print(\"x es menor que 5\")\n"
      ],
      "metadata": {
        "id": "ed0ZTt0CCde0"
      },
      "id": "ed0ZTt0CCde0",
      "execution_count": null,
      "outputs": []
    },
    {
      "cell_type": "markdown",
      "source": [
        "elif permite comprobar múltiples condiciones en secuencia.\n",
        "Solo se ejecutará el bloque de la primera condición que sea verdadera."
      ],
      "metadata": {
        "id": "zFQkNAN3ChPx"
      },
      "id": "zFQkNAN3ChPx"
    },
    {
      "cell_type": "markdown",
      "source": [
        "## Ejercicios\n",
        "1. Escribe un programa que imprima la tabla de multiplicar del 5, desde el 1 hasta el 10."
      ],
      "metadata": {
        "id": "QT_JkyGuDJxJ"
      },
      "id": "QT_JkyGuDJxJ"
    },
    {
      "cell_type": "code",
      "source": [],
      "metadata": {
        "id": "xF7Md4UyDNT2"
      },
      "id": "xF7Md4UyDNT2",
      "execution_count": null,
      "outputs": []
    },
    {
      "cell_type": "markdown",
      "source": [
        "2. Crea un programa que sume números ingresados por el usuario hasta que el usuario ingrese el número 0. Una vez que se ingrese 0, el programa debe mostrar la suma total de los números ingresados."
      ],
      "metadata": {
        "id": "SVm01vEuDNqo"
      },
      "id": "SVm01vEuDNqo"
    },
    {
      "cell_type": "code",
      "source": [],
      "metadata": {
        "id": "bU26_kclDQ5I"
      },
      "id": "bU26_kclDQ5I",
      "execution_count": null,
      "outputs": []
    },
    {
      "cell_type": "markdown",
      "source": [
        "3. Escribe un programa que pregunte al usuario su calificación (entre 0 y 100) y muestre el nivel de la calificación según la siguiente escala:\n",
        "\n",
        "- $>= 90$: Excelente\n",
        "- $>= 70$: Bueno\n",
        "- $>= 50$: Suficiente\n",
        "- $< 50$: Insuficiente"
      ],
      "metadata": {
        "id": "7o-8mnliDRlg"
      },
      "id": "7o-8mnliDRlg"
    },
    {
      "cell_type": "code",
      "source": [],
      "metadata": {
        "id": "EQkoLXMbDiZY"
      },
      "id": "EQkoLXMbDiZY",
      "execution_count": null,
      "outputs": []
    },
    {
      "cell_type": "markdown",
      "source": [
        "4. Escribe un programa que recorra los números del 1 al 20 y, para cada número, imprima \"Par\" si el número es par, o \"Impar\" si el número es impar."
      ],
      "metadata": {
        "id": "QbUG0koBDikY"
      },
      "id": "QbUG0koBDikY"
    },
    {
      "cell_type": "code",
      "source": [],
      "metadata": {
        "id": "yiS-RXX5EMCT"
      },
      "id": "yiS-RXX5EMCT",
      "execution_count": null,
      "outputs": []
    },
    {
      "cell_type": "markdown",
      "source": [
        "Para ver más:\n",
        "\n",
        "https://docs.python.org/3/tutorial/controlflow.html#if-statements"
      ],
      "metadata": {
        "id": "yBE_HzC2Con_"
      },
      "id": "yBE_HzC2Con_"
    },
    {
      "cell_type": "code",
      "source": [],
      "metadata": {
        "id": "fXbgGs_XCmAx"
      },
      "id": "fXbgGs_XCmAx",
      "execution_count": null,
      "outputs": []
    }
  ],
  "metadata": {
    "kernelspec": {
      "display_name": "Python 3 (ipykernel)",
      "language": "python",
      "name": "python3"
    },
    "language_info": {
      "codemirror_mode": {
        "name": "ipython",
        "version": 3
      },
      "file_extension": ".py",
      "mimetype": "text/x-python",
      "name": "python",
      "nbconvert_exporter": "python",
      "pygments_lexer": "ipython3",
      "version": "3.9.12"
    },
    "colab": {
      "provenance": [],
      "include_colab_link": true
    }
  },
  "nbformat": 4,
  "nbformat_minor": 5
}