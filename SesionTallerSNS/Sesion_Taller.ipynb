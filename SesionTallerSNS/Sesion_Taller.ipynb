{
 "cells": [
  {
   "cell_type": "markdown",
   "metadata": {
    "colab_type": "text",
    "id": "view-in-github"
   },
   "source": [
    "<a href=\"https://colab.research.google.com/github/jazaineam1/Andes_ADDBD/blob/main/SesionTallerSNS/Sesion_Taller.ipynb\" target=\"_parent\"><img src=\"https://colab.research.google.com/assets/colab-badge.svg\" alt=\"Open In Colab\"/></a>"
   ]
  },
  {
   "cell_type": "code",
   "execution_count": null,
   "metadata": {
    "id": "pf8DClPw47j5"
   },
   "outputs": [],
   "source": []
  },
  {
   "cell_type": "markdown",
   "metadata": {
    "id": "5c_1vcN94-m2"
   },
   "source": [
    "# ***Análisis de Datos y Big data***\n",
    "\n",
    "## ***Universidad de los Andes***\n",
    ">## **Dirección de Educación Continua.**\n",
    ">>## **Formación de habilidades escenciales.**\n",
    "\n",
    "![Imágen1](https://github.com/jazaineam1/Andes_ADDBD/blob/main/Imagenes/Presentaci%C3%B3n-removebg-preview.png?raw=true)\n",
    "\n"
   ]
  },
  {
   "cell_type": "markdown",
   "metadata": {
    "id": "l9ngoczL5ED9"
   },
   "source": [
    "### Taller 3\n",
    "\n",
    "\n",
    "\n",
    "\n",
    "En este taller, vamos a combinar dos técnicas fundamentales de aprendizaje automático: el clustering no supervisado y la clasificación supervisada. Primero, realizaremos una segmentación de clientes usando algoritmos de agrupamiento como K-means o DBSCAN, para identificar patrones en los datos sin tener en cuenta la variable de salida. Luego, usaremos esta nueva información (los segmentos generados) para mejorar la clasificación del ingreso de cada individuo, prediciendo si una persona gana menos o más de 50 mil dólares al año."
   ]
  },
  {
   "cell_type": "markdown",
   "metadata": {
    "id": "MdNfR4XY97tq"
   },
   "source": [
    "### Objetivos del Taller\n",
    "\n",
    "Aplicar técnicas de clustering para segmentar a los individuos en grupos homogéneos según varias características demográficas y financieras.\n",
    "\n",
    "Usar la información de los clusters generados como una nueva variable en un modelo de clasificación supervisada.\n",
    "\n",
    "Entrenar un modelo de clasificación para predecir si una persona tiene ingresos mayores o menores a 50 mil dólares.\n",
    "\n",
    "### Conjunto de Datos\n",
    "\n",
    "\n",
    "Consultar datos acá:[https://raw.githubusercontent.com/jazaineam1/Andes_ADDBD/refs/heads/main/SesionTallerSNS/income_evaluation.csv](https://raw.githubusercontent.com/jazaineam1/Andes_ADDBD/refs/heads/main/SesionTallerSNS/income_evaluation.csv)\n",
    "Vamos a utilizar un conjunto de datos real que contiene información demográfica y financiera de individuos, con variables como edad, nivel educativo, ocupación, horas trabajadas por semana, y la variable objetivo income (que representa si los ingresos son más de 50 mil dólares o menos de 50 mil dólares)."
   ]
  },
  {
   "cell_type": "markdown",
   "metadata": {
    "id": "33i6awDH-aAk"
   },
   "source": [
    "Descripción de las Variables\n",
    "\n",
    "- age (edad): Edad del individuo (variable continua).\n",
    "\n",
    "- workclass (tipo de empleo): Tipo de empleo del individuo. Valores posibles: Privado, Autónomo-no-incorporado, Autónomo-incorporado, Gobierno-federal, Gobierno-local, Gobierno-estatal, Sin-pago, Nunca-trabajó.\n",
    "\n",
    "- fnlwgt (peso final): Peso muestral (variable continua).\n",
    "\n",
    "- education (nivel educativo): Nivel educativo alcanzado por el individuo. Valores posibles: Bachillerato, Alguna universidad, 11º grado, Graduado de secundaria, Escuela profesional, Título asociado académico, Título asociado vocacional, 9º grado, 7º-8º grado, 12º grado, Maestría, 1º-4º grado, 10º grado, Doctorado, 5º-6º grado, Preescolar.\n",
    "\n",
    "- education-num (número de años de educación): Número de años de educación (variable continua).\n",
    "\n",
    "- marital-status (estado civil): Estado civil del individuo. Valores posibles: Casado-cónyuge-civil, Divorciado, Nunca casado, Separado, Viudo, Casado-cónyuge-ausente, Casado-cónyuge-en-fuerzas-armadas.\n",
    "\n",
    "- occupation (ocupación): Ocupación del individuo. Valores posibles: Soporte técnico, Reparación artesanal, Otros servicios, Ventas, Ejecutivo-gerencial, Profesional-especialista, Manipuladores-limpiadores, Operador de máquinas-inspector, Administrativo-clerical, Agricultura-pesca, Transporte-mudanza, Servicio doméstico, Servicios de protección, Fuerzas Armadas.\n",
    "\n",
    "- relationship (relación): Relación familiar del individuo. Valores posibles: Esposa, Hijo propio, Esposo, No-en-familia, Otro pariente, Soltero.\n",
    "\n",
    "- race (raza): Raza del individuo. Valores posibles: Blanca, Asiático-Isleño del Pacífico, Indio Americano-Eskimal, Otro, Negra.\n",
    "\n",
    "- sex (sexo): Sexo del individuo. Valores posibles: Femenino, Masculino.\n",
    "\n",
    "- capital-gain (ganancia de capital): Ganancia de capital obtenida (variable continua).\n",
    "\n",
    "- capital-loss (pérdida de capital): Pérdida de capital sufrida (variable continua).\n",
    "\n",
    "- hours-per-week (horas por semana): Número de horas trabajadas por semana (variable continua).\n",
    "\n",
    "- native-country (país de origen): País de origen del individuo. Valores posibles: Estados Unidos, Camboya, Inglaterra, Puerto Rico, Canadá, Alemania, Dependencias de EE.UU. (Guam-USVI-etc), India, Japón, Grecia, Sur, China, Cuba, Irán, Honduras, Filipinas, Italia, Polonia, Jamaica, Vietnam, México, Portugal, Irlanda, Francia, República Dominicana, Laos, Ecuador, Taiwán, Haití, Colombia, Hungría, Guatemala, Nicaragua, Escocia, Tailandia, Yugoslavia, El Salvador, Trinidad y Tobago, Perú, Hong Kong, Países Bajos (Holanda).\n",
    "\n",
    "- income (ingreso): Variable objetivo que indica si el individuo gana más de 50 mil dólares o menos. Valores posibles: <=50K, >50K."
   ]
  },
  {
   "cell_type": "markdown",
   "metadata": {
    "id": "JaSoj58j-tAf"
   },
   "source": [
    "Siga los siguientes pasos para solucionar el taller"
   ]
  },
  {
   "cell_type": "markdown",
   "metadata": {
    "id": "eXPx7v1F-wea"
   },
   "source": [
    "Paso 1: Importar Librerías y Conjunto de Datos"
   ]
  },
  {
   "cell_type": "code",
   "execution_count": 20,
   "metadata": {
    "id": "Yd1_OfZD-ZSw"
   },
   "outputs": [],
   "source": [
    "import pandas as pd\n",
    "from sklearn.model_selection import train_test_split\n",
    "from sklearn.ensemble import RandomForestClassifier\n",
    "from sklearn.cluster import KMeans\n",
    "from sklearn.preprocessing import StandardScaler\n",
    "from sklearn.metrics import accuracy_score, confusion_matrix, classification_report\n",
    "\n",
    "\n",
    "df = pd.read_csv('https://raw.githubusercontent.com/jazaineam1/Andes_ADDBD/refs/heads/main/SesionTallerSNS/income_evaluation.csv')"
   ]
  },
  {
   "cell_type": "markdown",
   "metadata": {
    "id": "Jg9RNFfY-0NZ"
   },
   "source": [
    "Paso 2: Preprocesamiento de Datos\n",
    "\n",
    "Limpiar el conjunto de datos, manejar los valores nulos y convertir variables categóricas en variables dummies.\n",
    "\n",
    "Escalar las variables numéricas para que todas tengan la misma escala."
   ]
  },
  {
   "cell_type": "code",
   "execution_count": 3,
   "metadata": {
    "id": "s6oE4dB64_-K"
   },
   "outputs": [
    {
     "name": "stdout",
     "output_type": "stream",
     "text": [
      "<class 'pandas.core.frame.DataFrame'>\n",
      "RangeIndex: 32561 entries, 0 to 32560\n",
      "Data columns (total 15 columns):\n",
      " #   Column           Non-Null Count  Dtype \n",
      "---  ------           --------------  ----- \n",
      " 0   age              32561 non-null  int64 \n",
      " 1    workclass       32561 non-null  object\n",
      " 2    fnlwgt          32561 non-null  int64 \n",
      " 3    education       32561 non-null  object\n",
      " 4    education-num   32561 non-null  int64 \n",
      " 5    marital-status  32561 non-null  object\n",
      " 6    occupation      32561 non-null  object\n",
      " 7    relationship    32561 non-null  object\n",
      " 8    race            32561 non-null  object\n",
      " 9    sex             32561 non-null  object\n",
      " 10   capital-gain    32561 non-null  int64 \n",
      " 11   capital-loss    32561 non-null  int64 \n",
      " 12   hours-per-week  32561 non-null  int64 \n",
      " 13   native-country  32561 non-null  object\n",
      " 14   income          32561 non-null  object\n",
      "dtypes: int64(6), object(9)\n",
      "memory usage: 3.7+ MB\n"
     ]
    }
   ],
   "source": [
    "df.info()"
   ]
  },
  {
   "cell_type": "markdown",
   "metadata": {
    "id": "J0PPKLMr-704"
   },
   "source": [
    "Paso 3: Aplicar Algoritmo de Clustering\n",
    "\n",
    "Elegir entre K-means y DBSCAN para realizar la segmentación.\n",
    "\n",
    "Si se elige K-means, se debe usar el método del codo para determinar el número óptimo de clusters."
   ]
  },
  {
   "cell_type": "code",
   "execution_count": 29,
   "metadata": {
    "id": "_FyfE6DP-8mp"
   },
   "outputs": [
    {
     "name": "stdout",
     "output_type": "stream",
     "text": [
      "Index(['age', ' workclass', ' fnlwgt', ' education', ' education-num',\n",
      "       ' marital-status', ' occupation', ' relationship', ' race', ' sex',\n",
      "       ' capital-gain', ' capital-loss', ' hours-per-week', ' native-country',\n",
      "       ' income', 'cluster'],\n",
      "      dtype='object')\n"
     ]
    },
    {
     "data": {
      "text/plain": [
       "KMeans(n_clusters=2, random_state=42)"
      ]
     },
     "execution_count": 29,
     "metadata": {},
     "output_type": "execute_result"
    }
   ],
   "source": [
    "\n",
    "# Verificar los nombres de las columnas en el DataFrame\n",
    "print(df.columns)\n",
    "\n",
    "# Seleccionar las variables numéricas\n",
    "numeric_features = ['age', ' fnlwgt', ' education-num', ' capital-gain', ' capital-loss', ' hours-per-week']\n",
    "\n",
    "\n",
    "X = df[numeric_features]\n",
    "\n",
    "# Escalar las variables numéricas\n",
    "scaler = StandardScaler()\n",
    "X_scaled = scaler.fit_transform(X)\n",
    "\n",
    "# Aplicar KMeans\n",
    "kmeans = KMeans(n_clusters=2, random_state=42)\n",
    "kmeans.fit(X_scaled)\n",
    "\n"
   ]
  },
  {
   "cell_type": "markdown",
   "metadata": {
    "id": "RMzryg8S--Vl"
   },
   "source": [
    "Paso 4: Incluir la Variable de Segmentación en el Conjunto de Datos\n",
    "\n",
    "Incluir la nueva columna de clusters generados como una variable adicional en el conjunto de datos. Es decir cree una nueva variable indicando el grupo de segmentación generado.\n"
   ]
  },
  {
   "cell_type": "code",
   "execution_count": 30,
   "metadata": {
    "id": "0B1_MTGk_G-i"
   },
   "outputs": [
    {
     "name": "stdout",
     "output_type": "stream",
     "text": [
      "   age          workclass   fnlwgt   education   education-num  \\\n",
      "0   39          State-gov    77516   Bachelors              13   \n",
      "1   50   Self-emp-not-inc    83311   Bachelors              13   \n",
      "2   38            Private   215646     HS-grad               9   \n",
      "3   53            Private   234721        11th               7   \n",
      "4   28            Private   338409   Bachelors              13   \n",
      "\n",
      "        marital-status          occupation    relationship    race      sex  \\\n",
      "0        Never-married        Adm-clerical   Not-in-family   White     Male   \n",
      "1   Married-civ-spouse     Exec-managerial         Husband   White     Male   \n",
      "2             Divorced   Handlers-cleaners   Not-in-family   White     Male   \n",
      "3   Married-civ-spouse   Handlers-cleaners         Husband   Black     Male   \n",
      "4   Married-civ-spouse      Prof-specialty            Wife   Black   Female   \n",
      "\n",
      "    capital-gain   capital-loss   hours-per-week  native-country  income  \\\n",
      "0           2174              0               40   United-States   <=50K   \n",
      "1              0              0               13   United-States   <=50K   \n",
      "2              0              0               40   United-States   <=50K   \n",
      "3              0              0               40   United-States   <=50K   \n",
      "4              0              0               40            Cuba   <=50K   \n",
      "\n",
      "   cluster  \n",
      "0        1  \n",
      "1        1  \n",
      "2        1  \n",
      "3        1  \n",
      "4        1  \n"
     ]
    }
   ],
   "source": [
    "# Obtener las etiquetas de los clusters\n",
    "labels = kmeans.labels_\n",
    "\n",
    "# Añadir las etiquetas al DataFrame original\n",
    "df['cluster'] = labels\n",
    "\n",
    "# Mostrar los primeros registros con las etiquetas de los clusters\n",
    "print(df.head())"
   ]
  },
  {
   "cell_type": "code",
   "execution_count": 41,
   "metadata": {},
   "outputs": [
    {
     "name": "stdout",
     "output_type": "stream",
     "text": [
      "Index(['age', ' workclass', ' fnlwgt', ' education', ' education-num',\n",
      "       ' marital-status', ' occupation', ' relationship', ' race', ' sex',\n",
      "       ' capital-gain', ' capital-loss', ' hours-per-week', ' native-country',\n",
      "       ' income', 'cluster'],\n",
      "      dtype='object')\n"
     ]
    },
    {
     "name": "stderr",
     "output_type": "stream",
     "text": [
      "c:\\Users\\nib1l\\anaconda3\\lib\\site-packages\\sklearn\\utils\\validation.py:1688: FutureWarning: Feature names only support names that are all strings. Got feature names with dtypes: ['int', 'str']. An error will be raised in 1.2.\n",
      "  warnings.warn(\n"
     ]
    },
    {
     "data": {
      "text/plain": [
       "KMeans(n_clusters=5, random_state=42)"
      ]
     },
     "execution_count": 41,
     "metadata": {},
     "output_type": "execute_result"
    }
   ],
   "source": [
    "\n",
    "# Verificar los nombres de las columnas en el DataFrame\n",
    "print(df.columns)\n",
    "\n",
    "# Seleccionar las variables numéricas\n",
    "numeric_features = ['age', ' fnlwgt', ' education-num', ' capital-gain', ' capital-loss', ' hours-per-week']\n",
    "\n",
    "\n",
    "X = df[numeric_features]\n",
    "\n",
    "# Escalar las variables numéricas\n",
    "scaler = StandardScaler()\n",
    "X_scaled = pd.DataFrame(scaler.fit_transform(X))\n",
    "X_scaled['cluster'] = df['cluster'] \n",
    "\n",
    "# Aplicar KMeans\n",
    "kmeans = KMeans(n_clusters=5, random_state=42)\n",
    "kmeans.fit(X_scaled)\n",
    "\n"
   ]
  },
  {
   "cell_type": "code",
   "execution_count": 42,
   "metadata": {},
   "outputs": [
    {
     "data": {
      "text/html": [
       "<div>\n",
       "<style scoped>\n",
       "    .dataframe tbody tr th:only-of-type {\n",
       "        vertical-align: middle;\n",
       "    }\n",
       "\n",
       "    .dataframe tbody tr th {\n",
       "        vertical-align: top;\n",
       "    }\n",
       "\n",
       "    .dataframe thead th {\n",
       "        text-align: right;\n",
       "    }\n",
       "</style>\n",
       "<table border=\"1\" class=\"dataframe\">\n",
       "  <thead>\n",
       "    <tr style=\"text-align: right;\">\n",
       "      <th></th>\n",
       "      <th>0</th>\n",
       "      <th>1</th>\n",
       "      <th>2</th>\n",
       "      <th>3</th>\n",
       "      <th>4</th>\n",
       "      <th>5</th>\n",
       "      <th>cluster</th>\n",
       "    </tr>\n",
       "  </thead>\n",
       "  <tbody>\n",
       "    <tr>\n",
       "      <th>0</th>\n",
       "      <td>0.030671</td>\n",
       "      <td>-1.063611</td>\n",
       "      <td>1.134739</td>\n",
       "      <td>0.148453</td>\n",
       "      <td>-0.21666</td>\n",
       "      <td>-0.035429</td>\n",
       "      <td>1</td>\n",
       "    </tr>\n",
       "    <tr>\n",
       "      <th>1</th>\n",
       "      <td>0.837109</td>\n",
       "      <td>-1.008707</td>\n",
       "      <td>1.134739</td>\n",
       "      <td>-0.145920</td>\n",
       "      <td>-0.21666</td>\n",
       "      <td>-2.222153</td>\n",
       "      <td>1</td>\n",
       "    </tr>\n",
       "    <tr>\n",
       "      <th>2</th>\n",
       "      <td>-0.042642</td>\n",
       "      <td>0.245079</td>\n",
       "      <td>-0.420060</td>\n",
       "      <td>-0.145920</td>\n",
       "      <td>-0.21666</td>\n",
       "      <td>-0.035429</td>\n",
       "      <td>1</td>\n",
       "    </tr>\n",
       "    <tr>\n",
       "      <th>3</th>\n",
       "      <td>1.057047</td>\n",
       "      <td>0.425801</td>\n",
       "      <td>-1.197459</td>\n",
       "      <td>-0.145920</td>\n",
       "      <td>-0.21666</td>\n",
       "      <td>-0.035429</td>\n",
       "      <td>1</td>\n",
       "    </tr>\n",
       "    <tr>\n",
       "      <th>4</th>\n",
       "      <td>-0.775768</td>\n",
       "      <td>1.408176</td>\n",
       "      <td>1.134739</td>\n",
       "      <td>-0.145920</td>\n",
       "      <td>-0.21666</td>\n",
       "      <td>-0.035429</td>\n",
       "      <td>1</td>\n",
       "    </tr>\n",
       "    <tr>\n",
       "      <th>...</th>\n",
       "      <td>...</td>\n",
       "      <td>...</td>\n",
       "      <td>...</td>\n",
       "      <td>...</td>\n",
       "      <td>...</td>\n",
       "      <td>...</td>\n",
       "      <td>...</td>\n",
       "    </tr>\n",
       "    <tr>\n",
       "      <th>32556</th>\n",
       "      <td>-0.849080</td>\n",
       "      <td>0.639741</td>\n",
       "      <td>0.746039</td>\n",
       "      <td>-0.145920</td>\n",
       "      <td>-0.21666</td>\n",
       "      <td>-0.197409</td>\n",
       "      <td>1</td>\n",
       "    </tr>\n",
       "    <tr>\n",
       "      <th>32557</th>\n",
       "      <td>0.103983</td>\n",
       "      <td>-0.335433</td>\n",
       "      <td>-0.420060</td>\n",
       "      <td>-0.145920</td>\n",
       "      <td>-0.21666</td>\n",
       "      <td>-0.035429</td>\n",
       "      <td>1</td>\n",
       "    </tr>\n",
       "    <tr>\n",
       "      <th>32558</th>\n",
       "      <td>1.423610</td>\n",
       "      <td>-0.358777</td>\n",
       "      <td>-0.420060</td>\n",
       "      <td>-0.145920</td>\n",
       "      <td>-0.21666</td>\n",
       "      <td>-0.035429</td>\n",
       "      <td>1</td>\n",
       "    </tr>\n",
       "    <tr>\n",
       "      <th>32559</th>\n",
       "      <td>-1.215643</td>\n",
       "      <td>0.110960</td>\n",
       "      <td>-0.420060</td>\n",
       "      <td>-0.145920</td>\n",
       "      <td>-0.21666</td>\n",
       "      <td>-1.655225</td>\n",
       "      <td>1</td>\n",
       "    </tr>\n",
       "    <tr>\n",
       "      <th>32560</th>\n",
       "      <td>0.983734</td>\n",
       "      <td>0.929893</td>\n",
       "      <td>-0.420060</td>\n",
       "      <td>1.888424</td>\n",
       "      <td>-0.21666</td>\n",
       "      <td>-0.035429</td>\n",
       "      <td>1</td>\n",
       "    </tr>\n",
       "  </tbody>\n",
       "</table>\n",
       "<p>32561 rows × 7 columns</p>\n",
       "</div>"
      ],
      "text/plain": [
       "              0         1         2         3        4         5  cluster\n",
       "0      0.030671 -1.063611  1.134739  0.148453 -0.21666 -0.035429        1\n",
       "1      0.837109 -1.008707  1.134739 -0.145920 -0.21666 -2.222153        1\n",
       "2     -0.042642  0.245079 -0.420060 -0.145920 -0.21666 -0.035429        1\n",
       "3      1.057047  0.425801 -1.197459 -0.145920 -0.21666 -0.035429        1\n",
       "4     -0.775768  1.408176  1.134739 -0.145920 -0.21666 -0.035429        1\n",
       "...         ...       ...       ...       ...      ...       ...      ...\n",
       "32556 -0.849080  0.639741  0.746039 -0.145920 -0.21666 -0.197409        1\n",
       "32557  0.103983 -0.335433 -0.420060 -0.145920 -0.21666 -0.035429        1\n",
       "32558  1.423610 -0.358777 -0.420060 -0.145920 -0.21666 -0.035429        1\n",
       "32559 -1.215643  0.110960 -0.420060 -0.145920 -0.21666 -1.655225        1\n",
       "32560  0.983734  0.929893 -0.420060  1.888424 -0.21666 -0.035429        1\n",
       "\n",
       "[32561 rows x 7 columns]"
      ]
     },
     "execution_count": 42,
     "metadata": {},
     "output_type": "execute_result"
    }
   ],
   "source": [
    "X_scaled"
   ]
  },
  {
   "cell_type": "code",
   "execution_count": 32,
   "metadata": {},
   "outputs": [
    {
     "data": {
      "text/plain": [
       "array([' <=50K', ' >50K'], dtype=object)"
      ]
     },
     "execution_count": 32,
     "metadata": {},
     "output_type": "execute_result"
    }
   ],
   "source": [
    "df[' income'].unique()"
   ]
  },
  {
   "cell_type": "markdown",
   "metadata": {
    "id": "oZLk_tGp_KPa"
   },
   "source": [
    "Paso 5: Dividir los Datos en Conjuntos de Entrenamiento y Prueba\n",
    "\n",
    "Dividir el conjunto de datos en train y test usando train_test_split."
   ]
  },
  {
   "cell_type": "code",
   "execution_count": 43,
   "metadata": {
    "id": "1oX4qOEW_Kvx"
   },
   "outputs": [
    {
     "name": "stdout",
     "output_type": "stream",
     "text": [
      "Tamaño del conjunto de entrenamiento: (26048, 6)\n",
      "Tamaño del conjunto de prueba: (6513, 6)\n"
     ]
    }
   ],
   "source": [
    "from sklearn.model_selection import train_test_split\n",
    "import numpy as np\n",
    "\n",
    "# Separar las características y la variable objetivo\n",
    "# Las características son las variables numéricas\n",
    "X = df[numeric_features]\n",
    "y = np.where(df[' income']==' >50K', 1, 0)\n",
    "\n",
    "# Dividir los datos en entrenamiento y prueba (80% entrenamiento, 20% prueba)\n",
    "X_train, X_test, y_train, y_test = train_test_split(X, y, test_size=0.2, random_state=42)\n",
    "\n",
    "# Mostrar las dimensiones de los conjuntos resultantes\n",
    "print(\"Tamaño del conjunto de entrenamiento:\", X_train.shape)\n",
    "print(\"Tamaño del conjunto de prueba:\", X_test.shape)"
   ]
  },
  {
   "cell_type": "markdown",
   "metadata": {
    "id": "_3wiJL1C_Nps"
   },
   "source": [
    "Paso 6: Entrenar el Modelo de Clasificación\n",
    "\n",
    "Entrenar un Random Forest Classifier para predecir si los ingresos son mayores o menores a 50 mil dólares."
   ]
  },
  {
   "cell_type": "code",
   "execution_count": 71,
   "metadata": {
    "id": "a5Xpg51q_Ptf"
   },
   "outputs": [
    {
     "data": {
      "text/plain": [
       "array([0, 1, 0, ..., 1, 0, 0])"
      ]
     },
     "execution_count": 71,
     "metadata": {},
     "output_type": "execute_result"
    }
   ],
   "source": [
    "clf = RandomForestClassifier(n_estimators=100, random_state=42)\n",
    "clf.fit(X_train, y_train)\n",
    "\n",
    "# Realizar predicciones en el conjunto de prueba\n",
    "y_pred = clf.predict(X_test)\n",
    "y_pred2 = np.where(clf.predict_proba(X_test)[:,1]>0.25,1,0)\n",
    "y_pred2\n"
   ]
  },
  {
   "cell_type": "markdown",
   "metadata": {
    "id": "oyOIF7PlAqF6"
   },
   "source": [
    "Paso 7: Obtención de resultados y métricas del modelo"
   ]
  },
  {
   "cell_type": "code",
   "execution_count": 72,
   "metadata": {
    "id": "G6AE6TGMAvpx"
   },
   "outputs": [
    {
     "name": "stdout",
     "output_type": "stream",
     "text": [
      "Exactitud: 0.8033164440350069\n",
      "Matriz de confusión:\n",
      " [[4430  512]\n",
      " [ 769  802]]\n",
      "Reporte de clasificación:\n",
      "               precision    recall  f1-score   support\n",
      "\n",
      "           0       0.85      0.90      0.87      4942\n",
      "           1       0.61      0.51      0.56      1571\n",
      "\n",
      "    accuracy                           0.80      6513\n",
      "   macro avg       0.73      0.70      0.71      6513\n",
      "weighted avg       0.79      0.80      0.80      6513\n",
      "\n"
     ]
    }
   ],
   "source": [
    "# Evaluar el modelo\n",
    "print(\"Exactitud:\", accuracy_score(y_test, y_pred))\n",
    "print(\"Matriz de confusión:\\n\", confusion_matrix(y_test, y_pred))\n",
    "print(\"Reporte de clasificación:\\n\", classification_report(y_test, y_pred))"
   ]
  },
  {
   "cell_type": "code",
   "execution_count": 73,
   "metadata": {},
   "outputs": [
    {
     "name": "stdout",
     "output_type": "stream",
     "text": [
      "Exactitud: 0.7520343927529556\n",
      "Matriz de confusión:\n",
      " [[3810 1132]\n",
      " [ 483 1088]]\n",
      "Reporte de clasificación:\n",
      "               precision    recall  f1-score   support\n",
      "\n",
      "           0       0.89      0.77      0.83      4942\n",
      "           1       0.49      0.69      0.57      1571\n",
      "\n",
      "    accuracy                           0.75      6513\n",
      "   macro avg       0.69      0.73      0.70      6513\n",
      "weighted avg       0.79      0.75      0.76      6513\n",
      "\n"
     ]
    }
   ],
   "source": [
    "# Evaluar el modelo\n",
    "print(\"Exactitud:\", accuracy_score(y_test, y_pred2))\n",
    "print(\"Matriz de confusión:\\n\", confusion_matrix(y_test, y_pred2))\n",
    "print(\"Reporte de clasificación:\\n\", classification_report(y_test, y_pred2))"
   ]
  },
  {
   "cell_type": "code",
   "execution_count": null,
   "metadata": {},
   "outputs": [],
   "source": []
  }
 ],
 "metadata": {
  "colab": {
   "authorship_tag": "ABX9TyNX8VOkYaF15eXFLmJ4iJQ8",
   "include_colab_link": true,
   "provenance": []
  },
  "kernelspec": {
   "display_name": "base",
   "language": "python",
   "name": "python3"
  },
  "language_info": {
   "codemirror_mode": {
    "name": "ipython",
    "version": 3
   },
   "file_extension": ".py",
   "mimetype": "text/x-python",
   "name": "python",
   "nbconvert_exporter": "python",
   "pygments_lexer": "ipython3",
   "version": "3.9.12"
  }
 },
 "nbformat": 4,
 "nbformat_minor": 0
}
