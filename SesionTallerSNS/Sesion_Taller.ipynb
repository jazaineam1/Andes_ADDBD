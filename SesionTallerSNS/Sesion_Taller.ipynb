{
  "nbformat": 4,
  "nbformat_minor": 0,
  "metadata": {
    "colab": {
      "provenance": [],
      "authorship_tag": "ABX9TyNX8VOkYaF15eXFLmJ4iJQ8",
      "include_colab_link": true
    },
    "kernelspec": {
      "name": "python3",
      "display_name": "Python 3"
    },
    "language_info": {
      "name": "python"
    }
  },
  "cells": [
    {
      "cell_type": "markdown",
      "metadata": {
        "id": "view-in-github",
        "colab_type": "text"
      },
      "source": [
        "<a href=\"https://colab.research.google.com/github/jazaineam1/Andes_ADDBD/blob/main/SesionTallerSNS/Sesion_Taller.ipynb\" target=\"_parent\"><img src=\"https://colab.research.google.com/assets/colab-badge.svg\" alt=\"Open In Colab\"/></a>"
      ]
    },
    {
      "cell_type": "code",
      "execution_count": null,
      "metadata": {
        "id": "pf8DClPw47j5"
      },
      "outputs": [],
      "source": []
    },
    {
      "cell_type": "markdown",
      "source": [
        "# ***Análisis de Datos y Big data***\n",
        "\n",
        "## ***Universidad de los Andes***\n",
        ">## **Dirección de Educación Continua.**\n",
        ">>## **Formación de habilidades escenciales.**\n",
        "\n",
        "![Imágen1](https://github.com/jazaineam1/Andes_ADDBD/blob/main/Imagenes/Presentaci%C3%B3n-removebg-preview.png?raw=true)\n",
        "\n"
      ],
      "metadata": {
        "id": "5c_1vcN94-m2"
      }
    },
    {
      "cell_type": "markdown",
      "source": [
        "### Taller 3\n",
        "\n",
        "\n",
        "\n",
        "\n",
        "En este taller, vamos a combinar dos técnicas fundamentales de aprendizaje automático: el clustering no supervisado y la clasificación supervisada. Primero, realizaremos una segmentación de clientes usando algoritmos de agrupamiento como K-means o DBSCAN, para identificar patrones en los datos sin tener en cuenta la variable de salida. Luego, usaremos esta nueva información (los segmentos generados) para mejorar la clasificación del ingreso de cada individuo, prediciendo si una persona gana menos o más de 50 mil dólares al año."
      ],
      "metadata": {
        "id": "l9ngoczL5ED9"
      }
    },
    {
      "cell_type": "markdown",
      "source": [
        "### Objetivos del Taller\n",
        "\n",
        "Aplicar técnicas de clustering para segmentar a los individuos en grupos homogéneos según varias características demográficas y financieras.\n",
        "\n",
        "Usar la información de los clusters generados como una nueva variable en un modelo de clasificación supervisada.\n",
        "\n",
        "Entrenar un modelo de clasificación para predecir si una persona tiene ingresos mayores o menores a 50 mil dólares.\n",
        "\n",
        "### Conjunto de Datos\n",
        "\n",
        "\n",
        "Consultar datos acá:[https://raw.githubusercontent.com/jazaineam1/Andes_ADDBD/refs/heads/main/SesionTallerSNS/income_evaluation.csv](https://raw.githubusercontent.com/jazaineam1/Andes_ADDBD/refs/heads/main/SesionTallerSNS/income_evaluation.csv)\n",
        "Vamos a utilizar un conjunto de datos real que contiene información demográfica y financiera de individuos, con variables como edad, nivel educativo, ocupación, horas trabajadas por semana, y la variable objetivo income (que representa si los ingresos son más de 50 mil dólares o menos de 50 mil dólares)."
      ],
      "metadata": {
        "id": "MdNfR4XY97tq"
      }
    },
    {
      "cell_type": "markdown",
      "source": [
        "Descripción de las Variables\n",
        "\n",
        "- age (edad): Edad del individuo (variable continua).\n",
        "\n",
        "- workclass (tipo de empleo): Tipo de empleo del individuo. Valores posibles: Privado, Autónomo-no-incorporado, Autónomo-incorporado, Gobierno-federal, Gobierno-local, Gobierno-estatal, Sin-pago, Nunca-trabajó.\n",
        "\n",
        "- fnlwgt (peso final): Peso muestral (variable continua).\n",
        "\n",
        "- education (nivel educativo): Nivel educativo alcanzado por el individuo. Valores posibles: Bachillerato, Alguna universidad, 11º grado, Graduado de secundaria, Escuela profesional, Título asociado académico, Título asociado vocacional, 9º grado, 7º-8º grado, 12º grado, Maestría, 1º-4º grado, 10º grado, Doctorado, 5º-6º grado, Preescolar.\n",
        "\n",
        "- education-num (número de años de educación): Número de años de educación (variable continua).\n",
        "\n",
        "- marital-status (estado civil): Estado civil del individuo. Valores posibles: Casado-cónyuge-civil, Divorciado, Nunca casado, Separado, Viudo, Casado-cónyuge-ausente, Casado-cónyuge-en-fuerzas-armadas.\n",
        "\n",
        "- occupation (ocupación): Ocupación del individuo. Valores posibles: Soporte técnico, Reparación artesanal, Otros servicios, Ventas, Ejecutivo-gerencial, Profesional-especialista, Manipuladores-limpiadores, Operador de máquinas-inspector, Administrativo-clerical, Agricultura-pesca, Transporte-mudanza, Servicio doméstico, Servicios de protección, Fuerzas Armadas.\n",
        "\n",
        "- relationship (relación): Relación familiar del individuo. Valores posibles: Esposa, Hijo propio, Esposo, No-en-familia, Otro pariente, Soltero.\n",
        "\n",
        "- race (raza): Raza del individuo. Valores posibles: Blanca, Asiático-Isleño del Pacífico, Indio Americano-Eskimal, Otro, Negra.\n",
        "\n",
        "- sex (sexo): Sexo del individuo. Valores posibles: Femenino, Masculino.\n",
        "\n",
        "- capital-gain (ganancia de capital): Ganancia de capital obtenida (variable continua).\n",
        "\n",
        "- capital-loss (pérdida de capital): Pérdida de capital sufrida (variable continua).\n",
        "\n",
        "- hours-per-week (horas por semana): Número de horas trabajadas por semana (variable continua).\n",
        "\n",
        "- native-country (país de origen): País de origen del individuo. Valores posibles: Estados Unidos, Camboya, Inglaterra, Puerto Rico, Canadá, Alemania, Dependencias de EE.UU. (Guam-USVI-etc), India, Japón, Grecia, Sur, China, Cuba, Irán, Honduras, Filipinas, Italia, Polonia, Jamaica, Vietnam, México, Portugal, Irlanda, Francia, República Dominicana, Laos, Ecuador, Taiwán, Haití, Colombia, Hungría, Guatemala, Nicaragua, Escocia, Tailandia, Yugoslavia, El Salvador, Trinidad y Tobago, Perú, Hong Kong, Países Bajos (Holanda).\n",
        "\n",
        "- income (ingreso): Variable objetivo que indica si el individuo gana más de 50 mil dólares o menos. Valores posibles: <=50K, >50K."
      ],
      "metadata": {
        "id": "33i6awDH-aAk"
      }
    },
    {
      "cell_type": "markdown",
      "source": [
        "Siga los siguientes pasos para solucionar el taller"
      ],
      "metadata": {
        "id": "JaSoj58j-tAf"
      }
    },
    {
      "cell_type": "markdown",
      "source": [
        "Paso 1: Importar Librerías y Conjunto de Datos"
      ],
      "metadata": {
        "id": "eXPx7v1F-wea"
      }
    },
    {
      "cell_type": "code",
      "source": [],
      "metadata": {
        "id": "Yd1_OfZD-ZSw"
      },
      "execution_count": null,
      "outputs": []
    },
    {
      "cell_type": "markdown",
      "source": [
        "Paso 2: Preprocesamiento de Datos\n",
        "\n",
        "Limpiar el conjunto de datos, manejar los valores nulos y convertir variables categóricas en variables dummies.\n",
        "\n",
        "Escalar las variables numéricas para que todas tengan la misma escala."
      ],
      "metadata": {
        "id": "Jg9RNFfY-0NZ"
      }
    },
    {
      "cell_type": "code",
      "source": [],
      "metadata": {
        "id": "s6oE4dB64_-K"
      },
      "execution_count": null,
      "outputs": []
    },
    {
      "cell_type": "markdown",
      "source": [
        "Paso 3: Aplicar Algoritmo de Clustering\n",
        "\n",
        "Elegir entre K-means y DBSCAN para realizar la segmentación.\n",
        "\n",
        "Si se elige K-means, se debe usar el método del codo para determinar el número óptimo de clusters."
      ],
      "metadata": {
        "id": "J0PPKLMr-704"
      }
    },
    {
      "cell_type": "code",
      "source": [],
      "metadata": {
        "id": "_FyfE6DP-8mp"
      },
      "execution_count": null,
      "outputs": []
    },
    {
      "cell_type": "markdown",
      "source": [
        "Paso 4: Incluir la Variable de Segmentación en el Conjunto de Datos\n",
        "\n",
        "Incluir la nueva columna de clusters generados como una variable adicional en el conjunto de datos. Es decir cree una nueva variable indicando el grupo de segmentación generado.\n"
      ],
      "metadata": {
        "id": "RMzryg8S--Vl"
      }
    },
    {
      "cell_type": "code",
      "source": [],
      "metadata": {
        "id": "0B1_MTGk_G-i"
      },
      "execution_count": null,
      "outputs": []
    },
    {
      "cell_type": "markdown",
      "source": [
        "Paso 5: Dividir los Datos en Conjuntos de Entrenamiento y Prueba\n",
        "\n",
        "Dividir el conjunto de datos en train y test usando train_test_split."
      ],
      "metadata": {
        "id": "oZLk_tGp_KPa"
      }
    },
    {
      "cell_type": "code",
      "source": [],
      "metadata": {
        "id": "1oX4qOEW_Kvx"
      },
      "execution_count": null,
      "outputs": []
    },
    {
      "cell_type": "markdown",
      "source": [
        "Paso 6: Entrenar el Modelo de Clasificación\n",
        "\n",
        "Entrenar un Random Forest Classifier para predecir si los ingresos son mayores o menores a 50 mil dólares."
      ],
      "metadata": {
        "id": "_3wiJL1C_Nps"
      }
    },
    {
      "cell_type": "code",
      "source": [],
      "metadata": {
        "id": "a5Xpg51q_Ptf"
      },
      "execution_count": null,
      "outputs": []
    },
    {
      "cell_type": "markdown",
      "source": [
        "Paso 7: Obtención de resultados y métricas del modelo"
      ],
      "metadata": {
        "id": "oyOIF7PlAqF6"
      }
    },
    {
      "cell_type": "code",
      "source": [],
      "metadata": {
        "id": "G6AE6TGMAvpx"
      },
      "execution_count": null,
      "outputs": []
    }
  ]
}