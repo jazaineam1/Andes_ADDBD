{
  "nbformat": 4,
  "nbformat_minor": 0,
  "metadata": {
    "colab": {
      "provenance": [],
      "include_colab_link": true
    },
    "kernelspec": {
      "name": "python3",
      "display_name": "Python 3"
    },
    "language_info": {
      "name": "python"
    }
  },
  "cells": [
    {
      "cell_type": "markdown",
      "metadata": {
        "id": "view-in-github",
        "colab_type": "text"
      },
      "source": [
        "<a href=\"https://colab.research.google.com/github/jazaineam1/Andes_ADDBD/blob/main/Sesion1/M1%20Clase%201%20Colab%20Pensamiento%20algor%C3%ADtmico%20-%20Elementos%20(3).ipynb\" target=\"_parent\"><img src=\"https://colab.research.google.com/assets/colab-badge.svg\" alt=\"Open In Colab\"/></a>"
      ]
    },
    {
      "cell_type": "markdown",
      "source": [
        "t#***Análisis de Datos y Big data***\n",
        "\n",
        "## ***Universidad de los Andes***\n",
        ">## **Dirección de Educación Continua.**\n",
        ">>## **Formación de habilidades escenciales.**\n",
        "\n",
        "![Imágen1](https://github.com/jazaineam1/Andes_ADDBD/blob/main/Imagenes/Presentaci%C3%B3n-removebg-preview.png?raw=true)\n",
        "\n",
        "![Imágen1](https://github.com/jazaineam1/Andes_ADDBD/blob/main/Imagenes/Presentaci%C3%B3n-removebg-preview.png?raw=true)\n",
        "\n",
        "**Ver la presentación  [acá](https://github.com/jazaineam1/Andes_ADDBD/raw/main/Sesion1/M1%20Clase%201%20Pensamiento%20algorítmico%20-%20Elementos%20(2).pptx)**\n",
        "\n",
        "##**Pensamiento algorítmico**"
      ],
      "metadata": {
        "id": "6rbRxEihXJqC"
      }
    },
    {
      "cell_type": "markdown",
      "source": [
        "## Elementos básicos de Python"
      ],
      "metadata": {
        "id": "G276XmfAbfbK"
      }
    },
    {
      "cell_type": "markdown",
      "source": [
        "### Sintaxis básica"
      ],
      "metadata": {
        "id": "B8hAJPjrezgj"
      }
    },
    {
      "cell_type": "markdown",
      "source": [
        "Recorderis: cuando queremos ejecutar algo en colab, presionamos el botón de reproducir/play a la izquierda. Intentemos con esta operación para mostrar algo en la pantalla:"
      ],
      "metadata": {
        "id": "H7Jh6uM9blQW"
      }
    },
    {
      "cell_type": "code",
      "execution_count": null,
      "metadata": {
        "id": "vKlup6L6Wgcd"
      },
      "outputs": [],
      "source": [
        "print(\"Así es como mostramos algo en la pantalla!\")"
      ]
    },
    {
      "cell_type": "markdown",
      "source": [
        "En Python, los grupos de código se definen con dos puntos. La indentación es MUY importante, porque define los grupos:"
      ],
      "metadata": {
        "id": "Ptf4nQZvb_VY"
      }
    },
    {
      "cell_type": "code",
      "source": [
        "if 5 > 2:\n",
        "  print(\"Este programa es sensato\")\n",
        "  print(\"Todo este código se corre porque 5 es mayor a 2\")\n",
        "  print(\"Todo esto hace parte del mismo grupo de código por la indentación a la izquierda\")\n",
        "\n",
        "if 5 < 2:\n",
        "  print(\"Este programa está loco\")\n",
        "  print(\"Todo esto no se corre porque 5 no es menor a 2\")\n",
        "  print(\"El grupito en entero de código no se corre\")"
      ],
      "metadata": {
        "id": "JTimmplab-qg"
      },
      "execution_count": null,
      "outputs": []
    },
    {
      "cell_type": "markdown",
      "source": [
        "Si escribimos inapropiadamente, por ejemplo, olvidamos indicar el grupo de código con indentación, Python nos devuelve un error (noormal):"
      ],
      "metadata": {
        "id": "oJE2Np8ZdlpH"
      }
    },
    {
      "cell_type": "code",
      "source": [
        "if 5 < 2:\n",
        "print(\"Todo bien todo bien\")"
      ],
      "metadata": {
        "id": "J4tzdZ9jeUO_"
      },
      "execution_count": null,
      "outputs": []
    },
    {
      "cell_type": "markdown",
      "source": [
        "Los errores se leen de abajo hacia arriba.\n",
        "Este es un **IndentationError**, es decir, un error de indentación.\n",
        "\n",
        "El tipo de error nos da pistas sobre en qué nos equivocamos."
      ],
      "metadata": {
        "id": "5Wdf7ehTebfS"
      }
    },
    {
      "cell_type": "markdown",
      "source": [
        "**Ejercicio:**\n",
        "\n",
        "Corregir el código de la celda anterior, para que ya no saque error."
      ],
      "metadata": {
        "id": "vb0ylmuaep01"
      }
    },
    {
      "cell_type": "markdown",
      "source": [
        "En Python también podemos hacer comentarios con #.\n",
        "\n",
        "Los comentarios no se ejecutan así estén en el código.\n",
        "\n",
        "A veces podemos probar varias líneas de código sin borrarlas, comentándola."
      ],
      "metadata": {
        "id": "1rYy14_HfBjn"
      }
    },
    {
      "cell_type": "code",
      "source": [
        "# Aquí no pasó nada"
      ],
      "metadata": {
        "id": "87kBJafZfkQU"
      },
      "execution_count": null,
      "outputs": []
    },
    {
      "cell_type": "markdown",
      "source": [
        "**Ejercicio**"
      ],
      "metadata": {
        "id": "l6kaaHn0fmUI"
      }
    },
    {
      "cell_type": "code",
      "source": [
        "print('Probemos a ver si este código sirve, si no sirve, volvamos esta línea un comentario)\n",
        "#print(\"Si no sirve, podemos probar este quitando el comentario a la izquierda\")"
      ],
      "metadata": {
        "id": "ttsj3FNDfOKF"
      },
      "execution_count": null,
      "outputs": []
    },
    {
      "cell_type": "markdown",
      "source": [
        "En Python existen valores lógicos representados con True y False. Se escriben con primera letra mayúscula:"
      ],
      "metadata": {
        "id": "H7FU7XJBj28u"
      }
    },
    {
      "cell_type": "code",
      "source": [
        "# Se colorean en azulito porque son palabras reservadas del lenguaje\n",
        "True\n",
        "False"
      ],
      "metadata": {
        "id": "v78ciTMzj7vo"
      },
      "execution_count": null,
      "outputs": []
    },
    {
      "cell_type": "markdown",
      "source": [
        "Si hacemos una pregunta, python nos devuelve un valor lógico. Los llamamos **Booleanos**:"
      ],
      "metadata": {
        "id": "duSoQwXmkBHj"
      }
    },
    {
      "cell_type": "code",
      "source": [
        "5 < 2"
      ],
      "metadata": {
        "id": "uaweVcTMkAjf"
      },
      "execution_count": null,
      "outputs": []
    },
    {
      "cell_type": "markdown",
      "source": [
        "### Almacenamiento de información"
      ],
      "metadata": {
        "id": "kgZHDBUxe1U4"
      }
    },
    {
      "cell_type": "markdown",
      "source": [
        "#### Variables"
      ],
      "metadata": {
        "id": "qKs9VyWxhmWG"
      }
    },
    {
      "cell_type": "markdown",
      "source": [
        "En Python, las variables las indicamos con asignación \"=\"\n",
        "\n",
        "Es útil que los nombres de las variables sean descriptivos para un código más legible"
      ],
      "metadata": {
        "id": "tR77gAltfvOc"
      }
    },
    {
      "cell_type": "code",
      "source": [
        "eadadDeJuan = 42"
      ],
      "metadata": {
        "id": "rL49eK_-fupU"
      },
      "execution_count": null,
      "outputs": []
    },
    {
      "cell_type": "markdown",
      "source": [
        "Las variables pueden contener texto"
      ],
      "metadata": {
        "id": "zl_O3B_MgA1S"
      }
    },
    {
      "cell_type": "code",
      "source": [
        "nombreDeLaCiudad = 'Bogotá'\n",
        "colorFavorito = \"Verde\""
      ],
      "metadata": {
        "id": "L-bcpr90gC6d"
      },
      "execution_count": null,
      "outputs": []
    },
    {
      "cell_type": "markdown",
      "source": [
        "A Python le da igual si usamos comillas simples o dobles. Algunos lenguajes son más celosos."
      ],
      "metadata": {
        "id": "nCuBY3uHgIIU"
      }
    },
    {
      "cell_type": "code",
      "source": [
        "alturaDeLaPersona = '160'\n",
        "alturaDeLaSilla = '30'"
      ],
      "metadata": {
        "id": "VGowMAAEgx78"
      },
      "execution_count": null,
      "outputs": []
    },
    {
      "cell_type": "markdown",
      "source": [
        "**Ejercicio:** Sume la altura de la persona y de la silla para ver cuánto es la altura cuando la persona se para sobre la silla:"
      ],
      "metadata": {
        "id": "mV5Hi7ykhCT0"
      }
    },
    {
      "cell_type": "code",
      "source": [
        "# Aquí podemos intentar mostrar en la pantalla la alturaDeLaPersona + alturaDeLaSilla\n"
      ],
      "metadata": {
        "id": "LwP1EOnzhLnd"
      },
      "execution_count": null,
      "outputs": []
    },
    {
      "cell_type": "markdown",
      "source": [
        "Para hacer una pregunta sobre una variable, usamos la operación lógica \"==\""
      ],
      "metadata": {
        "id": "aqzXGYSwkyI-"
      }
    },
    {
      "cell_type": "code",
      "source": [
        "alturaDeLaPersona == 160"
      ],
      "metadata": {
        "id": "jaJFfOoXk2f5"
      },
      "execution_count": null,
      "outputs": []
    },
    {
      "cell_type": "markdown",
      "source": [
        "Si usamos una variable que no existe, nos va a salir un error:"
      ],
      "metadata": {
        "id": "-hxJNICQk8Wj"
      }
    },
    {
      "cell_type": "code",
      "source": [
        "estaEsUnaVariableNueva + 2"
      ],
      "metadata": {
        "id": "Xq3nnhlAk7kl"
      },
      "execution_count": null,
      "outputs": []
    },
    {
      "cell_type": "markdown",
      "source": [
        "#### Grupos de información"
      ],
      "metadata": {
        "id": "x2isWCtlhjHs"
      }
    },
    {
      "cell_type": "markdown",
      "source": [
        "Las listas se definen con llaves"
      ],
      "metadata": {
        "id": "lmJmNJbbhq8D"
      }
    },
    {
      "cell_type": "code",
      "source": [
        "nombresDeLosNinios = ['Juan', 'María', 'Ramiro', 'Marta']\n",
        "print(nombresDeLosNinios)"
      ],
      "metadata": {
        "id": "KT0zzJyihtTV"
      },
      "execution_count": null,
      "outputs": []
    },
    {
      "cell_type": "markdown",
      "source": [
        "Podemos hacer cosas como agregarle elementos a la lista"
      ],
      "metadata": {
        "id": "_lczYYsQiGWS"
      }
    },
    {
      "cell_type": "code",
      "source": [
        "nombresDeLosNinios.append('Caro')\n",
        "print(nombresDeLosNinios)\n",
        "# Si corremos esta celda varias veces, Caro se agrega varias veces"
      ],
      "metadata": {
        "id": "KZQ1GzgPiIh4"
      },
      "execution_count": null,
      "outputs": []
    },
    {
      "cell_type": "markdown",
      "source": [
        "Podemos consultar el elemento en la posición TAL:"
      ],
      "metadata": {
        "id": "LJtsT3ksiZTi"
      }
    },
    {
      "cell_type": "code",
      "source": [
        "nombresDeLosNinios[3]"
      ],
      "metadata": {
        "id": "YAm13zLoicTl"
      },
      "execution_count": null,
      "outputs": []
    },
    {
      "cell_type": "markdown",
      "source": [
        "**¡Python cuenta desde cero!**"
      ],
      "metadata": {
        "id": "pCJIFeN9ifrb"
      }
    },
    {
      "cell_type": "markdown",
      "source": [
        "Las tuplas están ordenadas y no se pueden modificar"
      ],
      "metadata": {
        "id": "XCFuehJwh0cT"
      }
    },
    {
      "cell_type": "code",
      "source": [
        "coordenadas = (143,234)\n",
        "print(coordenadas)"
      ],
      "metadata": {
        "id": "dsnmInZ1h_BP"
      },
      "execution_count": null,
      "outputs": []
    },
    {
      "cell_type": "markdown",
      "source": [
        "Podemos consultar valores dentro de la tupla"
      ],
      "metadata": {
        "id": "z2fa7AfCinDB"
      }
    },
    {
      "cell_type": "code",
      "source": [
        "coordenadas[0]"
      ],
      "metadata": {
        "id": "etXda570ikL-"
      },
      "execution_count": null,
      "outputs": []
    },
    {
      "cell_type": "markdown",
      "source": [
        "Los conjuntos no tienen orden:"
      ],
      "metadata": {
        "id": "uuCVyR2fiEok"
      }
    },
    {
      "cell_type": "code",
      "source": [
        "conjuntoDeObras = {'Las Meninas', 'El Guernica', 'La noche estrellada'}\n",
        "print(conjuntoDeObras)"
      ],
      "metadata": {
        "id": "Dcm0faMGiqIi"
      },
      "execution_count": null,
      "outputs": []
    },
    {
      "cell_type": "code",
      "source": [
        "# Intentemos ver el elemento en la posición 1 del conjunto:\n",
        "conjuntoDeObras[1]"
      ],
      "metadata": {
        "id": "GlOKVJa_i5ae"
      },
      "execution_count": null,
      "outputs": []
    },
    {
      "cell_type": "markdown",
      "source": [
        "## Paquetes"
      ],
      "metadata": {
        "id": "UPIpwGyRe5zB"
      }
    },
    {
      "cell_type": "markdown",
      "source": [
        "Cuando queremos agregar \"operaciones básicas\" a nuestro lenguaje, podemos importar **paquetes**."
      ],
      "metadata": {
        "id": "NSrcQ4s3jLJj"
      }
    },
    {
      "cell_type": "code",
      "source": [
        "import pandas as pd"
      ],
      "metadata": {
        "id": "WjIYh1c7gYro"
      },
      "execution_count": null,
      "outputs": []
    },
    {
      "cell_type": "markdown",
      "source": [
        "Ahora podemos usar todos los comandos para manejar datos que tiene Pandas:"
      ],
      "metadata": {
        "id": "sZ4yroaFjUze"
      }
    },
    {
      "cell_type": "code",
      "source": [
        "datos = pd.DataFrame(nombresDeLosNinios)\n",
        "datos"
      ],
      "metadata": {
        "id": "q52AhePbjgxh"
      },
      "execution_count": null,
      "outputs": []
    },
    {
      "cell_type": "markdown",
      "source": [
        "**¡Ahora no es una lista!** sino un DataFrame de Pandas."
      ],
      "metadata": {
        "id": "KUVfmBZ5jrbB"
      }
    },
    {
      "cell_type": "markdown",
      "source": [
        "## Recapitulando\n",
        "En este cuadernillo vimos:\n",
        "\n",
        "\n",
        "*   Sintaxis básica de Python\n",
        "*   Variables\n",
        "*   Estructuras para grupos de información\n",
        "*   Importar paquetes como Pandas\n",
        "\n"
      ],
      "metadata": {
        "id": "Po6dNKTygVN4"
      }
    }
  ]
}